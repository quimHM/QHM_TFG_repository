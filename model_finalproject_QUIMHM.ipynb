{
  "nbformat": 4,
  "nbformat_minor": 0,
  "metadata": {
    "colab": {
      "name": "Copy of draft_ML_finalproject_QUIMHM.ipynb",
      "provenance": [],
      "collapsed_sections": [],
      "include_colab_link": true
    },
    "kernelspec": {
      "display_name": "Python 3",
      "language": "python",
      "name": "python3"
    },
    "language_info": {
      "codemirror_mode": {
        "name": "ipython",
        "version": 3
      },
      "file_extension": ".py",
      "mimetype": "text/x-python",
      "name": "python",
      "nbconvert_exporter": "python",
      "pygments_lexer": "ipython3",
      "version": "3.7.6"
    }
  },
  "cells": [
    {
      "cell_type": "markdown",
      "metadata": {
        "id": "view-in-github",
        "colab_type": "text"
      },
      "source": [
        "<a href=\"https://colab.research.google.com/github/quimHM/QHM_TFG_repository/blob/main/model_finalproject_QUIMHM.ipynb\" target=\"_parent\"><img src=\"https://colab.research.google.com/assets/colab-badge.svg\" alt=\"Open In Colab\"/></a>"
      ]
    },
    {
      "cell_type": "markdown",
      "metadata": {
        "id": "E61h1BI4OLQ4"
      },
      "source": [
        "# **PREDICTING UCI credit card approvals (and studying the BIAS in our data and model)**\n",
        "\n",
        "[Quim De Las Heras Molins (21123349)\n",
        "\n",
        "FINAL PROJECT CS401 -\n",
        "December 2021]\n",
        "\n",
        "Source of the dataset: \n",
        "https://archive.ics.uci.edu/ml/datasets/credit+approval"
      ]
    },
    {
      "cell_type": "code",
      "metadata": {
        "id": "KpzuLGmGpo2A"
      },
      "source": [
        "#IMPORTS AND NEEDED LIBRARIES\n",
        "import pandas as pd\n",
        "import numpy as np\n",
        "\n",
        "#DATA PREPARATION\n",
        "from sklearn.preprocessing import OneHotEncoder\n",
        "from sklearn.model_selection import train_test_split\n",
        "from sklearn.preprocessing import StandardScaler\n",
        "\n",
        "#MODEL TRAINING AND TESTING\n",
        "from sklearn.tree import DecisionTreeClassifier\n",
        "from sklearn.tree import export_graphviz\n",
        "from sklearn.linear_model import LogisticRegression\n",
        "from sklearn.metrics import confusion_matrix\n",
        "\n",
        "#BIAS ANALISIS\n",
        "import warnings; warnings.simplefilter('ignore')  # Fix NumPy issues.\n",
        "from sklearn.cluster import KMeans, MiniBatchKMeans\n",
        "from sklearn.metrics import silhouette_score\n",
        "from matplotlib import pyplot as plt\n",
        "\n",
        "#UNUSED IMPORTS FROM A2\n",
        "#import matplotlib.pyplot as plt\n",
        "#from sklearn.metrics import roc_curve,roc_auc_score\n",
        "\n",
        "#import tensorflow as tf\n",
        "#from tensorflow.keras.wrappers.scikit_learn import KerasClassifier"
      ],
      "execution_count": 937,
      "outputs": []
    },
    {
      "cell_type": "markdown",
      "metadata": {
        "id": "PHKpezrJdsIp"
      },
      "source": [
        "**DRIVE** MOUNTING (IN ORDER TO SOURCE THE INPUT DATASET FROM THE CLOUD)"
      ]
    },
    {
      "cell_type": "code",
      "metadata": {
        "colab": {
          "base_uri": "https://localhost:8080/"
        },
        "id": "Sg1oUiOVBacq",
        "outputId": "410c73c0-9fcb-445b-b44b-d5973db959f8"
      },
      "source": [
        "from google.colab import drive\n",
        "drive.mount('/content/drive')"
      ],
      "execution_count": 938,
      "outputs": [
        {
          "output_type": "stream",
          "name": "stdout",
          "text": [
            "Drive already mounted at /content/drive; to attempt to forcibly remount, call drive.mount(\"/content/drive\", force_remount=True).\n"
          ]
        }
      ]
    },
    {
      "cell_type": "markdown",
      "metadata": {
        "id": "HxqZYK7bd2kk"
      },
      "source": [
        "**IMPORTING** OF THE DATASET (EDITABLE TO CHANGE INPUT SOURCE ACCORDINGLY)"
      ]
    },
    {
      "cell_type": "code",
      "metadata": {
        "colab": {
          "base_uri": "https://localhost:8080/",
          "height": 202
        },
        "id": "uYM4mySapciZ",
        "outputId": "52689b0b-3ac5-4a80-c7e8-e80d3b6448c8"
      },
      "source": [
        "# Load dataset\n",
        "dataset0 = pd.read_csv('/content/drive/MyDrive/ML (maynooth)/FINAL PROJECT/credit.data', header=None)#TODO: COMMENT TO RUN LOCALY\n",
        "#dataset = pd.read_csv('/credit.data', header=None) #TODO: UNCOMMENT FOR LOCAL EXECUTION, IF INPUT IN THE SAME DIRECTORY\n",
        "\n",
        "# Inspect data and check correct reading \n",
        "dataset0.head()"
      ],
      "execution_count": 939,
      "outputs": [
        {
          "output_type": "execute_result",
          "data": {
            "text/html": [
              "\n",
              "  <div id=\"df-008421e1-ca32-4760-b8d9-1f8a25d73674\">\n",
              "    <div class=\"colab-df-container\">\n",
              "      <div>\n",
              "<style scoped>\n",
              "    .dataframe tbody tr th:only-of-type {\n",
              "        vertical-align: middle;\n",
              "    }\n",
              "\n",
              "    .dataframe tbody tr th {\n",
              "        vertical-align: top;\n",
              "    }\n",
              "\n",
              "    .dataframe thead th {\n",
              "        text-align: right;\n",
              "    }\n",
              "</style>\n",
              "<table border=\"1\" class=\"dataframe\">\n",
              "  <thead>\n",
              "    <tr style=\"text-align: right;\">\n",
              "      <th></th>\n",
              "      <th>0</th>\n",
              "      <th>1</th>\n",
              "      <th>2</th>\n",
              "      <th>3</th>\n",
              "      <th>4</th>\n",
              "      <th>5</th>\n",
              "      <th>6</th>\n",
              "      <th>7</th>\n",
              "      <th>8</th>\n",
              "      <th>9</th>\n",
              "      <th>10</th>\n",
              "      <th>11</th>\n",
              "      <th>12</th>\n",
              "      <th>13</th>\n",
              "      <th>14</th>\n",
              "      <th>15</th>\n",
              "    </tr>\n",
              "  </thead>\n",
              "  <tbody>\n",
              "    <tr>\n",
              "      <th>0</th>\n",
              "      <td>b</td>\n",
              "      <td>30.83</td>\n",
              "      <td>0.000</td>\n",
              "      <td>u</td>\n",
              "      <td>g</td>\n",
              "      <td>w</td>\n",
              "      <td>v</td>\n",
              "      <td>1.25</td>\n",
              "      <td>t</td>\n",
              "      <td>t</td>\n",
              "      <td>1</td>\n",
              "      <td>f</td>\n",
              "      <td>g</td>\n",
              "      <td>00202</td>\n",
              "      <td>0</td>\n",
              "      <td>+</td>\n",
              "    </tr>\n",
              "    <tr>\n",
              "      <th>1</th>\n",
              "      <td>a</td>\n",
              "      <td>58.67</td>\n",
              "      <td>4.460</td>\n",
              "      <td>u</td>\n",
              "      <td>g</td>\n",
              "      <td>q</td>\n",
              "      <td>h</td>\n",
              "      <td>3.04</td>\n",
              "      <td>t</td>\n",
              "      <td>t</td>\n",
              "      <td>6</td>\n",
              "      <td>f</td>\n",
              "      <td>g</td>\n",
              "      <td>00043</td>\n",
              "      <td>560</td>\n",
              "      <td>+</td>\n",
              "    </tr>\n",
              "    <tr>\n",
              "      <th>2</th>\n",
              "      <td>a</td>\n",
              "      <td>24.50</td>\n",
              "      <td>0.500</td>\n",
              "      <td>u</td>\n",
              "      <td>g</td>\n",
              "      <td>q</td>\n",
              "      <td>h</td>\n",
              "      <td>1.50</td>\n",
              "      <td>t</td>\n",
              "      <td>f</td>\n",
              "      <td>0</td>\n",
              "      <td>f</td>\n",
              "      <td>g</td>\n",
              "      <td>00280</td>\n",
              "      <td>824</td>\n",
              "      <td>+</td>\n",
              "    </tr>\n",
              "    <tr>\n",
              "      <th>3</th>\n",
              "      <td>b</td>\n",
              "      <td>27.83</td>\n",
              "      <td>1.540</td>\n",
              "      <td>u</td>\n",
              "      <td>g</td>\n",
              "      <td>w</td>\n",
              "      <td>v</td>\n",
              "      <td>3.75</td>\n",
              "      <td>t</td>\n",
              "      <td>t</td>\n",
              "      <td>5</td>\n",
              "      <td>t</td>\n",
              "      <td>g</td>\n",
              "      <td>00100</td>\n",
              "      <td>3</td>\n",
              "      <td>+</td>\n",
              "    </tr>\n",
              "    <tr>\n",
              "      <th>4</th>\n",
              "      <td>b</td>\n",
              "      <td>20.17</td>\n",
              "      <td>5.625</td>\n",
              "      <td>u</td>\n",
              "      <td>g</td>\n",
              "      <td>w</td>\n",
              "      <td>v</td>\n",
              "      <td>1.71</td>\n",
              "      <td>t</td>\n",
              "      <td>f</td>\n",
              "      <td>0</td>\n",
              "      <td>f</td>\n",
              "      <td>s</td>\n",
              "      <td>00120</td>\n",
              "      <td>0</td>\n",
              "      <td>+</td>\n",
              "    </tr>\n",
              "  </tbody>\n",
              "</table>\n",
              "</div>\n",
              "      <button class=\"colab-df-convert\" onclick=\"convertToInteractive('df-008421e1-ca32-4760-b8d9-1f8a25d73674')\"\n",
              "              title=\"Convert this dataframe to an interactive table.\"\n",
              "              style=\"display:none;\">\n",
              "        \n",
              "  <svg xmlns=\"http://www.w3.org/2000/svg\" height=\"24px\"viewBox=\"0 0 24 24\"\n",
              "       width=\"24px\">\n",
              "    <path d=\"M0 0h24v24H0V0z\" fill=\"none\"/>\n",
              "    <path d=\"M18.56 5.44l.94 2.06.94-2.06 2.06-.94-2.06-.94-.94-2.06-.94 2.06-2.06.94zm-11 1L8.5 8.5l.94-2.06 2.06-.94-2.06-.94L8.5 2.5l-.94 2.06-2.06.94zm10 10l.94 2.06.94-2.06 2.06-.94-2.06-.94-.94-2.06-.94 2.06-2.06.94z\"/><path d=\"M17.41 7.96l-1.37-1.37c-.4-.4-.92-.59-1.43-.59-.52 0-1.04.2-1.43.59L10.3 9.45l-7.72 7.72c-.78.78-.78 2.05 0 2.83L4 21.41c.39.39.9.59 1.41.59.51 0 1.02-.2 1.41-.59l7.78-7.78 2.81-2.81c.8-.78.8-2.07 0-2.86zM5.41 20L4 18.59l7.72-7.72 1.47 1.35L5.41 20z\"/>\n",
              "  </svg>\n",
              "      </button>\n",
              "      \n",
              "  <style>\n",
              "    .colab-df-container {\n",
              "      display:flex;\n",
              "      flex-wrap:wrap;\n",
              "      gap: 12px;\n",
              "    }\n",
              "\n",
              "    .colab-df-convert {\n",
              "      background-color: #E8F0FE;\n",
              "      border: none;\n",
              "      border-radius: 50%;\n",
              "      cursor: pointer;\n",
              "      display: none;\n",
              "      fill: #1967D2;\n",
              "      height: 32px;\n",
              "      padding: 0 0 0 0;\n",
              "      width: 32px;\n",
              "    }\n",
              "\n",
              "    .colab-df-convert:hover {\n",
              "      background-color: #E2EBFA;\n",
              "      box-shadow: 0px 1px 2px rgba(60, 64, 67, 0.3), 0px 1px 3px 1px rgba(60, 64, 67, 0.15);\n",
              "      fill: #174EA6;\n",
              "    }\n",
              "\n",
              "    [theme=dark] .colab-df-convert {\n",
              "      background-color: #3B4455;\n",
              "      fill: #D2E3FC;\n",
              "    }\n",
              "\n",
              "    [theme=dark] .colab-df-convert:hover {\n",
              "      background-color: #434B5C;\n",
              "      box-shadow: 0px 1px 3px 1px rgba(0, 0, 0, 0.15);\n",
              "      filter: drop-shadow(0px 1px 2px rgba(0, 0, 0, 0.3));\n",
              "      fill: #FFFFFF;\n",
              "    }\n",
              "  </style>\n",
              "\n",
              "      <script>\n",
              "        const buttonEl =\n",
              "          document.querySelector('#df-008421e1-ca32-4760-b8d9-1f8a25d73674 button.colab-df-convert');\n",
              "        buttonEl.style.display =\n",
              "          google.colab.kernel.accessAllowed ? 'block' : 'none';\n",
              "\n",
              "        async function convertToInteractive(key) {\n",
              "          const element = document.querySelector('#df-008421e1-ca32-4760-b8d9-1f8a25d73674');\n",
              "          const dataTable =\n",
              "            await google.colab.kernel.invokeFunction('convertToInteractive',\n",
              "                                                     [key], {});\n",
              "          if (!dataTable) return;\n",
              "\n",
              "          const docLinkHtml = 'Like what you see? Visit the ' +\n",
              "            '<a target=\"_blank\" href=https://colab.research.google.com/notebooks/data_table.ipynb>data table notebook</a>'\n",
              "            + ' to learn more about interactive tables.';\n",
              "          element.innerHTML = '';\n",
              "          dataTable['output_type'] = 'display_data';\n",
              "          await google.colab.output.renderOutput(dataTable, element);\n",
              "          const docLink = document.createElement('div');\n",
              "          docLink.innerHTML = docLinkHtml;\n",
              "          element.appendChild(docLink);\n",
              "        }\n",
              "      </script>\n",
              "    </div>\n",
              "  </div>\n",
              "  "
            ],
            "text/plain": [
              "  0      1      2  3  4  5  6     7  8  9   10 11 12     13   14 15\n",
              "0  b  30.83  0.000  u  g  w  v  1.25  t  t   1  f  g  00202    0  +\n",
              "1  a  58.67  4.460  u  g  q  h  3.04  t  t   6  f  g  00043  560  +\n",
              "2  a  24.50  0.500  u  g  q  h  1.50  t  f   0  f  g  00280  824  +\n",
              "3  b  27.83  1.540  u  g  w  v  3.75  t  t   5  t  g  00100    3  +\n",
              "4  b  20.17  5.625  u  g  w  v  1.71  t  f   0  f  s  00120    0  +"
            ]
          },
          "metadata": {},
          "execution_count": 939
        }
      ]
    },
    {
      "cell_type": "markdown",
      "metadata": {
        "id": "6y8R_v8ufS2t"
      },
      "source": [
        "# DATA **INSPECTION**"
      ]
    },
    {
      "cell_type": "markdown",
      "source": [
        "The dataset consists of 690 instances of 16 features (specifically we have float64, int64 and object data types).\n",
        "\n",
        "\n",
        "Some are numerical, spread across different apparent range widths, and some categorical, and have been transformed into meanngless symbols to protect the confidentiality of the data. However, this [blog by Ryan Khuhn](http://rstudio-pubs-static.s3.amazonaws.com/73039_9946de135c0a49daa7a0a9eda4a67a72.html#interpret-the-model-and-research-questions-answered) does offer us some insight on the probable labels that are been encoded:\n",
        "Gender, Age, Debt, Married, BankCustomer, EducationLevel, Ethnicity, YearsEmployed, PriorDefault, Employed, CreditScore, DriversLicense, Citizen, ZipCode, Income and finally the ApprovalStatus\n",
        "\n",
        "\n",
        "On first glance it could seem that no null or empty records exist in the dataframe but a closer inspection to some of the unique values of the non-numerical fetures quickly revealed that missing entries are filled with '?' symbols across the whole structure."
      ],
      "metadata": {
        "id": "XNIWoz6K138u"
      }
    },
    {
      "cell_type": "code",
      "metadata": {
        "id": "Eri9MUPSpiu6",
        "colab": {
          "base_uri": "https://localhost:8080/"
        },
        "outputId": "41073c7b-5e8a-4960-9d2e-92094f9e9c7f"
      },
      "source": [
        "# Print Dataframe information summary (100000 samples, no nulls, 10 features and 1 binary output label, different ranges for each feature)\n",
        "print(dataset0.describe())\n",
        "print(dataset0.info())\n",
        "somenonnumerical = [0,3,4,5,6]\n",
        "for i in range(16): print(i,len(pd.unique(dataset0[i])))"
      ],
      "execution_count": 940,
      "outputs": [
        {
          "output_type": "stream",
          "name": "stdout",
          "text": [
            "               2           7          10             14\n",
            "count  690.000000  690.000000  690.00000     690.000000\n",
            "mean     4.758725    2.223406    2.40000    1017.385507\n",
            "std      4.978163    3.346513    4.86294    5210.102598\n",
            "min      0.000000    0.000000    0.00000       0.000000\n",
            "25%      1.000000    0.165000    0.00000       0.000000\n",
            "50%      2.750000    1.000000    0.00000       5.000000\n",
            "75%      7.207500    2.625000    3.00000     395.500000\n",
            "max     28.000000   28.500000   67.00000  100000.000000\n",
            "<class 'pandas.core.frame.DataFrame'>\n",
            "RangeIndex: 690 entries, 0 to 689\n",
            "Data columns (total 16 columns):\n",
            " #   Column  Non-Null Count  Dtype  \n",
            "---  ------  --------------  -----  \n",
            " 0   0       690 non-null    object \n",
            " 1   1       690 non-null    object \n",
            " 2   2       690 non-null    float64\n",
            " 3   3       690 non-null    object \n",
            " 4   4       690 non-null    object \n",
            " 5   5       690 non-null    object \n",
            " 6   6       690 non-null    object \n",
            " 7   7       690 non-null    float64\n",
            " 8   8       690 non-null    object \n",
            " 9   9       690 non-null    object \n",
            " 10  10      690 non-null    int64  \n",
            " 11  11      690 non-null    object \n",
            " 12  12      690 non-null    object \n",
            " 13  13      690 non-null    object \n",
            " 14  14      690 non-null    int64  \n",
            " 15  15      690 non-null    object \n",
            "dtypes: float64(2), int64(2), object(12)\n",
            "memory usage: 86.4+ KB\n",
            "None\n",
            "0 3\n",
            "1 350\n",
            "2 215\n",
            "3 4\n",
            "4 4\n",
            "5 15\n",
            "6 10\n",
            "7 132\n",
            "8 2\n",
            "9 2\n",
            "10 23\n",
            "11 2\n",
            "12 3\n",
            "13 171\n",
            "14 240\n",
            "15 2\n"
          ]
        }
      ]
    },
    {
      "cell_type": "markdown",
      "metadata": {
        "id": "njFcFJIufbeE"
      },
      "source": [
        "# DATA **PREPARATION**"
      ]
    },
    {
      "cell_type": "markdown",
      "source": [
        "First of all...........[TO BE PROPERLY DEVELOPED]\n",
        "Deal with categorical features, empty entries, and unequal ranges.\n",
        "\n",
        "Also, train and test sets"
      ],
      "metadata": {
        "id": "kFSFKC0F7Sx1"
      }
    },
    {
      "cell_type": "code",
      "metadata": {
        "colab": {
          "base_uri": "https://localhost:8080/"
        },
        "id": "7lXJBS1QOLRC",
        "outputId": "5f97c8d4-d345-4868-8d57-47dafef215af"
      },
      "source": [
        "#original length and \"aparent\" null values\n",
        "print(len(dataset0.values))\n",
        "print(dataset0.isnull().values.sum())\n",
        "\n",
        "#unchanged length and real amount of null values\n",
        "dataset0 = dataset0.replace('?', np.nan)\n",
        "print(len(dataset0.values))\n",
        "print(dataset0.isnull().values.sum())\n",
        "\n",
        "#entries containing null values are currently droped \n",
        "#(other ways to deal with null values:https://towardsdatascience.com/6-different-ways-to-compensate-for-missing-values-data-imputation-with-examples-6022d9ca0779)\n",
        "dataset0=dataset0.dropna()\n",
        "print(len(dataset0.values))\n",
        "print(dataset0.isnull().values.sum())"
      ],
      "execution_count": 941,
      "outputs": [
        {
          "output_type": "stream",
          "name": "stdout",
          "text": [
            "690\n",
            "0\n",
            "690\n",
            "67\n",
            "653\n",
            "0\n"
          ]
        }
      ]
    },
    {
      "cell_type": "code",
      "source": [
        "#print(dataset0[15])"
      ],
      "metadata": {
        "id": "6-UY5WG6WKmv"
      },
      "execution_count": 942,
      "outputs": []
    },
    {
      "cell_type": "code",
      "metadata": {
        "id": "d0ETuXBrOLRE",
        "colab": {
          "base_uri": "https://localhost:8080/",
          "height": 71
        },
        "outputId": "4185a375-03e1-4dc7-c4b3-b52b8d748177"
      },
      "source": [
        "#features containing categorical values are currently encoded using OrdinalEncoder()\n",
        "#(other ways to deal with categorical features:https://pbpython.com/categorical-encoding.html)\n",
        "\n",
        "#target feature is \"encoded\" manually to ensure '+'=1, '-'=0\n",
        "dataset0[15].replace('+', 1.0, inplace=True)\n",
        "dataset0[15].replace('-', 0.0, inplace=True)\n",
        "\n",
        "\"\"\"\n",
        "sc = StandardScaler()\n",
        "encoders = {}\n",
        "\n",
        "for col in dataset.columns:\n",
        "    if dataset[col].dtype=='object':\n",
        "        ohe = OneHotEncoder() \n",
        "        dataset[col] = ohe.fit_transform(dataset[[col]]).toarray().tolist()\n",
        "        encoders[col] = ohe\n",
        "    else:\n",
        "        dataset[col] = sc.fit_transform(dataset[[col]])\n",
        "\"\"\"\n",
        "#print(X[:,0])"
      ],
      "execution_count": 943,
      "outputs": [
        {
          "output_type": "execute_result",
          "data": {
            "application/vnd.google.colaboratory.intrinsic+json": {
              "type": "string"
            },
            "text/plain": [
              "\"\\nsc = StandardScaler()\\nencoders = {}\\n\\nfor col in dataset.columns:\\n    if dataset[col].dtype=='object':\\n        ohe = OneHotEncoder() \\n        dataset[col] = ohe.fit_transform(dataset[[col]]).toarray().tolist()\\n        encoders[col] = ohe\\n    else:\\n        dataset[col] = sc.fit_transform(dataset[[col]])\\n\""
            ]
          },
          "metadata": {},
          "execution_count": 943
        }
      ]
    },
    {
      "cell_type": "code",
      "source": [
        "#print(dataset0[15].dtype)"
      ],
      "metadata": {
        "id": "QvCrfh7-WQKW"
      },
      "execution_count": 944,
      "outputs": []
    },
    {
      "cell_type": "code",
      "source": [
        "#This is (allegedly) the age of the applicant, treating it as a categorical string gives 99% accuracy but converting as a proper float 85% only...\n",
        "\n",
        "print(dataset0[1].dtype=='object')\n",
        "print(dataset0[1][0])\n",
        "dataset0[1] = dataset0[1].astype(float)\n",
        "print(dataset0[1].dtype=='object')\n",
        "print(dataset0[1][0])\n"
      ],
      "metadata": {
        "colab": {
          "base_uri": "https://localhost:8080/"
        },
        "id": "4woTbbecRSdU",
        "outputId": "4c20522d-8476-4401-8d44-2fb9b66d792f"
      },
      "execution_count": 945,
      "outputs": [
        {
          "output_type": "stream",
          "name": "stdout",
          "text": [
            "True\n",
            "30.83\n",
            "False\n",
            "30.83\n"
          ]
        }
      ]
    },
    {
      "cell_type": "code",
      "source": [
        "cat_col = []\n",
        "for col in dataset0.columns:\n",
        "  if dataset0[col].dtype=='object':\n",
        "    cat_col.append(col)\n",
        "one_hot_data = pd.get_dummies(dataset0[cat_col],drop_first=True)\n",
        "\n",
        "df_num = pd.DataFrame()\n",
        "for col in range(14):\n",
        "  if dataset0[col].dtype!='object':\n",
        "    df_num[col] = dataset0[col]\n",
        "\n",
        "dataset = pd.concat([df_num,one_hot_data],axis=1)\n"
      ],
      "metadata": {
        "id": "NbBImu58VOcz"
      },
      "execution_count": 946,
      "outputs": []
    },
    {
      "cell_type": "code",
      "source": [
        "print(len(dataset.columns))"
      ],
      "metadata": {
        "colab": {
          "base_uri": "https://localhost:8080/"
        },
        "id": "AqS7rm73Y7mf",
        "outputId": "e19cd7f4-9246-41b8-905b-f906b5b034b5"
      },
      "execution_count": 947,
      "outputs": [
        {
          "output_type": "stream",
          "name": "stdout",
          "text": [
            "198\n"
          ]
        }
      ]
    },
    {
      "cell_type": "code",
      "source": [
        "#for v in encoders.values():\n",
        "#  print(v.categories_)"
      ],
      "metadata": {
        "id": "3P7B5Rc8TrJk"
      },
      "execution_count": 948,
      "outputs": []
    },
    {
      "cell_type": "code",
      "metadata": {
        "colab": {
          "base_uri": "https://localhost:8080/"
        },
        "id": "xiuolDSupsLd",
        "outputId": "cdb4d968-14d8-4df3-b6fd-b5f6f0f8e040"
      },
      "source": [
        "# Separate features and labels into X and y\n",
        "#X, y = dataset.iloc[:, 0: 15].values, dataset[15].values\n",
        "X, y = dataset.values, dataset0[15].values\n",
        "#print(X)\n",
        "#print(y)\n",
        "# Input X features normalized, scaled to 0-1 range\n",
        "#sc = StandardScaler()\n",
        "#X = sc.fit_transform(X)\n",
        "# Split into train and test sets (to check against overfitting, 0.66-0.33 rate chosen, could be 0.8-0.2 etc)\n",
        "X_train, X_test, y_train, y_test = train_test_split(X, y, test_size = 0.2, random_state = 69)\n",
        "print(X_train.shape, X_test.shape, y_train.shape, y_test.shape)"
      ],
      "execution_count": 949,
      "outputs": [
        {
          "output_type": "stream",
          "name": "stdout",
          "text": [
            "(522, 198) (131, 198) (522,) (131,)\n"
          ]
        }
      ]
    },
    {
      "cell_type": "markdown",
      "metadata": {
        "id": "sKsyjgDffdEE"
      },
      "source": [
        "# MODEL **CONFIGURATION**"
      ]
    },
    {
      "cell_type": "code",
      "metadata": {
        "id": "noUVTzK-OLRG"
      },
      "source": [
        "logreg = LogisticRegression() #default values for now"
      ],
      "execution_count": 950,
      "outputs": []
    },
    {
      "cell_type": "markdown",
      "metadata": {
        "id": "UOp3WChqFd5I"
      },
      "source": [
        "MODEL **TRAINING**"
      ]
    },
    {
      "cell_type": "code",
      "source": [
        "logreg.fit(X_train, y_train)"
      ],
      "metadata": {
        "colab": {
          "base_uri": "https://localhost:8080/"
        },
        "id": "vBU5FIaiFb_u",
        "outputId": "a2d305a7-73d6-4bd9-f47b-a50378ca3664"
      },
      "execution_count": 951,
      "outputs": [
        {
          "output_type": "execute_result",
          "data": {
            "text/plain": [
              "LogisticRegression()"
            ]
          },
          "metadata": {},
          "execution_count": 951
        }
      ]
    },
    {
      "cell_type": "markdown",
      "source": [
        "ESTIMATOR **EVALUATION**"
      ],
      "metadata": {
        "id": "qpF5jDnHFwd9"
      }
    },
    {
      "cell_type": "code",
      "metadata": {
        "id": "J9fqtRqsOLRH",
        "colab": {
          "base_uri": "https://localhost:8080/"
        },
        "outputId": "d1622701-2b7c-40fd-d63b-927eafc4a005"
      },
      "source": [
        "y_pred = logreg.predict(X_test)\n",
        "print(\"Accuracy of logistic regression classifier: \", logreg.score(X_test, y_test))\n",
        "print(confusion_matrix(y_test, y_pred))"
      ],
      "execution_count": 952,
      "outputs": [
        {
          "output_type": "stream",
          "name": "stdout",
          "text": [
            "Accuracy of logistic regression classifier:  0.8778625954198473\n",
            "[[56 11]\n",
            " [ 5 59]]\n"
          ]
        }
      ]
    },
    {
      "cell_type": "code",
      "source": [
        "clf = DecisionTreeClassifier() #default values for now\n",
        "clf.fit(X_train, y_train)\n",
        "import graphviz \n",
        "dot_data = export_graphviz(clf, out_file=None) \n",
        "graph = graphviz.Source(dot_data) \n",
        "graph.render(\"graph\") "
      ],
      "metadata": {
        "colab": {
          "base_uri": "https://localhost:8080/",
          "height": 35
        },
        "id": "eTOIsjtNh_Kn",
        "outputId": "1a76c178-73cd-40fb-90b9-234a02f99ae7"
      },
      "execution_count": 953,
      "outputs": [
        {
          "output_type": "execute_result",
          "data": {
            "application/vnd.google.colaboratory.intrinsic+json": {
              "type": "string"
            },
            "text/plain": [
              "'graph.pdf'"
            ]
          },
          "metadata": {},
          "execution_count": 953
        }
      ]
    },
    {
      "cell_type": "code",
      "source": [
        "#print(y_test)"
      ],
      "metadata": {
        "id": "iOpLJqdhV-wd"
      },
      "execution_count": 954,
      "outputs": []
    },
    {
      "cell_type": "markdown",
      "source": [
        "# MODEL **BIAS** ANALYSIS"
      ],
      "metadata": {
        "id": "aQlbc9yKGgmA"
      }
    },
    {
      "cell_type": "markdown",
      "source": [
        "TRYING TO FIND AN APPROPIRATE K VALUE FOR CLUSTERING X ([both methods explored](https://medium.com/analytics-vidhya/how-to-determine-the-optimal-k-for-k-means-708505d204eb))"
      ],
      "metadata": {
        "id": "SnvYP6xuKlbF"
      }
    },
    {
      "cell_type": "code",
      "metadata": {
        "id": "RUcPSDGcLlVV"
      },
      "source": [
        "# fitting multiple k-means algorithms and storing the values in an empty list\n",
        "SSE = []\n",
        "sil = []\n",
        "kmeansLIST = []\n",
        "for k in range(2,15):\n",
        "    kmeansaux = KMeans(k,random_state=0) #MiniBatchKMeans(k)\n",
        "    kmeansaux.fit(X)\n",
        "\n",
        "    SSE.append(kmeansaux.inertia_)\n",
        "    sil.append(silhouette_score(X, kmeansaux.labels_, metric = 'euclidean'))\n",
        "    kmeansLIST.append(kmeansaux)\n",
        "\n",
        "# converting the results into a dataframe and plotting them\n",
        "frame = pd.DataFrame({'Cluster':range(2,15), 'SSE':SSE, 'Silhouette':sil})"
      ],
      "execution_count": 955,
      "outputs": []
    },
    {
      "cell_type": "markdown",
      "source": [
        "**(ELBOW METHOD)**"
      ],
      "metadata": {
        "id": "iipFrHBuTSgc"
      }
    },
    {
      "cell_type": "code",
      "source": [
        "plt.figure(figsize=(18,9))\n",
        "plt.plot(frame['Cluster'], frame['SSE'], marker='o')\n",
        "plt.xlabel('Number of clusters')\n",
        "plt.ylabel('Inertia')"
      ],
      "metadata": {
        "id": "xmfPo2yZSynM",
        "colab": {
          "base_uri": "https://localhost:8080/",
          "height": 568
        },
        "outputId": "7ee534a8-78cb-4042-c6bd-2e1c05a69ba9"
      },
      "execution_count": 956,
      "outputs": [
        {
          "output_type": "execute_result",
          "data": {
            "text/plain": [
              "Text(0, 0.5, 'Inertia')"
            ]
          },
          "metadata": {},
          "execution_count": 956
        },
        {
          "output_type": "display_data",
          "data": {
            "image/png": "[encoded data removed]",
            "text/plain": [
              "<Figure size 1296x648 with 1 Axes>"
            ]
          },
          "metadata": {
            "needs_background": "light"
          }
        }
      ]
    },
    {
      "cell_type": "markdown",
      "source": [
        "**(SILHOUETTE METHOD)**"
      ],
      "metadata": {
        "id": "nHHwxsZZTxTc"
      }
    },
    {
      "cell_type": "code",
      "source": [
        "plt.figure(figsize=(18,9))\n",
        "plt.plot(frame['Cluster'], frame['Silhouette'], marker='o')\n",
        "plt.xlabel('Number of clusters')\n",
        "plt.ylabel('Silhouette Score')"
      ],
      "metadata": {
        "id": "A7Gr32CiSzmc",
        "colab": {
          "base_uri": "https://localhost:8080/",
          "height": 568
        },
        "outputId": "72c306df-ccaf-4ce8-db9b-da03ec8f8fb1"
      },
      "execution_count": 957,
      "outputs": [
        {
          "output_type": "execute_result",
          "data": {
            "text/plain": [
              "Text(0, 0.5, 'Silhouette Score')"
            ]
          },
          "metadata": {},
          "execution_count": 957
        },
        {
          "output_type": "display_data",
          "data": {
            "image/png": "[encoded data removed]",
            "text/plain": [
              "<Figure size 1296x648 with 1 Axes>"
            ]
          },
          "metadata": {
            "needs_background": "light"
          }
        }
      ]
    },
    {
      "cell_type": "code",
      "source": [
        "k=7 #is the selected number of clusters for now\n",
        "#kmeansAlg = KMeans(k)\n",
        "#kmeansAlg.fit(X)\n",
        "\n",
        "kmeansAlg = kmeansLIST[k-2]"
      ],
      "metadata": {
        "id": "qDM7bKpuJa2e"
      },
      "execution_count": 958,
      "outputs": []
    },
    {
      "cell_type": "code",
      "metadata": {
        "id": "zsed0Y06Lp5y"
      },
      "source": [
        "def provideKlusteredX(kmeans,Xtok, Ytok):\n",
        "  labels = kmeans.predict(Xtok)\n",
        "  nk = kmeans.n_clusters\n",
        "  labelslist = labels.tolist()\n",
        "  print(len(labelslist))\n",
        "  sum=0\n",
        "  occurences=[0]*nk\n",
        "  clustered_X=[]\n",
        "  clustered_Y=[]\n",
        "\n",
        "  for i in range(nk):\n",
        "    clustered_X.append([])\n",
        "    clustered_Y.append([])\n",
        "\n",
        "  for i in range(len(labelslist)):\n",
        "    clustered_X[labelslist[i]].append(Xtok[i])\n",
        "    clustered_Y[labelslist[i]].append(Ytok[i])\n",
        "\n",
        "  for i in range(nk):\n",
        "    occurences[i]=labelslist.count(i)\n",
        "    sum+=labelslist.count(i)\n",
        "\n",
        "  plt.bar(range(nk),occurences)\n",
        "  return clustered_X,clustered_Y"
      ],
      "execution_count": 959,
      "outputs": []
    },
    {
      "cell_type": "code",
      "source": [
        "clustered_totalX,clustered_totalY = provideKlusteredX(kmeansAlg, X, y)"
      ],
      "metadata": {
        "id": "cAdv98ViVfuN",
        "colab": {
          "base_uri": "https://localhost:8080/",
          "height": 282
        },
        "outputId": "332c2a98-502a-4c70-d67d-abcf875a1066"
      },
      "execution_count": 960,
      "outputs": [
        {
          "output_type": "stream",
          "name": "stdout",
          "text": [
            "653\n"
          ]
        },
        {
          "output_type": "display_data",
          "data": {
            "image/png": "[encoded data removed]",
            "text/plain": [
              "<Figure size 432x288 with 1 Axes>"
            ]
          },
          "metadata": {
            "needs_background": "light"
          }
        }
      ]
    },
    {
      "cell_type": "code",
      "source": [
        "clustered_testX,clustered_testY = provideKlusteredX(kmeansAlg, X_test, y_test)"
      ],
      "metadata": {
        "id": "W7PfiIz2NbTH",
        "colab": {
          "base_uri": "https://localhost:8080/",
          "height": 282
        },
        "outputId": "18762bee-09c5-4f18-917e-089681346ddc"
      },
      "execution_count": 961,
      "outputs": [
        {
          "output_type": "stream",
          "name": "stdout",
          "text": [
            "131\n"
          ]
        },
        {
          "output_type": "display_data",
          "data": {
            "image/png": "[encoded data removed]",
            "text/plain": [
              "<Figure size 432x288 with 1 Axes>"
            ]
          },
          "metadata": {
            "needs_background": "light"
          }
        }
      ]
    },
    {
      "cell_type": "code",
      "metadata": {
        "id": "GrG8HTMdWuSQ",
        "colab": {
          "base_uri": "https://localhost:8080/",
          "height": 348
        },
        "outputId": "ddd5ca38-81d1-454d-9c66-ca1432b000d5"
      },
      "source": [
        "\"\"\"\n",
        "#SHOW COEFFICIENTS\n",
        "plt.imshow(logreg.coef_, interpolation='nearest')\n",
        "plt.show()\n",
        "print(pd.DataFrame(logreg.coef_).round(2))\n",
        "\n",
        "#SHOW CLUSTER CENTERS (NOT NECESSARILY REAL DATA)\n",
        "plt.imshow(kmeansAlg.cluster_centers_, interpolation='nearest')\n",
        "plt.show()\n",
        "print(pd.DataFrame(kmeansAlg.cluster_centers_).round(2))\n",
        "\"\"\""
      ],
      "execution_count": 970,
      "outputs": [
        {
          "output_type": "display_data",
          "data": {
            "image/png": "[encoded data removed]",
            "text/plain": [
              "<Figure size 432x288 with 1 Axes>"
            ]
          },
          "metadata": {
            "needs_background": "light"
          }
        },
        {
          "output_type": "stream",
          "name": "stdout",
          "text": [
            "    0     1     2     3     4     5    ...   192   193   194   195   196  197\n",
            "0 -0.01 -0.01  0.11  0.13  0.07 -0.67  ...  0.53 -0.17 -0.69  0.15 -0.78  0.0\n",
            "\n",
            "[1 rows x 198 columns]\n"
          ]
        },
        {
          "output_type": "display_data",
          "data": {
            "image/png": "[encoded data removed]",
            "text/plain": [
              "<Figure size 432x288 with 1 Axes>"
            ]
          },
          "metadata": {
            "needs_background": "light"
          }
        },
        {
          "output_type": "stream",
          "name": "stdout",
          "text": [
            "     0      1      2      3     4     5    ...   192   193   194   195   196   197\n",
            "0  32.43   2.48   1.79   0.90  0.74  0.73  ...  0.01  0.01 -0.00 -0.00 -0.00 -0.00\n",
            "1  22.75  11.08   1.38   1.98  0.58  0.79  ...  0.00  0.01  0.00  0.00  0.00  0.00\n",
            "2  41.04  20.25  14.86  53.50  1.00  0.50  ...  0.00  0.00  0.00  0.00  0.00  0.00\n",
            "3  57.81  11.62   5.98   5.98  0.66  0.92  ...  0.00  0.00  0.02  0.00  0.00  0.00\n",
            "4  44.78   3.10   3.06   1.45  0.71  0.80  ...  0.00  0.00  0.00  0.00  0.01  0.00\n",
            "5  34.93   6.49   4.99  10.87  0.78  0.87  ... -0.00 -0.00 -0.00 -0.00 -0.00 -0.00\n",
            "6  21.82   1.66   0.96   1.14  0.68  0.70  ... -0.00 -0.00 -0.00  0.01 -0.00  0.01\n",
            "\n",
            "[7 rows x 198 columns]\n"
          ]
        }
      ]
    },
    {
      "cell_type": "code",
      "metadata": {
        "id": "TRl-hPVpyikE"
      },
      "source": [
        "def StatsOnKlustered(totalX,clusteredX, clusteredY):\n",
        "  TOTALyes = 0\n",
        "  for i in range(len(clusteredY)):\n",
        "    TOTALyes += clusteredY[i].count(1.0)\n",
        "  TOTALno = len(totalX)-TOTALyes\n",
        "  presencerate = [] #instances of this type/total instances (in totalX)\n",
        "  approvalrate = [] #approval rate for this type\n",
        "  approvalcontributionrate = [] #approval for this type over the total n of approvals in totalX\n",
        "  for i in range(len(clusteredY)):\n",
        "    yes = clusteredY[i].count(1.0)\n",
        "    no = clusteredY[i].count(0.0)\n",
        "    instances = len(clusteredY[i])\n",
        "\n",
        "    #print(\"Approved:\",yes,\"// Denied: \",no)\n",
        "    presencerate.append(100*instances/len(totalX))\n",
        "    approvalrate.append(100*yes/max(1,instances))\n",
        "    approvalcontributionrate.append(100*yes/TOTALyes)\n",
        "    \n",
        "    print(\"Instance proportion:\",presencerate[i],\"// Approval rate:\",approvalrate[i],\"// Approval contribution:\",approvalcontributionrate[i])\n",
        "    print()\n",
        "  return presencerate,approvalrate,approvalcontributionrate"
      ],
      "execution_count": 963,
      "outputs": []
    },
    {
      "cell_type": "code",
      "source": [
        "presencerateTOTAL,approvalrateTOTAL,approvalcontributionrateTOTAL = StatsOnKlustered(X,clustered_totalX,clustered_totalY)"
      ],
      "metadata": {
        "id": "3WKDoFPCV2_M",
        "colab": {
          "base_uri": "https://localhost:8080/"
        },
        "outputId": "a42520ec-2eeb-4cdd-8d00-7fc31d78ef5f"
      },
      "execution_count": 964,
      "outputs": [
        {
          "output_type": "stream",
          "name": "stdout",
          "text": [
            "Instance proportion: 24.19601837672282 // Approval rate: 33.54430379746835 // Approval contribution: 17.905405405405407\n",
            "\n",
            "Instance proportion: 16.69218989280245 // Approval rate: 50.45871559633027 // Approval contribution: 18.58108108108108\n",
            "\n",
            "Instance proportion: 0.30627871362940273 // Approval rate: 100.0 // Approval contribution: 0.6756756756756757\n",
            "\n",
            "Instance proportion: 8.116385911179172 // Approval rate: 73.58490566037736 // Approval contribution: 13.175675675675675\n",
            "\n",
            "Instance proportion: 13.32312404287902 // Approval rate: 48.275862068965516 // Approval contribution: 14.18918918918919\n",
            "\n",
            "Instance proportion: 7.044410413476263 // Approval rate: 91.30434782608695 // Approval contribution: 14.18918918918919\n",
            "\n",
            "Instance proportion: 30.321592649310873 // Approval rate: 31.818181818181817 // Approval contribution: 21.283783783783782\n",
            "\n"
          ]
        }
      ]
    },
    {
      "cell_type": "code",
      "source": [
        "presencerateTEST,approvalrateTEST,approvalcontributionrateTEST = StatsOnKlustered(X_test,clustered_testX,clustered_testY)"
      ],
      "metadata": {
        "id": "NZVA-S5_W0nU",
        "colab": {
          "base_uri": "https://localhost:8080/"
        },
        "outputId": "5a92c9d5-0a52-4f50-d943-9854d4f38777"
      },
      "execution_count": 965,
      "outputs": [
        {
          "output_type": "stream",
          "name": "stdout",
          "text": [
            "Instance proportion: 25.19083969465649 // Approval rate: 33.333333333333336 // Approval contribution: 17.1875\n",
            "\n",
            "Instance proportion: 14.50381679389313 // Approval rate: 52.63157894736842 // Approval contribution: 15.625\n",
            "\n",
            "Instance proportion: 0.0 // Approval rate: 0.0 // Approval contribution: 0.0\n",
            "\n",
            "Instance proportion: 9.923664122137405 // Approval rate: 100.0 // Approval contribution: 20.3125\n",
            "\n",
            "Instance proportion: 13.740458015267176 // Approval rate: 38.888888888888886 // Approval contribution: 10.9375\n",
            "\n",
            "Instance proportion: 7.633587786259542 // Approval rate: 90.0 // Approval contribution: 14.0625\n",
            "\n",
            "Instance proportion: 29.00763358778626 // Approval rate: 36.8421052631579 // Approval contribution: 21.875\n",
            "\n"
          ]
        }
      ]
    },
    {
      "cell_type": "code",
      "metadata": {
        "id": "SnlG7gQtWs_R"
      },
      "source": [
        "def StatsOnKlusteredLogRegResults(logregAlg, totalX, clusteredX, clusteredY):\n",
        "  y_pred = logregAlg.predict(totalX)\n",
        "  TOTALyes = np.count_nonzero(y_pred == 1)\n",
        "  TOTALno = np.count_nonzero(y_pred == 0)\n",
        "  #COMPUTE ACCURACY OF THE MODEL FOR DIFFERENT CLUSTERS AND APPROVAL RATES\n",
        "  presencerate = [] #instances of this type/total test instances\n",
        "  approvalrate = [] #approval rate for this type\n",
        "  approvalcontributionrate = [] #approval for this type over the total n of approvals in totalX\n",
        "  accuracy = [] #logreg model accuracy per kluster\n",
        "  for i in range(len(clusteredX)):\n",
        "    if (len(clusteredX[i])>0):\n",
        "      y_pred = logregAlg.predict(clusteredX[i])\n",
        "      print(\"Accuracy of logistic regression classifier: \", logregAlg.score(clusteredX[i], clusteredY[i]))\n",
        "      accuracy.append(100*logregAlg.score(clusteredX[i], clusteredY[i]))\n",
        "    else:\n",
        "      y_pred = []\n",
        "      accuracy.append(0)\n",
        "\n",
        "    yes = np.count_nonzero(y_pred == 1)\n",
        "    no = np.count_nonzero(y_pred == 0)\n",
        "    instances = len(clusteredY[i])\n",
        "\n",
        "    presencerate.append(100*instances/max(1,len(totalX)))\n",
        "    approvalrate.append(100*yes/ max(1,instances))\n",
        "    approvalcontributionrate.append(100*yes/max(1,TOTALyes))\n",
        "\n",
        "    print(\"Instance proportion:\",presencerate[i],\"// Approval rate:\",approvalrate[i],\"// Approval contribution:\",approvalcontributionrate[i])\n",
        "    print()\n",
        "  return presencerate,approvalrate,approvalcontributionrate, accuracy"
      ],
      "execution_count": 966,
      "outputs": []
    },
    {
      "cell_type": "code",
      "source": [
        "presencerateTESTpred,approvalrateTESTpred,approvalcontributionrateTESTpred, accuracyperK = StatsOnKlusteredLogRegResults(logreg,X_test,clustered_testX,clustered_testY)"
      ],
      "metadata": {
        "id": "AfOIUwk9b6rT",
        "colab": {
          "base_uri": "https://localhost:8080/"
        },
        "outputId": "e77ea8b7-7119-47e1-e5bb-3e8071750b9a"
      },
      "execution_count": 967,
      "outputs": [
        {
          "output_type": "stream",
          "name": "stdout",
          "text": [
            "Accuracy of logistic regression classifier:  0.8181818181818182\n",
            "Instance proportion: 25.19083969465649 // Approval rate: 33.333333333333336 // Approval contribution: 15.714285714285714\n",
            "\n",
            "Accuracy of logistic regression classifier:  0.9473684210526315\n",
            "Instance proportion: 14.50381679389313 // Approval rate: 57.89473684210526 // Approval contribution: 15.714285714285714\n",
            "\n",
            "Instance proportion: 0.0 // Approval rate: 0.0 // Approval contribution: 0.0\n",
            "\n",
            "Accuracy of logistic regression classifier:  0.9230769230769231\n",
            "Instance proportion: 9.923664122137405 // Approval rate: 92.3076923076923 // Approval contribution: 17.142857142857142\n",
            "\n",
            "Accuracy of logistic regression classifier:  0.8333333333333334\n",
            "Instance proportion: 13.740458015267176 // Approval rate: 55.55555555555556 // Approval contribution: 14.285714285714286\n",
            "\n",
            "Accuracy of logistic regression classifier:  0.9\n",
            "Instance proportion: 7.633587786259542 // Approval rate: 100.0 // Approval contribution: 14.285714285714286\n",
            "\n",
            "Accuracy of logistic regression classifier:  0.8947368421052632\n",
            "Instance proportion: 29.00763358778626 // Approval rate: 42.10526315789474 // Approval contribution: 22.857142857142858\n",
            "\n"
          ]
        }
      ]
    },
    {
      "cell_type": "markdown",
      "source": [
        "# ACTUAL TEST Y"
      ],
      "metadata": {
        "id": "fhN9_pUYiSem"
      }
    },
    {
      "cell_type": "code",
      "metadata": {
        "id": "SiO9d38LVtPn",
        "colab": {
          "base_uri": "https://localhost:8080/",
          "height": 264
        },
        "outputId": "ade00ce0-4c9e-4e12-d5c0-eafc126ddedb"
      },
      "source": [
        "df = pd.DataFrame({'presence': presencerateTEST,\n",
        "                   'approval rate': approvalrateTEST,\n",
        "                   'contribution': approvalcontributionrateTEST}, index=range(k))\n",
        "ax = df.plot.bar(rot=0)"
      ],
      "execution_count": 968,
      "outputs": [
        {
          "output_type": "display_data",
          "data": {
            "image/png": "[encoded data removed]",
            "text/plain": [
              "<Figure size 432x288 with 1 Axes>"
            ]
          },
          "metadata": {
            "needs_background": "light"
          }
        }
      ]
    },
    {
      "cell_type": "markdown",
      "source": [
        "# PREDICTED TEST Y"
      ],
      "metadata": {
        "id": "fc_47FtLiM6M"
      }
    },
    {
      "cell_type": "code",
      "source": [
        "df = pd.DataFrame({'presence': presencerateTESTpred,\n",
        "                   'approval rate': approvalrateTESTpred,\n",
        "                   'contribution': approvalcontributionrateTESTpred,\n",
        "                   'accuracy': accuracyperK}, index=range(k))\n",
        "ax = df.plot.bar(rot=0)"
      ],
      "metadata": {
        "id": "XhHCr3EMc2R7",
        "colab": {
          "base_uri": "https://localhost:8080/",
          "height": 264
        },
        "outputId": "3813d00f-14ed-4155-c510-f075d6c20ef0"
      },
      "execution_count": 969,
      "outputs": [
        {
          "output_type": "display_data",
          "data": {
            "image/png": "[encoded data removed]",
            "text/plain": [
              "<Figure size 432x288 with 1 Axes>"
            ]
          },
          "metadata": {
            "needs_background": "light"
          }
        }
      ]
    },
    {
      "cell_type": "markdown",
      "source": [
        "## **QUICK GENERAL OBSERVATIONS TO DEVELOP AND FURTHER SUPPORT:**\n",
        "\n",
        "It seems that for different \"profiles\" of clients the model that has been learned about the whole dataset performs less reliably than for others (red bars in last plot, some 100% accuracy and some 68%, when the overall is supposed to be 87%).\n",
        "\n",
        "This could become a problem if said model was left in charge of screening applicants' submissions as it would judge more fairly and consistently some clusters of customers than other, where it could behave more arbitrarily.\n",
        "\n",
        "This, then, doesn't tell us about bias being present in the database directly, but in the model we trained.\n",
        "\n",
        "Still, about bias in the dataset, this could be said:\n",
        "Although it is clear than some clusters are more \"approved\" than others, this is absolutely to be expected. The problem, then, would reside in wheter the reasons behind these differences weren't just financial in nature. For this we should look at the weights developed by the model to ascertain what features are being given more rellevance. Currently \"Income\" is given the most importance, which seems reasonable. Further analysis is needed, and even so possible errors in that regard could still point again to a bad model (poor encoding choice, inexistent feature-selection process...) and not necessarily to biased source data (prejudice-based decision-making by the real bank)."
      ],
      "metadata": {
        "id": "Plul_JC8ctdE"
      }
    }
  ]
}