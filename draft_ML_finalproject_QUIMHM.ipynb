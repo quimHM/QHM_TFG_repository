{
  "nbformat": 4,
  "nbformat_minor": 0,
  "metadata": {
    "colab": {
      "name": "draft_ML_finalproject_QUIMHM.ipynb",
      "provenance": [],
      "collapsed_sections": [],
      "include_colab_link": true
    },
    "kernelspec": {
      "display_name": "Python 3",
      "language": "python",
      "name": "python3"
    },
    "language_info": {
      "codemirror_mode": {
        "name": "ipython",
        "version": 3
      },
      "file_extension": ".py",
      "mimetype": "text/x-python",
      "name": "python",
      "nbconvert_exporter": "python",
      "pygments_lexer": "ipython3",
      "version": "3.7.6"
    }
  },
  "cells": [
    {
      "cell_type": "markdown",
      "metadata": {
        "id": "view-in-github",
        "colab_type": "text"
      },
      "source": [
        "<a href=\"https://colab.research.google.com/github/quimHM/QHM_TFG_repository/blob/main/draft_ML_finalproject_QUIMHM.ipynb\" target=\"_parent\"><img src=\"https://colab.research.google.com/assets/colab-badge.svg\" alt=\"Open In Colab\"/></a>"
      ]
    },
    {
      "cell_type": "markdown",
      "metadata": {
        "id": "E61h1BI4OLQ4"
      },
      "source": [
        "# **PREDICTING UCI credit card approvals (and studying the BIAS in our data and model)**\n",
        "\n",
        "[Quim De Las Heras Molins (21123349)\n",
        "\n",
        "FINAL PROJECT CS401 -\n",
        "December 2021]\n",
        "\n",
        "Source of the dataset: \n",
        "https://archive.ics.uci.edu/ml/datasets/credit+approval"
      ]
    },
    {
      "cell_type": "code",
      "metadata": {
        "id": "KpzuLGmGpo2A"
      },
      "source": [
        "#IMPORTS AND NEEDED LIBRARIES\n",
        "import pandas as pd\n",
        "import numpy as np\n",
        "\n",
        "#DATA PREPARATION\n",
        "from sklearn.preprocessing import OrdinalEncoder\n",
        "from sklearn.model_selection import train_test_split\n",
        "from sklearn.preprocessing import StandardScaler\n",
        "\n",
        "#MODEL TRAINING AND TESTING\n",
        "from sklearn.linear_model import LogisticRegression\n",
        "from sklearn.metrics import confusion_matrix\n",
        "\n",
        "#BIAS ANALISIS\n",
        "import warnings; warnings.simplefilter('ignore')  # Fix NumPy issues.\n",
        "from sklearn.cluster import KMeans, MiniBatchKMeans\n",
        "from sklearn.metrics import silhouette_score\n",
        "from matplotlib import pyplot as plt\n",
        "\n",
        "#UNUSED IMPORTS FROM A2\n",
        "#import matplotlib.pyplot as plt\n",
        "#from sklearn.metrics import roc_curve,roc_auc_score\n",
        "\n",
        "#import tensorflow as tf\n",
        "#from tensorflow.keras.wrappers.scikit_learn import KerasClassifier"
      ],
      "execution_count": null,
      "outputs": []
    },
    {
      "cell_type": "markdown",
      "metadata": {
        "id": "PHKpezrJdsIp"
      },
      "source": [
        "**DRIVE** MOUNTING (IN ORDER TO SOURCE THE INPUT DATASET FROM THE CLOUD)"
      ]
    },
    {
      "cell_type": "code",
      "metadata": {
        "colab": {
          "base_uri": "https://localhost:8080/"
        },
        "id": "Sg1oUiOVBacq",
        "outputId": "6fa09da6-bb8d-4304-e268-40362eaa1f78"
      },
      "source": [
        "from google.colab import drive\n",
        "drive.mount('/content/drive')"
      ],
      "execution_count": null,
      "outputs": [
        {
          "output_type": "stream",
          "name": "stdout",
          "text": [
            "Drive already mounted at /content/drive; to attempt to forcibly remount, call drive.mount(\"/content/drive\", force_remount=True).\n"
          ]
        }
      ]
    },
    {
      "cell_type": "markdown",
      "metadata": {
        "id": "HxqZYK7bd2kk"
      },
      "source": [
        "**IMPORTING** OF THE DATASET (EDITABLE TO CHANGE INPUT SOURCE ACCORDINGLY)"
      ]
    },
    {
      "cell_type": "code",
      "metadata": {
        "colab": {
          "base_uri": "https://localhost:8080/",
          "height": 207
        },
        "id": "uYM4mySapciZ",
        "outputId": "1699a50f-baa9-4f73-bc4c-9cc21eda66fe"
      },
      "source": [
        "# Load dataset\n",
        "dataset = pd.read_csv('/content/drive/MyDrive/ML (maynooth)/FINAL PROJECT/credit.data', header=None)#TODO: COMMENT TO RUN LOCALY\n",
        "#dataset = pd.read_csv('/credit.data', header=None) #TODO: UNCOMMENT FOR LOCAL EXECUTION, IF INPUT IN THE SAME DIRECTORY\n",
        "\n",
        "# Inspect data and check correct reading \n",
        "dataset.head()"
      ],
      "execution_count": null,
      "outputs": [
        {
          "output_type": "execute_result",
          "data": {
            "text/html": [
              "<div>\n",
              "<style scoped>\n",
              "    .dataframe tbody tr th:only-of-type {\n",
              "        vertical-align: middle;\n",
              "    }\n",
              "\n",
              "    .dataframe tbody tr th {\n",
              "        vertical-align: top;\n",
              "    }\n",
              "\n",
              "    .dataframe thead th {\n",
              "        text-align: right;\n",
              "    }\n",
              "</style>\n",
              "<table border=\"1\" class=\"dataframe\">\n",
              "  <thead>\n",
              "    <tr style=\"text-align: right;\">\n",
              "      <th></th>\n",
              "      <th>0</th>\n",
              "      <th>1</th>\n",
              "      <th>2</th>\n",
              "      <th>3</th>\n",
              "      <th>4</th>\n",
              "      <th>5</th>\n",
              "      <th>6</th>\n",
              "      <th>7</th>\n",
              "      <th>8</th>\n",
              "      <th>9</th>\n",
              "      <th>10</th>\n",
              "      <th>11</th>\n",
              "      <th>12</th>\n",
              "      <th>13</th>\n",
              "      <th>14</th>\n",
              "      <th>15</th>\n",
              "    </tr>\n",
              "  </thead>\n",
              "  <tbody>\n",
              "    <tr>\n",
              "      <th>0</th>\n",
              "      <td>b</td>\n",
              "      <td>30.83</td>\n",
              "      <td>0.000</td>\n",
              "      <td>u</td>\n",
              "      <td>g</td>\n",
              "      <td>w</td>\n",
              "      <td>v</td>\n",
              "      <td>1.25</td>\n",
              "      <td>t</td>\n",
              "      <td>t</td>\n",
              "      <td>1</td>\n",
              "      <td>f</td>\n",
              "      <td>g</td>\n",
              "      <td>00202</td>\n",
              "      <td>0</td>\n",
              "      <td>+</td>\n",
              "    </tr>\n",
              "    <tr>\n",
              "      <th>1</th>\n",
              "      <td>a</td>\n",
              "      <td>58.67</td>\n",
              "      <td>4.460</td>\n",
              "      <td>u</td>\n",
              "      <td>g</td>\n",
              "      <td>q</td>\n",
              "      <td>h</td>\n",
              "      <td>3.04</td>\n",
              "      <td>t</td>\n",
              "      <td>t</td>\n",
              "      <td>6</td>\n",
              "      <td>f</td>\n",
              "      <td>g</td>\n",
              "      <td>00043</td>\n",
              "      <td>560</td>\n",
              "      <td>+</td>\n",
              "    </tr>\n",
              "    <tr>\n",
              "      <th>2</th>\n",
              "      <td>a</td>\n",
              "      <td>24.50</td>\n",
              "      <td>0.500</td>\n",
              "      <td>u</td>\n",
              "      <td>g</td>\n",
              "      <td>q</td>\n",
              "      <td>h</td>\n",
              "      <td>1.50</td>\n",
              "      <td>t</td>\n",
              "      <td>f</td>\n",
              "      <td>0</td>\n",
              "      <td>f</td>\n",
              "      <td>g</td>\n",
              "      <td>00280</td>\n",
              "      <td>824</td>\n",
              "      <td>+</td>\n",
              "    </tr>\n",
              "    <tr>\n",
              "      <th>3</th>\n",
              "      <td>b</td>\n",
              "      <td>27.83</td>\n",
              "      <td>1.540</td>\n",
              "      <td>u</td>\n",
              "      <td>g</td>\n",
              "      <td>w</td>\n",
              "      <td>v</td>\n",
              "      <td>3.75</td>\n",
              "      <td>t</td>\n",
              "      <td>t</td>\n",
              "      <td>5</td>\n",
              "      <td>t</td>\n",
              "      <td>g</td>\n",
              "      <td>00100</td>\n",
              "      <td>3</td>\n",
              "      <td>+</td>\n",
              "    </tr>\n",
              "    <tr>\n",
              "      <th>4</th>\n",
              "      <td>b</td>\n",
              "      <td>20.17</td>\n",
              "      <td>5.625</td>\n",
              "      <td>u</td>\n",
              "      <td>g</td>\n",
              "      <td>w</td>\n",
              "      <td>v</td>\n",
              "      <td>1.71</td>\n",
              "      <td>t</td>\n",
              "      <td>f</td>\n",
              "      <td>0</td>\n",
              "      <td>f</td>\n",
              "      <td>s</td>\n",
              "      <td>00120</td>\n",
              "      <td>0</td>\n",
              "      <td>+</td>\n",
              "    </tr>\n",
              "  </tbody>\n",
              "</table>\n",
              "</div>"
            ],
            "text/plain": [
              "  0      1      2  3  4  5  6     7  8  9   10 11 12     13   14 15\n",
              "0  b  30.83  0.000  u  g  w  v  1.25  t  t   1  f  g  00202    0  +\n",
              "1  a  58.67  4.460  u  g  q  h  3.04  t  t   6  f  g  00043  560  +\n",
              "2  a  24.50  0.500  u  g  q  h  1.50  t  f   0  f  g  00280  824  +\n",
              "3  b  27.83  1.540  u  g  w  v  3.75  t  t   5  t  g  00100    3  +\n",
              "4  b  20.17  5.625  u  g  w  v  1.71  t  f   0  f  s  00120    0  +"
            ]
          },
          "metadata": {},
          "execution_count": 582
        }
      ]
    },
    {
      "cell_type": "markdown",
      "metadata": {
        "id": "6y8R_v8ufS2t"
      },
      "source": [
        "# DATA **INSPECTION**"
      ]
    },
    {
      "cell_type": "markdown",
      "source": [
        "The dataset consists of 690 instances of 16 features (specifically we have float64, int64 and object data types).\n",
        "\n",
        "\n",
        "Some are numerical, spread across different apparent range widths, and some categorical, and have been transformed into meanngless symbols to protect the confidentiality of the data. However, this [blog by Ryan Khuhn](http://rstudio-pubs-static.s3.amazonaws.com/73039_9946de135c0a49daa7a0a9eda4a67a72.html#interpret-the-model-and-research-questions-answered) does offer us some insight on the probable labels that are been encoded:\n",
        "Gender, Age, Debt, Married, BankCustomer, EducationLevel, Ethnicity, YearsEmployed, PriorDefault, Employed, CreditScore, DriversLicense, Citizen, ZipCode, Income and finally the ApprovalStatus\n",
        "\n",
        "\n",
        "On first glance it could seem that no null or empty records exist in the dataframe but a closer inspection to some of the unique values of the non-numerical fetures quickly revealed that missing entries are filled with '?' symbols across the whole structure."
      ],
      "metadata": {
        "id": "XNIWoz6K138u"
      }
    },
    {
      "cell_type": "code",
      "metadata": {
        "id": "Eri9MUPSpiu6",
        "colab": {
          "base_uri": "https://localhost:8080/"
        },
        "outputId": "69e7399f-1fd2-48e5-c4de-f0ae19a6ecbc"
      },
      "source": [
        "# Print Dataframe information summary (100000 samples, no nulls, 10 features and 1 binary output label, different ranges for each feature)\n",
        "print(dataset.describe())\n",
        "print(dataset.info())\n",
        "somenonnumerical = [0,3,4,5,6]\n",
        "for i in somenonnumerical: print(i,pd.unique(dataset[i]))"
      ],
      "execution_count": null,
      "outputs": [
        {
          "output_type": "stream",
          "name": "stdout",
          "text": [
            "               2           7          10             14\n",
            "count  690.000000  690.000000  690.00000     690.000000\n",
            "mean     4.758725    2.223406    2.40000    1017.385507\n",
            "std      4.978163    3.346513    4.86294    5210.102598\n",
            "min      0.000000    0.000000    0.00000       0.000000\n",
            "25%      1.000000    0.165000    0.00000       0.000000\n",
            "50%      2.750000    1.000000    0.00000       5.000000\n",
            "75%      7.207500    2.625000    3.00000     395.500000\n",
            "max     28.000000   28.500000   67.00000  100000.000000\n",
            "<class 'pandas.core.frame.DataFrame'>\n",
            "RangeIndex: 690 entries, 0 to 689\n",
            "Data columns (total 16 columns):\n",
            " #   Column  Non-Null Count  Dtype  \n",
            "---  ------  --------------  -----  \n",
            " 0   0       690 non-null    object \n",
            " 1   1       690 non-null    object \n",
            " 2   2       690 non-null    float64\n",
            " 3   3       690 non-null    object \n",
            " 4   4       690 non-null    object \n",
            " 5   5       690 non-null    object \n",
            " 6   6       690 non-null    object \n",
            " 7   7       690 non-null    float64\n",
            " 8   8       690 non-null    object \n",
            " 9   9       690 non-null    object \n",
            " 10  10      690 non-null    int64  \n",
            " 11  11      690 non-null    object \n",
            " 12  12      690 non-null    object \n",
            " 13  13      690 non-null    object \n",
            " 14  14      690 non-null    int64  \n",
            " 15  15      690 non-null    object \n",
            "dtypes: float64(2), int64(2), object(12)\n",
            "memory usage: 86.4+ KB\n",
            "None\n",
            "0 ['b' 'a' '?']\n",
            "3 ['u' 'y' '?' 'l']\n",
            "4 ['g' 'p' '?' 'gg']\n",
            "5 ['w' 'q' 'm' 'r' 'cc' 'k' 'c' 'd' 'x' 'i' 'e' 'aa' 'ff' 'j' '?']\n",
            "6 ['v' 'h' 'bb' 'ff' 'j' 'z' '?' 'o' 'dd' 'n']\n"
          ]
        }
      ]
    },
    {
      "cell_type": "markdown",
      "metadata": {
        "id": "njFcFJIufbeE"
      },
      "source": [
        "# DATA **PREPARATION**"
      ]
    },
    {
      "cell_type": "markdown",
      "source": [
        "First of all...........[TO BE PROPERLY DEVELOPED]\n",
        "Deal with categorical features, empty entries, and unequal ranges.\n",
        "\n",
        "Also, train and test sets"
      ],
      "metadata": {
        "id": "kFSFKC0F7Sx1"
      }
    },
    {
      "cell_type": "code",
      "metadata": {
        "colab": {
          "base_uri": "https://localhost:8080/"
        },
        "id": "7lXJBS1QOLRC",
        "outputId": "0160fa5c-0152-4097-d824-100148ebd584"
      },
      "source": [
        "#original length and \"aparent\" null values\n",
        "print(len(dataset.values))\n",
        "print(dataset.isnull().values.sum())\n",
        "\n",
        "#unchanged length and real amount of null values\n",
        "dataset = dataset.replace('?', np.nan)\n",
        "print(len(dataset.values))\n",
        "print(dataset.isnull().values.sum())\n",
        "\n",
        "#entries containing null values are currently droped \n",
        "#(other ways to deal with null values:https://towardsdatascience.com/6-different-ways-to-compensate-for-missing-values-data-imputation-with-examples-6022d9ca0779)\n",
        "dataset=dataset.dropna()\n",
        "print(len(dataset.values))\n",
        "print(dataset.isnull().values.sum())"
      ],
      "execution_count": null,
      "outputs": [
        {
          "output_type": "stream",
          "name": "stdout",
          "text": [
            "690\n",
            "0\n",
            "690\n",
            "67\n",
            "653\n",
            "0\n"
          ]
        }
      ]
    },
    {
      "cell_type": "code",
      "metadata": {
        "id": "d0ETuXBrOLRE",
        "colab": {
          "base_uri": "https://localhost:8080/",
          "height": 207
        },
        "outputId": "f66150d6-aedd-4ffb-a714-a6deca407a9d"
      },
      "source": [
        "#features containing categorical values are currently encoded using OrdinalEncoder()\n",
        "#(other ways to deal with categorical features:https://pbpython.com/categorical-encoding.html)\n",
        "\n",
        "#target feature is \"encoded\" manually to ensure '+'=1, '-'=0\n",
        "dataset[15].replace('+', 1.0, inplace=True)\n",
        "dataset[15].replace('-', 0.0, inplace=True)\n",
        "\n",
        "oe = OrdinalEncoder() \n",
        "\n",
        "for col in dataset.columns:\n",
        "    if dataset[col].dtype=='object':\n",
        "        dataset[col] = oe.fit_transform(dataset[[col]])\n",
        "dataset.head()"
      ],
      "execution_count": null,
      "outputs": [
        {
          "output_type": "execute_result",
          "data": {
            "text/html": [
              "<div>\n",
              "<style scoped>\n",
              "    .dataframe tbody tr th:only-of-type {\n",
              "        vertical-align: middle;\n",
              "    }\n",
              "\n",
              "    .dataframe tbody tr th {\n",
              "        vertical-align: top;\n",
              "    }\n",
              "\n",
              "    .dataframe thead th {\n",
              "        text-align: right;\n",
              "    }\n",
              "</style>\n",
              "<table border=\"1\" class=\"dataframe\">\n",
              "  <thead>\n",
              "    <tr style=\"text-align: right;\">\n",
              "      <th></th>\n",
              "      <th>0</th>\n",
              "      <th>1</th>\n",
              "      <th>2</th>\n",
              "      <th>3</th>\n",
              "      <th>4</th>\n",
              "      <th>5</th>\n",
              "      <th>6</th>\n",
              "      <th>7</th>\n",
              "      <th>8</th>\n",
              "      <th>9</th>\n",
              "      <th>10</th>\n",
              "      <th>11</th>\n",
              "      <th>12</th>\n",
              "      <th>13</th>\n",
              "      <th>14</th>\n",
              "      <th>15</th>\n",
              "    </tr>\n",
              "  </thead>\n",
              "  <tbody>\n",
              "    <tr>\n",
              "      <th>0</th>\n",
              "      <td>1.0</td>\n",
              "      <td>153.0</td>\n",
              "      <td>0.000</td>\n",
              "      <td>1.0</td>\n",
              "      <td>0.0</td>\n",
              "      <td>12.0</td>\n",
              "      <td>7.0</td>\n",
              "      <td>1.25</td>\n",
              "      <td>1.0</td>\n",
              "      <td>1.0</td>\n",
              "      <td>1</td>\n",
              "      <td>0.0</td>\n",
              "      <td>0.0</td>\n",
              "      <td>68.0</td>\n",
              "      <td>0</td>\n",
              "      <td>1.0</td>\n",
              "    </tr>\n",
              "    <tr>\n",
              "      <th>1</th>\n",
              "      <td>0.0</td>\n",
              "      <td>321.0</td>\n",
              "      <td>4.460</td>\n",
              "      <td>1.0</td>\n",
              "      <td>0.0</td>\n",
              "      <td>10.0</td>\n",
              "      <td>3.0</td>\n",
              "      <td>3.04</td>\n",
              "      <td>1.0</td>\n",
              "      <td>1.0</td>\n",
              "      <td>6</td>\n",
              "      <td>0.0</td>\n",
              "      <td>0.0</td>\n",
              "      <td>11.0</td>\n",
              "      <td>560</td>\n",
              "      <td>1.0</td>\n",
              "    </tr>\n",
              "    <tr>\n",
              "      <th>2</th>\n",
              "      <td>0.0</td>\n",
              "      <td>88.0</td>\n",
              "      <td>0.500</td>\n",
              "      <td>1.0</td>\n",
              "      <td>0.0</td>\n",
              "      <td>10.0</td>\n",
              "      <td>3.0</td>\n",
              "      <td>1.50</td>\n",
              "      <td>1.0</td>\n",
              "      <td>0.0</td>\n",
              "      <td>0</td>\n",
              "      <td>0.0</td>\n",
              "      <td>0.0</td>\n",
              "      <td>94.0</td>\n",
              "      <td>824</td>\n",
              "      <td>1.0</td>\n",
              "    </tr>\n",
              "    <tr>\n",
              "      <th>3</th>\n",
              "      <td>1.0</td>\n",
              "      <td>123.0</td>\n",
              "      <td>1.540</td>\n",
              "      <td>1.0</td>\n",
              "      <td>0.0</td>\n",
              "      <td>12.0</td>\n",
              "      <td>7.0</td>\n",
              "      <td>3.75</td>\n",
              "      <td>1.0</td>\n",
              "      <td>1.0</td>\n",
              "      <td>5</td>\n",
              "      <td>1.0</td>\n",
              "      <td>0.0</td>\n",
              "      <td>31.0</td>\n",
              "      <td>3</td>\n",
              "      <td>1.0</td>\n",
              "    </tr>\n",
              "    <tr>\n",
              "      <th>4</th>\n",
              "      <td>1.0</td>\n",
              "      <td>42.0</td>\n",
              "      <td>5.625</td>\n",
              "      <td>1.0</td>\n",
              "      <td>0.0</td>\n",
              "      <td>12.0</td>\n",
              "      <td>7.0</td>\n",
              "      <td>1.71</td>\n",
              "      <td>1.0</td>\n",
              "      <td>0.0</td>\n",
              "      <td>0</td>\n",
              "      <td>0.0</td>\n",
              "      <td>2.0</td>\n",
              "      <td>37.0</td>\n",
              "      <td>0</td>\n",
              "      <td>1.0</td>\n",
              "    </tr>\n",
              "  </tbody>\n",
              "</table>\n",
              "</div>"
            ],
            "text/plain": [
              "    0      1      2    3    4     5    6   ...   9   10   11   12    13   14   15\n",
              "0  1.0  153.0  0.000  1.0  0.0  12.0  7.0  ...  1.0   1  0.0  0.0  68.0    0  1.0\n",
              "1  0.0  321.0  4.460  1.0  0.0  10.0  3.0  ...  1.0   6  0.0  0.0  11.0  560  1.0\n",
              "2  0.0   88.0  0.500  1.0  0.0  10.0  3.0  ...  0.0   0  0.0  0.0  94.0  824  1.0\n",
              "3  1.0  123.0  1.540  1.0  0.0  12.0  7.0  ...  1.0   5  1.0  0.0  31.0    3  1.0\n",
              "4  1.0   42.0  5.625  1.0  0.0  12.0  7.0  ...  0.0   0  0.0  2.0  37.0    0  1.0\n",
              "\n",
              "[5 rows x 16 columns]"
            ]
          },
          "metadata": {},
          "execution_count": 585
        }
      ]
    },
    {
      "cell_type": "code",
      "metadata": {
        "colab": {
          "base_uri": "https://localhost:8080/"
        },
        "id": "xiuolDSupsLd",
        "outputId": "a07a7518-6008-499c-fbb6-85e5657eb636"
      },
      "source": [
        "# Separate features and labels into X and y\n",
        "X, y = dataset.iloc[:, 0: 15].values, dataset.iloc[:,15].values\n",
        "\n",
        "# Input X features normalized, scaled to 0-1 range\n",
        "sc = StandardScaler()\n",
        "X = sc.fit_transform(X)\n",
        "\n",
        "# Split into train and test sets (to check against overfitting, 0.66-0.33 rate chosen, could be 0.8-0.2 etc)\n",
        "X_train, X_test, y_train, y_test = train_test_split(X, y, test_size = 0.33, random_state = 69)\n",
        "print(X_train.shape, X_test.shape, y_train.shape, y_test.shape)"
      ],
      "execution_count": null,
      "outputs": [
        {
          "output_type": "stream",
          "name": "stdout",
          "text": [
            "(437, 15) (216, 15) (437,) (216,)\n"
          ]
        }
      ]
    },
    {
      "cell_type": "markdown",
      "metadata": {
        "id": "sKsyjgDffdEE"
      },
      "source": [
        "# MODEL **CONFIGURATION**"
      ]
    },
    {
      "cell_type": "code",
      "metadata": {
        "id": "noUVTzK-OLRG"
      },
      "source": [
        "logreg = LogisticRegression() #default values for now"
      ],
      "execution_count": null,
      "outputs": []
    },
    {
      "cell_type": "markdown",
      "metadata": {
        "id": "UOp3WChqFd5I"
      },
      "source": [
        "MODEL **TRAINING**"
      ]
    },
    {
      "cell_type": "code",
      "source": [
        "logreg.fit(X_train, y_train)"
      ],
      "metadata": {
        "colab": {
          "base_uri": "https://localhost:8080/"
        },
        "id": "vBU5FIaiFb_u",
        "outputId": "0ad7cc2a-f925-41c6-ed07-09a662755831"
      },
      "execution_count": null,
      "outputs": [
        {
          "output_type": "execute_result",
          "data": {
            "text/plain": [
              "LogisticRegression()"
            ]
          },
          "metadata": {},
          "execution_count": 588
        }
      ]
    },
    {
      "cell_type": "markdown",
      "source": [
        "ESTIMATOR **EVALUATION**"
      ],
      "metadata": {
        "id": "qpF5jDnHFwd9"
      }
    },
    {
      "cell_type": "code",
      "metadata": {
        "colab": {
          "base_uri": "https://localhost:8080/"
        },
        "id": "J9fqtRqsOLRH",
        "outputId": "09e7b27c-51d1-491f-c1bb-d392bc498c53"
      },
      "source": [
        "y_pred = logreg.predict(X_test)\n",
        "print(\"Accuracy of logistic regression classifier: \", logreg.score(X_test, y_test))\n",
        "print(confusion_matrix(y_test, y_pred))"
      ],
      "execution_count": null,
      "outputs": [
        {
          "output_type": "stream",
          "name": "stdout",
          "text": [
            "Accuracy of logistic regression classifier:  0.8703703703703703\n",
            "[[95 21]\n",
            " [ 7 93]]\n"
          ]
        }
      ]
    },
    {
      "cell_type": "markdown",
      "source": [
        "# MODEL **BIAS** ANALYSIS"
      ],
      "metadata": {
        "id": "aQlbc9yKGgmA"
      }
    },
    {
      "cell_type": "markdown",
      "source": [
        "TRYING TO FIND AN APPROPIRATE K VALUE FOR CLUSTERING X ([both methods explored](https://medium.com/analytics-vidhya/how-to-determine-the-optimal-k-for-k-means-708505d204eb))"
      ],
      "metadata": {
        "id": "SnvYP6xuKlbF"
      }
    },
    {
      "cell_type": "code",
      "metadata": {
        "id": "RUcPSDGcLlVV"
      },
      "source": [
        "# fitting multiple k-means algorithms and storing the values in an empty list\n",
        "SSE = []\n",
        "sil = []\n",
        "kmeansLIST = []\n",
        "for k in range(2,15):\n",
        "    kmeansaux = KMeans(k) #MiniBatchKMeans(k)\n",
        "    kmeansaux.fit(X)\n",
        "\n",
        "    SSE.append(kmeansaux.inertia_)\n",
        "    sil.append(silhouette_score(X, kmeansaux.labels_, metric = 'euclidean'))\n",
        "    kmeansLIST.append(kmeansaux)\n",
        "\n",
        "# converting the results into a dataframe and plotting them\n",
        "frame = pd.DataFrame({'Cluster':range(2,15), 'SSE':SSE, 'Silhouette':sil})"
      ],
      "execution_count": null,
      "outputs": []
    },
    {
      "cell_type": "markdown",
      "source": [
        "**(ELBOW METHOD)**"
      ],
      "metadata": {
        "id": "iipFrHBuTSgc"
      }
    },
    {
      "cell_type": "code",
      "source": [
        "plt.figure(figsize=(18,9))\n",
        "plt.plot(frame['Cluster'], frame['SSE'], marker='o')\n",
        "plt.xlabel('Number of clusters')\n",
        "plt.ylabel('Inertia')"
      ],
      "metadata": {
        "colab": {
          "base_uri": "https://localhost:8080/",
          "height": 570
        },
        "id": "xmfPo2yZSynM",
        "outputId": "8478b2ca-7b7a-4706-928b-3278b317d788"
      },
      "execution_count": null,
      "outputs": [
        {
          "output_type": "execute_result",
          "data": {
            "text/plain": [
              "Text(0, 0.5, 'Inertia')"
            ]
          },
          "metadata": {},
          "execution_count": 591
        },
        {
          "output_type": "display_data",
          "data": {
            "image/png": "[encoded data removed]",
            "text/plain": [
              "<Figure size 1296x648 with 1 Axes>"
            ]
          },
          "metadata": {
            "needs_background": "light"
          }
        }
      ]
    },
    {
      "cell_type": "markdown",
      "source": [
        "**(SILHOUETTE METHOD)**"
      ],
      "metadata": {
        "id": "nHHwxsZZTxTc"
      }
    },
    {
      "cell_type": "code",
      "source": [
        "plt.figure(figsize=(18,9))\n",
        "plt.plot(frame['Cluster'], frame['Silhouette'], marker='o')\n",
        "plt.xlabel('Number of clusters')\n",
        "plt.ylabel('Silhouette Score')"
      ],
      "metadata": {
        "colab": {
          "base_uri": "https://localhost:8080/",
          "height": 570
        },
        "id": "A7Gr32CiSzmc",
        "outputId": "ff4a71c0-6df5-46bb-d17b-3cfae44f94ef"
      },
      "execution_count": null,
      "outputs": [
        {
          "output_type": "execute_result",
          "data": {
            "text/plain": [
              "Text(0, 0.5, 'Silhouette Score')"
            ]
          },
          "metadata": {},
          "execution_count": 592
        },
        {
          "output_type": "display_data",
          "data": {
            "image/png": "[encoded data removed]",
            "text/plain": [
              "<Figure size 1296x648 with 1 Axes>"
            ]
          },
          "metadata": {
            "needs_background": "light"
          }
        }
      ]
    },
    {
      "cell_type": "code",
      "source": [
        "k=7 #is the selected number of clusters for now\n",
        "#kmeansAlg = KMeans(k)\n",
        "#kmeansAlg.fit(X)\n",
        "\n",
        "kmeansAlg = kmeansLIST[k-2]"
      ],
      "metadata": {
        "id": "qDM7bKpuJa2e"
      },
      "execution_count": null,
      "outputs": []
    },
    {
      "cell_type": "code",
      "metadata": {
        "id": "zsed0Y06Lp5y"
      },
      "source": [
        "def provideKlusteredX(kmeans,Xtok, Ytok):\n",
        "  labels = kmeans.predict(Xtok)\n",
        "  nk = kmeans.n_clusters\n",
        "  labelslist = labels.tolist()\n",
        "  print(len(labelslist))\n",
        "  sum=0\n",
        "  occurences=[0]*nk\n",
        "  clustered_X=[]\n",
        "  clustered_Y=[]\n",
        "\n",
        "  for i in range(nk):\n",
        "    clustered_X.append([])\n",
        "    clustered_Y.append([])\n",
        "\n",
        "  for i in range(len(labelslist)):\n",
        "    clustered_X[labelslist[i]].append(Xtok[i])\n",
        "    clustered_Y[labelslist[i]].append(Ytok[i])\n",
        "\n",
        "  for i in range(nk):\n",
        "    occurences[i]=labelslist.count(i)\n",
        "    sum+=labelslist.count(i)\n",
        "\n",
        "  plt.bar(range(nk),occurences)\n",
        "  return clustered_X,clustered_Y"
      ],
      "execution_count": null,
      "outputs": []
    },
    {
      "cell_type": "code",
      "source": [
        "clustered_totalX,clustered_totalY = provideKlusteredX(kmeansAlg, X, y)"
      ],
      "metadata": {
        "colab": {
          "base_uri": "https://localhost:8080/",
          "height": 283
        },
        "id": "cAdv98ViVfuN",
        "outputId": "70f50390-b5bb-433f-f491-b1465f466150"
      },
      "execution_count": null,
      "outputs": [
        {
          "output_type": "stream",
          "name": "stdout",
          "text": [
            "653\n"
          ]
        },
        {
          "output_type": "display_data",
          "data": {
            "image/png": "[encoded data removed]",
            "text/plain": [
              "<Figure size 432x288 with 1 Axes>"
            ]
          },
          "metadata": {
            "needs_background": "light"
          }
        }
      ]
    },
    {
      "cell_type": "code",
      "source": [
        "clustered_testX,clustered_testY = provideKlusteredX(kmeansAlg, X_test, y_test)"
      ],
      "metadata": {
        "colab": {
          "base_uri": "https://localhost:8080/",
          "height": 283
        },
        "id": "W7PfiIz2NbTH",
        "outputId": "7ea9a437-2f0f-4365-c4d9-b21e04e8ce50"
      },
      "execution_count": null,
      "outputs": [
        {
          "output_type": "stream",
          "name": "stdout",
          "text": [
            "216\n"
          ]
        },
        {
          "output_type": "display_data",
          "data": {
            "image/png": "[encoded data removed]",
            "text/plain": [
              "<Figure size 432x288 with 1 Axes>"
            ]
          },
          "metadata": {
            "needs_background": "light"
          }
        }
      ]
    },
    {
      "cell_type": "code",
      "metadata": {
        "colab": {
          "base_uri": "https://localhost:8080/",
          "height": 525
        },
        "id": "GrG8HTMdWuSQ",
        "outputId": "23f88063-f77c-40ec-964d-6ffcaf2100e2"
      },
      "source": [
        "#SHOW COEFFICIENTS\n",
        "plt.imshow(logreg.coef_, interpolation='nearest')\n",
        "plt.show()\n",
        "print(pd.DataFrame(logreg.coef_).round(2))\n",
        "\n",
        "#SHOW CLUSTER CENTERS (NOT NECESSARILY REAL DATA)\n",
        "plt.imshow(kmeansAlg.cluster_centers_, interpolation='nearest')\n",
        "plt.show()\n",
        "print(pd.DataFrame(kmeansAlg.cluster_centers_).round(2))"
      ],
      "execution_count": null,
      "outputs": [
        {
          "output_type": "display_data",
          "data": {
            "image/png": "[encoded data removed]",
            "text/plain": [
              "<Figure size 432x288 with 1 Axes>"
            ]
          },
          "metadata": {
            "needs_background": "light"
          }
        },
        {
          "output_type": "stream",
          "name": "stdout",
          "text": [
            "     0     1     2     3     4     5   ...    9     10    11    12   13    14\n",
            "0 -0.01 -0.14 -0.16 -0.14 -0.14  0.24  ...  0.11  0.64 -0.07  0.03 -0.3  1.61\n",
            "\n",
            "[1 rows x 15 columns]\n"
          ]
        },
        {
          "output_type": "display_data",
          "data": {
            "image/png": "[encoded data removed]",
            "text/plain": [
              "<Figure size 432x288 with 1 Axes>"
            ]
          },
          "metadata": {
            "needs_background": "light"
          }
        },
        {
          "output_type": "stream",
          "name": "stdout",
          "text": [
            "     0     1     2     3     4     5   ...    9     10    11    12    13    14\n",
            "0  0.08 -0.20 -0.21  1.80  1.81 -0.11  ... -0.28 -0.25  0.01 -0.30  0.03 -0.09\n",
            "1 -1.49 -0.30  0.03 -0.54 -0.55  0.04  ...  0.84  0.29 -0.08 -0.30 -0.34 -0.08\n",
            "2  0.07 -0.38 -0.08 -0.54 -0.55 -0.26  ... -0.76 -0.49 -0.29 -0.29 -0.18 -0.15\n",
            "3  0.10  1.37  1.25 -0.46 -0.48 -0.01  ...  0.97  1.49  0.04 -0.30 -0.89  0.14\n",
            "4  0.23  0.45 -0.23 -0.57 -0.54  0.17  ... -0.83 -0.49  0.39 -0.28  0.65  0.48\n",
            "5  0.67 -0.17 -0.05 -0.54 -0.55  0.30  ...  1.13  0.42  0.08 -0.30  0.44  0.02\n",
            "6  0.26 -0.04 -0.38 -0.10 -0.04  0.07  ... -0.77 -0.44  0.06  3.35  0.20 -0.19\n",
            "\n",
            "[7 rows x 15 columns]\n"
          ]
        }
      ]
    },
    {
      "cell_type": "code",
      "metadata": {
        "id": "TRl-hPVpyikE"
      },
      "source": [
        "def StatsOnKlustered(totalX,clusteredX, clusteredY):\n",
        "  TOTALyes = 0\n",
        "  for i in range(len(clusteredY)):\n",
        "    TOTALyes += clusteredY[i].count(1.0)\n",
        "  TOTALno = len(totalX)-TOTALyes\n",
        "  presencerate = [] #instances of this type/total instances (in totalX)\n",
        "  approvalrate = [] #approval rate for this type\n",
        "  approvalcontributionrate = [] #approval for this type over the total n of approvals in totalX\n",
        "  for i in range(len(clusteredY)):\n",
        "    yes = clusteredY[i].count(1.0)\n",
        "    no = clusteredY[i].count(0.0)\n",
        "    instances = len(clusteredY[i])\n",
        "\n",
        "    #print(\"Approved:\",yes,\"// Denied: \",no)\n",
        "    presencerate.append(100*instances/len(totalX))\n",
        "    approvalrate.append(100*yes/max(1,instances))\n",
        "    approvalcontributionrate.append(100*yes/TOTALyes)\n",
        "    \n",
        "    print(\"Instance proportion:\",presencerate[i],\"// Approval rate:\",approvalrate[i],\"// Approval contribution:\",approvalcontributionrate[i])\n",
        "    print()\n",
        "  return presencerate,approvalrate,approvalcontributionrate"
      ],
      "execution_count": null,
      "outputs": []
    },
    {
      "cell_type": "code",
      "source": [
        "presencerateTOTAL,approvalrateTOTAL,approvalcontributionrateTOTAL = StatsOnKlustered(X,clustered_totalX,clustered_totalY)"
      ],
      "metadata": {
        "colab": {
          "base_uri": "https://localhost:8080/"
        },
        "id": "3WKDoFPCV2_M",
        "outputId": "2a2208f2-ad65-42c4-bcb0-d133e11e108d"
      },
      "execution_count": null,
      "outputs": [
        {
          "output_type": "stream",
          "name": "stdout",
          "text": [
            "Instance proportion: 21.28637059724349 // Approval rate: 28.776978417266186 // Approval contribution: 13.513513513513514\n",
            "\n",
            "Instance proportion: 13.016845329249618 // Approval rate: 67.05882352941177 // Approval contribution: 19.256756756756758\n",
            "\n",
            "Instance proportion: 20.367534456355283 // Approval rate: 11.278195488721805 // Approval contribution: 5.0675675675675675\n",
            "\n",
            "Instance proportion: 9.800918836140887 // Approval rate: 92.1875 // Approval contribution: 19.93243243243243\n",
            "\n",
            "Instance proportion: 12.09800918836141 // Approval rate: 48.10126582278481 // Approval contribution: 12.837837837837839\n",
            "\n",
            "Instance proportion: 15.313935681470138 // Approval rate: 72.0 // Approval contribution: 24.324324324324323\n",
            "\n",
            "Instance proportion: 8.116385911179172 // Approval rate: 28.30188679245283 // Approval contribution: 5.0675675675675675\n",
            "\n"
          ]
        }
      ]
    },
    {
      "cell_type": "code",
      "source": [
        "presencerateTEST,approvalrateTEST,approvalcontributionrateTEST = StatsOnKlustered(X_test,clustered_testX,clustered_testY)"
      ],
      "metadata": {
        "colab": {
          "base_uri": "https://localhost:8080/"
        },
        "id": "NZVA-S5_W0nU",
        "outputId": "15c65996-5f2d-4c4e-ce04-6be07529a443"
      },
      "execution_count": null,
      "outputs": [
        {
          "output_type": "stream",
          "name": "stdout",
          "text": [
            "Instance proportion: 24.074074074074073 // Approval rate: 26.923076923076923 // Approval contribution: 14.0\n",
            "\n",
            "Instance proportion: 11.574074074074074 // Approval rate: 68.0 // Approval contribution: 17.0\n",
            "\n",
            "Instance proportion: 18.055555555555557 // Approval rate: 12.820512820512821 // Approval contribution: 5.0\n",
            "\n",
            "Instance proportion: 11.11111111111111 // Approval rate: 95.83333333333333 // Approval contribution: 23.0\n",
            "\n",
            "Instance proportion: 11.574074074074074 // Approval rate: 52.0 // Approval contribution: 13.0\n",
            "\n",
            "Instance proportion: 13.425925925925926 // Approval rate: 79.3103448275862 // Approval contribution: 23.0\n",
            "\n",
            "Instance proportion: 10.185185185185185 // Approval rate: 22.727272727272727 // Approval contribution: 5.0\n",
            "\n"
          ]
        }
      ]
    },
    {
      "cell_type": "code",
      "metadata": {
        "id": "SnlG7gQtWs_R"
      },
      "source": [
        "def StatsOnKlusteredLogRegResults(logregAlg, totalX, clusteredX, clusteredY):\n",
        "  y_pred = logregAlg.predict(totalX)\n",
        "  TOTALyes = np.count_nonzero(y_pred == 1)\n",
        "  TOTALno = np.count_nonzero(y_pred == 0)\n",
        "  #COMPUTE ACCURACY OF THE MODEL FOR DIFFERENT CLUSTERS AND APPROVAL RATES\n",
        "  presencerate = [] #instances of this type/total test instances\n",
        "  approvalrate = [] #approval rate for this type\n",
        "  approvalcontributionrate = [] #approval for this type over the total n of approvals in totalX\n",
        "  accuracy = [] #logreg model accuracy per kluster\n",
        "  for i in range(len(clusteredX)):\n",
        "    if (len(clusteredX[i])>0):\n",
        "      y_pred = logregAlg.predict(clusteredX[i])\n",
        "      print(\"Accuracy of logistic regression classifier: \", logregAlg.score(clusteredX[i], clusteredY[i]))\n",
        "      accuracy.append(100*logregAlg.score(clusteredX[i], clusteredY[i]))\n",
        "    else:\n",
        "      y_pred = []\n",
        "      accuracy.append(0)\n",
        "\n",
        "    yes = np.count_nonzero(y_pred == 1)\n",
        "    no = np.count_nonzero(y_pred == 0)\n",
        "    instances = len(clusteredY[i])\n",
        "\n",
        "    presencerate.append(100*instances/len(totalX))\n",
        "    approvalrate.append(100*yes/ max(1,instances))\n",
        "    approvalcontributionrate.append(100*yes/TOTALyes)\n",
        "\n",
        "    print(\"Instance proportion:\",presencerate[i],\"// Approval rate:\",approvalrate[i],\"// Approval contribution:\",approvalcontributionrate[i])\n",
        "    print()\n",
        "  return presencerate,approvalrate,approvalcontributionrate, accuracy"
      ],
      "execution_count": null,
      "outputs": []
    },
    {
      "cell_type": "code",
      "source": [
        "presencerateTESTpred,approvalrateTESTpred,approvalcontributionrateTESTpred, accuracyperK = StatsOnKlusteredLogRegResults(logreg,X_test,clustered_testX,clustered_testY)"
      ],
      "metadata": {
        "colab": {
          "base_uri": "https://localhost:8080/"
        },
        "id": "AfOIUwk9b6rT",
        "outputId": "9479a5ec-63b0-4893-fcb6-640ac7c3a5ba"
      },
      "execution_count": null,
      "outputs": [
        {
          "output_type": "stream",
          "name": "stdout",
          "text": [
            "Accuracy of logistic regression classifier:  0.8269230769230769\n",
            "Instance proportion: 24.074074074074073 // Approval rate: 36.53846153846154 // Approval contribution: 16.666666666666668\n",
            "\n",
            "Accuracy of logistic regression classifier:  1.0\n",
            "Instance proportion: 11.574074074074074 // Approval rate: 68.0 // Approval contribution: 14.912280701754385\n",
            "\n",
            "Accuracy of logistic regression classifier:  0.9230769230769231\n",
            "Instance proportion: 18.055555555555557 // Approval rate: 10.256410256410257 // Approval contribution: 3.508771929824561\n",
            "\n",
            "Accuracy of logistic regression classifier:  0.9583333333333334\n",
            "Instance proportion: 11.11111111111111 // Approval rate: 100.0 // Approval contribution: 21.05263157894737\n",
            "\n",
            "Accuracy of logistic regression classifier:  0.68\n",
            "Instance proportion: 11.574074074074074 // Approval rate: 84.0 // Approval contribution: 18.42105263157895\n",
            "\n",
            "Accuracy of logistic regression classifier:  1.0\n",
            "Instance proportion: 13.425925925925926 // Approval rate: 79.3103448275862 // Approval contribution: 20.17543859649123\n",
            "\n",
            "Accuracy of logistic regression classifier:  0.6818181818181818\n",
            "Instance proportion: 10.185185185185185 // Approval rate: 27.272727272727273 // Approval contribution: 5.2631578947368425\n",
            "\n"
          ]
        }
      ]
    },
    {
      "cell_type": "markdown",
      "source": [
        "# ACTUAL TEST Y"
      ],
      "metadata": {
        "id": "fhN9_pUYiSem"
      }
    },
    {
      "cell_type": "code",
      "metadata": {
        "colab": {
          "base_uri": "https://localhost:8080/",
          "height": 268
        },
        "id": "SiO9d38LVtPn",
        "outputId": "49066d8d-fede-4478-f705-b79d4d1c84d8"
      },
      "source": [
        "df = pd.DataFrame({'presence': presencerateTEST,\n",
        "                   'approval rate': approvalrateTEST,\n",
        "                   'contribution': approvalcontributionrateTEST}, index=range(k))\n",
        "ax = df.plot.bar(rot=0)"
      ],
      "execution_count": null,
      "outputs": [
        {
          "output_type": "display_data",
          "data": {
            "image/png": "[encoded data removed]",
            "text/plain": [
              "<Figure size 432x288 with 1 Axes>"
            ]
          },
          "metadata": {
            "needs_background": "light"
          }
        }
      ]
    },
    {
      "cell_type": "markdown",
      "source": [
        "# PREDICTED TEST Y"
      ],
      "metadata": {
        "id": "fc_47FtLiM6M"
      }
    },
    {
      "cell_type": "code",
      "source": [
        "df = pd.DataFrame({'presence': presencerateTESTpred,\n",
        "                   'approval rate': approvalrateTESTpred,\n",
        "                   'contribution': approvalcontributionrateTESTpred,\n",
        "                   'accuracy': accuracyperK}, index=range(k))\n",
        "ax = df.plot.bar(rot=0)"
      ],
      "metadata": {
        "colab": {
          "base_uri": "https://localhost:8080/",
          "height": 265
        },
        "id": "XhHCr3EMc2R7",
        "outputId": "e3519250-2c1f-4851-847b-d55c56cb62fb"
      },
      "execution_count": null,
      "outputs": [
        {
          "output_type": "display_data",
          "data": {
            "image/png": "[encoded data removed]",
            "text/plain": [
              "<Figure size 432x288 with 1 Axes>"
            ]
          },
          "metadata": {
            "needs_background": "light"
          }
        }
      ]
    },
    {
      "cell_type": "markdown",
      "source": [
        "## **QUICK GENERAL OBSERVATIONS TO DEVELOP AND FURTHER SUPPORT:**\n",
        "\n",
        "It seems that for different \"profiles\" of clients the model that has been learned about the whole dataset performs less reliably than for others (red bars in last plot, some 100% accuracy and some 68%, when the overall is supposed to be 87%).\n",
        "\n",
        "This could become a problem if said model was left in charge of screening applicants' submissions as it would judge more fairly and consistently some clusters of customers than other, where it could behave more arbitrarily.\n",
        "\n",
        "This, then, doesn't tell us about bias being present in the database directly, but in the model we trained.\n",
        "\n",
        "Still, about bias in the dataset, this could be said:\n",
        "Although it is clear than some clusters are more \"approved\" than others, this is absolutely to be expected. The problem, then, would reside in wheter the reasons behind these differences weren't just financial in nature. For this we should look at the weights developed by the model to ascertain what features are being given more rellevance. Currently \"Income\" is given the most importance, which seems reasonable. Further analysis is needed, and even so possible errors in that regard could still point again to a bad model (poor encoding choice, inexistent feature-selection process...) and not necessarily to biased source data (prejudice-based decision-making by the real bank)."
      ],
      "metadata": {
        "id": "Plul_JC8ctdE"
      }
    }
  ]
}