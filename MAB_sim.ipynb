{
  "nbformat": 4,
  "nbformat_minor": 0,
  "metadata": {
    "colab": {
      "name": "MAB_sim.ipynb",
      "provenance": [],
      "collapsed_sections": [],
      "authorship_tag": "ABX9TyOcOoHbY+0IuYnwqU+9d4o7",
      "include_colab_link": true
    },
    "kernelspec": {
      "name": "python3",
      "display_name": "Python 3"
    },
    "language_info": {
      "name": "python"
    }
  },
  "cells": [
    {
      "cell_type": "markdown",
      "metadata": {
        "id": "view-in-github",
        "colab_type": "text"
      },
      "source": [
        "<a href=\"https://colab.research.google.com/github/quimHM/QHM_TFG_repository/blob/main/MAB_sim.ipynb\" target=\"_parent\"><img src=\"https://colab.research.google.com/assets/colab-badge.svg\" alt=\"Open In Colab\"/></a>"
      ]
    },
    {
      "cell_type": "code",
      "source": [
        "#https://towardsdatascience.com/multi-armed-bandits-and-reinforcement-learning-dc9001dcb8da\n",
        "#https://towardsdatascience.com/the-upper-confidence-bound-ucb-bandit-algorithm-c05c2bf4c13f\n",
        "\n",
        "#https://github.com/WhatIThinkAbout/BabyRobot/tree/master/Multi_Armed_Bandits"
      ],
      "metadata": {
        "id": "lch3cBlMon8x"
      },
      "execution_count": 2,
      "outputs": []
    },
    {
      "cell_type": "code",
      "source": [
        ""
      ],
      "metadata": {
        "id": "7XlcGP0_on6J"
      },
      "execution_count": 2,
      "outputs": []
    },
    {
      "cell_type": "code",
      "source": [
        "# import modules \n",
        "import numpy as np \n",
        "import matplotlib.pyplot as plt \n",
        "import pandas as pd \n",
        "%matplotlib inline"
      ],
      "metadata": {
        "id": "0Oh75adZ2qAY"
      },
      "execution_count": 3,
      "outputs": []
    },
    {
      "cell_type": "code",
      "source": [
        "class eps_bandit:\n",
        "    '''\n",
        "    epsilon-greedy k-bandit problem\n",
        "    \n",
        "    Inputs\n",
        "    =====================================================\n",
        "    k: number of arms (int)\n",
        "    eps: probability of random action 0 < eps < 1 (float)\n",
        "    iters: number of steps (int)\n",
        "    mu: set the average rewards for each of the k-arms.\n",
        "        Set to \"random\" for the rewards to be selected from\n",
        "        a normal distribution with mean = 0. \n",
        "        Set to \"sequence\" for the means to be ordered from \n",
        "        0 to k-1.\n",
        "        Pass a list or array of length = k for user-defined\n",
        "        values.\n",
        "    '''\n",
        "    \n",
        "    def __init__(self, k, eps, iters, mu='random'):\n",
        "        # Number of arms\n",
        "        self.k = k\n",
        "        # Search probability\n",
        "        self.eps = eps\n",
        "        # Number of iterations\n",
        "        self.iters = iters\n",
        "        # Step count\n",
        "        self.n = 0\n",
        "        # Step count for each arm\n",
        "        self.k_n = np.zeros(k)\n",
        "        # Total mean reward\n",
        "        self.mean_reward = 0\n",
        "        self.reward = np.zeros(iters)\n",
        "        # Mean reward for each arm\n",
        "        self.k_reward = np.zeros(k)\n",
        "        \n",
        "        if type(mu) == list or type(mu).__module__ == np.__name__:\n",
        "            # User-defined averages            \n",
        "            self.mu = np.array(mu)\n",
        "        elif mu == 'random':\n",
        "            # Draw means from probability distribution\n",
        "            self.mu = np.random.normal(0, 1, k)\n",
        "        elif mu == 'sequence':\n",
        "            # Increase the mean for each arm by one\n",
        "            self.mu = np.linspace(0, k-1, k)\n",
        "        \n",
        "    def pull(self):\n",
        "        # Generate random number\n",
        "        p = np.random.rand()\n",
        "        if self.eps == 0 and self.n == 0:\n",
        "            a = np.random.choice(self.k)\n",
        "        elif p < self.eps:\n",
        "            # Randomly select an action\n",
        "            a = np.random.choice(self.k)\n",
        "        else:\n",
        "            # Take greedy action\n",
        "            a = np.argmax(self.k_reward)\n",
        "            \n",
        "        reward = np.random.normal(self.mu[a], 1)\n",
        "        \n",
        "        # Update counts\n",
        "        self.n += 1\n",
        "        self.k_n[a] += 1\n",
        "        \n",
        "        # Update total\n",
        "        self.mean_reward = self.mean_reward + (\n",
        "            reward - self.mean_reward) / self.n\n",
        "        \n",
        "        # Update results for a_k\n",
        "        self.k_reward[a] = self.k_reward[a] + (\n",
        "            reward - self.k_reward[a]) / self.k_n[a]\n",
        "        \n",
        "    def run(self):\n",
        "        for i in range(self.iters):\n",
        "            self.pull()\n",
        "            self.reward[i] = self.mean_reward\n",
        "            \n",
        "    def reset(self):\n",
        "        # Resets results while keeping settings\n",
        "        self.n = 0\n",
        "        self.k_n = np.zeros(k)\n",
        "        self.mean_reward = 0\n",
        "        self.reward = np.zeros(iters)\n",
        "        self.k_reward = np.zeros(k)"
      ],
      "metadata": {
        "id": "z0OMYjEF2nCt"
      },
      "execution_count": 4,
      "outputs": []
    },
    {
      "cell_type": "code",
      "source": [
        "k = 8\n",
        "iters = 1000\n",
        "\n",
        "eps_0_rewards = np.zeros(iters)\n",
        "eps_01_rewards = np.zeros(iters)\n",
        "eps_1_rewards = np.zeros(iters)\n",
        "\n",
        "hmda_mu = [85.55, 81.93, 82.84, 79.94, 71.03, 66.35, 74.71, 67.31]\n",
        "\n",
        "episodes = 1000\n",
        "# Run experiments\n",
        "for i in range(episodes):\n",
        "    # Initialize bandits\n",
        "    eps_0 = eps_bandit(k, 0, iters, hmda_mu)\n",
        "    eps_01 = eps_bandit(k, 0.01, iters, eps_0.mu.copy())\n",
        "    eps_1 = eps_bandit(k, 0.1, iters, eps_0.mu.copy())\n",
        "    \n",
        "    # Run experiments\n",
        "    eps_0.run()\n",
        "    eps_01.run()\n",
        "    eps_1.run()\n",
        "    \n",
        "    # Update long-term averages\n",
        "    eps_0_rewards = eps_0_rewards + (\n",
        "        eps_0.reward - eps_0_rewards) / (i + 1)\n",
        "    eps_01_rewards = eps_01_rewards + (\n",
        "        eps_01.reward - eps_01_rewards) / (i + 1)\n",
        "    eps_1_rewards = eps_1_rewards + (\n",
        "        eps_1.reward - eps_1_rewards) / (i + 1)\n",
        "    \n",
        "plt.figure(figsize=(12,8))\n",
        "plt.plot(eps_0_rewards, label=\"$\\epsilon=0$ (greedy)\")\n",
        "plt.plot(eps_01_rewards, label=\"$\\epsilon=0.01$\")\n",
        "plt.plot(eps_1_rewards, label=\"$\\epsilon=0.1$\")\n",
        "plt.legend(bbox_to_anchor=(1.3, 0.5))\n",
        "plt.xlabel(\"Iterations\")\n",
        "plt.ylabel(\"Average Reward\")\n",
        "plt.title(\"Average $\\epsilon-greedy$ Rewards after \" + str(episodes) \n",
        "    + \" Episodes\")\n",
        "plt.show()"
      ],
      "metadata": {
        "colab": {
          "base_uri": "https://localhost:8080/",
          "height": 515
        },
        "id": "Eng2RpnH3RDI",
        "outputId": "74486e6c-9d41-4942-b945-b6989dca839c"
      },
      "execution_count": 5,
      "outputs": [
        {
          "output_type": "display_data",
          "data": {
            "text/plain": [
              "<Figure size 864x576 with 1 Axes>"
            ],
            "image/png": "[encoded data removed]"
          },
          "metadata": {
            "needs_background": "light"
          }
        }
      ]
    },
    {
      "cell_type": "code",
      "source": [
        "print(eps_01.k_n)"
      ],
      "metadata": {
        "colab": {
          "base_uri": "https://localhost:8080/"
        },
        "id": "1gRXW7kx6pjQ",
        "outputId": "87759398-bdc7-438f-fe61-3d2877bbc9b5"
      },
      "execution_count": 6,
      "outputs": [
        {
          "output_type": "stream",
          "name": "stdout",
          "text": [
            "[990.   3.   1.   1.   1.   2.   1.   1.]\n"
          ]
        }
      ]
    },
    {
      "cell_type": "markdown",
      "source": [
        "## **RELLEVANT A PARTIR D'AQUÍ**"
      ],
      "metadata": {
        "id": "aUMvXUazpo9j"
      }
    },
    {
      "cell_type": "code",
      "source": [
        "class PowerSocket:\n",
        "    \"\"\" the base power socket class \"\"\"\n",
        "    \n",
        "    def __init__(self, q, cl, var=1):                \n",
        "        self.q = q        # the true reward value \n",
        "        self.confidence_level = cl          \n",
        "        self.var = var   \n",
        "        self.initialize() # reset the socket\n",
        "        \n",
        "    def initialize(self):\n",
        "        self.Q = 0   # the estimate of this socket's reward value                \n",
        "        self.n = 0   # the number of times this socket has been tried        \n",
        "    \n",
        "    def charge(self):\n",
        "        \"\"\" return a random amount of charge \"\"\"\n",
        "        \n",
        "        # the reward is a guassian distribution with unit variance around the true\n",
        "        # value 'q'\n",
        "        value = self.var * np.random.randn() + self.q        \n",
        "        \n",
        "        # never allow a charge less than 0 to be returned        \n",
        "        return 0 if value < 0 else value\n",
        "                    \n",
        "    def update(self,R):\n",
        "        \"\"\" update this socket after it has returned reward value 'R' \"\"\"     \n",
        "    \n",
        "        # increment the number of times this socket has been tried\n",
        "        self.n += 1\n",
        "\n",
        "        # the new estimate of the mean is calculated from the old estimate\n",
        "        self.Q = (1 - 1.0/self.n) * self.Q + (1.0/self.n) * R\n",
        "\n",
        "    def uncertainty(self, t): \n",
        "        \"\"\" calculate the uncertainty in the estimate of this socket's mean \"\"\"\n",
        "        if self.n == 0: return float('inf')                         \n",
        "        return self.confidence_level * (np.sqrt(np.log(t) / self.n))         \n",
        "        \n",
        "    def sample(self,t):\n",
        "        \"\"\" the UCB reward is the estimate of the mean reward plus its uncertainty \"\"\"\n",
        "        return self.Q + self.uncertainty(t) "
      ],
      "metadata": {
        "id": "p8tfQUa07n9G"
      },
      "execution_count": 7,
      "outputs": []
    },
    {
      "cell_type": "code",
      "source": [
        "# return the index of the largest value in the supplied list\n",
        "# - arbitrarily select between the largest values in the case of a tie\n",
        "# (the standard np.argmax just chooses the first value in the case of a tie)\n",
        "def random_argmax(value_list):\n",
        "  \"\"\" a random tie-breaking argmax\"\"\"\n",
        "  values = np.asarray(value_list)\n",
        "  return np.argmax(np.random.random(values.shape) * (values==values.max()))\n"
      ],
      "metadata": {
        "id": "AnVMnmyuEth1"
      },
      "execution_count": 8,
      "outputs": []
    },
    {
      "cell_type": "code",
      "source": [
        "class SocketTester():\n",
        "    \"\"\" create and test a set of sockets over a single test run \"\"\"\n",
        "\n",
        "    def __init__(self, socket, socket_order, confidence_level):  \n",
        "        \n",
        "        # create supplied socket type with a mean value defined by socket order \n",
        "        self.sockets = [socket(q, confidence_level) for q in socket_order]     \n",
        "        \n",
        "        # set the number of sockets equal to the number created\n",
        "        self.number_of_sockets = len(self.sockets)\n",
        "\n",
        "        self.number_of_stats = 2                 \n",
        "            \n",
        "    def initialize_run(self, number_of_steps):\n",
        "        \"\"\" reset counters at the start of a run \"\"\"\n",
        "        \n",
        "        # save the number of steps over which the run will take place\n",
        "        self.number_of_steps = number_of_steps\n",
        "        \n",
        "        # reset the actual number of steps that the test ran for\n",
        "        self.total_steps = 0\n",
        "        \n",
        "        # monitor the total reward obtained over the run\n",
        "        self.total_reward = 0\n",
        "        \n",
        "        # the current total reward at each timestep of the run\n",
        "        self.total_reward_per_timestep = []\n",
        "        \n",
        "        # the actual reward obtained at each timestep\n",
        "        self.reward_per_timestep = []\n",
        "           \n",
        "        # stats for each time-step\n",
        "        # - by default records: estimate, number of trials\n",
        "        self.socket_stats = np.zeros(shape=(number_of_steps+1, \n",
        "                                            self.number_of_sockets, \n",
        "                                            self.number_of_stats))\n",
        "        \n",
        "        # ensure that all sockets are re-initialized\n",
        "        for socket in self.sockets: socket.initialize()\n",
        "            \n",
        "                                \n",
        "    def charge_and_update(self,socket_index):\n",
        "        \"\"\" charge from & update the specified socket and associated parameters \"\"\"\n",
        "        \n",
        "        # charge from the chosen socket and update its mean reward value\n",
        "        reward = self.sockets[socket_index].charge()\n",
        "        self.sockets[socket_index].update(reward)\n",
        "\n",
        "        # update the total reward\n",
        "        self.total_reward += reward   \n",
        "        \n",
        "        # store the current total reward at this timestep\n",
        "        self.total_reward_per_timestep.append(self.total_reward)\n",
        "        \n",
        "        # store the reward obtained at this timestep\n",
        "        self.reward_per_timestep.append(reward)        \n",
        "        \n",
        "        \n",
        "    def get_socket_stats( self, t ):\n",
        "        \"\"\" get the current information from each socket \"\"\"        \n",
        "        socket_stats = [[socket.Q, socket.n] for socket in self.sockets]\n",
        "        return socket_stats     \n",
        "    \n",
        "    def get_mean_reward( self ):\n",
        "        \"\"\" the total reward averaged over the number of time steps \"\"\"\n",
        "        return (self.total_reward/self.total_steps)\n",
        "    \n",
        "    def get_total_reward_per_timestep( self ):\n",
        "        \"\"\" the cumulative total reward at each timestep of the run \"\"\"\n",
        "        return self.total_reward_per_timestep\n",
        "    \n",
        "    def get_reward_per_timestep( self ):\n",
        "        \"\"\" the actual reward obtained at each timestep of the run \"\"\"\n",
        "        return self.reward_per_timestep\n",
        "    \n",
        "    def get_estimates(self):\n",
        "        \"\"\" get the estimate of each socket's reward at each timestep of the run \"\"\"\n",
        "        return self.socket_stats[:,:,0]  \n",
        "    \n",
        "    def get_number_of_trials(self):\n",
        "        \"\"\" get the number of trials of each socket at each timestep of the run \"\"\"\n",
        "        return self.socket_stats[:,:,1]          \n",
        "                \n",
        "    def get_socket_percentages( self ):\n",
        "        \"\"\" get the percentage of times each socket was tried over the run \"\"\"\n",
        "        return (self.socket_stats[:,:,1][self.total_steps]/self.total_steps)        \n",
        "    \n",
        "    def get_time_steps( self ):\n",
        "        \"\"\" get the number of time steps that the test ran for \"\"\"\n",
        "        return self.total_steps\n",
        "    \n",
        "    def select_socket( self, t ):\n",
        "        \"\"\" Greedy Socket Selection\"\"\"\n",
        "        \n",
        "        # choose the socket with the current highest mean reward or arbitrarily\n",
        "        # select a socket in the case of a tie            \n",
        "        socket_index = random_argmax([socket.sample(t+1) for socket in self.sockets]) \n",
        "        return socket_index     \n",
        "    \n",
        "    \n",
        "    def run( self, number_of_steps, maximum_total_reward = float('inf')):  \n",
        "        \"\"\" perform a single run, over the set of sockets, \n",
        "            for the defined number of steps \"\"\"\n",
        "        \n",
        "        # reset the run counters\n",
        "        self.initialize_run(number_of_steps)\n",
        "        \n",
        "        # loop for the specified number of time-steps\n",
        "        for t in range(number_of_steps):\n",
        "\n",
        "            # get information about all sockets at the start of the time step\n",
        "            self.socket_stats[t] = self.get_socket_stats(t)            \n",
        "            \n",
        "            # select a socket\n",
        "            socket_index = self.select_socket(t)\n",
        "            \n",
        "            # charge from the chosen socket and update its mean reward value\n",
        "            self.charge_and_update(socket_index)\n",
        "            \n",
        "            # test if the accumulated total reward is greater than the maximum\n",
        "            if self.total_reward > maximum_total_reward:\n",
        "                break\n",
        "       \n",
        "        # save the actual number of steps that have been run\n",
        "        self.total_steps = t    \n",
        "    \n",
        "        # get the stats for each socket at the end of the run        \n",
        "        self.socket_stats[t+1] = self.get_socket_stats(t+1)           \n",
        "        \n",
        "        return self.total_steps, self.total_reward\n",
        "  "
      ],
      "metadata": {
        "id": "zCz0kAoMAizG"
      },
      "execution_count": 9,
      "outputs": []
    },
    {
      "cell_type": "code",
      "source": [
        "test = SocketTester(PowerSocket, [85.55, 81.93, 82.84, 79.94, 71.03, 66.35, 74.71, 67.31], 5)\n",
        "test.run(1000)\n",
        "test.get_number_of_trials()[-1]"
      ],
      "metadata": {
        "colab": {
          "base_uri": "https://localhost:8080/"
        },
        "id": "pnakDg5QCwfq",
        "outputId": "50684566-9e78-46b4-b0fb-38d0c5431b95"
      },
      "execution_count": 10,
      "outputs": [
        {
          "output_type": "execute_result",
          "data": {
            "text/plain": [
              "array([959.,  13.,  17.,   6.,   1.,   1.,   2.,   1.])"
            ]
          },
          "metadata": {},
          "execution_count": 10
        }
      ]
    },
    {
      "cell_type": "code",
      "source": [
        "class SocketTesterBatch():\n",
        "    \"\"\" create and test a set of sockets over a single test run \"\"\"\n",
        "\n",
        "    def __init__(self, socket, socket_order, confidence_level):  \n",
        "        \n",
        "        # create supplied socket type with a mean value defined by socket order \n",
        "        self.sockets = [socket(q, confidence_level) for q in socket_order]     \n",
        "        \n",
        "        # set the number of sockets equal to the number created\n",
        "        self.number_of_sockets = len(self.sockets)\n",
        "\n",
        "        self.number_of_stats = 2                 \n",
        "            \n",
        "    def initialize_run(self, number_of_steps):\n",
        "        \"\"\" reset counters at the start of a run \"\"\"\n",
        "        \n",
        "        # save the number of steps over which the run will take place\n",
        "        self.number_of_steps = number_of_steps\n",
        "        \n",
        "        # reset the actual number of steps that the test ran for\n",
        "        self.total_steps = 0\n",
        "        \n",
        "        # monitor the total reward obtained over the run\n",
        "        self.total_reward = 0\n",
        "        \n",
        "        # the current total reward at each timestep of the run\n",
        "        self.total_reward_per_timestep = []\n",
        "        \n",
        "        # the actual reward obtained at each timestep\n",
        "        self.reward_per_timestep = []\n",
        "           \n",
        "        # stats for each time-step\n",
        "        # - by default records: estimate, number of trials\n",
        "        self.socket_stats = np.zeros(shape=(number_of_steps+1, \n",
        "                                            self.number_of_sockets, \n",
        "                                            self.number_of_stats))\n",
        "        \n",
        "        # ensure that all sockets are re-initialized\n",
        "        for socket in self.sockets: socket.initialize()\n",
        "            \n",
        "                                \n",
        "    def charge_and_update(self,socket_index):\n",
        "        \"\"\" charge from & update the specified socket and associated parameters \"\"\"\n",
        "        \n",
        "        # charge from the chosen socket and update its mean reward value\n",
        "        reward = self.sockets[socket_index].charge()\n",
        "        self.sockets[socket_index].update(reward)\n",
        "\n",
        "        # update the total reward\n",
        "        self.total_reward += reward   \n",
        "        \n",
        "        # store the current total reward at this timestep\n",
        "        self.total_reward_per_timestep.append(self.total_reward)\n",
        "        \n",
        "        # store the reward obtained at this timestep\n",
        "        self.reward_per_timestep.append(reward)        \n",
        "        \n",
        "        \n",
        "    def get_socket_stats( self, t ):\n",
        "        \"\"\" get the current information from each socket \"\"\"        \n",
        "        socket_stats = [[socket.Q, socket.n] for socket in self.sockets]\n",
        "        return socket_stats     \n",
        "    \n",
        "    def get_mean_reward( self ):\n",
        "        \"\"\" the total reward averaged over the number of time steps \"\"\"\n",
        "        return (self.total_reward/self.total_steps)\n",
        "    \n",
        "    def get_total_reward_per_timestep( self ):\n",
        "        \"\"\" the cumulative total reward at each timestep of the run \"\"\"\n",
        "        return self.total_reward_per_timestep\n",
        "    \n",
        "    def get_reward_per_timestep( self ):\n",
        "        \"\"\" the actual reward obtained at each timestep of the run \"\"\"\n",
        "        return self.reward_per_timestep\n",
        "    \n",
        "    def get_estimates(self):\n",
        "        \"\"\" get the estimate of each socket's reward at each timestep of the run \"\"\"\n",
        "        return self.socket_stats[:,:,0]  \n",
        "    \n",
        "    def get_number_of_trials(self):\n",
        "        \"\"\" get the number of trials of each socket at each timestep of the run \"\"\"\n",
        "        return self.socket_stats[:,:,1]          \n",
        "                \n",
        "    def get_socket_percentages( self ):\n",
        "        \"\"\" get the percentage of times each socket was tried over the run \"\"\"\n",
        "        return (self.socket_stats[:,:,1][self.total_steps]/self.total_steps)        \n",
        "    \n",
        "    def get_time_steps( self ):\n",
        "        \"\"\" get the number of time steps that the test ran for \"\"\"\n",
        "        return self.total_steps\n",
        "    \n",
        "    def select_socket( self, t ):\n",
        "        \"\"\" Greedy Socket Selection\"\"\"\n",
        "        \n",
        "        # choose the socket with the current highest mean reward or arbitrarily\n",
        "        # select a socket in the case of a tie            \n",
        "        mask = [self.get_number_of_trials()[t][i]<self.possibles[i] for i in range(len(self.sockets))]\n",
        "        #print(mask)\n",
        "        available = [self.sockets[i] for i in range(len(self.sockets)) if (mask[i])]\n",
        "        socket_max = random_argmax([socket.sample(t+1) for socket in available]) \n",
        "        #print(socket_max)\n",
        "        socket_index = self.sockets.index(available[socket_max])\n",
        "        return socket_index     \n",
        "    \n",
        "    def return_increments(self, decisions_to_consider):\n",
        "        presence = np.array([i/len(decisions_to_consider) for i in self.possibles])\n",
        "        selected_presence = np.array(self.get_socket_percentages())\n",
        "        diff = np.subtract(selected_presence, presence)\n",
        "        #print(diff)\n",
        "        #print(diff.sum())\n",
        "        return diff\n",
        "    \n",
        "    def run( self, decisions_to_consider, max_percent_decisions=1, prints_bool = True):  \n",
        "        \"\"\" perform a single run, over the set of sockets, \n",
        "            for the defined number of steps \"\"\"\n",
        "        \n",
        "        # reset the run counters\n",
        "        self.initialize_run(len(decisions_to_consider))\n",
        "\n",
        "        self.possibles = [0]*8 #TODO: DEPENDS ON N OF CLUSTER (DECISIONS.UNIQUE() ISNT ENOUGH BECAUSE IT CAN LACK SOME INSTANCES)\n",
        "        for i in np.unique(np.array(decisions_to_consider)):\n",
        "          self.possibles[i] = decisions_to_consider.count(i) \n",
        "\n",
        "        usos = 0\n",
        "        usos_maxims = math.floor(max_percent_decisions*len(decisions_to_consider))\n",
        "        #print(usos_maxims)\n",
        "\n",
        "        # loop for the specified number of time-steps\n",
        "        for t in range(len(decisions_to_consider)):\n",
        "\n",
        "            # get information about all sockets at the start of the time step\n",
        "            self.socket_stats[t] = self.get_socket_stats(t)            \n",
        "            \n",
        "            # select a socket\n",
        "            socket_index = self.select_socket(t)\n",
        "            #if(decisions_to_consider[t]==socket_index):\n",
        "            if(self.get_number_of_trials()[t][socket_index]<self.possibles[socket_index]):\n",
        "              # charge from the chosen socket and update its mean reward value\n",
        "              self.charge_and_update(socket_index)\n",
        "              usos+=1\n",
        "              \n",
        "              if usos > usos_maxims:\n",
        "                  #print(usos,usos_maxims)\n",
        "                  break\n",
        "        # save the actual number of steps that have been run\n",
        "        self.total_steps = t    \n",
        "    \n",
        "        # get the stats for each socket at the end of the run        \n",
        "        self.socket_stats[t+1] = self.get_socket_stats(t+1)           \n",
        "        \n",
        "        if(prints_bool):\n",
        "          #print(\"Reward distribution:\",[s.q for s in self.sockets])\n",
        "          #print(\"Intances of each cluster:\",self.possibles)\n",
        "          print(\"Presence of each in batch (%):\",[100*i/len(decisions_to_consider) for i in self.possibles])\n",
        "          #print(\"Times selected:\",self.get_number_of_trials()[t])\n",
        "          print(\"Relative approval rate (%):\",[round(100*self.get_number_of_trials()[t][i]/self.possibles[i],2) if self.possibles[i]>0.0 else 0.0 for i in range(len(self.possibles))])\n",
        "          print(\"Percentage over total selected (%):\",[round(100*p,2) for p in self.get_socket_percentages()])\n",
        "          #print(\"For a total reward:\",self.total_reward)\n",
        "\n",
        "\n",
        "        return self.total_steps, self.total_reward, self.return_increments(decisions_to_consider)\n",
        "  "
      ],
      "metadata": {
        "id": "6NcpcFYlGLjb"
      },
      "execution_count": 11,
      "outputs": []
    },
    {
      "cell_type": "code",
      "source": [
        "import math\n",
        "import random"
      ],
      "metadata": {
        "id": "eGkoVRSTIcSY"
      },
      "execution_count": 12,
      "outputs": []
    },
    {
      "cell_type": "code",
      "source": [
        "test2 = SocketTesterBatch(PowerSocket, np.array([.8555, .8193, .8284, .7994, .7103, .6635, .7471, .6731])*100, 5)\n",
        "\n",
        "decisions = random.choices(range(8), k=1000)\n",
        "ts,tr,_ = test2.run(decisions)"
      ],
      "metadata": {
        "colab": {
          "base_uri": "https://localhost:8080/"
        },
        "id": "DbwS4aiVIOdu",
        "outputId": "1851922e-551c-47b7-d64c-ee60b3ff7bb0"
      },
      "execution_count": 13,
      "outputs": [
        {
          "output_type": "stream",
          "name": "stdout",
          "text": [
            "Presence of each in batch (%): [11.7, 13.2, 10.8, 11.7, 14.8, 11.0, 15.2, 11.6]\n",
            "Relative approval rate (%): [100.0, 100.0, 100.0, 100.0, 100.0, 99.09, 100.0, 100.0]\n",
            "Percentage over total selected (%): [11.71, 13.21, 10.81, 11.71, 14.81, 10.91, 15.22, 11.61]\n"
          ]
        }
      ]
    },
    {
      "cell_type": "code",
      "source": [
        "ts,tr,_ = test2.run(decisions, 0.8)"
      ],
      "metadata": {
        "colab": {
          "base_uri": "https://localhost:8080/"
        },
        "id": "1d47Wgx9cXYL",
        "outputId": "53ddddca-5e63-4ed3-e8e2-7c92c3c38644"
      },
      "execution_count": 14,
      "outputs": [
        {
          "output_type": "stream",
          "name": "stdout",
          "text": [
            "Presence of each in batch (%): [11.7, 13.2, 10.8, 11.7, 14.8, 11.0, 15.2, 11.6]\n",
            "Relative approval rate (%): [100.0, 100.0, 100.0, 100.0, 100.0, 8.18, 100.0, 14.66]\n",
            "Percentage over total selected (%): [14.62, 16.5, 13.5, 14.62, 18.5, 1.12, 19.0, 2.12]\n"
          ]
        }
      ]
    },
    {
      "cell_type": "code",
      "source": [
        "sample_bias = [0.555, 0.24, 0.023, 0.011, 0.087, 0.081, 0.001, 0.001]\n",
        "sample_bias_decisions = random.choices(range(8),weights=sample_bias,k=1000)\n",
        "#print(sample_bias_decisions)\n",
        "ts,tr,_ = test2.run(sample_bias_decisions, 0.8)"
      ],
      "metadata": {
        "colab": {
          "base_uri": "https://localhost:8080/"
        },
        "id": "1nret0OpcuM9",
        "outputId": "fc3668bd-1188-40db-8643-0bbbd73eff8d"
      },
      "execution_count": 15,
      "outputs": [
        {
          "output_type": "stream",
          "name": "stdout",
          "text": [
            "Presence of each in batch (%): [55.1, 24.7, 1.9, 0.9, 7.8, 9.4, 0.0, 0.2]\n",
            "Relative approval rate (%): [100.0, 87.85, 100.0, 100.0, 2.56, 1.06, 0.0, 50.0]\n",
            "Percentage over total selected (%): [68.88, 27.12, 2.38, 1.12, 0.25, 0.12, 0.0, 0.12]\n"
          ]
        }
      ]
    },
    {
      "cell_type": "markdown",
      "source": [
        "###**NON-STATIC**"
      ],
      "metadata": {
        "id": "KFPxU49FzLqe"
      }
    },
    {
      "cell_type": "code",
      "source": [
        "#def f(probs, val, ind):\n",
        "#    probs[ind] += val\n",
        "#    mask = np.ones(len(probs), bool)\n",
        "#    mask[ind] = False\n",
        "#    probs[mask] -= val / (len(probs) - 1)\n",
        "#    return np.clip(probs, 0, np.infty) / np.sum(np.clip(probs, 0, np.infty))"
      ],
      "metadata": {
        "id": "K56OQeDy-HqE"
      },
      "execution_count": 16,
      "outputs": []
    },
    {
      "cell_type": "code",
      "source": [
        "def cummulative_sample(tester,iter,orig, coef):\n",
        "  instances_distribution = np.array(orig)\n",
        "  for i in range(iter):\n",
        "    pbool=False\n",
        "    if(i%math.ceil(iter/4)==0 or i==iter-1):\n",
        "      print(i)\n",
        "      #print(list(instances_distribution))\n",
        "      pbool=True\n",
        "\n",
        "    decisions = random.choices(range(8),weights=list(instances_distribution),k=1000)\n",
        "    ts,tr,ti = tester.run(decisions, 0.8, pbool)\n",
        "    \n",
        "    #for i in range(len(ti)):\n",
        "    #  instances_distribution = f(instances_distribution,ti[i],i)\n",
        "    instances_distribution = np.add(instances_distribution,ti*coef)\n",
        "    instances_distribution = np.clip(instances_distribution,0,None)\n",
        "    instances_distribution = instances_distribution / instances_distribution.sum()"
      ],
      "metadata": {
        "id": "GANuWD7KzSzh"
      },
      "execution_count": 17,
      "outputs": []
    },
    {
      "cell_type": "code",
      "source": [
        "o_sample_bias = [0.555, 0.24, 0.023, 0.011, 0.087, 0.081, 0.001, 0.001]\n",
        "cummulative_sample(test2,35,o_sample_bias,0.05)"
      ],
      "metadata": {
        "colab": {
          "base_uri": "https://localhost:8080/"
        },
        "id": "Gx3cD1zIC4KH",
        "outputId": "a833a8fb-e2e8-4fb8-d8da-290bffb71574"
      },
      "execution_count": 18,
      "outputs": [
        {
          "output_type": "stream",
          "name": "stdout",
          "text": [
            "0\n",
            "Presence of each in batch (%): [54.2, 24.6, 2.6, 1.1, 9.4, 7.7, 0.3, 0.1]\n",
            "Relative approval rate (%): [100.0, 86.99, 100.0, 100.0, 2.13, 1.3, 100.0, 100.0]\n",
            "Percentage over total selected (%): [67.75, 26.75, 3.25, 1.38, 0.25, 0.12, 0.38, 0.12]\n",
            "9\n",
            "Presence of each in batch (%): [61.3, 22.9, 3.6, 0.9, 5.6, 5.5, 0.1, 0.1]\n",
            "Relative approval rate (%): [100.0, 59.83, 100.0, 100.0, 3.57, 1.82, 100.0, 100.0]\n",
            "Percentage over total selected (%): [76.62, 17.12, 4.5, 1.12, 0.25, 0.12, 0.12, 0.12]\n",
            "18\n",
            "Presence of each in batch (%): [68.1, 20.9, 3.4, 0.7, 3.9, 2.5, 0.2, 0.3]\n",
            "Relative approval rate (%): [100.0, 34.45, 100.0, 100.0, 5.13, 4.0, 100.0, 33.33]\n",
            "Percentage over total selected (%): [85.12, 9.0, 4.25, 0.88, 0.25, 0.12, 0.25, 0.12]\n",
            "27\n",
            "Presence of each in batch (%): [77.4, 13.4, 3.2, 1.6, 2.2, 2.1, 0.0, 0.1]\n",
            "Relative approval rate (%): [98.71, 8.21, 50.0, 37.5, 4.55, 4.76, 0.0, 100.0]\n",
            "Percentage over total selected (%): [95.5, 1.38, 2.0, 0.75, 0.12, 0.12, 0.0, 0.12]\n",
            "34\n",
            "Presence of each in batch (%): [83.8, 8.4, 3.3, 0.8, 1.9, 1.5, 0.0, 0.3]\n",
            "Relative approval rate (%): [91.17, 14.29, 45.45, 62.5, 10.53, 6.67, 0.0, 33.33]\n",
            "Percentage over total selected (%): [95.5, 1.5, 1.88, 0.62, 0.25, 0.12, 0.0, 0.12]\n"
          ]
        }
      ]
    },
    {
      "cell_type": "code",
      "source": [
        "no_sample_bias = [1/8]*8\n",
        "cummulative_sample(test2,35,no_sample_bias,0.05)"
      ],
      "metadata": {
        "colab": {
          "base_uri": "https://localhost:8080/"
        },
        "id": "cJ4_y3P4EDgD",
        "outputId": "650ecbee-d948-4f27-afda-61faaaad0e81"
      },
      "execution_count": 19,
      "outputs": [
        {
          "output_type": "stream",
          "name": "stdout",
          "text": [
            "0\n",
            "Presence of each in batch (%): [11.5, 12.7, 12.9, 12.8, 12.1, 12.0, 13.8, 12.2]\n",
            "Relative approval rate (%): [100.0, 100.0, 100.0, 100.0, 100.0, 14.17, 100.0, 20.49]\n",
            "Percentage over total selected (%): [14.37, 15.88, 16.12, 16.0, 15.12, 2.12, 17.25, 3.12]\n",
            "9\n",
            "Presence of each in batch (%): [14.5, 13.9, 13.8, 16.8, 12.5, 6.4, 13.7, 8.4]\n",
            "Relative approval rate (%): [100.0, 100.0, 100.0, 100.0, 49.6, 6.25, 100.0, 8.33]\n",
            "Percentage over total selected (%): [18.12, 17.38, 17.25, 21.0, 7.75, 0.5, 17.12, 0.88]\n",
            "18\n",
            "Presence of each in batch (%): [15.7, 15.7, 15.2, 16.7, 9.3, 6.1, 16.3, 5.0]\n",
            "Relative approval rate (%): [100.0, 100.0, 100.0, 100.0, 9.68, 4.92, 93.25, 6.0]\n",
            "Percentage over total selected (%): [19.62, 19.62, 19.0, 20.88, 1.12, 0.38, 19.0, 0.38]\n",
            "27\n",
            "Presence of each in batch (%): [18.1, 16.2, 21.1, 18.9, 6.0, 2.9, 13.7, 3.1]\n",
            "Relative approval rate (%): [100.0, 100.0, 100.0, 100.0, 10.0, 6.9, 33.58, 9.68]\n",
            "Percentage over total selected (%): [22.62, 20.25, 26.38, 23.62, 0.75, 0.25, 5.75, 0.38]\n",
            "34\n",
            "Presence of each in batch (%): [19.0, 20.9, 20.3, 17.4, 4.3, 2.0, 13.5, 2.6]\n",
            "Relative approval rate (%): [100.0, 100.0, 100.0, 100.0, 11.63, 10.0, 11.11, 7.69]\n",
            "Percentage over total selected (%): [23.75, 26.12, 25.37, 21.75, 0.62, 0.25, 1.88, 0.25]\n"
          ]
        }
      ]
    },
    {
      "cell_type": "code",
      "source": [
        "no_sample_bias = [1/8]*8\n",
        "cummulative_sample(test2,150,no_sample_bias,0.05)"
      ],
      "metadata": {
        "colab": {
          "base_uri": "https://localhost:8080/"
        },
        "id": "9LV85u5IC5fR",
        "outputId": "a9b508ab-84f6-4366-db8b-977467b68fc6"
      },
      "execution_count": 20,
      "outputs": [
        {
          "output_type": "stream",
          "name": "stdout",
          "text": [
            "0\n",
            "Presence of each in batch (%): [12.4, 11.9, 12.9, 11.4, 12.1, 13.8, 13.2, 12.3]\n",
            "Relative approval rate (%): [100.0, 100.0, 100.0, 100.0, 100.0, 13.77, 100.0, 34.15]\n",
            "Percentage over total selected (%): [15.5, 14.88, 16.12, 14.25, 15.12, 2.38, 16.5, 5.25]\n",
            "38\n",
            "Presence of each in batch (%): [17.6, 18.3, 21.8, 20.6, 4.7, 3.0, 11.6, 2.4]\n",
            "Relative approval rate (%): [100.0, 100.0, 100.0, 100.0, 6.38, 3.33, 9.48, 8.33]\n",
            "Percentage over total selected (%): [22.0, 22.88, 27.25, 25.75, 0.38, 0.12, 1.38, 0.25]\n",
            "76\n",
            "Presence of each in batch (%): [32.3, 23.8, 32.7, 8.0, 0.7, 0.3, 1.6, 0.6]\n",
            "Relative approval rate (%): [100.0, 53.36, 100.0, 21.25, 28.57, 33.33, 12.5, 16.67]\n",
            "Percentage over total selected (%): [40.38, 15.88, 40.88, 2.12, 0.25, 0.12, 0.25, 0.12]\n",
            "114\n",
            "Presence of each in batch (%): [49.0, 10.6, 37.0, 2.3, 0.3, 0.1, 0.6, 0.1]\n",
            "Relative approval rate (%): [100.0, 49.06, 64.59, 56.52, 33.33, 100.0, 50.0, 100.0]\n",
            "Percentage over total selected (%): [61.25, 6.5, 29.88, 1.62, 0.12, 0.12, 0.38, 0.12]\n",
            "149\n",
            "Presence of each in batch (%): [79.0, 4.9, 13.7, 1.4, 0.4, 0.3, 0.2, 0.1]\n",
            "Relative approval rate (%): [96.2, 18.37, 14.6, 42.86, 25.0, 33.33, 100.0, 100.0]\n",
            "Percentage over total selected (%): [95.0, 1.12, 2.5, 0.75, 0.12, 0.12, 0.25, 0.12]\n"
          ]
        }
      ]
    },
    {
      "cell_type": "code",
      "source": [
        "def nonstatic(iter, rewards_d_o, r_coef, instances_d_o, i_coef):\n",
        "  rewards_d = np.array(rewards_d_o)\n",
        "  instances_d = np.array(instances_d_o)\n",
        "\n",
        "  #iter = 1000\n",
        "  for i in range(iter):\n",
        "    pbool=False\n",
        "    if(i%math.ceil(iter/4)==0 or i==iter-1):\n",
        "        print(i)\n",
        "        #print(list(instances_distribution))\n",
        "        pbool=True\n",
        "\n",
        "    updated_test = SocketTesterBatch(PowerSocket, list(rewards_d), 5)\n",
        "    decisions = random.choices(range(8),weights=list(instances_d),k=1000)\n",
        "    ts,tr,ti = updated_test.run(decisions, 0.8, pbool)\n",
        "\n",
        "    increments = ti\n",
        "    #increments = np.subtract(np.array(updated_test.get_socket_percentages()),0.5)\n",
        "    #print(increments)\n",
        "\n",
        "    rewards_d = np.add(rewards_d,increments*r_coef*100)\n",
        "    rewards_d = np.clip(rewards_d,0,100)\n",
        "    #print(rewards_d)\n",
        "\n",
        "    instances_d = np.add(instances_d,increments*i_coef)\n",
        "    instances_d = np.clip(instances_d,0,None)\n",
        "    instances_d = instances_d / instances_d.sum()"
      ],
      "metadata": {
        "id": "92tyyqv-ENiD"
      },
      "execution_count": 21,
      "outputs": []
    },
    {
      "cell_type": "code",
      "source": [
        "rewards_bias = np.array([.8555, .8193, .8284, .7994, .7103, .6635, .7471, .6731])*100\n",
        "rewards_nonbias = [100/2]*8\n",
        "\n",
        "instances_bias = [0.555, 0.24, 0.023, 0.011, 0.087, 0.081, 0.001, 0.001]\n",
        "instances_nonbias = [1/8]*8"
      ],
      "metadata": {
        "id": "6qdqEOdfJbWX"
      },
      "execution_count": 22,
      "outputs": []
    },
    {
      "cell_type": "code",
      "source": [
        "nonstatic(100, rewards_nonbias, 0, instances_nonbias, 0)"
      ],
      "metadata": {
        "colab": {
          "base_uri": "https://localhost:8080/"
        },
        "id": "FejlbpgnQl7X",
        "outputId": "145a6dee-1bd1-4ac3-b64b-e6012d372d8e"
      },
      "execution_count": 23,
      "outputs": [
        {
          "output_type": "stream",
          "name": "stdout",
          "text": [
            "0\n",
            "Presence of each in batch (%): [13.4, 12.4, 12.9, 13.3, 11.5, 11.9, 11.5, 13.1]\n",
            "Relative approval rate (%): [74.63, 95.16, 88.37, 75.94, 94.78, 89.92, 73.04, 51.15]\n",
            "Percentage over total selected (%): [12.5, 14.75, 14.25, 12.62, 13.63, 13.38, 10.5, 8.38]\n",
            "25\n",
            "Presence of each in batch (%): [12.9, 12.0, 12.4, 9.9, 13.5, 12.8, 13.3, 13.2]\n",
            "Relative approval rate (%): [88.37, 94.17, 76.61, 95.96, 66.67, 80.47, 70.68, 72.73]\n",
            "Percentage over total selected (%): [14.25, 14.12, 11.88, 11.88, 11.25, 12.88, 11.75, 12.0]\n",
            "50\n",
            "Presence of each in batch (%): [12.5, 13.4, 12.6, 11.8, 11.5, 12.0, 14.5, 11.7]\n",
            "Relative approval rate (%): [90.4, 98.51, 75.4, 91.53, 83.48, 69.17, 51.72, 83.76]\n",
            "Percentage over total selected (%): [14.12, 16.5, 11.88, 13.5, 12.0, 10.38, 9.38, 12.25]\n",
            "75\n",
            "Presence of each in batch (%): [11.9, 11.5, 12.6, 11.7, 12.1, 13.0, 12.8, 14.4]\n",
            "Relative approval rate (%): [82.35, 84.35, 53.97, 79.49, 81.82, 87.69, 78.91, 90.28]\n",
            "Percentage over total selected (%): [12.25, 12.12, 8.5, 11.62, 12.38, 14.25, 12.62, 16.25]\n",
            "99\n",
            "Presence of each in batch (%): [11.3, 11.9, 13.4, 11.6, 12.5, 13.4, 14.0, 11.9]\n",
            "Relative approval rate (%): [94.69, 73.11, 82.84, 84.48, 74.4, 82.84, 74.29, 74.79]\n",
            "Percentage over total selected (%): [13.38, 10.88, 13.88, 12.25, 11.62, 13.88, 13.0, 11.12]\n"
          ]
        }
      ]
    },
    {
      "cell_type": "code",
      "source": [
        "nonstatic(2500, rewards_nonbias, 0, instances_bias, 0.01)"
      ],
      "metadata": {
        "colab": {
          "base_uri": "https://localhost:8080/"
        },
        "id": "ESF0BONSY2zn",
        "outputId": "5c1e8555-4c88-4aed-fad1-dcc8758da158"
      },
      "execution_count": 24,
      "outputs": [
        {
          "output_type": "stream",
          "name": "stdout",
          "text": [
            "0\n",
            "Presence of each in batch (%): [54.0, 26.1, 1.8, 1.0, 7.5, 9.4, 0.1, 0.1]\n",
            "Relative approval rate (%): [62.96, 100.0, 100.0, 100.0, 100.0, 100.0, 100.0, 100.0]\n",
            "Percentage over total selected (%): [42.5, 32.62, 2.25, 1.25, 9.38, 11.75, 0.12, 0.12]\n",
            "625\n",
            "Presence of each in batch (%): [21.6, 22.5, 11.9, 4.7, 17.9, 20.4, 0.3, 0.7]\n",
            "Relative approval rate (%): [60.19, 74.22, 100.0, 100.0, 93.3, 78.43, 100.0, 100.0]\n",
            "Percentage over total selected (%): [16.25, 20.88, 14.88, 5.88, 20.88, 20.0, 0.38, 0.88]\n",
            "1250\n",
            "Presence of each in batch (%): [14.7, 15.5, 15.9, 17.2, 16.9, 14.8, 2.5, 2.5]\n",
            "Relative approval rate (%): [77.55, 100.0, 78.62, 65.7, 76.33, 77.03, 100.0, 100.0]\n",
            "Percentage over total selected (%): [14.25, 19.38, 15.62, 14.12, 16.12, 14.25, 3.12, 3.12]\n",
            "1875\n",
            "Presence of each in batch (%): [14.4, 13.5, 13.4, 12.6, 13.5, 14.2, 8.5, 9.9]\n",
            "Relative approval rate (%): [52.08, 82.22, 75.37, 86.51, 74.81, 83.8, 100.0, 100.0]\n",
            "Percentage over total selected (%): [9.38, 13.88, 12.62, 13.63, 12.62, 14.88, 10.62, 12.38]\n",
            "2499\n",
            "Presence of each in batch (%): [11.5, 14.6, 11.9, 13.6, 12.5, 12.6, 12.2, 11.1]\n",
            "Relative approval rate (%): [73.91, 63.7, 62.18, 77.21, 89.6, 79.37, 98.36, 100.0]\n",
            "Percentage over total selected (%): [10.62, 11.62, 9.25, 13.12, 14.0, 12.5, 15.0, 13.88]\n"
          ]
        }
      ]
    },
    {
      "cell_type": "code",
      "source": [
        "nonstatic(100, rewards_bias, 0, instances_nonbias, 0)"
      ],
      "metadata": {
        "id": "oqORHeh6aGMa",
        "colab": {
          "base_uri": "https://localhost:8080/"
        },
        "outputId": "db47efff-2f36-4d72-ddd1-68a7e2389297"
      },
      "execution_count": 25,
      "outputs": [
        {
          "output_type": "stream",
          "name": "stdout",
          "text": [
            "0\n",
            "Presence of each in batch (%): [12.5, 12.3, 13.6, 13.7, 12.0, 10.9, 11.6, 13.4]\n",
            "Relative approval rate (%): [100.0, 100.0, 100.0, 100.0, 100.0, 11.93, 100.0, 22.39]\n",
            "Percentage over total selected (%): [15.62, 15.38, 17.0, 17.12, 15.0, 1.62, 14.5, 3.75]\n",
            "25\n",
            "Presence of each in batch (%): [10.5, 10.8, 13.3, 13.0, 13.7, 12.8, 13.0, 12.9]\n",
            "Relative approval rate (%): [100.0, 100.0, 100.0, 100.0, 100.0, 14.06, 100.0, 30.23]\n",
            "Percentage over total selected (%): [13.12, 13.5, 16.62, 16.25, 17.12, 2.25, 16.25, 4.88]\n",
            "50\n",
            "Presence of each in batch (%): [11.1, 12.5, 13.1, 13.0, 11.3, 11.2, 13.5, 14.3]\n",
            "Relative approval rate (%): [100.0, 100.0, 100.0, 100.0, 100.0, 20.54, 100.0, 22.38]\n",
            "Percentage over total selected (%): [13.88, 15.62, 16.38, 16.25, 14.12, 2.88, 16.88, 4.0]\n",
            "75\n",
            "Presence of each in batch (%): [14.3, 12.0, 11.5, 12.0, 15.6, 11.1, 12.0, 11.5]\n",
            "Relative approval rate (%): [100.0, 100.0, 100.0, 100.0, 100.0, 9.91, 100.0, 13.04]\n",
            "Percentage over total selected (%): [17.88, 15.0, 14.37, 15.0, 19.5, 1.38, 15.0, 1.88]\n",
            "99\n",
            "Presence of each in batch (%): [11.3, 12.6, 14.1, 13.5, 11.9, 13.3, 10.8, 12.5]\n",
            "Relative approval rate (%): [100.0, 100.0, 100.0, 100.0, 100.0, 14.29, 100.0, 31.2]\n",
            "Percentage over total selected (%): [14.12, 15.75, 17.62, 16.88, 14.88, 2.38, 13.5, 4.88]\n"
          ]
        }
      ]
    },
    {
      "cell_type": "code",
      "source": [
        "nonstatic(100, rewards_bias, 0.1, instances_nonbias, 0)"
      ],
      "metadata": {
        "id": "NCzrIuvtRI9q",
        "colab": {
          "base_uri": "https://localhost:8080/"
        },
        "outputId": "4a522af6-c32f-4260-dc10-84204b90462c"
      },
      "execution_count": 26,
      "outputs": [
        {
          "output_type": "stream",
          "name": "stdout",
          "text": [
            "0\n",
            "Presence of each in batch (%): [12.4, 12.3, 12.3, 13.1, 12.3, 12.8, 12.4, 12.4]\n",
            "Relative approval rate (%): [100.0, 100.0, 100.0, 100.0, 100.0, 10.94, 100.0, 30.65]\n",
            "Percentage over total selected (%): [15.5, 15.38, 15.38, 16.38, 15.38, 1.75, 15.5, 4.75]\n",
            "25\n",
            "Presence of each in batch (%): [13.6, 11.5, 13.9, 11.2, 11.7, 12.3, 13.0, 12.8]\n",
            "Relative approval rate (%): [100.0, 100.0, 100.0, 100.0, 100.0, 0.81, 100.0, 39.06]\n",
            "Percentage over total selected (%): [17.0, 14.37, 17.38, 14.0, 14.62, 0.12, 16.25, 6.25]\n",
            "50\n",
            "Presence of each in batch (%): [10.9, 13.9, 10.4, 13.8, 10.8, 13.7, 14.5, 12.0]\n",
            "Relative approval rate (%): [100.0, 100.0, 100.0, 100.0, 100.0, 0.73, 100.0, 46.67]\n",
            "Percentage over total selected (%): [13.63, 17.38, 13.0, 17.25, 13.5, 0.12, 18.12, 7.0]\n",
            "75\n",
            "Presence of each in batch (%): [12.2, 13.0, 12.8, 11.8, 12.4, 13.0, 14.4, 10.4]\n",
            "Relative approval rate (%): [100.0, 100.0, 100.0, 100.0, 100.0, 0.77, 100.0, 31.73]\n",
            "Percentage over total selected (%): [15.25, 16.25, 16.0, 14.75, 15.5, 0.12, 18.0, 4.12]\n",
            "99\n",
            "Presence of each in batch (%): [11.6, 13.1, 12.1, 13.0, 12.8, 12.9, 13.1, 11.4]\n",
            "Relative approval rate (%): [100.0, 100.0, 100.0, 100.0, 100.0, 4.65, 100.0, 32.46]\n",
            "Percentage over total selected (%): [14.5, 16.38, 15.12, 16.25, 16.0, 0.75, 16.38, 4.62]\n"
          ]
        }
      ]
    },
    {
      "cell_type": "code",
      "source": [
        "nonstatic(100, rewards_bias, 0, instances_bias, 0.01)"
      ],
      "metadata": {
        "id": "X0WG3QDAbQ8Y",
        "colab": {
          "base_uri": "https://localhost:8080/"
        },
        "outputId": "b4404557-aff1-4137-85b0-fe46a9f83c6e"
      },
      "execution_count": 27,
      "outputs": [
        {
          "output_type": "stream",
          "name": "stdout",
          "text": [
            "0\n",
            "Presence of each in batch (%): [58.3, 21.2, 1.8, 1.8, 8.6, 8.1, 0.0, 0.2]\n",
            "Relative approval rate (%): [100.0, 83.96, 100.0, 100.0, 1.16, 1.23, 0.0, 50.0]\n",
            "Percentage over total selected (%): [72.88, 22.25, 2.25, 2.25, 0.12, 0.12, 0.0, 0.12]\n",
            "25\n",
            "Presence of each in batch (%): [57.4, 25.2, 1.9, 1.6, 7.7, 6.2, 0.0, 0.0]\n",
            "Relative approval rate (%): [100.0, 75.0, 100.0, 100.0, 1.3, 1.61, 0.0, 0.0]\n",
            "Percentage over total selected (%): [71.75, 23.62, 2.38, 2.0, 0.12, 0.12, 0.0, 0.0]\n",
            "50\n",
            "Presence of each in batch (%): [63.4, 21.7, 2.4, 1.2, 6.5, 4.7, 0.1, 0.0]\n",
            "Relative approval rate (%): [100.0, 58.06, 100.0, 100.0, 3.08, 2.13, 100.0, 0.0]\n",
            "Percentage over total selected (%): [79.25, 15.75, 3.0, 1.5, 0.25, 0.12, 0.12, 0.0]\n",
            "75\n",
            "Presence of each in batch (%): [65.5, 22.3, 3.5, 1.0, 3.8, 3.9, 0.0, 0.0]\n",
            "Relative approval rate (%): [100.0, 43.5, 100.0, 100.0, 5.26, 2.56, 0.0, 0.0]\n",
            "Percentage over total selected (%): [81.88, 12.12, 4.38, 1.25, 0.25, 0.12, 0.0, 0.0]\n",
            "99\n",
            "Presence of each in batch (%): [72.0, 17.3, 2.8, 0.8, 3.9, 2.9, 0.3, 0.0]\n",
            "Relative approval rate (%): [100.0, 22.54, 100.0, 100.0, 2.56, 3.45, 100.0, 0.0]\n",
            "Percentage over total selected (%): [90.0, 4.88, 3.5, 1.0, 0.12, 0.12, 0.38, 0.0]\n"
          ]
        }
      ]
    },
    {
      "cell_type": "code",
      "source": [
        "nonstatic(100, rewards_bias, 0.01, instances_bias, 0)"
      ],
      "metadata": {
        "id": "NOh88ta5bBUq",
        "colab": {
          "base_uri": "https://localhost:8080/"
        },
        "outputId": "27fc8ec1-e842-49dc-9780-8b1bfb627108"
      },
      "execution_count": 28,
      "outputs": [
        {
          "output_type": "stream",
          "name": "stdout",
          "text": [
            "0\n",
            "Presence of each in batch (%): [54.5, 24.8, 2.4, 1.4, 9.3, 7.5, 0.1, 0.0]\n",
            "Relative approval rate (%): [100.0, 85.89, 100.0, 100.0, 2.15, 1.33, 100.0, 0.0]\n",
            "Percentage over total selected (%): [68.12, 26.62, 3.0, 1.75, 0.25, 0.12, 0.12, 0.0]\n",
            "25\n",
            "Presence of each in batch (%): [53.2, 26.1, 2.3, 0.8, 10.1, 7.2, 0.3, 0.0]\n",
            "Relative approval rate (%): [100.0, 88.89, 100.0, 100.0, 0.99, 1.39, 100.0, 0.0]\n",
            "Percentage over total selected (%): [66.5, 29.0, 2.88, 1.0, 0.12, 0.12, 0.38, 0.0]\n",
            "50\n",
            "Presence of each in batch (%): [52.3, 27.0, 2.0, 0.9, 8.8, 8.9, 0.1, 0.0]\n",
            "Relative approval rate (%): [100.0, 90.74, 100.0, 100.0, 1.14, 1.12, 100.0, 0.0]\n",
            "Percentage over total selected (%): [65.38, 30.63, 2.5, 1.12, 0.12, 0.12, 0.12, 0.0]\n",
            "75\n",
            "Presence of each in batch (%): [56.3, 22.7, 3.7, 0.8, 7.9, 8.6, 0.0, 0.0]\n",
            "Relative approval rate (%): [100.0, 83.7, 100.0, 100.0, 1.27, 1.16, 0.0, 0.0]\n",
            "Percentage over total selected (%): [70.38, 23.75, 4.62, 1.0, 0.12, 0.12, 0.0, 0.0]\n",
            "99\n",
            "Presence of each in batch (%): [57.0, 23.1, 2.1, 0.7, 8.9, 8.1, 0.1, 0.0]\n",
            "Relative approval rate (%): [100.0, 86.15, 100.0, 100.0, 1.12, 1.23, 100.0, 0.0]\n",
            "Percentage over total selected (%): [71.25, 24.88, 2.62, 0.88, 0.12, 0.12, 0.12, 0.0]\n"
          ]
        }
      ]
    },
    {
      "cell_type": "code",
      "source": [
        "nonstatic(100, rewards_bias, 0.01, instances_bias, 0.01)"
      ],
      "metadata": {
        "id": "JQWqf89ZYh32",
        "colab": {
          "base_uri": "https://localhost:8080/"
        },
        "outputId": "3cea6c40-f03d-4122-8fa9-1d06832ba288"
      },
      "execution_count": 29,
      "outputs": [
        {
          "output_type": "stream",
          "name": "stdout",
          "text": [
            "0\n",
            "Presence of each in batch (%): [59.3, 23.5, 2.6, 0.8, 7.7, 5.9, 0.2, 0.0]\n",
            "Relative approval rate (%): [100.0, 71.49, 100.0, 100.0, 2.6, 1.69, 100.0, 0.0]\n",
            "Percentage over total selected (%): [74.12, 21.0, 3.25, 1.0, 0.25, 0.12, 0.25, 0.0]\n",
            "25\n",
            "Presence of each in batch (%): [58.0, 25.5, 1.6, 1.3, 6.6, 6.7, 0.2, 0.1]\n",
            "Relative approval rate (%): [100.0, 72.94, 100.0, 100.0, 1.52, 1.49, 100.0, 100.0]\n",
            "Percentage over total selected (%): [72.5, 23.25, 2.0, 1.62, 0.12, 0.12, 0.25, 0.12]\n",
            "50\n",
            "Presence of each in batch (%): [60.2, 23.0, 3.6, 1.3, 5.8, 5.8, 0.3, 0.0]\n",
            "Relative approval rate (%): [100.0, 62.61, 100.0, 100.0, 1.72, 1.72, 100.0, 0.0]\n",
            "Percentage over total selected (%): [75.25, 18.0, 4.5, 1.62, 0.12, 0.12, 0.38, 0.0]\n",
            "75\n",
            "Presence of each in batch (%): [67.5, 20.1, 3.0, 1.4, 3.4, 4.4, 0.2, 0.0]\n",
            "Relative approval rate (%): [100.0, 38.31, 100.0, 100.0, 2.94, 2.27, 100.0, 0.0]\n",
            "Percentage over total selected (%): [84.38, 9.62, 3.75, 1.75, 0.12, 0.12, 0.25, 0.0]\n",
            "99\n",
            "Presence of each in batch (%): [70.7, 17.9, 3.4, 1.0, 3.3, 3.4, 0.1, 0.2]\n",
            "Relative approval rate (%): [100.0, 24.02, 100.0, 100.0, 6.06, 2.94, 100.0, 100.0]\n",
            "Percentage over total selected (%): [88.38, 5.38, 4.25, 1.25, 0.25, 0.12, 0.12, 0.25]\n"
          ]
        }
      ]
    },
    {
      "cell_type": "markdown",
      "source": [
        "###**SOLUTION?**"
      ],
      "metadata": {
        "id": "B2dnZoLKeN3T"
      }
    },
    {
      "cell_type": "code",
      "source": [
        "class SocketTesterBatchSOLUTION():\n",
        "    \"\"\" create and test a set of sockets over a single test run \"\"\"\n",
        "\n",
        "    def __init__(self, socket, socket_order, confidence_level, sub_opt):  \n",
        "        \n",
        "        self.subopt_coef = sub_opt\n",
        "\n",
        "        # create supplied socket type with a mean value defined by socket order \n",
        "        self.sockets = [socket(q, confidence_level) for q in socket_order]     \n",
        "        \n",
        "        # set the number of sockets equal to the number created\n",
        "        self.number_of_sockets = len(self.sockets)\n",
        "\n",
        "        self.number_of_stats = 2                 \n",
        "            \n",
        "    def initialize_run(self, number_of_steps):\n",
        "        \"\"\" reset counters at the start of a run \"\"\"\n",
        "        \n",
        "        # save the number of steps over which the run will take place\n",
        "        self.number_of_steps = number_of_steps\n",
        "        \n",
        "        # reset the actual number of steps that the test ran for\n",
        "        self.total_steps = 0\n",
        "        \n",
        "        # monitor the total reward obtained over the run\n",
        "        self.total_reward = 0\n",
        "        \n",
        "        # the current total reward at each timestep of the run\n",
        "        self.total_reward_per_timestep = []\n",
        "        \n",
        "        # the actual reward obtained at each timestep\n",
        "        self.reward_per_timestep = []\n",
        "           \n",
        "        # stats for each time-step\n",
        "        # - by default records: estimate, number of trials\n",
        "        self.socket_stats = np.zeros(shape=(number_of_steps+1, \n",
        "                                            self.number_of_sockets, \n",
        "                                            self.number_of_stats))\n",
        "        \n",
        "        # ensure that all sockets are re-initialized\n",
        "        for socket in self.sockets: socket.initialize()\n",
        "            \n",
        "                                \n",
        "    def charge_and_update(self,socket_index):\n",
        "        \"\"\" charge from & update the specified socket and associated parameters \"\"\"\n",
        "        \n",
        "        # charge from the chosen socket and update its mean reward value\n",
        "        reward = self.sockets[socket_index].charge()\n",
        "        self.sockets[socket_index].update(reward)\n",
        "\n",
        "        # update the total reward\n",
        "        self.total_reward += reward   \n",
        "        \n",
        "        # store the current total reward at this timestep\n",
        "        self.total_reward_per_timestep.append(self.total_reward)\n",
        "        \n",
        "        # store the reward obtained at this timestep\n",
        "        self.reward_per_timestep.append(reward)        \n",
        "        \n",
        "        \n",
        "    def get_socket_stats( self, t ):\n",
        "        \"\"\" get the current information from each socket \"\"\"        \n",
        "        socket_stats = [[socket.Q, socket.n] for socket in self.sockets]\n",
        "        return socket_stats     \n",
        "    \n",
        "    def get_mean_reward( self ):\n",
        "        \"\"\" the total reward averaged over the number of time steps \"\"\"\n",
        "        return (self.total_reward/self.total_steps)\n",
        "    \n",
        "    def get_total_reward_per_timestep( self ):\n",
        "        \"\"\" the cumulative total reward at each timestep of the run \"\"\"\n",
        "        return self.total_reward_per_timestep\n",
        "    \n",
        "    def get_reward_per_timestep( self ):\n",
        "        \"\"\" the actual reward obtained at each timestep of the run \"\"\"\n",
        "        return self.reward_per_timestep\n",
        "    \n",
        "    def get_estimates(self):\n",
        "        \"\"\" get the estimate of each socket's reward at each timestep of the run \"\"\"\n",
        "        return self.socket_stats[:,:,0]  \n",
        "    \n",
        "    def get_number_of_trials(self):\n",
        "        \"\"\" get the number of trials of each socket at each timestep of the run \"\"\"\n",
        "        return self.socket_stats[:,:,1]          \n",
        "                \n",
        "    def get_socket_percentages( self ):\n",
        "        \"\"\" get the percentage of times each socket was tried over the run \"\"\"\n",
        "        return (self.socket_stats[:,:,1][self.total_steps]/self.total_steps)        \n",
        "    \n",
        "    def get_time_steps( self ):\n",
        "        \"\"\" get the number of time steps that the test ran for \"\"\"\n",
        "        return self.total_steps\n",
        "    \n",
        "    def select_socket( self, t ):\n",
        "        \"\"\" Greedy Socket Selection\"\"\"\n",
        "        #CONSTRAINT A\n",
        "        curr_percentages = self.socket_stats[:,:,1][t]/t\n",
        "        mean_percentages = np.mean(curr_percentages)\n",
        "        dif_percentages = np.subtract(mean_percentages,self.socket_stats[:,:,1][t]/t)\n",
        "\n",
        "        #CONSTRAINT B\n",
        "        mean_selections = np.mean(self.get_number_of_trials()[t])\n",
        "        dif_selections = np.subtract(mean_selections,self.get_number_of_trials()[t])\n",
        "\n",
        "        #DUES CONSTRAINTS, UNA PER PERCENTATGES, L'ALTRE n SELECTIONS\n",
        "        #dif = dif_percentages #rang 10-30-50\n",
        "        dif = dif_selections   #rang 0-0.01-0.1\n",
        "\n",
        "        #print(dif)\n",
        "\n",
        "        # choose the socket with the current highest mean reward or arbitrarily\n",
        "        # select a socket in the case of a tie            \n",
        "        mask = [self.get_number_of_trials()[t][i]<self.possibles[i] for i in range(len(self.sockets))]\n",
        "        #print(mask)\n",
        "        available_sockets = [self.sockets[s] for s in range(len(self.sockets)) if (mask[s])]\n",
        "        available = [i for i in range(len(self.sockets)) if (mask[i])]\n",
        "\n",
        "        socket_max = random_argmax([self.sockets[socket].sample(t+1)+self.subopt_coef*dif[socket] for socket in available]) \n",
        "        #socket_max = random_argmax([self.sockets[socket].sample(t+1) for socket in available]) \n",
        "\n",
        "        #print(socket_max)\n",
        "        socket_index = self.sockets.index(available_sockets[socket_max])\n",
        "        return socket_index     \n",
        "    \n",
        "    def return_increments(self, decisions_to_consider):\n",
        "        presence = np.array([i/len(decisions_to_consider) for i in self.possibles])\n",
        "        selected_presence = np.array(self.get_socket_percentages())\n",
        "        diff = np.subtract(selected_presence, presence)\n",
        "        #print(diff)\n",
        "        #print(diff.sum())\n",
        "        return diff\n",
        "    \n",
        "    def run( self, decisions_to_consider, max_percent_decisions=1, prints_bool = True):  \n",
        "        \"\"\" perform a single run, over the set of sockets, \n",
        "            for the defined number of steps \"\"\"\n",
        "        \n",
        "        # reset the run counters\n",
        "        self.initialize_run(len(decisions_to_consider))\n",
        "\n",
        "        self.possibles = [0]*8 #TODO: DEPENDS ON N OF CLUSTER (DECISIONS.UNIQUE() ISNT ENOUGH BECAUSE IT CAN LACK SOME INSTANCES)\n",
        "        for i in np.unique(np.array(decisions_to_consider)):\n",
        "          self.possibles[i] = decisions_to_consider.count(i) \n",
        "        #print(\"possibles\",self.possibles)\n",
        "\n",
        "        usos = 0\n",
        "        usos_maxims = math.floor(max_percent_decisions*len(decisions_to_consider))\n",
        "        #print(usos_maxims)\n",
        "\n",
        "        # loop for the specified number of time-steps\n",
        "        for t in range(1,len(decisions_to_consider)):\n",
        "\n",
        "            # get information about all sockets at the start of the time step\n",
        "            self.socket_stats[t] = self.get_socket_stats(t)            \n",
        "            \n",
        "            # select a socket\n",
        "            socket_index = self.select_socket(t)\n",
        "            #if(decisions_to_consider[t]==socket_index):\n",
        "            if(self.get_number_of_trials()[t][socket_index]<self.possibles[socket_index]):\n",
        "              # charge from the chosen socket and update its mean reward value\n",
        "              self.charge_and_update(socket_index)\n",
        "              usos+=1\n",
        "              \n",
        "              if usos > usos_maxims:\n",
        "                  #print(usos,usos_maxims)\n",
        "                  break\n",
        "        # save the actual number of steps that have been run\n",
        "        self.total_steps = t    \n",
        "    \n",
        "        # get the stats for each socket at the end of the run        \n",
        "        self.socket_stats[t+1] = self.get_socket_stats(t+1)           \n",
        "        \n",
        "        if(prints_bool):\n",
        "          #print(\"possibles\",self.possibles)\n",
        "          #print(\"Reward distribution:\",[s.q for s in self.sockets])\n",
        "          #print(\"Intances of each cluster:\",self.possibles)\n",
        "          print(\"Presence of each in batch (%):\",[100*i/len(decisions_to_consider) for i in self.possibles])\n",
        "          print(\"Times selected:\",self.get_number_of_trials()[t])\n",
        "          print(\"Relative approval rate (%):\",[round(100*self.get_number_of_trials()[t][i]/self.possibles[i],2) if self.possibles[i]>0.0 else 0.0 for i in range(len(self.possibles))])\n",
        "          print(\"Percentage over total selected (%):\",[round(100*p,2) for p in self.get_socket_percentages()])\n",
        "          #print(\"For a total reward:\",self.total_reward)\n",
        "          #print(self.return_increments(decisions_to_consider))\n",
        "\n",
        "        return self.total_steps, self.total_reward, self.return_increments(decisions_to_consider)\n",
        "  "
      ],
      "metadata": {
        "id": "3LvzuKndeOlS"
      },
      "execution_count": 30,
      "outputs": []
    },
    {
      "cell_type": "code",
      "source": [
        "sol_test = SocketTesterBatch(PowerSocket, list(rewards_bias), 5)\n",
        "decisions = random.choices(range(8),weights=list(instances_bias),k=1000)\n",
        "ts,tr,ti = sol_test.run(decisions, 0.8, True)"
      ],
      "metadata": {
        "colab": {
          "base_uri": "https://localhost:8080/"
        },
        "id": "1z9nQnr5ra7v",
        "outputId": "45f72c13-2de7-4463-8004-9182262d9a3f"
      },
      "execution_count": 31,
      "outputs": [
        {
          "output_type": "stream",
          "name": "stdout",
          "text": [
            "Presence of each in batch (%): [56.7, 22.4, 1.9, 1.2, 9.4, 8.0, 0.2, 0.2]\n",
            "Relative approval rate (%): [100.0, 87.5, 100.0, 100.0, 2.13, 1.25, 100.0, 50.0]\n",
            "Percentage over total selected (%): [70.88, 24.5, 2.38, 1.5, 0.25, 0.12, 0.25, 0.12]\n"
          ]
        }
      ]
    },
    {
      "cell_type": "code",
      "source": [
        "sol_test = SocketTesterBatchSOLUTION(PowerSocket, list(rewards_bias), 5, 0)\n",
        "decisions = random.choices(range(8),weights=list(instances_bias),k=1000)\n",
        "ts,tr,ti = sol_test.run(decisions, 0.8, True)"
      ],
      "metadata": {
        "colab": {
          "base_uri": "https://localhost:8080/"
        },
        "id": "A128ar06rM8p",
        "outputId": "7f55036f-176c-4cea-cdf6-5bc49cfe000f"
      },
      "execution_count": 32,
      "outputs": [
        {
          "output_type": "stream",
          "name": "stdout",
          "text": [
            "Presence of each in batch (%): [55.6, 24.5, 1.5, 1.7, 8.7, 7.6, 0.0, 0.4]\n",
            "Times selected: [556. 208.  15.  17.   2.   1.   0.   1.]\n",
            "Relative approval rate (%): [100.0, 84.9, 100.0, 100.0, 2.3, 1.32, 0.0, 25.0]\n",
            "Percentage over total selected (%): [69.41, 25.97, 1.87, 2.12, 0.25, 0.12, 0.0, 0.12]\n"
          ]
        }
      ]
    },
    {
      "cell_type": "code",
      "source": [
        "sol_test = SocketTesterBatchSOLUTION(PowerSocket, list(rewards_bias), 5, 0.01)\n",
        "decisions = random.choices(range(8),weights=list(instances_bias),k=1000)\n",
        "ts,tr,ti = sol_test.run(decisions, 0.8, True)"
      ],
      "metadata": {
        "colab": {
          "base_uri": "https://localhost:8080/"
        },
        "id": "qLFP4Yjhe6tB",
        "outputId": "88956e73-5e7e-457a-c368-ab7ff572f5f6"
      },
      "execution_count": 33,
      "outputs": [
        {
          "output_type": "stream",
          "name": "stdout",
          "text": [
            "Presence of each in batch (%): [54.0, 23.7, 2.3, 0.9, 10.0, 9.0, 0.0, 0.1]\n",
            "Times selected: [540. 224.  23.   9.   2.   1.   0.   1.]\n",
            "Relative approval rate (%): [100.0, 94.51, 100.0, 100.0, 2.0, 1.11, 0.0, 100.0]\n",
            "Percentage over total selected (%): [67.42, 27.97, 2.87, 1.12, 0.25, 0.12, 0.0, 0.12]\n"
          ]
        }
      ]
    },
    {
      "cell_type": "code",
      "source": [
        "sol_test = SocketTesterBatchSOLUTION(PowerSocket, list(rewards_bias), 5, 0.1)\n",
        "decisions = random.choices(range(8),weights=list(instances_bias),k=1000)\n",
        "ts,tr,ti = sol_test.run(decisions, 0.8, True)"
      ],
      "metadata": {
        "colab": {
          "base_uri": "https://localhost:8080/"
        },
        "id": "O1twdS7WwA5H",
        "outputId": "ef2fa3a8-bfa7-490b-9526-cb15faf3d013"
      },
      "execution_count": 34,
      "outputs": [
        {
          "output_type": "stream",
          "name": "stdout",
          "text": [
            "Presence of each in batch (%): [54.7, 24.4, 2.0, 1.1, 9.3, 8.4, 0.0, 0.1]\n",
            "Times selected: [347. 244.  20.  11.  93.  84.   0.   1.]\n",
            "Relative approval rate (%): [63.44, 100.0, 100.0, 100.0, 100.0, 100.0, 0.0, 100.0]\n",
            "Percentage over total selected (%): [43.32, 30.46, 2.5, 1.37, 11.61, 10.49, 0.0, 0.12]\n"
          ]
        }
      ]
    },
    {
      "cell_type": "code",
      "source": [
        "#sol_test = SocketTesterBatchSOLUTION(PowerSocket, list(rewards_bias), 5, 50)\n",
        "#decisions = random.choices(range(8),weights=list(instances_bias),k=1000)\n",
        "#ts,tr,ti = sol_test.run(decisions, 0.8, True)"
      ],
      "metadata": {
        "id": "bV4yyv2zvL-U"
      },
      "execution_count": 35,
      "outputs": []
    },
    {
      "cell_type": "markdown",
      "source": [
        "curr_percentages = self.socket_stats[:,:,1][t]/t\n",
        "mean_percentages = np.mean(curr_percentages)\n",
        "dif_percentages = np.subtract(mean_percentages,self.socket_stats[:,:,1][t]/t)\n",
        "\n",
        "mean_selections = np.mean(self.get_number_of_trials()[t])\n",
        "dif_selections = np.subtract(mean_selections,self.get_number_of_trials()[t])\n",
        "\n",
        "#DUES CONSTRAINTS, UNA PER PERCENTATGES, L'ALTRE n SELECTIONS\n",
        "//dif = dif_percentages #rang 10-30-50\n",
        "\n",
        "dif = dif_selections   #rang 0-0.01-0.1"
      ],
      "metadata": {
        "id": "zs58UXGgp_JC"
      }
    },
    {
      "cell_type": "code",
      "source": [
        "class SocketTesterBatchSOLUTION_var():\n",
        "    \"\"\" create and test a set of sockets over a single test run \"\"\"\n",
        "\n",
        "    def __init__(self, socket, socket_qs, confidence_level, sub_opt, socket_vars):  \n",
        "        \n",
        "        self.subopt_coef = sub_opt\n",
        "\n",
        "        # create supplied socket type with a mean value defined by socket order \n",
        "        self.sockets = [socket(socket_qs[s], confidence_level, socket_vars[s]) for s in range(len(socket_qs))]     \n",
        "        \n",
        "        # set the number of sockets equal to the number created\n",
        "        self.number_of_sockets = len(self.sockets)\n",
        "\n",
        "        self.number_of_stats = 2                 \n",
        "            \n",
        "    def initialize_run(self, number_of_steps):\n",
        "        \"\"\" reset counters at the start of a run \"\"\"\n",
        "        \n",
        "        # save the number of steps over which the run will take place\n",
        "        self.number_of_steps = number_of_steps\n",
        "        \n",
        "        # reset the actual number of steps that the test ran for\n",
        "        self.total_steps = 0\n",
        "        \n",
        "        # monitor the total reward obtained over the run\n",
        "        self.total_reward = 0\n",
        "        \n",
        "        # the current total reward at each timestep of the run\n",
        "        self.total_reward_per_timestep = []\n",
        "        \n",
        "        # the actual reward obtained at each timestep\n",
        "        self.reward_per_timestep = []\n",
        "           \n",
        "        # stats for each time-step\n",
        "        # - by default records: estimate, number of trials\n",
        "        self.socket_stats = np.zeros(shape=(number_of_steps+1, \n",
        "                                            self.number_of_sockets, \n",
        "                                            self.number_of_stats))\n",
        "        \n",
        "        # ensure that all sockets are re-initialized\n",
        "        for socket in self.sockets: socket.initialize()\n",
        "            \n",
        "                                \n",
        "    def charge_and_update(self,socket_index):\n",
        "        \"\"\" charge from & update the specified socket and associated parameters \"\"\"\n",
        "        \n",
        "        # charge from the chosen socket and update its mean reward value\n",
        "        reward = self.sockets[socket_index].charge()\n",
        "        self.sockets[socket_index].update(reward)\n",
        "\n",
        "        # update the total reward\n",
        "        self.total_reward += reward   \n",
        "        \n",
        "        # store the current total reward at this timestep\n",
        "        self.total_reward_per_timestep.append(self.total_reward)\n",
        "        \n",
        "        # store the reward obtained at this timestep\n",
        "        self.reward_per_timestep.append(reward)        \n",
        "        \n",
        "        \n",
        "    def get_socket_stats( self, t ):\n",
        "        \"\"\" get the current information from each socket \"\"\"        \n",
        "        socket_stats = [[socket.Q, socket.n] for socket in self.sockets]\n",
        "        return socket_stats     \n",
        "    \n",
        "    def get_mean_reward( self ):\n",
        "        \"\"\" the total reward averaged over the number of time steps \"\"\"\n",
        "        return (self.total_reward/self.total_steps)\n",
        "    \n",
        "    def get_total_reward_per_timestep( self ):\n",
        "        \"\"\" the cumulative total reward at each timestep of the run \"\"\"\n",
        "        return self.total_reward_per_timestep\n",
        "    \n",
        "    def get_reward_per_timestep( self ):\n",
        "        \"\"\" the actual reward obtained at each timestep of the run \"\"\"\n",
        "        return self.reward_per_timestep\n",
        "    \n",
        "    def get_estimates(self):\n",
        "        \"\"\" get the estimate of each socket's reward at each timestep of the run \"\"\"\n",
        "        return self.socket_stats[:,:,0]  \n",
        "    \n",
        "    def get_number_of_trials(self):\n",
        "        \"\"\" get the number of trials of each socket at each timestep of the run \"\"\"\n",
        "        return self.socket_stats[:,:,1]          \n",
        "                \n",
        "    def get_socket_percentages( self ):\n",
        "        \"\"\" get the percentage of times each socket was tried over the run \"\"\"\n",
        "        return (self.socket_stats[:,:,1][self.total_steps]/self.total_steps)        \n",
        "    \n",
        "    def get_time_steps( self ):\n",
        "        \"\"\" get the number of time steps that the test ran for \"\"\"\n",
        "        return self.total_steps\n",
        "    \n",
        "    def select_socket( self, t ):\n",
        "        \"\"\" Greedy Socket Selection\"\"\"\n",
        "        #CONSTRAINT A\n",
        "        curr_percentages = self.socket_stats[:,:,1][t]/t\n",
        "        mean_percentages = np.mean(curr_percentages)\n",
        "        dif_percentages = np.subtract(mean_percentages,self.socket_stats[:,:,1][t]/t)\n",
        "\n",
        "        #CONSTRAINT B\n",
        "        mean_selections = np.mean(self.get_number_of_trials()[t])\n",
        "        dif_selections = np.subtract(mean_selections,self.get_number_of_trials()[t])\n",
        "\n",
        "        #CONSTRAINT C\n",
        "        #presence = np.array([i/sum(self.possibles) for i in self.possibles])\n",
        "        #selected_presence = np.array(self.socket_stats[:,:,1][t]/t)\n",
        "        #dif_presence = np.subtract(presence,selected_presence)\n",
        "\n",
        "        #DUES CONSTRAINTS, UNA PER PERCENTATGES, L'ALTRE n SELECTIONS\n",
        "        #dif = dif_percentages #rang 10-30-50\n",
        "        dif = dif_selections   #rang 0-0.01-0.1\n",
        "        ###dif = dif_presence\n",
        "\n",
        "        #print(dif)\n",
        "\n",
        "        # choose the socket with the current highest mean reward or arbitrarily\n",
        "        # select a socket in the case of a tie            \n",
        "        mask = [self.get_number_of_trials()[t][i]<self.possibles[i] for i in range(len(self.sockets))]\n",
        "        #print(mask)\n",
        "        available_sockets = [self.sockets[s] for s in range(len(self.sockets)) if (mask[s])]\n",
        "        available = [i for i in range(len(self.sockets)) if (mask[i])]\n",
        "\n",
        "        samples = [self.sockets[socket].sample(t+1)+self.subopt_coef*dif[socket] for socket in available]\n",
        "        \"\"\"print()\n",
        "        print(\"presence\",presence)\n",
        "        print(\"selected_presence\",selected_presence)\n",
        "        print(\"dif\",dif)\n",
        "        print(\"samples\",samples)\"\"\"\n",
        "        socket_max = random_argmax(samples) \n",
        "        #socket_max = random_argmax([self.sockets[socket].sample(t+1) for socket in available]) \n",
        "\n",
        "        #print(socket_max)\n",
        "        socket_index = self.sockets.index(available_sockets[socket_max])\n",
        "        return socket_index     \n",
        "    \n",
        "    def return_increments(self, decisions_to_consider):\n",
        "        presence = np.array([i/len(decisions_to_consider) for i in self.possibles])\n",
        "        selected_presence = np.array(self.get_socket_percentages())\n",
        "        diff = np.subtract(selected_presence, presence)\n",
        "        #print(diff)\n",
        "        #print(diff.sum())\n",
        "        return diff\n",
        "\n",
        "    def return_increments_distr(self, decisions_to_consider):\n",
        "        presence = np.array([i/len(decisions_to_consider) for i in self.possibles])\n",
        "        selected_presence = np.array(self.get_socket_percentages())\n",
        "        diff = np.subtract(selected_presence, presence)\n",
        "        #print(diff)\n",
        "        #print(diff.sum())\n",
        "        return diff\n",
        "    \n",
        "    def run( self, decisions_to_consider, max_percent_decisions=1, prints_bool = True):  \n",
        "        \"\"\" perform a single run, over the set of sockets, \n",
        "            for the defined number of steps \"\"\"\n",
        "        \n",
        "        # reset the run counters\n",
        "        self.initialize_run(len(decisions_to_consider))\n",
        "\n",
        "        self.possibles = [0]*8 #TODO: DEPENDS ON N OF CLUSTER (DECISIONS.UNIQUE() ISNT ENOUGH BECAUSE IT CAN LACK SOME INSTANCES)\n",
        "        for i in np.unique(np.array(decisions_to_consider)):\n",
        "          self.possibles[i] = decisions_to_consider.count(i) \n",
        "        #print(\"possibles\",self.possibles)\n",
        "\n",
        "        usos = 0\n",
        "        usos_maxims = math.floor(max_percent_decisions*len(decisions_to_consider))\n",
        "        #print(usos_maxims)\n",
        "\n",
        "        # loop for the specified number of time-steps\n",
        "        for t in range(1,len(decisions_to_consider)):\n",
        "\n",
        "            # get information about all sockets at the start of the time step\n",
        "            self.socket_stats[t] = self.get_socket_stats(t)            \n",
        "            \n",
        "            # select a socket\n",
        "            socket_index = self.select_socket(t)\n",
        "            #if(decisions_to_consider[t]==socket_index):\n",
        "            if(self.get_number_of_trials()[t][socket_index]<self.possibles[socket_index]):\n",
        "              # charge from the chosen socket and update its mean reward value\n",
        "              self.charge_and_update(socket_index)\n",
        "              usos+=1\n",
        "              \n",
        "              if usos > usos_maxims:\n",
        "                  #print(usos,usos_maxims)\n",
        "                  break\n",
        "        # save the actual number of steps that have been run\n",
        "        self.total_steps = t    \n",
        "    \n",
        "        # get the stats for each socket at the end of the run        \n",
        "        self.socket_stats[t+1] = self.get_socket_stats(t+1)           \n",
        "        \n",
        "        if(prints_bool):\n",
        "          #print(\"possibles\",self.possibles)\n",
        "          #print(\"Reward distribution:\",[s.q for s in self.sockets])\n",
        "          #print(\"Intances of each cluster:\",self.possibles)\n",
        "          print(\"Presence of each in batch (%):\",[100*i/len(decisions_to_consider) for i in self.possibles])\n",
        "          print(\"Times selected:\",self.get_number_of_trials()[t])\n",
        "          print(\"Relative approval rate (%):\",[round(100*self.get_number_of_trials()[t][i]/self.possibles[i],2) if self.possibles[i]>0.0 else 0.0 for i in range(len(self.possibles))])\n",
        "          print(\"Percentage over total selected (%):\",[round(100*p,2) for p in self.get_socket_percentages()])\n",
        "          #print(\"For a total reward:\",self.total_reward)\n",
        "          #print(self.return_increments(decisions_to_consider))\n",
        "          print(\"Estimates:\",list(self.get_estimates()[t]))\n",
        "\n",
        "        return self.total_steps, self.total_reward, self.return_increments(decisions_to_consider)\n",
        "  "
      ],
      "metadata": {
        "id": "dxjIHk4BNwM3"
      },
      "execution_count": 116,
      "outputs": []
    },
    {
      "cell_type": "code",
      "source": [
        "variances = [20]*8\n",
        "#variances = [1]*8\n",
        "sol_test = SocketTesterBatchSOLUTION_var(PowerSocket, list(rewards_bias), 5, 0, variances) #high variance+sampling bias super injust (la variance de classes menys popualtes afecta mes q altres)\n",
        "decisions = random.choices(range(8),weights=list(instances_nonbias),k=1000)\n",
        "ts,tr,ti = sol_test.run(decisions, 0.8, True)"
      ],
      "metadata": {
        "colab": {
          "base_uri": "https://localhost:8080/"
        },
        "id": "drz83Q8FN_rp",
        "outputId": "c62576d6-9d96-49c0-c74d-1412f440338f"
      },
      "execution_count": 74,
      "outputs": [
        {
          "output_type": "stream",
          "name": "stdout",
          "text": [
            "Presence of each in batch (%): [13.3, 10.5, 13.9, 13.2, 13.7, 12.6, 11.4, 11.4]\n",
            "Times selected: [133. 105. 139. 132. 137.   1.  39. 114.]\n",
            "Relative approval rate (%): [100.0, 100.0, 100.0, 100.0, 100.0, 0.79, 34.21, 100.0]\n",
            "Percentage over total selected (%): [16.6, 13.11, 17.35, 16.48, 17.1, 0.12, 4.87, 14.23]\n",
            "Estimates: [133.03988200379098, 139.99304040361446, 124.19903537916039, 130.79287806714166, 121.35532503740323, 0.0, 124.21457833760142, 142.77679432246293]\n"
          ]
        }
      ]
    },
    {
      "cell_type": "code",
      "source": [
        "def nonstatic_sol(iter, rewards_d_o, r_coef, instances_d_o, i_coef, sub_opt, s_variances):\n",
        "  rewards_d = np.array(rewards_d_o)\n",
        "  instances_d = np.array(instances_d_o)\n",
        "\n",
        "  #iter = 1000\n",
        "  for i in range(iter):\n",
        "    pbool=False\n",
        "    if(i%math.ceil(iter/4)==0 or i==iter-1):\n",
        "        print(i)\n",
        "        #print(list(instances_distribution))\n",
        "        pbool=True\n",
        "\n",
        "    updated_test = SocketTesterBatchSOLUTION_var(PowerSocket, list(rewards_d), 5, sub_opt, s_variances)\n",
        "    decisions = random.choices(range(8),weights=list(instances_d),k=5000)\n",
        "    ts,tr,ti = updated_test.run(decisions, 0.8, pbool)\n",
        "\n",
        "    increments = ti\n",
        "    #increments = np.subtract(np.array(updated_test.get_socket_percentages()),0.5)\n",
        "    #print(increments)\n",
        "\n",
        "    rewards_d = np.add(rewards_d,increments*r_coef*100)\n",
        "    rewards_d = np.clip(rewards_d,0,100)\n",
        "    #print(rewards_d)\n",
        "\n",
        "    instances_d = np.add(instances_d,increments*i_coef)\n",
        "    instances_d = np.clip(instances_d,0,None)\n",
        "    instances_d = instances_d / instances_d.sum()"
      ],
      "metadata": {
        "id": "vE47_Xl7NixY"
      },
      "execution_count": 108,
      "outputs": []
    },
    {
      "cell_type": "code",
      "source": [
        "variances = [1]*8\n",
        "nonstatic_sol(500, rewards_bias, 0.01, instances_bias, 0.01, 0, variances)"
      ],
      "metadata": {
        "colab": {
          "base_uri": "https://localhost:8080/"
        },
        "id": "scRNA37hRL-r",
        "outputId": "14ff2a63-838d-4989-9a34-aa8525b82632"
      },
      "execution_count": 80,
      "outputs": [
        {
          "output_type": "stream",
          "name": "stdout",
          "text": [
            "0\n",
            "Presence of each in batch (%): [57.6, 22.0, 2.5, 1.3, 7.5, 8.9, 0.2, 0.0]\n",
            "Times selected: [576. 181.  25.  13.   2.   1.   2.   0.]\n",
            "Relative approval rate (%): [100.0, 82.27, 100.0, 100.0, 2.67, 1.12, 100.0, 0.0]\n",
            "Percentage over total selected (%): [71.91, 22.6, 3.12, 1.62, 0.25, 0.12, 0.25, 0.0]\n",
            "Estimates: [85.49518905118711, 82.03815660657311, 82.86707418620183, 79.60747208301376, 70.79377687309469, 65.0427889399137, 74.47860434944428, 0.0]\n",
            "125\n",
            "Presence of each in batch (%): [74.4, 15.1, 3.6, 2.1, 2.6, 2.1, 0.1, 0.0]\n",
            "Times selected: [744.   2.  36.  15.   1.   1.   1.   0.]\n",
            "Relative approval rate (%): [100.0, 1.32, 100.0, 71.43, 3.85, 4.76, 100.0, 0.0]\n",
            "Percentage over total selected (%): [92.88, 0.25, 4.49, 1.87, 0.12, 0.12, 0.12, 0.0]\n",
            "Estimates: [99.98243529142299, 72.21096899964982, 83.72453719964892, 80.30949826273186, 64.87157257011879, 60.290710091182326, 72.47372147301242, 0.0]\n",
            "250\n",
            "Presence of each in batch (%): [92.6, 4.3, 0.7, 0.7, 1.1, 0.2, 0.3, 0.1]\n",
            "Times selected: [793.   1.   1.   1.   1.   1.   1.   1.]\n",
            "Relative approval rate (%): [85.64, 2.33, 14.29, 14.29, 9.09, 50.0, 33.33, 100.0]\n",
            "Percentage over total selected (%): [99.0, 0.12, 0.12, 0.12, 0.12, 0.12, 0.12, 0.12]\n",
            "Estimates: [100.02028565174541, 61.86288469144985, 80.36349790924297, 79.26592334096489, 63.45016826242149, 57.74942859986519, 72.79020009596955, 68.87736762970465]\n",
            "375\n",
            "Presence of each in batch (%): [97.3, 1.2, 0.5, 0.5, 0.3, 0.2, 0.0, 0.0]\n",
            "Times selected: [795.   1.   1.   1.   1.   1.   0.   0.]\n",
            "Relative approval rate (%): [81.71, 8.33, 20.0, 20.0, 33.33, 50.0, 0.0, 0.0]\n",
            "Percentage over total selected (%): [99.25, 0.12, 0.12, 0.12, 0.12, 0.12, 0.0, 0.0]\n",
            "Estimates: [100.02183955077842, 61.09204980434832, 82.55160496131448, 79.14702723087727, 61.61640027814429, 57.876031103704086, 0.0, 0.0]\n",
            "499\n",
            "Presence of each in batch (%): [98.9, 0.7, 0.0, 0.1, 0.1, 0.1, 0.0, 0.1]\n",
            "Times selected: [795.   1.   0.   1.   1.   1.   0.   1.]\n",
            "Relative approval rate (%): [80.38, 14.29, 0.0, 100.0, 100.0, 100.0, 0.0, 100.0]\n",
            "Percentage over total selected (%): [99.25, 0.12, 0.0, 0.12, 0.12, 0.12, 0.0, 0.12]\n",
            "Estimates: [99.95882843802116, 59.55382116306476, 0.0, 80.40478267495988, 61.8307656225703, 59.28738985906007, 0.0, 66.0792652035614]\n"
          ]
        }
      ]
    },
    {
      "cell_type": "code",
      "source": [
        "variances = [1]*8\n",
        "nonstatic_sol(500, rewards_bias, 0.01, instances_bias, 0.01, 0.1, variances)"
      ],
      "metadata": {
        "colab": {
          "base_uri": "https://localhost:8080/"
        },
        "id": "M5Lj3P8VTCxw",
        "outputId": "fc1cc068-c13e-4094-aad1-7b7fbcd74357"
      },
      "execution_count": 81,
      "outputs": [
        {
          "output_type": "stream",
          "name": "stdout",
          "text": [
            "0\n",
            "Presence of each in batch (%): [54.2, 24.0, 2.6, 1.0, 9.7, 8.5, 0.0, 0.0]\n",
            "Times selected: [342. 240.  26.  10.  97.  85.   0.   0.]\n",
            "Relative approval rate (%): [63.1, 100.0, 100.0, 100.0, 100.0, 100.0, 0.0, 0.0]\n",
            "Percentage over total selected (%): [42.7, 29.96, 3.25, 1.25, 12.11, 10.61, 0.0, 0.0]\n",
            "Estimates: [85.60066446620841, 81.9419599710013, 82.78383912654644, 80.75138128031263, 71.09508653917266, 66.41916729041793, 0.0, 0.0]\n",
            "125\n",
            "Presence of each in batch (%): [41.0, 30.7, 3.4, 1.8, 11.6, 11.2, 0.0, 0.3]\n",
            "Times selected: [210. 307.  34.  18. 116. 112.   0.   3.]\n",
            "Relative approval rate (%): [51.22, 100.0, 100.0, 100.0, 100.0, 100.0, 0.0, 100.0]\n",
            "Percentage over total selected (%): [26.22, 38.33, 4.24, 2.25, 14.48, 13.98, 0.0, 0.37]\n",
            "Estimates: [69.29129012398582, 90.79008451486243, 83.72816034997189, 80.74666358650974, 74.05717200064305, 69.18080690838457, 0.0, 67.64472446133036]\n",
            "250\n",
            "Presence of each in batch (%): [14.6, 47.0, 4.6, 1.4, 16.6, 15.2, 0.4, 0.2]\n",
            "Times selected: [  1. 416.  46.  14. 166. 151.   4.   2.]\n",
            "Relative approval rate (%): [0.68, 88.51, 100.0, 100.0, 100.0, 99.34, 100.0, 100.0]\n",
            "Percentage over total selected (%): [0.12, 51.94, 5.74, 1.75, 20.72, 18.85, 0.5, 0.25]\n",
            "Estimates: [45.95014581837229, 100.0626496528696, 84.72048701736198, 80.95997037196423, 78.59227954802101, 73.17679248526754, 74.09098710342154, 68.52633627686927]\n",
            "375\n",
            "Presence of each in batch (%): [5.5, 47.3, 5.7, 1.6, 21.8, 17.3, 0.4, 0.4]\n",
            "Times selected: [  1. 372.  57.  16. 218. 128.   4.   4.]\n",
            "Relative approval rate (%): [1.82, 78.65, 100.0, 100.0, 100.0, 73.99, 100.0, 100.0]\n",
            "Percentage over total selected (%): [0.12, 46.44, 7.12, 2.0, 27.22, 15.98, 0.5, 0.5]\n",
            "Estimates: [33.25154161921839, 99.7583091684655, 86.50627198125933, 82.0609426420649, 84.09548632213948, 74.92975206884641, 75.93904190192328, 67.45294094988779]\n",
            "499\n",
            "Presence of each in batch (%): [1.5, 45.2, 8.2, 3.5, 25.9, 14.8, 0.8, 0.1]\n",
            "Times selected: [  1. 328.  82.  35. 256.  89.   8.   1.]\n",
            "Relative approval rate (%): [6.67, 72.57, 100.0, 100.0, 98.84, 60.14, 100.0, 100.0]\n",
            "Percentage over total selected (%): [0.12, 40.95, 10.24, 4.37, 31.96, 11.11, 1.0, 0.12]\n",
            "Estimates: [30.48577116888568, 96.99976175790746, 88.33191576917713, 82.35070806235161, 89.72607029706802, 72.38159151619259, 74.67150808714652, 69.17211167657516]\n"
          ]
        }
      ]
    },
    {
      "cell_type": "code",
      "source": [
        "variances = [10]*8\n",
        "##(5000 per iter)\n",
        "nonstatic_sol(1000, rewards_bias, 0.02, instances_bias, 0.02, 0.1, variances)"
      ],
      "metadata": {
        "colab": {
          "base_uri": "https://localhost:8080/"
        },
        "id": "SAQmQ6vjii8u",
        "outputId": "f42c098c-9366-4ad4-b906-b2ce9bf636ba"
      },
      "execution_count": 118,
      "outputs": [
        {
          "output_type": "stream",
          "name": "stdout",
          "text": [
            "0\n",
            "Presence of each in batch (%): [56.28, 23.42, 2.1, 1.08, 8.6, 8.36, 0.08, 0.08]\n",
            "Times selected: [1814. 1171.  105.   54.  430.  418.    4.    4.]\n",
            "Relative approval rate (%): [64.46, 100.0, 100.0, 100.0, 100.0, 100.0, 100.0, 100.0]\n",
            "Percentage over total selected (%): [45.34, 29.27, 2.62, 1.35, 10.75, 10.45, 0.1, 0.1]\n",
            "Estimates: [85.6653438187958, 81.63725206455976, 83.60750790788398, 79.94279824165241, 71.33481096553903, 66.17807628145276, 73.15453459833698, 73.2580950686534]\n",
            "250\n",
            "Presence of each in batch (%): [16.18, 25.78, 7.78, 3.86, 23.26, 22.28, 0.46, 0.4]\n",
            "Times selected: [572. 936. 389. 193. 961. 906.  23.  20.]\n",
            "Relative approval rate (%): [70.7, 72.61, 100.0, 100.0, 82.63, 81.33, 100.0, 100.0]\n",
            "Percentage over total selected (%): [14.3, 23.39, 9.72, 4.82, 24.02, 22.64, 0.57, 0.5]\n",
            "Estimates: [46.67425914515874, 83.2675316138825, 88.91627655836699, 82.4167321250893, 85.72554232557523, 80.25160680485948, 75.04367068722672, 68.09198379549134]\n",
            "500\n",
            "Presence of each in batch (%): [8.64, 16.36, 23.24, 13.54, 17.38, 18.52, 1.32, 1.0]\n",
            "Times selected: [287. 647. 899. 677. 708. 666.  66.  50.]\n",
            "Relative approval rate (%): [66.44, 79.1, 77.37, 100.0, 81.47, 71.92, 100.0, 100.0]\n",
            "Percentage over total selected (%): [7.17, 16.17, 22.47, 16.92, 17.7, 16.65, 1.65, 1.25]\n",
            "Estimates: [38.41854540285999, 74.61569149965517, 100.00521450568435, 92.06840228235241, 80.76865111753783, 76.57880534454553, 75.52523955578606, 68.31401727892263]\n",
            "750\n",
            "Presence of each in batch (%): [4.54, 14.34, 20.52, 21.08, 15.96, 14.76, 4.38, 4.42]\n",
            "Times selected: [186. 556. 820. 830. 610. 558. 219. 221.]\n",
            "Relative approval rate (%): [81.94, 77.55, 79.92, 78.75, 76.44, 75.61, 100.0, 100.0]\n",
            "Percentage over total selected (%): [4.65, 13.9, 20.49, 20.74, 15.25, 13.95, 5.47, 5.52]\n",
            "Estimates: [34.815962436509345, 72.23346778564205, 98.73549518260928, 99.82647133462456, 77.68052658123084, 72.47882224709285, 78.71784721286076, 72.30832573883131]\n",
            "999\n",
            "Presence of each in batch (%): [2.36, 11.42, 17.5, 17.86, 12.52, 11.22, 14.3, 12.82]\n",
            "Times selected: [ 73. 426. 696. 716. 490. 437. 625. 537.]\n",
            "Relative approval rate (%): [61.86, 74.61, 79.54, 80.18, 78.27, 77.9, 87.41, 83.78]\n",
            "Percentage over total selected (%): [1.82, 10.65, 17.4, 17.9, 12.25, 10.92, 15.62, 13.42]\n",
            "Estimates: [31.75804255428418, 68.06321033786722, 95.20599782911033, 97.24370430103087, 74.53639125209715, 69.07849650838597, 88.09992026444849, 79.25730259430875]\n"
          ]
        }
      ]
    },
    {
      "cell_type": "code",
      "source": [
        "variances = [10]*8\n",
        "nonstatic_sol(1000, rewards_bias, 0.04, instances_bias, 0.04, 100, variances)"
      ],
      "metadata": {
        "colab": {
          "base_uri": "https://localhost:8080/"
        },
        "id": "OqxfJ3T_QfW7",
        "outputId": "25642ce2-af38-4937-8185-01586519ec2b"
      },
      "execution_count": 111,
      "outputs": [
        {
          "output_type": "stream",
          "name": "stdout",
          "text": [
            "0\n",
            "Presence of each in batch (%): [55.62, 24.98, 2.2, 0.9, 8.64, 7.44, 0.1, 0.12]\n",
            "Times selected: [1781. 1249.  110.   45.  432.  372.    5.    6.]\n",
            "Relative approval rate (%): [64.04, 100.0, 100.0, 100.0, 100.0, 100.0, 100.0, 100.0]\n",
            "Percentage over total selected (%): [44.51, 31.22, 2.75, 1.12, 10.8, 9.3, 0.12, 0.15]\n",
            "Estimates: [85.07438563279035, 82.10877309420388, 82.05028240188253, 78.74859166202384, 70.62304686392397, 66.90883151438435, 75.36155959298216, 72.2851985537412]\n",
            "250\n",
            "Presence of each in batch (%): [17.76, 16.98, 16.9, 12.52, 16.82, 16.8, 1.08, 1.14]\n",
            "Times selected: [652. 653. 653. 626. 653. 652.  54.  57.]\n",
            "Relative approval rate (%): [73.42, 76.91, 77.28, 100.0, 77.65, 77.62, 100.0, 100.0]\n",
            "Percentage over total selected (%): [16.3, 16.32, 16.32, 15.65, 16.32, 16.3, 1.35, 1.42]\n",
            "Estimates: [46.7662088370066, 75.84838514867889, 97.0919354699691, 92.66968563754833, 78.79597727238253, 74.52030749077258, 74.20485618151271, 68.97825492851017]\n",
            "500\n",
            "Presence of each in batch (%): [12.78, 12.06, 11.28, 13.02, 13.12, 13.42, 12.3, 12.02]\n",
            "Times selected: [500. 500. 500. 500. 500. 500. 500. 500.]\n",
            "Relative approval rate (%): [78.25, 82.92, 88.65, 76.8, 76.22, 74.52, 81.3, 83.19]\n",
            "Percentage over total selected (%): [12.5, 12.5, 12.5, 12.5, 12.5, 12.5, 12.5, 12.5]\n",
            "Estimates: [42.43399187861877, 70.96616741828063, 92.98867162031495, 91.55848425125832, 75.63835560868239, 70.39929109602645, 86.45536030904495, 79.20295746506162]\n",
            "750\n",
            "Presence of each in batch (%): [12.84, 12.64, 12.86, 12.96, 12.26, 11.88, 12.6, 11.96]\n",
            "Times selected: [500. 500. 500. 500. 500. 500. 500. 500.]\n",
            "Relative approval rate (%): [77.88, 79.11, 77.76, 77.16, 81.57, 84.18, 79.37, 83.61]\n",
            "Percentage over total selected (%): [12.5, 12.5, 12.5, 12.5, 12.5, 12.5, 12.5, 12.5]\n",
            "Estimates: [42.66902894744917, 71.53518972537826, 93.15552604145547, 91.82062484198211, 73.74477324442549, 70.54885033327653, 86.89390579658621, 79.83627568560483]\n",
            "999\n",
            "Presence of each in batch (%): [12.12, 12.18, 12.82, 13.34, 12.92, 12.62, 12.2, 11.8]\n",
            "Times selected: [500. 500. 500. 500. 500. 500. 500. 500.]\n",
            "Relative approval rate (%): [82.51, 82.1, 78.0, 74.96, 77.4, 79.24, 81.97, 84.75]\n",
            "Percentage over total selected (%): [12.5, 12.5, 12.5, 12.5, 12.5, 12.5, 12.5, 12.5]\n",
            "Estimates: [41.62705570692281, 70.64179075003669, 93.85704639049395, 90.8548019339071, 74.57356224776217, 69.93234790376688, 87.41164844851602, 79.92790994543692]\n"
          ]
        }
      ]
    }
  ]
}