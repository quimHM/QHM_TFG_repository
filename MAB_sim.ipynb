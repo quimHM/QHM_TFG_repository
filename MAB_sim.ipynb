{
  "nbformat": 4,
  "nbformat_minor": 0,
  "metadata": {
    "colab": {
      "name": "MAB_sim.ipynb",
      "provenance": [],
      "collapsed_sections": [],
      "authorship_tag": "ABX9TyPyxE8Mkf9mJC3DRDgUrpIu",
      "include_colab_link": true
    },
    "kernelspec": {
      "name": "python3",
      "display_name": "Python 3"
    },
    "language_info": {
      "name": "python"
    }
  },
  "cells": [
    {
      "cell_type": "markdown",
      "metadata": {
        "id": "view-in-github",
        "colab_type": "text"
      },
      "source": [
        "<a href=\"https://colab.research.google.com/github/quimHM/QHM_TFG_repository/blob/main/MAB_sim.ipynb\" target=\"_parent\"><img src=\"https://colab.research.google.com/assets/colab-badge.svg\" alt=\"Open In Colab\"/></a>"
      ]
    },
    {
      "cell_type": "code",
      "source": [
        "#https://towardsdatascience.com/multi-armed-bandits-and-reinforcement-learning-dc9001dcb8da\n",
        "#https://towardsdatascience.com/the-upper-confidence-bound-ucb-bandit-algorithm-c05c2bf4c13f\n",
        "\n",
        "#https://github.com/WhatIThinkAbout/BabyRobot/tree/master/Multi_Armed_Bandits"
      ],
      "metadata": {
        "id": "lch3cBlMon8x"
      },
      "execution_count": null,
      "outputs": []
    },
    {
      "cell_type": "code",
      "source": [
        ""
      ],
      "metadata": {
        "id": "7XlcGP0_on6J"
      },
      "execution_count": null,
      "outputs": []
    },
    {
      "cell_type": "code",
      "source": [
        "# import modules \n",
        "import numpy as np \n",
        "import matplotlib.pyplot as plt \n",
        "import pandas as pd \n",
        "%matplotlib inline"
      ],
      "metadata": {
        "id": "0Oh75adZ2qAY"
      },
      "execution_count": 2,
      "outputs": []
    },
    {
      "cell_type": "code",
      "source": [
        "class eps_bandit:\n",
        "    '''\n",
        "    epsilon-greedy k-bandit problem\n",
        "    \n",
        "    Inputs\n",
        "    =====================================================\n",
        "    k: number of arms (int)\n",
        "    eps: probability of random action 0 < eps < 1 (float)\n",
        "    iters: number of steps (int)\n",
        "    mu: set the average rewards for each of the k-arms.\n",
        "        Set to \"random\" for the rewards to be selected from\n",
        "        a normal distribution with mean = 0. \n",
        "        Set to \"sequence\" for the means to be ordered from \n",
        "        0 to k-1.\n",
        "        Pass a list or array of length = k for user-defined\n",
        "        values.\n",
        "    '''\n",
        "    \n",
        "    def __init__(self, k, eps, iters, mu='random'):\n",
        "        # Number of arms\n",
        "        self.k = k\n",
        "        # Search probability\n",
        "        self.eps = eps\n",
        "        # Number of iterations\n",
        "        self.iters = iters\n",
        "        # Step count\n",
        "        self.n = 0\n",
        "        # Step count for each arm\n",
        "        self.k_n = np.zeros(k)\n",
        "        # Total mean reward\n",
        "        self.mean_reward = 0\n",
        "        self.reward = np.zeros(iters)\n",
        "        # Mean reward for each arm\n",
        "        self.k_reward = np.zeros(k)\n",
        "        \n",
        "        if type(mu) == list or type(mu).__module__ == np.__name__:\n",
        "            # User-defined averages            \n",
        "            self.mu = np.array(mu)\n",
        "        elif mu == 'random':\n",
        "            # Draw means from probability distribution\n",
        "            self.mu = np.random.normal(0, 1, k)\n",
        "        elif mu == 'sequence':\n",
        "            # Increase the mean for each arm by one\n",
        "            self.mu = np.linspace(0, k-1, k)\n",
        "        \n",
        "    def pull(self):\n",
        "        # Generate random number\n",
        "        p = np.random.rand()\n",
        "        if self.eps == 0 and self.n == 0:\n",
        "            a = np.random.choice(self.k)\n",
        "        elif p < self.eps:\n",
        "            # Randomly select an action\n",
        "            a = np.random.choice(self.k)\n",
        "        else:\n",
        "            # Take greedy action\n",
        "            a = np.argmax(self.k_reward)\n",
        "            \n",
        "        reward = np.random.normal(self.mu[a], 1)\n",
        "        \n",
        "        # Update counts\n",
        "        self.n += 1\n",
        "        self.k_n[a] += 1\n",
        "        \n",
        "        # Update total\n",
        "        self.mean_reward = self.mean_reward + (\n",
        "            reward - self.mean_reward) / self.n\n",
        "        \n",
        "        # Update results for a_k\n",
        "        self.k_reward[a] = self.k_reward[a] + (\n",
        "            reward - self.k_reward[a]) / self.k_n[a]\n",
        "        \n",
        "    def run(self):\n",
        "        for i in range(self.iters):\n",
        "            self.pull()\n",
        "            self.reward[i] = self.mean_reward\n",
        "            \n",
        "    def reset(self):\n",
        "        # Resets results while keeping settings\n",
        "        self.n = 0\n",
        "        self.k_n = np.zeros(k)\n",
        "        self.mean_reward = 0\n",
        "        self.reward = np.zeros(iters)\n",
        "        self.k_reward = np.zeros(k)"
      ],
      "metadata": {
        "id": "z0OMYjEF2nCt"
      },
      "execution_count": null,
      "outputs": []
    },
    {
      "cell_type": "code",
      "source": [
        "k = 8\n",
        "iters = 1000\n",
        "\n",
        "eps_0_rewards = np.zeros(iters)\n",
        "eps_01_rewards = np.zeros(iters)\n",
        "eps_1_rewards = np.zeros(iters)\n",
        "\n",
        "hmda_mu = [85.55, 81.93, 82.84, 79.94, 71.03, 66.35, 74.71, 67.31]\n",
        "\n",
        "episodes = 1000\n",
        "# Run experiments\n",
        "for i in range(episodes):\n",
        "    # Initialize bandits\n",
        "    eps_0 = eps_bandit(k, 0, iters, hmda_mu)\n",
        "    eps_01 = eps_bandit(k, 0.01, iters, eps_0.mu.copy())\n",
        "    eps_1 = eps_bandit(k, 0.1, iters, eps_0.mu.copy())\n",
        "    \n",
        "    # Run experiments\n",
        "    eps_0.run()\n",
        "    eps_01.run()\n",
        "    eps_1.run()\n",
        "    \n",
        "    # Update long-term averages\n",
        "    eps_0_rewards = eps_0_rewards + (\n",
        "        eps_0.reward - eps_0_rewards) / (i + 1)\n",
        "    eps_01_rewards = eps_01_rewards + (\n",
        "        eps_01.reward - eps_01_rewards) / (i + 1)\n",
        "    eps_1_rewards = eps_1_rewards + (\n",
        "        eps_1.reward - eps_1_rewards) / (i + 1)\n",
        "    \n",
        "plt.figure(figsize=(12,8))\n",
        "plt.plot(eps_0_rewards, label=\"$\\epsilon=0$ (greedy)\")\n",
        "plt.plot(eps_01_rewards, label=\"$\\epsilon=0.01$\")\n",
        "plt.plot(eps_1_rewards, label=\"$\\epsilon=0.1$\")\n",
        "plt.legend(bbox_to_anchor=(1.3, 0.5))\n",
        "plt.xlabel(\"Iterations\")\n",
        "plt.ylabel(\"Average Reward\")\n",
        "plt.title(\"Average $\\epsilon-greedy$ Rewards after \" + str(episodes) \n",
        "    + \" Episodes\")\n",
        "plt.show()"
      ],
      "metadata": {
        "colab": {
          "base_uri": "https://localhost:8080/",
          "height": 514
        },
        "id": "Eng2RpnH3RDI",
        "outputId": "9b03a952-90c2-4198-999e-ce35d6be8f82"
      },
      "execution_count": null,
      "outputs": [
        {
          "output_type": "display_data",
          "data": {
            "text/plain": [
              "<Figure size 864x576 with 1 Axes>"
            ],
            "image/png": "[encoded data removed]"
          },
          "metadata": {
            "needs_background": "light"
          }
        }
      ]
    },
    {
      "cell_type": "code",
      "source": [
        "print(eps_01.k_n)"
      ],
      "metadata": {
        "colab": {
          "base_uri": "https://localhost:8080/"
        },
        "id": "1gRXW7kx6pjQ",
        "outputId": "3da78763-50ce-481c-9a60-538f1ca383c8"
      },
      "execution_count": null,
      "outputs": [
        {
          "output_type": "stream",
          "name": "stdout",
          "text": [
            "[989.   1.   0.   2.   3.   0.   4.   1.]\n"
          ]
        }
      ]
    },
    {
      "cell_type": "markdown",
      "source": [
        "## **RELLEVANT A PARTIR D'AQUÍ**"
      ],
      "metadata": {
        "id": "aUMvXUazpo9j"
      }
    },
    {
      "cell_type": "code",
      "source": [
        "class PowerSocket:\n",
        "    \"\"\" the base power socket class \"\"\"\n",
        "    \n",
        "    def __init__(self, q, cl, var=1):                \n",
        "        self.q = q        # the true reward value \n",
        "        self.confidence_level = cl          \n",
        "        self.var = var   \n",
        "        self.initialize() # reset the socket\n",
        "        \n",
        "    def initialize(self):\n",
        "        self.Q = 0   # the estimate of this socket's reward value                \n",
        "        self.n = 0   # the number of times this socket has been tried        \n",
        "    \n",
        "    def charge(self):\n",
        "        \"\"\" return a random amount of charge \"\"\"\n",
        "        \n",
        "        # the reward is a guassian distribution with unit variance around the true\n",
        "        # value 'q'\n",
        "        value = self.var * np.random.randn() + self.q        \n",
        "        \n",
        "        # never allow a charge less than 0 to be returned        \n",
        "        return 0 if value < 0 else value\n",
        "                    \n",
        "    def update(self,R):\n",
        "        \"\"\" update this socket after it has returned reward value 'R' \"\"\"     \n",
        "    \n",
        "        # increment the number of times this socket has been tried\n",
        "        self.n += 1\n",
        "\n",
        "        # the new estimate of the mean is calculated from the old estimate\n",
        "        self.Q = (1 - 1.0/self.n) * self.Q + (1.0/self.n) * R\n",
        "\n",
        "    def uncertainty(self, t): \n",
        "        \"\"\" calculate the uncertainty in the estimate of this socket's mean \"\"\"\n",
        "        if self.n == 0: return float('inf')                         \n",
        "        return self.confidence_level * (np.sqrt(np.log(t) / self.n))         \n",
        "        \n",
        "    def sample(self,t):\n",
        "        \"\"\" the UCB reward is the estimate of the mean reward plus its uncertainty \"\"\"\n",
        "        return self.Q + self.uncertainty(t) "
      ],
      "metadata": {
        "id": "p8tfQUa07n9G"
      },
      "execution_count": 1,
      "outputs": []
    },
    {
      "cell_type": "code",
      "source": [
        "# return the index of the largest value in the supplied list\n",
        "# - arbitrarily select between the largest values in the case of a tie\n",
        "# (the standard np.argmax just chooses the first value in the case of a tie)\n",
        "def random_argmax(value_list):\n",
        "  \"\"\" a random tie-breaking argmax\"\"\"\n",
        "  values = np.asarray(value_list)\n",
        "  return np.argmax(np.random.random(values.shape) * (values==values.max()))\n"
      ],
      "metadata": {
        "id": "AnVMnmyuEth1"
      },
      "execution_count": 3,
      "outputs": []
    },
    {
      "cell_type": "code",
      "source": [
        "class SocketTester():\n",
        "    \"\"\" create and test a set of sockets over a single test run \"\"\"\n",
        "\n",
        "    def __init__(self, socket, socket_order, confidence_level):  \n",
        "        \n",
        "        # create supplied socket type with a mean value defined by socket order \n",
        "        self.sockets = [socket(q, confidence_level) for q in socket_order]     \n",
        "        \n",
        "        # set the number of sockets equal to the number created\n",
        "        self.number_of_sockets = len(self.sockets)\n",
        "\n",
        "        self.number_of_stats = 2                 \n",
        "            \n",
        "    def initialize_run(self, number_of_steps):\n",
        "        \"\"\" reset counters at the start of a run \"\"\"\n",
        "        \n",
        "        # save the number of steps over which the run will take place\n",
        "        self.number_of_steps = number_of_steps\n",
        "        \n",
        "        # reset the actual number of steps that the test ran for\n",
        "        self.total_steps = 0\n",
        "        \n",
        "        # monitor the total reward obtained over the run\n",
        "        self.total_reward = 0\n",
        "        \n",
        "        # the current total reward at each timestep of the run\n",
        "        self.total_reward_per_timestep = []\n",
        "        \n",
        "        # the actual reward obtained at each timestep\n",
        "        self.reward_per_timestep = []\n",
        "           \n",
        "        # stats for each time-step\n",
        "        # - by default records: estimate, number of trials\n",
        "        self.socket_stats = np.zeros(shape=(number_of_steps+1, \n",
        "                                            self.number_of_sockets, \n",
        "                                            self.number_of_stats))\n",
        "        \n",
        "        # ensure that all sockets are re-initialized\n",
        "        for socket in self.sockets: socket.initialize()\n",
        "            \n",
        "                                \n",
        "    def charge_and_update(self,socket_index):\n",
        "        \"\"\" charge from & update the specified socket and associated parameters \"\"\"\n",
        "        \n",
        "        # charge from the chosen socket and update its mean reward value\n",
        "        reward = self.sockets[socket_index].charge()\n",
        "        self.sockets[socket_index].update(reward)\n",
        "\n",
        "        # update the total reward\n",
        "        self.total_reward += reward   \n",
        "        \n",
        "        # store the current total reward at this timestep\n",
        "        self.total_reward_per_timestep.append(self.total_reward)\n",
        "        \n",
        "        # store the reward obtained at this timestep\n",
        "        self.reward_per_timestep.append(reward)        \n",
        "        \n",
        "        \n",
        "    def get_socket_stats( self, t ):\n",
        "        \"\"\" get the current information from each socket \"\"\"        \n",
        "        socket_stats = [[socket.Q, socket.n] for socket in self.sockets]\n",
        "        return socket_stats     \n",
        "    \n",
        "    def get_mean_reward( self ):\n",
        "        \"\"\" the total reward averaged over the number of time steps \"\"\"\n",
        "        return (self.total_reward/self.total_steps)\n",
        "    \n",
        "    def get_total_reward_per_timestep( self ):\n",
        "        \"\"\" the cumulative total reward at each timestep of the run \"\"\"\n",
        "        return self.total_reward_per_timestep\n",
        "    \n",
        "    def get_reward_per_timestep( self ):\n",
        "        \"\"\" the actual reward obtained at each timestep of the run \"\"\"\n",
        "        return self.reward_per_timestep\n",
        "    \n",
        "    def get_estimates(self):\n",
        "        \"\"\" get the estimate of each socket's reward at each timestep of the run \"\"\"\n",
        "        return self.socket_stats[:,:,0]  \n",
        "    \n",
        "    def get_number_of_trials(self):\n",
        "        \"\"\" get the number of trials of each socket at each timestep of the run \"\"\"\n",
        "        return self.socket_stats[:,:,1]          \n",
        "                \n",
        "    def get_socket_percentages( self ):\n",
        "        \"\"\" get the percentage of times each socket was tried over the run \"\"\"\n",
        "        return (self.socket_stats[:,:,1][self.total_steps]/self.total_steps)        \n",
        "    \n",
        "    def get_time_steps( self ):\n",
        "        \"\"\" get the number of time steps that the test ran for \"\"\"\n",
        "        return self.total_steps\n",
        "    \n",
        "    def select_socket( self, t ):\n",
        "        \"\"\" Greedy Socket Selection\"\"\"\n",
        "        \n",
        "        # choose the socket with the current highest mean reward or arbitrarily\n",
        "        # select a socket in the case of a tie            \n",
        "        socket_index = random_argmax([socket.sample(t+1) for socket in self.sockets]) \n",
        "        return socket_index     \n",
        "    \n",
        "    \n",
        "    def run( self, number_of_steps, maximum_total_reward = float('inf')):  \n",
        "        \"\"\" perform a single run, over the set of sockets, \n",
        "            for the defined number of steps \"\"\"\n",
        "        \n",
        "        # reset the run counters\n",
        "        self.initialize_run(number_of_steps)\n",
        "        \n",
        "        # loop for the specified number of time-steps\n",
        "        for t in range(number_of_steps):\n",
        "\n",
        "            # get information about all sockets at the start of the time step\n",
        "            self.socket_stats[t] = self.get_socket_stats(t)            \n",
        "            \n",
        "            # select a socket\n",
        "            socket_index = self.select_socket(t)\n",
        "            \n",
        "            # charge from the chosen socket and update its mean reward value\n",
        "            self.charge_and_update(socket_index)\n",
        "            \n",
        "            # test if the accumulated total reward is greater than the maximum\n",
        "            if self.total_reward > maximum_total_reward:\n",
        "                break\n",
        "       \n",
        "        # save the actual number of steps that have been run\n",
        "        self.total_steps = t    \n",
        "    \n",
        "        # get the stats for each socket at the end of the run        \n",
        "        self.socket_stats[t+1] = self.get_socket_stats(t+1)           \n",
        "        \n",
        "        return self.total_steps, self.total_reward\n",
        "  "
      ],
      "metadata": {
        "id": "zCz0kAoMAizG"
      },
      "execution_count": 4,
      "outputs": []
    },
    {
      "cell_type": "code",
      "source": [
        "test = SocketTester(PowerSocket, [85.55, 81.93, 82.84, 79.94, 71.03, 66.35, 74.71, 67.31], 5)\n",
        "test.run(1000)\n",
        "test.get_number_of_trials()[-1]"
      ],
      "metadata": {
        "colab": {
          "base_uri": "https://localhost:8080/"
        },
        "id": "pnakDg5QCwfq",
        "outputId": "33047f76-712d-48e7-add3-725717f86bc6"
      },
      "execution_count": 5,
      "outputs": [
        {
          "output_type": "execute_result",
          "data": {
            "text/plain": [
              "array([956.,  14.,  19.,   6.,   1.,   1.,   2.,   1.])"
            ]
          },
          "metadata": {},
          "execution_count": 5
        }
      ]
    },
    {
      "cell_type": "code",
      "source": [
        "class SocketTesterBatch():\n",
        "    \"\"\" create and test a set of sockets over a single test run \"\"\"\n",
        "\n",
        "    def __init__(self, socket, socket_order, confidence_level):  \n",
        "        \n",
        "        # create supplied socket type with a mean value defined by socket order \n",
        "        self.sockets = [socket(q, confidence_level) for q in socket_order]     \n",
        "        \n",
        "        # set the number of sockets equal to the number created\n",
        "        self.number_of_sockets = len(self.sockets)\n",
        "\n",
        "        self.number_of_stats = 2                 \n",
        "            \n",
        "    def initialize_run(self, number_of_steps):\n",
        "        \"\"\" reset counters at the start of a run \"\"\"\n",
        "        \n",
        "        # save the number of steps over which the run will take place\n",
        "        self.number_of_steps = number_of_steps\n",
        "        \n",
        "        # reset the actual number of steps that the test ran for\n",
        "        self.total_steps = 0\n",
        "        \n",
        "        # monitor the total reward obtained over the run\n",
        "        self.total_reward = 0\n",
        "        \n",
        "        # the current total reward at each timestep of the run\n",
        "        self.total_reward_per_timestep = []\n",
        "        \n",
        "        # the actual reward obtained at each timestep\n",
        "        self.reward_per_timestep = []\n",
        "           \n",
        "        # stats for each time-step\n",
        "        # - by default records: estimate, number of trials\n",
        "        self.socket_stats = np.zeros(shape=(number_of_steps+1, \n",
        "                                            self.number_of_sockets, \n",
        "                                            self.number_of_stats))\n",
        "        \n",
        "        # ensure that all sockets are re-initialized\n",
        "        for socket in self.sockets: socket.initialize()\n",
        "            \n",
        "                                \n",
        "    def charge_and_update(self,socket_index):\n",
        "        \"\"\" charge from & update the specified socket and associated parameters \"\"\"\n",
        "        \n",
        "        # charge from the chosen socket and update its mean reward value\n",
        "        reward = self.sockets[socket_index].charge()\n",
        "        self.sockets[socket_index].update(reward)\n",
        "\n",
        "        # update the total reward\n",
        "        self.total_reward += reward   \n",
        "        \n",
        "        # store the current total reward at this timestep\n",
        "        self.total_reward_per_timestep.append(self.total_reward)\n",
        "        \n",
        "        # store the reward obtained at this timestep\n",
        "        self.reward_per_timestep.append(reward)        \n",
        "        \n",
        "        \n",
        "    def get_socket_stats( self, t ):\n",
        "        \"\"\" get the current information from each socket \"\"\"        \n",
        "        socket_stats = [[socket.Q, socket.n] for socket in self.sockets]\n",
        "        return socket_stats     \n",
        "    \n",
        "    def get_mean_reward( self ):\n",
        "        \"\"\" the total reward averaged over the number of time steps \"\"\"\n",
        "        return (self.total_reward/self.total_steps)\n",
        "    \n",
        "    def get_total_reward_per_timestep( self ):\n",
        "        \"\"\" the cumulative total reward at each timestep of the run \"\"\"\n",
        "        return self.total_reward_per_timestep\n",
        "    \n",
        "    def get_reward_per_timestep( self ):\n",
        "        \"\"\" the actual reward obtained at each timestep of the run \"\"\"\n",
        "        return self.reward_per_timestep\n",
        "    \n",
        "    def get_estimates(self):\n",
        "        \"\"\" get the estimate of each socket's reward at each timestep of the run \"\"\"\n",
        "        return self.socket_stats[:,:,0]  \n",
        "    \n",
        "    def get_number_of_trials(self):\n",
        "        \"\"\" get the number of trials of each socket at each timestep of the run \"\"\"\n",
        "        return self.socket_stats[:,:,1]          \n",
        "                \n",
        "    def get_socket_percentages( self ):\n",
        "        \"\"\" get the percentage of times each socket was tried over the run \"\"\"\n",
        "        return (self.socket_stats[:,:,1][self.total_steps]/self.total_steps)        \n",
        "    \n",
        "    def get_time_steps( self ):\n",
        "        \"\"\" get the number of time steps that the test ran for \"\"\"\n",
        "        return self.total_steps\n",
        "    \n",
        "    def select_socket( self, t ):\n",
        "        \"\"\" Greedy Socket Selection\"\"\"\n",
        "        \n",
        "        # choose the socket with the current highest mean reward or arbitrarily\n",
        "        # select a socket in the case of a tie            \n",
        "        mask = [self.get_number_of_trials()[t][i]<self.possibles[i] for i in range(len(self.sockets))]\n",
        "        #print(mask)\n",
        "        available = [self.sockets[i] for i in range(len(self.sockets)) if (mask[i])]\n",
        "        socket_max = random_argmax([socket.sample(t+1) for socket in available]) \n",
        "        #print(socket_max)\n",
        "        socket_index = self.sockets.index(available[socket_max])\n",
        "        return socket_index     \n",
        "    \n",
        "    def return_increments(self, decisions_to_consider):\n",
        "        presence = np.array([i/len(decisions_to_consider) for i in self.possibles])\n",
        "        selected_presence = np.array(self.get_socket_percentages())\n",
        "        diff = np.subtract(selected_presence, presence)\n",
        "        #print(diff)\n",
        "        #print(diff.sum())\n",
        "        return diff\n",
        "    \n",
        "    def run( self, decisions_to_consider, max_percent_decisions=1, prints_bool = True):  \n",
        "        \"\"\" perform a single run, over the set of sockets, \n",
        "            for the defined number of steps \"\"\"\n",
        "        \n",
        "        # reset the run counters\n",
        "        self.initialize_run(len(decisions_to_consider))\n",
        "\n",
        "        self.possibles = [0]*8 #TODO: DEPENDS ON N OF CLUSTER (DECISIONS.UNIQUE() ISNT ENOUGH BECAUSE IT CAN LACK SOME INSTANCES)\n",
        "        for i in np.unique(np.array(decisions_to_consider)):\n",
        "          self.possibles[i] = decisions_to_consider.count(i) \n",
        "\n",
        "        usos = 0\n",
        "        usos_maxims = math.floor(max_percent_decisions*len(decisions_to_consider))\n",
        "        #print(usos_maxims)\n",
        "\n",
        "        # loop for the specified number of time-steps\n",
        "        for t in range(len(decisions_to_consider)):\n",
        "\n",
        "            # get information about all sockets at the start of the time step\n",
        "            self.socket_stats[t] = self.get_socket_stats(t)            \n",
        "            \n",
        "            # select a socket\n",
        "            socket_index = self.select_socket(t)\n",
        "            #if(decisions_to_consider[t]==socket_index):\n",
        "            if(self.get_number_of_trials()[t][socket_index]<self.possibles[socket_index]):\n",
        "              # charge from the chosen socket and update its mean reward value\n",
        "              self.charge_and_update(socket_index)\n",
        "              usos+=1\n",
        "              \n",
        "              if usos > usos_maxims:\n",
        "                  #print(usos,usos_maxims)\n",
        "                  break\n",
        "        # save the actual number of steps that have been run\n",
        "        self.total_steps = t    \n",
        "    \n",
        "        # get the stats for each socket at the end of the run        \n",
        "        self.socket_stats[t+1] = self.get_socket_stats(t+1)           \n",
        "        \n",
        "        if(prints_bool):\n",
        "          #print(\"Reward distribution:\",[s.q for s in self.sockets])\n",
        "          #print(\"Intances of each cluster:\",self.possibles)\n",
        "          print(\"Presence of each in batch (%):\",[100*i/len(decisions_to_consider) for i in self.possibles])\n",
        "          #print(\"Times selected:\",self.get_number_of_trials()[t])\n",
        "          print(\"Relative approval rate (%):\",[round(100*self.get_number_of_trials()[t][i]/self.possibles[i],2) if self.possibles[i]>0.0 else 0.0 for i in range(len(self.possibles))])\n",
        "          print(\"Percentage over total selected (%):\",[round(100*p,2) for p in self.get_socket_percentages()])\n",
        "          #print(\"For a total reward:\",self.total_reward)\n",
        "\n",
        "\n",
        "        return self.total_steps, self.total_reward, self.return_increments(decisions_to_consider)\n",
        "  "
      ],
      "metadata": {
        "id": "6NcpcFYlGLjb"
      },
      "execution_count": 6,
      "outputs": []
    },
    {
      "cell_type": "code",
      "source": [
        "import math\n",
        "import random"
      ],
      "metadata": {
        "id": "eGkoVRSTIcSY"
      },
      "execution_count": 7,
      "outputs": []
    },
    {
      "cell_type": "code",
      "source": [
        "test2 = SocketTesterBatch(PowerSocket, np.array([.8555, .8193, .8284, .7994, .7103, .6635, .7471, .6731])*100, 5)\n",
        "\n",
        "decisions = random.choices(range(8), k=1000)\n",
        "ts,tr,_ = test2.run(decisions)"
      ],
      "metadata": {
        "colab": {
          "base_uri": "https://localhost:8080/"
        },
        "id": "DbwS4aiVIOdu",
        "outputId": "a59f6867-63a6-4be2-e6f0-382e2312f99c"
      },
      "execution_count": 8,
      "outputs": [
        {
          "output_type": "stream",
          "name": "stdout",
          "text": [
            "Presence of each in batch (%): [12.2, 11.3, 12.6, 13.6, 12.4, 12.7, 13.6, 11.6]\n",
            "Relative approval rate (%): [100.0, 100.0, 100.0, 100.0, 100.0, 99.21, 100.0, 100.0]\n",
            "Percentage over total selected (%): [12.21, 11.31, 12.61, 13.61, 12.41, 12.61, 13.61, 11.61]\n"
          ]
        }
      ]
    },
    {
      "cell_type": "code",
      "source": [
        "ts,tr,_ = test2.run(decisions, 0.8)"
      ],
      "metadata": {
        "colab": {
          "base_uri": "https://localhost:8080/"
        },
        "id": "1d47Wgx9cXYL",
        "outputId": "87986e31-3ea5-4adb-f0ab-67b444c00ba3"
      },
      "execution_count": 9,
      "outputs": [
        {
          "output_type": "stream",
          "name": "stdout",
          "text": [
            "Presence of each in batch (%): [12.2, 11.3, 12.6, 13.6, 12.4, 12.7, 13.6, 11.6]\n",
            "Relative approval rate (%): [100.0, 100.0, 100.0, 100.0, 100.0, 12.6, 100.0, 23.28]\n",
            "Percentage over total selected (%): [15.25, 14.12, 15.75, 17.0, 15.5, 2.0, 17.0, 3.38]\n"
          ]
        }
      ]
    },
    {
      "cell_type": "code",
      "source": [
        "sample_bias = [0.555, 0.24, 0.023, 0.011, 0.087, 0.081, 0.001, 0.001]\n",
        "sample_bias_decisions = random.choices(range(8),weights=sample_bias,k=1000)\n",
        "#print(sample_bias_decisions)\n",
        "ts,tr,_ = test2.run(sample_bias_decisions, 0.8)"
      ],
      "metadata": {
        "colab": {
          "base_uri": "https://localhost:8080/"
        },
        "id": "1nret0OpcuM9",
        "outputId": "f74baa8e-1a14-4fa4-c3c9-82af2d1cd207"
      },
      "execution_count": 10,
      "outputs": [
        {
          "output_type": "stream",
          "name": "stdout",
          "text": [
            "Presence of each in batch (%): [55.2, 23.9, 2.4, 1.0, 9.1, 7.9, 0.3, 0.2]\n",
            "Relative approval rate (%): [100.0, 86.61, 100.0, 100.0, 2.2, 1.27, 100.0, 50.0]\n",
            "Percentage over total selected (%): [69.0, 25.87, 3.0, 1.25, 0.25, 0.12, 0.38, 0.12]\n"
          ]
        }
      ]
    },
    {
      "cell_type": "markdown",
      "source": [
        "###**NON-STATIC**"
      ],
      "metadata": {
        "id": "KFPxU49FzLqe"
      }
    },
    {
      "cell_type": "code",
      "source": [
        "#def f(probs, val, ind):\n",
        "#    probs[ind] += val\n",
        "#    mask = np.ones(len(probs), bool)\n",
        "#    mask[ind] = False\n",
        "#    probs[mask] -= val / (len(probs) - 1)\n",
        "#    return np.clip(probs, 0, np.infty) / np.sum(np.clip(probs, 0, np.infty))"
      ],
      "metadata": {
        "id": "K56OQeDy-HqE"
      },
      "execution_count": 11,
      "outputs": []
    },
    {
      "cell_type": "code",
      "source": [
        "def cummulative_sample(tester,iter,orig, coef):\n",
        "  instances_distribution = np.array(orig)\n",
        "  for i in range(iter):\n",
        "    pbool=False\n",
        "    if(i%math.ceil(iter/4)==0 or i==iter-1):\n",
        "      print(i)\n",
        "      #print(list(instances_distribution))\n",
        "      pbool=True\n",
        "\n",
        "    decisions = random.choices(range(8),weights=list(instances_distribution),k=1000)\n",
        "    ts,tr,ti = tester.run(decisions, 0.8, pbool)\n",
        "    \n",
        "    #for i in range(len(ti)):\n",
        "    #  instances_distribution = f(instances_distribution,ti[i],i)\n",
        "    instances_distribution = np.add(instances_distribution,ti*coef)\n",
        "    instances_distribution = np.clip(instances_distribution,0,None)\n",
        "    instances_distribution = instances_distribution / instances_distribution.sum()"
      ],
      "metadata": {
        "id": "GANuWD7KzSzh"
      },
      "execution_count": 12,
      "outputs": []
    },
    {
      "cell_type": "code",
      "source": [
        "o_sample_bias = [0.555, 0.24, 0.023, 0.011, 0.087, 0.081, 0.001, 0.001]\n",
        "cummulative_sample(test2,35,o_sample_bias,0.05)"
      ],
      "metadata": {
        "colab": {
          "base_uri": "https://localhost:8080/"
        },
        "id": "Gx3cD1zIC4KH",
        "outputId": "198df7bd-bb3c-4da2-e131-16e5ceda7be0"
      },
      "execution_count": 13,
      "outputs": [
        {
          "output_type": "stream",
          "name": "stdout",
          "text": [
            "0\n",
            "Presence of each in batch (%): [55.3, 23.0, 2.4, 0.6, 9.7, 8.5, 0.4, 0.1]\n",
            "Relative approval rate (%): [100.0, 91.74, 100.0, 100.0, 2.06, 1.18, 50.0, 100.0]\n",
            "Percentage over total selected (%): [69.12, 26.38, 3.0, 0.75, 0.25, 0.12, 0.25, 0.12]\n",
            "9\n",
            "Presence of each in batch (%): [62.7, 21.7, 3.0, 1.8, 5.7, 5.0, 0.1, 0.0]\n",
            "Relative approval rate (%): [100.0, 55.76, 100.0, 100.0, 3.51, 2.0, 100.0, 0.0]\n",
            "Percentage over total selected (%): [78.38, 15.12, 3.75, 2.25, 0.25, 0.12, 0.12, 0.0]\n",
            "18\n",
            "Presence of each in batch (%): [67.4, 21.1, 3.0, 1.3, 3.9, 3.1, 0.1, 0.1]\n",
            "Relative approval rate (%): [100.0, 37.44, 100.0, 100.0, 2.56, 3.23, 100.0, 100.0]\n",
            "Percentage over total selected (%): [84.25, 9.88, 3.75, 1.62, 0.12, 0.12, 0.12, 0.12]\n",
            "27\n",
            "Presence of each in batch (%): [76.7, 14.2, 2.9, 0.9, 2.4, 2.4, 0.3, 0.2]\n",
            "Relative approval rate (%): [99.48, 7.04, 58.62, 55.56, 4.17, 4.17, 66.67, 50.0]\n",
            "Percentage over total selected (%): [95.38, 1.25, 2.12, 0.62, 0.12, 0.12, 0.25, 0.12]\n",
            "34\n",
            "Presence of each in batch (%): [80.9, 12.6, 2.1, 0.6, 2.2, 1.5, 0.1, 0.0]\n",
            "Relative approval rate (%): [93.94, 9.52, 90.48, 100.0, 4.55, 6.67, 100.0, 0.0]\n",
            "Percentage over total selected (%): [95.0, 1.5, 2.38, 0.75, 0.12, 0.12, 0.12, 0.0]\n"
          ]
        }
      ]
    },
    {
      "cell_type": "code",
      "source": [
        "no_sample_bias = [1/8]*8\n",
        "cummulative_sample(test2,35,no_sample_bias,0.05)"
      ],
      "metadata": {
        "colab": {
          "base_uri": "https://localhost:8080/"
        },
        "id": "cJ4_y3P4EDgD",
        "outputId": "3514b6ba-f6db-4486-903f-e5366cbaa819"
      },
      "execution_count": 14,
      "outputs": [
        {
          "output_type": "stream",
          "name": "stdout",
          "text": [
            "0\n",
            "Presence of each in batch (%): [12.5, 11.3, 10.8, 13.8, 12.8, 12.4, 14.2, 12.2]\n",
            "Relative approval rate (%): [100.0, 100.0, 100.0, 100.0, 100.0, 10.48, 100.0, 27.05]\n",
            "Percentage over total selected (%): [15.62, 14.12, 13.5, 17.25, 16.0, 1.62, 17.75, 4.12]\n",
            "9\n",
            "Presence of each in batch (%): [13.5, 16.9, 14.8, 13.1, 14.3, 7.6, 13.4, 6.4]\n",
            "Relative approval rate (%): [100.0, 100.0, 100.0, 100.0, 49.65, 6.58, 100.0, 10.94]\n",
            "Percentage over total selected (%): [16.88, 21.12, 18.5, 16.38, 8.88, 0.62, 16.75, 0.88]\n",
            "18\n",
            "Presence of each in batch (%): [14.9, 16.3, 16.6, 12.4, 12.2, 5.9, 15.9, 5.8]\n",
            "Relative approval rate (%): [100.0, 100.0, 100.0, 100.0, 24.59, 6.78, 100.0, 8.62]\n",
            "Percentage over total selected (%): [18.62, 20.38, 20.75, 15.5, 3.75, 0.5, 19.88, 0.62]\n",
            "27\n",
            "Presence of each in batch (%): [19.6, 16.3, 14.6, 18.5, 7.3, 4.5, 15.2, 4.0]\n",
            "Relative approval rate (%): [100.0, 100.0, 100.0, 100.0, 12.33, 6.67, 62.5, 7.5]\n",
            "Percentage over total selected (%): [24.5, 20.38, 18.25, 23.12, 1.12, 0.38, 11.88, 0.38]\n",
            "34\n",
            "Presence of each in batch (%): [19.3, 18.6, 19.8, 18.6, 3.9, 2.9, 14.6, 2.3]\n",
            "Relative approval rate (%): [100.0, 100.0, 100.0, 100.0, 12.82, 3.45, 19.86, 8.7]\n",
            "Percentage over total selected (%): [24.12, 23.25, 24.75, 23.25, 0.62, 0.12, 3.62, 0.25]\n"
          ]
        }
      ]
    },
    {
      "cell_type": "code",
      "source": [
        "no_sample_bias = [1/8]*8\n",
        "cummulative_sample(test2,150,no_sample_bias,0.05)"
      ],
      "metadata": {
        "colab": {
          "base_uri": "https://localhost:8080/"
        },
        "id": "9LV85u5IC5fR",
        "outputId": "cf5031cc-aec4-4cfc-fc92-61d44fdb6097"
      },
      "execution_count": 15,
      "outputs": [
        {
          "output_type": "stream",
          "name": "stdout",
          "text": [
            "0\n",
            "Presence of each in batch (%): [11.4, 12.6, 12.2, 12.5, 13.2, 12.7, 12.4, 13.0]\n",
            "Relative approval rate (%): [100.0, 100.0, 100.0, 100.0, 100.0, 18.11, 100.0, 26.15]\n",
            "Percentage over total selected (%): [14.25, 15.75, 15.25, 15.62, 16.5, 2.88, 15.5, 4.25]\n",
            "38\n",
            "Presence of each in batch (%): [19.0, 20.6, 20.4, 19.3, 4.9, 2.1, 11.4, 2.3]\n",
            "Relative approval rate (%): [100.0, 100.0, 100.0, 98.45, 4.08, 4.76, 4.39, 8.7]\n",
            "Percentage over total selected (%): [23.75, 25.75, 25.5, 23.75, 0.25, 0.12, 0.62, 0.25]\n",
            "76\n",
            "Presence of each in batch (%): [31.0, 24.0, 33.0, 8.0, 0.9, 0.7, 2.1, 0.3]\n",
            "Relative approval rate (%): [100.0, 55.83, 100.0, 23.75, 22.22, 14.29, 14.29, 33.33]\n",
            "Percentage over total selected (%): [38.75, 16.75, 41.25, 2.38, 0.25, 0.12, 0.38, 0.12]\n",
            "114\n",
            "Presence of each in batch (%): [50.5, 10.4, 34.6, 3.3, 0.1, 0.1, 0.8, 0.2]\n",
            "Relative approval rate (%): [100.0, 52.88, 64.16, 39.39, 100.0, 100.0, 25.0, 50.0]\n",
            "Percentage over total selected (%): [63.12, 6.88, 27.75, 1.62, 0.12, 0.12, 0.25, 0.12]\n",
            "149\n",
            "Presence of each in batch (%): [78.6, 4.8, 14.6, 1.5, 0.0, 0.1, 0.3, 0.1]\n",
            "Relative approval rate (%): [97.46, 20.83, 10.96, 26.67, 0.0, 100.0, 66.67, 100.0]\n",
            "Percentage over total selected (%): [95.75, 1.25, 2.0, 0.5, 0.0, 0.12, 0.25, 0.12]\n"
          ]
        }
      ]
    },
    {
      "cell_type": "code",
      "source": [
        "def nonstatic(iter, rewards_d_o, r_coef, instances_d_o, i_coef):\n",
        "  rewards_d = np.array(rewards_d_o)\n",
        "  instances_d = np.array(instances_d_o)\n",
        "\n",
        "  #iter = 1000\n",
        "  for i in range(iter):\n",
        "    pbool=False\n",
        "    if(i%math.ceil(iter/4)==0 or i==iter-1):\n",
        "        print(i)\n",
        "        #print(list(instances_distribution))\n",
        "        pbool=True\n",
        "\n",
        "    updated_test = SocketTesterBatch(PowerSocket, list(rewards_d), 5)\n",
        "    decisions = random.choices(range(8),weights=list(instances_d),k=1000)\n",
        "    ts,tr,ti = updated_test.run(decisions, 0.8, pbool)\n",
        "\n",
        "    increments = ti\n",
        "    #increments = np.subtract(np.array(updated_test.get_socket_percentages()),0.5)\n",
        "    #print(increments)\n",
        "\n",
        "    rewards_d = np.add(rewards_d,increments*r_coef*100)\n",
        "    rewards_d = np.clip(rewards_d,0,100)\n",
        "    #print(rewards_d)\n",
        "\n",
        "    instances_d = np.add(instances_d,increments*i_coef)\n",
        "    instances_d = np.clip(instances_d,0,None)\n",
        "    instances_d = instances_d / instances_d.sum()"
      ],
      "metadata": {
        "id": "92tyyqv-ENiD"
      },
      "execution_count": 16,
      "outputs": []
    },
    {
      "cell_type": "code",
      "source": [
        "rewards_bias = np.array([.8555, .8193, .8284, .7994, .7103, .6635, .7471, .6731])*100\n",
        "rewards_nonbias = [100/2]*8\n",
        "\n",
        "instances_bias = [0.555, 0.24, 0.023, 0.011, 0.087, 0.081, 0.001, 0.001]\n",
        "instances_nonbias = [1/8]*8"
      ],
      "metadata": {
        "id": "6qdqEOdfJbWX"
      },
      "execution_count": 17,
      "outputs": []
    },
    {
      "cell_type": "code",
      "source": [
        "nonstatic(100, rewards_nonbias, 0, instances_nonbias, 0)"
      ],
      "metadata": {
        "colab": {
          "base_uri": "https://localhost:8080/"
        },
        "id": "FejlbpgnQl7X",
        "outputId": "222f1850-6ddb-4b16-ab1e-e1095025ad50"
      },
      "execution_count": 18,
      "outputs": [
        {
          "output_type": "stream",
          "name": "stdout",
          "text": [
            "0\n",
            "Presence of each in batch (%): [13.4, 12.0, 12.6, 13.0, 12.7, 13.6, 11.0, 11.7]\n",
            "Relative approval rate (%): [73.13, 64.17, 95.24, 93.85, 81.89, 75.0, 73.64, 82.05]\n",
            "Percentage over total selected (%): [12.25, 9.62, 15.0, 15.25, 13.0, 12.75, 10.12, 12.0]\n",
            "25\n",
            "Presence of each in batch (%): [13.3, 12.6, 12.5, 11.1, 12.7, 13.3, 13.6, 10.9]\n",
            "Relative approval rate (%): [63.16, 52.38, 68.8, 76.58, 100.0, 100.0, 80.88, 100.0]\n",
            "Percentage over total selected (%): [10.5, 8.25, 10.75, 10.62, 15.88, 16.62, 13.75, 13.63]\n",
            "50\n",
            "Presence of each in batch (%): [10.6, 14.0, 13.1, 13.9, 12.1, 10.8, 13.0, 12.5]\n",
            "Relative approval rate (%): [100.0, 83.57, 81.68, 64.03, 72.73, 83.33, 64.62, 95.2]\n",
            "Percentage over total selected (%): [13.25, 14.62, 13.38, 11.12, 11.0, 11.25, 10.5, 14.88]\n",
            "75\n",
            "Presence of each in batch (%): [11.4, 13.6, 10.0, 13.4, 13.4, 12.6, 13.7, 11.9]\n",
            "Relative approval rate (%): [80.7, 55.15, 97.0, 63.43, 97.01, 97.62, 64.96, 91.6]\n",
            "Percentage over total selected (%): [11.5, 9.38, 12.12, 10.62, 16.25, 15.38, 11.12, 13.63]\n",
            "99\n",
            "Presence of each in batch (%): [12.4, 11.6, 13.6, 10.7, 13.6, 13.6, 11.7, 12.8]\n",
            "Relative approval rate (%): [81.45, 79.31, 61.76, 90.65, 77.21, 79.41, 95.73, 78.91]\n",
            "Percentage over total selected (%): [12.62, 11.5, 10.5, 12.12, 13.12, 13.5, 14.0, 12.62]\n"
          ]
        }
      ]
    },
    {
      "cell_type": "code",
      "source": [
        "nonstatic(2500, rewards_nonbias, 0, instances_bias, 0.01)"
      ],
      "metadata": {
        "colab": {
          "base_uri": "https://localhost:8080/",
          "height": 381
        },
        "id": "ESF0BONSY2zn",
        "outputId": "684d2725-a9ff-4435-b648-5eac5da95b65"
      },
      "execution_count": 19,
      "outputs": [
        {
          "output_type": "stream",
          "name": "stdout",
          "text": [
            "0\n",
            "Presence of each in batch (%): [56.6, 22.4, 2.4, 0.7, 8.1, 9.5, 0.0, 0.3]\n",
            "Relative approval rate (%): [64.66, 100.0, 100.0, 100.0, 100.0, 100.0, 0.0, 100.0]\n",
            "Percentage over total selected (%): [45.75, 28.0, 3.0, 0.88, 10.12, 11.88, 0.0, 0.38]\n"
          ]
        },
        {
          "output_type": "error",
          "ename": "KeyboardInterrupt",
          "evalue": "ignored",
          "traceback": [
            "\u001b[0;31m---------------------------------------------------------------------------\u001b[0m",
            "\u001b[0;31mKeyboardInterrupt\u001b[0m                         Traceback (most recent call last)",
            "\u001b[0;32m<ipython-input-19-675ad3ea606a>\u001b[0m in \u001b[0;36m<module>\u001b[0;34m()\u001b[0m\n\u001b[0;32m----> 1\u001b[0;31m \u001b[0mnonstatic\u001b[0m\u001b[0;34m(\u001b[0m\u001b[0;36m2500\u001b[0m\u001b[0;34m,\u001b[0m \u001b[0mrewards_nonbias\u001b[0m\u001b[0;34m,\u001b[0m \u001b[0;36m0\u001b[0m\u001b[0;34m,\u001b[0m \u001b[0minstances_bias\u001b[0m\u001b[0;34m,\u001b[0m \u001b[0;36m0.01\u001b[0m\u001b[0;34m)\u001b[0m\u001b[0;34m\u001b[0m\u001b[0;34m\u001b[0m\u001b[0m\n\u001b[0m",
            "\u001b[0;32m<ipython-input-16-5e7597f4721a>\u001b[0m in \u001b[0;36mnonstatic\u001b[0;34m(iter, rewards_d_o, r_coef, instances_d_o, i_coef)\u001b[0m\n\u001b[1;32m     13\u001b[0m     \u001b[0mupdated_test\u001b[0m \u001b[0;34m=\u001b[0m \u001b[0mSocketTesterBatch\u001b[0m\u001b[0;34m(\u001b[0m\u001b[0mPowerSocket\u001b[0m\u001b[0;34m,\u001b[0m \u001b[0mlist\u001b[0m\u001b[0;34m(\u001b[0m\u001b[0mrewards_d\u001b[0m\u001b[0;34m)\u001b[0m\u001b[0;34m,\u001b[0m \u001b[0;36m5\u001b[0m\u001b[0;34m)\u001b[0m\u001b[0;34m\u001b[0m\u001b[0;34m\u001b[0m\u001b[0m\n\u001b[1;32m     14\u001b[0m     \u001b[0mdecisions\u001b[0m \u001b[0;34m=\u001b[0m \u001b[0mrandom\u001b[0m\u001b[0;34m.\u001b[0m\u001b[0mchoices\u001b[0m\u001b[0;34m(\u001b[0m\u001b[0mrange\u001b[0m\u001b[0;34m(\u001b[0m\u001b[0;36m8\u001b[0m\u001b[0;34m)\u001b[0m\u001b[0;34m,\u001b[0m\u001b[0mweights\u001b[0m\u001b[0;34m=\u001b[0m\u001b[0mlist\u001b[0m\u001b[0;34m(\u001b[0m\u001b[0minstances_d\u001b[0m\u001b[0;34m)\u001b[0m\u001b[0;34m,\u001b[0m\u001b[0mk\u001b[0m\u001b[0;34m=\u001b[0m\u001b[0;36m1000\u001b[0m\u001b[0;34m)\u001b[0m\u001b[0;34m\u001b[0m\u001b[0;34m\u001b[0m\u001b[0m\n\u001b[0;32m---> 15\u001b[0;31m     \u001b[0mts\u001b[0m\u001b[0;34m,\u001b[0m\u001b[0mtr\u001b[0m\u001b[0;34m,\u001b[0m\u001b[0mti\u001b[0m \u001b[0;34m=\u001b[0m \u001b[0mupdated_test\u001b[0m\u001b[0;34m.\u001b[0m\u001b[0mrun\u001b[0m\u001b[0;34m(\u001b[0m\u001b[0mdecisions\u001b[0m\u001b[0;34m,\u001b[0m \u001b[0;36m0.8\u001b[0m\u001b[0;34m,\u001b[0m \u001b[0mpbool\u001b[0m\u001b[0;34m)\u001b[0m\u001b[0;34m\u001b[0m\u001b[0;34m\u001b[0m\u001b[0m\n\u001b[0m\u001b[1;32m     16\u001b[0m \u001b[0;34m\u001b[0m\u001b[0m\n\u001b[1;32m     17\u001b[0m     \u001b[0mincrements\u001b[0m \u001b[0;34m=\u001b[0m \u001b[0mti\u001b[0m\u001b[0;34m\u001b[0m\u001b[0;34m\u001b[0m\u001b[0m\n",
            "\u001b[0;32m<ipython-input-6-829a2f3c41e2>\u001b[0m in \u001b[0;36mrun\u001b[0;34m(self, decisions_to_consider, max_percent_decisions, prints_bool)\u001b[0m\n\u001b[1;32m    133\u001b[0m \u001b[0;34m\u001b[0m\u001b[0m\n\u001b[1;32m    134\u001b[0m             \u001b[0;31m# select a socket\u001b[0m\u001b[0;34m\u001b[0m\u001b[0;34m\u001b[0m\u001b[0;34m\u001b[0m\u001b[0m\n\u001b[0;32m--> 135\u001b[0;31m             \u001b[0msocket_index\u001b[0m \u001b[0;34m=\u001b[0m \u001b[0mself\u001b[0m\u001b[0;34m.\u001b[0m\u001b[0mselect_socket\u001b[0m\u001b[0;34m(\u001b[0m\u001b[0mt\u001b[0m\u001b[0;34m)\u001b[0m\u001b[0;34m\u001b[0m\u001b[0;34m\u001b[0m\u001b[0m\n\u001b[0m\u001b[1;32m    136\u001b[0m             \u001b[0;31m#if(decisions_to_consider[t]==socket_index):\u001b[0m\u001b[0;34m\u001b[0m\u001b[0;34m\u001b[0m\u001b[0;34m\u001b[0m\u001b[0m\n\u001b[1;32m    137\u001b[0m             \u001b[0;32mif\u001b[0m\u001b[0;34m(\u001b[0m\u001b[0mself\u001b[0m\u001b[0;34m.\u001b[0m\u001b[0mget_number_of_trials\u001b[0m\u001b[0;34m(\u001b[0m\u001b[0;34m)\u001b[0m\u001b[0;34m[\u001b[0m\u001b[0mt\u001b[0m\u001b[0;34m]\u001b[0m\u001b[0;34m[\u001b[0m\u001b[0msocket_index\u001b[0m\u001b[0;34m]\u001b[0m\u001b[0;34m<\u001b[0m\u001b[0mself\u001b[0m\u001b[0;34m.\u001b[0m\u001b[0mpossibles\u001b[0m\u001b[0;34m[\u001b[0m\u001b[0msocket_index\u001b[0m\u001b[0;34m]\u001b[0m\u001b[0;34m)\u001b[0m\u001b[0;34m:\u001b[0m\u001b[0;34m\u001b[0m\u001b[0;34m\u001b[0m\u001b[0m\n",
            "\u001b[0;32m<ipython-input-6-829a2f3c41e2>\u001b[0m in \u001b[0;36mselect_socket\u001b[0;34m(self, t)\u001b[0m\n\u001b[1;32m     98\u001b[0m         \u001b[0;31m#print(mask)\u001b[0m\u001b[0;34m\u001b[0m\u001b[0;34m\u001b[0m\u001b[0;34m\u001b[0m\u001b[0m\n\u001b[1;32m     99\u001b[0m         \u001b[0mavailable\u001b[0m \u001b[0;34m=\u001b[0m \u001b[0;34m[\u001b[0m\u001b[0mself\u001b[0m\u001b[0;34m.\u001b[0m\u001b[0msockets\u001b[0m\u001b[0;34m[\u001b[0m\u001b[0mi\u001b[0m\u001b[0;34m]\u001b[0m \u001b[0;32mfor\u001b[0m \u001b[0mi\u001b[0m \u001b[0;32min\u001b[0m \u001b[0mrange\u001b[0m\u001b[0;34m(\u001b[0m\u001b[0mlen\u001b[0m\u001b[0;34m(\u001b[0m\u001b[0mself\u001b[0m\u001b[0;34m.\u001b[0m\u001b[0msockets\u001b[0m\u001b[0;34m)\u001b[0m\u001b[0;34m)\u001b[0m \u001b[0;32mif\u001b[0m \u001b[0;34m(\u001b[0m\u001b[0mmask\u001b[0m\u001b[0;34m[\u001b[0m\u001b[0mi\u001b[0m\u001b[0;34m]\u001b[0m\u001b[0;34m)\u001b[0m\u001b[0;34m]\u001b[0m\u001b[0;34m\u001b[0m\u001b[0;34m\u001b[0m\u001b[0m\n\u001b[0;32m--> 100\u001b[0;31m         \u001b[0msocket_max\u001b[0m \u001b[0;34m=\u001b[0m \u001b[0mrandom_argmax\u001b[0m\u001b[0;34m(\u001b[0m\u001b[0;34m[\u001b[0m\u001b[0msocket\u001b[0m\u001b[0;34m.\u001b[0m\u001b[0msample\u001b[0m\u001b[0;34m(\u001b[0m\u001b[0mt\u001b[0m\u001b[0;34m+\u001b[0m\u001b[0;36m1\u001b[0m\u001b[0;34m)\u001b[0m \u001b[0;32mfor\u001b[0m \u001b[0msocket\u001b[0m \u001b[0;32min\u001b[0m \u001b[0mavailable\u001b[0m\u001b[0;34m]\u001b[0m\u001b[0;34m)\u001b[0m\u001b[0;34m\u001b[0m\u001b[0;34m\u001b[0m\u001b[0m\n\u001b[0m\u001b[1;32m    101\u001b[0m         \u001b[0;31m#print(socket_max)\u001b[0m\u001b[0;34m\u001b[0m\u001b[0;34m\u001b[0m\u001b[0;34m\u001b[0m\u001b[0m\n\u001b[1;32m    102\u001b[0m         \u001b[0msocket_index\u001b[0m \u001b[0;34m=\u001b[0m \u001b[0mself\u001b[0m\u001b[0;34m.\u001b[0m\u001b[0msockets\u001b[0m\u001b[0;34m.\u001b[0m\u001b[0mindex\u001b[0m\u001b[0;34m(\u001b[0m\u001b[0mavailable\u001b[0m\u001b[0;34m[\u001b[0m\u001b[0msocket_max\u001b[0m\u001b[0;34m]\u001b[0m\u001b[0;34m)\u001b[0m\u001b[0;34m\u001b[0m\u001b[0;34m\u001b[0m\u001b[0m\n",
            "\u001b[0;32m<ipython-input-3-66766611802f>\u001b[0m in \u001b[0;36mrandom_argmax\u001b[0;34m(value_list)\u001b[0m\n\u001b[1;32m      5\u001b[0m   \u001b[0;34m\"\"\" a random tie-breaking argmax\"\"\"\u001b[0m\u001b[0;34m\u001b[0m\u001b[0;34m\u001b[0m\u001b[0m\n\u001b[1;32m      6\u001b[0m   \u001b[0mvalues\u001b[0m \u001b[0;34m=\u001b[0m \u001b[0mnp\u001b[0m\u001b[0;34m.\u001b[0m\u001b[0masarray\u001b[0m\u001b[0;34m(\u001b[0m\u001b[0mvalue_list\u001b[0m\u001b[0;34m)\u001b[0m\u001b[0;34m\u001b[0m\u001b[0;34m\u001b[0m\u001b[0m\n\u001b[0;32m----> 7\u001b[0;31m   \u001b[0;32mreturn\u001b[0m \u001b[0mnp\u001b[0m\u001b[0;34m.\u001b[0m\u001b[0margmax\u001b[0m\u001b[0;34m(\u001b[0m\u001b[0mnp\u001b[0m\u001b[0;34m.\u001b[0m\u001b[0mrandom\u001b[0m\u001b[0;34m.\u001b[0m\u001b[0mrandom\u001b[0m\u001b[0;34m(\u001b[0m\u001b[0mvalues\u001b[0m\u001b[0;34m.\u001b[0m\u001b[0mshape\u001b[0m\u001b[0;34m)\u001b[0m \u001b[0;34m*\u001b[0m \u001b[0;34m(\u001b[0m\u001b[0mvalues\u001b[0m\u001b[0;34m==\u001b[0m\u001b[0mvalues\u001b[0m\u001b[0;34m.\u001b[0m\u001b[0mmax\u001b[0m\u001b[0;34m(\u001b[0m\u001b[0;34m)\u001b[0m\u001b[0;34m)\u001b[0m\u001b[0;34m)\u001b[0m\u001b[0;34m\u001b[0m\u001b[0;34m\u001b[0m\u001b[0m\n\u001b[0m",
            "\u001b[0;32m/usr/local/lib/python3.7/dist-packages/numpy/core/_methods.py\u001b[0m in \u001b[0;36m_amax\u001b[0;34m(a, axis, out, keepdims, initial, where)\u001b[0m\n\u001b[1;32m     38\u001b[0m def _amax(a, axis=None, out=None, keepdims=False,\n\u001b[1;32m     39\u001b[0m           initial=_NoValue, where=True):\n\u001b[0;32m---> 40\u001b[0;31m     \u001b[0;32mreturn\u001b[0m \u001b[0mumr_maximum\u001b[0m\u001b[0;34m(\u001b[0m\u001b[0ma\u001b[0m\u001b[0;34m,\u001b[0m \u001b[0maxis\u001b[0m\u001b[0;34m,\u001b[0m \u001b[0;32mNone\u001b[0m\u001b[0;34m,\u001b[0m \u001b[0mout\u001b[0m\u001b[0;34m,\u001b[0m \u001b[0mkeepdims\u001b[0m\u001b[0;34m,\u001b[0m \u001b[0minitial\u001b[0m\u001b[0;34m,\u001b[0m \u001b[0mwhere\u001b[0m\u001b[0;34m)\u001b[0m\u001b[0;34m\u001b[0m\u001b[0;34m\u001b[0m\u001b[0m\n\u001b[0m\u001b[1;32m     41\u001b[0m \u001b[0;34m\u001b[0m\u001b[0m\n\u001b[1;32m     42\u001b[0m def _amin(a, axis=None, out=None, keepdims=False,\n",
            "\u001b[0;31mKeyboardInterrupt\u001b[0m: "
          ]
        }
      ]
    },
    {
      "cell_type": "code",
      "source": [
        "nonstatic(100, rewards_bias, 0, instances_nonbias, 0)"
      ],
      "metadata": {
        "id": "oqORHeh6aGMa"
      },
      "execution_count": null,
      "outputs": []
    },
    {
      "cell_type": "code",
      "source": [
        "nonstatic(100, rewards_bias, 0.1, instances_nonbias, 0)"
      ],
      "metadata": {
        "id": "NCzrIuvtRI9q"
      },
      "execution_count": null,
      "outputs": []
    },
    {
      "cell_type": "code",
      "source": [
        "nonstatic(100, rewards_bias, 0, instances_bias, 0.01)"
      ],
      "metadata": {
        "id": "X0WG3QDAbQ8Y"
      },
      "execution_count": null,
      "outputs": []
    },
    {
      "cell_type": "code",
      "source": [
        "nonstatic(100, rewards_bias, 0.01, instances_bias, 0)"
      ],
      "metadata": {
        "id": "NOh88ta5bBUq"
      },
      "execution_count": null,
      "outputs": []
    },
    {
      "cell_type": "code",
      "source": [
        "nonstatic(100, rewards_bias, 0.01, instances_bias, 0.01)"
      ],
      "metadata": {
        "id": "JQWqf89ZYh32"
      },
      "execution_count": null,
      "outputs": []
    },
    {
      "cell_type": "markdown",
      "source": [
        "###**SOLUTION?**"
      ],
      "metadata": {
        "id": "B2dnZoLKeN3T"
      }
    },
    {
      "cell_type": "code",
      "source": [
        "class SocketTesterBatchSOLUTION():\n",
        "    \"\"\" create and test a set of sockets over a single test run \"\"\"\n",
        "\n",
        "    def __init__(self, socket, socket_order, confidence_level, sub_opt):  \n",
        "        \n",
        "        self.subopt_coef = sub_opt\n",
        "\n",
        "        # create supplied socket type with a mean value defined by socket order \n",
        "        self.sockets = [socket(q, confidence_level) for q in socket_order]     \n",
        "        \n",
        "        # set the number of sockets equal to the number created\n",
        "        self.number_of_sockets = len(self.sockets)\n",
        "\n",
        "        self.number_of_stats = 2                 \n",
        "            \n",
        "    def initialize_run(self, number_of_steps):\n",
        "        \"\"\" reset counters at the start of a run \"\"\"\n",
        "        \n",
        "        # save the number of steps over which the run will take place\n",
        "        self.number_of_steps = number_of_steps\n",
        "        \n",
        "        # reset the actual number of steps that the test ran for\n",
        "        self.total_steps = 0\n",
        "        \n",
        "        # monitor the total reward obtained over the run\n",
        "        self.total_reward = 0\n",
        "        \n",
        "        # the current total reward at each timestep of the run\n",
        "        self.total_reward_per_timestep = []\n",
        "        \n",
        "        # the actual reward obtained at each timestep\n",
        "        self.reward_per_timestep = []\n",
        "           \n",
        "        # stats for each time-step\n",
        "        # - by default records: estimate, number of trials\n",
        "        self.socket_stats = np.zeros(shape=(number_of_steps+1, \n",
        "                                            self.number_of_sockets, \n",
        "                                            self.number_of_stats))\n",
        "        \n",
        "        # ensure that all sockets are re-initialized\n",
        "        for socket in self.sockets: socket.initialize()\n",
        "            \n",
        "                                \n",
        "    def charge_and_update(self,socket_index):\n",
        "        \"\"\" charge from & update the specified socket and associated parameters \"\"\"\n",
        "        \n",
        "        # charge from the chosen socket and update its mean reward value\n",
        "        reward = self.sockets[socket_index].charge()\n",
        "        self.sockets[socket_index].update(reward)\n",
        "\n",
        "        # update the total reward\n",
        "        self.total_reward += reward   \n",
        "        \n",
        "        # store the current total reward at this timestep\n",
        "        self.total_reward_per_timestep.append(self.total_reward)\n",
        "        \n",
        "        # store the reward obtained at this timestep\n",
        "        self.reward_per_timestep.append(reward)        \n",
        "        \n",
        "        \n",
        "    def get_socket_stats( self, t ):\n",
        "        \"\"\" get the current information from each socket \"\"\"        \n",
        "        socket_stats = [[socket.Q, socket.n] for socket in self.sockets]\n",
        "        return socket_stats     \n",
        "    \n",
        "    def get_mean_reward( self ):\n",
        "        \"\"\" the total reward averaged over the number of time steps \"\"\"\n",
        "        return (self.total_reward/self.total_steps)\n",
        "    \n",
        "    def get_total_reward_per_timestep( self ):\n",
        "        \"\"\" the cumulative total reward at each timestep of the run \"\"\"\n",
        "        return self.total_reward_per_timestep\n",
        "    \n",
        "    def get_reward_per_timestep( self ):\n",
        "        \"\"\" the actual reward obtained at each timestep of the run \"\"\"\n",
        "        return self.reward_per_timestep\n",
        "    \n",
        "    def get_estimates(self):\n",
        "        \"\"\" get the estimate of each socket's reward at each timestep of the run \"\"\"\n",
        "        return self.socket_stats[:,:,0]  \n",
        "    \n",
        "    def get_number_of_trials(self):\n",
        "        \"\"\" get the number of trials of each socket at each timestep of the run \"\"\"\n",
        "        return self.socket_stats[:,:,1]          \n",
        "                \n",
        "    def get_socket_percentages( self ):\n",
        "        \"\"\" get the percentage of times each socket was tried over the run \"\"\"\n",
        "        return (self.socket_stats[:,:,1][self.total_steps]/self.total_steps)        \n",
        "    \n",
        "    def get_time_steps( self ):\n",
        "        \"\"\" get the number of time steps that the test ran for \"\"\"\n",
        "        return self.total_steps\n",
        "    \n",
        "    def select_socket( self, t ):\n",
        "        \"\"\" Greedy Socket Selection\"\"\"\n",
        "        #CONSTRAINT A\n",
        "        curr_percentages = self.socket_stats[:,:,1][t]/t\n",
        "        mean_percentages = np.mean(curr_percentages)\n",
        "        dif_percentages = np.subtract(mean_percentages,self.socket_stats[:,:,1][t]/t)\n",
        "\n",
        "        #CONSTRAINT B\n",
        "        mean_selections = np.mean(self.get_number_of_trials()[t])\n",
        "        dif_selections = np.subtract(mean_selections,self.get_number_of_trials()[t])\n",
        "\n",
        "        #DUES CONSTRAINTS, UNA PER PERCENTATGES, L'ALTRE n SELECTIONS\n",
        "        #dif = dif_percentages #rang 10-30-50\n",
        "        dif = dif_selections   #rang 0-0.01-0.1\n",
        "\n",
        "        #print(dif)\n",
        "\n",
        "        # choose the socket with the current highest mean reward or arbitrarily\n",
        "        # select a socket in the case of a tie            \n",
        "        mask = [self.get_number_of_trials()[t][i]<self.possibles[i] for i in range(len(self.sockets))]\n",
        "        #print(mask)\n",
        "        available_sockets = [self.sockets[s] for s in range(len(self.sockets)) if (mask[s])]\n",
        "        available = [i for i in range(len(self.sockets)) if (mask[i])]\n",
        "\n",
        "        socket_max = random_argmax([self.sockets[socket].sample(t+1)+self.subopt_coef*dif[socket] for socket in available]) \n",
        "        #socket_max = random_argmax([self.sockets[socket].sample(t+1) for socket in available]) \n",
        "\n",
        "        #print(socket_max)\n",
        "        socket_index = self.sockets.index(available_sockets[socket_max])\n",
        "        return socket_index     \n",
        "    \n",
        "    def return_increments(self, decisions_to_consider):\n",
        "        presence = np.array([i/len(decisions_to_consider) for i in self.possibles])\n",
        "        selected_presence = np.array(self.get_socket_percentages())\n",
        "        diff = np.subtract(selected_presence, presence)\n",
        "        #print(diff)\n",
        "        #print(diff.sum())\n",
        "        return diff\n",
        "    \n",
        "    def run( self, decisions_to_consider, max_percent_decisions=1, prints_bool = True):  \n",
        "        \"\"\" perform a single run, over the set of sockets, \n",
        "            for the defined number of steps \"\"\"\n",
        "        \n",
        "        # reset the run counters\n",
        "        self.initialize_run(len(decisions_to_consider))\n",
        "\n",
        "        self.possibles = [0]*8 #TODO: DEPENDS ON N OF CLUSTER (DECISIONS.UNIQUE() ISNT ENOUGH BECAUSE IT CAN LACK SOME INSTANCES)\n",
        "        for i in np.unique(np.array(decisions_to_consider)):\n",
        "          self.possibles[i] = decisions_to_consider.count(i) \n",
        "        #print(\"possibles\",self.possibles)\n",
        "\n",
        "        usos = 0\n",
        "        usos_maxims = math.floor(max_percent_decisions*len(decisions_to_consider))\n",
        "        #print(usos_maxims)\n",
        "\n",
        "        # loop for the specified number of time-steps\n",
        "        for t in range(1,len(decisions_to_consider)):\n",
        "\n",
        "            # get information about all sockets at the start of the time step\n",
        "            self.socket_stats[t] = self.get_socket_stats(t)            \n",
        "            \n",
        "            # select a socket\n",
        "            socket_index = self.select_socket(t)\n",
        "            #if(decisions_to_consider[t]==socket_index):\n",
        "            if(self.get_number_of_trials()[t][socket_index]<self.possibles[socket_index]):\n",
        "              # charge from the chosen socket and update its mean reward value\n",
        "              self.charge_and_update(socket_index)\n",
        "              usos+=1\n",
        "              \n",
        "              if usos > usos_maxims:\n",
        "                  #print(usos,usos_maxims)\n",
        "                  break\n",
        "        # save the actual number of steps that have been run\n",
        "        self.total_steps = t    \n",
        "    \n",
        "        # get the stats for each socket at the end of the run        \n",
        "        self.socket_stats[t+1] = self.get_socket_stats(t+1)           \n",
        "        \n",
        "        if(prints_bool):\n",
        "          #print(\"possibles\",self.possibles)\n",
        "          #print(\"Reward distribution:\",[s.q for s in self.sockets])\n",
        "          #print(\"Intances of each cluster:\",self.possibles)\n",
        "          print(\"Presence of each in batch (%):\",[100*i/len(decisions_to_consider) for i in self.possibles])\n",
        "          print(\"Times selected:\",self.get_number_of_trials()[t])\n",
        "          print(\"Relative approval rate (%):\",[round(100*self.get_number_of_trials()[t][i]/self.possibles[i],2) if self.possibles[i]>0.0 else 0.0 for i in range(len(self.possibles))])\n",
        "          print(\"Percentage over total selected (%):\",[round(100*p,2) for p in self.get_socket_percentages()])\n",
        "          #print(\"For a total reward:\",self.total_reward)\n",
        "          #print(self.return_increments(decisions_to_consider))\n",
        "\n",
        "        return self.total_steps, self.total_reward, self.return_increments(decisions_to_consider)\n",
        "  "
      ],
      "metadata": {
        "id": "3LvzuKndeOlS"
      },
      "execution_count": 82,
      "outputs": []
    },
    {
      "cell_type": "code",
      "source": [
        "sol_test = SocketTesterBatch(PowerSocket, list(rewards_bias), 5)\n",
        "decisions = random.choices(range(8),weights=list(instances_bias),k=1000)\n",
        "ts,tr,ti = sol_test.run(decisions, 0.8, True)"
      ],
      "metadata": {
        "colab": {
          "base_uri": "https://localhost:8080/"
        },
        "id": "1z9nQnr5ra7v",
        "outputId": "19d37248-ebc8-48c6-ebc9-24b3ab3370e4"
      },
      "execution_count": 83,
      "outputs": [
        {
          "output_type": "stream",
          "name": "stdout",
          "text": [
            "Presence of each in batch (%): [54.8, 25.0, 1.6, 1.2, 9.7, 7.6, 0.0, 0.1]\n",
            "Relative approval rate (%): [100.0, 88.0, 100.0, 100.0, 2.06, 1.32, 0.0, 100.0]\n",
            "Percentage over total selected (%): [68.5, 27.5, 2.0, 1.5, 0.25, 0.12, 0.0, 0.12]\n"
          ]
        }
      ]
    },
    {
      "cell_type": "code",
      "source": [
        "sol_test = SocketTesterBatchSOLUTION(PowerSocket, list(rewards_bias), 5, 0)\n",
        "decisions = random.choices(range(8),weights=list(instances_bias),k=1000)\n",
        "ts,tr,ti = sol_test.run(decisions, 0.8, True)"
      ],
      "metadata": {
        "colab": {
          "base_uri": "https://localhost:8080/"
        },
        "id": "A128ar06rM8p",
        "outputId": "dbde4329-c02b-4349-f924-6c204d0742f9"
      },
      "execution_count": 84,
      "outputs": [
        {
          "output_type": "stream",
          "name": "stdout",
          "text": [
            "Presence of each in batch (%): [55.1, 22.2, 2.5, 1.3, 10.3, 8.5, 0.0, 0.1]\n",
            "Times selected: [551. 207.  25.  13.   2.   1.   0.   1.]\n",
            "Relative approval rate (%): [100.0, 93.24, 100.0, 100.0, 1.94, 1.18, 0.0, 100.0]\n",
            "Percentage over total selected (%): [68.79, 25.84, 3.12, 1.62, 0.25, 0.12, 0.0, 0.12]\n"
          ]
        }
      ]
    },
    {
      "cell_type": "code",
      "source": [
        "sol_test = SocketTesterBatchSOLUTION(PowerSocket, list(rewards_bias), 5, 0.01)\n",
        "decisions = random.choices(range(8),weights=list(instances_bias),k=1000)\n",
        "ts,tr,ti = sol_test.run(decisions, 0.8, True)"
      ],
      "metadata": {
        "colab": {
          "base_uri": "https://localhost:8080/"
        },
        "id": "qLFP4Yjhe6tB",
        "outputId": "2ceed2da-e8b6-4bad-8c3d-4cafbdfca4e4"
      },
      "execution_count": 85,
      "outputs": [
        {
          "output_type": "stream",
          "name": "stdout",
          "text": [
            "Presence of each in batch (%): [56.2, 23.9, 2.4, 0.5, 8.8, 7.9, 0.0, 0.3]\n",
            "Times selected: [548. 217.  24.   5.   3.   1.   0.   2.]\n",
            "Relative approval rate (%): [97.51, 90.79, 100.0, 100.0, 3.41, 1.27, 0.0, 66.67]\n",
            "Percentage over total selected (%): [68.41, 27.09, 3.0, 0.62, 0.37, 0.12, 0.0, 0.25]\n"
          ]
        }
      ]
    },
    {
      "cell_type": "code",
      "source": [
        "sol_test = SocketTesterBatchSOLUTION(PowerSocket, list(rewards_bias), 5, 0.1)\n",
        "decisions = random.choices(range(8),weights=list(instances_bias),k=1000)\n",
        "ts,tr,ti = sol_test.run(decisions, 0.8, True)"
      ],
      "metadata": {
        "colab": {
          "base_uri": "https://localhost:8080/"
        },
        "id": "O1twdS7WwA5H",
        "outputId": "ad2f8b7f-0730-4b62-afd1-12bbecf6b00e"
      },
      "execution_count": 86,
      "outputs": [
        {
          "output_type": "stream",
          "name": "stdout",
          "text": [
            "Presence of each in batch (%): [57.8, 22.3, 2.9, 0.8, 8.0, 7.9, 0.1, 0.2]\n",
            "Times selected: [378. 223.  29.   8.  80.  79.   1.   2.]\n",
            "Relative approval rate (%): [65.4, 100.0, 100.0, 100.0, 100.0, 100.0, 100.0, 100.0]\n",
            "Percentage over total selected (%): [47.19, 27.84, 3.62, 1.0, 9.99, 9.86, 0.12, 0.25]\n"
          ]
        }
      ]
    },
    {
      "cell_type": "code",
      "source": [
        "#sol_test = SocketTesterBatchSOLUTION(PowerSocket, list(rewards_bias), 5, 50)\n",
        "#decisions = random.choices(range(8),weights=list(instances_bias),k=1000)\n",
        "#ts,tr,ti = sol_test.run(decisions, 0.8, True)"
      ],
      "metadata": {
        "id": "bV4yyv2zvL-U"
      },
      "execution_count": 87,
      "outputs": []
    },
    {
      "cell_type": "code",
      "source": [
        "def nonstatic_sol(iter, rewards_d_o, r_coef, instances_d_o, i_coef, sub_opt):\n",
        "  rewards_d = np.array(rewards_d_o)\n",
        "  instances_d = np.array(instances_d_o)\n",
        "\n",
        "  #iter = 1000\n",
        "  for i in range(iter):\n",
        "    pbool=False\n",
        "    if(i%math.ceil(iter/4)==0 or i==iter-1):\n",
        "        print(i)\n",
        "        #print(list(instances_distribution))\n",
        "        pbool=True\n",
        "\n",
        "    updated_test = SocketTesterBatchSOLUTION(PowerSocket, list(rewards_d), 5, sub_opt)\n",
        "    decisions = random.choices(range(8),weights=list(instances_d),k=1000)\n",
        "    ts,tr,ti = updated_test.run(decisions, 0.8, pbool)\n",
        "\n",
        "    increments = ti\n",
        "    #increments = np.subtract(np.array(updated_test.get_socket_percentages()),0.5)\n",
        "    #print(increments)\n",
        "\n",
        "    rewards_d = np.add(rewards_d,increments*r_coef*100)\n",
        "    rewards_d = np.clip(rewards_d,0,100)\n",
        "    #print(rewards_d)\n",
        "\n",
        "    instances_d = np.add(instances_d,increments*i_coef)\n",
        "    instances_d = np.clip(instances_d,0,None)\n",
        "    instances_d = instances_d / instances_d.sum()"
      ],
      "metadata": {
        "id": "vE47_Xl7NixY"
      },
      "execution_count": 88,
      "outputs": []
    },
    {
      "cell_type": "code",
      "source": [
        "nonstatic_sol(500, rewards_bias, 0.01, instances_bias, 0.01, 0)"
      ],
      "metadata": {
        "colab": {
          "base_uri": "https://localhost:8080/"
        },
        "id": "scRNA37hRL-r",
        "outputId": "cff844a5-4255-47eb-a47f-1f5c4011b505"
      },
      "execution_count": 93,
      "outputs": [
        {
          "output_type": "stream",
          "name": "stdout",
          "text": [
            "0\n",
            "Presence of each in batch (%): [55.0, 24.5, 2.2, 0.9, 9.8, 7.3, 0.2, 0.1]\n",
            "Times selected: [550. 213.  22.   9.   2.   1.   2.   1.]\n",
            "Relative approval rate (%): [100.0, 86.94, 100.0, 100.0, 2.04, 1.37, 100.0, 100.0]\n",
            "Percentage over total selected (%): [68.66, 26.59, 2.75, 1.12, 0.25, 0.12, 0.25, 0.12]\n",
            "125\n",
            "Presence of each in batch (%): [74.0, 15.0, 2.9, 2.5, 2.5, 3.0, 0.0, 0.1]\n",
            "Times selected: [740.   3.  29.  25.   1.   1.   0.   1.]\n",
            "Relative approval rate (%): [100.0, 2.0, 100.0, 100.0, 4.0, 3.33, 0.0, 100.0]\n",
            "Percentage over total selected (%): [92.38, 0.37, 3.62, 3.12, 0.12, 0.12, 0.0, 0.12]\n",
            "250\n",
            "Presence of each in batch (%): [91.8, 4.6, 0.9, 0.3, 1.1, 1.2, 0.0, 0.1]\n",
            "Times selected: [794.   1.   1.   1.   1.   1.   0.   1.]\n",
            "Relative approval rate (%): [86.49, 2.17, 11.11, 33.33, 9.09, 8.33, 0.0, 100.0]\n",
            "Percentage over total selected (%): [99.13, 0.12, 0.12, 0.12, 0.12, 0.12, 0.0, 0.12]\n",
            "375\n",
            "Presence of each in batch (%): [97.3, 1.6, 0.4, 0.2, 0.4, 0.1, 0.0, 0.0]\n",
            "Times selected: [795.   1.   1.   1.   1.   1.   0.   0.]\n",
            "Relative approval rate (%): [81.71, 6.25, 25.0, 50.0, 25.0, 100.0, 0.0, 0.0]\n",
            "Percentage over total selected (%): [99.25, 0.12, 0.12, 0.12, 0.12, 0.12, 0.0, 0.0]\n",
            "499\n",
            "Presence of each in batch (%): [98.1, 0.6, 0.3, 0.4, 0.1, 0.1, 0.2, 0.2]\n",
            "Times selected: [793.   1.   1.   1.   1.   1.   1.   1.]\n",
            "Relative approval rate (%): [80.84, 16.67, 33.33, 25.0, 100.0, 100.0, 50.0, 50.0]\n",
            "Percentage over total selected (%): [99.0, 0.12, 0.12, 0.12, 0.12, 0.12, 0.12, 0.12]\n"
          ]
        }
      ]
    },
    {
      "cell_type": "code",
      "source": [
        "nonstatic_sol(500, rewards_bias, 0.01, instances_bias, 0.01, 0.1)"
      ],
      "metadata": {
        "colab": {
          "base_uri": "https://localhost:8080/"
        },
        "id": "OqxfJ3T_QfW7",
        "outputId": "acfe20ad-b74c-468d-8e38-6ff754eb53c2"
      },
      "execution_count": 94,
      "outputs": [
        {
          "output_type": "stream",
          "name": "stdout",
          "text": [
            "0\n",
            "Presence of each in batch (%): [54.7, 25.0, 2.0, 1.1, 9.1, 7.9, 0.2, 0.0]\n",
            "Times selected: [347. 250.  20.  11.  91.  79.   2.   0.]\n",
            "Relative approval rate (%): [63.44, 100.0, 100.0, 100.0, 100.0, 100.0, 100.0, 0.0]\n",
            "Percentage over total selected (%): [43.32, 31.21, 2.5, 1.37, 11.36, 9.86, 0.25, 0.0]\n",
            "125\n",
            "Presence of each in batch (%): [40.9, 31.7, 2.6, 1.8, 12.0, 10.9, 0.1, 0.0]\n",
            "Times selected: [209. 317.  26.  18. 120. 109.   1.   0.]\n",
            "Relative approval rate (%): [51.1, 100.0, 100.0, 100.0, 100.0, 100.0, 100.0, 0.0]\n",
            "Percentage over total selected (%): [26.09, 39.58, 3.25, 2.25, 14.98, 13.61, 0.12, 0.0]\n",
            "250\n",
            "Presence of each in batch (%): [17.8, 43.5, 5.9, 2.2, 13.7, 16.5, 0.2, 0.2]\n",
            "Times selected: [  2. 419.  59.  22. 137. 157.   2.   2.]\n",
            "Relative approval rate (%): [1.12, 96.32, 100.0, 100.0, 100.0, 95.15, 100.0, 100.0]\n",
            "Percentage over total selected (%): [0.25, 52.31, 7.37, 2.75, 17.1, 19.6, 0.25, 0.25]\n",
            "375\n",
            "Presence of each in batch (%): [5.4, 44.6, 4.4, 4.6, 22.7, 17.6, 0.4, 0.3]\n",
            "Times selected: [  1. 366.  44.  46. 212. 124.   4.   3.]\n",
            "Relative approval rate (%): [1.85, 82.06, 100.0, 100.0, 93.39, 70.45, 100.0, 100.0]\n",
            "Percentage over total selected (%): [0.12, 45.69, 5.49, 5.74, 26.47, 15.48, 0.5, 0.37]\n",
            "499\n",
            "Presence of each in batch (%): [2.0, 42.2, 7.8, 3.6, 29.8, 14.2, 0.3, 0.1]\n",
            "Times selected: [  1. 334.  78.  36. 257.  90.   3.   1.]\n",
            "Relative approval rate (%): [5.0, 79.15, 100.0, 100.0, 86.24, 63.38, 100.0, 100.0]\n",
            "Percentage over total selected (%): [0.12, 41.7, 9.74, 4.49, 32.08, 11.24, 0.37, 0.12]\n"
          ]
        }
      ]
    },
    {
      "cell_type": "markdown",
      "source": [
        "curr_percentages = self.socket_stats[:,:,1][t]/t\n",
        "mean_percentages = np.mean(curr_percentages)\n",
        "dif_percentages = np.subtract(mean_percentages,self.socket_stats[:,:,1][t]/t)\n",
        "\n",
        "mean_selections = np.mean(self.get_number_of_trials()[t])\n",
        "dif_selections = np.subtract(mean_selections,self.get_number_of_trials()[t])\n",
        "\n",
        "#DUES CONSTRAINTS, UNA PER PERCENTATGES, L'ALTRE n SELECTIONS\n",
        "//dif = dif_percentages #rang 10-30-50\n",
        "\n",
        "dif = dif_selections   #rang 0-0.01-0.1"
      ],
      "metadata": {
        "id": "zs58UXGgp_JC"
      }
    },
    {
      "cell_type": "code",
      "source": [
        "class SocketTesterBatchSOLUTION_var():\n",
        "    \"\"\" create and test a set of sockets over a single test run \"\"\"\n",
        "\n",
        "    def __init__(self, socket, socket_order, confidence_level, sub_opt, var):  \n",
        "        \n",
        "        self.subopt_coef = sub_opt\n",
        "\n",
        "        # create supplied socket type with a mean value defined by socket order \n",
        "        self.sockets = [socket(q, confidence_level,var) for q in socket_order]     \n",
        "        \n",
        "        # set the number of sockets equal to the number created\n",
        "        self.number_of_sockets = len(self.sockets)\n",
        "\n",
        "        self.number_of_stats = 2                 \n",
        "            \n",
        "    def initialize_run(self, number_of_steps):\n",
        "        \"\"\" reset counters at the start of a run \"\"\"\n",
        "        \n",
        "        # save the number of steps over which the run will take place\n",
        "        self.number_of_steps = number_of_steps\n",
        "        \n",
        "        # reset the actual number of steps that the test ran for\n",
        "        self.total_steps = 0\n",
        "        \n",
        "        # monitor the total reward obtained over the run\n",
        "        self.total_reward = 0\n",
        "        \n",
        "        # the current total reward at each timestep of the run\n",
        "        self.total_reward_per_timestep = []\n",
        "        \n",
        "        # the actual reward obtained at each timestep\n",
        "        self.reward_per_timestep = []\n",
        "           \n",
        "        # stats for each time-step\n",
        "        # - by default records: estimate, number of trials\n",
        "        self.socket_stats = np.zeros(shape=(number_of_steps+1, \n",
        "                                            self.number_of_sockets, \n",
        "                                            self.number_of_stats))\n",
        "        \n",
        "        # ensure that all sockets are re-initialized\n",
        "        for socket in self.sockets: socket.initialize()\n",
        "            \n",
        "                                \n",
        "    def charge_and_update(self,socket_index):\n",
        "        \"\"\" charge from & update the specified socket and associated parameters \"\"\"\n",
        "        \n",
        "        # charge from the chosen socket and update its mean reward value\n",
        "        reward = self.sockets[socket_index].charge()\n",
        "        self.sockets[socket_index].update(reward)\n",
        "\n",
        "        # update the total reward\n",
        "        self.total_reward += reward   \n",
        "        \n",
        "        # store the current total reward at this timestep\n",
        "        self.total_reward_per_timestep.append(self.total_reward)\n",
        "        \n",
        "        # store the reward obtained at this timestep\n",
        "        self.reward_per_timestep.append(reward)        \n",
        "        \n",
        "        \n",
        "    def get_socket_stats( self, t ):\n",
        "        \"\"\" get the current information from each socket \"\"\"        \n",
        "        socket_stats = [[socket.Q, socket.n] for socket in self.sockets]\n",
        "        return socket_stats     \n",
        "    \n",
        "    def get_mean_reward( self ):\n",
        "        \"\"\" the total reward averaged over the number of time steps \"\"\"\n",
        "        return (self.total_reward/self.total_steps)\n",
        "    \n",
        "    def get_total_reward_per_timestep( self ):\n",
        "        \"\"\" the cumulative total reward at each timestep of the run \"\"\"\n",
        "        return self.total_reward_per_timestep\n",
        "    \n",
        "    def get_reward_per_timestep( self ):\n",
        "        \"\"\" the actual reward obtained at each timestep of the run \"\"\"\n",
        "        return self.reward_per_timestep\n",
        "    \n",
        "    def get_estimates(self):\n",
        "        \"\"\" get the estimate of each socket's reward at each timestep of the run \"\"\"\n",
        "        return self.socket_stats[:,:,0]  \n",
        "    \n",
        "    def get_number_of_trials(self):\n",
        "        \"\"\" get the number of trials of each socket at each timestep of the run \"\"\"\n",
        "        return self.socket_stats[:,:,1]          \n",
        "                \n",
        "    def get_socket_percentages( self ):\n",
        "        \"\"\" get the percentage of times each socket was tried over the run \"\"\"\n",
        "        return (self.socket_stats[:,:,1][self.total_steps]/self.total_steps)        \n",
        "    \n",
        "    def get_time_steps( self ):\n",
        "        \"\"\" get the number of time steps that the test ran for \"\"\"\n",
        "        return self.total_steps\n",
        "    \n",
        "    def select_socket( self, t ):\n",
        "        \"\"\" Greedy Socket Selection\"\"\"\n",
        "        #CONSTRAINT A\n",
        "        curr_percentages = self.socket_stats[:,:,1][t]/t\n",
        "        mean_percentages = np.mean(curr_percentages)\n",
        "        dif_percentages = np.subtract(mean_percentages,self.socket_stats[:,:,1][t]/t)\n",
        "\n",
        "        #CONSTRAINT B\n",
        "        mean_selections = np.mean(self.get_number_of_trials()[t])\n",
        "        dif_selections = np.subtract(mean_selections,self.get_number_of_trials()[t])\n",
        "\n",
        "        #DUES CONSTRAINTS, UNA PER PERCENTATGES, L'ALTRE n SELECTIONS\n",
        "        #dif = dif_percentages #rang 10-30-50\n",
        "        dif = dif_selections   #rang 0-0.01-0.1\n",
        "\n",
        "        #print(dif)\n",
        "\n",
        "        # choose the socket with the current highest mean reward or arbitrarily\n",
        "        # select a socket in the case of a tie            \n",
        "        mask = [self.get_number_of_trials()[t][i]<self.possibles[i] for i in range(len(self.sockets))]\n",
        "        #print(mask)\n",
        "        available_sockets = [self.sockets[s] for s in range(len(self.sockets)) if (mask[s])]\n",
        "        available = [i for i in range(len(self.sockets)) if (mask[i])]\n",
        "\n",
        "        socket_max = random_argmax([self.sockets[socket].sample(t+1)+self.subopt_coef*dif[socket] for socket in available]) \n",
        "        #socket_max = random_argmax([self.sockets[socket].sample(t+1) for socket in available]) \n",
        "\n",
        "        #print(socket_max)\n",
        "        socket_index = self.sockets.index(available_sockets[socket_max])\n",
        "        return socket_index     \n",
        "    \n",
        "    def return_increments(self, decisions_to_consider):\n",
        "        presence = np.array([i/len(decisions_to_consider) for i in self.possibles])\n",
        "        selected_presence = np.array(self.get_socket_percentages())\n",
        "        diff = np.subtract(selected_presence, presence)\n",
        "        #print(diff)\n",
        "        #print(diff.sum())\n",
        "        return diff\n",
        "\n",
        "    def return_increments_distr(self, decisions_to_consider):\n",
        "        presence = np.array([i/len(decisions_to_consider) for i in self.possibles])\n",
        "        selected_presence = np.array(self.get_socket_percentages())\n",
        "        diff = np.subtract(selected_presence, presence)\n",
        "        #print(diff)\n",
        "        #print(diff.sum())\n",
        "        return diff\n",
        "    \n",
        "    def run( self, decisions_to_consider, max_percent_decisions=1, prints_bool = True):  \n",
        "        \"\"\" perform a single run, over the set of sockets, \n",
        "            for the defined number of steps \"\"\"\n",
        "        \n",
        "        # reset the run counters\n",
        "        self.initialize_run(len(decisions_to_consider))\n",
        "\n",
        "        self.possibles = [0]*8 #TODO: DEPENDS ON N OF CLUSTER (DECISIONS.UNIQUE() ISNT ENOUGH BECAUSE IT CAN LACK SOME INSTANCES)\n",
        "        for i in np.unique(np.array(decisions_to_consider)):\n",
        "          self.possibles[i] = decisions_to_consider.count(i) \n",
        "        #print(\"possibles\",self.possibles)\n",
        "\n",
        "        usos = 0\n",
        "        usos_maxims = math.floor(max_percent_decisions*len(decisions_to_consider))\n",
        "        #print(usos_maxims)\n",
        "\n",
        "        # loop for the specified number of time-steps\n",
        "        for t in range(1,len(decisions_to_consider)):\n",
        "\n",
        "            # get information about all sockets at the start of the time step\n",
        "            self.socket_stats[t] = self.get_socket_stats(t)            \n",
        "            \n",
        "            # select a socket\n",
        "            socket_index = self.select_socket(t)\n",
        "            #if(decisions_to_consider[t]==socket_index):\n",
        "            if(self.get_number_of_trials()[t][socket_index]<self.possibles[socket_index]):\n",
        "              # charge from the chosen socket and update its mean reward value\n",
        "              self.charge_and_update(socket_index)\n",
        "              usos+=1\n",
        "              \n",
        "              if usos > usos_maxims:\n",
        "                  #print(usos,usos_maxims)\n",
        "                  break\n",
        "        # save the actual number of steps that have been run\n",
        "        self.total_steps = t    \n",
        "    \n",
        "        # get the stats for each socket at the end of the run        \n",
        "        self.socket_stats[t+1] = self.get_socket_stats(t+1)           \n",
        "        \n",
        "        if(prints_bool):\n",
        "          #print(\"possibles\",self.possibles)\n",
        "          #print(\"Reward distribution:\",[s.q for s in self.sockets])\n",
        "          #print(\"Intances of each cluster:\",self.possibles)\n",
        "          print(\"Presence of each in batch (%):\",[100*i/len(decisions_to_consider) for i in self.possibles])\n",
        "          print(\"Times selected:\",self.get_number_of_trials()[t])\n",
        "          print(\"Relative approval rate (%):\",[round(100*self.get_number_of_trials()[t][i]/self.possibles[i],2) if self.possibles[i]>0.0 else 0.0 for i in range(len(self.possibles))])\n",
        "          print(\"Percentage over total selected (%):\",[round(100*p,2) for p in self.get_socket_percentages()])\n",
        "          #print(\"For a total reward:\",self.total_reward)\n",
        "          #print(self.return_increments(decisions_to_consider))\n",
        "          print(\"Estimates:\",list(self.get_estimates()[t]))\n",
        "\n",
        "        return self.total_steps, self.total_reward, self.return_increments(decisions_to_consider)\n",
        "  "
      ],
      "metadata": {
        "id": "dxjIHk4BNwM3"
      },
      "execution_count": 90,
      "outputs": []
    },
    {
      "cell_type": "code",
      "source": [
        "sol_test = SocketTesterBatchSOLUTION_var(PowerSocket, list(rewards_bias), 5, 0, 20) #high variance+sampling bias super injust (la variance de classes menys popualtes afecta mes q altres)\n",
        "decisions = random.choices(range(8),weights=list(instances_nonbias),k=1000)\n",
        "ts,tr,ti = sol_test.run(decisions, 0.8, True)"
      ],
      "metadata": {
        "colab": {
          "base_uri": "https://localhost:8080/"
        },
        "id": "drz83Q8FN_rp",
        "outputId": "bcdcc114-a902-469d-989f-69c77eb93b2b"
      },
      "execution_count": 91,
      "outputs": [
        {
          "output_type": "stream",
          "name": "stdout",
          "text": [
            "Presence of each in batch (%): [11.9, 11.7, 11.0, 13.0, 13.1, 13.2, 14.7, 11.4]\n",
            "Times selected: [119. 117.  21. 130. 131. 132. 147.   3.]\n",
            "Relative approval rate (%): [100.0, 100.0, 19.09, 100.0, 100.0, 100.0, 100.0, 2.63]\n",
            "Percentage over total selected (%): [14.86, 14.61, 2.62, 16.23, 16.35, 16.48, 18.35, 0.37]\n",
            "Estimates: [86.36144301201962, 79.92682380817261, 82.73362025976014, 78.8852272319612, 70.00921666401466, 66.92076523584282, 73.50360417578398, 49.811576206755745]\n"
          ]
        }
      ]
    }
  ]
}