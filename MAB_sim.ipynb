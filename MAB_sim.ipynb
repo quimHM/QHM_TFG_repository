{
  "nbformat": 4,
  "nbformat_minor": 0,
  "metadata": {
    "colab": {
      "name": "MAB_sim.ipynb",
      "provenance": [],
      "collapsed_sections": [],
      "authorship_tag": "ABX9TyNQxrYm+cUYYTbSuIIP595R",
      "include_colab_link": true
    },
    "kernelspec": {
      "name": "python3",
      "display_name": "Python 3"
    },
    "language_info": {
      "name": "python"
    }
  },
  "cells": [
    {
      "cell_type": "markdown",
      "metadata": {
        "id": "view-in-github",
        "colab_type": "text"
      },
      "source": [
        "<a href=\"https://colab.research.google.com/github/quimHM/QHM_TFG_repository/blob/main/MAB_sim.ipynb\" target=\"_parent\"><img src=\"https://colab.research.google.com/assets/colab-badge.svg\" alt=\"Open In Colab\"/></a>"
      ]
    },
    {
      "cell_type": "code",
      "source": [
        "#https://towardsdatascience.com/multi-armed-bandits-and-reinforcement-learning-dc9001dcb8da\n",
        "#https://towardsdatascience.com/the-upper-confidence-bound-ucb-bandit-algorithm-c05c2bf4c13f\n",
        "\n",
        "#https://github.com/WhatIThinkAbout/BabyRobot/tree/master/Multi_Armed_Bandits"
      ],
      "metadata": {
        "id": "lch3cBlMon8x"
      },
      "execution_count": 1,
      "outputs": []
    },
    {
      "cell_type": "code",
      "source": [
        ""
      ],
      "metadata": {
        "id": "7XlcGP0_on6J"
      },
      "execution_count": 1,
      "outputs": []
    },
    {
      "cell_type": "code",
      "source": [
        "# import modules \n",
        "import numpy as np \n",
        "import matplotlib.pyplot as plt \n",
        "import pandas as pd \n",
        "import math\n",
        "import random\n",
        "%matplotlib inline"
      ],
      "metadata": {
        "id": "0Oh75adZ2qAY"
      },
      "execution_count": 2,
      "outputs": []
    },
    {
      "cell_type": "code",
      "source": [
        "class PowerSocket:\n",
        "    \"\"\" the base power socket class \"\"\"\n",
        "    \n",
        "    def __init__(self, q, cl, var=0.1):                \n",
        "        self.q = q        # the true reward value \n",
        "        self.confidence_level = cl          \n",
        "        self.var = var   \n",
        "        self.initialize() # reset the socket\n",
        "        \n",
        "    def initialize(self):\n",
        "        self.Q = 0   # the estimate of this socket's reward value                \n",
        "        self.n = 0   # the number of times this socket has been tried        \n",
        "    \n",
        "    def charge(self):\n",
        "        \"\"\" return a random amount of charge \"\"\"\n",
        "        \n",
        "        # the reward is a guassian distribution with unit variance around the true\n",
        "        # value 'q'\n",
        "        value = self.var * np.random.randn() + self.q        \n",
        "        \n",
        "        # never allow a charge less than 0 to be returned        \n",
        "        return 0 if value < 0 else value\n",
        "               \n",
        "    def update(self,R):\n",
        "        \"\"\" update this socket after it has returned reward value 'R' \"\"\"     \n",
        "    \n",
        "        # increment the number of times this socket has been tried\n",
        "        self.n += 1\n",
        "\n",
        "        # the new estimate of the mean is calculated from the old estimate\n",
        "        self.Q = (1 - 1.0/self.n) * self.Q + (1.0/self.n) * R\n",
        "\n",
        "    def uncertainty(self, t): \n",
        "        \"\"\" calculate the uncertainty in the estimate of this socket's mean \"\"\"\n",
        "        if self.n == 0: return float('inf')                         \n",
        "        return self.confidence_level * (np.sqrt(np.log(t) / self.n))         \n",
        "        \n",
        "    def sample(self,t):\n",
        "        \"\"\" the UCB reward is the estimate of the mean reward plus its uncertainty \"\"\"\n",
        "        #print(self.uncertainty(t))\n",
        "        return self.Q + self.uncertainty(t) "
      ],
      "metadata": {
        "id": "p8tfQUa07n9G"
      },
      "execution_count": 88,
      "outputs": []
    },
    {
      "cell_type": "code",
      "source": [
        "class PowerSocketProb:\n",
        "    \"\"\" the base power socket class \"\"\"\n",
        "    \n",
        "    def __init__(self, q, cl):                \n",
        "        self.q = q        # the true reward value \n",
        "        self.confidence_level = cl  \n",
        "        self.initialize() # reset the socket\n",
        "        \n",
        "    def initialize(self):\n",
        "        self.Q = 0   # the estimate of this socket's reward value                \n",
        "        self.n = 0   # the number of times this socket has been tried        \n",
        "    \n",
        "    def charge(self):\n",
        "        \"\"\" return a random amount of charge \"\"\"\n",
        "        \n",
        "        # the reward is a guassian distribution with unit variance around the true\n",
        "        # value 'q'\n",
        "        value = 100 * np.random.binomial(1,self.q)     \n",
        "        \n",
        "        # never allow a charge less than 0 to be returned        \n",
        "        return 0 if value < 0 else value\n",
        "               \n",
        "    def update(self,R):\n",
        "        \"\"\" update this socket after it has returned reward value 'R' \"\"\"     \n",
        "    \n",
        "        # increment the number of times this socket has been tried\n",
        "        self.n += 1\n",
        "\n",
        "        # the new estimate of the mean is calculated from the old estimate\n",
        "        self.Q = (1 - 1.0/self.n) * self.Q + (1.0/self.n) * R\n",
        "\n",
        "    def uncertainty(self, t): \n",
        "        \"\"\" calculate the uncertainty in the estimate of this socket's mean \"\"\"\n",
        "        if self.n == 0: return float('inf')                         \n",
        "        return self.confidence_level * (np.sqrt(np.log(t) / self.n))         \n",
        "        \n",
        "    def sample(self,t):\n",
        "        \"\"\" the UCB reward is the estimate of the mean reward plus its uncertainty \"\"\"\n",
        "        #print(self.uncertainty(t))\n",
        "        return self.Q + self.uncertainty(t) "
      ],
      "metadata": {
        "id": "ikVFqkh2KKSf"
      },
      "execution_count": 135,
      "outputs": []
    },
    {
      "cell_type": "code",
      "source": [
        "# return the index of the largest value in the supplied list\n",
        "# - arbitrarily select between the largest values in the case of a tie\n",
        "# (the standard np.argmax just chooses the first value in the case of a tie)\n",
        "def random_argmax(value_list):\n",
        "  \"\"\" a random tie-breaking argmax\"\"\"\n",
        "  values = np.asarray(value_list)\n",
        "  return np.argmax(np.random.random(values.shape) * (values==values.max()))\n",
        "\n",
        "# return the index of the smallest value in the supplied list\n",
        "# - arbitrarily select between the smallest values in the case of a tie\n",
        "# (the standard np.argmin just chooses the first value in the case of a tie)\n",
        "def random_argmin(value_list):\n",
        "  \"\"\" a random tie-breaking argmin\"\"\"\n",
        "  values = np.asarray(value_list)\n",
        "  return np.argmin(np.random.random(values.shape) * (values==values.min()))\n"
      ],
      "metadata": {
        "id": "AnVMnmyuEth1"
      },
      "execution_count": 4,
      "outputs": []
    },
    {
      "cell_type": "code",
      "source": [
        "class SocketTester():\n",
        "    \"\"\" create and test a set of sockets over a single test run \"\"\"\n",
        "\n",
        "    def __init__(self, socket, socket_order, socket_vars, confidence_level):  \n",
        "        \n",
        "        # create supplied socket type with a mean value defined by socket order \n",
        "        # self.sockets = [socket(q, confidence_level) for q in socket_order]     \n",
        "        self.sockets = [socket(socket_order[s], confidence_level, socket_vars[s]) for s in range(len(socket_order))]\n",
        "\n",
        "        # set the number of sockets equal to the number created\n",
        "        self.number_of_sockets = len(self.sockets)\n",
        "\n",
        "        self.number_of_stats = 2                 \n",
        "            \n",
        "    def initialize_run(self, number_of_steps):\n",
        "        \"\"\" reset counters at the start of a run \"\"\"\n",
        "        \n",
        "        # save the number of steps over which the run will take place\n",
        "        self.number_of_steps = number_of_steps\n",
        "        \n",
        "        # reset the actual number of steps that the test ran for\n",
        "        self.total_steps = 0\n",
        "        \n",
        "        # monitor the total reward obtained over the run\n",
        "        self.total_reward = 0\n",
        "        \n",
        "        # the current total reward at each timestep of the run\n",
        "        self.total_reward_per_timestep = []\n",
        "        \n",
        "        # the actual reward obtained at each timestep\n",
        "        self.reward_per_timestep = []\n",
        "           \n",
        "        # stats for each time-step\n",
        "        # - by default records: estimate, number of trials\n",
        "        self.socket_stats = np.zeros(shape=(number_of_steps+1, \n",
        "                                            self.number_of_sockets, \n",
        "                                            self.number_of_stats))\n",
        "        \n",
        "        # ensure that all sockets are re-initialized\n",
        "        for socket in self.sockets: socket.initialize()\n",
        "            \n",
        "                                \n",
        "    def charge_and_update(self,socket_index):\n",
        "        \"\"\" charge from & update the specified socket and associated parameters \"\"\"\n",
        "        \n",
        "        # charge from the chosen socket and update its mean reward value\n",
        "        reward = self.sockets[socket_index].charge()\n",
        "        self.sockets[socket_index].update(reward)\n",
        "\n",
        "        # update the total reward\n",
        "        self.total_reward += reward   \n",
        "        \n",
        "        # store the current total reward at this timestep\n",
        "        self.total_reward_per_timestep.append(self.total_reward)\n",
        "        \n",
        "        # store the reward obtained at this timestep\n",
        "        self.reward_per_timestep.append(reward)        \n",
        "        \n",
        "        \n",
        "    def get_socket_stats( self, t ):\n",
        "        \"\"\" get the current information from each socket \"\"\"        \n",
        "        socket_stats = [[socket.Q, socket.n] for socket in self.sockets]\n",
        "        return socket_stats     \n",
        "    \n",
        "    def get_mean_reward( self ):\n",
        "        \"\"\" the total reward averaged over the number of time steps \"\"\"\n",
        "        return (self.total_reward/self.total_steps)\n",
        "    \n",
        "    def get_total_reward_per_timestep( self ):\n",
        "        \"\"\" the cumulative total reward at each timestep of the run \"\"\"\n",
        "        return self.total_reward_per_timestep\n",
        "    \n",
        "    def get_reward_per_timestep( self ):\n",
        "        \"\"\" the actual reward obtained at each timestep of the run \"\"\"\n",
        "        return self.reward_per_timestep\n",
        "    \n",
        "    def get_estimates(self):\n",
        "        \"\"\" get the estimate of each socket's reward at each timestep of the run \"\"\"\n",
        "        return self.socket_stats[:,:,0]  \n",
        "    \n",
        "    def get_number_of_trials(self):\n",
        "        \"\"\" get the number of trials of each socket at each timestep of the run \"\"\"\n",
        "        return self.socket_stats[:,:,1]          \n",
        "                \n",
        "    def get_socket_percentages( self ):\n",
        "        \"\"\" get the percentage of times each socket was tried over the run \"\"\"\n",
        "        return (self.socket_stats[:,:,1][self.total_steps]/self.total_steps)        \n",
        "    \n",
        "    def get_time_steps( self ):\n",
        "        \"\"\" get the number of time steps that the test ran for \"\"\"\n",
        "        return self.total_steps\n",
        "    \n",
        "    def select_socket( self, t ):\n",
        "        \"\"\" Greedy Socket Selection\"\"\"\n",
        "        \n",
        "        # choose the socket with the current highest mean reward or arbitrarily\n",
        "        # select a socket in the case of a tie            \n",
        "        socket_index = random_argmax([socket.sample(t+1) for socket in self.sockets]) \n",
        "        return socket_index     \n",
        "    \n",
        "    \n",
        "    def run( self, number_of_steps, maximum_total_reward = float('inf')):  \n",
        "        \"\"\" perform a single run, over the set of sockets, \n",
        "            for the defined number of steps \"\"\"\n",
        "        \n",
        "        # reset the run counters\n",
        "        self.initialize_run(number_of_steps)\n",
        "        \n",
        "        # loop for the specified number of time-steps\n",
        "        for t in range(number_of_steps):\n",
        "\n",
        "            # get information about all sockets at the start of the time step\n",
        "            self.socket_stats[t] = self.get_socket_stats(t)            \n",
        "            \n",
        "            # select a socket\n",
        "            socket_index = self.select_socket(t)\n",
        "            \n",
        "            # charge from the chosen socket and update its mean reward value\n",
        "            self.charge_and_update(socket_index)\n",
        "            \n",
        "            # test if the accumulated total reward is greater than the maximum\n",
        "            if self.total_reward > maximum_total_reward:\n",
        "                break\n",
        "       \n",
        "        # save the actual number of steps that have been run\n",
        "        self.total_steps = t    \n",
        "    \n",
        "        # get the stats for each socket at the end of the run        \n",
        "        self.socket_stats[t+1] = self.get_socket_stats(t+1)           \n",
        "        \n",
        "        return self.total_steps, self.total_reward\n",
        "  "
      ],
      "metadata": {
        "id": "zCz0kAoMAizG"
      },
      "execution_count": 5,
      "outputs": []
    },
    {
      "cell_type": "code",
      "source": [
        "def mus_and_devs_random():\n",
        "  devs = []\n",
        "  mus = []\n",
        "  for i in range(8):\n",
        "    d = round(random.uniform(5.0,15.0),2)\n",
        "    m = round(random.uniform(70.0,100.0),2)\n",
        "    devs.append(d)\n",
        "    mus.append(m)\n",
        "  return mus,devs"
      ],
      "metadata": {
        "id": "qbUQFmEgOBaj"
      },
      "execution_count": 6,
      "outputs": []
    },
    {
      "cell_type": "code",
      "source": [
        "def mus_and_devs():\n",
        "  devs = [10.0]*8\n",
        "  mus = []\n",
        "  for i in range(8):\n",
        "    m = 100.0-i*5.0\n",
        "    mus.append(m)\n",
        "  return mus,devs"
      ],
      "metadata": {
        "id": "OaInX7jwOD_L"
      },
      "execution_count": 7,
      "outputs": []
    },
    {
      "cell_type": "code",
      "source": [
        "#mus,devs = mus_and_devs_random()\n",
        "mus,devs = mus_and_devs()\n",
        "\n",
        "#devs = [9.3, 5.67, 11.93, 9.18, 13.66, 8.94, 6.83, 7.91]\n",
        "#mus = [92.1, 98.48, 88.49, 80.36, 89.97, 73.78, 97.18, 91.52]\n",
        "\n",
        "print(devs)\n",
        "print(mus)\n",
        "test = SocketTester(PowerSocket, mus, devs, 5)\n",
        "test.run(1000)\n",
        "test.get_number_of_trials()[-1]"
      ],
      "metadata": {
        "colab": {
          "base_uri": "https://localhost:8080/"
        },
        "id": "pnakDg5QCwfq",
        "outputId": "e01f7560-779e-4cf5-ec6f-3d2b4fc58519"
      },
      "execution_count": 8,
      "outputs": [
        {
          "output_type": "stream",
          "name": "stdout",
          "text": [
            "[10.0, 10.0, 10.0, 10.0, 10.0, 10.0, 10.0, 10.0]\n",
            "[100.0, 95.0, 90.0, 85.0, 80.0, 75.0, 70.0, 65.0]\n"
          ]
        },
        {
          "output_type": "execute_result",
          "data": {
            "text/plain": [
              "array([990.,   4.,   1.,   1.,   1.,   1.,   1.,   1.])"
            ]
          },
          "metadata": {},
          "execution_count": 8
        }
      ]
    },
    {
      "cell_type": "code",
      "source": [
        "class SocketTesterBatch():\n",
        "    \"\"\" create and test a set of sockets over a single test run \"\"\"\n",
        "\n",
        "    def __init__(self, socket, socket_order, socket_vars, confidence_level):  \n",
        "        \n",
        "        # create supplied socket type with a mean value defined by socket order \n",
        "        self.sockets = [socket(socket_order[s], confidence_level, socket_vars[s]) for s in range(len(socket_order))]\n",
        "        \n",
        "        # set the number of sockets equal to the number created\n",
        "        self.number_of_sockets = len(self.sockets)\n",
        "\n",
        "        self.number_of_stats = 2                 \n",
        "            \n",
        "    def initialize_run(self, number_of_steps):\n",
        "        \"\"\" reset counters at the start of a run \"\"\"\n",
        "        \n",
        "        # save the number of steps over which the run will take place\n",
        "        self.number_of_steps = number_of_steps\n",
        "        \n",
        "        # reset the actual number of steps that the test ran for\n",
        "        self.total_steps = 0\n",
        "        \n",
        "        # monitor the total reward obtained over the run\n",
        "        self.total_reward = 0\n",
        "        \n",
        "        # the current total reward at each timestep of the run\n",
        "        self.total_reward_per_timestep = []\n",
        "        \n",
        "        # the actual reward obtained at each timestep\n",
        "        self.reward_per_timestep = []\n",
        "           \n",
        "        # stats for each time-step\n",
        "        # - by default records: estimate, number of trials\n",
        "        self.socket_stats = np.zeros(shape=(number_of_steps+1, \n",
        "                                            self.number_of_sockets, \n",
        "                                            self.number_of_stats))\n",
        "        \n",
        "        # ensure that all sockets are re-initialized\n",
        "        for socket in self.sockets: socket.initialize()\n",
        "            \n",
        "                                \n",
        "    def charge_and_update(self,socket_index):\n",
        "        \"\"\" charge from & update the specified socket and associated parameters \"\"\"\n",
        "        \n",
        "        # charge from the chosen socket and update its mean reward value\n",
        "        reward = self.sockets[socket_index].charge()\n",
        "        self.sockets[socket_index].update(reward)\n",
        "\n",
        "        # update the total reward\n",
        "        self.total_reward += reward   \n",
        "        \n",
        "        # store the current total reward at this timestep\n",
        "        self.total_reward_per_timestep.append(self.total_reward)\n",
        "        \n",
        "        # store the reward obtained at this timestep\n",
        "        self.reward_per_timestep.append(reward)        \n",
        "        \n",
        "        \n",
        "    def get_socket_stats( self, t ):\n",
        "        \"\"\" get the current information from each socket \"\"\"        \n",
        "        socket_stats = [[socket.Q, socket.n] for socket in self.sockets]\n",
        "        return socket_stats     \n",
        "    \n",
        "    def get_mean_reward( self ):\n",
        "        \"\"\" the total reward averaged over the number of time steps \"\"\"\n",
        "        return (self.total_reward/self.total_steps)\n",
        "    \n",
        "    def get_total_reward_per_timestep( self ):\n",
        "        \"\"\" the cumulative total reward at each timestep of the run \"\"\"\n",
        "        return self.total_reward_per_timestep\n",
        "    \n",
        "    def get_reward_per_timestep( self ):\n",
        "        \"\"\" the actual reward obtained at each timestep of the run \"\"\"\n",
        "        return self.reward_per_timestep\n",
        "    \n",
        "    def get_estimates(self):\n",
        "        \"\"\" get the estimate of each socket's reward at each timestep of the run \"\"\"\n",
        "        return self.socket_stats[:,:,0]  \n",
        "    \n",
        "    def get_number_of_trials(self):\n",
        "        \"\"\" get the number of trials of each socket at each timestep of the run \"\"\"\n",
        "        return self.socket_stats[:,:,1]          \n",
        "                \n",
        "    def get_socket_percentages( self ):\n",
        "        \"\"\" get the percentage of times each socket was tried over the run \"\"\"\n",
        "        return (self.socket_stats[:,:,1][self.total_steps]/self.total_steps)        \n",
        "    \n",
        "    def get_time_steps( self ):\n",
        "        \"\"\" get the number of time steps that the test ran for \"\"\"\n",
        "        return self.total_steps\n",
        "    \n",
        "    def select_socket( self, t ):\n",
        "        \"\"\" Greedy Socket Selection\"\"\"\n",
        "        \n",
        "        # choose the socket with the current highest mean reward or arbitrarily\n",
        "        # select a socket in the case of a tie            \n",
        "        mask = [self.get_number_of_trials()[t][i]<self.possibles[i] for i in range(len(self.sockets))]\n",
        "        #print(mask)\n",
        "        available = [self.sockets[i] for i in range(len(self.sockets)) if (mask[i])]\n",
        "        socket_max = random_argmax([socket.sample(t+1) for socket in available]) \n",
        "        #print(socket_max)\n",
        "        socket_index = self.sockets.index(available[socket_max])\n",
        "        return socket_index     \n",
        "    \n",
        "    def return_increments(self, decisions_to_consider):\n",
        "        presence = np.array([i/len(decisions_to_consider) for i in self.possibles])\n",
        "        selected_presence = np.array(self.get_socket_percentages())\n",
        "        diff = np.subtract(selected_presence, presence)\n",
        "        diff = np.divide(diff,presence, out=np.zeros_like(selected_presence), where=presence!=0)\n",
        "        #print(diff)\n",
        "        #print(diff.sum())\n",
        "        return diff\n",
        "    \n",
        "    def run( self, decisions_to_consider, max_percent_decisions=1, prints_bool = True):  \n",
        "        \"\"\" perform a single run, over the set of sockets, \n",
        "            for the defined number of steps \"\"\"\n",
        "        \n",
        "        # reset the run counters\n",
        "        self.initialize_run(len(decisions_to_consider))\n",
        "\n",
        "        self.possibles = [0]*8 #TODO: DEPENDS ON N OF CLUSTER (DECISIONS.UNIQUE() ISNT ENOUGH BECAUSE IT CAN LACK SOME INSTANCES)\n",
        "        for i in np.unique(np.array(decisions_to_consider)):\n",
        "          self.possibles[i] = decisions_to_consider.count(i) \n",
        "\n",
        "        usos = 0\n",
        "        usos_maxims = math.floor(max_percent_decisions*len(decisions_to_consider))\n",
        "        #print(usos_maxims)\n",
        "\n",
        "        # loop for the specified number of time-steps\n",
        "        for t in range(len(decisions_to_consider)):\n",
        "\n",
        "            # get information about all sockets at the start of the time step\n",
        "            self.socket_stats[t] = self.get_socket_stats(t)            \n",
        "            \n",
        "            # select a socket\n",
        "            socket_index = self.select_socket(t)\n",
        "            #if(decisions_to_consider[t]==socket_index):\n",
        "            if(self.get_number_of_trials()[t][socket_index]<self.possibles[socket_index]):\n",
        "              # charge from the chosen socket and update its mean reward value\n",
        "              self.charge_and_update(socket_index)\n",
        "              usos+=1\n",
        "              \n",
        "              if usos > usos_maxims:\n",
        "                  #print(usos,usos_maxims)\n",
        "                  break\n",
        "        # save the actual number of steps that have been run\n",
        "        self.total_steps = t    \n",
        "    \n",
        "        # get the stats for each socket at the end of the run        \n",
        "        self.socket_stats[t+1] = self.get_socket_stats(t+1)           \n",
        "        \n",
        "        if(prints_bool):\n",
        "          print(\"Reward distribution:\",[s.q for s in self.sockets])\n",
        "          #print(\"Intances of each cluster:\",self.possibles)\n",
        "          print(\"Presence of each in batch (%):\",[100*i/len(decisions_to_consider) for i in self.possibles])\n",
        "          #print(\"Times selected:\",self.get_number_of_trials()[t])\n",
        "          print(\"Relative approval rate (%):\",[round(100*self.get_number_of_trials()[t][i]/self.possibles[i],2) if self.possibles[i]>0.0 else 0.0 for i in range(len(self.possibles))])\n",
        "          print(\"Percentage over total selected (%):\",[round(100*p,2) for p in self.get_socket_percentages()])\n",
        "          #print(\"For a total reward:\",self.total_reward)\n",
        "\n",
        "\n",
        "        return self.total_steps, self.total_reward, self.return_increments(decisions_to_consider)\n",
        "  "
      ],
      "metadata": {
        "id": "6NcpcFYlGLjb"
      },
      "execution_count": 9,
      "outputs": []
    },
    {
      "cell_type": "code",
      "source": [
        "devs = [9.3, 5.67, 11.93, 9.18, 13.66, 8.94, 6.83, 7.91]\n",
        "mus = [92.1, 98.48, 88.49, 80.36, 89.97, 73.78, 97.18, 91.52]\n",
        "#mus,devs = mus_and_devs()\n",
        "test2 = SocketTesterBatch(PowerSocket, mus, devs, 10)\n",
        "\n",
        "decisions = random.choices(range(8), k=1000)\n",
        "decisions = []\n",
        "for i in range(8):\n",
        "  for j in range(125):\n",
        "    decisions.append(i)\n",
        "#decisions = [[125]]*8\n",
        "ts,tr,_ = test2.run(decisions)"
      ],
      "metadata": {
        "colab": {
          "base_uri": "https://localhost:8080/"
        },
        "id": "DbwS4aiVIOdu",
        "outputId": "e43b78bf-ef1b-450f-d296-002880519c6f"
      },
      "execution_count": 10,
      "outputs": [
        {
          "output_type": "stream",
          "name": "stdout",
          "text": [
            "Reward distribution: [92.1, 98.48, 88.49, 80.36, 89.97, 73.78, 97.18, 91.52]\n",
            "Presence of each in batch (%): [12.5, 12.5, 12.5, 12.5, 12.5, 12.5, 12.5, 12.5]\n",
            "Relative approval rate (%): [100.0, 100.0, 100.0, 100.0, 100.0, 99.2, 100.0, 100.0]\n",
            "Percentage over total selected (%): [12.51, 12.51, 12.51, 12.51, 12.51, 12.41, 12.51, 12.51]\n"
          ]
        }
      ]
    },
    {
      "cell_type": "code",
      "source": [
        "ts,tr,_ = test2.run(decisions, 0.5)"
      ],
      "metadata": {
        "colab": {
          "base_uri": "https://localhost:8080/"
        },
        "id": "1d47Wgx9cXYL",
        "outputId": "e08effc6-45fd-45e5-abbf-8e1739b1f1b5"
      },
      "execution_count": 11,
      "outputs": [
        {
          "output_type": "stream",
          "name": "stdout",
          "text": [
            "Reward distribution: [92.1, 98.48, 88.49, 80.36, 89.97, 73.78, 97.18, 91.52]\n",
            "Presence of each in batch (%): [12.5, 12.5, 12.5, 12.5, 12.5, 12.5, 12.5, 12.5]\n",
            "Relative approval rate (%): [100.0, 100.0, 15.2, 0.8, 27.2, 2.4, 100.0, 54.4]\n",
            "Percentage over total selected (%): [25.0, 25.0, 3.8, 0.2, 6.8, 0.6, 25.0, 13.6]\n"
          ]
        }
      ]
    },
    {
      "cell_type": "code",
      "source": [
        "#sample_bias = [0.555, 0.24, 0.023, 0.011, 0.087, 0.081, 0.001, 0.001]\n",
        "#devs = [9.3, 5.67, 11.93, 9.18, 13.66, 8.94, 6.83, 7.91]\n",
        "#mus = [92.1, 98.48, 88.49, 80.36, 89.97, 73.78, 97.18, 91.52]\n",
        "weights_m = []\n",
        "for m in mus:\n",
        "  weights_m.append((m*m*m*m*m*m*m*m*m)/1000*(m*m*m*m*m*m*m*m*m)/1000)\n",
        "sample_bias_decisions = random.choices(range(8),weights=weights_m,k=1000)\n",
        "print(sample_bias_decisions)\n",
        "ts,tr,_ = test2.run(sample_bias_decisions, 0.8)"
      ],
      "metadata": {
        "colab": {
          "base_uri": "https://localhost:8080/"
        },
        "id": "1nret0OpcuM9",
        "outputId": "682e615b-c174-484c-8fea-b9dbb580ac89"
      },
      "execution_count": 12,
      "outputs": [
        {
          "output_type": "stream",
          "name": "stdout",
          "text": [
            "[1, 7, 1, 4, 7, 1, 6, 0, 0, 0, 6, 6, 0, 1, 6, 6, 6, 1, 1, 4, 7, 7, 6, 1, 0, 7, 7, 0, 0, 6, 1, 6, 6, 1, 7, 6, 7, 6, 1, 4, 6, 6, 6, 7, 6, 0, 6, 6, 1, 7, 6, 7, 1, 6, 1, 6, 6, 1, 2, 1, 7, 1, 2, 1, 6, 0, 1, 6, 1, 1, 1, 1, 4, 6, 6, 7, 6, 1, 1, 6, 6, 1, 6, 1, 7, 1, 6, 1, 4, 3, 7, 2, 1, 1, 6, 1, 6, 1, 2, 6, 6, 6, 1, 2, 1, 1, 1, 1, 1, 6, 6, 1, 6, 1, 0, 1, 7, 4, 1, 1, 1, 4, 1, 4, 7, 6, 0, 1, 6, 1, 1, 4, 0, 1, 6, 7, 6, 1, 2, 6, 1, 6, 6, 1, 6, 0, 4, 7, 6, 7, 6, 6, 1, 1, 0, 0, 1, 1, 1, 6, 1, 0, 1, 6, 1, 1, 2, 1, 6, 1, 1, 1, 1, 7, 0, 6, 6, 0, 4, 6, 2, 1, 1, 0, 6, 2, 1, 1, 0, 1, 6, 1, 6, 6, 1, 6, 1, 1, 7, 7, 6, 4, 3, 6, 4, 4, 1, 1, 1, 0, 6, 4, 6, 6, 3, 7, 1, 6, 7, 6, 1, 6, 1, 1, 1, 1, 0, 6, 6, 7, 6, 1, 0, 1, 6, 1, 6, 1, 1, 0, 6, 6, 6, 1, 7, 1, 6, 4, 6, 6, 6, 0, 0, 0, 6, 1, 0, 1, 4, 4, 6, 1, 1, 2, 0, 1, 6, 0, 1, 6, 6, 1, 2, 2, 0, 6, 1, 6, 6, 1, 1, 0, 1, 4, 4, 7, 4, 0, 4, 6, 6, 1, 2, 1, 1, 6, 1, 1, 6, 1, 6, 0, 6, 1, 1, 7, 1, 4, 6, 1, 1, 6, 2, 1, 6, 1, 4, 2, 7, 7, 6, 7, 6, 0, 1, 1, 7, 0, 6, 1, 1, 0, 7, 6, 6, 1, 0, 7, 1, 7, 0, 4, 1, 6, 6, 1, 0, 2, 1, 7, 1, 6, 1, 1, 6, 6, 6, 4, 6, 0, 6, 6, 1, 6, 1, 6, 1, 6, 0, 0, 0, 1, 6, 4, 6, 1, 1, 1, 6, 7, 6, 0, 6, 2, 1, 6, 1, 6, 6, 7, 2, 1, 0, 0, 6, 6, 0, 2, 0, 1, 2, 6, 1, 2, 1, 2, 1, 1, 7, 6, 7, 6, 0, 1, 6, 1, 6, 0, 7, 0, 1, 1, 1, 2, 6, 0, 2, 1, 6, 6, 1, 6, 1, 1, 1, 6, 6, 0, 6, 7, 6, 0, 1, 1, 0, 6, 4, 0, 6, 0, 1, 2, 0, 6, 6, 1, 7, 1, 7, 0, 6, 1, 6, 7, 1, 2, 4, 1, 6, 6, 1, 1, 4, 1, 4, 3, 1, 0, 7, 6, 4, 0, 1, 7, 1, 0, 2, 1, 1, 4, 6, 1, 6, 1, 1, 6, 4, 2, 1, 6, 1, 0, 1, 1, 0, 1, 2, 4, 0, 1, 7, 0, 6, 0, 1, 6, 1, 1, 1, 6, 4, 6, 6, 6, 7, 1, 1, 1, 1, 1, 6, 6, 6, 1, 3, 6, 1, 4, 6, 1, 2, 4, 6, 6, 1, 1, 6, 1, 1, 7, 6, 6, 0, 7, 6, 6, 1, 1, 6, 6, 6, 1, 7, 6, 1, 6, 6, 6, 1, 4, 2, 7, 6, 6, 7, 1, 6, 0, 6, 1, 1, 1, 5, 4, 2, 6, 1, 7, 0, 6, 0, 6, 1, 6, 0, 6, 1, 6, 6, 7, 1, 6, 0, 4, 1, 4, 1, 6, 4, 0, 7, 0, 7, 7, 6, 0, 6, 7, 6, 6, 7, 6, 7, 1, 6, 2, 0, 6, 6, 1, 1, 2, 1, 0, 1, 7, 6, 1, 1, 2, 2, 4, 2, 6, 1, 1, 1, 1, 1, 1, 7, 4, 1, 7, 6, 1, 6, 4, 6, 0, 1, 2, 6, 1, 6, 1, 1, 0, 6, 7, 0, 7, 2, 2, 1, 4, 1, 6, 6, 1, 4, 1, 7, 1, 0, 6, 4, 1, 6, 6, 6, 1, 1, 7, 1, 1, 6, 4, 6, 1, 6, 1, 6, 0, 0, 1, 1, 6, 1, 1, 1, 1, 6, 1, 1, 6, 4, 7, 1, 6, 4, 6, 0, 6, 1, 1, 0, 1, 1, 1, 7, 4, 0, 1, 1, 3, 6, 1, 1, 7, 1, 7, 4, 1, 2, 2, 4, 1, 1, 1, 1, 6, 0, 1, 6, 1, 1, 1, 6, 1, 0, 1, 1, 0, 6, 4, 4, 1, 4, 2, 1, 4, 4, 0, 7, 1, 6, 6, 6, 7, 0, 6, 6, 0, 1, 1, 1, 6, 7, 4, 6, 6, 2, 3, 1, 1, 1, 4, 2, 7, 7, 4, 1, 6, 6, 6, 1, 1, 1, 6, 1, 1, 0, 1, 6, 6, 3, 1, 6, 4, 1, 6, 4, 6, 1, 1, 1, 1, 3, 1, 1, 4, 4, 1, 4, 5, 1, 1, 7, 1, 0, 2, 0, 6, 6, 2, 1, 6, 1, 6, 1, 1, 6, 6, 2, 2, 1, 1, 1, 6, 1, 1, 1, 1, 2, 0, 7, 7, 6, 6, 6, 2, 0, 1, 0, 0, 1, 1, 1, 6, 6, 7, 1, 1, 0, 6, 1, 1, 4, 1, 4, 6, 1, 1, 1, 7, 4, 6, 7, 4, 0, 1, 1, 1, 7, 1, 2, 0, 1, 0, 6, 6, 2, 1, 6, 1, 0, 6, 4, 6, 1, 1, 1, 6, 0, 1, 2, 1, 1, 1, 1, 6, 6, 1, 0, 6, 1, 0, 1, 4, 7, 6, 6, 1, 1, 1, 4, 1, 1, 1, 1, 1, 1, 2, 6, 1, 0, 0, 1, 6, 6, 6, 4, 1, 6, 6, 0, 6, 6, 1, 4, 6, 6, 4, 6, 1, 0, 7, 2, 1, 0, 1, 1, 0, 1, 6, 6, 0, 1, 1, 6, 1, 6, 0, 7, 7, 6, 1, 0, 6]\n",
            "Reward distribution: [92.1, 98.48, 88.49, 80.36, 89.97, 73.78, 97.18, 91.52]\n",
            "Presence of each in batch (%): [11.8, 36.1, 5.6, 0.9, 7.8, 0.2, 28.6, 9.0]\n",
            "Relative approval rate (%): [37.29, 100.0, 48.21, 33.33, 11.54, 100.0, 100.0, 75.56]\n",
            "Percentage over total selected (%): [5.5, 45.12, 3.38, 0.38, 1.12, 0.25, 35.75, 8.5]\n"
          ]
        }
      ]
    },
    {
      "cell_type": "code",
      "source": [
        "a=np.array([9.7, 36.7, 5.6, 0.9, 7.2, 0.1, 29.3, 10.5])\n",
        "#b=np.array([12.12, 45.88, 2.0, 1.12, 0.25, 0.12, 36.62, 1.88])\n",
        "b=np.array([12.12, 45.88, 0.75, 0.25, 1.38, 0.12, 36.62, 2.88])\n",
        "\n",
        "\n",
        "diff = np.subtract(b,a)\n",
        "print(diff)\n",
        "diff = np.divide(diff,a)\n",
        "print(diff)"
      ],
      "metadata": {
        "colab": {
          "base_uri": "https://localhost:8080/"
        },
        "id": "nodQ1TkjnOUB",
        "outputId": "03b210b0-784e-4e49-9ee6-2cfd0bfa7da1"
      },
      "execution_count": 13,
      "outputs": [
        {
          "output_type": "stream",
          "name": "stdout",
          "text": [
            "[ 2.42  9.18 -4.85 -0.65 -5.82  0.02  7.32 -7.62]\n",
            "[ 0.24948454  0.25013624 -0.86607143 -0.72222222 -0.80833333  0.2\n",
            "  0.24982935 -0.72571429]\n"
          ]
        }
      ]
    },
    {
      "cell_type": "markdown",
      "source": [
        "###**NON-STATIC**"
      ],
      "metadata": {
        "id": "KFPxU49FzLqe"
      }
    },
    {
      "cell_type": "code",
      "source": [
        "#def f(probs, val, ind):\n",
        "#    probs[ind] += val\n",
        "#    mask = np.ones(len(probs), bool)\n",
        "#    mask[ind] = False\n",
        "#    probs[mask] -= val / (len(probs) - 1)\n",
        "#    return np.clip(probs, 0, np.infty) / np.sum(np.clip(probs, 0, np.infty))"
      ],
      "metadata": {
        "id": "K56OQeDy-HqE"
      },
      "execution_count": 14,
      "outputs": []
    },
    {
      "cell_type": "code",
      "source": [
        "def cummulative_sample(tester,iter,orig,coef):\n",
        "  instances_distribution = np.array(orig)\n",
        "  for i in range(iter):\n",
        "    pbool=False\n",
        "    if(i%math.ceil(iter/4)==0 or i==iter-1):\n",
        "      print(i)\n",
        "      #print(list(instances_distribution))\n",
        "      pbool=True\n",
        "\n",
        "    decisions = random.choices(range(8),weights=list(instances_distribution),k=5000)\n",
        "    ts,tr,ti = tester.run(decisions, 0.8, pbool)\n",
        "    \n",
        "    #for i in range(len(ti)):\n",
        "    #  instances_distribution = f(instances_distribution,ti[i],i)\n",
        "    instances_distribution = np.add(instances_distribution,ti*coef*100)\n",
        "    instances_distribution = np.clip(instances_distribution,0,None)\n",
        "    instances_distribution = instances_distribution / instances_distribution.sum()"
      ],
      "metadata": {
        "id": "GANuWD7KzSzh"
      },
      "execution_count": 15,
      "outputs": []
    },
    {
      "cell_type": "code",
      "source": [
        "o_sample_bias = [0.555, 0.24, 0.023, 0.011, 0.087, 0.081, 0.001, 0.001]\n",
        "#o_sample_bias = weights_m\n",
        "cummulative_sample(test2,35,o_sample_bias,0.001)"
      ],
      "metadata": {
        "colab": {
          "base_uri": "https://localhost:8080/"
        },
        "id": "Gx3cD1zIC4KH",
        "outputId": "f57d92e5-3bff-448c-ed45-644eed95dea1"
      },
      "execution_count": 16,
      "outputs": [
        {
          "output_type": "stream",
          "name": "stdout",
          "text": [
            "0\n",
            "Reward distribution: [92.1, 98.48, 88.49, 80.36, 89.97, 73.78, 97.18, 91.52]\n",
            "Presence of each in batch (%): [55.64, 24.36, 2.38, 1.3, 8.28, 7.88, 0.12, 0.04]\n",
            "Relative approval rate (%): [94.97, 100.0, 3.36, 6.15, 29.23, 0.76, 100.0, 100.0]\n",
            "Percentage over total selected (%): [66.05, 30.45, 0.1, 0.1, 3.02, 0.08, 0.15, 0.05]\n",
            "9\n",
            "Reward distribution: [92.1, 98.48, 88.49, 80.36, 89.97, 73.78, 97.18, 91.52]\n",
            "Presence of each in batch (%): [30.34, 41.54, 0.0, 0.0, 0.0, 0.0, 20.28, 7.84]\n",
            "Relative approval rate (%): [46.08, 100.0, 0.0, 0.0, 0.0, 0.0, 100.0, 53.57]\n",
            "Percentage over total selected (%): [17.47, 51.92, 0.0, 0.0, 0.0, 0.0, 25.35, 5.25]\n",
            "18\n",
            "Reward distribution: [92.1, 98.48, 88.49, 80.36, 89.97, 73.78, 97.18, 91.52]\n",
            "Presence of each in batch (%): [0.0, 87.76, 0.0, 0.0, 0.0, 0.0, 12.24, 0.0]\n",
            "Relative approval rate (%): [0.0, 81.7, 0.0, 0.0, 0.0, 0.0, 67.81, 0.0]\n",
            "Percentage over total selected (%): [0.0, 89.62, 0.0, 0.0, 0.0, 0.0, 10.38, 0.0]\n",
            "27\n",
            "Reward distribution: [92.1, 98.48, 88.49, 80.36, 89.97, 73.78, 97.18, 91.52]\n",
            "Presence of each in batch (%): [0.0, 90.4, 0.0, 0.0, 0.0, 0.0, 9.6, 0.0]\n",
            "Relative approval rate (%): [0.0, 84.05, 0.0, 0.0, 0.0, 0.0, 41.88, 0.0]\n",
            "Percentage over total selected (%): [0.0, 94.98, 0.0, 0.0, 0.0, 0.0, 5.03, 0.0]\n",
            "34\n",
            "Reward distribution: [92.1, 98.48, 88.49, 80.36, 89.97, 73.78, 97.18, 91.52]\n",
            "Presence of each in batch (%): [0.0, 100.0, 0.0, 0.0, 0.0, 0.0, 0.0, 0.0]\n",
            "Relative approval rate (%): [0.0, 80.0, 0.0, 0.0, 0.0, 0.0, 0.0, 0.0]\n",
            "Percentage over total selected (%): [0.0, 100.0, 0.0, 0.0, 0.0, 0.0, 0.0, 0.0]\n"
          ]
        }
      ]
    },
    {
      "cell_type": "code",
      "source": [
        "no_sample_bias = [1/8]*8\n",
        "cummulative_sample(test2,35,no_sample_bias,0.05)"
      ],
      "metadata": {
        "id": "cJ4_y3P4EDgD",
        "colab": {
          "base_uri": "https://localhost:8080/"
        },
        "outputId": "63af7a0a-3f58-4c38-dd8c-adfab9afd1d9"
      },
      "execution_count": 17,
      "outputs": [
        {
          "output_type": "stream",
          "name": "stdout",
          "text": [
            "0\n",
            "Reward distribution: [92.1, 98.48, 88.49, 80.36, 89.97, 73.78, 97.18, 91.52]\n",
            "Presence of each in batch (%): [11.7, 12.32, 12.84, 12.42, 12.56, 13.02, 12.66, 12.48]\n",
            "Relative approval rate (%): [100.0, 100.0, 100.0, 42.03, 100.0, 1.69, 100.0, 100.0]\n",
            "Percentage over total selected (%): [14.62, 15.4, 16.05, 6.52, 15.7, 0.27, 15.82, 15.6]\n",
            "9\n",
            "Reward distribution: [92.1, 98.48, 88.49, 80.36, 89.97, 73.78, 97.18, 91.52]\n",
            "Presence of each in batch (%): [0.0, 100.0, 0.0, 0.0, 0.0, 0.0, 0.0, 0.0]\n",
            "Relative approval rate (%): [0.0, 80.0, 0.0, 0.0, 0.0, 0.0, 0.0, 0.0]\n",
            "Percentage over total selected (%): [0.0, 100.0, 0.0, 0.0, 0.0, 0.0, 0.0, 0.0]\n",
            "18\n",
            "Reward distribution: [92.1, 98.48, 88.49, 80.36, 89.97, 73.78, 97.18, 91.52]\n",
            "Presence of each in batch (%): [0.0, 100.0, 0.0, 0.0, 0.0, 0.0, 0.0, 0.0]\n",
            "Relative approval rate (%): [0.0, 80.0, 0.0, 0.0, 0.0, 0.0, 0.0, 0.0]\n",
            "Percentage over total selected (%): [0.0, 100.0, 0.0, 0.0, 0.0, 0.0, 0.0, 0.0]\n",
            "27\n",
            "Reward distribution: [92.1, 98.48, 88.49, 80.36, 89.97, 73.78, 97.18, 91.52]\n",
            "Presence of each in batch (%): [0.0, 100.0, 0.0, 0.0, 0.0, 0.0, 0.0, 0.0]\n",
            "Relative approval rate (%): [0.0, 80.0, 0.0, 0.0, 0.0, 0.0, 0.0, 0.0]\n",
            "Percentage over total selected (%): [0.0, 100.0, 0.0, 0.0, 0.0, 0.0, 0.0, 0.0]\n",
            "34\n",
            "Reward distribution: [92.1, 98.48, 88.49, 80.36, 89.97, 73.78, 97.18, 91.52]\n",
            "Presence of each in batch (%): [0.0, 100.0, 0.0, 0.0, 0.0, 0.0, 0.0, 0.0]\n",
            "Relative approval rate (%): [0.0, 80.0, 0.0, 0.0, 0.0, 0.0, 0.0, 0.0]\n",
            "Percentage over total selected (%): [0.0, 100.0, 0.0, 0.0, 0.0, 0.0, 0.0, 0.0]\n"
          ]
        }
      ]
    },
    {
      "cell_type": "code",
      "source": [
        "no_sample_bias = [1/8]*8\n",
        "cummulative_sample(test2,150,no_sample_bias,0.05)"
      ],
      "metadata": {
        "id": "9LV85u5IC5fR",
        "colab": {
          "base_uri": "https://localhost:8080/"
        },
        "outputId": "78f1b995-5991-4298-99ba-047d807fdbcf"
      },
      "execution_count": 18,
      "outputs": [
        {
          "output_type": "stream",
          "name": "stdout",
          "text": [
            "0\n",
            "Reward distribution: [92.1, 98.48, 88.49, 80.36, 89.97, 73.78, 97.18, 91.52]\n",
            "Presence of each in batch (%): [12.0, 12.96, 12.04, 12.78, 12.7, 12.54, 12.46, 12.52]\n",
            "Relative approval rate (%): [100.0, 100.0, 100.0, 37.56, 100.0, 4.15, 100.0, 100.0]\n",
            "Percentage over total selected (%): [15.0, 16.2, 15.05, 6.0, 15.88, 0.65, 15.58, 15.65]\n",
            "38\n",
            "Reward distribution: [92.1, 98.48, 88.49, 80.36, 89.97, 73.78, 97.18, 91.52]\n",
            "Presence of each in batch (%): [0.0, 100.0, 0.0, 0.0, 0.0, 0.0, 0.0, 0.0]\n",
            "Relative approval rate (%): [0.0, 80.0, 0.0, 0.0, 0.0, 0.0, 0.0, 0.0]\n",
            "Percentage over total selected (%): [0.0, 100.0, 0.0, 0.0, 0.0, 0.0, 0.0, 0.0]\n",
            "76\n",
            "Reward distribution: [92.1, 98.48, 88.49, 80.36, 89.97, 73.78, 97.18, 91.52]\n",
            "Presence of each in batch (%): [0.0, 100.0, 0.0, 0.0, 0.0, 0.0, 0.0, 0.0]\n",
            "Relative approval rate (%): [0.0, 80.0, 0.0, 0.0, 0.0, 0.0, 0.0, 0.0]\n",
            "Percentage over total selected (%): [0.0, 100.0, 0.0, 0.0, 0.0, 0.0, 0.0, 0.0]\n",
            "114\n",
            "Reward distribution: [92.1, 98.48, 88.49, 80.36, 89.97, 73.78, 97.18, 91.52]\n",
            "Presence of each in batch (%): [0.0, 100.0, 0.0, 0.0, 0.0, 0.0, 0.0, 0.0]\n",
            "Relative approval rate (%): [0.0, 80.0, 0.0, 0.0, 0.0, 0.0, 0.0, 0.0]\n",
            "Percentage over total selected (%): [0.0, 100.0, 0.0, 0.0, 0.0, 0.0, 0.0, 0.0]\n",
            "149\n",
            "Reward distribution: [92.1, 98.48, 88.49, 80.36, 89.97, 73.78, 97.18, 91.52]\n",
            "Presence of each in batch (%): [0.0, 100.0, 0.0, 0.0, 0.0, 0.0, 0.0, 0.0]\n",
            "Relative approval rate (%): [0.0, 80.0, 0.0, 0.0, 0.0, 0.0, 0.0, 0.0]\n",
            "Percentage over total selected (%): [0.0, 100.0, 0.0, 0.0, 0.0, 0.0, 0.0, 0.0]\n"
          ]
        }
      ]
    },
    {
      "cell_type": "code",
      "source": [
        "def nonstatic(iter, rewards_d_o_mu, rewards_d_o_dev, r_coef, instances_d_o, i_coef):\n",
        "  rewards_d = np.array(rewards_d_o_mu)\n",
        "  instances_d = np.array(instances_d_o)\n",
        "\n",
        "  #iter = 1000\n",
        "  for i in range(iter):\n",
        "    pbool=False\n",
        "    if(i%math.ceil(iter/4)==0 or i==iter-1):\n",
        "        print(i)\n",
        "        #print(list(instances_distribution))\n",
        "        pbool=True\n",
        "\n",
        "    updated_test = SocketTesterBatch(PowerSocket, list(rewards_d), rewards_d_o_dev, 10)\n",
        "    decisions = random.choices(range(8),weights=list(instances_d),k=5000)\n",
        "    ts,tr,ti = updated_test.run(decisions, 0.8, pbool)\n",
        "\n",
        "    increments = ti\n",
        "    #increments = np.subtract(np.array(updated_test.get_socket_percentages()),0.5)\n",
        "    #print(increments)\n",
        "\n",
        "    rewards_d = np.add(rewards_d,increments*r_coef*100)\n",
        "    rewards_d = np.clip(rewards_d,0,100)\n",
        "    #print(rewards_d)\n",
        "\n",
        "    instances_d = np.add(instances_d,increments*i_coef)\n",
        "    instances_d = np.clip(instances_d,0,None)\n",
        "    instances_d = instances_d / instances_d.sum()"
      ],
      "metadata": {
        "id": "92tyyqv-ENiD"
      },
      "execution_count": 19,
      "outputs": []
    },
    {
      "cell_type": "code",
      "source": [
        "nonstatic(500, rewards_bias, devs_nonbias, 0.001, instances_bias, 0.001)"
      ],
      "metadata": {
        "colab": {
          "base_uri": "https://localhost:8080/",
          "height": 416
        },
        "id": "FejlbpgnQl7X",
        "outputId": "cd3d3dbd-af08-4a1b-a26b-963e107c70f8"
      },
      "execution_count": 23,
      "outputs": [
        {
          "output_type": "stream",
          "name": "stdout",
          "text": [
            "0\n",
            "Reward distribution: [85.55, 81.93, 82.84, 79.94, 71.03, 66.35, 74.71, 67.31]\n",
            "Presence of each in batch (%): [57.08, 23.74, 2.12, 1.16, 8.16, 7.62, 0.04, 0.08]\n",
            "Relative approval rate (%): [100.0, 81.55, 100.0, 100.0, 0.49, 1.84, 100.0, 75.0]\n",
            "Percentage over total selected (%): [71.35, 24.2, 2.65, 1.45, 0.05, 0.18, 0.05, 0.08]\n"
          ]
        },
        {
          "output_type": "error",
          "ename": "KeyboardInterrupt",
          "evalue": "ignored",
          "traceback": [
            "\u001b[0;31m---------------------------------------------------------------------------\u001b[0m",
            "\u001b[0;31mKeyboardInterrupt\u001b[0m                         Traceback (most recent call last)",
            "\u001b[0;32m<ipython-input-23-92dfe21f5a00>\u001b[0m in \u001b[0;36m<module>\u001b[0;34m()\u001b[0m\n\u001b[0;32m----> 1\u001b[0;31m \u001b[0mnonstatic\u001b[0m\u001b[0;34m(\u001b[0m\u001b[0;36m500\u001b[0m\u001b[0;34m,\u001b[0m \u001b[0mrewards_bias\u001b[0m\u001b[0;34m,\u001b[0m \u001b[0mdevs_nonbias\u001b[0m\u001b[0;34m,\u001b[0m \u001b[0;36m0.001\u001b[0m\u001b[0;34m,\u001b[0m \u001b[0minstances_bias\u001b[0m\u001b[0;34m,\u001b[0m \u001b[0;36m0.001\u001b[0m\u001b[0;34m)\u001b[0m\u001b[0;34m\u001b[0m\u001b[0;34m\u001b[0m\u001b[0m\n\u001b[0m",
            "\u001b[0;32m<ipython-input-19-b56c989d19cd>\u001b[0m in \u001b[0;36mnonstatic\u001b[0;34m(iter, rewards_d_o_mu, rewards_d_o_dev, r_coef, instances_d_o, i_coef)\u001b[0m\n\u001b[1;32m     13\u001b[0m     \u001b[0mupdated_test\u001b[0m \u001b[0;34m=\u001b[0m \u001b[0mSocketTesterBatch\u001b[0m\u001b[0;34m(\u001b[0m\u001b[0mPowerSocket\u001b[0m\u001b[0;34m,\u001b[0m \u001b[0mlist\u001b[0m\u001b[0;34m(\u001b[0m\u001b[0mrewards_d\u001b[0m\u001b[0;34m)\u001b[0m\u001b[0;34m,\u001b[0m \u001b[0mrewards_d_o_dev\u001b[0m\u001b[0;34m,\u001b[0m \u001b[0;36m10\u001b[0m\u001b[0;34m)\u001b[0m\u001b[0;34m\u001b[0m\u001b[0;34m\u001b[0m\u001b[0m\n\u001b[1;32m     14\u001b[0m     \u001b[0mdecisions\u001b[0m \u001b[0;34m=\u001b[0m \u001b[0mrandom\u001b[0m\u001b[0;34m.\u001b[0m\u001b[0mchoices\u001b[0m\u001b[0;34m(\u001b[0m\u001b[0mrange\u001b[0m\u001b[0;34m(\u001b[0m\u001b[0;36m8\u001b[0m\u001b[0;34m)\u001b[0m\u001b[0;34m,\u001b[0m\u001b[0mweights\u001b[0m\u001b[0;34m=\u001b[0m\u001b[0mlist\u001b[0m\u001b[0;34m(\u001b[0m\u001b[0minstances_d\u001b[0m\u001b[0;34m)\u001b[0m\u001b[0;34m,\u001b[0m\u001b[0mk\u001b[0m\u001b[0;34m=\u001b[0m\u001b[0;36m5000\u001b[0m\u001b[0;34m)\u001b[0m\u001b[0;34m\u001b[0m\u001b[0;34m\u001b[0m\u001b[0m\n\u001b[0;32m---> 15\u001b[0;31m     \u001b[0mts\u001b[0m\u001b[0;34m,\u001b[0m\u001b[0mtr\u001b[0m\u001b[0;34m,\u001b[0m\u001b[0mti\u001b[0m \u001b[0;34m=\u001b[0m \u001b[0mupdated_test\u001b[0m\u001b[0;34m.\u001b[0m\u001b[0mrun\u001b[0m\u001b[0;34m(\u001b[0m\u001b[0mdecisions\u001b[0m\u001b[0;34m,\u001b[0m \u001b[0;36m0.8\u001b[0m\u001b[0;34m,\u001b[0m \u001b[0mpbool\u001b[0m\u001b[0;34m)\u001b[0m\u001b[0;34m\u001b[0m\u001b[0;34m\u001b[0m\u001b[0m\n\u001b[0m\u001b[1;32m     16\u001b[0m \u001b[0;34m\u001b[0m\u001b[0m\n\u001b[1;32m     17\u001b[0m     \u001b[0mincrements\u001b[0m \u001b[0;34m=\u001b[0m \u001b[0mti\u001b[0m\u001b[0;34m\u001b[0m\u001b[0;34m\u001b[0m\u001b[0m\n",
            "\u001b[0;32m<ipython-input-9-93e52d11f82d>\u001b[0m in \u001b[0;36mrun\u001b[0;34m(self, decisions_to_consider, max_percent_decisions, prints_bool)\u001b[0m\n\u001b[1;32m    134\u001b[0m \u001b[0;34m\u001b[0m\u001b[0m\n\u001b[1;32m    135\u001b[0m             \u001b[0;31m# select a socket\u001b[0m\u001b[0;34m\u001b[0m\u001b[0;34m\u001b[0m\u001b[0;34m\u001b[0m\u001b[0m\n\u001b[0;32m--> 136\u001b[0;31m             \u001b[0msocket_index\u001b[0m \u001b[0;34m=\u001b[0m \u001b[0mself\u001b[0m\u001b[0;34m.\u001b[0m\u001b[0mselect_socket\u001b[0m\u001b[0;34m(\u001b[0m\u001b[0mt\u001b[0m\u001b[0;34m)\u001b[0m\u001b[0;34m\u001b[0m\u001b[0;34m\u001b[0m\u001b[0m\n\u001b[0m\u001b[1;32m    137\u001b[0m             \u001b[0;31m#if(decisions_to_consider[t]==socket_index):\u001b[0m\u001b[0;34m\u001b[0m\u001b[0;34m\u001b[0m\u001b[0;34m\u001b[0m\u001b[0m\n\u001b[1;32m    138\u001b[0m             \u001b[0;32mif\u001b[0m\u001b[0;34m(\u001b[0m\u001b[0mself\u001b[0m\u001b[0;34m.\u001b[0m\u001b[0mget_number_of_trials\u001b[0m\u001b[0;34m(\u001b[0m\u001b[0;34m)\u001b[0m\u001b[0;34m[\u001b[0m\u001b[0mt\u001b[0m\u001b[0;34m]\u001b[0m\u001b[0;34m[\u001b[0m\u001b[0msocket_index\u001b[0m\u001b[0;34m]\u001b[0m\u001b[0;34m<\u001b[0m\u001b[0mself\u001b[0m\u001b[0;34m.\u001b[0m\u001b[0mpossibles\u001b[0m\u001b[0;34m[\u001b[0m\u001b[0msocket_index\u001b[0m\u001b[0;34m]\u001b[0m\u001b[0;34m)\u001b[0m\u001b[0;34m:\u001b[0m\u001b[0;34m\u001b[0m\u001b[0;34m\u001b[0m\u001b[0m\n",
            "\u001b[0;32m<ipython-input-9-93e52d11f82d>\u001b[0m in \u001b[0;36mselect_socket\u001b[0;34m(self, t)\u001b[0m\n\u001b[1;32m     98\u001b[0m         \u001b[0;31m#print(mask)\u001b[0m\u001b[0;34m\u001b[0m\u001b[0;34m\u001b[0m\u001b[0;34m\u001b[0m\u001b[0m\n\u001b[1;32m     99\u001b[0m         \u001b[0mavailable\u001b[0m \u001b[0;34m=\u001b[0m \u001b[0;34m[\u001b[0m\u001b[0mself\u001b[0m\u001b[0;34m.\u001b[0m\u001b[0msockets\u001b[0m\u001b[0;34m[\u001b[0m\u001b[0mi\u001b[0m\u001b[0;34m]\u001b[0m \u001b[0;32mfor\u001b[0m \u001b[0mi\u001b[0m \u001b[0;32min\u001b[0m \u001b[0mrange\u001b[0m\u001b[0;34m(\u001b[0m\u001b[0mlen\u001b[0m\u001b[0;34m(\u001b[0m\u001b[0mself\u001b[0m\u001b[0;34m.\u001b[0m\u001b[0msockets\u001b[0m\u001b[0;34m)\u001b[0m\u001b[0;34m)\u001b[0m \u001b[0;32mif\u001b[0m \u001b[0;34m(\u001b[0m\u001b[0mmask\u001b[0m\u001b[0;34m[\u001b[0m\u001b[0mi\u001b[0m\u001b[0;34m]\u001b[0m\u001b[0;34m)\u001b[0m\u001b[0;34m]\u001b[0m\u001b[0;34m\u001b[0m\u001b[0;34m\u001b[0m\u001b[0m\n\u001b[0;32m--> 100\u001b[0;31m         \u001b[0msocket_max\u001b[0m \u001b[0;34m=\u001b[0m \u001b[0mrandom_argmax\u001b[0m\u001b[0;34m(\u001b[0m\u001b[0;34m[\u001b[0m\u001b[0msocket\u001b[0m\u001b[0;34m.\u001b[0m\u001b[0msample\u001b[0m\u001b[0;34m(\u001b[0m\u001b[0mt\u001b[0m\u001b[0;34m+\u001b[0m\u001b[0;36m1\u001b[0m\u001b[0;34m)\u001b[0m \u001b[0;32mfor\u001b[0m \u001b[0msocket\u001b[0m \u001b[0;32min\u001b[0m \u001b[0mavailable\u001b[0m\u001b[0;34m]\u001b[0m\u001b[0;34m)\u001b[0m\u001b[0;34m\u001b[0m\u001b[0;34m\u001b[0m\u001b[0m\n\u001b[0m\u001b[1;32m    101\u001b[0m         \u001b[0;31m#print(socket_max)\u001b[0m\u001b[0;34m\u001b[0m\u001b[0;34m\u001b[0m\u001b[0;34m\u001b[0m\u001b[0m\n\u001b[1;32m    102\u001b[0m         \u001b[0msocket_index\u001b[0m \u001b[0;34m=\u001b[0m \u001b[0mself\u001b[0m\u001b[0;34m.\u001b[0m\u001b[0msockets\u001b[0m\u001b[0;34m.\u001b[0m\u001b[0mindex\u001b[0m\u001b[0;34m(\u001b[0m\u001b[0mavailable\u001b[0m\u001b[0;34m[\u001b[0m\u001b[0msocket_max\u001b[0m\u001b[0;34m]\u001b[0m\u001b[0;34m)\u001b[0m\u001b[0;34m\u001b[0m\u001b[0;34m\u001b[0m\u001b[0m\n",
            "\u001b[0;32m<ipython-input-4-36a5d68363e8>\u001b[0m in \u001b[0;36mrandom_argmax\u001b[0;34m(value_list)\u001b[0m\n\u001b[1;32m      5\u001b[0m   \u001b[0;34m\"\"\" a random tie-breaking argmax\"\"\"\u001b[0m\u001b[0;34m\u001b[0m\u001b[0;34m\u001b[0m\u001b[0m\n\u001b[1;32m      6\u001b[0m   \u001b[0mvalues\u001b[0m \u001b[0;34m=\u001b[0m \u001b[0mnp\u001b[0m\u001b[0;34m.\u001b[0m\u001b[0masarray\u001b[0m\u001b[0;34m(\u001b[0m\u001b[0mvalue_list\u001b[0m\u001b[0;34m)\u001b[0m\u001b[0;34m\u001b[0m\u001b[0;34m\u001b[0m\u001b[0m\n\u001b[0;32m----> 7\u001b[0;31m   \u001b[0;32mreturn\u001b[0m \u001b[0mnp\u001b[0m\u001b[0;34m.\u001b[0m\u001b[0margmax\u001b[0m\u001b[0;34m(\u001b[0m\u001b[0mnp\u001b[0m\u001b[0;34m.\u001b[0m\u001b[0mrandom\u001b[0m\u001b[0;34m.\u001b[0m\u001b[0mrandom\u001b[0m\u001b[0;34m(\u001b[0m\u001b[0mvalues\u001b[0m\u001b[0;34m.\u001b[0m\u001b[0mshape\u001b[0m\u001b[0;34m)\u001b[0m \u001b[0;34m*\u001b[0m \u001b[0;34m(\u001b[0m\u001b[0mvalues\u001b[0m\u001b[0;34m==\u001b[0m\u001b[0mvalues\u001b[0m\u001b[0;34m.\u001b[0m\u001b[0mmax\u001b[0m\u001b[0;34m(\u001b[0m\u001b[0;34m)\u001b[0m\u001b[0;34m)\u001b[0m\u001b[0;34m)\u001b[0m\u001b[0;34m\u001b[0m\u001b[0;34m\u001b[0m\u001b[0m\n\u001b[0m\u001b[1;32m      8\u001b[0m \u001b[0;34m\u001b[0m\u001b[0m\n\u001b[1;32m      9\u001b[0m \u001b[0;31m# return the index of the smallest value in the supplied list\u001b[0m\u001b[0;34m\u001b[0m\u001b[0;34m\u001b[0m\u001b[0;34m\u001b[0m\u001b[0m\n",
            "\u001b[0;31mKeyboardInterrupt\u001b[0m: "
          ]
        }
      ]
    },
    {
      "cell_type": "code",
      "source": [
        "nonstatic(2500, rewards_nonbias, 0, instances_bias, 0.01)"
      ],
      "metadata": {
        "id": "ESF0BONSY2zn"
      },
      "execution_count": null,
      "outputs": []
    },
    {
      "cell_type": "code",
      "source": [
        "nonstatic(100, rewards_bias, 0, instances_nonbias, 0)"
      ],
      "metadata": {
        "id": "oqORHeh6aGMa"
      },
      "execution_count": null,
      "outputs": []
    },
    {
      "cell_type": "code",
      "source": [
        "nonstatic(100, rewards_bias, 0.1, instances_nonbias, 0)"
      ],
      "metadata": {
        "id": "NCzrIuvtRI9q"
      },
      "execution_count": null,
      "outputs": []
    },
    {
      "cell_type": "code",
      "source": [
        "nonstatic(100, rewards_bias, 0, instances_bias, 0.01)"
      ],
      "metadata": {
        "id": "X0WG3QDAbQ8Y"
      },
      "execution_count": null,
      "outputs": []
    },
    {
      "cell_type": "code",
      "source": [
        "nonstatic(100, rewards_bias, 0.01, instances_bias, 0)"
      ],
      "metadata": {
        "id": "NOh88ta5bBUq"
      },
      "execution_count": null,
      "outputs": []
    },
    {
      "cell_type": "code",
      "source": [
        "nonstatic(100, rewards_bias, 0.01, instances_bias, 0.01)"
      ],
      "metadata": {
        "id": "JQWqf89ZYh32"
      },
      "execution_count": null,
      "outputs": []
    },
    {
      "cell_type": "markdown",
      "source": [
        "###**SOLUTION?**"
      ],
      "metadata": {
        "id": "B2dnZoLKeN3T"
      }
    },
    {
      "cell_type": "code",
      "source": [
        "class SocketTesterBatchSOLUTION():\n",
        "    \"\"\" create and test a set of sockets over a single test run \"\"\"\n",
        "\n",
        "    def __init__(self, socket, socket_order, socket_vars, confidence_level, sub_opt):  \n",
        "        \n",
        "        self.subopt_coef = sub_opt\n",
        "\n",
        "        # create supplied socket type with a mean value defined by socket order \n",
        "        self.sockets = [socket(socket_order[s], confidence_level, socket_vars[s]) for s in range(len(socket_order))]\n",
        "        \n",
        "        # set the number of sockets equal to the number created\n",
        "        self.number_of_sockets = len(self.sockets)\n",
        "\n",
        "        self.number_of_stats = 2                 \n",
        "            \n",
        "    def initialize_run(self, number_of_steps):\n",
        "        \"\"\" reset counters at the start of a run \"\"\"\n",
        "        \n",
        "        # save the number of steps over which the run will take place\n",
        "        self.number_of_steps = number_of_steps\n",
        "        \n",
        "        # reset the actual number of steps that the test ran for\n",
        "        self.total_steps = 0\n",
        "        \n",
        "        # monitor the total reward obtained over the run\n",
        "        self.total_reward = 0\n",
        "        \n",
        "        # the current total reward at each timestep of the run\n",
        "        self.total_reward_per_timestep = []\n",
        "        \n",
        "        # the actual reward obtained at each timestep\n",
        "        self.reward_per_timestep = []\n",
        "           \n",
        "        # stats for each time-step\n",
        "        # - by default records: estimate, number of trials\n",
        "        self.socket_stats = np.zeros(shape=(number_of_steps+1, \n",
        "                                            self.number_of_sockets, \n",
        "                                            self.number_of_stats))\n",
        "        \n",
        "        # ensure that all sockets are re-initialized\n",
        "        for socket in self.sockets: socket.initialize()\n",
        "            \n",
        "                                \n",
        "    def charge_and_update(self,socket_index):\n",
        "        \"\"\" charge from & update the specified socket and associated parameters \"\"\"\n",
        "        \n",
        "        # charge from the chosen socket and update its mean reward value\n",
        "        reward = self.sockets[socket_index].charge()\n",
        "        self.sockets[socket_index].update(reward)\n",
        "\n",
        "        # update the total reward\n",
        "        self.total_reward += reward   \n",
        "        \n",
        "        # store the current total reward at this timestep\n",
        "        self.total_reward_per_timestep.append(self.total_reward)\n",
        "        \n",
        "        # store the reward obtained at this timestep\n",
        "        self.reward_per_timestep.append(reward)        \n",
        "        \n",
        "        \n",
        "    def get_socket_stats( self, t ):\n",
        "        \"\"\" get the current information from each socket \"\"\"        \n",
        "        socket_stats = [[socket.Q, socket.n] for socket in self.sockets]\n",
        "        return socket_stats     \n",
        "    \n",
        "    def get_mean_reward( self ):\n",
        "        \"\"\" the total reward averaged over the number of time steps \"\"\"\n",
        "        return (self.total_reward/self.total_steps)\n",
        "    \n",
        "    def get_total_reward_per_timestep( self ):\n",
        "        \"\"\" the cumulative total reward at each timestep of the run \"\"\"\n",
        "        return self.total_reward_per_timestep\n",
        "    \n",
        "    def get_reward_per_timestep( self ):\n",
        "        \"\"\" the actual reward obtained at each timestep of the run \"\"\"\n",
        "        return self.reward_per_timestep\n",
        "    \n",
        "    def get_estimates(self):\n",
        "        \"\"\" get the estimate of each socket's reward at each timestep of the run \"\"\"\n",
        "        return self.socket_stats[:,:,0]  \n",
        "    \n",
        "    def get_number_of_trials(self):\n",
        "        \"\"\" get the number of trials of each socket at each timestep of the run \"\"\"\n",
        "        return self.socket_stats[:,:,1]          \n",
        "                \n",
        "    def get_socket_percentages( self ):\n",
        "        \"\"\" get the percentage of times each socket was tried over the run \"\"\"\n",
        "        return (self.socket_stats[:,:,1][self.total_steps]/self.total_steps)        \n",
        "    \n",
        "    def get_time_steps( self ):\n",
        "        \"\"\" get the number of time steps that the test ran for \"\"\"\n",
        "        return self.total_steps\n",
        "    \n",
        "    def bias_presence_hipo(self, t):\n",
        "        presence = np.array([i/sum(self.possibles) for i in self.possibles])\n",
        "        bias_list = []\n",
        "        for c in range(len(self.sockets)):\n",
        "          pulled = self.socket_stats[:,:,1][t].copy()\n",
        "          pulled[c]+=1\n",
        "          selected_presence = np.array(pulled/(t+1))\n",
        "          diff = np.subtract(selected_presence, presence)\n",
        "          #diff = np.divide(diff,presence, out=np.zeros_like(selected_presence), where=presence!=0)\n",
        "          abs = np.abs(diff)\n",
        "          bias_list.append(np.sum(abs))\n",
        "        #return random_argmin(bias_list)\n",
        "        return bias_list\n",
        "\n",
        "    def bias_presence_step(self, t):\n",
        "        presence = np.array([i/sum(self.possibles) for i in self.possibles])\n",
        "        selected_presence = np.array(self.socket_stats[:,:,1][t]/t)\n",
        "        diff = np.subtract(selected_presence, presence)\n",
        "        #diff = np.divide(diff,presence, out=np.zeros_like(selected_presence), where=presence!=0)\n",
        "        abs = np.abs(diff)\n",
        "        return np.sum(abs) \n",
        "\n",
        "    def final_bias_presence(self):\n",
        "        presence = np.array([i/sum(self.possibles) for i in self.possibles])\n",
        "        selected_presence = np.array(self.get_socket_percentages())\n",
        "        diff = np.subtract(selected_presence, presence)\n",
        "        abs = np.abs(diff)\n",
        "        return np.sum(abs) \n",
        "\n",
        "    def bias_rate_hipo(self, t):\n",
        "        bias_list = []\n",
        "        for c in range(len(self.sockets)):\n",
        "          pulled = self.socket_stats[:,:,1][t].copy()\n",
        "          pulled[c]+=1\n",
        "          curr_percentages = np.array([pulled[i]/self.possibles[i] for i in range(len(self.sockets))])\n",
        "          overall_percentages = np.mean(curr_percentages)\n",
        "          diff = np.subtract(overall_percentages,curr_percentages)\n",
        "          abs = np.abs(diff)\n",
        "          bias_list.append(np.sum(abs))\n",
        "        #return random_argmin(bias_list)\n",
        "        return bias_list\n",
        "\n",
        "    def bias_rate_step(self, t):\n",
        "        curr_percentages = np.array([self.get_number_of_trials()[t][i]/self.possibles[i] for i in range(len(self.sockets))])\n",
        "        overall_percentages = np.mean(curr_percentages)\n",
        "        diff = np.subtract(overall_percentages,curr_percentages)\n",
        "        abs = np.abs(diff)\n",
        "        return np.sum(abs) \n",
        "\n",
        "    def final_bias_rate(self):\n",
        "        final_percentages = np.array([self.get_number_of_trials()[self.total_steps][i]/self.possibles[i] for i in range(len(self.sockets))])\n",
        "        overall_percentages = self.capping #np.mean(curr_percentages)\n",
        "        diff = np.subtract(overall_percentages,final_percentages)\n",
        "        abs = np.abs(diff)\n",
        "        return np.sum(abs) \n",
        "    \"\"\"\n",
        "    def select_socket( self, t ):\n",
        "        #CONSTRAINT A\n",
        "        curr_percentages = self.socket_stats[:,:,1][t]/t\n",
        "        mean_percentages = self.capping #np.mean(curr_percentages)\n",
        "        dif_percentages = np.subtract(mean_percentages,self.socket_stats[:,:,1][t]/t)\n",
        "\n",
        "        #CONSTRAINT B\n",
        "        mean_selections = np.mean(self.get_number_of_trials()[t])\n",
        "        dif_selections = np.subtract(mean_selections,self.get_number_of_trials()[t])\n",
        "\n",
        "        #DUES CONSTRAINTS, UNA PER PERCENTATGES, L'ALTRE n SELECTIONS\n",
        "        #dif = dif_percentages #rang 10-30-50\n",
        "        dif = dif_selections   #rang 0-0.01-0.1\n",
        "\n",
        "        #print(dif)\n",
        "\n",
        "        # choose the socket with the current highest mean reward or arbitrarily\n",
        "        # select a socket in the case of a tie            \n",
        "        mask = [self.get_number_of_trials()[t][i]<self.possibles[i] for i in range(len(self.sockets))]\n",
        "        #print(mask)\n",
        "        available_sockets = [self.sockets[s] for s in range(len(self.sockets)) if (mask[s])]\n",
        "        available = [i for i in range(len(self.sockets)) if (mask[i])]\n",
        "\n",
        "        socket_max = random_argmax([self.sockets[socket].sample(t+1)+self.subopt_coef*dif[socket] for socket in available]) \n",
        "        #socket_max = random_argmax([self.sockets[socket].sample(t+1) for socket in available]) \n",
        "\n",
        "        #print(socket_max)\n",
        "        socket_index = self.sockets.index(available_sockets[socket_max])\n",
        "        return socket_index\n",
        "    \"\"\"\n",
        "    def select_socket( self, t ):\n",
        "        \"\"\" Greedy Socket Selection\"\"\"\n",
        "        mask = [self.get_number_of_trials()[t][i]<self.possibles[i] for i in range(len(self.sockets))]\n",
        "        available_sockets = [self.sockets[s] for s in range(len(self.sockets)) if (mask[s])]\n",
        "        available = [i for i in range(len(self.sockets)) if (mask[i])]\n",
        "\n",
        "        socket_max = random_argmax([self.sockets[socket].sample(t+1) for socket in available]) \n",
        "        socket_max_index = self.sockets.index(available_sockets[socket_max])\n",
        "\n",
        "        #print(self.bias_presence_hipo(t))\n",
        "        socket_min = random_argmin([self.bias_presence_hipo(t)[socket] for socket in available]) \n",
        "        #print([self.bias_presence_hipo(t)[socket] for socket in available][socket_min])\n",
        "        socket_min_index = self.sockets.index(available_sockets[socket_min])\n",
        "        #print(self.bias_presence_hipo(t)[socket_min_index])\n",
        "\n",
        "        return_index = random.choices([socket_min_index,socket_max_index],cum_weights=[self.subopt_coef,1])\n",
        "        #print(socket_min_index,socket_max_index,\"->\",return_index[0])\n",
        "        return return_index[0]     \n",
        "    \n",
        "    def return_increments(self, decisions_to_consider):\n",
        "        presence = np.array([i/len(decisions_to_consider) for i in self.possibles])\n",
        "        selected_presence = np.array(self.get_socket_percentages())\n",
        "        diff = np.subtract(selected_presence, presence)\n",
        "        diff = np.divide(diff,presence, out=np.zeros_like(selected_presence), where=presence!=0)\n",
        "        #print(diff)\n",
        "        #print(diff.sum())\n",
        "        return diff\n",
        "    \n",
        "    def run( self, decisions_to_consider, max_percent_decisions=1, prints_bool = True):  \n",
        "        \"\"\" perform a single run, over the set of sockets, \n",
        "            for the defined number of steps \"\"\"\n",
        "        \n",
        "        # reset the run counters\n",
        "        self.initialize_run(len(decisions_to_consider))\n",
        "\n",
        "        self.possibles = [0]*8 #TODO: DEPENDS ON N OF CLUSTER (DECISIONS.UNIQUE() ISNT ENOUGH BECAUSE IT CAN LACK SOME INSTANCES)\n",
        "        for i in np.unique(np.array(decisions_to_consider)):\n",
        "          self.possibles[i] = decisions_to_consider.count(i) \n",
        "        #print(\"possibles\",self.possibles)\n",
        "\n",
        "        usos = 0\n",
        "        self.capping = max_percent_decisions\n",
        "        usos_maxims = math.floor(max_percent_decisions*len(decisions_to_consider))\n",
        "        #print(usos_maxims)\n",
        "\n",
        "        # loop for the specified number of time-steps\n",
        "        for t in range(1,len(decisions_to_consider)):\n",
        "\n",
        "            # get information about all sockets at the start of the time step\n",
        "            self.socket_stats[t] = self.get_socket_stats(t)            \n",
        "            \n",
        "            # select a socket\n",
        "            socket_index = self.select_socket(t)\n",
        "            #if(decisions_to_consider[t]==socket_index):\n",
        "            if(self.get_number_of_trials()[t][socket_index]<self.possibles[socket_index]):\n",
        "              # charge from the chosen socket and update its mean reward value\n",
        "              self.charge_and_update(socket_index)\n",
        "              usos+=1\n",
        "              \n",
        "              if usos > usos_maxims:\n",
        "                  #print(usos,usos_maxims)\n",
        "                  break\n",
        "        # save the actual number of steps that have been run\n",
        "        self.total_steps = t    \n",
        "    \n",
        "        # get the stats for each socket at the end of the run        \n",
        "        self.socket_stats[t+1] = self.get_socket_stats(t+1)           \n",
        "        \n",
        "        self.approval_rates = [round(100*self.get_number_of_trials()[t][i]/self.possibles[i],2) if self.possibles[i]>0.0 else 0.0 for i in range(len(self.possibles))]\n",
        "        if(prints_bool):\n",
        "          #print(\"possibles\",self.possibles)\n",
        "          print(\"Reward distribution:\",[round(s.q,2) for s in self.sockets])\n",
        "          #print(\"Intances of each cluster:\",self.possibles)\n",
        "          print(\"Presence of each in batch (%):\",[100*i/len(decisions_to_consider) for i in self.possibles])\n",
        "          #print(\"Times selected:\",self.get_number_of_trials()[t])\n",
        "          print(\"Relative approval rate (%):\",self.approval_rates)\n",
        "          print(\"Percentage over total selected (%):\",[round(100*p,2) for p in self.get_socket_percentages()])\n",
        "          print(\"Total reward:\",self.total_reward,\"|| and presence bias:\",self.final_bias_presence())\n",
        "          #print(\"For a total reward:\",self.total_reward)\n",
        "          #print(self.return_increments(decisions_to_consider))\n",
        "        return_dic = {\n",
        "            \"total_steps\":self.total_steps,\n",
        "            \"total_reward\":self.total_reward,\n",
        "            \"increments\":self.return_increments(decisions_to_consider),\n",
        "            \"bias_presence\":self.final_bias_presence(),\n",
        "            \"percentages\":self.approval_rates\n",
        "        }\n",
        "        return return_dic\n",
        "  "
      ],
      "metadata": {
        "id": "3LvzuKndeOlS"
      },
      "execution_count": 102,
      "outputs": []
    },
    {
      "cell_type": "code",
      "source": [
        "class SocketTesterBatchSOLUTIONProb():\n",
        "    \"\"\" create and test a set of sockets over a single test run \"\"\"\n",
        "\n",
        "    def __init__(self, socket, socket_order, confidence_level, sub_opt):  \n",
        "        \n",
        "        self.subopt_coef = sub_opt\n",
        "\n",
        "        # create supplied socket type with a mean value defined by socket order \n",
        "        self.sockets = [socket(socket_order[s], confidence_level) for s in range(len(socket_order))]\n",
        "        \n",
        "        # set the number of sockets equal to the number created\n",
        "        self.number_of_sockets = len(self.sockets)\n",
        "\n",
        "        self.number_of_stats = 2                 \n",
        "            \n",
        "    def initialize_run(self, number_of_steps):\n",
        "        \"\"\" reset counters at the start of a run \"\"\"\n",
        "        \n",
        "        # save the number of steps over which the run will take place\n",
        "        self.number_of_steps = number_of_steps\n",
        "        \n",
        "        # reset the actual number of steps that the test ran for\n",
        "        self.total_steps = 0\n",
        "        \n",
        "        # monitor the total reward obtained over the run\n",
        "        self.total_reward = 0\n",
        "        \n",
        "        # the current total reward at each timestep of the run\n",
        "        self.total_reward_per_timestep = []\n",
        "        \n",
        "        # the actual reward obtained at each timestep\n",
        "        self.reward_per_timestep = []\n",
        "           \n",
        "        # stats for each time-step\n",
        "        # - by default records: estimate, number of trials\n",
        "        self.socket_stats = np.zeros(shape=(number_of_steps+1, \n",
        "                                            self.number_of_sockets, \n",
        "                                            self.number_of_stats))\n",
        "        \n",
        "        # ensure that all sockets are re-initialized\n",
        "        for socket in self.sockets: socket.initialize()\n",
        "            \n",
        "                                \n",
        "    def charge_and_update(self,socket_index):\n",
        "        \"\"\" charge from & update the specified socket and associated parameters \"\"\"\n",
        "        \n",
        "        # charge from the chosen socket and update its mean reward value\n",
        "        reward = self.sockets[socket_index].charge()\n",
        "        self.sockets[socket_index].update(reward)\n",
        "\n",
        "        # update the total reward\n",
        "        self.total_reward += reward   \n",
        "        \n",
        "        # store the current total reward at this timestep\n",
        "        self.total_reward_per_timestep.append(self.total_reward)\n",
        "        \n",
        "        # store the reward obtained at this timestep\n",
        "        self.reward_per_timestep.append(reward)        \n",
        "        \n",
        "        \n",
        "    def get_socket_stats( self, t ):\n",
        "        \"\"\" get the current information from each socket \"\"\"        \n",
        "        socket_stats = [[socket.Q, socket.n] for socket in self.sockets]\n",
        "        return socket_stats     \n",
        "    \n",
        "    def get_mean_reward( self ):\n",
        "        \"\"\" the total reward averaged over the number of time steps \"\"\"\n",
        "        return (self.total_reward/self.total_steps)\n",
        "    \n",
        "    def get_total_reward_per_timestep( self ):\n",
        "        \"\"\" the cumulative total reward at each timestep of the run \"\"\"\n",
        "        return self.total_reward_per_timestep\n",
        "    \n",
        "    def get_reward_per_timestep( self ):\n",
        "        \"\"\" the actual reward obtained at each timestep of the run \"\"\"\n",
        "        return self.reward_per_timestep\n",
        "    \n",
        "    def get_estimates(self):\n",
        "        \"\"\" get the estimate of each socket's reward at each timestep of the run \"\"\"\n",
        "        return self.socket_stats[:,:,0]  \n",
        "    \n",
        "    def get_number_of_trials(self):\n",
        "        \"\"\" get the number of trials of each socket at each timestep of the run \"\"\"\n",
        "        return self.socket_stats[:,:,1]          \n",
        "                \n",
        "    def get_socket_percentages( self ):\n",
        "        \"\"\" get the percentage of times each socket was tried over the run \"\"\"\n",
        "        return (self.socket_stats[:,:,1][self.total_steps]/self.total_steps)        \n",
        "    \n",
        "    def get_time_steps( self ):\n",
        "        \"\"\" get the number of time steps that the test ran for \"\"\"\n",
        "        return self.total_steps\n",
        "    \n",
        "    def bias_presence_hipo(self, t):\n",
        "        presence = np.array([i/sum(self.possibles) for i in self.possibles])\n",
        "        bias_list = []\n",
        "        for c in range(len(self.sockets)):\n",
        "          pulled = self.socket_stats[:,:,1][t].copy()\n",
        "          pulled[c]+=1\n",
        "          selected_presence = np.array(pulled/(t+1))\n",
        "          diff = np.subtract(selected_presence, presence)\n",
        "          #diff = np.divide(diff,presence, out=np.zeros_like(selected_presence), where=presence!=0)\n",
        "          abs = np.abs(diff)\n",
        "          bias_list.append(np.sum(abs))\n",
        "        return bias_list\n",
        "\n",
        "    def bias_presence_step(self, t):\n",
        "        presence = np.array([i/sum(self.possibles) for i in self.possibles])\n",
        "        selected_presence = np.array(self.socket_stats[:,:,1][t]/t)\n",
        "        diff = np.subtract(selected_presence, presence)\n",
        "        #diff = np.divide(diff,presence, out=np.zeros_like(selected_presence), where=presence!=0)\n",
        "        abs = np.abs(diff)\n",
        "        return np.sum(abs) \n",
        "\n",
        "    def final_bias_presence(self):\n",
        "        presence = np.array([i/sum(self.possibles) for i in self.possibles])\n",
        "        selected_presence = np.array(self.get_socket_percentages())\n",
        "        diff = np.subtract(selected_presence, presence)\n",
        "        abs = np.abs(diff)\n",
        "        return np.sum(abs) \n",
        "\n",
        "    def bias_rate_hipo(self, t):\n",
        "        bias_list = []\n",
        "        for c in range(len(self.sockets)):\n",
        "          pulled = self.socket_stats[:,:,1][t].copy()\n",
        "          pulled[c]+=1\n",
        "          curr_percentages = np.array([pulled[i]/self.possibles[i] for i in range(len(self.sockets))])\n",
        "          #overall_percentages = np.mean(curr_percentages)\n",
        "          #diff = np.subtract(overall_percentages,curr_percentages)\n",
        "          diff = np.subtract(self.capping,curr_percentages)\n",
        "          abs = np.abs(diff)\n",
        "          bias_list.append(np.sum(abs))\n",
        "        return bias_list\n",
        "\n",
        "    def bias_rate_step(self, t):\n",
        "        curr_percentages = np.array([self.get_number_of_trials()[t][i]/self.possibles[i] for i in range(len(self.sockets))])\n",
        "        #overall_percentages = np.mean(curr_percentages)\n",
        "        #diff = np.subtract(overall_percentages,curr_percentages)\n",
        "        diff = np.subtract(self.capping,curr_percentages)\n",
        "        abs = np.abs(diff)\n",
        "        return np.sum(abs) \n",
        "\n",
        "    def final_bias_rate(self):\n",
        "        final_percentages = np.array([self.get_number_of_trials()[self.total_steps][i]/self.possibles[i] for i in range(len(self.sockets))])\n",
        "        overall_percentages = np.mean(final_percentages)\n",
        "        diff = np.subtract(overall_percentages,final_percentages)\n",
        "        abs = np.abs(diff)\n",
        "        return np.sum(abs) \n",
        "    \n",
        "    def punishing_term(self,bias_func,t):\n",
        "        b_list = bias_func(t)\n",
        "        norm_num = np.subtract(b_list,max(b_list))\n",
        "        norm_denom = np.subtract(max(b_list),min(b_list))\n",
        "        aux_b_list = np.divide(norm_num,norm_denom, out=np.zeros_like(norm_num), where=norm_denom!=0)\n",
        "        return np.multiply(aux_b_list,100)\n",
        "\n",
        "    def select_socket( self, t ):\n",
        "              \n",
        "        mask = [self.get_number_of_trials()[t][i]<self.possibles[i] for i in range(len(self.sockets))]\n",
        "        available_sockets = [self.sockets[s] for s in range(len(self.sockets)) if (mask[s])]\n",
        "        available = [i for i in range(len(self.sockets)) if (mask[i])]\n",
        "\n",
        "        bias_term = self.punishing_term(self.bias_presence_hipo,t)\n",
        "        #print([self.sockets[i].sample(t+1)for i in range(8)])\n",
        "        #print(bias_term)\n",
        "        #print()\n",
        "        socket_max = random_argmax([(1-self.subopt_coef)*self.sockets[socket].sample(t+1)-self.subopt_coef*bias_term[socket] for socket in available]) \n",
        "\n",
        "        socket_index = self.sockets.index(available_sockets[socket_max])\n",
        "        return socket_index\n",
        "    \n",
        "    def select_socket_candidates( self, t ):\n",
        "        \"\"\" Greedy Socket Selection\"\"\"\n",
        "        mask = [self.get_number_of_trials()[t][i]<self.possibles[i] for i in range(len(self.sockets))]\n",
        "        available_sockets = [self.sockets[s] for s in range(len(self.sockets)) if (mask[s])]\n",
        "        available = [i for i in range(len(self.sockets)) if (mask[i])]\n",
        "\n",
        "        socket_max = random_argmax([self.sockets[socket].sample(t+1) for socket in available]) \n",
        "        socket_max_index = self.sockets.index(available_sockets[socket_max])\n",
        "\n",
        "        socket_min = random_argmin([self.bias_presence_hipo(t)[socket] for socket in available]) \n",
        "        socket_min_index = self.sockets.index(available_sockets[socket_min])\n",
        "\n",
        "        return_index = random.choices([socket_min_index,socket_max_index],cum_weights=[self.subopt_coef,1])\n",
        "        #print(socket_min_index,socket_max_index,\"(\",self.subopt_coef,\")->\",return_index[0])\n",
        "        return return_index[0]     \n",
        "    \n",
        "    def return_increments(self, decisions_to_consider):\n",
        "        presence = np.array([i/len(decisions_to_consider) for i in self.possibles])\n",
        "        selected_presence = np.array(self.get_socket_percentages())\n",
        "        diff = np.subtract(selected_presence, presence)\n",
        "        diff = np.divide(diff,presence, out=np.zeros_like(selected_presence), where=presence!=0)\n",
        "        #print(diff)\n",
        "        #print(diff.sum())\n",
        "        return diff\n",
        "    \n",
        "    def run( self, decisions_to_consider, max_percent_decisions=1, prints_bool = True):  \n",
        "        \"\"\" perform a single run, over the set of sockets, \n",
        "            for the defined number of steps \"\"\"\n",
        "        \n",
        "        # reset the run counters\n",
        "        self.initialize_run(len(decisions_to_consider))\n",
        "\n",
        "        self.possibles = [0]*8 #TODO: DEPENDS ON N OF CLUSTER (DECISIONS.UNIQUE() ISNT ENOUGH BECAUSE IT CAN LACK SOME INSTANCES)\n",
        "        for i in np.unique(np.array(decisions_to_consider)):\n",
        "          self.possibles[i] = decisions_to_consider.count(i) \n",
        "        #print(\"possibles\",self.possibles)\n",
        "\n",
        "        usos = 0\n",
        "        self.capping = max_percent_decisions\n",
        "        usos_maxims = math.floor(max_percent_decisions*len(decisions_to_consider))\n",
        "        #print(usos_maxims)\n",
        "        self.bias_hist = []\n",
        "        # loop for the specified number of time-steps\n",
        "        for t in range(1,len(decisions_to_consider)):\n",
        "            self.socket_stats[t] = self.get_socket_stats(t)     \n",
        "            if t%10==0:\n",
        "              self.bias_hist.append(self.bias_presence_step(t))\n",
        "\n",
        "            socket_index = self.select_socket(t)\n",
        "            if(self.get_number_of_trials()[t][socket_index]<self.possibles[socket_index]):\n",
        "              # charge from the chosen socket and update its mean reward value\n",
        "              self.charge_and_update(socket_index)\n",
        "              usos+=1\n",
        "              if usos > usos_maxims:\n",
        "                  break\n",
        "        # save the actual number of steps that have been run\n",
        "        self.total_steps = t    \n",
        "    \n",
        "        # get the stats for each socket at the end of the run        \n",
        "        self.socket_stats[t+1] = self.get_socket_stats(t+1)           \n",
        "        \n",
        "        self.approval_rates = [round(100*self.get_number_of_trials()[t][i]/self.possibles[i],2) if self.possibles[i]>0.0 else 0.0 for i in range(len(self.possibles))]\n",
        "        if(prints_bool):\n",
        "          #print(\"possibles\",self.possibles)\n",
        "          print(\"Reward distribution:\",[round(s.q,2) for s in self.sockets])\n",
        "          #print(\"Intances of each cluster:\",self.possibles)\n",
        "          print(\"Presence of each in batch (%):\",[100*i/len(decisions_to_consider) for i in self.possibles])\n",
        "          #print(\"Times selected:\",self.get_number_of_trials()[t])\n",
        "          print(\"Relative approval rate (%):\",self.approval_rates)\n",
        "          print(\"Percentage over total selected (%):\",[round(100*p,2) for p in self.get_socket_percentages()])\n",
        "          print(\"Total reward:\",self.total_reward,\"|| and presence bias:\",self.final_bias_presence())\n",
        "          #print(\"For a total reward:\",self.total_reward)\n",
        "          #print(self.return_increments(decisions_to_consider))\n",
        "        return_dic = {\n",
        "            \"total_steps\":self.total_steps,\n",
        "            \"total_reward\":self.total_reward,\n",
        "            \"increments\":self.return_increments(decisions_to_consider),\n",
        "            \"bias_presence\":self.final_bias_presence(),\n",
        "            \"bias_rate\":self.final_bias_rate(),\n",
        "            \"percentages\":self.approval_rates,\n",
        "            \"bias_hist\":self.bias_hist\n",
        "        }\n",
        "        return return_dic"
      ],
      "metadata": {
        "id": "PjPBKsncLbY3"
      },
      "execution_count": 339,
      "outputs": []
    },
    {
      "cell_type": "code",
      "source": [
        "rewards_bias = np.array([.8555, .8193, .8284, .7994, .7103, .6635, .7471, .6731])\n",
        "rewards_nonbias = [0.8]*8\n",
        "devs_nonbias = [0]*8\n",
        "\n",
        "instances_bias = np.array([0.555, 0.24, 0.023, 0.011, 0.087, 0.081, 0.001, 0.001])\n",
        "instances_nonbias = [1/8]*8"
      ],
      "metadata": {
        "id": "6qdqEOdfJbWX"
      },
      "execution_count": 121,
      "outputs": []
    },
    {
      "cell_type": "code",
      "source": [
        "decisions = random.choices(range(8),weights=list(instances_bias),k=5000)"
      ],
      "metadata": {
        "id": "12mwLWeYrc3J"
      },
      "execution_count": 342,
      "outputs": []
    },
    {
      "cell_type": "code",
      "source": [
        "sol_test = SocketTesterBatchSOLUTION(PowerSocket, rewards_bias, devs_nonbias, 0.05, 0)\n",
        "rd = sol_test.run(decisions, 0.8, True)"
      ],
      "metadata": {
        "id": "1z9nQnr5ra7v"
      },
      "execution_count": null,
      "outputs": []
    },
    {
      "cell_type": "code",
      "source": [
        "sol_test = SocketTesterBatchSOLUTIONProb(PowerSocketProb, rewards_bias, 10, 0)\n",
        "rd = sol_test.run(decisions, 0.8, True)\n",
        "plt.plot(rd[\"bias_hist\"])"
      ],
      "metadata": {
        "colab": {
          "base_uri": "https://localhost:8080/",
          "height": 375
        },
        "id": "mmJT36EwSL18",
        "outputId": "26687f23-c230-4692-98ca-80e499fe1bef"
      },
      "execution_count": 343,
      "outputs": [
        {
          "output_type": "stream",
          "name": "stdout",
          "text": [
            "Reward distribution: [0.86, 0.82, 0.83, 0.8, 0.71, 0.66, 0.75, 0.67]\n",
            "Presence of each in batch (%): [55.46, 23.3, 2.18, 1.18, 9.5, 8.28, 0.08, 0.02]\n",
            "Relative approval rate (%): [100.0, 93.73, 100.0, 8.47, 1.89, 2.42, 25.0, 100.0]\n",
            "Percentage over total selected (%): [69.31, 27.29, 2.72, 0.12, 0.22, 0.25, 0.02, 0.02]\n",
            "Total reward: 337200 || and presence bias: 0.3680531867033242\n"
          ]
        },
        {
          "output_type": "execute_result",
          "data": {
            "text/plain": [
              "[<matplotlib.lines.Line2D at 0x7f1671b50290>]"
            ]
          },
          "metadata": {},
          "execution_count": 343
        },
        {
          "output_type": "display_data",
          "data": {
            "text/plain": [
              "<Figure size 432x288 with 1 Axes>"
            ],
            "image/png": "[encoded data removed]"
          },
          "metadata": {
            "needs_background": "light"
          }
        }
      ]
    },
    {
      "cell_type": "code",
      "source": [
        "sol_test = SocketTesterBatchSOLUTIONProb(PowerSocketProb, rewards_bias, 10, 0.25)\n",
        "rd = sol_test.run(decisions, 0.8, True)\n",
        "plt.plot(rd[\"bias_hist\"])"
      ],
      "metadata": {
        "colab": {
          "base_uri": "https://localhost:8080/",
          "height": 375
        },
        "id": "A128ar06rM8p",
        "outputId": "6fb40049-0696-44a9-a95e-96f69050b49b"
      },
      "execution_count": 344,
      "outputs": [
        {
          "output_type": "stream",
          "name": "stdout",
          "text": [
            "Reward distribution: [0.86, 0.82, 0.83, 0.8, 0.71, 0.66, 0.75, 0.67]\n",
            "Presence of each in batch (%): [55.46, 23.3, 2.18, 1.18, 9.5, 8.28, 0.08, 0.02]\n",
            "Relative approval rate (%): [63.94, 100.0, 100.0, 100.0, 100.0, 100.0, 100.0, 100.0]\n",
            "Percentage over total selected (%): [44.31, 29.12, 2.72, 1.47, 11.87, 10.35, 0.1, 0.02]\n",
            "Total reward: 324400 || and presence bias: 0.22267163209197693\n"
          ]
        },
        {
          "output_type": "execute_result",
          "data": {
            "text/plain": [
              "[<matplotlib.lines.Line2D at 0x7f1671b3c990>]"
            ]
          },
          "metadata": {},
          "execution_count": 344
        },
        {
          "output_type": "display_data",
          "data": {
            "text/plain": [
              "<Figure size 432x288 with 1 Axes>"
            ],
            "image/png": "[encoded data removed]"
          },
          "metadata": {
            "needs_background": "light"
          }
        }
      ]
    },
    {
      "cell_type": "code",
      "source": [
        "sol_test = SocketTesterBatchSOLUTIONProb(PowerSocketProb, rewards_bias, 10, 0.5)\n",
        "rd = sol_test.run(decisions, 0.8, True)\n",
        "plt.plot(rd[\"bias_hist\"])"
      ],
      "metadata": {
        "colab": {
          "base_uri": "https://localhost:8080/",
          "height": 375
        },
        "id": "qLFP4Yjhe6tB",
        "outputId": "edd040a0-451a-44e2-8686-5157d55a32fd"
      },
      "execution_count": 345,
      "outputs": [
        {
          "output_type": "stream",
          "name": "stdout",
          "text": [
            "Reward distribution: [0.86, 0.82, 0.83, 0.8, 0.71, 0.66, 0.75, 0.67]\n",
            "Presence of each in batch (%): [55.46, 23.3, 2.18, 1.18, 9.5, 8.28, 0.08, 0.02]\n",
            "Relative approval rate (%): [80.02, 80.0, 79.82, 79.66, 80.0, 79.95, 75.0, 100.0]\n",
            "Percentage over total selected (%): [55.46, 23.29, 2.17, 1.17, 9.5, 8.27, 0.07, 0.02]\n",
            "Total reward: 324600 || and presence bias: 0.0003725068732816592\n"
          ]
        },
        {
          "output_type": "execute_result",
          "data": {
            "text/plain": [
              "[<matplotlib.lines.Line2D at 0x7f1671ab6690>]"
            ]
          },
          "metadata": {},
          "execution_count": 345
        },
        {
          "output_type": "display_data",
          "data": {
            "text/plain": [
              "<Figure size 432x288 with 1 Axes>"
            ],
            "image/png": "[encoded data removed]"
          },
          "metadata": {
            "needs_background": "light"
          }
        }
      ]
    },
    {
      "cell_type": "code",
      "source": [
        "sol_test = SocketTesterBatchSOLUTIONProb(PowerSocketProb, rewards_bias, 10, 0.75)\n",
        "rd = sol_test.run(decisions, 0.8, True)\n",
        "plt.plot(rd[\"bias_hist\"])"
      ],
      "metadata": {
        "colab": {
          "base_uri": "https://localhost:8080/",
          "height": 375
        },
        "id": "O1twdS7WwA5H",
        "outputId": "b626bc57-a67b-430b-bf42-5eac00a3a444"
      },
      "execution_count": 346,
      "outputs": [
        {
          "output_type": "stream",
          "name": "stdout",
          "text": [
            "Reward distribution: [0.86, 0.82, 0.83, 0.8, 0.71, 0.66, 0.75, 0.67]\n",
            "Presence of each in batch (%): [55.46, 23.3, 2.18, 1.18, 9.5, 8.28, 0.08, 0.02]\n",
            "Relative approval rate (%): [80.02, 80.0, 79.82, 79.66, 80.0, 79.95, 75.0, 100.0]\n",
            "Percentage over total selected (%): [55.46, 23.29, 2.17, 1.17, 9.5, 8.27, 0.07, 0.02]\n",
            "Total reward: 327600 || and presence bias: 0.0003725068732816592\n"
          ]
        },
        {
          "output_type": "execute_result",
          "data": {
            "text/plain": [
              "[<matplotlib.lines.Line2D at 0x7f1671a25dd0>]"
            ]
          },
          "metadata": {},
          "execution_count": 346
        },
        {
          "output_type": "display_data",
          "data": {
            "text/plain": [
              "<Figure size 432x288 with 1 Axes>"
            ],
            "image/png": "[encoded data removed]"
          },
          "metadata": {
            "needs_background": "light"
          }
        }
      ]
    },
    {
      "cell_type": "code",
      "source": [
        "sol_test = SocketTesterBatchSOLUTIONProb(PowerSocketProb, rewards_bias, 10, 0.99)\n",
        "rd = sol_test.run(decisions, 0.8, True)\n",
        "plt.plot(rd[\"bias_hist\"])"
      ],
      "metadata": {
        "id": "bV4yyv2zvL-U",
        "colab": {
          "base_uri": "https://localhost:8080/",
          "height": 375
        },
        "outputId": "6c630afd-d833-43d5-fa86-678797d8d4bf"
      },
      "execution_count": 349,
      "outputs": [
        {
          "output_type": "stream",
          "name": "stdout",
          "text": [
            "Reward distribution: [0.86, 0.82, 0.83, 0.8, 0.71, 0.66, 0.75, 0.67]\n",
            "Presence of each in batch (%): [55.46, 23.3, 2.18, 1.18, 9.5, 8.28, 0.08, 0.02]\n",
            "Relative approval rate (%): [80.02, 80.0, 79.82, 79.66, 80.0, 79.95, 75.0, 100.0]\n",
            "Percentage over total selected (%): [55.46, 23.29, 2.17, 1.17, 9.5, 8.27, 0.07, 0.02]\n",
            "Total reward: 331500 || and presence bias: 0.0003725068732816592\n"
          ]
        },
        {
          "output_type": "execute_result",
          "data": {
            "text/plain": [
              "[<matplotlib.lines.Line2D at 0x7f1671901a90>]"
            ]
          },
          "metadata": {},
          "execution_count": 349
        },
        {
          "output_type": "display_data",
          "data": {
            "text/plain": [
              "<Figure size 432x288 with 1 Axes>"
            ],
            "image/png": "[encoded data removed]"
          },
          "metadata": {
            "needs_background": "light"
          }
        }
      ]
    },
    {
      "cell_type": "code",
      "source": [
        "rwd_results = []\n",
        "bias_results = []\n",
        "decisions = random.choices(range(8),weights=list(instances_bias),k=5000)\n",
        "for sopt in np.arange(0,1.1,0.1):\n",
        "  sopt_i_rwd_results = []\n",
        "  sopt_i_bias_results = []\n",
        "  sol_test = SocketTesterBatchSOLUTIONProb(PowerSocketProb, rewards_bias, 10, sopt)\n",
        "  for iter in range(25):\n",
        "    rd = sol_test.run(decisions, 0.8, False)\n",
        "    sopt_i_rwd_results.append(rd[\"total_reward\"])\n",
        "    sopt_i_bias_results.append(rd[\"bias_presence\"])\n",
        "  rwd_results.append([np.mean(sopt_i_rwd_results),np.std(sopt_i_rwd_results)])\n",
        "  bias_results.append([np.mean(sopt_i_bias_results),np.std(sopt_i_bias_results)])\n",
        "print([rwd_results[i][0] for i in range(len(rwd_results))])\n",
        "print([bias_results[i][0] for i in range(len(bias_results))])"
      ],
      "metadata": {
        "colab": {
          "base_uri": "https://localhost:8080/"
        },
        "id": "37FXdTsGg4CF",
        "outputId": "1792fd85-66c4-42fe-9234-3175914f78e4"
      },
      "execution_count": 350,
      "outputs": [
        {
          "output_type": "stream",
          "name": "stderr",
          "text": [
            "/usr/local/lib/python3.7/dist-packages/ipykernel_launcher.py:167: RuntimeWarning: invalid value encountered in double_scalars\n"
          ]
        },
        {
          "output_type": "stream",
          "name": "stdout",
          "text": [
            "[333988.0, 332696.0, 332836.0, 330408.0, 327444.0, 326764.0, 327320.0, 326656.0, 327204.0, 326632.0, 338620.0]\n",
            "[0.33678191652086975, 0.3011928697825544, 0.2450335456135966, 0.16375462134466384, 0.002280729817545629, 0.0006564638840290049, 0.0006453746563359292, 0.0006399400149962646, 0.0006233761559610249, 0.0005569607598100683, 0.39975006248437894]\n"
          ]
        }
      ]
    },
    {
      "cell_type": "code",
      "source": [
        "print([rwd_results[i][0] for i in range(len(rwd_results))])\n",
        "print([bias_results[i][0] for i in range(len(bias_results))])"
      ],
      "metadata": {
        "colab": {
          "base_uri": "https://localhost:8080/"
        },
        "id": "X4gQWwS_odLp",
        "outputId": "05c10cc5-9df1-4282-f98b-35efb46dcbc3"
      },
      "execution_count": 351,
      "outputs": [
        {
          "output_type": "stream",
          "name": "stdout",
          "text": [
            "[333988.0, 332696.0, 332836.0, 330408.0, 327444.0, 326764.0, 327320.0, 326656.0, 327204.0, 326632.0, 338620.0]\n",
            "[0.33678191652086975, 0.3011928697825544, 0.2450335456135966, 0.16375462134466384, 0.002280729817545629, 0.0006564638840290049, 0.0006453746563359292, 0.0006399400149962646, 0.0006233761559610249, 0.0005569607598100683, 0.39975006248437894]\n"
          ]
        }
      ]
    },
    {
      "cell_type": "code",
      "source": [
        "import matplotlib.pyplot as plt\n",
        "import numpy as np\n",
        "\n",
        "xr = np.arange(0,1.1,0.1)\n",
        "yr = [rwd_results[i][0] for i in range(len(rwd_results))]\n",
        "er = [rwd_results[i][1] for i in range(len(rwd_results))]\n",
        "\n",
        "xb = np.arange(0,1.1,0.1)\n",
        "yb = [bias_results[i][0] for i in range(len(bias_results))]\n",
        "eb = [bias_results[i][1] for i in range(len(bias_results))]"
      ],
      "metadata": {
        "id": "nbqQlzefqqGN"
      },
      "execution_count": 353,
      "outputs": []
    },
    {
      "cell_type": "code",
      "source": [
        "plt.errorbar(xr, yr, er, linestyle='None', marker='^')\n",
        "plt.show() #total rewards (y) vs subopt value (x)"
      ],
      "metadata": {
        "colab": {
          "base_uri": "https://localhost:8080/",
          "height": 265
        },
        "id": "4dcFsPxOrtu1",
        "outputId": "19d4e782-0cfd-466a-ae3d-06c10fef7704"
      },
      "execution_count": 354,
      "outputs": [
        {
          "output_type": "display_data",
          "data": {
            "text/plain": [
              "<Figure size 432x288 with 1 Axes>"
            ],
            "image/png": "[encoded data removed]"
          },
          "metadata": {
            "needs_background": "light"
          }
        }
      ]
    },
    {
      "cell_type": "code",
      "source": [
        "plt.errorbar(xb, yb, eb, linestyle='None', marker='^')\n",
        "plt.show()  #final bias (y) vs subopt value (x)"
      ],
      "metadata": {
        "colab": {
          "base_uri": "https://localhost:8080/",
          "height": 265
        },
        "id": "Sz6k2Smsnvjk",
        "outputId": "ebeeffa9-f17f-4bca-bc55-ad5e4a316709"
      },
      "execution_count": 355,
      "outputs": [
        {
          "output_type": "display_data",
          "data": {
            "text/plain": [
              "<Figure size 432x288 with 1 Axes>"
            ],
            "image/png": "[encoded data removed]"
          },
          "metadata": {
            "needs_background": "light"
          }
        }
      ]
    },
    {
      "cell_type": "code",
      "source": [
        "[rwd_results[i][0] for i in range(len(rwd_results))]"
      ],
      "metadata": {
        "colab": {
          "base_uri": "https://localhost:8080/"
        },
        "id": "QL414Ad-jEH6",
        "outputId": "884b5e8d-9352-4a31-b368-b64b02864c4b"
      },
      "execution_count": 221,
      "outputs": [
        {
          "output_type": "execute_result",
          "data": {
            "text/plain": [
              "[331300.0,\n",
              " 324800.0,\n",
              " 319800.0,\n",
              " 331000.0,\n",
              " 331100.0,\n",
              " 328500.0,\n",
              " 329000.0,\n",
              " 323500.0,\n",
              " 327100.0,\n",
              " 325000.0]"
            ]
          },
          "metadata": {},
          "execution_count": 221
        }
      ]
    },
    {
      "cell_type": "markdown",
      "source": [
        "curr_percentages = self.socket_stats[:,:,1][t]/t\n",
        "mean_percentages = np.mean(curr_percentages)\n",
        "dif_percentages = np.subtract(mean_percentages,self.socket_stats[:,:,1][t]/t)\n",
        "\n",
        "mean_selections = np.mean(self.get_number_of_trials()[t])\n",
        "dif_selections = np.subtract(mean_selections,self.get_number_of_trials()[t])\n",
        "\n",
        "#DUES CONSTRAINTS, UNA PER PERCENTATGES, L'ALTRE n SELECTIONS\n",
        "//dif = dif_percentages #rang 10-30-50\n",
        "\n",
        "dif = dif_selections   #rang 0-0.01-0.1"
      ],
      "metadata": {
        "id": "zs58UXGgp_JC"
      }
    },
    {
      "cell_type": "code",
      "source": [
        "def nonstatic_sol(iter, rewards_d_o_mu, rewards_d_o_dev, r_coef, instances_d_o, i_coef, sub_opt):\n",
        "  rewards_d = np.array(rewards_d_o_mu)\n",
        "  instances_d = np.array(instances_d_o)\n",
        "\n",
        "  #iter = 1000\n",
        "  for i in range(iter):\n",
        "    pbool=False\n",
        "    if(i%math.ceil(iter/4)==0 or i==iter-1):\n",
        "        print(i)\n",
        "        #print(list(instances_distribution))\n",
        "        pbool=True\n",
        "\n",
        "    updated_test = SocketTesterBatchSOLUTION(PowerSocket, list(rewards_d), rewards_d_o_dev, 10, sub_opt)\n",
        "    decisions = random.choices(range(8),weights=list(instances_d),k=5000)\n",
        "    rd = updated_test.run(decisions, 0.8, pbool)\n",
        "\n",
        "    increments = rd[\"increments\"]\n",
        "\n",
        "    rewards_d = np.add(rewards_d,increments*r_coef*100)\n",
        "    rewards_d = np.clip(rewards_d,0,100)\n",
        "\n",
        "    instances_d = np.add(instances_d,increments*i_coef)\n",
        "    instances_d = np.clip(instances_d,0,None)\n",
        "    instances_d = instances_d / instances_d.sum()"
      ],
      "metadata": {
        "id": "vE47_Xl7NixY"
      },
      "execution_count": 25,
      "outputs": []
    },
    {
      "cell_type": "code",
      "source": [
        "nonstatic(100, rewards_bias, [10.0]*8, 0.001, instances_bias, 0.001)"
      ],
      "metadata": {
        "id": "NEj4PRcM1Pg2"
      },
      "execution_count": null,
      "outputs": []
    },
    {
      "cell_type": "code",
      "source": [
        "nonstatic_sol(100, rewards_bias, [10.0]*8, 0.001, instances_bias, 0.001, 0)"
      ],
      "metadata": {
        "id": "scRNA37hRL-r"
      },
      "execution_count": null,
      "outputs": []
    },
    {
      "cell_type": "code",
      "source": [
        "nonstatic_sol(100, rewards_bias, [10.0]*8, 0.001, instances_bias, 0.001, 0.1)"
      ],
      "metadata": {
        "id": "M5Lj3P8VTCxw"
      },
      "execution_count": null,
      "outputs": []
    },
    {
      "cell_type": "code",
      "source": [
        "nonstatic_sol(100, rewards_bias, [10.0]*8, 0.001, instances_bias, 0.001, 0.2)"
      ],
      "metadata": {
        "id": "VRcpM6_wzFKx"
      },
      "execution_count": null,
      "outputs": []
    },
    {
      "cell_type": "code",
      "source": [
        "nonstatic_sol(100, rewards_bias, [10.0]*8, 0.001, instances_bias, 0.001, 0.5)"
      ],
      "metadata": {
        "id": "FFHZN_9B-_R3"
      },
      "execution_count": null,
      "outputs": []
    },
    {
      "cell_type": "code",
      "source": [
        "nonstatic_sol(100, rewards_bias, [10.0]*8, 0.001, instances_bias, 0.001, 1)"
      ],
      "metadata": {
        "id": "-r2-UWTpDy7p"
      },
      "execution_count": null,
      "outputs": []
    },
    {
      "cell_type": "code",
      "source": [
        "variances = [10]*8\n",
        "##(5000 per iter)\n",
        "nonstatic_sol(1000, rewards_bias, 0.02, instances_bias, 0.02, 0.1, variances)"
      ],
      "metadata": {
        "id": "SAQmQ6vjii8u"
      },
      "execution_count": null,
      "outputs": []
    },
    {
      "cell_type": "code",
      "source": [
        "variances = [10]*8\n",
        "nonstatic_sol(1000, rewards_bias, 0.04, instances_bias, 0.04, 100, variances)"
      ],
      "metadata": {
        "id": "OqxfJ3T_QfW7"
      },
      "execution_count": null,
      "outputs": []
    },
    {
      "cell_type": "code",
      "source": [
        "from sklearn.preprocessing import MinMaxScaler\n",
        "from sklearn.linear_model import LogisticRegression\n",
        "from sklearn.model_selection import cross_validate\n",
        "import pandas as pd\n",
        "import numpy as np\n",
        "\n",
        "from google.colab import drive # import drive from google colab\n",
        "\n",
        "ROOT = \"/content/drive\"     # default location for the drive\n",
        "print(ROOT)                 # print content of ROOT (Optional)\n",
        "drive.mount(ROOT)\n",
        "\n",
        "unpickled_df = pd.read_csv(\"/content/drive/MyDrive/TFG/hmda/state_AL-GA_actions_taken_1-3.csv\")\n",
        "print(unpickled_df.derived_sex.unique(),'\\n',\n",
        "unpickled_df.derived_race.unique(),'\\n',\n",
        "unpickled_df.derived_ethnicity.unique(),'\\n',\n",
        "unpickled_df.action_taken.unique())\n",
        "\n",
        "subsample = unpickled_df                    \n",
        "\n",
        "print(len(subsample.loc[subsample[\"action_taken\"]==1]),len(subsample.loc[subsample[\"action_taken\"]==3]))\n",
        "subsample = subsample.loc[subsample[\"action_taken\"].isin([1,3])]\n",
        "subsample[\"action_taken\"] = subsample[\"action_taken\"].replace([3],[0])    \n",
        "print(\"action:\",subsample[\"action_taken\"].unique())\n",
        "print(len(subsample.loc[subsample[\"action_taken\"]==1]),len(subsample.loc[subsample[\"action_taken\"]==0]))\n",
        "\n",
        "print(\"race pre:\",subsample[\"derived_race\"].unique())\n",
        "subsample = subsample.loc[subsample[\"derived_race\"].isin([\"White\",\"Black or African American\"])]\n",
        "subsample[\"derived_race\"] = subsample[\"derived_race\"].replace([\"White\",\"Black or African American\"],[0,1])\n",
        "print(\"race:\",subsample[\"derived_race\"].unique())\n",
        "\n",
        "print(\"ethnicity pre:\",subsample[\"derived_ethnicity\"].unique())\n",
        "subsample = subsample.loc[subsample[\"derived_ethnicity\"].isin(['Not Hispanic or Latino','Hispanic or Latino'])]\n",
        "subsample[\"derived_ethnicity\"] = subsample[\"derived_ethnicity\"].replace(['Not Hispanic or Latino','Hispanic or Latino'],[0,1])\n",
        "print(\"ethnicity:\",subsample[\"derived_ethnicity\"].unique())\n",
        "\n",
        "print(\"sex pre\",subsample[\"derived_sex\"].unique())\n",
        "subsample = subsample.loc[subsample[\"derived_sex\"].isin(['Male','Female'])]\n",
        "subsample[\"derived_sex\"] = subsample[\"derived_sex\"].replace(['Male','Female'],[0,1])\n",
        "print(\"sex:\",subsample[\"derived_sex\"].unique())\n",
        "\n",
        "\n",
        "subsample = subsample.loc[subsample[\"interest_rate\"]!='Exempt']\n",
        "subsample[\"interest_rate\"] = pd.to_numeric(subsample[\"interest_rate\"] ) \n",
        "\n",
        "#print(len(subsample.loc[subsample[\"loan_to_value_ratio\"]=='Exempt']))\n",
        "subsample = subsample.loc[subsample[\"loan_to_value_ratio\"]!='Exempt']\n",
        "#print(len(subsample.loc[subsample[\"loan_to_value_ratio\"]=='Exempt']))\n",
        "#print(subsample[\"loan_to_value_ratio\"])\n",
        "subsample[\"loan_to_value_ratio\"] = pd.to_numeric(subsample[\"loan_to_value_ratio\"] )  \n",
        "#print(subsample[\"loan_to_value_ratio\"].mean())\n",
        "\n",
        "subsample = subsample.loc[subsample[\"property_value\"]!='Exempt']\n",
        "subsample[\"property_value\"] = pd.to_numeric(subsample[\"property_value\"] ) \n",
        "\n",
        "print(len(subsample.loc[subsample[\"action_taken\"]==1]),len(subsample.loc[subsample[\"action_taken\"]==0]))\n",
        "\n",
        "print(len(subsample))\n",
        "#subsample = subsample[[\"loan_type\", \"property_type\", \"loan_purpose\", \"loan_amount_000s\",\n",
        "#                            \"action_taken\",\"applicant_ethnicity\",\"applicant_race_1\",\"applicant_sex\",\n",
        "#                           \"applicant_income_000s\"]]\n",
        "print(len(subsample.loc[subsample[\"action_taken\"]==1]),len(subsample.loc[subsample[\"action_taken\"]==0]))\n",
        "print(len(subsample),len(subsample.columns),subsample.isnull().values.sum())\n",
        "\n",
        "#thr=0.25\n",
        "#for col in subsample.columns:\n",
        "#  if (subsample[col].isnull().sum()>thr*len(subsample)):\n",
        "    #subsample.drop(columns=[col])\n",
        "#    print(col)\n",
        "\n",
        "#subsample = subsample.dropna(axis=1,thresh=thr*len(subsample))\n",
        "#subsample = subsample.dropna(axis=0)\n",
        "\n",
        "# Iterate over each column of cc_apps\n",
        "for col in subsample.columns:\n",
        "    # Check if the column is of object type\n",
        "    if subsample[col].dtypes == 'object':\n",
        "        # Impute with the most frequent value\n",
        "        subsample = subsample.fillna(subsample[col].value_counts().index[0])\n",
        "\n",
        "\n",
        "print(len(subsample.loc[subsample[\"action_taken\"]==1]),len(subsample.loc[subsample[\"action_taken\"]==0]))\n",
        "\n",
        "# Count the number of NaNs in the dataset and print the counts to verify\n",
        "print(len(subsample),len(subsample.columns),subsample.isnull().values.sum())\n",
        "cols = [f_ for f_ in subsample.columns if subsample[f_].dtype != 'object']\n",
        "features = cols\n",
        "\n",
        "list_to_remove = ['action_taken','purchaser_type', 'activity_year',\n",
        "                  'denial_reason_1','denial_reason_2','denial_reason_3','sequence_number','application_date_indicator']\n",
        "\n",
        "features = list(set(cols).difference(set(list_to_remove)))\n",
        "\n",
        "X = subsample[features]\n",
        "y = subsample['action_taken']\n",
        "\n",
        "# Import train_test_split\n",
        "from sklearn.model_selection import train_test_split\n",
        "# Split into train and test sets\n",
        "X_train, X_test, y_train, y_test = train_test_split(X,\n",
        "                                y,\n",
        "                                test_size=0.3,\n",
        "                                random_state=2)\n",
        "\n",
        "X_test1, X_test2, y_test1, y_test2 = train_test_split(X_test,\n",
        "                                y_test,\n",
        "                                test_size=0.33,\n",
        "                                random_state=2)\n",
        "\n",
        "scaler = MinMaxScaler(feature_range=(0, 1))\n",
        "rescaledX = scaler.fit_transform(X)\n",
        "rescaledX_train = scaler.fit_transform(X_train)\n",
        "rescaledX_test = scaler.fit_transform(X_test)\n",
        "rescaledX_test1 = scaler.fit_transform(X_test1)\n",
        "rescaledX_test2 = scaler.fit_transform(X_test2)\n",
        "\n",
        "logreg = LogisticRegression(solver=\"liblinear\")\n",
        "\n",
        "scores_dict = cross_validate(logreg,rescaledX_train,y_train,cv=5, return_estimator=True)\n",
        "best = scores_dict[\"estimator\"][0] \n",
        "\n",
        "\n",
        "y_pred = best.predict(rescaledX_test1)\n",
        "from collections import Counter\n",
        "counterpred = Counter(y_pred)\n",
        "countertest = Counter(y_test1)\n",
        "counterall = Counter(y)\n",
        "print(counterpred, countertest, counterall)\n",
        "print(\"Accuracy of logistic regression classifier: \", best.score(rescaledX_test1, y_test1))\n",
        "\n",
        "\n",
        "y_pred = best.predict(rescaledX_test2)\n",
        "counterpred = Counter(y_pred)\n",
        "countertest = Counter(y_test2)\n",
        "counterall = Counter(y)\n",
        "print(counterpred, countertest, counterall)\n",
        "print(\"Accuracy of logistic regression classifier: \", best.score(rescaledX_test2, y_test2))"
      ],
      "metadata": {
        "id": "emXzrJo7lyEp"
      },
      "execution_count": null,
      "outputs": []
    },
    {
      "cell_type": "code",
      "source": [
        "import math\n",
        "def partitions(n_partitions, X, y):\n",
        "  X_partitions = []\n",
        "  y_partitions = []\n",
        "  size_partitions = math.floor(len(X)/n_partitions)\n",
        "  for p in range(n_partitions):\n",
        "    X_partitions.append(X[p*size_partitions:(p+1)*size_partitions])  \n",
        "    y_partitions.append(y[p*size_partitions:(p+1)*size_partitions])\n",
        "  print(len(X), [sum(len(item) for item in X_partitions)], len(X_partitions[0]))\n",
        "  return X_partitions, y_partitions"
      ],
      "metadata": {
        "id": "IegTn5iooJed"
      },
      "execution_count": null,
      "outputs": []
    },
    {
      "cell_type": "code",
      "source": [
        "def create_df(x,xcol,y,ycol):\n",
        "  auxnparray = x.copy()\n",
        "  newdf = pd.DataFrame(auxnparray, columns = xcol)\n",
        "  newdf[ycol] = y.tolist()\n",
        "  return newdf"
      ],
      "metadata": {
        "id": "GPo_JbYdq8Nj"
      },
      "execution_count": null,
      "outputs": []
    },
    {
      "cell_type": "code",
      "source": [
        "def preproc(df):\n",
        "  subgroups = []\n",
        "  instances = []\n",
        "  sensitive = [\"derived_race\",\"derived_ethnicity\",\"derived_sex\"]\n",
        "  R = [\"W\",\"B\"]\n",
        "  E = [\"NH\",\"H\"]\n",
        "  S = [\"M\",\"F\"]\n",
        "  for option in [0,1]:\n",
        "    for option2 in [0,1]:\n",
        "      for option3 in [0,1]:\n",
        "          subgroups.append(df.loc[((df[sensitive[0]]==option) & (df[sensitive[1]]==option2) & (df[sensitive[2]]==option3))])\n",
        "          instances.append(len(subgroups[-1]))\n",
        "  return subgroups, instances"
      ],
      "metadata": {
        "id": "j4BpXFOGokwJ"
      },
      "execution_count": null,
      "outputs": []
    },
    {
      "cell_type": "code",
      "source": [
        "from scipy.stats import norm\n",
        "\n",
        "df = create_df(X,features,y,\"action_taken\")\n",
        "\n",
        "mean1, std1 = norm.fit(df.loc[df[\"action_taken\"]==1.0][\"loan_amount\"])\n",
        "\n",
        "mean0, std0 = norm.fit(df.loc[df[\"action_taken\"]==0.0][\"loan_amount\"])\n",
        "\n",
        "print(mean1, std1)\n",
        "print(mean0, std0)\n",
        "print()\n",
        "sg, ic = preproc(df)\n",
        "for s in sg:\n",
        "  approval_rate = len(s.loc[s[\"action_taken\"]==1.0])/len(s)\n",
        "  print(approval_rate)\n",
        "  mu, std = norm.fit(s[\"loan_amount\"])\n",
        "  print(mu,std)"
      ],
      "metadata": {
        "id": "esjQP1U8r8QN"
      },
      "execution_count": null,
      "outputs": []
    },
    {
      "cell_type": "code",
      "source": [
        "class PowerSocketReal:\n",
        "    \"\"\" the base power socket class \"\"\"\n",
        "    \n",
        "    def __init__(self, q, cl, var=1):                \n",
        "        self.q = q        # the true reward value \n",
        "        self.confidence_level = cl          \n",
        "        self.var = var   \n",
        "        self.initialize() # reset the socket\n",
        "        \n",
        "    def initialize(self):\n",
        "        self.Q = 0   # the estimate of this socket's reward value                \n",
        "        self.n = 0   # the number of times this socket has been tried        \n",
        "    \n",
        "    def charge(self):\n",
        "        \"\"\" return a random amount of charge \"\"\"\n",
        "        \n",
        "        # the reward is a guassian distribution with unit variance around the true\n",
        "        # value 'q'\n",
        "        # value = self.var * np.random.randn() + self.q      \n",
        "\n",
        "        #value = self.q.iloc[self.n][\"action_taken\"]\n",
        "\n",
        "        #value = self.q[\"action_taken\"].sample(n=1).iloc[0]\n",
        "\n",
        "        sample = self.q.sample(n=1)\n",
        "        if (sample[\"action_taken\"].iloc[0]==1.0):\n",
        "          value = sample[\"loan_amount\"].iloc[0]\n",
        "        else:\n",
        "          value = 0.0\n",
        "\n",
        "        # never allow a charge less than 0 to be returned        \n",
        "        return 0 if value < 0 else value\n",
        "               \n",
        "    def update(self,R):\n",
        "        \"\"\" update this socket after it has returned reward value 'R' \"\"\"     \n",
        "    \n",
        "        # increment the number of times this socket has been tried\n",
        "        self.n += 1\n",
        "\n",
        "        # the new estimate of the mean is calculated from the old estimate\n",
        "        self.Q = (1 - 1.0/self.n) * self.Q + (1.0/self.n) * R\n",
        "\n",
        "    def uncertainty(self, t): \n",
        "        \"\"\" calculate the uncertainty in the estimate of this socket's mean \"\"\"\n",
        "        if self.n == 0: return float('inf')                         \n",
        "        return self.confidence_level * (np.sqrt(np.log(t) / self.n))         \n",
        "        \n",
        "    def sample(self,t):\n",
        "        \"\"\" the UCB reward is the estimate of the mean reward plus its uncertainty \"\"\"\n",
        "        return self.Q + self.uncertainty(t) "
      ],
      "metadata": {
        "id": "Ae_OU1CKwcAH"
      },
      "execution_count": null,
      "outputs": []
    },
    {
      "cell_type": "code",
      "source": [
        "class SocketTesterBatchReal():\n",
        "    \"\"\" create and test a set of sockets over a single test run \"\"\"\n",
        "\n",
        "    def __init__(self, socket, socket_order, confidence_level):  \n",
        "        \n",
        "        # create supplied socket type with a mean value defined by socket order \n",
        "        self.sockets = [socket(q, confidence_level) for q in socket_order]     \n",
        "        \n",
        "        # set the number of sockets equal to the number created\n",
        "        self.number_of_sockets = len(self.sockets)\n",
        "\n",
        "        self.number_of_stats = 2                 \n",
        "            \n",
        "    def initialize_run(self, number_of_steps):\n",
        "        \"\"\" reset counters at the start of a run \"\"\"\n",
        "        \n",
        "        # save the number of steps over which the run will take place\n",
        "        self.number_of_steps = number_of_steps\n",
        "        \n",
        "        # reset the actual number of steps that the test ran for\n",
        "        self.total_steps = 0\n",
        "        \n",
        "        # monitor the total reward obtained over the run\n",
        "        self.total_reward = 0\n",
        "        \n",
        "        # the current total reward at each timestep of the run\n",
        "        self.total_reward_per_timestep = []\n",
        "        \n",
        "        # the actual reward obtained at each timestep\n",
        "        self.reward_per_timestep = []\n",
        "           \n",
        "        # stats for each time-step\n",
        "        # - by default records: estimate, number of trials\n",
        "        self.socket_stats = np.zeros(shape=(number_of_steps+1, \n",
        "                                            self.number_of_sockets, \n",
        "                                            self.number_of_stats))\n",
        "        \n",
        "        # ensure that all sockets are re-initialized\n",
        "        for socket in self.sockets: socket.initialize()\n",
        "            \n",
        "                                \n",
        "    def charge_and_update(self,socket_index):\n",
        "        \"\"\" charge from & update the specified socket and associated parameters \"\"\"\n",
        "        \n",
        "        # charge from the chosen socket and update its mean reward value\n",
        "        reward = self.sockets[socket_index].charge()\n",
        "        self.sockets[socket_index].update(reward)\n",
        "\n",
        "        # update the total reward\n",
        "        self.total_reward += reward   \n",
        "        \n",
        "        # store the current total reward at this timestep\n",
        "        self.total_reward_per_timestep.append(self.total_reward)\n",
        "        \n",
        "        # store the reward obtained at this timestep\n",
        "        self.reward_per_timestep.append(reward)        \n",
        "        \n",
        "        \n",
        "    def get_socket_stats( self, t ):\n",
        "        \"\"\" get the current information from each socket \"\"\"        \n",
        "        socket_stats = [[socket.Q, socket.n] for socket in self.sockets]\n",
        "        return socket_stats     \n",
        "    \n",
        "    def get_mean_reward( self ):\n",
        "        \"\"\" the total reward averaged over the number of time steps \"\"\"\n",
        "        return (self.total_reward/self.total_steps)\n",
        "    \n",
        "    def get_total_reward_per_timestep( self ):\n",
        "        \"\"\" the cumulative total reward at each timestep of the run \"\"\"\n",
        "        return self.total_reward_per_timestep\n",
        "    \n",
        "    def get_reward_per_timestep( self ):\n",
        "        \"\"\" the actual reward obtained at each timestep of the run \"\"\"\n",
        "        return self.reward_per_timestep\n",
        "    \n",
        "    def get_estimates(self):\n",
        "        \"\"\" get the estimate of each socket's reward at each timestep of the run \"\"\"\n",
        "        return self.socket_stats[:,:,0]  \n",
        "    \n",
        "    def get_number_of_trials(self):\n",
        "        \"\"\" get the number of trials of each socket at each timestep of the run \"\"\"\n",
        "        return self.socket_stats[:,:,1]          \n",
        "                \n",
        "    def get_socket_percentages( self ):\n",
        "        \"\"\" get the percentage of times each socket was tried over the run \"\"\"\n",
        "        return (self.socket_stats[:,:,1][self.total_steps]/self.total_steps)        \n",
        "    \n",
        "    def get_time_steps( self ):\n",
        "        \"\"\" get the number of time steps that the test ran for \"\"\"\n",
        "        return self.total_steps\n",
        "    \n",
        "    def select_socket( self, t ):\n",
        "        \"\"\" Greedy Socket Selection\"\"\"\n",
        "        \n",
        "        # choose the socket with the current highest mean reward or arbitrarily\n",
        "        # select a socket in the case of a tie            \n",
        "        mask = [self.get_number_of_trials()[t][i]<self.possibles[i] for i in range(len(self.sockets))]\n",
        "        #print(mask)\n",
        "        available = [self.sockets[i] for i in range(len(self.sockets)) if (mask[i])]\n",
        "        #print([socket.sample(t+1) for socket in available])\n",
        "        socket_max = random_argmax([socket.sample(t+1) for socket in available]) \n",
        "        #print(socket_max)\n",
        "        socket_index = self.sockets.index(available[socket_max])\n",
        "        return socket_index     \n",
        "    \n",
        "    def return_increments(self, decisions_to_consider):\n",
        "        presence = np.array([i/len(decisions_to_consider) for i in self.possibles])\n",
        "        selected_presence = np.array(self.get_socket_percentages())\n",
        "        diff = np.subtract(selected_presence, presence)\n",
        "        #print(diff)\n",
        "        #print(diff.sum())\n",
        "        return diff\n",
        "    \n",
        "    def run( self, decisions_to_consider, class_count, max_percent_decisions=1, prints_bool = True):  \n",
        "        \"\"\" perform a single run, over the set of sockets, \n",
        "            for the defined number of steps \"\"\"\n",
        "        \n",
        "        for s in range(len(self.sockets)):\n",
        "          self.sockets[s].q = decisions_to_consider[s]     \n",
        "\n",
        "        # reset the run counters\n",
        "        self.initialize_run(sum(class_count))\n",
        "\n",
        "        self.possibles = class_count\n",
        "        print(self.possibles)\n",
        "\n",
        "        usos = 0\n",
        "        usos_maxims = math.floor(max_percent_decisions*sum(class_count))\n",
        "        #print(usos_maxims)\n",
        "\n",
        "        # loop for the specified number of time-steps\n",
        "        for t in range(sum(class_count)):\n",
        "\n",
        "            # get information about all sockets at the start of the time step\n",
        "            self.socket_stats[t] = self.get_socket_stats(t)            \n",
        "            \n",
        "            # select a socket\n",
        "            socket_index = self.select_socket(t)\n",
        "            #if(decisions_to_consider[t]==socket_index):\n",
        "            if(self.get_number_of_trials()[t][socket_index]<self.possibles[socket_index]):\n",
        "              # charge from the chosen socket and update its mean reward value\n",
        "              self.charge_and_update(socket_index)\n",
        "              usos+=1\n",
        "              \n",
        "              if usos > usos_maxims:\n",
        "                  #print(usos,usos_maxims)\n",
        "                  break\n",
        "        # save the actual number of steps that have been run\n",
        "        self.total_steps = t    \n",
        "    \n",
        "        # get the stats for each socket at the end of the run        \n",
        "        self.socket_stats[t+1] = self.get_socket_stats(t+1)           \n",
        "        \n",
        "        if(prints_bool):\n",
        "          #print(\"Reward distribution:\",[s.q for s in self.sockets])\n",
        "          #print(\"Intances of each cluster:\",self.possibles)\n",
        "          print(\"Presence of each in batch (%):\",[100*i/sum(class_count) for i in self.possibles])\n",
        "          #print(\"Times selected:\",self.get_number_of_trials()[t])\n",
        "          print(\"Relative approval rate (%):\",[round(100*self.get_number_of_trials()[t][i]/self.possibles[i],2) if self.possibles[i]>0.0 else 0.0 for i in range(len(self.possibles))])\n",
        "          print(\"Percentage over total selected (%):\",[round(100*p,2) for p in self.get_socket_percentages()])\n",
        "          #print(\"For a total reward:\",self.total_reward)\n",
        "\n",
        "\n",
        "        return self.total_steps, self.total_reward, self.return_increments(decisions_to_consider)"
      ],
      "metadata": {
        "id": "xXijNePRwjld"
      },
      "execution_count": null,
      "outputs": []
    },
    {
      "cell_type": "code",
      "source": [
        "class SocketTesterBatchRealBudget():\n",
        "    \"\"\" create and test a set of sockets over a single test run \"\"\"\n",
        "\n",
        "    def __init__(self, socket, socket_order, confidence_level):  \n",
        "        \n",
        "        # create supplied socket type with a mean value defined by socket order \n",
        "        self.sockets = [socket(q, confidence_level) for q in socket_order]     \n",
        "        \n",
        "        # set the number of sockets equal to the number created\n",
        "        self.number_of_sockets = len(self.sockets)\n",
        "\n",
        "        self.number_of_stats = 2                 \n",
        "            \n",
        "    def initialize_run(self, number_of_steps):\n",
        "        \"\"\" reset counters at the start of a run \"\"\"\n",
        "        \n",
        "        # save the number of steps over which the run will take place\n",
        "        self.number_of_steps = number_of_steps\n",
        "        \n",
        "        # reset the actual number of steps that the test ran for\n",
        "        self.total_steps = 0\n",
        "        \n",
        "        # monitor the total reward obtained over the run\n",
        "        self.total_reward = 0\n",
        "        \n",
        "        # the current total reward at each timestep of the run\n",
        "        self.total_reward_per_timestep = []\n",
        "        \n",
        "        # the actual reward obtained at each timestep\n",
        "        self.reward_per_timestep = []\n",
        "           \n",
        "        # stats for each time-step\n",
        "        # - by default records: estimate, number of trials\n",
        "        self.socket_stats = np.zeros(shape=(number_of_steps+1, \n",
        "                                            self.number_of_sockets, \n",
        "                                            self.number_of_stats))\n",
        "        \n",
        "        # ensure that all sockets are re-initialized\n",
        "        for socket in self.sockets: socket.initialize()\n",
        "            \n",
        "                                \n",
        "    def charge_and_update(self,socket_index):\n",
        "        \"\"\" charge from & update the specified socket and associated parameters \"\"\"\n",
        "        \n",
        "        # charge from the chosen socket and update its mean reward value\n",
        "        reward = self.sockets[socket_index].charge()\n",
        "        self.sockets[socket_index].update(reward)\n",
        "\n",
        "        # update the total reward\n",
        "        self.total_reward += reward  \n",
        "        self.budget -= reward \n",
        "        \n",
        "        # store the current total reward at this timestep\n",
        "        self.total_reward_per_timestep.append(self.total_reward)\n",
        "        \n",
        "        # store the reward obtained at this timestep\n",
        "        self.reward_per_timestep.append(reward)        \n",
        "        \n",
        "        \n",
        "    def get_socket_stats( self, t ):\n",
        "        \"\"\" get the current information from each socket \"\"\"        \n",
        "        socket_stats = [[socket.Q, socket.n] for socket in self.sockets]\n",
        "        return socket_stats     \n",
        "    \n",
        "    def get_mean_reward( self ):\n",
        "        \"\"\" the total reward averaged over the number of time steps \"\"\"\n",
        "        return (self.total_reward/self.total_steps)\n",
        "    \n",
        "    def get_total_reward_per_timestep( self ):\n",
        "        \"\"\" the cumulative total reward at each timestep of the run \"\"\"\n",
        "        return self.total_reward_per_timestep\n",
        "    \n",
        "    def get_reward_per_timestep( self ):\n",
        "        \"\"\" the actual reward obtained at each timestep of the run \"\"\"\n",
        "        return self.reward_per_timestep\n",
        "    \n",
        "    def get_estimates(self):\n",
        "        \"\"\" get the estimate of each socket's reward at each timestep of the run \"\"\"\n",
        "        return self.socket_stats[:,:,0]  \n",
        "    \n",
        "    def get_number_of_trials(self):\n",
        "        \"\"\" get the number of trials of each socket at each timestep of the run \"\"\"\n",
        "        return self.socket_stats[:,:,1]          \n",
        "                \n",
        "    def get_socket_percentages( self ):\n",
        "        \"\"\" get the percentage of times each socket was tried over the run \"\"\"\n",
        "        return (self.socket_stats[:,:,1][self.total_steps]/self.total_steps)        \n",
        "    \n",
        "    def get_time_steps( self ):\n",
        "        \"\"\" get the number of time steps that the test ran for \"\"\"\n",
        "        return self.total_steps\n",
        "    \n",
        "    def select_socket( self, t ):\n",
        "        \"\"\" Greedy Socket Selection\"\"\"\n",
        "        \n",
        "        # choose the socket with the current highest mean reward or arbitrarily\n",
        "        # select a socket in the case of a tie            \n",
        "        mask = [self.get_number_of_trials()[t][i]<self.possibles[i] for i in range(len(self.sockets))]\n",
        "        #print(mask)\n",
        "        available = [self.sockets[i] for i in range(len(self.sockets)) if (mask[i])]\n",
        "        #print([socket.sample(t+1) for socket in available])\n",
        "        socket_max = random_argmax([socket.sample(t+1) for socket in available]) \n",
        "        #print(socket_max)\n",
        "        socket_index = self.sockets.index(available[socket_max])\n",
        "        return socket_index     \n",
        "    \n",
        "    def return_increments(self, decisions_to_consider):\n",
        "        presence = np.array([i/len(decisions_to_consider) for i in self.possibles])\n",
        "        selected_presence = np.array(self.get_socket_percentages())\n",
        "        diff = np.subtract(selected_presence, presence)\n",
        "        #print(diff)\n",
        "        #print(diff.sum())\n",
        "        return diff\n",
        "    \n",
        "    def run( self, decisions_to_consider, class_count, budget, prints_bool = True):  \n",
        "        \"\"\" perform a single run, over the set of sockets, \n",
        "            for the defined number of steps \"\"\"\n",
        "        \n",
        "        for s in range(len(self.sockets)):\n",
        "          self.sockets[s].q = decisions_to_consider[s]     \n",
        "\n",
        "        # reset the run counters\n",
        "        self.initialize_run(sum(class_count))\n",
        "\n",
        "        self.possibles = class_count\n",
        "        print(self.possibles)\n",
        "\n",
        "        usos = 0\n",
        "        self.budget = budget\n",
        "        #print(usos_maxims)\n",
        "\n",
        "        # loop for the specified number of time-steps\n",
        "        for t in range(sum(class_count)):\n",
        "\n",
        "            # get information about all sockets at the start of the time step\n",
        "            self.socket_stats[t] = self.get_socket_stats(t)            \n",
        "            \n",
        "            # select a socket\n",
        "            socket_index = self.select_socket(t)\n",
        "            #if(decisions_to_consider[t]==socket_index):\n",
        "            if(self.get_number_of_trials()[t][socket_index]<self.possibles[socket_index]):\n",
        "              # charge from the chosen socket and update its mean reward value\n",
        "              self.charge_and_update(socket_index)\n",
        "              usos+=1\n",
        "            if self.budget-max(self.get_estimates()[t]) < 0:\n",
        "              break\n",
        "        # save the actual number of steps that have been run\n",
        "        self.total_steps = t    \n",
        "    \n",
        "        # get the stats for each socket at the end of the run        \n",
        "        self.socket_stats[t+1] = self.get_socket_stats(t+1)           \n",
        "        \n",
        "        if(prints_bool):\n",
        "          #print(\"Reward distribution:\",[s.q for s in self.sockets])\n",
        "          #print(\"Intances of each cluster:\",self.possibles)\n",
        "          print(\"Presence of each in batch (%):\",[100*i/sum(class_count) for i in self.possibles])\n",
        "          #print(\"Times selected:\",self.get_number_of_trials()[t])\n",
        "          print(\"Relative approval rate (%):\",[round(100*self.get_number_of_trials()[t][i]/self.possibles[i],2) if self.possibles[i]>0.0 else 0.0 for i in range(len(self.possibles))])\n",
        "          print(\"Percentage over total selected (%):\",[round(100*p,2) for p in self.get_socket_percentages()])\n",
        "          #print(\"For a total reward:\",self.total_reward)\n",
        "\n",
        "\n",
        "        return self.total_steps, self.total_reward, self.return_increments(decisions_to_consider)"
      ],
      "metadata": {
        "id": "Z96JhtTu457M"
      },
      "execution_count": null,
      "outputs": []
    },
    {
      "cell_type": "code",
      "source": [
        "real_test = SocketTesterBatchReal(PowerSocketReal, [[0]]*8, 5)\n",
        "print(real_test.sockets)\n",
        "\n",
        "\n",
        "X_p, y_p = partitions(4,X,y)\n",
        "for b in range(4):\n",
        "  batch = create_df(X_p[b],features,y_p[b],\"action_taken\")\n",
        "  sg, ic = preproc(batch)\n",
        "  ts,tr,ti = real_test.run(sg, ic, 0.8, True)"
      ],
      "metadata": {
        "id": "iorlUCPu6bVC"
      },
      "execution_count": null,
      "outputs": []
    },
    {
      "cell_type": "code",
      "source": [
        "real_test = SocketTesterBatchRealBudget(PowerSocketReal, [[0]]*8, 5)\n",
        "print(real_test.sockets)\n",
        "\n",
        "\n",
        "X_p, y_p = partitions(10,X,y)\n",
        "for b in range(10):\n",
        "  batch = create_df(X_p[b],features,y_p[b],\"action_taken\")\n",
        "  budget = batch[\"loan_amount\"].sum()\n",
        "  sg, ic = preproc(batch)\n",
        "  ts,tr,ti = real_test.run(sg, ic, 0.8*budget, True)"
      ],
      "metadata": {
        "id": "SlZlmElzzZbA"
      },
      "execution_count": null,
      "outputs": []
    },
    {
      "cell_type": "code",
      "source": [
        "real_test = SocketTesterBatchRealBudget(PowerSocketReal, [[0]]*8, 5)\n",
        "print(real_test.sockets)\n",
        "\n",
        "\n",
        "X_p, y_p = partitions(1,X,y)\n",
        "for b in range(1):\n",
        "  batch = create_df(X_p[b],features,y_p[b],\"action_taken\")\n",
        "  #budget = batch[\"loan_amount\"].sum()\n",
        "  budget=0\n",
        "  sg, ic = preproc(batch)\n",
        "  min_amount = min(ic)\n",
        "  for s in range(len(sg)):\n",
        "    sg[s] = sg[s].sample(n=min_amount)\n",
        "    budget += sg[s][\"loan_amount\"].sum()\n",
        "  ts,tr,ti = real_test.run(sg, [min_amount]*8, 0.8*budget, True)"
      ],
      "metadata": {
        "id": "b-DTTM7J_0Eh"
      },
      "execution_count": null,
      "outputs": []
    }
  ]
}