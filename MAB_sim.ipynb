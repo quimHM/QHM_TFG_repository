{
  "nbformat": 4,
  "nbformat_minor": 0,
  "metadata": {
    "colab": {
      "name": "MAB_sim.ipynb",
      "provenance": [],
      "collapsed_sections": [],
      "authorship_tag": "ABX9TyON/Sr0u9LdwWMaFGb4Bniy",
      "include_colab_link": true
    },
    "kernelspec": {
      "name": "python3",
      "display_name": "Python 3"
    },
    "language_info": {
      "name": "python"
    }
  },
  "cells": [
    {
      "cell_type": "markdown",
      "metadata": {
        "id": "view-in-github",
        "colab_type": "text"
      },
      "source": [
        "<a href=\"https://colab.research.google.com/github/quimHM/QHM_TFG_repository/blob/main/MAB_sim.ipynb\" target=\"_parent\"><img src=\"https://colab.research.google.com/assets/colab-badge.svg\" alt=\"Open In Colab\"/></a>"
      ]
    },
    {
      "cell_type": "code",
      "source": [
        "#https://towardsdatascience.com/multi-armed-bandits-and-reinforcement-learning-dc9001dcb8da\n",
        "#https://towardsdatascience.com/the-upper-confidence-bound-ucb-bandit-algorithm-c05c2bf4c13f\n",
        "\n",
        "#https://github.com/WhatIThinkAbout/BabyRobot/tree/master/Multi_Armed_Bandits"
      ],
      "metadata": {
        "id": "lch3cBlMon8x"
      },
      "execution_count": 385,
      "outputs": []
    },
    {
      "cell_type": "code",
      "source": [
        ""
      ],
      "metadata": {
        "id": "7XlcGP0_on6J"
      },
      "execution_count": 385,
      "outputs": []
    },
    {
      "cell_type": "code",
      "source": [
        "# import modules \n",
        "import numpy as np \n",
        "import matplotlib.pyplot as plt \n",
        "import pandas as pd \n",
        "%matplotlib inline"
      ],
      "metadata": {
        "id": "0Oh75adZ2qAY"
      },
      "execution_count": 386,
      "outputs": []
    },
    {
      "cell_type": "code",
      "source": [
        "class eps_bandit:\n",
        "    '''\n",
        "    epsilon-greedy k-bandit problem\n",
        "    \n",
        "    Inputs\n",
        "    =====================================================\n",
        "    k: number of arms (int)\n",
        "    eps: probability of random action 0 < eps < 1 (float)\n",
        "    iters: number of steps (int)\n",
        "    mu: set the average rewards for each of the k-arms.\n",
        "        Set to \"random\" for the rewards to be selected from\n",
        "        a normal distribution with mean = 0. \n",
        "        Set to \"sequence\" for the means to be ordered from \n",
        "        0 to k-1.\n",
        "        Pass a list or array of length = k for user-defined\n",
        "        values.\n",
        "    '''\n",
        "    \n",
        "    def __init__(self, k, eps, iters, mu='random'):\n",
        "        # Number of arms\n",
        "        self.k = k\n",
        "        # Search probability\n",
        "        self.eps = eps\n",
        "        # Number of iterations\n",
        "        self.iters = iters\n",
        "        # Step count\n",
        "        self.n = 0\n",
        "        # Step count for each arm\n",
        "        self.k_n = np.zeros(k)\n",
        "        # Total mean reward\n",
        "        self.mean_reward = 0\n",
        "        self.reward = np.zeros(iters)\n",
        "        # Mean reward for each arm\n",
        "        self.k_reward = np.zeros(k)\n",
        "        \n",
        "        if type(mu) == list or type(mu).__module__ == np.__name__:\n",
        "            # User-defined averages            \n",
        "            self.mu = np.array(mu)\n",
        "        elif mu == 'random':\n",
        "            # Draw means from probability distribution\n",
        "            self.mu = np.random.normal(0, 1, k)\n",
        "        elif mu == 'sequence':\n",
        "            # Increase the mean for each arm by one\n",
        "            self.mu = np.linspace(0, k-1, k)\n",
        "        \n",
        "    def pull(self):\n",
        "        # Generate random number\n",
        "        p = np.random.rand()\n",
        "        if self.eps == 0 and self.n == 0:\n",
        "            a = np.random.choice(self.k)\n",
        "        elif p < self.eps:\n",
        "            # Randomly select an action\n",
        "            a = np.random.choice(self.k)\n",
        "        else:\n",
        "            # Take greedy action\n",
        "            a = np.argmax(self.k_reward)\n",
        "            \n",
        "        reward = np.random.normal(self.mu[a], 1)\n",
        "        \n",
        "        # Update counts\n",
        "        self.n += 1\n",
        "        self.k_n[a] += 1\n",
        "        \n",
        "        # Update total\n",
        "        self.mean_reward = self.mean_reward + (\n",
        "            reward - self.mean_reward) / self.n\n",
        "        \n",
        "        # Update results for a_k\n",
        "        self.k_reward[a] = self.k_reward[a] + (\n",
        "            reward - self.k_reward[a]) / self.k_n[a]\n",
        "        \n",
        "    def run(self):\n",
        "        for i in range(self.iters):\n",
        "            self.pull()\n",
        "            self.reward[i] = self.mean_reward\n",
        "            \n",
        "    def reset(self):\n",
        "        # Resets results while keeping settings\n",
        "        self.n = 0\n",
        "        self.k_n = np.zeros(k)\n",
        "        self.mean_reward = 0\n",
        "        self.reward = np.zeros(iters)\n",
        "        self.k_reward = np.zeros(k)"
      ],
      "metadata": {
        "id": "z0OMYjEF2nCt"
      },
      "execution_count": 387,
      "outputs": []
    },
    {
      "cell_type": "code",
      "source": [
        "k = 8\n",
        "iters = 1000\n",
        "\n",
        "eps_0_rewards = np.zeros(iters)\n",
        "eps_01_rewards = np.zeros(iters)\n",
        "eps_1_rewards = np.zeros(iters)\n",
        "\n",
        "hmda_mu = [85.55, 81.93, 82.84, 79.94, 71.03, 66.35, 74.71, 67.31]\n",
        "\n",
        "episodes = 1000\n",
        "# Run experiments\n",
        "for i in range(episodes):\n",
        "    # Initialize bandits\n",
        "    eps_0 = eps_bandit(k, 0, iters, hmda_mu)\n",
        "    eps_01 = eps_bandit(k, 0.01, iters, eps_0.mu.copy())\n",
        "    eps_1 = eps_bandit(k, 0.1, iters, eps_0.mu.copy())\n",
        "    \n",
        "    # Run experiments\n",
        "    eps_0.run()\n",
        "    eps_01.run()\n",
        "    eps_1.run()\n",
        "    \n",
        "    # Update long-term averages\n",
        "    eps_0_rewards = eps_0_rewards + (\n",
        "        eps_0.reward - eps_0_rewards) / (i + 1)\n",
        "    eps_01_rewards = eps_01_rewards + (\n",
        "        eps_01.reward - eps_01_rewards) / (i + 1)\n",
        "    eps_1_rewards = eps_1_rewards + (\n",
        "        eps_1.reward - eps_1_rewards) / (i + 1)\n",
        "    \n",
        "plt.figure(figsize=(12,8))\n",
        "plt.plot(eps_0_rewards, label=\"$\\epsilon=0$ (greedy)\")\n",
        "plt.plot(eps_01_rewards, label=\"$\\epsilon=0.01$\")\n",
        "plt.plot(eps_1_rewards, label=\"$\\epsilon=0.1$\")\n",
        "plt.legend(bbox_to_anchor=(1.3, 0.5))\n",
        "plt.xlabel(\"Iterations\")\n",
        "plt.ylabel(\"Average Reward\")\n",
        "plt.title(\"Average $\\epsilon-greedy$ Rewards after \" + str(episodes) \n",
        "    + \" Episodes\")\n",
        "plt.show()"
      ],
      "metadata": {
        "colab": {
          "base_uri": "https://localhost:8080/",
          "height": 514
        },
        "id": "Eng2RpnH3RDI",
        "outputId": "fe763e0c-5572-4f52-dcf0-f3feb882243a"
      },
      "execution_count": 388,
      "outputs": [
        {
          "output_type": "display_data",
          "data": {
            "text/plain": [
              "<Figure size 864x576 with 1 Axes>"
            ],
            "image/png": "[encoded data removed]"
          },
          "metadata": {
            "needs_background": "light"
          }
        }
      ]
    },
    {
      "cell_type": "code",
      "source": [
        "print(eps_01.k_n)"
      ],
      "metadata": {
        "colab": {
          "base_uri": "https://localhost:8080/"
        },
        "id": "1gRXW7kx6pjQ",
        "outputId": "cdbc9ee1-748e-4609-8db0-3ae1799f8290"
      },
      "execution_count": 389,
      "outputs": [
        {
          "output_type": "stream",
          "name": "stdout",
          "text": [
            "[993.   3.   1.   1.   1.   0.   0.   1.]\n"
          ]
        }
      ]
    },
    {
      "cell_type": "markdown",
      "source": [
        "## **RELLEVANT A PARTIR D'AQUÍ**"
      ],
      "metadata": {
        "id": "aUMvXUazpo9j"
      }
    },
    {
      "cell_type": "code",
      "source": [
        "class PowerSocket:\n",
        "    \"\"\" the base power socket class \"\"\"\n",
        "    \n",
        "    def __init__(self, q, cl):                \n",
        "        self.q = q        # the true reward value \n",
        "        self.confidence_level = cl             \n",
        "        self.initialize() # reset the socket\n",
        "        \n",
        "    def initialize(self):\n",
        "        self.Q = 0   # the estimate of this socket's reward value                \n",
        "        self.n = 0   # the number of times this socket has been tried        \n",
        "    \n",
        "    def charge(self):\n",
        "        \"\"\" return a random amount of charge \"\"\"\n",
        "        \n",
        "        # the reward is a guassian distribution with unit variance around the true\n",
        "        # value 'q'\n",
        "        value = np.random.randn() + self.q        \n",
        "        \n",
        "        # never allow a charge less than 0 to be returned        \n",
        "        return 0 if value < 0 else value\n",
        "                    \n",
        "    def update(self,R):\n",
        "        \"\"\" update this socket after it has returned reward value 'R' \"\"\"     \n",
        "    \n",
        "        # increment the number of times this socket has been tried\n",
        "        self.n += 1\n",
        "\n",
        "        # the new estimate of the mean is calculated from the old estimate\n",
        "        self.Q = (1 - 1.0/self.n) * self.Q + (1.0/self.n) * R\n",
        "\n",
        "    def uncertainty(self, t): \n",
        "        \"\"\" calculate the uncertainty in the estimate of this socket's mean \"\"\"\n",
        "        if self.n == 0: return float('inf')                         \n",
        "        return self.confidence_level * (np.sqrt(np.log(t) / self.n))         \n",
        "        \n",
        "    def sample(self,t):\n",
        "        \"\"\" the UCB reward is the estimate of the mean reward plus its uncertainty \"\"\"\n",
        "        return self.Q + self.uncertainty(t) "
      ],
      "metadata": {
        "id": "p8tfQUa07n9G"
      },
      "execution_count": 390,
      "outputs": []
    },
    {
      "cell_type": "code",
      "source": [
        "# return the index of the largest value in the supplied list\n",
        "# - arbitrarily select between the largest values in the case of a tie\n",
        "# (the standard np.argmax just chooses the first value in the case of a tie)\n",
        "def random_argmax(value_list):\n",
        "  \"\"\" a random tie-breaking argmax\"\"\"\n",
        "  values = np.asarray(value_list)\n",
        "  return np.argmax(np.random.random(values.shape) * (values==values.max()))\n"
      ],
      "metadata": {
        "id": "AnVMnmyuEth1"
      },
      "execution_count": 391,
      "outputs": []
    },
    {
      "cell_type": "code",
      "source": [
        "class SocketTester():\n",
        "    \"\"\" create and test a set of sockets over a single test run \"\"\"\n",
        "\n",
        "    def __init__(self, socket, socket_order, confidence_level ):  \n",
        "        \n",
        "        # create supplied socket type with a mean value defined by socket order \n",
        "        self.sockets = [socket(q, confidence_level) for q in socket_order]     \n",
        "        \n",
        "        # set the number of sockets equal to the number created\n",
        "        self.number_of_sockets = len(self.sockets)\n",
        "\n",
        "        self.number_of_stats = 2                 \n",
        "            \n",
        "    def initialize_run(self, number_of_steps):\n",
        "        \"\"\" reset counters at the start of a run \"\"\"\n",
        "        \n",
        "        # save the number of steps over which the run will take place\n",
        "        self.number_of_steps = number_of_steps\n",
        "        \n",
        "        # reset the actual number of steps that the test ran for\n",
        "        self.total_steps = 0\n",
        "        \n",
        "        # monitor the total reward obtained over the run\n",
        "        self.total_reward = 0\n",
        "        \n",
        "        # the current total reward at each timestep of the run\n",
        "        self.total_reward_per_timestep = []\n",
        "        \n",
        "        # the actual reward obtained at each timestep\n",
        "        self.reward_per_timestep = []\n",
        "           \n",
        "        # stats for each time-step\n",
        "        # - by default records: estimate, number of trials\n",
        "        self.socket_stats = np.zeros(shape=(number_of_steps+1, \n",
        "                                            self.number_of_sockets, \n",
        "                                            self.number_of_stats))\n",
        "        \n",
        "        # ensure that all sockets are re-initialized\n",
        "        for socket in self.sockets: socket.initialize()\n",
        "            \n",
        "                                \n",
        "    def charge_and_update(self,socket_index):\n",
        "        \"\"\" charge from & update the specified socket and associated parameters \"\"\"\n",
        "        \n",
        "        # charge from the chosen socket and update its mean reward value\n",
        "        reward = self.sockets[socket_index].charge()\n",
        "        self.sockets[socket_index].update(reward)\n",
        "\n",
        "        # update the total reward\n",
        "        self.total_reward += reward   \n",
        "        \n",
        "        # store the current total reward at this timestep\n",
        "        self.total_reward_per_timestep.append(self.total_reward)\n",
        "        \n",
        "        # store the reward obtained at this timestep\n",
        "        self.reward_per_timestep.append(reward)        \n",
        "        \n",
        "        \n",
        "    def get_socket_stats( self, t ):\n",
        "        \"\"\" get the current information from each socket \"\"\"        \n",
        "        socket_stats = [[socket.Q, socket.n] for socket in self.sockets]\n",
        "        return socket_stats     \n",
        "    \n",
        "    def get_mean_reward( self ):\n",
        "        \"\"\" the total reward averaged over the number of time steps \"\"\"\n",
        "        return (self.total_reward/self.total_steps)\n",
        "    \n",
        "    def get_total_reward_per_timestep( self ):\n",
        "        \"\"\" the cumulative total reward at each timestep of the run \"\"\"\n",
        "        return self.total_reward_per_timestep\n",
        "    \n",
        "    def get_reward_per_timestep( self ):\n",
        "        \"\"\" the actual reward obtained at each timestep of the run \"\"\"\n",
        "        return self.reward_per_timestep\n",
        "    \n",
        "    def get_estimates(self):\n",
        "        \"\"\" get the estimate of each socket's reward at each timestep of the run \"\"\"\n",
        "        return self.socket_stats[:,:,0]  \n",
        "    \n",
        "    def get_number_of_trials(self):\n",
        "        \"\"\" get the number of trials of each socket at each timestep of the run \"\"\"\n",
        "        return self.socket_stats[:,:,1]          \n",
        "                \n",
        "    def get_socket_percentages( self ):\n",
        "        \"\"\" get the percentage of times each socket was tried over the run \"\"\"\n",
        "        return (self.socket_stats[:,:,1][self.total_steps]/self.total_steps)        \n",
        "    \n",
        "    def get_time_steps( self ):\n",
        "        \"\"\" get the number of time steps that the test ran for \"\"\"\n",
        "        return self.total_steps\n",
        "    \n",
        "    def select_socket( self, t ):\n",
        "        \"\"\" Greedy Socket Selection\"\"\"\n",
        "        \n",
        "        # choose the socket with the current highest mean reward or arbitrarily\n",
        "        # select a socket in the case of a tie            \n",
        "        socket_index = random_argmax([socket.sample(t+1) for socket in self.sockets]) \n",
        "        return socket_index     \n",
        "    \n",
        "    \n",
        "    def run( self, number_of_steps, maximum_total_reward = float('inf')):  \n",
        "        \"\"\" perform a single run, over the set of sockets, \n",
        "            for the defined number of steps \"\"\"\n",
        "        \n",
        "        # reset the run counters\n",
        "        self.initialize_run(number_of_steps)\n",
        "        \n",
        "        # loop for the specified number of time-steps\n",
        "        for t in range(number_of_steps):\n",
        "\n",
        "            # get information about all sockets at the start of the time step\n",
        "            self.socket_stats[t] = self.get_socket_stats(t)            \n",
        "            \n",
        "            # select a socket\n",
        "            socket_index = self.select_socket(t)\n",
        "            \n",
        "            # charge from the chosen socket and update its mean reward value\n",
        "            self.charge_and_update(socket_index)\n",
        "            \n",
        "            # test if the accumulated total reward is greater than the maximum\n",
        "            if self.total_reward > maximum_total_reward:\n",
        "                break\n",
        "       \n",
        "        # save the actual number of steps that have been run\n",
        "        self.total_steps = t    \n",
        "    \n",
        "        # get the stats for each socket at the end of the run        \n",
        "        self.socket_stats[t+1] = self.get_socket_stats(t+1)           \n",
        "        \n",
        "        return self.total_steps, self.total_reward\n",
        "  "
      ],
      "metadata": {
        "id": "zCz0kAoMAizG"
      },
      "execution_count": 392,
      "outputs": []
    },
    {
      "cell_type": "code",
      "source": [
        "test = SocketTester(PowerSocket, [85.55, 81.93, 82.84, 79.94, 71.03, 66.35, 74.71, 67.31], 5)\n",
        "test.run(1000)\n",
        "test.get_number_of_trials()[-1]"
      ],
      "metadata": {
        "colab": {
          "base_uri": "https://localhost:8080/"
        },
        "id": "pnakDg5QCwfq",
        "outputId": "ee6288d4-1e5f-49dc-8362-017be5589ae9"
      },
      "execution_count": 393,
      "outputs": [
        {
          "output_type": "execute_result",
          "data": {
            "text/plain": [
              "array([962.,  10.,  17.,   6.,   1.,   1.,   2.,   1.])"
            ]
          },
          "metadata": {},
          "execution_count": 393
        }
      ]
    },
    {
      "cell_type": "code",
      "source": [
        "class SocketTesterBatch():\n",
        "    \"\"\" create and test a set of sockets over a single test run \"\"\"\n",
        "\n",
        "    def __init__(self, socket, socket_order, confidence_level):  \n",
        "        \n",
        "        # create supplied socket type with a mean value defined by socket order \n",
        "        self.sockets = [socket(q, confidence_level) for q in socket_order]     \n",
        "        \n",
        "        # set the number of sockets equal to the number created\n",
        "        self.number_of_sockets = len(self.sockets)\n",
        "\n",
        "        self.number_of_stats = 2                 \n",
        "            \n",
        "    def initialize_run(self, number_of_steps):\n",
        "        \"\"\" reset counters at the start of a run \"\"\"\n",
        "        \n",
        "        # save the number of steps over which the run will take place\n",
        "        self.number_of_steps = number_of_steps\n",
        "        \n",
        "        # reset the actual number of steps that the test ran for\n",
        "        self.total_steps = 0\n",
        "        \n",
        "        # monitor the total reward obtained over the run\n",
        "        self.total_reward = 0\n",
        "        \n",
        "        # the current total reward at each timestep of the run\n",
        "        self.total_reward_per_timestep = []\n",
        "        \n",
        "        # the actual reward obtained at each timestep\n",
        "        self.reward_per_timestep = []\n",
        "           \n",
        "        # stats for each time-step\n",
        "        # - by default records: estimate, number of trials\n",
        "        self.socket_stats = np.zeros(shape=(number_of_steps+1, \n",
        "                                            self.number_of_sockets, \n",
        "                                            self.number_of_stats))\n",
        "        \n",
        "        # ensure that all sockets are re-initialized\n",
        "        for socket in self.sockets: socket.initialize()\n",
        "            \n",
        "                                \n",
        "    def charge_and_update(self,socket_index):\n",
        "        \"\"\" charge from & update the specified socket and associated parameters \"\"\"\n",
        "        \n",
        "        # charge from the chosen socket and update its mean reward value\n",
        "        reward = self.sockets[socket_index].charge()\n",
        "        self.sockets[socket_index].update(reward)\n",
        "\n",
        "        # update the total reward\n",
        "        self.total_reward += reward   \n",
        "        \n",
        "        # store the current total reward at this timestep\n",
        "        self.total_reward_per_timestep.append(self.total_reward)\n",
        "        \n",
        "        # store the reward obtained at this timestep\n",
        "        self.reward_per_timestep.append(reward)        \n",
        "        \n",
        "        \n",
        "    def get_socket_stats( self, t ):\n",
        "        \"\"\" get the current information from each socket \"\"\"        \n",
        "        socket_stats = [[socket.Q, socket.n] for socket in self.sockets]\n",
        "        return socket_stats     \n",
        "    \n",
        "    def get_mean_reward( self ):\n",
        "        \"\"\" the total reward averaged over the number of time steps \"\"\"\n",
        "        return (self.total_reward/self.total_steps)\n",
        "    \n",
        "    def get_total_reward_per_timestep( self ):\n",
        "        \"\"\" the cumulative total reward at each timestep of the run \"\"\"\n",
        "        return self.total_reward_per_timestep\n",
        "    \n",
        "    def get_reward_per_timestep( self ):\n",
        "        \"\"\" the actual reward obtained at each timestep of the run \"\"\"\n",
        "        return self.reward_per_timestep\n",
        "    \n",
        "    def get_estimates(self):\n",
        "        \"\"\" get the estimate of each socket's reward at each timestep of the run \"\"\"\n",
        "        return self.socket_stats[:,:,0]  \n",
        "    \n",
        "    def get_number_of_trials(self):\n",
        "        \"\"\" get the number of trials of each socket at each timestep of the run \"\"\"\n",
        "        return self.socket_stats[:,:,1]          \n",
        "                \n",
        "    def get_socket_percentages( self ):\n",
        "        \"\"\" get the percentage of times each socket was tried over the run \"\"\"\n",
        "        return (self.socket_stats[:,:,1][self.total_steps]/self.total_steps)        \n",
        "    \n",
        "    def get_time_steps( self ):\n",
        "        \"\"\" get the number of time steps that the test ran for \"\"\"\n",
        "        return self.total_steps\n",
        "    \n",
        "    def select_socket( self, t ):\n",
        "        \"\"\" Greedy Socket Selection\"\"\"\n",
        "        \n",
        "        # choose the socket with the current highest mean reward or arbitrarily\n",
        "        # select a socket in the case of a tie            \n",
        "        mask = [self.get_number_of_trials()[t][i]<self.possibles[i] for i in range(len(self.sockets))]\n",
        "        #print(mask)\n",
        "        available = [self.sockets[i] for i in range(len(self.sockets)) if (mask[i])]\n",
        "        socket_max = random_argmax([socket.sample(t+1) for socket in available]) \n",
        "        #print(socket_max)\n",
        "        socket_index = self.sockets.index(available[socket_max])\n",
        "        return socket_index     \n",
        "    \n",
        "    def return_increments(self, decisions_to_consider):\n",
        "        presence = np.array([i/len(decisions_to_consider) for i in self.possibles])\n",
        "        selected_presence = np.array(self.get_socket_percentages())\n",
        "        diff = np.subtract(selected_presence, presence)\n",
        "        #print(diff)\n",
        "        #print(diff.sum())\n",
        "        return diff\n",
        "    \n",
        "    def run( self, decisions_to_consider, max_percent_decisions=1, prints_bool = True):  \n",
        "        \"\"\" perform a single run, over the set of sockets, \n",
        "            for the defined number of steps \"\"\"\n",
        "        \n",
        "        # reset the run counters\n",
        "        self.initialize_run(len(decisions_to_consider))\n",
        "\n",
        "        self.possibles = [0]*8 #TODO: DEPENDS ON N OF CLUSTER (DECISIONS.UNIQUE() ISNT ENOUGH BECAUSE IT CAN LACK SOME INSTANCES)\n",
        "        for i in np.unique(np.array(decisions_to_consider)):\n",
        "          self.possibles[i] = decisions_to_consider.count(i) \n",
        "\n",
        "        usos = 0\n",
        "        usos_maxims = math.floor(max_percent_decisions*len(decisions_to_consider))\n",
        "        #print(usos_maxims)\n",
        "\n",
        "        # loop for the specified number of time-steps\n",
        "        for t in range(len(decisions_to_consider)):\n",
        "\n",
        "            # get information about all sockets at the start of the time step\n",
        "            self.socket_stats[t] = self.get_socket_stats(t)            \n",
        "            \n",
        "            # select a socket\n",
        "            socket_index = self.select_socket(t)\n",
        "            #if(decisions_to_consider[t]==socket_index):\n",
        "            if(self.get_number_of_trials()[t][socket_index]<self.possibles[socket_index]):\n",
        "              # charge from the chosen socket and update its mean reward value\n",
        "              self.charge_and_update(socket_index)\n",
        "              usos+=1\n",
        "              \n",
        "              if usos > usos_maxims:\n",
        "                  #print(usos,usos_maxims)\n",
        "                  break\n",
        "        # save the actual number of steps that have been run\n",
        "        self.total_steps = t    \n",
        "    \n",
        "        # get the stats for each socket at the end of the run        \n",
        "        self.socket_stats[t+1] = self.get_socket_stats(t+1)           \n",
        "        \n",
        "        if(prints_bool):\n",
        "          #print(\"Reward distribution:\",[s.q for s in self.sockets])\n",
        "          #print(\"Intances of each cluster:\",self.possibles)\n",
        "          print(\"Presence of each in batch (%):\",[100*i/len(decisions_to_consider) for i in self.possibles])\n",
        "          #print(\"Times selected:\",self.get_number_of_trials()[t])\n",
        "          print(\"Relative approval rate (%):\",[round(100*self.get_number_of_trials()[t][i]/self.possibles[i],2) if self.possibles[i]>0.0 else 0.0 for i in range(len(self.possibles))])\n",
        "          print(\"Percentage over total selected (%):\",[round(100*p,2) for p in self.get_socket_percentages()])\n",
        "          #print(\"For a total reward:\",self.total_reward)\n",
        "\n",
        "\n",
        "        return self.total_steps, self.total_reward, self.return_increments(decisions_to_consider)\n",
        "  "
      ],
      "metadata": {
        "id": "6NcpcFYlGLjb"
      },
      "execution_count": 648,
      "outputs": []
    },
    {
      "cell_type": "code",
      "source": [
        "import math\n",
        "import random"
      ],
      "metadata": {
        "id": "eGkoVRSTIcSY"
      },
      "execution_count": 395,
      "outputs": []
    },
    {
      "cell_type": "code",
      "source": [
        "test2 = SocketTesterBatch(PowerSocket, np.array([.8555, .8193, .8284, .7994, .7103, .6635, .7471, .6731])*100, 5)\n",
        "\n",
        "decisions = random.choices(range(8), k=1000)\n",
        "ts,tr,_ = test2.run(decisions)"
      ],
      "metadata": {
        "colab": {
          "base_uri": "https://localhost:8080/"
        },
        "id": "DbwS4aiVIOdu",
        "outputId": "9adfa8f7-b14d-4770-9ee6-65d94a5d22ac"
      },
      "execution_count": 656,
      "outputs": [
        {
          "output_type": "stream",
          "name": "stdout",
          "text": [
            "[0 1 2 3 4 5 6 7]\n",
            "Presence of each in batch (%): [11.7, 14.6, 11.5, 12.6, 12.9, 11.5, 13.9, 11.3]\n",
            "Relative approval rate (%): [100.0, 100.0, 100.0, 100.0, 100.0, 99.13, 100.0, 100.0]\n",
            "Percentage over total selected (%): [11.71, 14.61, 11.51, 12.61, 12.91, 11.41, 13.91, 11.31]\n"
          ]
        }
      ]
    },
    {
      "cell_type": "code",
      "source": [
        "ts,tr,_ = test2.run(decisions, 0.8)"
      ],
      "metadata": {
        "colab": {
          "base_uri": "https://localhost:8080/"
        },
        "id": "1d47Wgx9cXYL",
        "outputId": "4a1b4063-035a-440c-e35f-6ec1797a4b50"
      },
      "execution_count": 657,
      "outputs": [
        {
          "output_type": "stream",
          "name": "stdout",
          "text": [
            "[0 1 2 3 4 5 6 7]\n",
            "Presence of each in batch (%): [11.7, 14.6, 11.5, 12.6, 12.9, 11.5, 13.9, 11.3]\n",
            "Relative approval rate (%): [100.0, 100.0, 100.0, 100.0, 100.0, 7.83, 100.0, 16.81]\n",
            "Percentage over total selected (%): [14.62, 18.25, 14.37, 15.75, 16.12, 1.12, 17.38, 2.38]\n"
          ]
        }
      ]
    },
    {
      "cell_type": "code",
      "source": [
        "sample_bias = [0.555, 0.24, 0.023, 0.011, 0.087, 0.081, 0.001, 0.001]\n",
        "sample_bias_decisions = random.choices(range(8),weights=sample_bias,k=1000)\n",
        "#print(sample_bias_decisions)\n",
        "ts,tr,_ = test2.run(sample_bias_decisions, 0.8)"
      ],
      "metadata": {
        "colab": {
          "base_uri": "https://localhost:8080/"
        },
        "id": "1nret0OpcuM9",
        "outputId": "f8512b15-e7c9-437a-d4bd-0f7e2cf1b84f"
      },
      "execution_count": 398,
      "outputs": [
        {
          "output_type": "stream",
          "name": "stdout",
          "text": [
            "Presence of each in batch (%): [54.4, 23.4, 2.2, 1.3, 10.0, 8.5, 0.2, 0.0]\n",
            "Relative approval rate (%): [100.0, 92.31, 100.0, 100.0, 2.0, 1.18, 100.0, nan]\n",
            "Percentage over total selected (%): [68.0, 27.0, 2.75, 1.62, 0.25, 0.12, 0.25, 0.0]\n"
          ]
        },
        {
          "output_type": "stream",
          "name": "stderr",
          "text": [
            "/usr/local/lib/python3.7/dist-packages/ipykernel_launcher.py:156: RuntimeWarning: invalid value encountered in double_scalars\n"
          ]
        }
      ]
    },
    {
      "cell_type": "markdown",
      "source": [
        "###**NON-STATIC**"
      ],
      "metadata": {
        "id": "KFPxU49FzLqe"
      }
    },
    {
      "cell_type": "code",
      "source": [
        "#def f(probs, val, ind):\n",
        "#    probs[ind] += val\n",
        "#    mask = np.ones(len(probs), bool)\n",
        "#    mask[ind] = False\n",
        "#    probs[mask] -= val / (len(probs) - 1)\n",
        "#    return np.clip(probs, 0, np.infty) / np.sum(np.clip(probs, 0, np.infty))"
      ],
      "metadata": {
        "id": "K56OQeDy-HqE"
      },
      "execution_count": 399,
      "outputs": []
    },
    {
      "cell_type": "code",
      "source": [
        "def cummulative_sample(tester,iter,orig, coef):\n",
        "  instances_distribution = np.array(orig)\n",
        "  for i in range(iter):\n",
        "    pbool=False\n",
        "    if(i%math.ceil(iter/4)==0 or i==iter-1):\n",
        "      print(i)\n",
        "      #print(list(instances_distribution))\n",
        "      pbool=True\n",
        "\n",
        "    decisions = random.choices(range(8),weights=list(instances_distribution),k=1000)\n",
        "    ts,tr,ti = tester.run(decisions, 0.8, pbool)\n",
        "    \n",
        "    #for i in range(len(ti)):\n",
        "    #  instances_distribution = f(instances_distribution,ti[i],i)\n",
        "    instances_distribution = np.add(instances_distribution,ti*coef)\n",
        "    instances_distribution = np.clip(instances_distribution,0,None)\n",
        "    instances_distribution = instances_distribution / instances_distribution.sum()"
      ],
      "metadata": {
        "id": "GANuWD7KzSzh"
      },
      "execution_count": 400,
      "outputs": []
    },
    {
      "cell_type": "code",
      "source": [
        "o_sample_bias = [0.555, 0.24, 0.023, 0.011, 0.087, 0.081, 0.001, 0.001]\n",
        "cummulative_sample(test2,35,o_sample_bias,0.05)"
      ],
      "metadata": {
        "colab": {
          "base_uri": "https://localhost:8080/"
        },
        "id": "Gx3cD1zIC4KH",
        "outputId": "45a44b67-08a2-4ba3-e3ea-eb006b5e0109"
      },
      "execution_count": 401,
      "outputs": [
        {
          "output_type": "stream",
          "name": "stdout",
          "text": [
            "0\n",
            "Presence of each in batch (%): [54.7, 22.9, 3.0, 1.0, 10.4, 7.9, 0.1, 0.0]\n",
            "Relative approval rate (%): [100.0, 91.27, 100.0, 100.0, 1.92, 1.27, 100.0, nan]\n",
            "Percentage over total selected (%): [68.38, 26.12, 3.75, 1.25, 0.25, 0.12, 0.12, 0.0]\n"
          ]
        },
        {
          "output_type": "stream",
          "name": "stderr",
          "text": [
            "/usr/local/lib/python3.7/dist-packages/ipykernel_launcher.py:156: RuntimeWarning: invalid value encountered in double_scalars\n"
          ]
        },
        {
          "output_type": "stream",
          "name": "stdout",
          "text": [
            "9\n",
            "Presence of each in batch (%): [63.6, 23.1, 2.1, 1.2, 5.2, 4.6, 0.1, 0.1]\n",
            "Relative approval rate (%): [100.0, 54.98, 100.0, 100.0, 1.92, 2.17, 100.0, 100.0]\n",
            "Percentage over total selected (%): [79.5, 15.88, 2.62, 1.5, 0.12, 0.12, 0.12, 0.12]\n",
            "18\n",
            "Presence of each in batch (%): [67.0, 20.2, 2.2, 1.3, 5.0, 4.0, 0.1, 0.2]\n",
            "Relative approval rate (%): [100.0, 44.55, 100.0, 100.0, 4.0, 2.5, 100.0, 50.0]\n",
            "Percentage over total selected (%): [83.75, 11.25, 2.75, 1.62, 0.25, 0.12, 0.12, 0.12]\n",
            "27\n",
            "Presence of each in batch (%): [77.6, 14.2, 2.2, 1.3, 1.6, 2.8, 0.3, 0.0]\n",
            "Relative approval rate (%): [98.58, 7.75, 68.18, 38.46, 6.25, 3.57, 66.67, nan]\n",
            "Percentage over total selected (%): [95.62, 1.38, 1.88, 0.62, 0.12, 0.12, 0.25, 0.0]\n",
            "34\n",
            "Presence of each in batch (%): [82.3, 11.6, 2.1, 1.0, 1.4, 1.5, 0.1, 0.0]\n",
            "Relative approval rate (%): [93.56, 6.03, 71.43, 50.0, 7.14, 6.67, 100.0, nan]\n",
            "Percentage over total selected (%): [96.25, 0.88, 1.88, 0.62, 0.12, 0.12, 0.12, 0.0]\n"
          ]
        }
      ]
    },
    {
      "cell_type": "code",
      "source": [
        "no_sample_bias = [1/8]*8\n",
        "cummulative_sample(test2,35,no_sample_bias,0.05)"
      ],
      "metadata": {
        "colab": {
          "base_uri": "https://localhost:8080/"
        },
        "id": "cJ4_y3P4EDgD",
        "outputId": "e9feaa01-d6e5-4fc1-8dc6-067c87e5f8e8"
      },
      "execution_count": 402,
      "outputs": [
        {
          "output_type": "stream",
          "name": "stdout",
          "text": [
            "0\n",
            "Presence of each in batch (%): [13.6, 11.2, 12.9, 11.5, 13.6, 13.9, 11.8, 11.5]\n",
            "Relative approval rate (%): [100.0, 100.0, 100.0, 100.0, 100.0, 9.35, 100.0, 35.65]\n",
            "Percentage over total selected (%): [17.0, 14.0, 16.12, 14.37, 17.0, 1.62, 14.75, 5.12]\n",
            "9\n",
            "Presence of each in batch (%): [14.4, 13.2, 14.1, 13.6, 13.8, 8.5, 14.0, 8.4]\n",
            "Relative approval rate (%): [100.0, 100.0, 100.0, 100.0, 69.57, 5.88, 100.0, 7.14]\n",
            "Percentage over total selected (%): [18.0, 16.5, 17.62, 17.0, 12.0, 0.62, 17.5, 0.75]\n",
            "18\n",
            "Presence of each in batch (%): [15.5, 14.2, 15.0, 17.0, 11.2, 4.4, 16.5, 6.2]\n",
            "Relative approval rate (%): [100.0, 100.0, 100.0, 100.0, 9.82, 9.09, 100.0, 4.84]\n",
            "Percentage over total selected (%): [19.38, 17.75, 18.75, 21.25, 1.38, 0.5, 20.62, 0.38]\n",
            "27\n",
            "Presence of each in batch (%): [16.1, 20.2, 18.7, 15.3, 6.9, 3.7, 15.8, 3.3]\n",
            "Relative approval rate (%): [100.0, 100.0, 100.0, 100.0, 10.14, 5.41, 54.43, 6.06]\n",
            "Percentage over total selected (%): [20.12, 25.25, 23.38, 19.12, 0.88, 0.25, 10.75, 0.25]\n",
            "34\n",
            "Presence of each in batch (%): [18.2, 18.2, 18.9, 19.7, 5.8, 3.0, 13.5, 2.7]\n",
            "Relative approval rate (%): [100.0, 100.0, 100.0, 100.0, 12.07, 6.67, 28.15, 11.11]\n",
            "Percentage over total selected (%): [22.75, 22.75, 23.62, 24.62, 0.88, 0.25, 4.75, 0.38]\n"
          ]
        }
      ]
    },
    {
      "cell_type": "code",
      "source": [
        "no_sample_bias = [1/8]*8\n",
        "cummulative_sample(test2,150,no_sample_bias,0.05)"
      ],
      "metadata": {
        "colab": {
          "base_uri": "https://localhost:8080/"
        },
        "id": "9LV85u5IC5fR",
        "outputId": "be193c15-7348-4034-83bb-92bfc35c2183"
      },
      "execution_count": 403,
      "outputs": [
        {
          "output_type": "stream",
          "name": "stdout",
          "text": [
            "0\n",
            "Presence of each in batch (%): [13.1, 13.8, 11.8, 11.8, 13.9, 10.3, 13.1, 12.2]\n",
            "Relative approval rate (%): [100.0, 100.0, 100.0, 100.0, 100.0, 9.71, 100.0, 12.3]\n",
            "Percentage over total selected (%): [16.38, 17.25, 14.75, 14.75, 17.38, 1.25, 16.38, 1.88]\n",
            "38\n",
            "Presence of each in batch (%): [21.7, 19.5, 21.1, 18.6, 4.9, 1.8, 10.1, 2.3]\n",
            "Relative approval rate (%): [100.0, 100.0, 100.0, 89.25, 4.08, 5.56, 5.94, 8.7]\n",
            "Percentage over total selected (%): [27.12, 24.38, 26.38, 20.75, 0.25, 0.12, 0.75, 0.25]\n",
            "76\n",
            "Presence of each in batch (%): [31.4, 25.9, 32.6, 7.8, 0.4, 0.2, 1.6, 0.1]\n",
            "Relative approval rate (%): [100.0, 51.74, 100.0, 24.36, 50.0, 50.0, 18.75, 100.0]\n",
            "Percentage over total selected (%): [39.25, 16.75, 40.75, 2.38, 0.25, 0.12, 0.38, 0.12]\n",
            "114\n",
            "Presence of each in batch (%): [48.7, 10.5, 36.7, 2.5, 0.3, 0.2, 1.0, 0.1]\n",
            "Relative approval rate (%): [100.0, 45.71, 67.3, 44.0, 66.67, 50.0, 30.0, 100.0]\n",
            "Percentage over total selected (%): [60.88, 6.0, 30.88, 1.38, 0.25, 0.12, 0.38, 0.12]\n",
            "149\n",
            "Presence of each in batch (%): [79.3, 5.7, 13.4, 1.2, 0.2, 0.1, 0.1, 0.0]\n",
            "Relative approval rate (%): [96.22, 17.54, 13.43, 50.0, 50.0, 100.0, 100.0, nan]\n",
            "Percentage over total selected (%): [95.38, 1.25, 2.25, 0.75, 0.12, 0.12, 0.12, 0.0]\n"
          ]
        },
        {
          "output_type": "stream",
          "name": "stderr",
          "text": [
            "/usr/local/lib/python3.7/dist-packages/ipykernel_launcher.py:156: RuntimeWarning: invalid value encountered in double_scalars\n"
          ]
        }
      ]
    },
    {
      "cell_type": "code",
      "source": [
        "def nonstatic(iter, rewards_d_o, r_coef, instances_d_o, i_coef):\n",
        "  rewards_d = np.array(rewards_d_o)\n",
        "  instances_d = np.array(instances_d_o)\n",
        "\n",
        "  #iter = 1000\n",
        "  for i in range(iter):\n",
        "    pbool=False\n",
        "    if(i%math.ceil(iter/4)==0 or i==iter-1):\n",
        "        print(i)\n",
        "        #print(list(instances_distribution))\n",
        "        pbool=True\n",
        "\n",
        "    updated_test = SocketTesterBatch(PowerSocket, list(rewards_d), 5)\n",
        "    decisions = random.choices(range(8),weights=list(instances_d),k=1000)\n",
        "    ts,tr,ti = updated_test.run(decisions, 0.8, pbool)\n",
        "\n",
        "    increments = ti\n",
        "    #increments = np.subtract(np.array(updated_test.get_socket_percentages()),0.5)\n",
        "    #print(increments)\n",
        "\n",
        "    rewards_d = np.add(rewards_d,increments*r_coef*100)\n",
        "    rewards_d = np.clip(rewards_d,0,100)\n",
        "    #print(rewards_d)\n",
        "\n",
        "    instances_d = np.add(instances_d,increments*i_coef)\n",
        "    instances_d = np.clip(instances_d,0,None)\n",
        "    instances_d = instances_d / instances_d.sum()"
      ],
      "metadata": {
        "id": "92tyyqv-ENiD"
      },
      "execution_count": 404,
      "outputs": []
    },
    {
      "cell_type": "code",
      "source": [
        "rewards_bias = np.array([.8555, .8193, .8284, .7994, .7103, .6635, .7471, .6731])*100\n",
        "rewards_nonbias = [100/2]*8\n",
        "\n",
        "instances_bias = [0.555, 0.24, 0.023, 0.011, 0.087, 0.081, 0.001, 0.001]\n",
        "instances_nonbias = [1/8]*8"
      ],
      "metadata": {
        "id": "6qdqEOdfJbWX"
      },
      "execution_count": 405,
      "outputs": []
    },
    {
      "cell_type": "code",
      "source": [
        "nonstatic(100, rewards_nonbias, 0, instances_nonbias, 0)"
      ],
      "metadata": {
        "colab": {
          "base_uri": "https://localhost:8080/"
        },
        "id": "FejlbpgnQl7X",
        "outputId": "f2131175-fa4d-49f9-bc25-173addc6627f"
      },
      "execution_count": 406,
      "outputs": [
        {
          "output_type": "stream",
          "name": "stdout",
          "text": [
            "0\n",
            "Presence of each in batch (%): [12.6, 13.5, 11.8, 12.6, 12.0, 13.0, 12.3, 12.2]\n",
            "Relative approval rate (%): [92.06, 85.93, 77.12, 72.22, 63.33, 83.85, 86.99, 77.05]\n",
            "Percentage over total selected (%): [14.5, 14.5, 11.38, 11.38, 9.5, 13.63, 13.38, 11.75]\n",
            "25\n",
            "Presence of each in batch (%): [12.5, 12.7, 12.1, 11.2, 13.7, 12.7, 13.3, 11.8]\n",
            "Relative approval rate (%): [74.4, 70.08, 91.74, 84.82, 74.45, 75.59, 72.18, 100.0]\n",
            "Percentage over total selected (%): [11.62, 11.12, 13.88, 11.88, 12.75, 12.0, 12.0, 14.75]\n",
            "50\n",
            "Presence of each in batch (%): [11.5, 13.2, 13.4, 12.8, 12.6, 11.1, 13.1, 12.3]\n",
            "Relative approval rate (%): [100.0, 78.03, 66.42, 87.5, 74.6, 92.79, 77.86, 66.67]\n",
            "Percentage over total selected (%): [14.37, 12.88, 11.12, 14.0, 11.75, 12.88, 12.75, 10.25]\n",
            "75\n",
            "Presence of each in batch (%): [12.9, 12.3, 13.8, 14.8, 11.5, 12.0, 10.3, 12.4]\n",
            "Relative approval rate (%): [86.05, 95.93, 50.0, 75.0, 93.04, 83.33, 87.38, 75.81]\n",
            "Percentage over total selected (%): [13.88, 14.75, 8.62, 13.88, 13.38, 12.5, 11.25, 11.75]\n",
            "99\n",
            "Presence of each in batch (%): [9.7, 12.8, 13.5, 12.9, 13.3, 12.2, 11.2, 14.4]\n",
            "Relative approval rate (%): [100.0, 73.44, 80.74, 86.82, 64.66, 79.51, 86.61, 75.0]\n",
            "Percentage over total selected (%): [12.12, 11.75, 13.63, 14.0, 10.75, 12.12, 12.12, 13.5]\n"
          ]
        }
      ]
    },
    {
      "cell_type": "code",
      "source": [
        "nonstatic(2500, rewards_nonbias, 0, instances_bias, 0.01)"
      ],
      "metadata": {
        "colab": {
          "base_uri": "https://localhost:8080/"
        },
        "id": "ESF0BONSY2zn",
        "outputId": "96a1a201-2e55-4521-8054-84e33d48cbdf"
      },
      "execution_count": 408,
      "outputs": [
        {
          "output_type": "stream",
          "name": "stdout",
          "text": [
            "0\n",
            "Presence of each in batch (%): [55.2, 23.4, 2.7, 0.9, 8.1, 9.4, 0.2, 0.1]\n",
            "Relative approval rate (%): [63.77, 100.0, 100.0, 100.0, 100.0, 100.0, 100.0, 100.0]\n",
            "Percentage over total selected (%): [44.0, 29.25, 3.38, 1.12, 10.12, 11.75, 0.25, 0.12]\n",
            "625\n",
            "Presence of each in batch (%): [19.8, 21.2, 10.8, 4.6, 21.5, 21.5, 0.4, 0.2]\n",
            "Relative approval rate (%): [88.38, 76.42, 100.0, 100.0, 64.19, 76.74, 100.0, 100.0]\n",
            "Percentage over total selected (%): [21.88, 20.25, 13.5, 5.75, 17.25, 20.62, 0.5, 0.25]\n",
            "1250\n",
            "Presence of each in batch (%): [16.5, 17.5, 17.3, 14.3, 14.3, 15.8, 2.1, 2.2]\n",
            "Relative approval rate (%): [84.24, 57.14, 80.92, 79.02, 100.0, 77.22, 100.0, 100.0]\n",
            "Percentage over total selected (%): [17.38, 12.5, 17.5, 14.12, 17.88, 15.25, 2.62, 2.75]\n",
            "1875\n",
            "Presence of each in batch (%): [13.3, 13.9, 11.4, 13.2, 12.9, 14.6, 9.6, 11.1]\n",
            "Relative approval rate (%): [57.14, 96.4, 87.72, 75.0, 60.47, 72.6, 100.0, 100.0]\n",
            "Percentage over total selected (%): [9.5, 16.75, 12.5, 12.38, 9.75, 13.25, 12.0, 13.88]\n",
            "2499\n",
            "Presence of each in batch (%): [11.1, 13.1, 12.3, 12.4, 14.3, 12.8, 12.4, 11.6]\n",
            "Relative approval rate (%): [100.0, 84.73, 62.6, 63.71, 75.52, 82.03, 78.23, 96.55]\n",
            "Percentage over total selected (%): [13.88, 13.88, 9.62, 9.88, 13.5, 13.12, 12.12, 14.0]\n"
          ]
        }
      ]
    },
    {
      "cell_type": "code",
      "source": [
        "nonstatic(100, rewards_bias, 0, instances_nonbias, 0)"
      ],
      "metadata": {
        "colab": {
          "base_uri": "https://localhost:8080/"
        },
        "id": "oqORHeh6aGMa",
        "outputId": "0446a6cf-071a-4f78-f836-9f24cabcfdf9"
      },
      "execution_count": 414,
      "outputs": [
        {
          "output_type": "stream",
          "name": "stdout",
          "text": [
            "0\n",
            "Presence of each in batch (%): [13.4, 10.5, 14.1, 12.5, 12.9, 13.4, 11.2, 12.0]\n",
            "Relative approval rate (%): [100.0, 100.0, 100.0, 100.0, 100.0, 14.93, 100.0, 28.33]\n",
            "Percentage over total selected (%): [16.75, 13.12, 17.62, 15.62, 16.12, 2.5, 14.0, 4.25]\n",
            "25\n",
            "Presence of each in batch (%): [12.3, 14.8, 11.8, 11.9, 10.5, 12.9, 14.1, 11.7]\n",
            "Relative approval rate (%): [100.0, 100.0, 100.0, 100.0, 100.0, 10.85, 100.0, 27.35]\n",
            "Percentage over total selected (%): [15.38, 18.5, 14.75, 14.88, 13.12, 1.75, 17.62, 4.0]\n",
            "50\n",
            "Presence of each in batch (%): [13.5, 9.9, 12.0, 13.4, 11.5, 12.6, 14.2, 12.9]\n",
            "Relative approval rate (%): [100.0, 100.0, 100.0, 100.0, 100.0, 15.08, 100.0, 27.91]\n",
            "Percentage over total selected (%): [16.88, 12.38, 15.0, 16.75, 14.37, 2.38, 17.75, 4.5]\n",
            "75\n",
            "Presence of each in batch (%): [12.6, 10.6, 13.1, 13.1, 12.0, 13.7, 12.9, 12.0]\n",
            "Relative approval rate (%): [100.0, 100.0, 100.0, 100.0, 100.0, 16.06, 100.0, 29.17]\n",
            "Percentage over total selected (%): [15.75, 13.25, 16.38, 16.38, 15.0, 2.75, 16.12, 4.38]\n",
            "99\n",
            "Presence of each in batch (%): [14.2, 12.1, 11.9, 11.8, 13.4, 12.4, 13.3, 10.9]\n",
            "Relative approval rate (%): [100.0, 100.0, 100.0, 100.0, 100.0, 10.48, 100.0, 18.35]\n",
            "Percentage over total selected (%): [17.75, 15.12, 14.88, 14.75, 16.75, 1.62, 16.62, 2.5]\n"
          ]
        }
      ]
    },
    {
      "cell_type": "code",
      "source": [
        "nonstatic(100, rewards_bias, 0.1, instances_nonbias, 0)"
      ],
      "metadata": {
        "colab": {
          "base_uri": "https://localhost:8080/"
        },
        "id": "NCzrIuvtRI9q",
        "outputId": "fc6b4fee-52f9-412b-8b16-68cefe6ad425"
      },
      "execution_count": 416,
      "outputs": [
        {
          "output_type": "stream",
          "name": "stdout",
          "text": [
            "0\n",
            "Presence of each in batch (%): [11.1, 13.9, 11.8, 13.6, 10.9, 12.0, 13.2, 13.5]\n",
            "Relative approval rate (%): [100.0, 100.0, 100.0, 100.0, 100.0, 15.0, 100.0, 27.41]\n",
            "Percentage over total selected (%): [13.88, 17.38, 14.75, 17.0, 13.63, 2.25, 16.5, 4.62]\n",
            "25\n",
            "Presence of each in batch (%): [13.1, 11.9, 13.6, 10.0, 12.3, 13.6, 14.3, 11.2]\n",
            "Relative approval rate (%): [100.0, 100.0, 100.0, 100.0, 100.0, 17.65, 100.0, 21.43]\n",
            "Percentage over total selected (%): [16.38, 14.88, 17.0, 12.5, 15.38, 3.0, 17.88, 3.0]\n",
            "50\n",
            "Presence of each in batch (%): [12.6, 11.4, 12.7, 12.4, 12.2, 13.2, 12.7, 12.8]\n",
            "Relative approval rate (%): [100.0, 100.0, 100.0, 100.0, 100.0, 21.21, 100.0, 25.0]\n",
            "Percentage over total selected (%): [15.75, 14.25, 15.88, 15.5, 15.25, 3.5, 15.88, 4.0]\n",
            "75\n",
            "Presence of each in batch (%): [13.3, 10.7, 10.6, 13.0, 13.4, 13.3, 12.7, 13.0]\n",
            "Relative approval rate (%): [100.0, 100.0, 100.0, 100.0, 100.0, 24.81, 100.0, 23.08]\n",
            "Percentage over total selected (%): [16.62, 13.38, 13.25, 16.25, 16.75, 4.12, 15.88, 3.75]\n",
            "99\n",
            "Presence of each in batch (%): [13.7, 14.2, 11.8, 12.2, 13.0, 12.4, 10.4, 12.3]\n",
            "Relative approval rate (%): [100.0, 100.0, 100.0, 100.0, 100.0, 19.35, 100.0, 18.7]\n",
            "Percentage over total selected (%): [17.12, 17.75, 14.75, 15.25, 16.25, 3.0, 13.0, 2.88]\n"
          ]
        }
      ]
    },
    {
      "cell_type": "code",
      "source": [
        "nonstatic(100, rewards_bias, 0, instances_bias, 0.01)"
      ],
      "metadata": {
        "colab": {
          "base_uri": "https://localhost:8080/"
        },
        "id": "X0WG3QDAbQ8Y",
        "outputId": "5b1ec811-24eb-487b-9ffa-394e964fc1dc"
      },
      "execution_count": 411,
      "outputs": [
        {
          "output_type": "stream",
          "name": "stdout",
          "text": [
            "0\n",
            "Presence of each in batch (%): [54.5, 23.8, 2.9, 1.1, 7.8, 9.9, 0.0, 0.0]\n",
            "Relative approval rate (%): [100.0, 89.08, 100.0, 100.0, 2.56, 1.01, nan, nan]\n",
            "Percentage over total selected (%): [68.12, 26.5, 3.62, 1.38, 0.25, 0.12, 0.0, 0.0]\n"
          ]
        },
        {
          "output_type": "stream",
          "name": "stderr",
          "text": [
            "/usr/local/lib/python3.7/dist-packages/ipykernel_launcher.py:156: RuntimeWarning: invalid value encountered in double_scalars\n"
          ]
        },
        {
          "output_type": "stream",
          "name": "stdout",
          "text": [
            "25\n",
            "Presence of each in batch (%): [58.9, 24.0, 2.8, 1.5, 6.6, 5.9, 0.2, 0.1]\n",
            "Relative approval rate (%): [100.0, 67.5, 100.0, 100.0, 3.03, 1.69, 100.0, 100.0]\n",
            "Percentage over total selected (%): [73.62, 20.25, 3.5, 1.88, 0.25, 0.12, 0.25, 0.12]\n",
            "50\n",
            "Presence of each in batch (%): [64.9, 22.7, 2.1, 1.2, 4.3, 4.6, 0.1, 0.1]\n",
            "Relative approval rate (%): [100.0, 49.78, 100.0, 100.0, 4.65, 2.17, 100.0, 100.0]\n",
            "Percentage over total selected (%): [81.12, 14.12, 2.62, 1.5, 0.25, 0.12, 0.12, 0.12]\n",
            "75\n",
            "Presence of each in batch (%): [63.9, 22.5, 4.1, 1.7, 4.0, 3.6, 0.0, 0.2]\n",
            "Relative approval rate (%): [100.0, 44.44, 100.0, 94.12, 5.0, 2.78, nan, 50.0]\n",
            "Percentage over total selected (%): [79.88, 12.5, 5.12, 2.0, 0.25, 0.12, 0.0, 0.12]\n",
            "99\n",
            "Presence of each in batch (%): [70.0, 18.3, 3.4, 1.5, 3.2, 3.4, 0.1, 0.1]\n",
            "Relative approval rate (%): [100.0, 27.32, 100.0, 73.33, 6.25, 2.94, 100.0, 100.0]\n",
            "Percentage over total selected (%): [87.5, 6.25, 4.25, 1.38, 0.25, 0.12, 0.12, 0.12]\n"
          ]
        }
      ]
    },
    {
      "cell_type": "code",
      "source": [
        "nonstatic(100, rewards_bias, 0.01, instances_bias, 0)"
      ],
      "metadata": {
        "colab": {
          "base_uri": "https://localhost:8080/"
        },
        "id": "NOh88ta5bBUq",
        "outputId": "9c7b0288-c647-4fdb-9548-0b6280f3ca8f"
      },
      "execution_count": 412,
      "outputs": [
        {
          "output_type": "stream",
          "name": "stdout",
          "text": [
            "0\n",
            "Presence of each in batch (%): [52.8, 27.0, 2.2, 0.9, 8.3, 8.4, 0.2, 0.2]\n",
            "Relative approval rate (%): [100.0, 87.04, 100.0, 100.0, 2.41, 1.19, 100.0, 50.0]\n",
            "Percentage over total selected (%): [66.0, 29.38, 2.75, 1.12, 0.25, 0.12, 0.25, 0.12]\n",
            "25\n",
            "Presence of each in batch (%): [58.3, 23.2, 3.0, 0.9, 8.0, 6.4, 0.1, 0.1]\n",
            "Relative approval rate (%): [100.0, 75.0, 100.0, 100.0, 1.25, 1.56, 100.0, 100.0]\n",
            "Percentage over total selected (%): [72.88, 21.75, 3.75, 1.12, 0.12, 0.12, 0.12, 0.12]\n",
            "50\n",
            "Presence of each in batch (%): [54.7, 24.3, 3.5, 0.8, 7.7, 8.9, 0.0, 0.1]\n",
            "Relative approval rate (%): [100.0, 85.19, 100.0, 100.0, 1.3, 1.12, nan, 100.0]\n",
            "Percentage over total selected (%): [68.38, 25.87, 4.38, 1.0, 0.12, 0.12, 0.0, 0.12]\n"
          ]
        },
        {
          "output_type": "stream",
          "name": "stderr",
          "text": [
            "/usr/local/lib/python3.7/dist-packages/ipykernel_launcher.py:156: RuntimeWarning: invalid value encountered in double_scalars\n"
          ]
        },
        {
          "output_type": "stream",
          "name": "stdout",
          "text": [
            "75\n",
            "Presence of each in batch (%): [54.1, 26.3, 1.9, 0.7, 8.0, 8.8, 0.0, 0.2]\n",
            "Relative approval rate (%): [100.0, 87.45, 100.0, 100.0, 1.25, 1.14, nan, 50.0]\n",
            "Percentage over total selected (%): [67.62, 28.75, 2.38, 0.88, 0.12, 0.12, 0.0, 0.12]\n",
            "99\n",
            "Presence of each in batch (%): [55.6, 25.5, 1.5, 0.9, 9.0, 7.4, 0.1, 0.0]\n",
            "Relative approval rate (%): [100.0, 85.88, 100.0, 77.78, 1.11, 1.35, 100.0, nan]\n",
            "Percentage over total selected (%): [69.5, 27.38, 1.88, 0.88, 0.12, 0.12, 0.12, 0.0]\n"
          ]
        }
      ]
    },
    {
      "cell_type": "code",
      "source": [
        "nonstatic(100, rewards_bias, 0.01, instances_bias, 0.01)"
      ],
      "metadata": {
        "colab": {
          "base_uri": "https://localhost:8080/"
        },
        "id": "JQWqf89ZYh32",
        "outputId": "f7c042a2-34cb-459c-d1ca-44eb72978ed7"
      },
      "execution_count": 413,
      "outputs": [
        {
          "output_type": "stream",
          "name": "stdout",
          "text": [
            "0\n",
            "Presence of each in batch (%): [55.4, 22.5, 2.9, 1.2, 9.6, 8.3, 0.1, 0.0]\n",
            "Relative approval rate (%): [100.0, 89.33, 100.0, 100.0, 2.08, 1.2, 100.0, nan]\n",
            "Percentage over total selected (%): [69.25, 25.12, 3.62, 1.5, 0.25, 0.12, 0.12, 0.0]\n"
          ]
        },
        {
          "output_type": "stream",
          "name": "stderr",
          "text": [
            "/usr/local/lib/python3.7/dist-packages/ipykernel_launcher.py:156: RuntimeWarning: invalid value encountered in double_scalars\n"
          ]
        },
        {
          "output_type": "stream",
          "name": "stdout",
          "text": [
            "25\n",
            "Presence of each in batch (%): [60.4, 23.3, 2.4, 1.5, 5.3, 6.5, 0.3, 0.3]\n",
            "Relative approval rate (%): [100.0, 64.81, 100.0, 100.0, 1.89, 1.54, 100.0, 33.33]\n",
            "Percentage over total selected (%): [75.5, 18.88, 3.0, 1.88, 0.12, 0.12, 0.38, 0.12]\n",
            "50\n",
            "Presence of each in batch (%): [62.5, 23.4, 2.1, 0.5, 5.6, 5.6, 0.1, 0.2]\n",
            "Relative approval rate (%): [100.0, 61.97, 100.0, 100.0, 1.79, 1.79, 100.0, 50.0]\n",
            "Percentage over total selected (%): [78.12, 18.12, 2.62, 0.62, 0.12, 0.12, 0.12, 0.12]\n",
            "75\n",
            "Presence of each in batch (%): [67.7, 20.2, 1.7, 1.5, 3.9, 4.5, 0.3, 0.2]\n",
            "Relative approval rate (%): [100.0, 41.58, 100.0, 100.0, 2.56, 2.22, 100.0, 100.0]\n",
            "Percentage over total selected (%): [84.62, 10.5, 2.12, 1.88, 0.12, 0.12, 0.38, 0.25]\n",
            "99\n",
            "Presence of each in batch (%): [72.4, 17.6, 2.4, 1.2, 3.3, 3.0, 0.1, 0.0]\n",
            "Relative approval rate (%): [100.0, 20.45, 100.0, 100.0, 6.06, 3.33, 100.0, nan]\n",
            "Percentage over total selected (%): [90.5, 4.5, 3.0, 1.5, 0.25, 0.12, 0.12, 0.0]\n"
          ]
        }
      ]
    },
    {
      "cell_type": "markdown",
      "source": [
        "###**SOLUTION?**"
      ],
      "metadata": {
        "id": "B2dnZoLKeN3T"
      }
    },
    {
      "cell_type": "code",
      "source": [
        "class SocketTesterBatchSOLUTION():\n",
        "    \"\"\" create and test a set of sockets over a single test run \"\"\"\n",
        "\n",
        "    def __init__(self, socket, socket_order, confidence_level, sub_opt):  \n",
        "        \n",
        "        self.subopt_coef = sub_opt\n",
        "\n",
        "        # create supplied socket type with a mean value defined by socket order \n",
        "        self.sockets = [socket(q, confidence_level) for q in socket_order]     \n",
        "        \n",
        "        # set the number of sockets equal to the number created\n",
        "        self.number_of_sockets = len(self.sockets)\n",
        "\n",
        "        self.number_of_stats = 2                 \n",
        "            \n",
        "    def initialize_run(self, number_of_steps):\n",
        "        \"\"\" reset counters at the start of a run \"\"\"\n",
        "        \n",
        "        # save the number of steps over which the run will take place\n",
        "        self.number_of_steps = number_of_steps\n",
        "        \n",
        "        # reset the actual number of steps that the test ran for\n",
        "        self.total_steps = 0\n",
        "        \n",
        "        # monitor the total reward obtained over the run\n",
        "        self.total_reward = 0\n",
        "        \n",
        "        # the current total reward at each timestep of the run\n",
        "        self.total_reward_per_timestep = []\n",
        "        \n",
        "        # the actual reward obtained at each timestep\n",
        "        self.reward_per_timestep = []\n",
        "           \n",
        "        # stats for each time-step\n",
        "        # - by default records: estimate, number of trials\n",
        "        self.socket_stats = np.zeros(shape=(number_of_steps+1, \n",
        "                                            self.number_of_sockets, \n",
        "                                            self.number_of_stats))\n",
        "        \n",
        "        # ensure that all sockets are re-initialized\n",
        "        for socket in self.sockets: socket.initialize()\n",
        "            \n",
        "                                \n",
        "    def charge_and_update(self,socket_index):\n",
        "        \"\"\" charge from & update the specified socket and associated parameters \"\"\"\n",
        "        \n",
        "        # charge from the chosen socket and update its mean reward value\n",
        "        reward = self.sockets[socket_index].charge()\n",
        "        self.sockets[socket_index].update(reward)\n",
        "\n",
        "        # update the total reward\n",
        "        self.total_reward += reward   \n",
        "        \n",
        "        # store the current total reward at this timestep\n",
        "        self.total_reward_per_timestep.append(self.total_reward)\n",
        "        \n",
        "        # store the reward obtained at this timestep\n",
        "        self.reward_per_timestep.append(reward)        \n",
        "        \n",
        "        \n",
        "    def get_socket_stats( self, t ):\n",
        "        \"\"\" get the current information from each socket \"\"\"        \n",
        "        socket_stats = [[socket.Q, socket.n] for socket in self.sockets]\n",
        "        return socket_stats     \n",
        "    \n",
        "    def get_mean_reward( self ):\n",
        "        \"\"\" the total reward averaged over the number of time steps \"\"\"\n",
        "        return (self.total_reward/self.total_steps)\n",
        "    \n",
        "    def get_total_reward_per_timestep( self ):\n",
        "        \"\"\" the cumulative total reward at each timestep of the run \"\"\"\n",
        "        return self.total_reward_per_timestep\n",
        "    \n",
        "    def get_reward_per_timestep( self ):\n",
        "        \"\"\" the actual reward obtained at each timestep of the run \"\"\"\n",
        "        return self.reward_per_timestep\n",
        "    \n",
        "    def get_estimates(self):\n",
        "        \"\"\" get the estimate of each socket's reward at each timestep of the run \"\"\"\n",
        "        return self.socket_stats[:,:,0]  \n",
        "    \n",
        "    def get_number_of_trials(self):\n",
        "        \"\"\" get the number of trials of each socket at each timestep of the run \"\"\"\n",
        "        return self.socket_stats[:,:,1]          \n",
        "                \n",
        "    def get_socket_percentages( self ):\n",
        "        \"\"\" get the percentage of times each socket was tried over the run \"\"\"\n",
        "        return (self.socket_stats[:,:,1][self.total_steps]/self.total_steps)        \n",
        "    \n",
        "    def get_time_steps( self ):\n",
        "        \"\"\" get the number of time steps that the test ran for \"\"\"\n",
        "        return self.total_steps\n",
        "    \n",
        "    def select_socket( self, t ):\n",
        "        \"\"\" Greedy Socket Selection\"\"\"\n",
        "        #CONSTRAINT A\n",
        "        curr_percentages = self.socket_stats[:,:,1][t]/t\n",
        "        mean_percentages = np.mean(curr_percentages)\n",
        "        dif_percentages = np.subtract(mean_percentages,self.socket_stats[:,:,1][t]/t)\n",
        "\n",
        "        #CONSTRAINT B\n",
        "        mean_selections = np.mean(self.get_number_of_trials()[t])\n",
        "        dif_selections = np.subtract(mean_selections,self.get_number_of_trials()[t])\n",
        "\n",
        "        #DUES CONSTRAINTS, UNA PER PERCENTATGES, L'ALTRE n SELECTIONS\n",
        "        #dif = dif_percentages #rang 10-30-50\n",
        "        dif = dif_selections   #rang 0-0.01-0.1\n",
        "\n",
        "        #print(dif)\n",
        "\n",
        "        # choose the socket with the current highest mean reward or arbitrarily\n",
        "        # select a socket in the case of a tie            \n",
        "        mask = [self.get_number_of_trials()[t][i]<self.possibles[i] for i in range(len(self.sockets))]\n",
        "        #print(mask)\n",
        "        available_sockets = [self.sockets[s] for s in range(len(self.sockets)) if (mask[s])]\n",
        "        available = [i for i in range(len(self.sockets)) if (mask[i])]\n",
        "\n",
        "        socket_max = random_argmax([self.sockets[socket].sample(t+1)+self.subopt_coef*dif[socket] for socket in available]) \n",
        "        #socket_max = random_argmax([self.sockets[socket].sample(t+1) for socket in available]) \n",
        "\n",
        "        #print(socket_max)\n",
        "        socket_index = self.sockets.index(available_sockets[socket_max])\n",
        "        return socket_index     \n",
        "    \n",
        "    def return_increments(self, decisions_to_consider):\n",
        "        presence = np.array([i/len(decisions_to_consider) for i in self.possibles])\n",
        "        selected_presence = np.array(self.get_socket_percentages())\n",
        "        diff = np.subtract(selected_presence, presence)\n",
        "        #print(diff)\n",
        "        #print(diff.sum())\n",
        "        return diff\n",
        "    \n",
        "    def run( self, decisions_to_consider, max_percent_decisions=1, prints_bool = True):  \n",
        "        \"\"\" perform a single run, over the set of sockets, \n",
        "            for the defined number of steps \"\"\"\n",
        "        \n",
        "        # reset the run counters\n",
        "        self.initialize_run(len(decisions_to_consider))\n",
        "\n",
        "        self.possibles = [0]*8 #TODO: DEPENDS ON N OF CLUSTER (DECISIONS.UNIQUE() ISNT ENOUGH BECAUSE IT CAN LACK SOME INSTANCES)\n",
        "        for i in np.unique(np.array(decisions_to_consider)):\n",
        "          self.possibles[i] = decisions_to_consider.count(i) \n",
        "        print(\"possibles\",self.possibles)\n",
        "\n",
        "        usos = 0\n",
        "        usos_maxims = math.floor(max_percent_decisions*len(decisions_to_consider))\n",
        "        #print(usos_maxims)\n",
        "\n",
        "        # loop for the specified number of time-steps\n",
        "        for t in range(1,len(decisions_to_consider)):\n",
        "\n",
        "            # get information about all sockets at the start of the time step\n",
        "            self.socket_stats[t] = self.get_socket_stats(t)            \n",
        "            \n",
        "            # select a socket\n",
        "            socket_index = self.select_socket(t)\n",
        "            #if(decisions_to_consider[t]==socket_index):\n",
        "            if(self.get_number_of_trials()[t][socket_index]<self.possibles[socket_index]):\n",
        "              # charge from the chosen socket and update its mean reward value\n",
        "              self.charge_and_update(socket_index)\n",
        "              usos+=1\n",
        "              \n",
        "              if usos > usos_maxims:\n",
        "                  #print(usos,usos_maxims)\n",
        "                  break\n",
        "        # save the actual number of steps that have been run\n",
        "        self.total_steps = t    \n",
        "    \n",
        "        # get the stats for each socket at the end of the run        \n",
        "        self.socket_stats[t+1] = self.get_socket_stats(t+1)           \n",
        "        \n",
        "        if(prints_bool):\n",
        "          #print(\"Reward distribution:\",[s.q for s in self.sockets])\n",
        "          #print(\"Intances of each cluster:\",self.possibles)\n",
        "          print(\"Presence of each in batch (%):\",[100*i/len(decisions_to_consider) for i in self.possibles])\n",
        "          print(\"Times selected:\",self.get_number_of_trials()[t])\n",
        "          print(\"Relative approval rate (%):\",[round(100*self.get_number_of_trials()[t][i]/self.possibles[i],2) if self.possibles[i]>0.0 else 0.0 for i in range(len(self.possibles))])\n",
        "          print(\"Percentage over total selected (%):\",[round(100*p,2) for p in self.get_socket_percentages()])\n",
        "          #print(\"For a total reward:\",self.total_reward)\n",
        "          #print(self.return_increments(decisions_to_consider))\n",
        "\n",
        "        return self.total_steps, self.total_reward, self.return_increments(decisions_to_consider)\n",
        "  "
      ],
      "metadata": {
        "id": "3LvzuKndeOlS"
      },
      "execution_count": 734,
      "outputs": []
    },
    {
      "cell_type": "code",
      "source": [
        "sol_test = SocketTesterBatch(PowerSocket, list(rewards_bias), 5)\n",
        "decisions = random.choices(range(8),weights=list(instances_bias),k=1000)\n",
        "ts,tr,ti = sol_test.run(decisions, 0.8, True)"
      ],
      "metadata": {
        "colab": {
          "base_uri": "https://localhost:8080/"
        },
        "id": "1z9nQnr5ra7v",
        "outputId": "160a9a4a-b816-49dc-9115-d094318a39c4"
      },
      "execution_count": 735,
      "outputs": [
        {
          "output_type": "stream",
          "name": "stdout",
          "text": [
            "[0 1 2 3 4 5 6]\n",
            "Presence of each in batch (%): [54.7, 23.9, 2.4, 1.6, 8.3, 9.0, 0.1, 0.0]\n",
            "Relative approval rate (%): [100.0, 87.45, 100.0, 100.0, 2.41, 1.11, 100.0, nan]\n",
            "Percentage over total selected (%): [68.38, 26.12, 3.0, 2.0, 0.25, 0.12, 0.12, 0.0]\n"
          ]
        },
        {
          "output_type": "stream",
          "name": "stderr",
          "text": [
            "/usr/local/lib/python3.7/dist-packages/ipykernel_launcher.py:157: RuntimeWarning: invalid value encountered in double_scalars\n"
          ]
        }
      ]
    },
    {
      "cell_type": "code",
      "source": [
        "sol_test = SocketTesterBatchSOLUTION(PowerSocket, list(rewards_bias), 5, 0)\n",
        "decisions = random.choices(range(8),weights=list(instances_bias),k=1000)\n",
        "ts,tr,ti = sol_test.run(decisions, 0.8, True)"
      ],
      "metadata": {
        "colab": {
          "base_uri": "https://localhost:8080/"
        },
        "id": "A128ar06rM8p",
        "outputId": "31f6addf-48d2-4096-a0b4-985f82368095"
      },
      "execution_count": 736,
      "outputs": [
        {
          "output_type": "stream",
          "name": "stdout",
          "text": [
            "possibles [522, 247, 24, 10, 97, 100, 0, 0]\n",
            "Presence of each in batch (%): [52.2, 24.7, 2.4, 1.0, 9.7, 10.0, 0.0, 0.0]\n",
            "Times selected: [522. 242.  24.  10.   1.   1.   0.   0.]\n",
            "Relative approval rate (%): [100.0, 97.98, 100.0, 100.0, 1.03, 1.0, 0.0, 0.0]\n",
            "Percentage over total selected (%): [65.17, 30.21, 3.0, 1.25, 0.12, 0.12, 0.0, 0.0]\n"
          ]
        }
      ]
    },
    {
      "cell_type": "code",
      "source": [
        "sol_test = SocketTesterBatchSOLUTION(PowerSocket, list(rewards_bias), 5, 0.01)\n",
        "decisions = random.choices(range(8),weights=list(instances_bias),k=1000)\n",
        "ts,tr,ti = sol_test.run(decisions, 0.8, True)"
      ],
      "metadata": {
        "colab": {
          "base_uri": "https://localhost:8080/"
        },
        "id": "qLFP4Yjhe6tB",
        "outputId": "800c5f73-8729-49cb-b321-c84d67797c23"
      },
      "execution_count": 737,
      "outputs": [
        {
          "output_type": "stream",
          "name": "stdout",
          "text": [
            "possibles [564, 232, 20, 10, 92, 81, 0, 1]\n",
            "Presence of each in batch (%): [56.4, 23.2, 2.0, 1.0, 9.2, 8.1, 0.0, 0.1]\n",
            "Times selected: [549. 217.  20.  10.   2.   1.   0.   1.]\n",
            "Relative approval rate (%): [97.34, 93.53, 100.0, 100.0, 2.17, 1.23, 0.0, 100.0]\n",
            "Percentage over total selected (%): [68.54, 27.09, 2.5, 1.25, 0.25, 0.12, 0.0, 0.12]\n"
          ]
        }
      ]
    },
    {
      "cell_type": "code",
      "source": [
        "sol_test = SocketTesterBatchSOLUTION(PowerSocket, list(rewards_bias), 5, 0.1)\n",
        "decisions = random.choices(range(8),weights=list(instances_bias),k=1000)\n",
        "ts,tr,ti = sol_test.run(decisions, 0.8, True)"
      ],
      "metadata": {
        "colab": {
          "base_uri": "https://localhost:8080/"
        },
        "id": "O1twdS7WwA5H",
        "outputId": "c4f82762-26bb-47a6-e787-9511d13ce6b1"
      },
      "execution_count": 738,
      "outputs": [
        {
          "output_type": "stream",
          "name": "stdout",
          "text": [
            "possibles [556, 221, 24, 16, 102, 78, 0, 3]\n",
            "Presence of each in batch (%): [55.6, 22.1, 2.4, 1.6, 10.2, 7.8, 0.0, 0.3]\n",
            "Times selected: [356. 221.  24.  16. 102.  78.   0.   3.]\n",
            "Relative approval rate (%): [64.03, 100.0, 100.0, 100.0, 100.0, 100.0, 0.0, 100.0]\n",
            "Percentage over total selected (%): [44.44, 27.59, 3.0, 2.0, 12.73, 9.74, 0.0, 0.37]\n"
          ]
        }
      ]
    },
    {
      "cell_type": "code",
      "source": [
        "#sol_test = SocketTesterBatchSOLUTION(PowerSocket, list(rewards_bias), 5, 50)\n",
        "#decisions = random.choices(range(8),weights=list(instances_bias),k=1000)\n",
        "#ts,tr,ti = sol_test.run(decisions, 0.8, True)"
      ],
      "metadata": {
        "id": "bV4yyv2zvL-U"
      },
      "execution_count": 739,
      "outputs": []
    },
    {
      "cell_type": "markdown",
      "source": [
        "curr_percentages = self.socket_stats[:,:,1][t]/t\n",
        "mean_percentages = np.mean(curr_percentages)\n",
        "dif_percentages = np.subtract(mean_percentages,self.socket_stats[:,:,1][t]/t)\n",
        "\n",
        "mean_selections = np.mean(self.get_number_of_trials()[t])\n",
        "dif_selections = np.subtract(mean_selections,self.get_number_of_trials()[t])\n",
        "\n",
        "#DUES CONSTRAINTS, UNA PER PERCENTATGES, L'ALTRE n SELECTIONS\n",
        "//dif = dif_percentages #rang 10-30-50\n",
        "\n",
        "dif = dif_selections   #rang 0-0.01-0.1"
      ],
      "metadata": {
        "id": "zs58UXGgp_JC"
      }
    }
  ]
}