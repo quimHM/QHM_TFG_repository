{
  "nbformat": 4,
  "nbformat_minor": 0,
  "metadata": {
    "colab": {
      "name": "MAB_sim.ipynb",
      "provenance": [],
      "collapsed_sections": [],
      "authorship_tag": "ABX9TyN8PvNYTOBWV16cKe420+ku",
      "include_colab_link": true
    },
    "kernelspec": {
      "name": "python3",
      "display_name": "Python 3"
    },
    "language_info": {
      "name": "python"
    }
  },
  "cells": [
    {
      "cell_type": "markdown",
      "metadata": {
        "id": "view-in-github",
        "colab_type": "text"
      },
      "source": [
        "<a href=\"https://colab.research.google.com/github/quimHM/QHM_TFG_repository/blob/main/MAB_sim.ipynb\" target=\"_parent\"><img src=\"https://colab.research.google.com/assets/colab-badge.svg\" alt=\"Open In Colab\"/></a>"
      ]
    },
    {
      "cell_type": "code",
      "source": [
        "#https://towardsdatascience.com/multi-armed-bandits-and-reinforcement-learning-dc9001dcb8da\n",
        "#https://towardsdatascience.com/the-upper-confidence-bound-ucb-bandit-algorithm-c05c2bf4c13f\n",
        "\n",
        "#https://github.com/WhatIThinkAbout/BabyRobot/tree/master/Multi_Armed_Bandits"
      ],
      "metadata": {
        "id": "lch3cBlMon8x"
      },
      "execution_count": 5,
      "outputs": []
    },
    {
      "cell_type": "code",
      "source": [
        ""
      ],
      "metadata": {
        "id": "7XlcGP0_on6J"
      },
      "execution_count": 5,
      "outputs": []
    },
    {
      "cell_type": "code",
      "source": [
        "# import modules \n",
        "import numpy as np \n",
        "import matplotlib.pyplot as plt \n",
        "import pandas as pd \n",
        "import math\n",
        "import random\n",
        "%matplotlib inline\n",
        "from scipy.stats import binom"
      ],
      "metadata": {
        "id": "0Oh75adZ2qAY"
      },
      "execution_count": 6,
      "outputs": []
    },
    {
      "cell_type": "code",
      "source": [
        "class PowerSocket:\n",
        "    \"\"\" the base power socket class \"\"\"\n",
        "    \n",
        "    def __init__(self, q, cl, var=0.1):                \n",
        "        self.q = q        # the true reward value \n",
        "        self.confidence_level = cl          \n",
        "        self.var = var   \n",
        "        self.initialize() # reset the socket\n",
        "        \n",
        "    def initialize(self):\n",
        "        self.Q = 0   # the estimate of this socket's reward value                \n",
        "        self.n = 0   # the number of times this socket has been tried        \n",
        "    \n",
        "    def charge(self):\n",
        "        \"\"\" return a random amount of charge \"\"\"\n",
        "        \n",
        "        # the reward is a guassian distribution with unit variance around the true\n",
        "        # value 'q'\n",
        "        value = self.var * np.random.randn() + self.q        \n",
        "        \n",
        "        # never allow a charge less than 0 to be returned        \n",
        "        return 0 if value < 0 else value\n",
        "               \n",
        "    def update(self,R):\n",
        "        \"\"\" update this socket after it has returned reward value 'R' \"\"\"     \n",
        "    \n",
        "        # increment the number of times this socket has been tried\n",
        "        self.n += 1\n",
        "\n",
        "        # the new estimate of the mean is calculated from the old estimate\n",
        "        self.Q = (1 - 1.0/self.n) * self.Q + (1.0/self.n) * R\n",
        "\n",
        "    def uncertainty(self, t): \n",
        "        \"\"\" calculate the uncertainty in the estimate of this socket's mean \"\"\"\n",
        "        if self.n == 0: return float('inf')                         \n",
        "        return self.confidence_level * (np.sqrt(np.log(t) / self.n))         \n",
        "        \n",
        "    def sample(self,t):\n",
        "        \"\"\" the UCB reward is the estimate of the mean reward plus its uncertainty \"\"\"\n",
        "        #print(self.uncertainty(t))\n",
        "        return self.Q + self.uncertainty(t) "
      ],
      "metadata": {
        "id": "p8tfQUa07n9G"
      },
      "execution_count": 7,
      "outputs": []
    },
    {
      "cell_type": "code",
      "source": [
        "class PowerSocketProb:\n",
        "    \"\"\" the base power socket class \"\"\"\n",
        "    \n",
        "    def __init__(self, q, cl):                \n",
        "        self.q = q        # the true reward value \n",
        "        self.confidence_level = cl  \n",
        "        self.initialize() # reset the socket\n",
        "        \n",
        "    def initialize(self):\n",
        "        self.Q = 0   # the estimate of this socket's reward value                \n",
        "        self.n = 0   # the number of times this socket has been tried        \n",
        "    \n",
        "    def charge(self):\n",
        "        \"\"\" return a random amount of charge \"\"\"\n",
        "        \n",
        "        # the reward is a guassian distribution with unit variance around the true\n",
        "        # value 'q'\n",
        "        value = 100 * np.random.binomial(1,self.q)     \n",
        "        \n",
        "        # never allow a charge less than 0 to be returned        \n",
        "        return 0 if value < 0 else value\n",
        "               \n",
        "    def update(self,R):\n",
        "        \"\"\" update this socket after it has returned reward value 'R' \"\"\"     \n",
        "    \n",
        "        # increment the number of times this socket has been tried\n",
        "        self.n += 1\n",
        "\n",
        "        # the new estimate of the mean is calculated from the old estimate\n",
        "        self.Q = (1 - 1.0/self.n) * self.Q + (1.0/self.n) * R\n",
        "\n",
        "    def uncertainty(self, t): \n",
        "        \"\"\" calculate the uncertainty in the estimate of this socket's mean \"\"\"\n",
        "        if self.n == 0: return float('inf')                         \n",
        "        return self.confidence_level * (np.sqrt(np.log(t) / self.n))         \n",
        "        \n",
        "    def sample(self,t):\n",
        "        \"\"\" the UCB reward is the estimate of the mean reward plus its uncertainty \"\"\"\n",
        "        #print(self.uncertainty(t))\n",
        "        return self.Q + self.uncertainty(t) "
      ],
      "metadata": {
        "id": "ikVFqkh2KKSf"
      },
      "execution_count": 8,
      "outputs": []
    },
    {
      "cell_type": "code",
      "source": [
        "class PowerSocketTrue:\n",
        "    \"\"\" the base power socket class \"\"\"\n",
        "    \n",
        "    def __init__(self, q, cl):                \n",
        "        self.q = q        # the true reward value \n",
        "        self.confidence_level = cl  \n",
        "        self.initialize() # reset the socket\n",
        "        \n",
        "    def initialize(self):\n",
        "        self.Q = 0   # the estimate of this socket's reward value                \n",
        "        self.n = 0   # the number of times this socket has been tried        \n",
        "    \n",
        "    def charge(self):\n",
        "        \"\"\" return a random amount of charge \"\"\"\n",
        "        \n",
        "        # the reward is a guassian distribution with unit variance around the true\n",
        "        # value 'q'\n",
        "        value = 100 * self.q[self.n]\n",
        "        \n",
        "        # never allow a charge less than 0 to be returned        \n",
        "        return 0 if value < 0 else value\n",
        "               \n",
        "    def update(self,R):\n",
        "        \"\"\" update this socket after it has returned reward value 'R' \"\"\"     \n",
        "    \n",
        "        # increment the number of times this socket has been tried\n",
        "        self.n += 1\n",
        "\n",
        "        # the new estimate of the mean is calculated from the old estimate\n",
        "        self.Q = (1 - 1.0/self.n) * self.Q + (1.0/self.n) * R\n",
        "\n",
        "    def uncertainty(self, t): \n",
        "        \"\"\" calculate the uncertainty in the estimate of this socket's mean \"\"\"\n",
        "        if self.n == 0: return float('inf')                         \n",
        "        return self.confidence_level * (np.sqrt(np.log(t) / self.n))         \n",
        "        \n",
        "    def sample(self,t):\n",
        "        \"\"\" the UCB reward is the estimate of the mean reward plus its uncertainty \"\"\"\n",
        "        #print(self.uncertainty(t))\n",
        "        return self.Q + self.uncertainty(t) "
      ],
      "metadata": {
        "id": "bAiiJh2t1TGq"
      },
      "execution_count": 9,
      "outputs": []
    },
    {
      "cell_type": "code",
      "source": [
        "# return the index of the largest value in the supplied list\n",
        "# - arbitrarily select between the largest values in the case of a tie\n",
        "# (the standard np.argmax just chooses the first value in the case of a tie)\n",
        "def random_argmax(value_list):\n",
        "  \"\"\" a random tie-breaking argmax\"\"\"\n",
        "  values = np.asarray(value_list)\n",
        "  return np.argmax(np.random.random(values.shape) * (values==values.max()))\n",
        "\n",
        "# return the index of the smallest value in the supplied list\n",
        "# - arbitrarily select between the smallest values in the case of a tie\n",
        "# (the standard np.argmin just chooses the first value in the case of a tie)\n",
        "def random_argmin(value_list):\n",
        "  \"\"\" a random tie-breaking argmin\"\"\"\n",
        "  values = np.asarray(value_list)\n",
        "  return np.argmin(np.random.random(values.shape) * (values==values.min()))\n"
      ],
      "metadata": {
        "id": "AnVMnmyuEth1"
      },
      "execution_count": 10,
      "outputs": []
    },
    {
      "cell_type": "code",
      "source": [
        "class SocketTester():\n",
        "    \"\"\" create and test a set of sockets over a single test run \"\"\"\n",
        "\n",
        "    def __init__(self, socket, socket_order, socket_vars, confidence_level):  \n",
        "        \n",
        "        # create supplied socket type with a mean value defined by socket order \n",
        "        # self.sockets = [socket(q, confidence_level) for q in socket_order]     \n",
        "        self.sockets = [socket(socket_order[s], confidence_level, socket_vars[s]) for s in range(len(socket_order))]\n",
        "\n",
        "        # set the number of sockets equal to the number created\n",
        "        self.number_of_sockets = len(self.sockets)\n",
        "\n",
        "        self.number_of_stats = 2                 \n",
        "            \n",
        "    def initialize_run(self, number_of_steps):\n",
        "        \"\"\" reset counters at the start of a run \"\"\"\n",
        "        \n",
        "        # save the number of steps over which the run will take place\n",
        "        self.number_of_steps = number_of_steps\n",
        "        \n",
        "        # reset the actual number of steps that the test ran for\n",
        "        self.total_steps = 0\n",
        "        \n",
        "        # monitor the total reward obtained over the run\n",
        "        self.total_reward = 0\n",
        "        \n",
        "        # the current total reward at each timestep of the run\n",
        "        self.total_reward_per_timestep = []\n",
        "        \n",
        "        # the actual reward obtained at each timestep\n",
        "        self.reward_per_timestep = []\n",
        "           \n",
        "        # stats for each time-step\n",
        "        # - by default records: estimate, number of trials\n",
        "        self.socket_stats = np.zeros(shape=(number_of_steps+1, \n",
        "                                            self.number_of_sockets, \n",
        "                                            self.number_of_stats))\n",
        "        \n",
        "        # ensure that all sockets are re-initialized\n",
        "        for socket in self.sockets: socket.initialize()\n",
        "            \n",
        "                                \n",
        "    def charge_and_update(self,socket_index):\n",
        "        \"\"\" charge from & update the specified socket and associated parameters \"\"\"\n",
        "        \n",
        "        # charge from the chosen socket and update its mean reward value\n",
        "        reward = self.sockets[socket_index].charge()\n",
        "        self.sockets[socket_index].update(reward)\n",
        "\n",
        "        # update the total reward\n",
        "        self.total_reward += reward   \n",
        "        \n",
        "        # store the current total reward at this timestep\n",
        "        self.total_reward_per_timestep.append(self.total_reward)\n",
        "        \n",
        "        # store the reward obtained at this timestep\n",
        "        self.reward_per_timestep.append(reward)        \n",
        "        \n",
        "        \n",
        "    def get_socket_stats( self, t ):\n",
        "        \"\"\" get the current information from each socket \"\"\"        \n",
        "        socket_stats = [[socket.Q, socket.n] for socket in self.sockets]\n",
        "        return socket_stats     \n",
        "    \n",
        "    def get_mean_reward( self ):\n",
        "        \"\"\" the total reward averaged over the number of time steps \"\"\"\n",
        "        return (self.total_reward/self.total_steps)\n",
        "    \n",
        "    def get_total_reward_per_timestep( self ):\n",
        "        \"\"\" the cumulative total reward at each timestep of the run \"\"\"\n",
        "        return self.total_reward_per_timestep\n",
        "    \n",
        "    def get_reward_per_timestep( self ):\n",
        "        \"\"\" the actual reward obtained at each timestep of the run \"\"\"\n",
        "        return self.reward_per_timestep\n",
        "    \n",
        "    def get_estimates(self):\n",
        "        \"\"\" get the estimate of each socket's reward at each timestep of the run \"\"\"\n",
        "        return self.socket_stats[:,:,0]  \n",
        "    \n",
        "    def get_number_of_trials(self):\n",
        "        \"\"\" get the number of trials of each socket at each timestep of the run \"\"\"\n",
        "        return self.socket_stats[:,:,1]          \n",
        "                \n",
        "    def get_socket_percentages( self ):\n",
        "        \"\"\" get the percentage of times each socket was tried over the run \"\"\"\n",
        "        return (self.socket_stats[:,:,1][self.total_steps]/self.total_steps)        \n",
        "    \n",
        "    def get_time_steps( self ):\n",
        "        \"\"\" get the number of time steps that the test ran for \"\"\"\n",
        "        return self.total_steps\n",
        "    \n",
        "    def select_socket( self, t ):\n",
        "        \"\"\" Greedy Socket Selection\"\"\"\n",
        "        \n",
        "        # choose the socket with the current highest mean reward or arbitrarily\n",
        "        # select a socket in the case of a tie            \n",
        "        socket_index = random_argmax([socket.sample(t+1) for socket in self.sockets]) \n",
        "        return socket_index     \n",
        "    \n",
        "    \n",
        "    def run( self, number_of_steps, maximum_total_reward = float('inf')):  \n",
        "        \"\"\" perform a single run, over the set of sockets, \n",
        "            for the defined number of steps \"\"\"\n",
        "        \n",
        "        # reset the run counters\n",
        "        self.initialize_run(number_of_steps)\n",
        "        \n",
        "        # loop for the specified number of time-steps\n",
        "        for t in range(number_of_steps):\n",
        "\n",
        "            # get information about all sockets at the start of the time step\n",
        "            self.socket_stats[t] = self.get_socket_stats(t)            \n",
        "            \n",
        "            # select a socket\n",
        "            socket_index = self.select_socket(t)\n",
        "            \n",
        "            # charge from the chosen socket and update its mean reward value\n",
        "            self.charge_and_update(socket_index)\n",
        "            \n",
        "            # test if the accumulated total reward is greater than the maximum\n",
        "            if self.total_reward > maximum_total_reward:\n",
        "                break\n",
        "       \n",
        "        # save the actual number of steps that have been run\n",
        "        self.total_steps = t    \n",
        "    \n",
        "        # get the stats for each socket at the end of the run        \n",
        "        self.socket_stats[t+1] = self.get_socket_stats(t+1)           \n",
        "        \n",
        "        return self.total_steps, self.total_reward\n",
        "  "
      ],
      "metadata": {
        "id": "zCz0kAoMAizG"
      },
      "execution_count": 11,
      "outputs": []
    },
    {
      "cell_type": "code",
      "source": [
        "def mus_and_devs_random():\n",
        "  devs = []\n",
        "  mus = []\n",
        "  for i in range(8):\n",
        "    d = round(random.uniform(5.0,15.0),2)\n",
        "    m = round(random.uniform(70.0,100.0),2)\n",
        "    devs.append(d)\n",
        "    mus.append(m)\n",
        "  return mus,devs"
      ],
      "metadata": {
        "id": "qbUQFmEgOBaj"
      },
      "execution_count": 12,
      "outputs": []
    },
    {
      "cell_type": "code",
      "source": [
        "def mus_and_devs():\n",
        "  devs = [10.0]*8\n",
        "  mus = []\n",
        "  for i in range(8):\n",
        "    m = 100.0-i*5.0\n",
        "    mus.append(m)\n",
        "  return mus,devs"
      ],
      "metadata": {
        "id": "OaInX7jwOD_L"
      },
      "execution_count": 13,
      "outputs": []
    },
    {
      "cell_type": "code",
      "source": [
        "#mus,devs = mus_and_devs_random()\n",
        "mus,devs = mus_and_devs()\n",
        "\n",
        "#devs = [9.3, 5.67, 11.93, 9.18, 13.66, 8.94, 6.83, 7.91]\n",
        "#mus = [92.1, 98.48, 88.49, 80.36, 89.97, 73.78, 97.18, 91.52]\n",
        "\n",
        "print(devs)\n",
        "print(mus)\n",
        "test = SocketTester(PowerSocket, mus, devs, 5)\n",
        "test.run(1000)\n",
        "test.get_number_of_trials()[-1]"
      ],
      "metadata": {
        "id": "pnakDg5QCwfq",
        "colab": {
          "base_uri": "https://localhost:8080/"
        },
        "outputId": "e90d49ad-b563-4a44-c7c5-135956c102c1"
      },
      "execution_count": 14,
      "outputs": [
        {
          "output_type": "stream",
          "name": "stdout",
          "text": [
            "[10.0, 10.0, 10.0, 10.0, 10.0, 10.0, 10.0, 10.0]\n",
            "[100.0, 95.0, 90.0, 85.0, 80.0, 75.0, 70.0, 65.0]\n"
          ]
        },
        {
          "output_type": "execute_result",
          "data": {
            "text/plain": [
              "array([823., 165.,   3.,   3.,   2.,   2.,   1.,   1.])"
            ]
          },
          "metadata": {},
          "execution_count": 14
        }
      ]
    },
    {
      "cell_type": "code",
      "source": [
        "class SocketTesterBatch():\n",
        "    \"\"\" create and test a set of sockets over a single test run \"\"\"\n",
        "\n",
        "    def __init__(self, socket, socket_order, socket_vars, confidence_level):  \n",
        "        \n",
        "        # create supplied socket type with a mean value defined by socket order \n",
        "        self.sockets = [socket(socket_order[s], confidence_level, socket_vars[s]) for s in range(len(socket_order))]\n",
        "        \n",
        "        # set the number of sockets equal to the number created\n",
        "        self.number_of_sockets = len(self.sockets)\n",
        "\n",
        "        self.number_of_stats = 2                 \n",
        "            \n",
        "    def initialize_run(self, number_of_steps):\n",
        "        \"\"\" reset counters at the start of a run \"\"\"\n",
        "        \n",
        "        # save the number of steps over which the run will take place\n",
        "        self.number_of_steps = number_of_steps\n",
        "        \n",
        "        # reset the actual number of steps that the test ran for\n",
        "        self.total_steps = 0\n",
        "        \n",
        "        # monitor the total reward obtained over the run\n",
        "        self.total_reward = 0\n",
        "        \n",
        "        # the current total reward at each timestep of the run\n",
        "        self.total_reward_per_timestep = []\n",
        "        \n",
        "        # the actual reward obtained at each timestep\n",
        "        self.reward_per_timestep = []\n",
        "           \n",
        "        # stats for each time-step\n",
        "        # - by default records: estimate, number of trials\n",
        "        self.socket_stats = np.zeros(shape=(number_of_steps+1, \n",
        "                                            self.number_of_sockets, \n",
        "                                            self.number_of_stats))\n",
        "        \n",
        "        # ensure that all sockets are re-initialized\n",
        "        for socket in self.sockets: socket.initialize()\n",
        "            \n",
        "                                \n",
        "    def charge_and_update(self,socket_index):\n",
        "        \"\"\" charge from & update the specified socket and associated parameters \"\"\"\n",
        "        \n",
        "        # charge from the chosen socket and update its mean reward value\n",
        "        reward = self.sockets[socket_index].charge()\n",
        "        self.sockets[socket_index].update(reward)\n",
        "\n",
        "        # update the total reward\n",
        "        self.total_reward += reward   \n",
        "        \n",
        "        # store the current total reward at this timestep\n",
        "        self.total_reward_per_timestep.append(self.total_reward)\n",
        "        \n",
        "        # store the reward obtained at this timestep\n",
        "        self.reward_per_timestep.append(reward)        \n",
        "        \n",
        "        \n",
        "    def get_socket_stats( self, t ):\n",
        "        \"\"\" get the current information from each socket \"\"\"        \n",
        "        socket_stats = [[socket.Q, socket.n] for socket in self.sockets]\n",
        "        return socket_stats     \n",
        "    \n",
        "    def get_mean_reward( self ):\n",
        "        \"\"\" the total reward averaged over the number of time steps \"\"\"\n",
        "        return (self.total_reward/self.total_steps)\n",
        "    \n",
        "    def get_total_reward_per_timestep( self ):\n",
        "        \"\"\" the cumulative total reward at each timestep of the run \"\"\"\n",
        "        return self.total_reward_per_timestep\n",
        "    \n",
        "    def get_reward_per_timestep( self ):\n",
        "        \"\"\" the actual reward obtained at each timestep of the run \"\"\"\n",
        "        return self.reward_per_timestep\n",
        "    \n",
        "    def get_estimates(self):\n",
        "        \"\"\" get the estimate of each socket's reward at each timestep of the run \"\"\"\n",
        "        return self.socket_stats[:,:,0]  \n",
        "    \n",
        "    def get_number_of_trials(self):\n",
        "        \"\"\" get the number of trials of each socket at each timestep of the run \"\"\"\n",
        "        return self.socket_stats[:,:,1]          \n",
        "                \n",
        "    def get_socket_percentages( self ):\n",
        "        \"\"\" get the percentage of times each socket was tried over the run \"\"\"\n",
        "        return (self.socket_stats[:,:,1][self.total_steps]/self.total_steps)        \n",
        "    \n",
        "    def get_time_steps( self ):\n",
        "        \"\"\" get the number of time steps that the test ran for \"\"\"\n",
        "        return self.total_steps\n",
        "    \n",
        "    def select_socket( self, t ):\n",
        "        \"\"\" Greedy Socket Selection\"\"\"\n",
        "        \n",
        "        # choose the socket with the current highest mean reward or arbitrarily\n",
        "        # select a socket in the case of a tie            \n",
        "        mask = [self.get_number_of_trials()[t][i]<self.possibles[i] for i in range(len(self.sockets))]\n",
        "        #print(mask)\n",
        "        available = [self.sockets[i] for i in range(len(self.sockets)) if (mask[i])]\n",
        "        socket_max = random_argmax([socket.sample(t+1) for socket in available]) \n",
        "        #print(socket_max)\n",
        "        socket_index = self.sockets.index(available[socket_max])\n",
        "        return socket_index     \n",
        "    \n",
        "    def return_increments(self, decisions_to_consider):\n",
        "        presence = np.array([i/len(decisions_to_consider) for i in self.possibles])\n",
        "        selected_presence = np.array(self.get_socket_percentages())\n",
        "        diff = np.subtract(selected_presence, presence)\n",
        "        diff = np.divide(diff,presence, out=np.zeros_like(diff), where=presence!=0)\n",
        "        #print(diff)\n",
        "        #print(diff.sum())\n",
        "        return diff\n",
        "    \n",
        "    def run( self, decisions_to_consider, max_percent_decisions=1, prints_bool = True):  \n",
        "        \"\"\" perform a single run, over the set of sockets, \n",
        "            for the defined number of steps \"\"\"\n",
        "        \n",
        "        # reset the run counters\n",
        "        self.initialize_run(len(decisions_to_consider))\n",
        "\n",
        "        self.possibles = [0]*8 #TODO: DEPENDS ON N OF CLUSTER (DECISIONS.UNIQUE() ISNT ENOUGH BECAUSE IT CAN LACK SOME INSTANCES)\n",
        "        for i in np.unique(np.array(decisions_to_consider)):\n",
        "          self.possibles[i] = decisions_to_consider.count(i) \n",
        "\n",
        "        usos = 0\n",
        "        usos_maxims = math.floor(max_percent_decisions*len(decisions_to_consider))\n",
        "        #print(usos_maxims)\n",
        "\n",
        "        # loop for the specified number of time-steps\n",
        "        for t in range(len(decisions_to_consider)):\n",
        "\n",
        "            # get information about all sockets at the start of the time step\n",
        "            self.socket_stats[t] = self.get_socket_stats(t)            \n",
        "            \n",
        "            # select a socket\n",
        "            socket_index = self.select_socket(t)\n",
        "            #if(decisions_to_consider[t]==socket_index):\n",
        "            if(self.get_number_of_trials()[t][socket_index]<self.possibles[socket_index]):\n",
        "              # charge from the chosen socket and update its mean reward value\n",
        "              self.charge_and_update(socket_index)\n",
        "              usos+=1\n",
        "              \n",
        "              if usos > usos_maxims:\n",
        "                  #print(usos,usos_maxims)\n",
        "                  break\n",
        "        # save the actual number of steps that have been run\n",
        "        self.total_steps = t    \n",
        "    \n",
        "        # get the stats for each socket at the end of the run        \n",
        "        self.socket_stats[t+1] = self.get_socket_stats(t+1)           \n",
        "        \n",
        "        if(prints_bool):\n",
        "          print(\"Reward distribution:\",[s.q for s in self.sockets])\n",
        "          #print(\"Intances of each cluster:\",self.possibles)\n",
        "          print(\"Presence of each in batch (%):\",[100*i/len(decisions_to_consider) for i in self.possibles])\n",
        "          #print(\"Times selected:\",self.get_number_of_trials()[t])\n",
        "          print(\"Relative approval rate (%):\",[round(100*self.get_number_of_trials()[t][i]/self.possibles[i],2) if self.possibles[i]>0.0 else 0.0 for i in range(len(self.possibles))])\n",
        "          print(\"Percentage over total selected (%):\",[round(100*p,2) for p in self.get_socket_percentages()])\n",
        "          #print(\"For a total reward:\",self.total_reward)\n",
        "\n",
        "\n",
        "        return self.total_steps, self.total_reward, self.return_increments(decisions_to_consider)\n",
        "  "
      ],
      "metadata": {
        "id": "6NcpcFYlGLjb"
      },
      "execution_count": 15,
      "outputs": []
    },
    {
      "cell_type": "code",
      "source": [
        "devs = [9.3, 5.67, 11.93, 9.18, 13.66, 8.94, 6.83, 7.91]\n",
        "mus = [92.1, 98.48, 88.49, 80.36, 89.97, 73.78, 97.18, 91.52]\n",
        "#mus,devs = mus_and_devs()\n",
        "test2 = SocketTesterBatch(PowerSocket, mus, devs, 10)\n",
        "\n",
        "decisions = random.choices(range(8), k=1000)\n",
        "decisions = []\n",
        "for i in range(8):\n",
        "  for j in range(125):\n",
        "    decisions.append(i)\n",
        "#decisions = [[125]]*8\n",
        "ts,tr,_ = test2.run(decisions)"
      ],
      "metadata": {
        "id": "DbwS4aiVIOdu",
        "colab": {
          "base_uri": "https://localhost:8080/"
        },
        "outputId": "49748889-2cc1-489f-ca53-cb2b6f8d84f2"
      },
      "execution_count": 16,
      "outputs": [
        {
          "output_type": "stream",
          "name": "stdout",
          "text": [
            "Reward distribution: [92.1, 98.48, 88.49, 80.36, 89.97, 73.78, 97.18, 91.52]\n",
            "Presence of each in batch (%): [12.5, 12.5, 12.5, 12.5, 12.5, 12.5, 12.5, 12.5]\n",
            "Relative approval rate (%): [100.0, 100.0, 100.0, 100.0, 100.0, 99.2, 100.0, 100.0]\n",
            "Percentage over total selected (%): [12.51, 12.51, 12.51, 12.51, 12.51, 12.41, 12.51, 12.51]\n"
          ]
        }
      ]
    },
    {
      "cell_type": "code",
      "source": [
        "ts,tr,_ = test2.run(decisions, 0.5)"
      ],
      "metadata": {
        "id": "1d47Wgx9cXYL",
        "colab": {
          "base_uri": "https://localhost:8080/"
        },
        "outputId": "1ff47929-ac18-4626-f88f-b40f655b6fc2"
      },
      "execution_count": 17,
      "outputs": [
        {
          "output_type": "stream",
          "name": "stdout",
          "text": [
            "Reward distribution: [92.1, 98.48, 88.49, 80.36, 89.97, 73.78, 97.18, 91.52]\n",
            "Presence of each in batch (%): [12.5, 12.5, 12.5, 12.5, 12.5, 12.5, 12.5, 12.5]\n",
            "Relative approval rate (%): [100.0, 100.0, 44.8, 1.6, 0.8, 0.8, 100.0, 52.0]\n",
            "Percentage over total selected (%): [25.0, 25.0, 11.2, 0.4, 0.2, 0.2, 25.0, 13.0]\n"
          ]
        }
      ]
    },
    {
      "cell_type": "code",
      "source": [
        "#sample_bias = [0.555, 0.24, 0.023, 0.011, 0.087, 0.081, 0.001, 0.001]\n",
        "#devs = [9.3, 5.67, 11.93, 9.18, 13.66, 8.94, 6.83, 7.91]\n",
        "#mus = [92.1, 98.48, 88.49, 80.36, 89.97, 73.78, 97.18, 91.52]\n",
        "weights_m = []\n",
        "for m in mus:\n",
        "  weights_m.append((m*m*m*m*m*m*m*m*m)/1000*(m*m*m*m*m*m*m*m*m)/1000)\n",
        "sample_bias_decisions = random.choices(range(8),weights=weights_m,k=1000)\n",
        "print(sample_bias_decisions)\n",
        "ts,tr,_ = test2.run(sample_bias_decisions, 0.8)"
      ],
      "metadata": {
        "id": "1nret0OpcuM9",
        "colab": {
          "base_uri": "https://localhost:8080/"
        },
        "outputId": "153d0d99-174f-40f8-8afa-970ad8313aa3"
      },
      "execution_count": 18,
      "outputs": [
        {
          "output_type": "stream",
          "name": "stdout",
          "text": [
            "[1, 1, 6, 1, 6, 0, 6, 1, 6, 7, 6, 2, 1, 6, 6, 4, 1, 6, 6, 6, 6, 2, 1, 7, 1, 6, 5, 6, 2, 1, 2, 7, 1, 1, 0, 2, 1, 6, 6, 6, 6, 7, 0, 7, 1, 6, 4, 1, 5, 1, 0, 1, 0, 4, 7, 2, 1, 7, 1, 7, 1, 1, 6, 6, 0, 6, 6, 1, 6, 3, 1, 1, 0, 3, 0, 7, 1, 1, 7, 1, 6, 1, 1, 0, 6, 1, 6, 1, 1, 1, 1, 1, 6, 6, 1, 3, 1, 7, 7, 2, 7, 0, 1, 6, 1, 6, 6, 4, 6, 0, 1, 1, 1, 6, 7, 0, 7, 6, 1, 6, 0, 7, 6, 1, 1, 6, 1, 0, 6, 6, 6, 1, 6, 1, 6, 1, 1, 1, 6, 2, 7, 1, 6, 1, 1, 1, 6, 1, 1, 2, 6, 1, 1, 0, 2, 6, 7, 0, 1, 1, 6, 7, 4, 1, 0, 1, 6, 0, 7, 6, 6, 1, 6, 6, 2, 1, 0, 1, 4, 1, 7, 2, 7, 2, 1, 1, 4, 0, 1, 1, 2, 2, 6, 1, 6, 6, 6, 1, 6, 1, 1, 6, 6, 1, 6, 1, 6, 6, 1, 1, 1, 4, 1, 6, 1, 6, 1, 0, 1, 7, 1, 6, 6, 6, 1, 7, 1, 1, 1, 4, 6, 0, 6, 6, 3, 6, 4, 0, 6, 1, 1, 1, 0, 6, 1, 4, 6, 1, 1, 1, 6, 1, 1, 7, 0, 1, 1, 7, 1, 0, 7, 0, 1, 4, 6, 1, 1, 1, 1, 6, 7, 6, 0, 2, 6, 2, 4, 1, 6, 1, 1, 2, 0, 6, 4, 2, 1, 6, 6, 6, 1, 1, 1, 7, 1, 2, 6, 6, 6, 1, 6, 7, 1, 1, 0, 6, 1, 7, 1, 1, 6, 1, 1, 1, 6, 6, 6, 1, 7, 0, 1, 6, 7, 1, 1, 1, 6, 4, 6, 7, 6, 3, 6, 1, 1, 7, 7, 6, 7, 6, 6, 6, 1, 1, 6, 0, 6, 7, 6, 6, 7, 1, 0, 6, 1, 6, 1, 6, 6, 6, 7, 1, 1, 1, 6, 6, 6, 0, 6, 1, 0, 7, 1, 7, 1, 6, 6, 7, 1, 1, 6, 1, 6, 1, 7, 6, 6, 3, 1, 7, 0, 6, 1, 6, 1, 1, 1, 7, 4, 0, 1, 1, 6, 6, 6, 6, 1, 4, 1, 4, 6, 4, 6, 6, 6, 7, 7, 1, 1, 1, 7, 6, 1, 1, 6, 6, 6, 6, 6, 6, 1, 6, 7, 6, 4, 6, 7, 4, 1, 6, 0, 6, 4, 1, 1, 4, 1, 1, 6, 7, 7, 6, 1, 6, 0, 1, 1, 1, 7, 1, 4, 6, 6, 2, 1, 6, 0, 1, 1, 6, 1, 6, 1, 1, 1, 1, 3, 3, 2, 1, 6, 1, 6, 1, 0, 7, 6, 6, 4, 1, 2, 2, 1, 6, 6, 6, 6, 0, 6, 1, 7, 4, 6, 4, 2, 1, 1, 2, 1, 6, 1, 6, 0, 6, 0, 6, 6, 1, 6, 2, 1, 6, 6, 6, 7, 6, 6, 1, 0, 1, 6, 1, 1, 1, 1, 4, 1, 0, 6, 6, 0, 6, 1, 6, 2, 1, 1, 6, 7, 1, 6, 6, 0, 2, 1, 1, 6, 6, 6, 1, 6, 6, 0, 1, 7, 1, 2, 1, 1, 6, 1, 1, 1, 7, 0, 1, 7, 1, 6, 6, 4, 6, 6, 4, 7, 0, 1, 6, 6, 2, 6, 1, 6, 6, 1, 6, 1, 6, 5, 6, 1, 6, 0, 1, 1, 2, 3, 6, 4, 0, 1, 1, 1, 1, 1, 1, 1, 6, 1, 2, 0, 1, 1, 1, 4, 1, 4, 6, 7, 0, 1, 6, 4, 6, 7, 1, 4, 7, 1, 6, 1, 6, 6, 1, 6, 2, 1, 4, 6, 1, 1, 7, 0, 1, 4, 7, 1, 2, 0, 1, 7, 7, 6, 6, 2, 4, 1, 1, 1, 1, 7, 1, 1, 2, 6, 1, 1, 4, 1, 1, 7, 0, 6, 6, 0, 6, 6, 6, 1, 2, 7, 1, 4, 1, 4, 4, 4, 1, 2, 4, 0, 6, 6, 7, 6, 1, 6, 1, 6, 1, 4, 1, 1, 1, 0, 0, 6, 1, 6, 7, 1, 0, 0, 3, 4, 6, 0, 1, 1, 1, 4, 1, 6, 2, 6, 0, 1, 6, 6, 1, 0, 1, 1, 1, 1, 1, 6, 4, 6, 7, 6, 2, 2, 1, 3, 1, 6, 1, 4, 6, 7, 1, 6, 1, 1, 1, 1, 1, 7, 1, 6, 6, 6, 1, 6, 7, 6, 6, 4, 6, 6, 1, 1, 1, 6, 0, 4, 0, 6, 1, 1, 1, 4, 1, 0, 1, 6, 6, 7, 3, 6, 1, 1, 0, 4, 1, 0, 1, 0, 1, 1, 1, 4, 4, 1, 0, 4, 1, 1, 6, 6, 6, 1, 6, 4, 0, 2, 1, 7, 1, 0, 1, 7, 1, 1, 6, 6, 0, 6, 6, 7, 6, 6, 1, 6, 1, 0, 7, 1, 7, 1, 6, 6, 1, 7, 1, 6, 1, 7, 1, 7, 0, 6, 4, 6, 0, 1, 1, 6, 6, 7, 1, 6, 7, 6, 6, 0, 6, 6, 0, 1, 1, 4, 1, 6, 1, 6, 4, 2, 1, 6, 1, 6, 0, 7, 2, 6, 1, 6, 0, 7, 0, 1, 1, 2, 1, 1, 1, 7, 4, 1, 7, 6, 1, 6, 1, 6, 7, 0, 1, 1, 6, 1, 1, 1, 6, 1, 1, 6, 1, 2, 1, 4, 6, 6, 1, 1, 1, 2, 0, 0, 6, 1, 1, 1, 1, 2, 7, 6, 1, 6, 1, 1, 7, 7, 0, 6, 6, 0, 2, 6, 0, 4, 6, 6, 7, 7, 1, 4, 1, 0, 1, 6, 1, 4, 6, 0, 1, 6, 1, 1, 1, 1, 7, 1, 6, 1, 1, 2, 1, 1, 1, 7, 2, 7, 7, 1, 1, 0, 1]\n",
            "Reward distribution: [92.1, 98.48, 88.49, 80.36, 89.97, 73.78, 97.18, 91.52]\n",
            "Presence of each in batch (%): [9.4, 37.3, 5.2, 1.2, 6.5, 0.3, 29.8, 10.3]\n",
            "Relative approval rate (%): [63.83, 100.0, 5.77, 25.0, 67.69, 33.33, 100.0, 17.48]\n",
            "Percentage over total selected (%): [7.5, 46.62, 0.38, 0.38, 5.5, 0.12, 37.25, 2.25]\n"
          ]
        }
      ]
    },
    {
      "cell_type": "code",
      "source": [
        "a=np.array([9.7, 36.7, 5.6, 0.9, 7.2, 0.1, 29.3, 10.5])\n",
        "#b=np.array([12.12, 45.88, 2.0, 1.12, 0.25, 0.12, 36.62, 1.88])\n",
        "b=np.array([12.12, 45.88, 0.75, 0.25, 1.38, 0.12, 36.62, 2.88])\n",
        "\n",
        "\n",
        "diff = np.subtract(b,a)\n",
        "print(diff)\n",
        "diff = np.divide(diff,a)\n",
        "print(diff)"
      ],
      "metadata": {
        "id": "nodQ1TkjnOUB",
        "colab": {
          "base_uri": "https://localhost:8080/"
        },
        "outputId": "04bc0993-4b14-47ad-dfda-b766e25dec11"
      },
      "execution_count": 19,
      "outputs": [
        {
          "output_type": "stream",
          "name": "stdout",
          "text": [
            "[ 2.42  9.18 -4.85 -0.65 -5.82  0.02  7.32 -7.62]\n",
            "[ 0.24948454  0.25013624 -0.86607143 -0.72222222 -0.80833333  0.2\n",
            "  0.24982935 -0.72571429]\n"
          ]
        }
      ]
    },
    {
      "cell_type": "markdown",
      "source": [
        "###**NON-STATIC**"
      ],
      "metadata": {
        "id": "KFPxU49FzLqe"
      }
    },
    {
      "cell_type": "code",
      "source": [
        "#def f(probs, val, ind):\n",
        "#    probs[ind] += val\n",
        "#    mask = np.ones(len(probs), bool)\n",
        "#    mask[ind] = False\n",
        "#    probs[mask] -= val / (len(probs) - 1)\n",
        "#    return np.clip(probs, 0, np.infty) / np.sum(np.clip(probs, 0, np.infty))"
      ],
      "metadata": {
        "id": "K56OQeDy-HqE"
      },
      "execution_count": 20,
      "outputs": []
    },
    {
      "cell_type": "code",
      "source": [
        "def cummulative_sample(tester,iter,orig,coef):\n",
        "  instances_distribution = np.array(orig)\n",
        "  for i in range(iter):\n",
        "    pbool=False\n",
        "    if(i%math.ceil(iter/4)==0 or i==iter-1):\n",
        "      print(i)\n",
        "      #print(list(instances_distribution))\n",
        "      pbool=True\n",
        "\n",
        "    decisions = random.choices(range(8),weights=list(instances_distribution),k=5000)\n",
        "    ts,tr,ti = tester.run(decisions, 0.8, pbool)\n",
        "    \n",
        "    #for i in range(len(ti)):\n",
        "    #  instances_distribution = f(instances_distribution,ti[i],i)\n",
        "    instances_distribution = np.add(instances_distribution,ti*coef*100)\n",
        "    instances_distribution = np.clip(instances_distribution,0,None)\n",
        "    instances_distribution = instances_distribution / instances_distribution.sum()"
      ],
      "metadata": {
        "id": "GANuWD7KzSzh"
      },
      "execution_count": 21,
      "outputs": []
    },
    {
      "cell_type": "code",
      "source": [
        "#o_sample_bias = [0.555, 0.24, 0.023, 0.011, 0.087, 0.081, 0.001, 0.001]\n",
        "#o_sample_bias = weights_m\n",
        "#cummulative_sample(test2,35,o_sample_bias,0.001)"
      ],
      "metadata": {
        "id": "Gx3cD1zIC4KH"
      },
      "execution_count": 22,
      "outputs": []
    },
    {
      "cell_type": "code",
      "source": [
        "#no_sample_bias = [1/8]*8\n",
        "#cummulative_sample(test2,35,no_sample_bias,0.05)"
      ],
      "metadata": {
        "id": "cJ4_y3P4EDgD"
      },
      "execution_count": 23,
      "outputs": []
    },
    {
      "cell_type": "code",
      "source": [
        "#no_sample_bias = [1/8]*8\n",
        "#cummulative_sample(test2,150,no_sample_bias,0.05)"
      ],
      "metadata": {
        "id": "9LV85u5IC5fR"
      },
      "execution_count": 24,
      "outputs": []
    },
    {
      "cell_type": "code",
      "source": [
        "def nonstatic(iter, rewards_d_o_mu, rewards_d_o_dev, r_coef, instances_d_o, i_coef):\n",
        "  rewards_d = np.array(rewards_d_o_mu)\n",
        "  instances_d = np.array(instances_d_o)\n",
        "\n",
        "  #iter = 1000\n",
        "  for i in range(iter):\n",
        "    pbool=False\n",
        "    if(i%math.ceil(iter/4)==0 or i==iter-1):\n",
        "        print(i)\n",
        "        #print(list(instances_distribution))\n",
        "        pbool=True\n",
        "\n",
        "    updated_test = SocketTesterBatch(PowerSocket, list(rewards_d), rewards_d_o_dev, 10)\n",
        "    decisions = random.choices(range(8),weights=list(instances_d),k=5000)\n",
        "    ts,tr,ti = updated_test.run(decisions, 0.8, pbool)\n",
        "\n",
        "    increments = ti\n",
        "    #increments = np.subtract(np.array(updated_test.get_socket_percentages()),0.5)\n",
        "    #print(increments)\n",
        "\n",
        "    rewards_d = np.add(rewards_d,increments*r_coef*100)\n",
        "    rewards_d = np.clip(rewards_d,0,100)\n",
        "    #print(rewards_d)\n",
        "\n",
        "    instances_d = np.add(instances_d,increments*i_coef)\n",
        "    instances_d = np.clip(instances_d,0,None)\n",
        "    instances_d = instances_d / instances_d.sum()"
      ],
      "metadata": {
        "id": "92tyyqv-ENiD"
      },
      "execution_count": 25,
      "outputs": []
    },
    {
      "cell_type": "code",
      "source": [
        "#nonstatic(500, rewards_bias, devs_nonbias, 0.001, instances_bias, 0.001)"
      ],
      "metadata": {
        "id": "FejlbpgnQl7X"
      },
      "execution_count": 26,
      "outputs": []
    },
    {
      "cell_type": "code",
      "source": [
        "#nonstatic(2500, rewards_nonbias, 0, instances_bias, 0.01)"
      ],
      "metadata": {
        "id": "ESF0BONSY2zn"
      },
      "execution_count": 27,
      "outputs": []
    },
    {
      "cell_type": "code",
      "source": [
        "#nonstatic(100, rewards_bias, 0, instances_nonbias, 0)"
      ],
      "metadata": {
        "id": "oqORHeh6aGMa"
      },
      "execution_count": 28,
      "outputs": []
    },
    {
      "cell_type": "code",
      "source": [
        "#nonstatic(100, rewards_bias, 0.1, instances_nonbias, 0)"
      ],
      "metadata": {
        "id": "NCzrIuvtRI9q"
      },
      "execution_count": 29,
      "outputs": []
    },
    {
      "cell_type": "code",
      "source": [
        "#nonstatic(100, rewards_bias, 0, instances_bias, 0.01)"
      ],
      "metadata": {
        "id": "X0WG3QDAbQ8Y"
      },
      "execution_count": 30,
      "outputs": []
    },
    {
      "cell_type": "code",
      "source": [
        "#nonstatic(100, rewards_bias, 0.01, instances_bias, 0)"
      ],
      "metadata": {
        "id": "NOh88ta5bBUq"
      },
      "execution_count": 31,
      "outputs": []
    },
    {
      "cell_type": "code",
      "source": [
        "#nonstatic(100, rewards_bias, 0.01, instances_bias, 0.01)"
      ],
      "metadata": {
        "id": "JQWqf89ZYh32"
      },
      "execution_count": 32,
      "outputs": []
    },
    {
      "cell_type": "markdown",
      "source": [
        "###**SOLUTION?**"
      ],
      "metadata": {
        "id": "B2dnZoLKeN3T"
      }
    },
    {
      "cell_type": "code",
      "source": [
        "rewards_bias = np.array([.8555, .8193, .8284, .7994, .7103, .6635, .7471, .6731])\n",
        "rewards_nonbias = [0.8]*8\n",
        "devs_nonbias = [0]*8\n",
        "\n",
        "instances_bias = np.array([0.535, 0.24, 0.023, 0.011, 0.087, 0.081, 0.011, 0.011])\n",
        "instances_nonbias = [1/8]*8\n",
        "\n",
        "#sol_test = SocketTesterBatchSOLUTION(PowerSocket, rewards_bias, devs_nonbias, 0.05, 0)\n",
        "#decisions = random.choices(range(8),weights=list(instances_bias),k=5000)\n",
        "#rd = sol_test.run(decisions, 0.8, True)"
      ],
      "metadata": {
        "id": "A128ar06rM8p"
      },
      "execution_count": 33,
      "outputs": []
    },
    {
      "cell_type": "code",
      "source": [
        "\"\"\"\n",
        "    def bias_rate_hipo(self, t):\n",
        "        bias_list = []\n",
        "        for c in range(len(self.sockets)):\n",
        "          pulled = self.socket_stats[:,:,1][t].copy()\n",
        "          pulled[c]+=1\n",
        "          curr_percentages = np.array([pulled[i]/self.possibles[i] for i in range(len(self.sockets))])\n",
        "          #overall_percentages = np.mean(curr_percentages)\n",
        "          #diff = np.subtract(overall_percentages,curr_percentages)\n",
        "          diff = np.subtract(self.capping,curr_percentages)\n",
        "          abs = np.abs(diff)\n",
        "          bias_list.append(np.sum(abs))\n",
        "        return bias_list\n",
        "\n",
        "    def bias_rate_step(self, t):\n",
        "        curr_percentages = np.array([self.get_number_of_trials()[t][i]/self.possibles[i] for i in range(len(self.sockets))])\n",
        "        #overall_percentages = np.mean(curr_percentages)\n",
        "        #diff = np.subtract(overall_percentages,curr_percentages)\n",
        "        diff = np.subtract(self.capping,curr_percentages)\n",
        "        abs = np.abs(diff)\n",
        "        return np.sum(abs) \n",
        "\n",
        "    def final_bias_rate(self):\n",
        "        final_percentages = np.array([self.get_number_of_trials()[self.total_steps][i]/self.possibles[i] for i in range(len(self.sockets))])\n",
        "        overall_percentages = np.mean(final_percentages)\n",
        "        diff = np.subtract(overall_percentages,final_percentages)\n",
        "        abs = np.abs(diff)\n",
        "        return np.sum(abs) \n",
        "\"\"\""
      ],
      "metadata": {
        "id": "tPolyOGXleCW",
        "colab": {
          "base_uri": "https://localhost:8080/",
          "height": 92
        },
        "outputId": "349eee8f-fd8e-49bd-cfdb-cbb1d975c9d0"
      },
      "execution_count": 34,
      "outputs": [
        {
          "output_type": "execute_result",
          "data": {
            "text/plain": [
              "'\\n    def bias_rate_hipo(self, t):\\n        bias_list = []\\n        for c in range(len(self.sockets)):\\n          pulled = self.socket_stats[:,:,1][t].copy()\\n          pulled[c]+=1\\n          curr_percentages = np.array([pulled[i]/self.possibles[i] for i in range(len(self.sockets))])\\n          #overall_percentages = np.mean(curr_percentages)\\n          #diff = np.subtract(overall_percentages,curr_percentages)\\n          diff = np.subtract(self.capping,curr_percentages)\\n          abs = np.abs(diff)\\n          bias_list.append(np.sum(abs))\\n        return bias_list\\n\\n    def bias_rate_step(self, t):\\n        curr_percentages = np.array([self.get_number_of_trials()[t][i]/self.possibles[i] for i in range(len(self.sockets))])\\n        #overall_percentages = np.mean(curr_percentages)\\n        #diff = np.subtract(overall_percentages,curr_percentages)\\n        diff = np.subtract(self.capping,curr_percentages)\\n        abs = np.abs(diff)\\n        return np.sum(abs) \\n\\n    def final_bias_rate(self):\\n        final_percentages = np.array([self.get_number_of_trials()[self.total_steps][i]/self.possibles[i] for i in range(len(self.sockets))])\\n        overall_percentages = np.mean(final_percentages)\\n        diff = np.subtract(overall_percentages,final_percentages)\\n        abs = np.abs(diff)\\n        return np.sum(abs) \\n'"
            ],
            "application/vnd.google.colaboratory.intrinsic+json": {
              "type": "string"
            }
          },
          "metadata": {},
          "execution_count": 34
        }
      ]
    },
    {
      "cell_type": "code",
      "source": [
        "class SocketTesterBatchSOLUTIONProb():\n",
        "    \"\"\" create and test a set of sockets over a single test run \"\"\"\n",
        "\n",
        "    def __init__(self, socket, socket_order, confidence_level, sub_opt):  \n",
        "        \n",
        "        self.subopt_coef = sub_opt\n",
        "\n",
        "        # create supplied socket type with a mean value defined by socket order \n",
        "        self.sockets = [socket(socket_order[s], confidence_level) for s in range(len(socket_order))]\n",
        "        \n",
        "        # set the number of sockets equal to the number created\n",
        "        self.number_of_sockets = len(self.sockets)\n",
        "\n",
        "        self.number_of_stats = 2                 \n",
        "            \n",
        "    def initialize_run(self, number_of_steps):\n",
        "        \"\"\" reset counters at the start of a run \"\"\"\n",
        "        \n",
        "        # save the number of steps over which the run will take place\n",
        "        self.number_of_steps = number_of_steps\n",
        "        \n",
        "        # reset the actual number of steps that the test ran for\n",
        "        self.total_steps = 0\n",
        "        \n",
        "        # monitor the total reward obtained over the run\n",
        "        self.total_reward = 0\n",
        "        \n",
        "        # the current total reward at each timestep of the run\n",
        "        self.total_reward_per_timestep = []\n",
        "        \n",
        "        # the actual reward obtained at each timestep\n",
        "        self.reward_per_timestep = []\n",
        "           \n",
        "        # stats for each time-step\n",
        "        # - by default records: estimate, number of trials\n",
        "        self.socket_stats = np.zeros(shape=(number_of_steps+1, \n",
        "                                            self.number_of_sockets, \n",
        "                                            self.number_of_stats))\n",
        "        \n",
        "        # ensure that all sockets are re-initialized\n",
        "        for socket in self.sockets: socket.initialize()\n",
        "            \n",
        "                                \n",
        "    def charge_and_update(self,socket_index):\n",
        "        \"\"\" charge from & update the specified socket and associated parameters \"\"\"\n",
        "        \n",
        "        # charge from the chosen socket and update its mean reward value\n",
        "        reward = self.sockets[socket_index].charge()\n",
        "        self.sockets[socket_index].update(reward)\n",
        "\n",
        "        # update the total reward\n",
        "        self.total_reward += reward   \n",
        "        \n",
        "        # store the current total reward at this timestep\n",
        "        self.total_reward_per_timestep.append(self.total_reward)\n",
        "        \n",
        "        # store the reward obtained at this timestep\n",
        "        self.reward_per_timestep.append(reward)        \n",
        "        \n",
        "        \n",
        "    def get_socket_stats( self, t ):\n",
        "        \"\"\" get the current information from each socket \"\"\"        \n",
        "        socket_stats = [[socket.Q, socket.n] for socket in self.sockets]\n",
        "        return socket_stats     \n",
        "    \n",
        "    def get_mean_reward( self ):\n",
        "        \"\"\" the total reward averaged over the number of time steps \"\"\"\n",
        "        return (self.total_reward/self.total_steps)\n",
        "    \n",
        "    def get_total_reward_per_timestep( self ):\n",
        "        \"\"\" the cumulative total reward at each timestep of the run \"\"\"\n",
        "        return self.total_reward_per_timestep\n",
        "    \n",
        "    def get_reward_per_timestep( self ):\n",
        "        \"\"\" the actual reward obtained at each timestep of the run \"\"\"\n",
        "        return self.reward_per_timestep\n",
        "    \n",
        "    def get_estimates(self):\n",
        "        \"\"\" get the estimate of each socket's reward at each timestep of the run \"\"\"\n",
        "        return self.socket_stats[:,:,0]  \n",
        "    \n",
        "    def get_number_of_trials(self):\n",
        "        \"\"\" get the number of trials of each socket at each timestep of the run \"\"\"\n",
        "        return self.socket_stats[:,:,1]          \n",
        "                \n",
        "    def get_socket_percentages( self ):\n",
        "        \"\"\" get the percentage of times each socket was tried over the run \"\"\"\n",
        "        return (self.socket_stats[:,:,1][self.total_steps]/self.total_steps)        \n",
        "    \n",
        "    def get_time_steps( self ):\n",
        "        \"\"\" get the number of time steps that the test ran for \"\"\"\n",
        "        return self.total_steps\n",
        "    \n",
        "    def bias_presence_hipo(self, t):\n",
        "        presence = np.array([i/sum(self.possibles) for i in self.possibles])\n",
        "        bias_list = []\n",
        "        for c in range(len(self.sockets)):\n",
        "          pulled = self.get_number_of_trials()[t].copy()\n",
        "          pulled[c]+=1\n",
        "          selected_presence = np.array(pulled/(t+1))\n",
        "          diff = np.subtract(selected_presence, presence)\n",
        "          #diff = np.divide(diff,presence, out=np.zeros_like(diff), where=presence!=0)\n",
        "          abs = np.abs(diff)\n",
        "          bias_list.append(np.sum(abs))\n",
        "        return bias_list\n",
        "    \n",
        "    def bias_rate_hipo(self, t):\n",
        "        bias_list = []\n",
        "        for c in range(len(self.sockets)):\n",
        "          pulled = self.socket_stats[:,:,1][t].copy()\n",
        "          pulled[c]+=1\n",
        "          curr_percentages = np.array([pulled[i]/self.possibles[i] if self.possibles[i]>0.0 else 0.0 for i in range(len(self.sockets))])\n",
        "          overall_percentages = np.mean(curr_percentages)\n",
        "          diff = np.subtract(overall_percentages,curr_percentages)\n",
        "          #diff = np.subtract(self.capping,curr_percentages)\n",
        "          abs = np.abs(diff)\n",
        "          bias_list.append(np.sum(abs))\n",
        "        return bias_list\n",
        "\n",
        "    def bias_posteriors_hipo(self, t):\n",
        "        #P(c in C_i | c is approved ) = P( c is approved | c in C_i ) * P( c in C_i ) / P( c is approved )\n",
        "        A = np.array([i/sum(self.possibles) for i in self.possibles])\n",
        "        B = self.capping\n",
        "        bias_list = []\n",
        "        for c in range(len(self.sockets)):\n",
        "          pulled = self.get_number_of_trials()[t].copy()\n",
        "          pulled[c]+=1\n",
        "          B_A = np.array([pulled[i]/self.possibles[i] if self.possibles[i]>0.0 else 0.0 for i in range(len(self.sockets))])\n",
        "          A_B = np.divide(np.multiply(B_A,A),B, out=np.zeros_like(np.multiply(B_A,A)), where=B!=0)\n",
        "          #print(A_B)\n",
        "          diff = np.subtract(np.mean(A_B),A_B)\n",
        "          abs = np.abs(diff)\n",
        "          bias_list.append(np.sum(abs))\n",
        "        return bias_list\n",
        "    \n",
        "    def bias_rewards_hipo(self, t):\n",
        "        rewards_distributions = self.get_estimates()[t]\n",
        "        mean_d = np.mean(rewards_distributions)\n",
        "        bias_list = np.subtract(rewards_distributions,mean_d)\n",
        "        return bias_list\n",
        "\n",
        "    def bias_presence_step(self, t):\n",
        "        presence = np.array([i/sum(self.possibles) for i in self.possibles])\n",
        "        selected_presence = np.array(self.get_number_of_trials()[t]/t)\n",
        "        diff = np.subtract(selected_presence, presence)\n",
        "        #diff = np.divide(diff,presence, out=np.zeros_like(diff), where=presence!=0)\n",
        "        abs = np.abs(diff)\n",
        "        return np.sum(abs) \n",
        "\n",
        "    def final_bias_presence(self):\n",
        "        presence = np.array([i/sum(self.possibles) for i in self.possibles])\n",
        "        selected_presence = np.array(self.get_socket_percentages())\n",
        "        diff = np.subtract(selected_presence, presence)\n",
        "        abs = np.abs(diff)\n",
        "        return np.sum(abs) \n",
        "    \n",
        "    def final_bias_rate(self):\n",
        "        final_percentages = np.array([self.get_number_of_trials()[self.total_steps][i]/self.possibles[i] if self.possibles[i]>0.0 else 0.0 for i in range(len(self.sockets))])\n",
        "        overall_percentages = np.mean(final_percentages)\n",
        "        #print(overall_percentages)\n",
        "        diff = np.subtract(overall_percentages,final_percentages)\n",
        "        abs = np.abs(diff)\n",
        "        return np.sum(abs)\n",
        "\n",
        "    def final_bias_posteriors(self):\n",
        "        #P(c in C_i | c is approved ) = P( c is approved | c in C_i ) * P( c in C_i ) / P( c is approved )\n",
        "        B_A = np.array([self.get_number_of_trials()[self.total_steps][i]/self.possibles[i] if self.possibles[i]>0.0 else 0.0 for i in range(len(self.sockets))])\n",
        "        A = np.array([i/sum(self.possibles) for i in self.possibles])\n",
        "        B = self.total_steps/sum(self.possibles)\n",
        "        A_B = np.divide(np.multiply(B_A,A),B, out=np.zeros_like(np.multiply(B_A,A)), where=B!=0)\n",
        "        #print(A_B)\n",
        "        diff = np.subtract(np.mean(A_B),A_B)\n",
        "        abs = np.abs(diff)\n",
        "        return np.sum(abs)\n",
        "\n",
        "    def final_bias_rewards(self):\n",
        "        rewards_distributions = np.divide(self.get_estimates()[self.total_steps],100)\n",
        "        mean_d = np.mean(rewards_distributions)\n",
        "        diff = np.subtract(rewards_distributions,mean_d)\n",
        "        abs = np.abs(diff)\n",
        "        return np.sum(abs)\n",
        "\n",
        "    def punishing_term(self,bias_func,t):\n",
        "        b_list = bias_func(t)\n",
        "        norm_num = np.subtract(b_list,min(b_list))\n",
        "        norm_denom = np.subtract(max(b_list),min(b_list))\n",
        "        aux_b_list = np.divide(norm_num,norm_denom, out=np.zeros_like(norm_num), where=norm_denom!=0)\n",
        "        #print(aux_b_list)\n",
        "        return np.multiply(aux_b_list,100)\n",
        "\n",
        "    \"\"\"\n",
        "    def select_socket_prob( self, t ):\n",
        "        mask = [self.get_number_of_trials()[t][i]<self.possibles[i] for i in range(len(self.sockets))]\n",
        "        available_sockets = [self.sockets[s] for s in range(len(self.sockets)) if (mask[s])]\n",
        "        available = [i for i in range(len(self.sockets)) if (mask[i])]\n",
        "\n",
        "        bias_term = self.punishing_term(self.bias_presence_hipo,t)\n",
        "\n",
        "        socket_max = random_argmax([self.sockets[socket].sample(t+1) for socket in available]) \n",
        "        socket_max_index = self.sockets.index(available_sockets[socket_max])\n",
        "        \n",
        "        socket_min = random_argmin([bias_term[socket] for socket in available]) \n",
        "        socket_min_index = self.sockets.index(available_sockets[socket_min])\n",
        "\n",
        "        return_index = random.choices([socket_min_index,socket_max_index],cum_weights=[self.subopt_coef,1])\n",
        "\n",
        "        return return_index[0]   \n",
        "    \"\"\"\n",
        "\n",
        "    def select_socket( self, t ):\n",
        "              \n",
        "        mask = [self.get_number_of_trials()[t][i]<self.possibles[i] for i in range(len(self.sockets))]\n",
        "        available_sockets = [self.sockets[s] for s in range(len(self.sockets)) if (mask[s])]\n",
        "        available = [i for i in range(len(self.sockets)) if (mask[i])]\n",
        "\n",
        "        bias_term = self.punishing_term(self.bias_rate_hipo,t)\n",
        "\n",
        "        #to avoid error with 0.0*float('inf')\n",
        "        if self.subopt_coef!=1.0:\n",
        "          socket_max = random_argmax([(1.0-self.subopt_coef)*self.sockets[socket].sample(t+1)-self.subopt_coef*bias_term[socket] for socket in available]) \n",
        "        else:\n",
        "          socket_max = random_argmax([-bias_term[socket] for socket in available])\n",
        "\n",
        "        socket_index = self.sockets.index(available_sockets[socket_max])\n",
        "        return socket_index\n",
        "    \n",
        "    def return_increments(self, decisions_to_consider):\n",
        "        presence = np.array([i/len(decisions_to_consider) for i in self.possibles])\n",
        "        selected_presence = np.array(self.get_socket_percentages())\n",
        "        diff = np.subtract(selected_presence, presence)\n",
        "        diff1 = np.add(1,diff)\n",
        "        #diff2 = np.divide(diff,presence, out=np.zeros_like(diff), where=presence!=0)\n",
        "        #diff2 = np.add(1,diff2)\n",
        "        #print(diff1,diff2)\n",
        "        #print(diff.sum())\n",
        "        return diff1\n",
        "    \n",
        "    def run( self, decisions_to_consider, max_percent_decisions=1, prints_bool = True):  \n",
        "        \"\"\" perform a single run, over the set of sockets, \n",
        "            for the defined number of steps \"\"\"\n",
        "        \n",
        "        # reset the run counters\n",
        "        self.initialize_run(len(decisions_to_consider))\n",
        "\n",
        "        self.possibles = [0]*8 #TODO: DEPENDS ON N OF CLUSTER (DECISIONS.UNIQUE() ISNT ENOUGH BECAUSE IT CAN LACK SOME INSTANCES)\n",
        "        for i in np.unique(np.array(decisions_to_consider)):\n",
        "          self.possibles[i] = decisions_to_consider.count(i) \n",
        "        #print(\"possibles\",self.possibles)\n",
        "\n",
        "        usos = 0\n",
        "        self.capping = max_percent_decisions\n",
        "        usos_maxims = math.floor(max_percent_decisions*len(decisions_to_consider))\n",
        "        #print(usos_maxims)\n",
        "        self.bias_hist = []\n",
        "        # loop for the specified number of time-steps\n",
        "        for t in range(1,len(decisions_to_consider)):\n",
        "            self.socket_stats[t] = self.get_socket_stats(t)     \n",
        "            socket_index = self.select_socket(t)\n",
        "            if(self.get_number_of_trials()[t][socket_index]<self.possibles[socket_index]):\n",
        "              # charge from the chosen socket and update its mean reward value\n",
        "              self.charge_and_update(socket_index)\n",
        "              usos+=1\n",
        "              if usos > usos_maxims:\n",
        "                  break\n",
        "            \n",
        "            if t%10==0:\n",
        "              self.bias_hist.append(self.bias_presence_step(t))\n",
        "\n",
        "        # save the actual number of steps that have been run\n",
        "        self.total_steps = t    \n",
        "    \n",
        "        # get the stats for each socket at the end of the run        \n",
        "        self.socket_stats[t+1] = self.get_socket_stats(t+1)           \n",
        "        \n",
        "        self.approval_rates = [round(100*self.get_number_of_trials()[t][i]/self.possibles[i],2) if self.possibles[i]>0.0 else 0.0 for i in range(len(self.possibles))]\n",
        "        self.regret = 100*max([s.q for s in self.sockets])-self.get_mean_reward()\n",
        "        #print(self.regret)\n",
        "        if(prints_bool):\n",
        "          #print(\"possibles\",self.possibles)\n",
        "          print(\"Reward distribution:\",[round(s.q,4) for s in self.sockets])\n",
        "          print(\"Final estimates:\",[round(e/100,4) for e in self.get_estimates()[self.total_steps]])\n",
        "          #print(\"Intances of each cluster:\",self.possibles)\n",
        "          print(\"Presence of each in batch (%):\",[100*i/len(decisions_to_consider) for i in self.possibles])\n",
        "          #print(\"Times selected:\",self.get_number_of_trials()[t])\n",
        "          print(\"Relative approval rate (%):\",self.approval_rates)\n",
        "          print(\"Percentage over total selected (%):\",[round(100*p,2) for p in self.get_socket_percentages()])\n",
        "          print(\"Total reward:\",self.total_reward,\"|| and presence bias:\",self.final_bias_presence())\n",
        "          print(\"Rate bias:\",self.final_bias_rate())\n",
        "          print(\"Posteriors bias:\",self.final_bias_posteriors())\n",
        "          print(\"Rewards bias:\",self.final_bias_rewards())\n",
        "          print(\"Final regret:\",self.regret)\n",
        "          #print(self.return_increments(decisions_to_consider))\n",
        "        return_dic = {\n",
        "            \"total_steps\":self.total_steps,\n",
        "            \"total_reward\":self.total_reward,\n",
        "            \"increments\":self.return_increments(decisions_to_consider),\n",
        "            \"estimates\":[e/100 for e in self.get_estimates()[self.total_steps]],\n",
        "            \"bias_presence\":self.final_bias_presence(),\n",
        "            \"bias_rate\":self.final_bias_rate(),\n",
        "            \"bias_posteriors\":self.final_bias_posteriors(),\n",
        "            \"bias_rewards\":self.final_bias_rewards(),\n",
        "            \"app_rate\":self.approval_rates,\n",
        "            \"percentages\":self.get_socket_percentages(),\n",
        "            \"bias_hist\":self.bias_hist,\n",
        "            \"regret\":self.regret\n",
        "        }\n",
        "        return return_dic"
      ],
      "metadata": {
        "id": "PjPBKsncLbY3"
      },
      "execution_count": 301,
      "outputs": []
    },
    {
      "cell_type": "code",
      "source": [
        "i,r,p = nonstatic_sol(100, rewards_bias, 0.01, instances_bias, 0.1, 0.9)"
      ],
      "metadata": {
        "colab": {
          "base_uri": "https://localhost:8080/",
          "height": 1000
        },
        "id": "cZng_SI_YwHe",
        "outputId": "6ab1a07b-db3b-4ebc-829c-d91c72ad9da2"
      },
      "execution_count": 302,
      "outputs": [
        {
          "output_type": "stream",
          "name": "stdout",
          "text": [
            "0\n",
            "Reward distribution: [0.83, 0.8077, 0.8088, 0.7826, 0.7015, 0.6639, 0.6658, 0.6192]\n",
            "Final estimates: [0.8193, 0.7935, 0.8889, 0.8889, 0.64, 0.6629, 0.6667, 0.7778]\n",
            "Presence of each in batch (%): [45.9, 25.0, 2.5, 1.3, 10.2, 12.1, 1.7, 1.3]\n",
            "Relative approval rate (%): [88.02, 73.6, 72.0, 69.23, 73.53, 73.55, 70.59, 69.23]\n",
            "Percentage over total selected (%): [50.44, 22.97, 2.25, 1.12, 9.36, 11.11, 1.5, 1.12]\n",
            "Total reward: 62300 || and presence bias: 0.09198751560549312\n",
            "Rate bias: 0.28597274957167995\n",
            "Posteriors bias: 0.9687890137328339\n",
            "Rewards bias: 0.6642705416120511\n",
            "Final regret: 5.2222222222222285\n",
            "99\n",
            "Reward distribution: [0.8604, 0.7966, 0.8142, 0.7945, 0.6868, 0.6521, 0.6758, 0.6296]\n",
            "Final estimates: [0.844, 0.8435, 0.9545, 0.625, 0.6338, 0.7187, 0.4167, 0.625]\n",
            "Presence of each in batch (%): [55.8, 19.5, 3.0, 1.1, 9.4, 8.5, 1.6, 1.1]\n",
            "Relative approval rate (%): [83.87, 75.38, 73.33, 72.73, 75.53, 75.29, 75.0, 72.73]\n",
            "Percentage over total selected (%): [58.43, 18.35, 2.75, 1.0, 8.86, 7.99, 1.5, 1.0]\n",
            "Total reward: 64700 || and presence bias: 0.053787765293383215\n",
            "Rate bias: 0.168710180435523\n",
            "Posteriors bias: 1.0362047440699127\n",
            "Rewards bias: 1.060380479960461\n",
            "Final regret: 5.26347128000225\n"
          ]
        },
        {
          "output_type": "display_data",
          "data": {
            "text/plain": [
              "<Figure size 432x288 with 1 Axes>"
            ],
            "image/png": "[encoded data removed]"
          },
          "metadata": {
            "needs_background": "light"
          }
        },
        {
          "output_type": "display_data",
          "data": {
            "text/plain": [
              "<Figure size 432x288 with 1 Axes>"
            ],
            "image/png": "[encoded data removed]"
          },
          "metadata": {
            "needs_background": "light"
          }
        },
        {
          "output_type": "display_data",
          "data": {
            "text/plain": [
              "<Figure size 432x288 with 1 Axes>"
            ],
            "image/png": "[encoded data removed]"
          },
          "metadata": {
            "needs_background": "light"
          }
        },
        {
          "output_type": "display_data",
          "data": {
            "text/plain": [
              "<Figure size 432x288 with 1 Axes>"
            ],
            "image/png": "[encoded data removed]"
          },
          "metadata": {
            "needs_background": "light"
          }
        },
        {
          "output_type": "display_data",
          "data": {
            "text/plain": [
              "<Figure size 432x288 with 1 Axes>"
            ],
            "image/png": "[encoded data removed]"
          },
          "metadata": {
            "needs_background": "light"
          }
        }
      ]
    },
    {
      "cell_type": "code",
      "source": [
        "#rewards_bias = np.array([.8555, .8193, .8284, .7994, .7103, .6635, .7471, .6731])\n",
        "rewards_bias = np.array([.830, .8077, .8088, .7826, .7015, .6639, .6658, .6192])\n",
        "rewards_nonbias = [0.8]*8\n",
        "devs_nonbias = [0]*8\n",
        "\n",
        "#instances_bias = np.array([0.535, 0.24, 0.023, 0.011, 0.087, 0.081, 0.011, 0.011])\n",
        "instances_bias = np.array([0.447, 0.267, 0.028, 0.014, 0.103, 0.116, 0.012, 0.012])\n",
        "instances_nonbias = [1/8]*8"
      ],
      "metadata": {
        "id": "6qdqEOdfJbWX"
      },
      "execution_count": 36,
      "outputs": []
    },
    {
      "cell_type": "code",
      "source": [
        "decisions = random.choices(range(8),weights=list(instances_bias),k=1000)"
      ],
      "metadata": {
        "id": "12mwLWeYrc3J"
      },
      "execution_count": 37,
      "outputs": []
    },
    {
      "cell_type": "code",
      "source": [
        "sol_test = SocketTesterBatchSOLUTIONProb(PowerSocketProb, rewards_bias, 100, 0)\n",
        "rd = sol_test.run(decisions, 0.8, True)\n",
        "#plt.plot(rd[\"bias_hist\"])"
      ],
      "metadata": {
        "id": "mmJT36EwSL18"
      },
      "execution_count": null,
      "outputs": []
    },
    {
      "cell_type": "code",
      "source": [
        "#sol_test = SocketTesterBatchSOLUTIONProb(PowerSocketProb, rewards_bias, 50, 0.25)\n",
        "#rd = sol_test.run(decisions, 0.8, True)\n",
        "#plt.plot(rd[\"bias_hist\"])"
      ],
      "metadata": {
        "id": "1z9nQnr5ra7v"
      },
      "execution_count": 39,
      "outputs": []
    },
    {
      "cell_type": "code",
      "source": [
        "#sol_test = SocketTesterBatchSOLUTIONProb(PowerSocketProb, rewards_bias, 10, 0.5)\n",
        "#rd = sol_test.run(decisions, 0.8, True)\n",
        "#plt.plot(rd[\"bias_hist\"])"
      ],
      "metadata": {
        "id": "qLFP4Yjhe6tB"
      },
      "execution_count": 40,
      "outputs": []
    },
    {
      "cell_type": "code",
      "source": [
        "#sol_test = SocketTesterBatchSOLUTIONProb(PowerSocketProb, rewards_bias, 10, 0.75)\n",
        "#rd = sol_test.run(decisions, 0.8, True)\n",
        "#plt.plot(rd[\"bias_hist\"])"
      ],
      "metadata": {
        "id": "O1twdS7WwA5H"
      },
      "execution_count": 41,
      "outputs": []
    },
    {
      "cell_type": "code",
      "source": [
        "#sol_test = SocketTesterBatchSOLUTIONProb(PowerSocketProb, rewards_bias, 10, 1)\n",
        "#rd = sol_test.run(decisions, 0.8, True)\n",
        "#plt.plot(rd[\"bias_hist\"])"
      ],
      "metadata": {
        "id": "bV4yyv2zvL-U"
      },
      "execution_count": 42,
      "outputs": []
    },
    {
      "cell_type": "code",
      "source": [
        "rate_results = []\n",
        "contribution_results = []\n",
        "decisions = random.choices(range(8),weights=list(instances_nonbias),k=1000)\n",
        "sol_test = SocketTesterBatchSOLUTIONProb(PowerSocketProb, rewards_nonbias, 50, 0)\n",
        "for sopt in range(2):#100\n",
        "  rd = sol_test.run(decisions, 0.8, False)\n",
        "  rate_results.append(rd[\"app_rate\"])\n",
        "  contribution_results.append(rd[\"percentages\"])"
      ],
      "metadata": {
        "id": "r7BXUBXZ0St3"
      },
      "execution_count": null,
      "outputs": []
    },
    {
      "cell_type": "code",
      "source": [
        "#np.transpose(rate_results)"
      ],
      "metadata": {
        "id": "zjSktugp5c_B"
      },
      "execution_count": 44,
      "outputs": []
    },
    {
      "cell_type": "code",
      "source": [
        "xar = [\"W_NH_M\", \"W_NH_F\", \"W_H_M\", \"W_H_F\", \"B_NH_M\", \"B_NH_F\", \"B_H_M\", \"B_H_F\"] #np.arange(8)\n",
        "yar = [np.mean(np.transpose(rate_results)[i]) for i in range(8)]\n",
        "ear = [np.std(np.transpose(rate_results)[i]) for i in range(8)]\n",
        "\n",
        "fig = plt.figure()\n",
        "ax = fig.add_axes([0,0,1,1])\n",
        "ax.errorbar(xar, yar, ear, linestyle='None', marker='^', label=\"Approval rate\")\n",
        "plt.plot(xar, [50]*8, color = \"red\", linestyle=\"--\")\n",
        "ax.set_ylim(0,)\n",
        "ax.legend(fontsize=\"x-large\")\n",
        "plt.show()"
      ],
      "metadata": {
        "id": "tyKjaz6y467U",
        "colab": {
          "base_uri": "https://localhost:8080/",
          "height": 337
        },
        "outputId": "4569ba21-7db1-4003-f238-2336c4916cd8"
      },
      "execution_count": 142,
      "outputs": [
        {
          "output_type": "display_data",
          "data": {
            "text/plain": [
              "<Figure size 432x288 with 1 Axes>"
            ],
            "image/png": "[encoded data removed]"
          },
          "metadata": {
            "needs_background": "light"
          }
        }
      ]
    },
    {
      "cell_type": "code",
      "source": [
        "xac = [\"W_NH_M\", \"W_NH_F\", \"W_H_M\", \"W_H_F\", \"B_NH_M\", \"B_NH_F\", \"B_H_M\", \"B_H_F\"]\n",
        "yac = [np.mean(np.transpose(contribution_results)[i]) for i in range(8)]\n",
        "eac = [np.std(np.transpose(contribution_results)[i]) for i in range(8)]\n",
        "\n",
        "fig = plt.figure()\n",
        "ax = fig.add_axes([0,0,1,1])\n",
        "ax.errorbar(xac, yac, eac, linestyle='None', marker='^', label=\"Contribution to total approval\")\n",
        "ax.plot(xac, list(instances_nonbias), linestyle='--', label = \"Contribution to total instances\")\n",
        "ax.set_ylim(0,0.6)\n",
        "ax.legend(fontsize=\"x-large\")\n",
        "plt.show()"
      ],
      "metadata": {
        "id": "uLCuvWmQ7Oti",
        "colab": {
          "base_uri": "https://localhost:8080/",
          "height": 341
        },
        "outputId": "2f995ac4-84c1-40d9-faf6-ec1e5da01211"
      },
      "execution_count": 46,
      "outputs": [
        {
          "output_type": "display_data",
          "data": {
            "text/plain": [
              "<Figure size 432x288 with 1 Axes>"
            ],
            "image/png": "[encoded data removed]"
          },
          "metadata": {
            "needs_background": "light"
          }
        }
      ]
    },
    {
      "cell_type": "code",
      "source": [
        "np.seterr(all=\"raise\")\n",
        "rwd_results = []\n",
        "presence_results = []\n",
        "rate_results = []\n",
        "posteriors_results = []\n",
        "rewards_results = []\n",
        "regret_results = []\n",
        "decisions = random.choices(range(8),weights=list(instances_bias),k=1000)\n",
        "for sopt in np.arange(0,1.05,0.05):\n",
        "  sopt_i_rwd_results = []\n",
        "  sopt_i_presence_results = []\n",
        "  sopt_i_rate_results = []\n",
        "  sopt_i_posteriors_results = []\n",
        "  sopt_i_rewards_results = []\n",
        "  sopt_i_regret_results = []\n",
        "  sol_test = SocketTesterBatchSOLUTIONProb(PowerSocketProb, rewards_bias, 25, sopt)\n",
        "  for iter in range(100):\n",
        "    rd = sol_test.run(decisions, 0.8, False)\n",
        "    sopt_i_rwd_results.append(rd[\"total_reward\"])\n",
        "    sopt_i_presence_results.append(rd[\"bias_presence\"])\n",
        "    sopt_i_rate_results.append(rd[\"bias_rate\"])\n",
        "    sopt_i_posteriors_results.append(rd[\"bias_posteriors\"])\n",
        "    sopt_i_rewards_results.append(rd[\"bias_rewards\"])\n",
        "    sopt_i_regret_results.append(rd[\"regret\"])\n",
        "  rwd_results.append([np.mean(sopt_i_rwd_results),np.std(sopt_i_rwd_results)])\n",
        "  presence_results.append([np.mean(sopt_i_presence_results),np.std(sopt_i_presence_results)])\n",
        "  rate_results.append([np.mean(sopt_i_rate_results),np.std(sopt_i_rate_results)])\n",
        "  posteriors_results.append([np.mean(sopt_i_posteriors_results),np.std(sopt_i_posteriors_results)])\n",
        "  rewards_results.append([np.mean(sopt_i_rewards_results),np.std(sopt_i_rewards_results)])\n",
        "  regret_results.append([np.mean(sopt_i_regret_results),np.std(sopt_i_regret_results)])\n",
        "print([rwd_results[i][0] for i in range(len(rwd_results))])\n",
        "print([presence_results[i][0] for i in range(len(presence_results))])"
      ],
      "metadata": {
        "id": "37FXdTsGg4CF",
        "colab": {
          "base_uri": "https://localhost:8080/"
        },
        "outputId": "f535327d-76a0-4e88-d2e6-10b81e032d56"
      },
      "execution_count": 270,
      "outputs": [
        {
          "output_type": "stream",
          "name": "stdout",
          "text": [
            "[64435.0, 64256.0, 63876.0, 64056.0, 63485.0, 63499.0, 63065.0, 63201.0, 63084.0, 62994.0, 62886.0, 63068.0, 63227.0, 62897.0, 62896.0, 62901.0, 63147.0, 63014.0, 62942.0, 63016.0, 62861.0]\n",
            "[0.3301952059925094, 0.32248741573033707, 0.2789751310861423, 0.2303228214731585, 0.13452269662921348, 0.0868075905118602, 0.026771785268414495, 0.01124309612983772, 0.0037461423220973987, 0.002406941323345837, 0.002365568039950082, 0.00235665418227218, 0.0023394506866417177, 0.0023595755305867872, 0.0023760049937578236, 0.0023637453183520817, 0.002313183520599273, 0.0022640199750312336, 0.0023768289637952785, 0.0024144319600499604, 0.0024269662921348545]\n"
          ]
        }
      ]
    },
    {
      "cell_type": "code",
      "source": [
        "\"\"\"import matplotlib.pyplot as plt\n",
        "import numpy as np\n",
        "\n",
        "results = [presence_results,rate_results,posteriors_results,rewards_results]#,regret_results]\n",
        "print(results)\n",
        "x = range(len(results))\n",
        "y = [results[i][0][0] for i in range(0,len(results))]\n",
        "e = [results[i][0][1] for i in range(0,len(results))]\n",
        "\n",
        "plt.errorbar(x, y, e, linestyle='None', marker='^')\n",
        "plt.show() #total rewards (y) vs subopt value (x)\n",
        "\"\"\""
      ],
      "metadata": {
        "id": "tFfXAezW0tny"
      },
      "execution_count": null,
      "outputs": []
    },
    {
      "cell_type": "code",
      "source": [
        "#print([regret_results[i][0] for i in range(len(regret_results))])\n",
        "#print([bias_results[i][0] for i in range(len(bias_results))])"
      ],
      "metadata": {
        "id": "X4gQWwS_odLp"
      },
      "execution_count": null,
      "outputs": []
    },
    {
      "cell_type": "code",
      "source": [
        "import matplotlib.pyplot as plt\n",
        "import numpy as np\n",
        "\n",
        "xr = np.arange(0,1.05,0.05)\n",
        "yr = [2.5*rwd_results[i][0] for i in range(len(rwd_results))]\n",
        "er = [2.5*rwd_results[i][1] for i in range(len(rwd_results))]\n",
        "\n",
        "xpres = np.arange(0,1.05,0.05)\n",
        "ypres = [presence_results[i][0] for i in range(len(presence_results))]\n",
        "epres = [presence_results[i][1] for i in range(len(presence_results))]\n",
        "\n",
        "xrate = np.arange(0,1.05,0.05)\n",
        "yrate = [rate_results[i][0] for i in range(len(rate_results))]\n",
        "erate = [rate_results[i][1] for i in range(len(rate_results))]\n",
        "\n",
        "xpost = np.arange(0,1.05,0.05)\n",
        "ypost = [posteriors_results[i][0] for i in range(len(posteriors_results))]\n",
        "epost = [posteriors_results[i][1] for i in range(len(posteriors_results))]\n",
        "\n",
        "xrb = np.arange(0,1.05,0.05)\n",
        "yrb = [rewards_results[i][0] for i in range(len(rewards_results))]\n",
        "erb = [rewards_results[i][1] for i in range(len(rewards_results))]\n",
        "\n",
        "xregr = np.arange(0,1.05,0.05)\n",
        "yregr = [regret_results[i][0] for i in range(len(regret_results))]\n",
        "eregr = [regret_results[i][1] for i in range(len(regret_results))]"
      ],
      "metadata": {
        "id": "nbqQlzefqqGN"
      },
      "execution_count": 271,
      "outputs": []
    },
    {
      "cell_type": "code",
      "source": [
        "def norm01(l):\n",
        "  norm_num = np.subtract(l,min(l))\n",
        "  norm_denom = np.subtract(max(l),min(l))\n",
        "  aux_list = np.divide(norm_num,norm_denom, out=np.zeros_like(norm_num), where=norm_denom!=0)\n",
        "  print(aux_list)\n",
        "  return aux_list"
      ],
      "metadata": {
        "id": "dt_FhR-HoN1q"
      },
      "execution_count": 134,
      "outputs": []
    },
    {
      "cell_type": "code",
      "source": [
        "norm_r = norm01(yr)\n",
        "norm_r = yr/np.linalg.norm(yr) \n",
        "norm_b = norm01(ypres)\n",
        "#print(norm_b)\n",
        "norm_b = ypres/np.linalg.norm(ypres) \n",
        "bell = norm_r-norm_b#np.subtract(norm_r,norm_b)\n",
        "#print(len(bell))\n",
        "xbell = np.arange(0,1.05,0.05)\n",
        "ybell = bell\n",
        "maxy = max(bell)\n",
        "maxi = list(bell).index(maxy)\n",
        "maxx = xbell[maxi]\n",
        "plt.plot(xbell, ybell, label=\"phi\")\n",
        "plt.plot(maxx,maxy, marker=\"^\", markersize=10, color=\"green\", label=\"max phi\")\n",
        "plt.axvline(maxx, linestyle=\"--\", color=\"green\")\n",
        "plt.legend()"
      ],
      "metadata": {
        "colab": {
          "base_uri": "https://localhost:8080/",
          "height": 469
        },
        "id": "3zd5z6bgno6h",
        "outputId": "8eac9308-5bb1-4e4e-a950-e89fbcaeb8a8"
      },
      "execution_count": 274,
      "outputs": [
        {
          "output_type": "stream",
          "name": "stdout",
          "text": [
            "[1.         0.886277   0.64485388 0.7592122  0.39644219 0.40533672\n",
            " 0.1296061  0.21601017 0.14167726 0.08449809 0.0158831  0.13151207\n",
            " 0.23252859 0.02287166 0.02223634 0.02541296 0.18170267 0.09720457\n",
            " 0.05146125 0.09847522 0.        ]\n",
            "[1.00000000e+00 9.76495708e-01 8.43808466e-01 6.95447128e-01\n",
            " 4.03312287e-01 2.57808876e-01 7.47344758e-02 2.73809767e-02\n",
            " 4.51961390e-03 4.35827254e-04 3.09662726e-04 2.82480628e-04\n",
            " 2.30019940e-04 2.91389046e-04 3.41489384e-04 3.04104482e-04\n",
            " 1.49920312e-04 0.00000000e+00 3.44002015e-04 4.58669353e-04\n",
            " 4.96891799e-04]\n"
          ]
        },
        {
          "output_type": "execute_result",
          "data": {
            "text/plain": [
              "<matplotlib.legend.Legend at 0x7ff833062110>"
            ]
          },
          "metadata": {},
          "execution_count": 274
        },
        {
          "output_type": "display_data",
          "data": {
            "text/plain": [
              "<Figure size 432x288 with 1 Axes>"
            ],
            "image/png": "[encoded data removed]"
          },
          "metadata": {
            "needs_background": "light"
          }
        }
      ]
    },
    {
      "cell_type": "code",
      "source": [
        "plt.plot(xbell, norm_r-norm_b, label=\"phi\")\n",
        "\n",
        "plt.plot(xbell, 1-norm_b, label=\"1 - bias\")\n",
        "\n",
        "plt.plot(xbell, norm_r, label=\"reward\")\n",
        "\n",
        "plt.legend()"
      ],
      "metadata": {
        "colab": {
          "base_uri": "https://localhost:8080/",
          "height": 284
        },
        "id": "Zag55-nEw7Eu",
        "outputId": "a12a1c3a-f80d-4d2e-f007-94a92dd8b86d"
      },
      "execution_count": 275,
      "outputs": [
        {
          "output_type": "execute_result",
          "data": {
            "text/plain": [
              "<matplotlib.legend.Legend at 0x7ff83264e890>"
            ]
          },
          "metadata": {},
          "execution_count": 275
        },
        {
          "output_type": "display_data",
          "data": {
            "text/plain": [
              "<Figure size 432x288 with 1 Axes>"
            ],
            "image/png": "[encoded data removed]"
          },
          "metadata": {
            "needs_background": "light"
          }
        }
      ]
    },
    {
      "cell_type": "code",
      "source": [
        "i2,r2,p2 = nonstatic_sol(100, rewards_bias, 0.01, instances_bias, 0.1, 0.35)"
      ],
      "metadata": {
        "colab": {
          "base_uri": "https://localhost:8080/",
          "height": 532
        },
        "id": "-3yk5KqAtLJN",
        "outputId": "bc681055-b592-42c8-d2af-fbadbf6a0aa6"
      },
      "execution_count": 259,
      "outputs": [
        {
          "output_type": "stream",
          "name": "stdout",
          "text": [
            "0\n",
            "Reward distribution: [0.83, 0.8077, 0.8088, 0.7826, 0.7015, 0.6639, 0.6658, 0.6192]\n",
            "Final estimates: [0.8219, 0.8161, 0.8276, 0.75, 0.6915, 0.6508, 0.6364, 0.6875]\n",
            "Presence of each in batch (%): [44.7, 26.1, 2.9, 1.6, 9.4, 12.6, 1.1, 1.6]\n",
            "Relative approval rate (%): [55.26, 100.0, 100.0, 100.0, 100.0, 100.0, 100.0, 100.0]\n",
            "Percentage over total selected (%): [30.84, 32.58, 3.62, 2.0, 11.74, 15.73, 1.37, 2.0]\n",
            "Total reward: 61800 || and presence bias: 0.27602247191011237\n",
            "Rate bias: 0.7829977628635344\n",
            "Posteriors bias: 0.8339575530586767\n",
            "Rewards bias: 0.5493938602382641\n",
            "Final regret: 5.846441947565538\n"
          ]
        },
        {
          "output_type": "error",
          "ename": "KeyboardInterrupt",
          "evalue": "ignored",
          "traceback": [
            "\u001b[0;31m---------------------------------------------------------------------------\u001b[0m",
            "\u001b[0;31mKeyboardInterrupt\u001b[0m                         Traceback (most recent call last)",
            "\u001b[0;32m<ipython-input-259-469a8732537c>\u001b[0m in \u001b[0;36m<module>\u001b[0;34m()\u001b[0m\n\u001b[0;32m----> 1\u001b[0;31m \u001b[0mi2\u001b[0m\u001b[0;34m,\u001b[0m\u001b[0mr2\u001b[0m\u001b[0;34m,\u001b[0m\u001b[0mp2\u001b[0m \u001b[0;34m=\u001b[0m \u001b[0mnonstatic_sol\u001b[0m\u001b[0;34m(\u001b[0m\u001b[0;36m100\u001b[0m\u001b[0;34m,\u001b[0m \u001b[0mrewards_bias\u001b[0m\u001b[0;34m,\u001b[0m \u001b[0;36m0.01\u001b[0m\u001b[0;34m,\u001b[0m \u001b[0minstances_bias\u001b[0m\u001b[0;34m,\u001b[0m \u001b[0;36m0.1\u001b[0m\u001b[0;34m,\u001b[0m \u001b[0;36m0.35\u001b[0m\u001b[0;34m)\u001b[0m\u001b[0;34m\u001b[0m\u001b[0;34m\u001b[0m\u001b[0m\n\u001b[0m",
            "\u001b[0;32m<ipython-input-160-92ad11a14a63>\u001b[0m in \u001b[0;36mnonstatic_sol\u001b[0;34m(iter, rewards_d_o_mu, r_coef, instances_d_o, i_coef, sub_opt)\u001b[0m\n\u001b[1;32m     22\u001b[0m     \u001b[0mupdated_test\u001b[0m \u001b[0;34m=\u001b[0m \u001b[0mSocketTesterBatchSOLUTIONProb\u001b[0m\u001b[0;34m(\u001b[0m\u001b[0mPowerSocketProb\u001b[0m\u001b[0;34m,\u001b[0m \u001b[0mlist\u001b[0m\u001b[0;34m(\u001b[0m\u001b[0mrewards_d\u001b[0m\u001b[0;34m)\u001b[0m\u001b[0;34m,\u001b[0m \u001b[0;36m50\u001b[0m\u001b[0;34m,\u001b[0m \u001b[0msub_opt\u001b[0m\u001b[0;34m)\u001b[0m\u001b[0;34m\u001b[0m\u001b[0;34m\u001b[0m\u001b[0m\n\u001b[1;32m     23\u001b[0m     \u001b[0mdecisions\u001b[0m \u001b[0;34m=\u001b[0m \u001b[0mrandom\u001b[0m\u001b[0;34m.\u001b[0m\u001b[0mchoices\u001b[0m\u001b[0;34m(\u001b[0m\u001b[0mrange\u001b[0m\u001b[0;34m(\u001b[0m\u001b[0;36m8\u001b[0m\u001b[0;34m)\u001b[0m\u001b[0;34m,\u001b[0m\u001b[0mweights\u001b[0m\u001b[0;34m=\u001b[0m\u001b[0mlist\u001b[0m\u001b[0;34m(\u001b[0m\u001b[0minstances_d\u001b[0m\u001b[0;34m)\u001b[0m\u001b[0;34m,\u001b[0m\u001b[0mk\u001b[0m\u001b[0;34m=\u001b[0m\u001b[0;36m1000\u001b[0m\u001b[0;34m)\u001b[0m\u001b[0;34m\u001b[0m\u001b[0;34m\u001b[0m\u001b[0m\n\u001b[0;32m---> 24\u001b[0;31m     \u001b[0mrd\u001b[0m \u001b[0;34m=\u001b[0m \u001b[0mupdated_test\u001b[0m\u001b[0;34m.\u001b[0m\u001b[0mrun\u001b[0m\u001b[0;34m(\u001b[0m\u001b[0mdecisions\u001b[0m\u001b[0;34m,\u001b[0m \u001b[0;36m0.8\u001b[0m\u001b[0;34m,\u001b[0m \u001b[0mpbool\u001b[0m\u001b[0;34m)\u001b[0m\u001b[0;34m\u001b[0m\u001b[0;34m\u001b[0m\u001b[0m\n\u001b[0m\u001b[1;32m     25\u001b[0m \u001b[0;34m\u001b[0m\u001b[0m\n\u001b[1;32m     26\u001b[0m     \u001b[0;31m#if(i%math.ceil(iter/25)==0 or i==iter-1):\u001b[0m\u001b[0;34m\u001b[0m\u001b[0;34m\u001b[0m\u001b[0;34m\u001b[0m\u001b[0m\n",
            "\u001b[0;32m<ipython-input-240-0565eafbbaf4>\u001b[0m in \u001b[0;36mrun\u001b[0;34m(self, decisions_to_consider, max_percent_decisions, prints_bool)\u001b[0m\n\u001b[1;32m    253\u001b[0m         \u001b[0;31m# loop for the specified number of time-steps\u001b[0m\u001b[0;34m\u001b[0m\u001b[0;34m\u001b[0m\u001b[0;34m\u001b[0m\u001b[0m\n\u001b[1;32m    254\u001b[0m         \u001b[0;32mfor\u001b[0m \u001b[0mt\u001b[0m \u001b[0;32min\u001b[0m \u001b[0mrange\u001b[0m\u001b[0;34m(\u001b[0m\u001b[0;36m1\u001b[0m\u001b[0;34m,\u001b[0m\u001b[0mlen\u001b[0m\u001b[0;34m(\u001b[0m\u001b[0mdecisions_to_consider\u001b[0m\u001b[0;34m)\u001b[0m\u001b[0;34m)\u001b[0m\u001b[0;34m:\u001b[0m\u001b[0;34m\u001b[0m\u001b[0;34m\u001b[0m\u001b[0m\n\u001b[0;32m--> 255\u001b[0;31m             \u001b[0mself\u001b[0m\u001b[0;34m.\u001b[0m\u001b[0msocket_stats\u001b[0m\u001b[0;34m[\u001b[0m\u001b[0mt\u001b[0m\u001b[0;34m]\u001b[0m \u001b[0;34m=\u001b[0m \u001b[0mself\u001b[0m\u001b[0;34m.\u001b[0m\u001b[0mget_socket_stats\u001b[0m\u001b[0;34m(\u001b[0m\u001b[0mt\u001b[0m\u001b[0;34m)\u001b[0m\u001b[0;34m\u001b[0m\u001b[0;34m\u001b[0m\u001b[0m\n\u001b[0m\u001b[1;32m    256\u001b[0m             \u001b[0msocket_index\u001b[0m \u001b[0;34m=\u001b[0m \u001b[0mself\u001b[0m\u001b[0;34m.\u001b[0m\u001b[0mselect_socket\u001b[0m\u001b[0;34m(\u001b[0m\u001b[0mt\u001b[0m\u001b[0;34m)\u001b[0m\u001b[0;34m\u001b[0m\u001b[0;34m\u001b[0m\u001b[0m\n\u001b[1;32m    257\u001b[0m             \u001b[0;32mif\u001b[0m\u001b[0;34m(\u001b[0m\u001b[0mself\u001b[0m\u001b[0;34m.\u001b[0m\u001b[0mget_number_of_trials\u001b[0m\u001b[0;34m(\u001b[0m\u001b[0;34m)\u001b[0m\u001b[0;34m[\u001b[0m\u001b[0mt\u001b[0m\u001b[0;34m]\u001b[0m\u001b[0;34m[\u001b[0m\u001b[0msocket_index\u001b[0m\u001b[0;34m]\u001b[0m\u001b[0;34m<\u001b[0m\u001b[0mself\u001b[0m\u001b[0;34m.\u001b[0m\u001b[0mpossibles\u001b[0m\u001b[0;34m[\u001b[0m\u001b[0msocket_index\u001b[0m\u001b[0;34m]\u001b[0m\u001b[0;34m)\u001b[0m\u001b[0;34m:\u001b[0m\u001b[0;34m\u001b[0m\u001b[0;34m\u001b[0m\u001b[0m\n",
            "\u001b[0;31mKeyboardInterrupt\u001b[0m: "
          ]
        }
      ]
    },
    {
      "cell_type": "code",
      "source": [
        "plt.errorbar(xr, yr, er, linestyle='None', marker='^',color=\"green\", label=\"Final Reward\")\n",
        "plt.xlabel(\"Sub-optimization coefficient\")\n",
        "plt.ylim(150500,166000)\n",
        "plt.legend()\n",
        "plt.show() #total rewards (y) vs subopt value (x)"
      ],
      "metadata": {
        "id": "4dcFsPxOrtu1",
        "colab": {
          "base_uri": "https://localhost:8080/",
          "height": 283
        },
        "outputId": "7906445b-848b-40cc-85b9-8a6befafb27e"
      },
      "execution_count": 276,
      "outputs": [
        {
          "output_type": "display_data",
          "data": {
            "text/plain": [
              "<Figure size 432x288 with 1 Axes>"
            ],
            "image/png": "[encoded data removed]"
          },
          "metadata": {
            "needs_background": "light"
          }
        }
      ]
    },
    {
      "cell_type": "code",
      "source": [
        "plt.errorbar(xpres, ypres, epres, linestyle='None', marker='^', label=\"Presence bias\")\n",
        "plt.xlabel(\"Sub-optimization coefficient\")\n",
        "plt.ylim(-0.007,0.4)\n",
        "plt.legend()\n",
        "plt.show()  #final bias (y) vs subopt value (x)"
      ],
      "metadata": {
        "id": "Sz6k2Smsnvjk",
        "colab": {
          "base_uri": "https://localhost:8080/",
          "height": 283
        },
        "outputId": "d75df77b-b5c3-4ec4-a48d-4492ee78b156"
      },
      "execution_count": 277,
      "outputs": [
        {
          "output_type": "display_data",
          "data": {
            "text/plain": [
              "<Figure size 432x288 with 1 Axes>"
            ],
            "image/png": "[encoded data removed]"
          },
          "metadata": {
            "needs_background": "light"
          }
        }
      ]
    },
    {
      "cell_type": "code",
      "source": [
        "plt.errorbar(xrate, yrate, erate, linestyle='None', marker='^', label=\"Approval Rate bias\")\n",
        "plt.xlabel(\"Sub-optimization coefficient\")\n",
        "plt.ylim(-0.1,3.5)\n",
        "plt.legend()\n",
        "plt.show()  #final bias (y) vs subopt value (x)"
      ],
      "metadata": {
        "id": "ezitRzOmw4Cc",
        "colab": {
          "base_uri": "https://localhost:8080/",
          "height": 283
        },
        "outputId": "ee1b987d-bdd7-47c7-a113-148bd39575cd"
      },
      "execution_count": 278,
      "outputs": [
        {
          "output_type": "display_data",
          "data": {
            "text/plain": [
              "<Figure size 432x288 with 1 Axes>"
            ],
            "image/png": "[encoded data removed]"
          },
          "metadata": {
            "needs_background": "light"
          }
        }
      ]
    },
    {
      "cell_type": "code",
      "source": [
        "plt.errorbar(xpost, ypost, epost, linestyle='None', marker='^', label=\"Posteriors bias\")\n",
        "plt.xlabel(\"Sub-optimization coefficient\")\n",
        "plt.ylim(0.77,1.395)\n",
        "plt.legend()\n",
        "plt.show()  #final bias (y) vs subopt value (x)"
      ],
      "metadata": {
        "id": "-BSViMCCw4d0",
        "colab": {
          "base_uri": "https://localhost:8080/",
          "height": 279
        },
        "outputId": "cf03ab59-8813-48e5-d883-796fa4c2fd84"
      },
      "execution_count": 279,
      "outputs": [
        {
          "output_type": "display_data",
          "data": {
            "text/plain": [
              "<Figure size 432x288 with 1 Axes>"
            ],
            "image/png": "[encoded data removed]"
          },
          "metadata": {
            "needs_background": "light"
          }
        }
      ]
    },
    {
      "cell_type": "code",
      "source": [
        "plt.errorbar(xrb, yrb, erb, linestyle='None', marker='^', label=\"Reward bias\")\n",
        "plt.xlabel(\"Sub-optimization coefficient\")\n",
        "plt.ylim(0.3,2.75)\n",
        "plt.legend()\n",
        "plt.show()  #final bias (y) vs subopt value (x)"
      ],
      "metadata": {
        "id": "VuY9TS3pzJlk",
        "colab": {
          "base_uri": "https://localhost:8080/",
          "height": 279
        },
        "outputId": "c0c5edd8-dc9b-45c4-f8ce-aa818099ff89"
      },
      "execution_count": 280,
      "outputs": [
        {
          "output_type": "display_data",
          "data": {
            "text/plain": [
              "<Figure size 432x288 with 1 Axes>"
            ],
            "image/png": "[encoded data removed]"
          },
          "metadata": {
            "needs_background": "light"
          }
        }
      ]
    },
    {
      "cell_type": "code",
      "source": [
        "plt.errorbar(xregr, yregr, eregr, linestyle='None', marker='^', color=\"red\", label=\"Final regret\")\n",
        "plt.xlabel(\"Sub-optimization coefficient\")\n",
        "plt.ylim(0,8)\n",
        "plt.legend()\n",
        "plt.show()  #final bias (y) vs subopt value (x)"
      ],
      "metadata": {
        "id": "RfOVnOIIIl9u",
        "colab": {
          "base_uri": "https://localhost:8080/",
          "height": 283
        },
        "outputId": "a8d4b672-0125-44d9-f3ff-f1826d747759"
      },
      "execution_count": 281,
      "outputs": [
        {
          "output_type": "display_data",
          "data": {
            "text/plain": [
              "<Figure size 432x288 with 1 Axes>"
            ],
            "image/png": "[encoded data removed]"
          },
          "metadata": {
            "needs_background": "light"
          }
        }
      ]
    },
    {
      "cell_type": "code",
      "source": [
        "ma = np.mean([0,0,1,0])\n",
        "mb = np.mean([0,0,1,1])\n",
        "mc = np.mean([0,0,1,0,0,0,1,1])\n",
        "md = (ma+mb)/2\n",
        "print(ma,mb,mc,md)"
      ],
      "metadata": {
        "id": "QL414Ad-jEH6",
        "colab": {
          "base_uri": "https://localhost:8080/"
        },
        "outputId": "d674b7ea-b770-4725-a51e-e1317768ae58"
      },
      "execution_count": 155,
      "outputs": [
        {
          "output_type": "stream",
          "name": "stdout",
          "text": [
            "0.25 0.5 0.375 0.375\n"
          ]
        }
      ]
    },
    {
      "cell_type": "code",
      "source": [
        "r_coef = 0.5\n",
        "old_r_term = np.multiply([0.25],1-r_coef)\n",
        "new_r_term = np.multiply([0.5],r_coef)\n",
        "rewards_d = np.add(old_r_term,new_r_term)\n",
        "rewards_d = np.clip(rewards_d,0,1)\n",
        "print(rewards_d)"
      ],
      "metadata": {
        "id": "Ad4V-DL820cS",
        "colab": {
          "base_uri": "https://localhost:8080/"
        },
        "outputId": "5590630d-ed37-4636-f3b4-63fb1098a6e1"
      },
      "execution_count": 156,
      "outputs": [
        {
          "output_type": "stream",
          "name": "stdout",
          "text": [
            "[0.375]\n"
          ]
        }
      ]
    },
    {
      "cell_type": "markdown",
      "source": [
        "curr_percentages = self.socket_stats[:,:,1][t]/t\n",
        "mean_percentages = np.mean(curr_percentages)\n",
        "dif_percentages = np.subtract(mean_percentages,self.socket_stats[:,:,1][t]/t)\n",
        "\n",
        "mean_selections = np.mean(self.get_number_of_trials()[t])\n",
        "dif_selections = np.subtract(mean_selections,self.get_number_of_trials()[t])\n",
        "\n",
        "#DUES CONSTRAINTS, UNA PER PERCENTATGES, L'ALTRE n SELECTIONS\n",
        "//dif = dif_percentages #rang 10-30-50\n",
        "\n",
        "dif = dif_selections   #rang 0-0.01-0.1"
      ],
      "metadata": {
        "id": "zs58UXGgp_JC"
      }
    },
    {
      "cell_type": "code",
      "source": [
        "colors = plt.rcParams['axes.prop_cycle'].by_key()['color']\n",
        "print(colors)"
      ],
      "metadata": {
        "id": "T-SLXevc3ukv",
        "colab": {
          "base_uri": "https://localhost:8080/"
        },
        "outputId": "3017361a-ddb6-4ed1-e9e7-700cb687f423"
      },
      "execution_count": 157,
      "outputs": [
        {
          "output_type": "stream",
          "name": "stdout",
          "text": [
            "['#1f77b4', '#ff7f0e', '#2ca02c', '#d62728', '#9467bd', '#8c564b', '#e377c2', '#7f7f7f', '#bcbd22', '#17becf']\n"
          ]
        }
      ]
    },
    {
      "cell_type": "code",
      "source": [
        "def plot_values(m, ax, trend, lim=False):\n",
        "  x = range(len(m))\n",
        "  fig = plt.figure()\n",
        "  ax = fig.add_axes([0,0,1,1])\n",
        "  if(lim!=False):\n",
        "    ax.set_ylim(lim)\n",
        "  for i in range(len(m[0])):\n",
        "    y = [m[j][i] for j in range(len(m))]\n",
        "    ax.plot(x, y)\n",
        "    if(trend):\n",
        "      z = np.polyfit(x, y, 1)\n",
        "      p = np.poly1d(z)\n",
        "      ax.plot(x, p(x), color = colors[i], linestyle=\"--\", label='_nolegend_')\n",
        "  if(lim==False):\n",
        "    ax.legend([\"W_NH_M\", \"W_NH_F\", \"W_H_M\", \"W_H_F\", \"B_NH_M\", \"B_NH_F\", \"B_H_M\", \"B_H_F\"])\n",
        "  else:\n",
        "    ax.legend([\"bias_rate\",\"bias_posteriors\",\"bias_rewards\"])\n",
        "  plt.show()"
      ],
      "metadata": {
        "id": "0xzBx4L9tuGb"
      },
      "execution_count": 158,
      "outputs": []
    },
    {
      "cell_type": "code",
      "source": [
        "def plot_percen(m,ax):\n",
        "  x = range(len(m))\n",
        "  y = np.array([m[j][0] for j in range(len(m))])\n",
        "  fig = plt.figure()\n",
        "  ax = fig.add_axes([0,0,1,1])\n",
        "  ax.bar(x,y,align='edge',width=1.0)\n",
        "  Y = [y]\n",
        "  for i in range(1,len(m[0])):\n",
        "    ax.bar(x, [m[j][i] for j in range(len(m))], bottom=y, align='edge',width=1.0)\n",
        "    y = np.add(y,np.array([m[j][i] for j in range(len(m))]))\n",
        "  ax.legend(labels=[\"W_NH_M\", \"W_NH_F\", \"W_H_M\", \"W_H_F\", \"B_NH_M\", \"B_NH_F\", \"B_H_M\", \"B_H_F\"])\n",
        "  ax.grid(False)\n",
        "  plt.show()"
      ],
      "metadata": {
        "id": "H-AP1mHz7d9P"
      },
      "execution_count": 159,
      "outputs": []
    },
    {
      "cell_type": "code",
      "source": [
        "def nonstatic_sol(iter, rewards_d_o_mu, r_coef, instances_d_o, i_coef, sub_opt):\n",
        "  rewards_d = np.array(rewards_d_o_mu)\n",
        "  instances_d = np.array(instances_d_o)\n",
        "\n",
        "  rewards_his = []\n",
        "  instances_hist = [] \n",
        "  percentages_hist = []\n",
        "  bias_hist = []\n",
        "  bias_presence_hist = []\n",
        "\n",
        "  for i in range(iter):\n",
        "    pbool=False\n",
        "    #if(i%math.ceil(iter/4)==0 or i==iter-1):\n",
        "    if(i==0 or i==iter-1):\n",
        "        print(i)\n",
        "        pbool=True\n",
        "\n",
        "    if(i%math.ceil(iter/20)==0 or i==iter-1):\n",
        "      rewards_his.append(rewards_d)\n",
        "      instances_hist.append(instances_d)\n",
        "\n",
        "    updated_test = SocketTesterBatchSOLUTIONProb(PowerSocketProb, list(rewards_d), 25, sub_opt)\n",
        "    decisions = random.choices(range(8),weights=list(instances_d),k=1000)\n",
        "    rd = updated_test.run(decisions, 0.8, pbool)\n",
        "\n",
        "    #if(i%math.ceil(iter/25)==0 or i==iter-1):\n",
        "    percentages_hist.append(rd[\"percentages\"])\n",
        "\n",
        "    bias_hist.append([rd[\"bias_rate\"],rd[\"bias_posteriors\"],rd[\"bias_rewards\"]]) #,rd[\"regret\"]])\n",
        "    bias_presence_hist.append([rd[\"bias_presence\"]])\n",
        "\n",
        "    r_update = rd[\"estimates\"]\n",
        "    i_update = rd[\"increments\"]\n",
        "\n",
        "    #aux_update = rd[\"app_rate\"]\n",
        "    #aux_term = np.add(np.divide(np.subtract(aux_update,r_update),rewards_d,out=np.zeros_like(r_update), where=r_update!=0),1)\n",
        "\n",
        "    old_r_term = np.multiply(rewards_d,1-r_coef)\n",
        "    new_r_term = np.multiply(np.multiply(r_update,i_update),r_coef) #ok\n",
        "    #new_r_term = np.multiply(np.multiply(rewards_d,i_update),r_coef) #mieh\n",
        "    #new_r_term = np.multiply(np.multiply(rewards_d,aux_term),r_coef) #convergeixen sempre perq approvals de 100 son frequents, es clar\n",
        "\n",
        "    rewards_d = np.add(old_r_term,new_r_term)\n",
        "    rewards_d = np.clip(rewards_d,0.001,0.999)\n",
        "\n",
        "    old_i_term = np.multiply(instances_d,1-i_coef)\n",
        "    new_i_term = np.multiply(np.multiply(instances_d,i_update),i_coef)\n",
        "    instances_d = np.add(old_i_term,new_i_term)\n",
        "    instances_d = np.clip(instances_d,0,None)\n",
        "    instances_d = instances_d / instances_d.sum()\n",
        "  \n",
        "  #fig = plt.figure()\n",
        "  #ax1 = fig.add_axes([0,0,1,1])\n",
        "  plot_values(instances_hist,\"ax1\", False, (0,0.8))\n",
        "  #ax2 = fig.add_axes([1,0,1,1])\n",
        "  plot_values(rewards_his,\"ax2\", False, (0.5,1))\n",
        "  #ax3 = fig.add_axes([2,0,1,1])\n",
        "  plot_percen(percentages_hist,\"ax3\")\n",
        "  #ax4 = fig.add_axes([3,0,1,1])\n",
        "  plot_values(bias_hist, \"ax4\", True, (0,3.3))\n",
        "  #ax5 = fig.add_axes([4,0,1,1])\n",
        "  plot_values(bias_presence_hist, \"ax5\", True, (0,0.4))\n",
        "  #plt.show()\n",
        "  \n",
        "  return instances_hist, rewards_his, percentages_hist"
      ],
      "metadata": {
        "id": "vE47_Xl7NixY"
      },
      "execution_count": 283,
      "outputs": []
    },
    {
      "cell_type": "code",
      "source": [
        "test = [50,25,5,2,8,8,1,1]\n",
        "print(sum(test),len(test))"
      ],
      "metadata": {
        "id": "OpU3ic2zkqMu",
        "colab": {
          "base_uri": "https://localhost:8080/"
        },
        "outputId": "618d8927-5c80-43cb-f2af-66afe05e65f2"
      },
      "execution_count": 161,
      "outputs": [
        {
          "output_type": "stream",
          "name": "stdout",
          "text": [
            "100 8\n"
          ]
        }
      ]
    },
    {
      "cell_type": "code",
      "source": [
        "#nonstatic_sol(100, rewards_nonbias, 0.0, instances_nonbias, 0.0, 0)"
      ],
      "metadata": {
        "id": "OBTmpyGHV5QV"
      },
      "execution_count": 162,
      "outputs": []
    },
    {
      "cell_type": "code",
      "source": [
        "#nonstatic_sol(100, rewards_nonbias, 0.0, instances_nonbias, 0.0, 0.99)"
      ],
      "metadata": {
        "id": "FCShYM7aV4id"
      },
      "execution_count": 163,
      "outputs": []
    },
    {
      "cell_type": "code",
      "source": [
        "i,r,p = nonstatic_sol(100, rewards_bias, 0.01, instances_bias, 0.1, 0.0)"
      ],
      "metadata": {
        "colab": {
          "base_uri": "https://localhost:8080/",
          "height": 532
        },
        "id": "84HaDwKsku4P",
        "outputId": "51e2bd39-372c-48a2-8114-b1ac2c5e680c"
      },
      "execution_count": 164,
      "outputs": [
        {
          "output_type": "stream",
          "name": "stdout",
          "text": [
            "0\n",
            "Reward distribution: [0.83, 0.8077, 0.8088, 0.7826, 0.7015, 0.6639, 0.6658, 0.6192]\n",
            "Final estimates: [0.8156, 0.7905, 0.8276, 0.8571, 0.7708, 0.6111, 0.8, 0.75]\n",
            "Presence of each in batch (%): [45.0, 27.0, 2.9, 1.4, 9.6, 11.4, 1.5, 1.2]\n",
            "Relative approval rate (%): [100.0, 54.81, 100.0, 100.0, 100.0, 31.58, 100.0, 100.0]\n",
            "Percentage over total selected (%): [56.18, 18.48, 3.62, 1.75, 11.99, 4.49, 1.87, 1.5]\n",
            "Total reward: 63700 || and presence bias: 0.30732584269662927\n",
            "Rate bias: 1.7040935672514619\n",
            "Posteriors bias: 0.9937578027465668\n",
            "Rewards bias: 0.4031883145460726\n",
            "Final regret: 3.4744069912609206\n"
          ]
        },
        {
          "output_type": "error",
          "ename": "KeyboardInterrupt",
          "evalue": "ignored",
          "traceback": [
            "\u001b[0;31m---------------------------------------------------------------------------\u001b[0m",
            "\u001b[0;31mKeyboardInterrupt\u001b[0m                         Traceback (most recent call last)",
            "\u001b[0;32m<ipython-input-164-9950ef00320f>\u001b[0m in \u001b[0;36m<module>\u001b[0;34m()\u001b[0m\n\u001b[0;32m----> 1\u001b[0;31m \u001b[0mi\u001b[0m\u001b[0;34m,\u001b[0m\u001b[0mr\u001b[0m\u001b[0;34m,\u001b[0m\u001b[0mp\u001b[0m \u001b[0;34m=\u001b[0m \u001b[0mnonstatic_sol\u001b[0m\u001b[0;34m(\u001b[0m\u001b[0;36m100\u001b[0m\u001b[0;34m,\u001b[0m \u001b[0mrewards_bias\u001b[0m\u001b[0;34m,\u001b[0m \u001b[0;36m0.01\u001b[0m\u001b[0;34m,\u001b[0m \u001b[0minstances_bias\u001b[0m\u001b[0;34m,\u001b[0m \u001b[0;36m0.1\u001b[0m\u001b[0;34m,\u001b[0m \u001b[0;36m0.0\u001b[0m\u001b[0;34m)\u001b[0m\u001b[0;34m\u001b[0m\u001b[0;34m\u001b[0m\u001b[0m\n\u001b[0m",
            "\u001b[0;32m<ipython-input-160-92ad11a14a63>\u001b[0m in \u001b[0;36mnonstatic_sol\u001b[0;34m(iter, rewards_d_o_mu, r_coef, instances_d_o, i_coef, sub_opt)\u001b[0m\n\u001b[1;32m     22\u001b[0m     \u001b[0mupdated_test\u001b[0m \u001b[0;34m=\u001b[0m \u001b[0mSocketTesterBatchSOLUTIONProb\u001b[0m\u001b[0;34m(\u001b[0m\u001b[0mPowerSocketProb\u001b[0m\u001b[0;34m,\u001b[0m \u001b[0mlist\u001b[0m\u001b[0;34m(\u001b[0m\u001b[0mrewards_d\u001b[0m\u001b[0;34m)\u001b[0m\u001b[0;34m,\u001b[0m \u001b[0;36m50\u001b[0m\u001b[0;34m,\u001b[0m \u001b[0msub_opt\u001b[0m\u001b[0;34m)\u001b[0m\u001b[0;34m\u001b[0m\u001b[0;34m\u001b[0m\u001b[0m\n\u001b[1;32m     23\u001b[0m     \u001b[0mdecisions\u001b[0m \u001b[0;34m=\u001b[0m \u001b[0mrandom\u001b[0m\u001b[0;34m.\u001b[0m\u001b[0mchoices\u001b[0m\u001b[0;34m(\u001b[0m\u001b[0mrange\u001b[0m\u001b[0;34m(\u001b[0m\u001b[0;36m8\u001b[0m\u001b[0;34m)\u001b[0m\u001b[0;34m,\u001b[0m\u001b[0mweights\u001b[0m\u001b[0;34m=\u001b[0m\u001b[0mlist\u001b[0m\u001b[0;34m(\u001b[0m\u001b[0minstances_d\u001b[0m\u001b[0;34m)\u001b[0m\u001b[0;34m,\u001b[0m\u001b[0mk\u001b[0m\u001b[0;34m=\u001b[0m\u001b[0;36m1000\u001b[0m\u001b[0;34m)\u001b[0m\u001b[0;34m\u001b[0m\u001b[0;34m\u001b[0m\u001b[0m\n\u001b[0;32m---> 24\u001b[0;31m     \u001b[0mrd\u001b[0m \u001b[0;34m=\u001b[0m \u001b[0mupdated_test\u001b[0m\u001b[0;34m.\u001b[0m\u001b[0mrun\u001b[0m\u001b[0;34m(\u001b[0m\u001b[0mdecisions\u001b[0m\u001b[0;34m,\u001b[0m \u001b[0;36m0.8\u001b[0m\u001b[0;34m,\u001b[0m \u001b[0mpbool\u001b[0m\u001b[0;34m)\u001b[0m\u001b[0;34m\u001b[0m\u001b[0;34m\u001b[0m\u001b[0m\n\u001b[0m\u001b[1;32m     25\u001b[0m \u001b[0;34m\u001b[0m\u001b[0m\n\u001b[1;32m     26\u001b[0m     \u001b[0;31m#if(i%math.ceil(iter/25)==0 or i==iter-1):\u001b[0m\u001b[0;34m\u001b[0m\u001b[0;34m\u001b[0m\u001b[0;34m\u001b[0m\u001b[0m\n",
            "\u001b[0;32m<ipython-input-144-b9502c35ecbd>\u001b[0m in \u001b[0;36mrun\u001b[0;34m(self, decisions_to_consider, max_percent_decisions, prints_bool)\u001b[0m\n\u001b[1;32m    254\u001b[0m         \u001b[0;32mfor\u001b[0m \u001b[0mt\u001b[0m \u001b[0;32min\u001b[0m \u001b[0mrange\u001b[0m\u001b[0;34m(\u001b[0m\u001b[0;36m1\u001b[0m\u001b[0;34m,\u001b[0m\u001b[0mlen\u001b[0m\u001b[0;34m(\u001b[0m\u001b[0mdecisions_to_consider\u001b[0m\u001b[0;34m)\u001b[0m\u001b[0;34m)\u001b[0m\u001b[0;34m:\u001b[0m\u001b[0;34m\u001b[0m\u001b[0;34m\u001b[0m\u001b[0m\n\u001b[1;32m    255\u001b[0m             \u001b[0mself\u001b[0m\u001b[0;34m.\u001b[0m\u001b[0msocket_stats\u001b[0m\u001b[0;34m[\u001b[0m\u001b[0mt\u001b[0m\u001b[0;34m]\u001b[0m \u001b[0;34m=\u001b[0m \u001b[0mself\u001b[0m\u001b[0;34m.\u001b[0m\u001b[0mget_socket_stats\u001b[0m\u001b[0;34m(\u001b[0m\u001b[0mt\u001b[0m\u001b[0;34m)\u001b[0m\u001b[0;34m\u001b[0m\u001b[0;34m\u001b[0m\u001b[0m\n\u001b[0;32m--> 256\u001b[0;31m             \u001b[0msocket_index\u001b[0m \u001b[0;34m=\u001b[0m \u001b[0mself\u001b[0m\u001b[0;34m.\u001b[0m\u001b[0mselect_socket\u001b[0m\u001b[0;34m(\u001b[0m\u001b[0mt\u001b[0m\u001b[0;34m)\u001b[0m\u001b[0;34m\u001b[0m\u001b[0;34m\u001b[0m\u001b[0m\n\u001b[0m\u001b[1;32m    257\u001b[0m             \u001b[0;32mif\u001b[0m\u001b[0;34m(\u001b[0m\u001b[0mself\u001b[0m\u001b[0;34m.\u001b[0m\u001b[0mget_number_of_trials\u001b[0m\u001b[0;34m(\u001b[0m\u001b[0;34m)\u001b[0m\u001b[0;34m[\u001b[0m\u001b[0mt\u001b[0m\u001b[0;34m]\u001b[0m\u001b[0;34m[\u001b[0m\u001b[0msocket_index\u001b[0m\u001b[0;34m]\u001b[0m\u001b[0;34m<\u001b[0m\u001b[0mself\u001b[0m\u001b[0;34m.\u001b[0m\u001b[0mpossibles\u001b[0m\u001b[0;34m[\u001b[0m\u001b[0msocket_index\u001b[0m\u001b[0;34m]\u001b[0m\u001b[0;34m)\u001b[0m\u001b[0;34m:\u001b[0m\u001b[0;34m\u001b[0m\u001b[0;34m\u001b[0m\u001b[0m\n\u001b[1;32m    258\u001b[0m               \u001b[0;31m# charge from the chosen socket and update its mean reward value\u001b[0m\u001b[0;34m\u001b[0m\u001b[0;34m\u001b[0m\u001b[0;34m\u001b[0m\u001b[0m\n",
            "\u001b[0;32m<ipython-input-144-b9502c35ecbd>\u001b[0m in \u001b[0;36mselect_socket\u001b[0;34m(self, t)\u001b[0m\n\u001b[1;32m    216\u001b[0m         \u001b[0;31m#to avoid error with 0.0*float('inf')\u001b[0m\u001b[0;34m\u001b[0m\u001b[0;34m\u001b[0m\u001b[0;34m\u001b[0m\u001b[0m\n\u001b[1;32m    217\u001b[0m         \u001b[0;32mif\u001b[0m \u001b[0mself\u001b[0m\u001b[0;34m.\u001b[0m\u001b[0msubopt_coef\u001b[0m\u001b[0;34m!=\u001b[0m\u001b[0;36m1.0\u001b[0m\u001b[0;34m:\u001b[0m\u001b[0;34m\u001b[0m\u001b[0;34m\u001b[0m\u001b[0m\n\u001b[0;32m--> 218\u001b[0;31m           \u001b[0msocket_max\u001b[0m \u001b[0;34m=\u001b[0m \u001b[0mrandom_argmax\u001b[0m\u001b[0;34m(\u001b[0m\u001b[0;34m[\u001b[0m\u001b[0;34m(\u001b[0m\u001b[0;36m1.0\u001b[0m\u001b[0;34m-\u001b[0m\u001b[0mself\u001b[0m\u001b[0;34m.\u001b[0m\u001b[0msubopt_coef\u001b[0m\u001b[0;34m)\u001b[0m\u001b[0;34m*\u001b[0m\u001b[0mself\u001b[0m\u001b[0;34m.\u001b[0m\u001b[0msockets\u001b[0m\u001b[0;34m[\u001b[0m\u001b[0msocket\u001b[0m\u001b[0;34m]\u001b[0m\u001b[0;34m.\u001b[0m\u001b[0msample\u001b[0m\u001b[0;34m(\u001b[0m\u001b[0mt\u001b[0m\u001b[0;34m+\u001b[0m\u001b[0;36m1\u001b[0m\u001b[0;34m)\u001b[0m\u001b[0;34m-\u001b[0m\u001b[0mself\u001b[0m\u001b[0;34m.\u001b[0m\u001b[0msubopt_coef\u001b[0m\u001b[0;34m*\u001b[0m\u001b[0mbias_term\u001b[0m\u001b[0;34m[\u001b[0m\u001b[0msocket\u001b[0m\u001b[0;34m]\u001b[0m \u001b[0;32mfor\u001b[0m \u001b[0msocket\u001b[0m \u001b[0;32min\u001b[0m \u001b[0mavailable\u001b[0m\u001b[0;34m]\u001b[0m\u001b[0;34m)\u001b[0m\u001b[0;34m\u001b[0m\u001b[0;34m\u001b[0m\u001b[0m\n\u001b[0m\u001b[1;32m    219\u001b[0m         \u001b[0;32melse\u001b[0m\u001b[0;34m:\u001b[0m\u001b[0;34m\u001b[0m\u001b[0;34m\u001b[0m\u001b[0m\n\u001b[1;32m    220\u001b[0m           \u001b[0msocket_max\u001b[0m \u001b[0;34m=\u001b[0m \u001b[0mrandom_argmax\u001b[0m\u001b[0;34m(\u001b[0m\u001b[0;34m[\u001b[0m\u001b[0;34m-\u001b[0m\u001b[0mbias_term\u001b[0m\u001b[0;34m[\u001b[0m\u001b[0msocket\u001b[0m\u001b[0;34m]\u001b[0m \u001b[0;32mfor\u001b[0m \u001b[0msocket\u001b[0m \u001b[0;32min\u001b[0m \u001b[0mavailable\u001b[0m\u001b[0;34m]\u001b[0m\u001b[0;34m)\u001b[0m\u001b[0;34m\u001b[0m\u001b[0;34m\u001b[0m\u001b[0m\n",
            "\u001b[0;32m<ipython-input-10-36a5d68363e8>\u001b[0m in \u001b[0;36mrandom_argmax\u001b[0;34m(value_list)\u001b[0m\n\u001b[1;32m      5\u001b[0m   \u001b[0;34m\"\"\" a random tie-breaking argmax\"\"\"\u001b[0m\u001b[0;34m\u001b[0m\u001b[0;34m\u001b[0m\u001b[0m\n\u001b[1;32m      6\u001b[0m   \u001b[0mvalues\u001b[0m \u001b[0;34m=\u001b[0m \u001b[0mnp\u001b[0m\u001b[0;34m.\u001b[0m\u001b[0masarray\u001b[0m\u001b[0;34m(\u001b[0m\u001b[0mvalue_list\u001b[0m\u001b[0;34m)\u001b[0m\u001b[0;34m\u001b[0m\u001b[0;34m\u001b[0m\u001b[0m\n\u001b[0;32m----> 7\u001b[0;31m   \u001b[0;32mreturn\u001b[0m \u001b[0mnp\u001b[0m\u001b[0;34m.\u001b[0m\u001b[0margmax\u001b[0m\u001b[0;34m(\u001b[0m\u001b[0mnp\u001b[0m\u001b[0;34m.\u001b[0m\u001b[0mrandom\u001b[0m\u001b[0;34m.\u001b[0m\u001b[0mrandom\u001b[0m\u001b[0;34m(\u001b[0m\u001b[0mvalues\u001b[0m\u001b[0;34m.\u001b[0m\u001b[0mshape\u001b[0m\u001b[0;34m)\u001b[0m \u001b[0;34m*\u001b[0m \u001b[0;34m(\u001b[0m\u001b[0mvalues\u001b[0m\u001b[0;34m==\u001b[0m\u001b[0mvalues\u001b[0m\u001b[0;34m.\u001b[0m\u001b[0mmax\u001b[0m\u001b[0;34m(\u001b[0m\u001b[0;34m)\u001b[0m\u001b[0;34m)\u001b[0m\u001b[0;34m)\u001b[0m\u001b[0;34m\u001b[0m\u001b[0;34m\u001b[0m\u001b[0m\n\u001b[0m\u001b[1;32m      8\u001b[0m \u001b[0;34m\u001b[0m\u001b[0m\n\u001b[1;32m      9\u001b[0m \u001b[0;31m# return the index of the smallest value in the supplied list\u001b[0m\u001b[0;34m\u001b[0m\u001b[0;34m\u001b[0m\u001b[0;34m\u001b[0m\u001b[0m\n",
            "\u001b[0;31mKeyboardInterrupt\u001b[0m: "
          ]
        }
      ]
    },
    {
      "cell_type": "code",
      "source": [
        "i,r,p = nonstatic_sol(100, rewards_bias, 0.01, instances_bias, 0.1, 0.1)"
      ],
      "metadata": {
        "id": "NEj4PRcM1Pg2"
      },
      "execution_count": null,
      "outputs": []
    },
    {
      "cell_type": "code",
      "source": [
        "i2,r2,p2 = nonstatic_sol(100, rewards_bias, 0.01, instances_bias, 0.1, 1)"
      ],
      "metadata": {
        "id": "ees5rdq00u0C"
      },
      "execution_count": null,
      "outputs": []
    },
    {
      "cell_type": "code",
      "source": [
        "i2,r2,p2 = nonstatic_sol(100, rewards_bias, 0.01, instances_bias, 0.1, 0.2)"
      ],
      "metadata": {
        "id": "UapYcq-o0ggK"
      },
      "execution_count": null,
      "outputs": []
    },
    {
      "cell_type": "code",
      "source": [
        "i2,r2,p2 = nonstatic_sol(100, rewards_bias, 0.01, instances_bias, 0.1, 0.3)"
      ],
      "metadata": {
        "id": "D2dh5CWSFzex"
      },
      "execution_count": null,
      "outputs": []
    },
    {
      "cell_type": "code",
      "source": [
        "i3,r3,p3 = nonstatic_sol(100, rewards_bias, 0.01, instances_bias, 0.1, 1)"
      ],
      "metadata": {
        "id": "db5bF14UyOqr"
      },
      "execution_count": null,
      "outputs": []
    },
    {
      "cell_type": "code",
      "source": [
        "fig = plt.figure()\n",
        "plot_values(i,\"ax1\")\n",
        "plot_values(r,\"ax2\")\n",
        "plot_percen(p,\"ax3\")\n",
        "plt.show()"
      ],
      "metadata": {
        "id": "hSGCCS6jGkSK"
      },
      "execution_count": null,
      "outputs": []
    },
    {
      "cell_type": "code",
      "source": [
        "fig = plt.figure()\n",
        "plot_values(i2,\"ax1\")\n",
        "plot_values(r2,\"ax2\")\n",
        "plot_percen(p2,\"ax3\")\n",
        "plt.show()"
      ],
      "metadata": {
        "id": "aX8FrfJaHToy"
      },
      "execution_count": null,
      "outputs": []
    },
    {
      "cell_type": "code",
      "source": [
        "fig = plt.figure()\n",
        "plot_values(i3,\"ax1\")\n",
        "plot_values(r3,\"ax2\")\n",
        "plot_percen(p3,\"ax3\")\n",
        "plt.show()"
      ],
      "metadata": {
        "id": "1PezdZlxCodw"
      },
      "execution_count": null,
      "outputs": []
    },
    {
      "cell_type": "code",
      "source": [
        "#nonstatic_sol(100, rewards_bias, 0.01, instances_bias, 0.1, 0.25)"
      ],
      "metadata": {
        "id": "M5Lj3P8VTCxw"
      },
      "execution_count": null,
      "outputs": []
    },
    {
      "cell_type": "code",
      "source": [
        "#nonstatic_sol(100, rewards_bias, 0.01, instances_bias, 0.1, 0.30)"
      ],
      "metadata": {
        "id": "-0cUjtSQJ0e_"
      },
      "execution_count": null,
      "outputs": []
    },
    {
      "cell_type": "code",
      "source": [
        "#nonstatic_sol(100, rewards_bias, 0.01, instances_bias, 0.1, 0.35)"
      ],
      "metadata": {
        "id": "VRcpM6_wzFKx"
      },
      "execution_count": null,
      "outputs": []
    },
    {
      "cell_type": "code",
      "source": [
        "#nonstatic_sol(100, rewards_bias, 0.01, instances_bias, 0.1, 0.40)"
      ],
      "metadata": {
        "id": "GRRDU6fPJrs5"
      },
      "execution_count": null,
      "outputs": []
    },
    {
      "cell_type": "code",
      "source": [
        "#nonstatic_sol(100, rewards_bias, 0.01, instances_bias, 0.1, 0.5)"
      ],
      "metadata": {
        "id": "JylBL9uZvpyO"
      },
      "execution_count": null,
      "outputs": []
    },
    {
      "cell_type": "code",
      "source": [
        "#nonstatic_sol(100, rewards_bias, 0.01, instances_bias, 0.1, 0.6)"
      ],
      "metadata": {
        "id": "uqqaDt9q-jqn"
      },
      "execution_count": null,
      "outputs": []
    },
    {
      "cell_type": "code",
      "source": [
        "#nonstatic_sol(100, rewards_bias, 0.01, instances_bias, 0.1, 0.7)"
      ],
      "metadata": {
        "id": "otCXCLhG-kWs"
      },
      "execution_count": null,
      "outputs": []
    },
    {
      "cell_type": "code",
      "source": [
        "#nonstatic_sol(100, rewards_bias, 0.01, instances_bias, 0.1, 0.8)"
      ],
      "metadata": {
        "id": "NP2LCMCQ-k2a"
      },
      "execution_count": null,
      "outputs": []
    },
    {
      "cell_type": "code",
      "source": [
        "#nonstatic_sol(100, rewards_bias, 0.01, instances_bias, 0.1, 0.9)"
      ],
      "metadata": {
        "id": "P-jL-mRq-n3T"
      },
      "execution_count": null,
      "outputs": []
    },
    {
      "cell_type": "code",
      "source": [
        "def max_per_step(tr):\n",
        "  indexes = [0]*len(tr[0])\n",
        "  reward = 0\n",
        "  for i in range(len(tr[0])):\n",
        "    candidates = []\n",
        "    for j in range(len(tr)):\n",
        "      candidates.append(tr[j][indexes[j]])\n",
        "    max_i = random_argmax(candidates)\n",
        "    reward += tr[max_i][indexes[max_i]]\n",
        "    indexes[max_i]+=1\n",
        "    #print(max_i)\n",
        "  return reward*100"
      ],
      "metadata": {
        "id": "S38Qqn4u18Mi"
      },
      "execution_count": null,
      "outputs": []
    },
    {
      "cell_type": "code",
      "source": [
        "l = [[]]*2\n",
        "l[0].append(1)\n",
        "print(l)"
      ],
      "metadata": {
        "id": "wiwLLj8G9M89"
      },
      "execution_count": null,
      "outputs": []
    },
    {
      "cell_type": "code",
      "source": [
        "decisions = random.choices(range(8),weights=list(instances_bias),k=1000)\n",
        "#print(len(decisions))\n",
        "true_rewards = []\n",
        "for i in range(8):\n",
        "  true_rewards.append([])\n",
        "for d in decisions:\n",
        "  true_rewards[d].append(np.random.binomial(1,list(rewards_bias)[d]))\n",
        "  #print([len(true_rewards[j]) for j in range(len(true_rewards))])"
      ],
      "metadata": {
        "id": "rDTfet1e77qZ"
      },
      "execution_count": null,
      "outputs": []
    },
    {
      "cell_type": "code",
      "source": [
        "#max=0\n",
        "#for i in range(10):\n",
        "#  v = max_per_step(true_rewards)\n",
        "#  if v>max:\n",
        "#    max=v\n",
        "\n",
        "total=0\n",
        "for g in true_rewards:\n",
        "  #print(g)\n",
        "  total += sum(g)\n",
        "print(total*100)"
      ],
      "metadata": {
        "id": "Ixda40l35N5c"
      },
      "execution_count": null,
      "outputs": []
    },
    {
      "cell_type": "code",
      "source": [
        "def nonstatic_sol_true(iter, rewards_d_o_mu, r_coef, instances_d_o, i_coef, sub_opt):\n",
        "  rewards_d = np.array(rewards_d_o_mu)\n",
        "  instances_d = np.array(instances_d_o)\n",
        "\n",
        "  rewards_his = []\n",
        "  instances_hist = [] \n",
        "  percentages_hist = []\n",
        "  bias_hist = []\n",
        "\n",
        "  for i in range(iter):\n",
        "    pbool=False\n",
        "    #if(i%math.ceil(iter/4)==0 or i==iter-1):\n",
        "    if(i==0 or i==iter-1):\n",
        "        print(i)\n",
        "        pbool=True\n",
        "\n",
        "    if(i%math.ceil(iter/20)==0 or i==iter-1):\n",
        "      rewards_his.append(rewards_d)\n",
        "      instances_hist.append(instances_d)\n",
        "\n",
        "    decisions = random.choices(range(8),weights=list(instances_d),k=1000)\n",
        "    true_rewards = [[]]*8\n",
        "    for d in decisions:\n",
        "      true_rewards[d].append(np.random.binomial(1,list(rewards_d)[d]))\n",
        "\n",
        "    updated_test = SocketTesterBatchSOLUTIONProb(PowerSocketTrue, true_rewards, 10, sub_opt)\n",
        "    rd = updated_test.run(decisions, 0.8, pbool)\n",
        "\n",
        "    #if(i%math.ceil(iter/25)==0 or i==iter-1):\n",
        "    percentages_hist.append(rd[\"percentages\"])\n",
        "\n",
        "    bias_hist.append([rd[\"bias_presence\"],rd[\"bias_rate\"],rd[\"bias_posteriors\"]])\n",
        "\n",
        "    r_update = rd[\"estimates\"]\n",
        "    i_update = rd[\"increments\"]\n",
        "    \n",
        "    old_r_term = np.multiply(rewards_d,1-r_coef)\n",
        "    #new_r_term = np.multiply(r_update,r_coef)\n",
        "    new_r_term = np.multiply(np.multiply(r_update,i_update),r_coef)\n",
        "    rewards_d = np.add(old_r_term,new_r_term)\n",
        "    rewards_d = np.clip(rewards_d,0,0.99)\n",
        "\n",
        "    old_i_term = np.multiply(instances_d,1-i_coef)\n",
        "    new_i_term = np.multiply(np.multiply(instances_d,i_update),i_coef)\n",
        "    instances_d = np.add(old_i_term,new_i_term)\n",
        "    instances_d = np.clip(instances_d,0,None)\n",
        "    instances_d = instances_d / instances_d.sum()\n",
        "  \n",
        "  plot_values(instances_hist)\n",
        "  plot_values(rewards_his)\n",
        "  plot_percen(percentages_hist)\n",
        "  plot_values(bias_hist, True)\n",
        "  #return rewards_his, instances_hist"
      ],
      "metadata": {
        "id": "xN3PeD6F1oQ9"
      },
      "execution_count": null,
      "outputs": []
    },
    {
      "cell_type": "code",
      "source": [
        "variances = [10]*8\n",
        "##(5000 per iter)\n",
        "nonstatic_sol(1000, rewards_bias, 0.02, instances_bias, 0.02, 0.1, variances)"
      ],
      "metadata": {
        "id": "SAQmQ6vjii8u"
      },
      "execution_count": null,
      "outputs": []
    },
    {
      "cell_type": "code",
      "source": [
        "variances = [10]*8\n",
        "nonstatic_sol(1000, rewards_bias, 0.04, instances_bias, 0.04, 100, variances)"
      ],
      "metadata": {
        "id": "OqxfJ3T_QfW7"
      },
      "execution_count": null,
      "outputs": []
    },
    {
      "cell_type": "code",
      "source": [
        "from sklearn.preprocessing import MinMaxScaler\n",
        "from sklearn.linear_model import LogisticRegression\n",
        "from sklearn.model_selection import cross_validate\n",
        "import pandas as pd\n",
        "import numpy as np\n",
        "\n",
        "from google.colab import drive # import drive from google colab\n",
        "\n",
        "ROOT = \"/content/drive\"     # default location for the drive\n",
        "print(ROOT)                 # print content of ROOT (Optional)\n",
        "drive.mount(ROOT)\n",
        "\n",
        "unpickled_df = pd.read_csv(\"/content/drive/MyDrive/TFG/hmda/state_AL-GA_actions_taken_1-3.csv\")\n",
        "print(unpickled_df.derived_sex.unique(),'\\n',\n",
        "unpickled_df.derived_race.unique(),'\\n',\n",
        "unpickled_df.derived_ethnicity.unique(),'\\n',\n",
        "unpickled_df.action_taken.unique())\n",
        "\n",
        "subsample = unpickled_df                    \n",
        "\n",
        "print(len(subsample.loc[subsample[\"action_taken\"]==1]),len(subsample.loc[subsample[\"action_taken\"]==3]))\n",
        "subsample = subsample.loc[subsample[\"action_taken\"].isin([1,3])]\n",
        "subsample[\"action_taken\"] = subsample[\"action_taken\"].replace([3],[0])    \n",
        "print(\"action:\",subsample[\"action_taken\"].unique())\n",
        "print(len(subsample.loc[subsample[\"action_taken\"]==1]),len(subsample.loc[subsample[\"action_taken\"]==0]))\n",
        "\n",
        "print(\"race pre:\",subsample[\"derived_race\"].unique())\n",
        "subsample = subsample.loc[subsample[\"derived_race\"].isin([\"White\",\"Black or African American\"])]\n",
        "subsample[\"derived_race\"] = subsample[\"derived_race\"].replace([\"White\",\"Black or African American\"],[0,1])\n",
        "print(\"race:\",subsample[\"derived_race\"].unique())\n",
        "\n",
        "print(\"ethnicity pre:\",subsample[\"derived_ethnicity\"].unique())\n",
        "subsample = subsample.loc[subsample[\"derived_ethnicity\"].isin(['Not Hispanic or Latino','Hispanic or Latino'])]\n",
        "subsample[\"derived_ethnicity\"] = subsample[\"derived_ethnicity\"].replace(['Not Hispanic or Latino','Hispanic or Latino'],[0,1])\n",
        "print(\"ethnicity:\",subsample[\"derived_ethnicity\"].unique())\n",
        "\n",
        "print(\"sex pre\",subsample[\"derived_sex\"].unique())\n",
        "subsample = subsample.loc[subsample[\"derived_sex\"].isin(['Male','Female'])]\n",
        "subsample[\"derived_sex\"] = subsample[\"derived_sex\"].replace(['Male','Female'],[0,1])\n",
        "print(\"sex:\",subsample[\"derived_sex\"].unique())\n",
        "\n",
        "\n",
        "subsample = subsample.loc[subsample[\"interest_rate\"]!='Exempt']\n",
        "subsample[\"interest_rate\"] = pd.to_numeric(subsample[\"interest_rate\"] ) \n",
        "\n",
        "#print(len(subsample.loc[subsample[\"loan_to_value_ratio\"]=='Exempt']))\n",
        "subsample = subsample.loc[subsample[\"loan_to_value_ratio\"]!='Exempt']\n",
        "#print(len(subsample.loc[subsample[\"loan_to_value_ratio\"]=='Exempt']))\n",
        "#print(subsample[\"loan_to_value_ratio\"])\n",
        "subsample[\"loan_to_value_ratio\"] = pd.to_numeric(subsample[\"loan_to_value_ratio\"] )  \n",
        "#print(subsample[\"loan_to_value_ratio\"].mean())\n",
        "\n",
        "subsample = subsample.loc[subsample[\"property_value\"]!='Exempt']\n",
        "subsample[\"property_value\"] = pd.to_numeric(subsample[\"property_value\"] ) \n",
        "\n",
        "print(len(subsample.loc[subsample[\"action_taken\"]==1]),len(subsample.loc[subsample[\"action_taken\"]==0]))\n",
        "\n",
        "print(len(subsample))\n",
        "#subsample = subsample[[\"loan_type\", \"property_type\", \"loan_purpose\", \"loan_amount_000s\",\n",
        "#                            \"action_taken\",\"applicant_ethnicity\",\"applicant_race_1\",\"applicant_sex\",\n",
        "#                           \"applicant_income_000s\"]]\n",
        "print(len(subsample.loc[subsample[\"action_taken\"]==1]),len(subsample.loc[subsample[\"action_taken\"]==0]))\n",
        "print(len(subsample),len(subsample.columns),subsample.isnull().values.sum())\n",
        "\n",
        "#thr=0.25\n",
        "#for col in subsample.columns:\n",
        "#  if (subsample[col].isnull().sum()>thr*len(subsample)):\n",
        "    #subsample.drop(columns=[col])\n",
        "#    print(col)\n",
        "\n",
        "#subsample = subsample.dropna(axis=1,thresh=thr*len(subsample))\n",
        "#subsample = subsample.dropna(axis=0)\n",
        "\n",
        "# Iterate over each column of cc_apps\n",
        "for col in subsample.columns:\n",
        "    # Check if the column is of object type\n",
        "    if subsample[col].dtypes == 'object':\n",
        "        # Impute with the most frequent value\n",
        "        subsample = subsample.fillna(subsample[col].value_counts().index[0])\n",
        "\n",
        "\n",
        "print(len(subsample.loc[subsample[\"action_taken\"]==1]),len(subsample.loc[subsample[\"action_taken\"]==0]))\n",
        "\n",
        "# Count the number of NaNs in the dataset and print the counts to verify\n",
        "print(len(subsample),len(subsample.columns),subsample.isnull().values.sum())\n",
        "cols = [f_ for f_ in subsample.columns if subsample[f_].dtype != 'object']\n",
        "features = cols\n",
        "\n",
        "list_to_remove = ['action_taken','purchaser_type', 'activity_year',\n",
        "                  'denial_reason_1','denial_reason_2','denial_reason_3','sequence_number','application_date_indicator']\n",
        "\n",
        "features = list(set(cols).difference(set(list_to_remove)))\n",
        "\n",
        "X = subsample[features]\n",
        "y = subsample['action_taken']\n",
        "\n",
        "# Import train_test_split\n",
        "from sklearn.model_selection import train_test_split\n",
        "# Split into train and test sets\n",
        "X_train, X_test, y_train, y_test = train_test_split(X,\n",
        "                                y,\n",
        "                                test_size=0.3,\n",
        "                                random_state=2)\n",
        "\n",
        "X_test1, X_test2, y_test1, y_test2 = train_test_split(X_test,\n",
        "                                y_test,\n",
        "                                test_size=0.33,\n",
        "                                random_state=2)\n",
        "\n",
        "scaler = MinMaxScaler(feature_range=(0, 1))\n",
        "rescaledX = scaler.fit_transform(X)\n",
        "rescaledX_train = scaler.fit_transform(X_train)\n",
        "rescaledX_test = scaler.fit_transform(X_test)\n",
        "rescaledX_test1 = scaler.fit_transform(X_test1)\n",
        "rescaledX_test2 = scaler.fit_transform(X_test2)\n",
        "\n",
        "logreg = LogisticRegression(solver=\"liblinear\")\n",
        "\n",
        "scores_dict = cross_validate(logreg,rescaledX_train,y_train,cv=5, return_estimator=True)\n",
        "best = scores_dict[\"estimator\"][0] \n",
        "\n",
        "\n",
        "y_pred = best.predict(rescaledX_test1)\n",
        "from collections import Counter\n",
        "counterpred = Counter(y_pred)\n",
        "countertest = Counter(y_test1)\n",
        "counterall = Counter(y)\n",
        "print(counterpred, countertest, counterall)\n",
        "print(\"Accuracy of logistic regression classifier: \", best.score(rescaledX_test1, y_test1))\n",
        "\n",
        "\n",
        "y_pred = best.predict(rescaledX_test2)\n",
        "counterpred = Counter(y_pred)\n",
        "countertest = Counter(y_test2)\n",
        "counterall = Counter(y)\n",
        "print(counterpred, countertest, counterall)\n",
        "print(\"Accuracy of logistic regression classifier: \", best.score(rescaledX_test2, y_test2))"
      ],
      "metadata": {
        "id": "emXzrJo7lyEp"
      },
      "execution_count": null,
      "outputs": []
    },
    {
      "cell_type": "code",
      "source": [
        "import math\n",
        "def partitions(n_partitions, X, y):\n",
        "  X_partitions = []\n",
        "  y_partitions = []\n",
        "  size_partitions = math.floor(len(X)/n_partitions)\n",
        "  for p in range(n_partitions):\n",
        "    X_partitions.append(X[p*size_partitions:(p+1)*size_partitions])  \n",
        "    y_partitions.append(y[p*size_partitions:(p+1)*size_partitions])\n",
        "  print(len(X), [sum(len(item) for item in X_partitions)], len(X_partitions[0]))\n",
        "  return X_partitions, y_partitions"
      ],
      "metadata": {
        "id": "IegTn5iooJed"
      },
      "execution_count": null,
      "outputs": []
    },
    {
      "cell_type": "code",
      "source": [
        "def create_df(x,xcol,y,ycol):\n",
        "  auxnparray = x.copy()\n",
        "  newdf = pd.DataFrame(auxnparray, columns = xcol)\n",
        "  newdf[ycol] = y.tolist()\n",
        "  return newdf"
      ],
      "metadata": {
        "id": "GPo_JbYdq8Nj"
      },
      "execution_count": null,
      "outputs": []
    },
    {
      "cell_type": "code",
      "source": [
        "def preproc(df):\n",
        "  subgroups = []\n",
        "  instances = []\n",
        "  sensitive = [\"derived_race\",\"derived_ethnicity\",\"derived_sex\"]\n",
        "  R = [\"W\",\"B\"]\n",
        "  E = [\"NH\",\"H\"]\n",
        "  S = [\"M\",\"F\"]\n",
        "  for option in [0,1]:\n",
        "    for option2 in [0,1]:\n",
        "      for option3 in [0,1]:\n",
        "          subgroups.append(df.loc[((df[sensitive[0]]==option) & (df[sensitive[1]]==option2) & (df[sensitive[2]]==option3))])\n",
        "          instances.append(len(subgroups[-1]))\n",
        "  return subgroups, instances"
      ],
      "metadata": {
        "id": "j4BpXFOGokwJ"
      },
      "execution_count": null,
      "outputs": []
    },
    {
      "cell_type": "code",
      "source": [
        "from scipy.stats import norm\n",
        "\n",
        "df = create_df(X,features,y,\"action_taken\")\n",
        "\n",
        "mean1, std1 = norm.fit(df.loc[df[\"action_taken\"]==1.0][\"loan_amount\"])\n",
        "\n",
        "mean0, std0 = norm.fit(df.loc[df[\"action_taken\"]==0.0][\"loan_amount\"])\n",
        "\n",
        "print(mean1, std1)\n",
        "print(mean0, std0)\n",
        "print()\n",
        "sg, ic = preproc(df)\n",
        "for s in sg:\n",
        "  approval_rate = len(s.loc[s[\"action_taken\"]==1.0])/len(s)\n",
        "  print(approval_rate)\n",
        "  mu, std = norm.fit(s[\"loan_amount\"])\n",
        "  print(mu,std)"
      ],
      "metadata": {
        "id": "esjQP1U8r8QN"
      },
      "execution_count": null,
      "outputs": []
    },
    {
      "cell_type": "code",
      "source": [
        "class PowerSocketReal:\n",
        "    \"\"\" the base power socket class \"\"\"\n",
        "    \n",
        "    def __init__(self, q, cl, var=1):                \n",
        "        self.q = q        # the true reward value \n",
        "        self.confidence_level = cl          \n",
        "        self.var = var   \n",
        "        self.initialize() # reset the socket\n",
        "        \n",
        "    def initialize(self):\n",
        "        self.Q = 0   # the estimate of this socket's reward value                \n",
        "        self.n = 0   # the number of times this socket has been tried        \n",
        "    \n",
        "    def charge(self):\n",
        "        \"\"\" return a random amount of charge \"\"\"\n",
        "        \n",
        "        # the reward is a guassian distribution with unit variance around the true\n",
        "        # value 'q'\n",
        "        # value = self.var * np.random.randn() + self.q      \n",
        "\n",
        "        #value = self.q.iloc[self.n][\"action_taken\"]\n",
        "\n",
        "        #value = self.q[\"action_taken\"].sample(n=1).iloc[0]\n",
        "\n",
        "        sample = self.q.sample(n=1)\n",
        "        if (sample[\"action_taken\"].iloc[0]==1.0):\n",
        "          value = sample[\"loan_amount\"].iloc[0]\n",
        "        else:\n",
        "          value = 0.0\n",
        "\n",
        "        # never allow a charge less than 0 to be returned        \n",
        "        return 0 if value < 0 else value\n",
        "               \n",
        "    def update(self,R):\n",
        "        \"\"\" update this socket after it has returned reward value 'R' \"\"\"     \n",
        "    \n",
        "        # increment the number of times this socket has been tried\n",
        "        self.n += 1\n",
        "\n",
        "        # the new estimate of the mean is calculated from the old estimate\n",
        "        self.Q = (1 - 1.0/self.n) * self.Q + (1.0/self.n) * R\n",
        "\n",
        "    def uncertainty(self, t): \n",
        "        \"\"\" calculate the uncertainty in the estimate of this socket's mean \"\"\"\n",
        "        if self.n == 0: return float('inf')                         \n",
        "        return self.confidence_level * (np.sqrt(np.log(t) / self.n))         \n",
        "        \n",
        "    def sample(self,t):\n",
        "        \"\"\" the UCB reward is the estimate of the mean reward plus its uncertainty \"\"\"\n",
        "        return self.Q + self.uncertainty(t) "
      ],
      "metadata": {
        "id": "Ae_OU1CKwcAH"
      },
      "execution_count": null,
      "outputs": []
    },
    {
      "cell_type": "code",
      "source": [
        "class SocketTesterBatchReal():\n",
        "    \"\"\" create and test a set of sockets over a single test run \"\"\"\n",
        "\n",
        "    def __init__(self, socket, socket_order, confidence_level):  \n",
        "        \n",
        "        # create supplied socket type with a mean value defined by socket order \n",
        "        self.sockets = [socket(q, confidence_level) for q in socket_order]     \n",
        "        \n",
        "        # set the number of sockets equal to the number created\n",
        "        self.number_of_sockets = len(self.sockets)\n",
        "\n",
        "        self.number_of_stats = 2                 \n",
        "            \n",
        "    def initialize_run(self, number_of_steps):\n",
        "        \"\"\" reset counters at the start of a run \"\"\"\n",
        "        \n",
        "        # save the number of steps over which the run will take place\n",
        "        self.number_of_steps = number_of_steps\n",
        "        \n",
        "        # reset the actual number of steps that the test ran for\n",
        "        self.total_steps = 0\n",
        "        \n",
        "        # monitor the total reward obtained over the run\n",
        "        self.total_reward = 0\n",
        "        \n",
        "        # the current total reward at each timestep of the run\n",
        "        self.total_reward_per_timestep = []\n",
        "        \n",
        "        # the actual reward obtained at each timestep\n",
        "        self.reward_per_timestep = []\n",
        "           \n",
        "        # stats for each time-step\n",
        "        # - by default records: estimate, number of trials\n",
        "        self.socket_stats = np.zeros(shape=(number_of_steps+1, \n",
        "                                            self.number_of_sockets, \n",
        "                                            self.number_of_stats))\n",
        "        \n",
        "        # ensure that all sockets are re-initialized\n",
        "        for socket in self.sockets: socket.initialize()\n",
        "            \n",
        "                                \n",
        "    def charge_and_update(self,socket_index):\n",
        "        \"\"\" charge from & update the specified socket and associated parameters \"\"\"\n",
        "        \n",
        "        # charge from the chosen socket and update its mean reward value\n",
        "        reward = self.sockets[socket_index].charge()\n",
        "        self.sockets[socket_index].update(reward)\n",
        "\n",
        "        # update the total reward\n",
        "        self.total_reward += reward   \n",
        "        \n",
        "        # store the current total reward at this timestep\n",
        "        self.total_reward_per_timestep.append(self.total_reward)\n",
        "        \n",
        "        # store the reward obtained at this timestep\n",
        "        self.reward_per_timestep.append(reward)        \n",
        "        \n",
        "        \n",
        "    def get_socket_stats( self, t ):\n",
        "        \"\"\" get the current information from each socket \"\"\"        \n",
        "        socket_stats = [[socket.Q, socket.n] for socket in self.sockets]\n",
        "        return socket_stats     \n",
        "    \n",
        "    def get_mean_reward( self ):\n",
        "        \"\"\" the total reward averaged over the number of time steps \"\"\"\n",
        "        return (self.total_reward/self.total_steps)\n",
        "    \n",
        "    def get_total_reward_per_timestep( self ):\n",
        "        \"\"\" the cumulative total reward at each timestep of the run \"\"\"\n",
        "        return self.total_reward_per_timestep\n",
        "    \n",
        "    def get_reward_per_timestep( self ):\n",
        "        \"\"\" the actual reward obtained at each timestep of the run \"\"\"\n",
        "        return self.reward_per_timestep\n",
        "    \n",
        "    def get_estimates(self):\n",
        "        \"\"\" get the estimate of each socket's reward at each timestep of the run \"\"\"\n",
        "        return self.socket_stats[:,:,0]  \n",
        "    \n",
        "    def get_number_of_trials(self):\n",
        "        \"\"\" get the number of trials of each socket at each timestep of the run \"\"\"\n",
        "        return self.socket_stats[:,:,1]          \n",
        "                \n",
        "    def get_socket_percentages( self ):\n",
        "        \"\"\" get the percentage of times each socket was tried over the run \"\"\"\n",
        "        return (self.socket_stats[:,:,1][self.total_steps]/self.total_steps)        \n",
        "    \n",
        "    def get_time_steps( self ):\n",
        "        \"\"\" get the number of time steps that the test ran for \"\"\"\n",
        "        return self.total_steps\n",
        "    \n",
        "    def select_socket( self, t ):\n",
        "        \"\"\" Greedy Socket Selection\"\"\"\n",
        "        \n",
        "        # choose the socket with the current highest mean reward or arbitrarily\n",
        "        # select a socket in the case of a tie            \n",
        "        mask = [self.get_number_of_trials()[t][i]<self.possibles[i] for i in range(len(self.sockets))]\n",
        "        #print(mask)\n",
        "        available = [self.sockets[i] for i in range(len(self.sockets)) if (mask[i])]\n",
        "        #print([socket.sample(t+1) for socket in available])\n",
        "        socket_max = random_argmax([socket.sample(t+1) for socket in available]) \n",
        "        #print(socket_max)\n",
        "        socket_index = self.sockets.index(available[socket_max])\n",
        "        return socket_index     \n",
        "    \n",
        "    def return_increments(self, decisions_to_consider):\n",
        "        presence = np.array([i/len(decisions_to_consider) for i in self.possibles])\n",
        "        selected_presence = np.array(self.get_socket_percentages())\n",
        "        diff = np.subtract(selected_presence, presence)\n",
        "        #print(diff)\n",
        "        #print(diff.sum())\n",
        "        return diff\n",
        "    \n",
        "    def run( self, decisions_to_consider, class_count, max_percent_decisions=1, prints_bool = True):  \n",
        "        \"\"\" perform a single run, over the set of sockets, \n",
        "            for the defined number of steps \"\"\"\n",
        "        \n",
        "        for s in range(len(self.sockets)):\n",
        "          self.sockets[s].q = decisions_to_consider[s]     \n",
        "\n",
        "        # reset the run counters\n",
        "        self.initialize_run(sum(class_count))\n",
        "\n",
        "        self.possibles = class_count\n",
        "        print(self.possibles)\n",
        "\n",
        "        usos = 0\n",
        "        usos_maxims = math.floor(max_percent_decisions*sum(class_count))\n",
        "        #print(usos_maxims)\n",
        "\n",
        "        # loop for the specified number of time-steps\n",
        "        for t in range(sum(class_count)):\n",
        "\n",
        "            # get information about all sockets at the start of the time step\n",
        "            self.socket_stats[t] = self.get_socket_stats(t)            \n",
        "            \n",
        "            # select a socket\n",
        "            socket_index = self.select_socket(t)\n",
        "            #if(decisions_to_consider[t]==socket_index):\n",
        "            if(self.get_number_of_trials()[t][socket_index]<self.possibles[socket_index]):\n",
        "              # charge from the chosen socket and update its mean reward value\n",
        "              self.charge_and_update(socket_index)\n",
        "              usos+=1\n",
        "              \n",
        "              if usos > usos_maxims:\n",
        "                  #print(usos,usos_maxims)\n",
        "                  break\n",
        "        # save the actual number of steps that have been run\n",
        "        self.total_steps = t    \n",
        "    \n",
        "        # get the stats for each socket at the end of the run        \n",
        "        self.socket_stats[t+1] = self.get_socket_stats(t+1)           \n",
        "        \n",
        "        if(prints_bool):\n",
        "          #print(\"Reward distribution:\",[s.q for s in self.sockets])\n",
        "          #print(\"Intances of each cluster:\",self.possibles)\n",
        "          print(\"Presence of each in batch (%):\",[100*i/sum(class_count) for i in self.possibles])\n",
        "          #print(\"Times selected:\",self.get_number_of_trials()[t])\n",
        "          print(\"Relative approval rate (%):\",[round(100*self.get_number_of_trials()[t][i]/self.possibles[i],2) if self.possibles[i]>0.0 else 0.0 for i in range(len(self.possibles))])\n",
        "          print(\"Percentage over total selected (%):\",[round(100*p,2) for p in self.get_socket_percentages()])\n",
        "          #print(\"For a total reward:\",self.total_reward)\n",
        "\n",
        "\n",
        "        return self.total_steps, self.total_reward, self.return_increments(decisions_to_consider)"
      ],
      "metadata": {
        "id": "xXijNePRwjld"
      },
      "execution_count": null,
      "outputs": []
    },
    {
      "cell_type": "code",
      "source": [
        "class SocketTesterBatchRealBudget():\n",
        "    \"\"\" create and test a set of sockets over a single test run \"\"\"\n",
        "\n",
        "    def __init__(self, socket, socket_order, confidence_level):  \n",
        "        \n",
        "        # create supplied socket type with a mean value defined by socket order \n",
        "        self.sockets = [socket(q, confidence_level) for q in socket_order]     \n",
        "        \n",
        "        # set the number of sockets equal to the number created\n",
        "        self.number_of_sockets = len(self.sockets)\n",
        "\n",
        "        self.number_of_stats = 2                 \n",
        "            \n",
        "    def initialize_run(self, number_of_steps):\n",
        "        \"\"\" reset counters at the start of a run \"\"\"\n",
        "        \n",
        "        # save the number of steps over which the run will take place\n",
        "        self.number_of_steps = number_of_steps\n",
        "        \n",
        "        # reset the actual number of steps that the test ran for\n",
        "        self.total_steps = 0\n",
        "        \n",
        "        # monitor the total reward obtained over the run\n",
        "        self.total_reward = 0\n",
        "        \n",
        "        # the current total reward at each timestep of the run\n",
        "        self.total_reward_per_timestep = []\n",
        "        \n",
        "        # the actual reward obtained at each timestep\n",
        "        self.reward_per_timestep = []\n",
        "           \n",
        "        # stats for each time-step\n",
        "        # - by default records: estimate, number of trials\n",
        "        self.socket_stats = np.zeros(shape=(number_of_steps+1, \n",
        "                                            self.number_of_sockets, \n",
        "                                            self.number_of_stats))\n",
        "        \n",
        "        # ensure that all sockets are re-initialized\n",
        "        for socket in self.sockets: socket.initialize()\n",
        "            \n",
        "                                \n",
        "    def charge_and_update(self,socket_index):\n",
        "        \"\"\" charge from & update the specified socket and associated parameters \"\"\"\n",
        "        \n",
        "        # charge from the chosen socket and update its mean reward value\n",
        "        reward = self.sockets[socket_index].charge()\n",
        "        self.sockets[socket_index].update(reward)\n",
        "\n",
        "        # update the total reward\n",
        "        self.total_reward += reward  \n",
        "        self.budget -= reward \n",
        "        \n",
        "        # store the current total reward at this timestep\n",
        "        self.total_reward_per_timestep.append(self.total_reward)\n",
        "        \n",
        "        # store the reward obtained at this timestep\n",
        "        self.reward_per_timestep.append(reward)        \n",
        "        \n",
        "        \n",
        "    def get_socket_stats( self, t ):\n",
        "        \"\"\" get the current information from each socket \"\"\"        \n",
        "        socket_stats = [[socket.Q, socket.n] for socket in self.sockets]\n",
        "        return socket_stats     \n",
        "    \n",
        "    def get_mean_reward( self ):\n",
        "        \"\"\" the total reward averaged over the number of time steps \"\"\"\n",
        "        return (self.total_reward/self.total_steps)\n",
        "    \n",
        "    def get_total_reward_per_timestep( self ):\n",
        "        \"\"\" the cumulative total reward at each timestep of the run \"\"\"\n",
        "        return self.total_reward_per_timestep\n",
        "    \n",
        "    def get_reward_per_timestep( self ):\n",
        "        \"\"\" the actual reward obtained at each timestep of the run \"\"\"\n",
        "        return self.reward_per_timestep\n",
        "    \n",
        "    def get_estimates(self):\n",
        "        \"\"\" get the estimate of each socket's reward at each timestep of the run \"\"\"\n",
        "        return self.socket_stats[:,:,0]  \n",
        "    \n",
        "    def get_number_of_trials(self):\n",
        "        \"\"\" get the number of trials of each socket at each timestep of the run \"\"\"\n",
        "        return self.socket_stats[:,:,1]          \n",
        "                \n",
        "    def get_socket_percentages( self ):\n",
        "        \"\"\" get the percentage of times each socket was tried over the run \"\"\"\n",
        "        return (self.socket_stats[:,:,1][self.total_steps]/self.total_steps)        \n",
        "    \n",
        "    def get_time_steps( self ):\n",
        "        \"\"\" get the number of time steps that the test ran for \"\"\"\n",
        "        return self.total_steps\n",
        "    \n",
        "    def select_socket( self, t ):\n",
        "        \"\"\" Greedy Socket Selection\"\"\"\n",
        "        \n",
        "        # choose the socket with the current highest mean reward or arbitrarily\n",
        "        # select a socket in the case of a tie            \n",
        "        mask = [self.get_number_of_trials()[t][i]<self.possibles[i] for i in range(len(self.sockets))]\n",
        "        #print(mask)\n",
        "        available = [self.sockets[i] for i in range(len(self.sockets)) if (mask[i])]\n",
        "        #print([socket.sample(t+1) for socket in available])\n",
        "        socket_max = random_argmax([socket.sample(t+1) for socket in available]) \n",
        "        #print(socket_max)\n",
        "        socket_index = self.sockets.index(available[socket_max])\n",
        "        return socket_index     \n",
        "    \n",
        "    def return_increments(self, decisions_to_consider):\n",
        "        presence = np.array([i/len(decisions_to_consider) for i in self.possibles])\n",
        "        selected_presence = np.array(self.get_socket_percentages())\n",
        "        diff = np.subtract(selected_presence, presence)\n",
        "        #print(diff)\n",
        "        #print(diff.sum())\n",
        "        return diff\n",
        "    \n",
        "    def run( self, decisions_to_consider, class_count, budget, prints_bool = True):  \n",
        "        \"\"\" perform a single run, over the set of sockets, \n",
        "            for the defined number of steps \"\"\"\n",
        "        \n",
        "        for s in range(len(self.sockets)):\n",
        "          self.sockets[s].q = decisions_to_consider[s]     \n",
        "\n",
        "        # reset the run counters\n",
        "        self.initialize_run(sum(class_count))\n",
        "\n",
        "        self.possibles = class_count\n",
        "        print(self.possibles)\n",
        "\n",
        "        usos = 0\n",
        "        self.budget = budget\n",
        "        #print(usos_maxims)\n",
        "\n",
        "        # loop for the specified number of time-steps\n",
        "        for t in range(sum(class_count)):\n",
        "\n",
        "            # get information about all sockets at the start of the time step\n",
        "            self.socket_stats[t] = self.get_socket_stats(t)            \n",
        "            \n",
        "            # select a socket\n",
        "            socket_index = self.select_socket(t)\n",
        "            #if(decisions_to_consider[t]==socket_index):\n",
        "            if(self.get_number_of_trials()[t][socket_index]<self.possibles[socket_index]):\n",
        "              # charge from the chosen socket and update its mean reward value\n",
        "              self.charge_and_update(socket_index)\n",
        "              usos+=1\n",
        "            if self.budget-max(self.get_estimates()[t]) < 0:\n",
        "              break\n",
        "        # save the actual number of steps that have been run\n",
        "        self.total_steps = t    \n",
        "    \n",
        "        # get the stats for each socket at the end of the run        \n",
        "        self.socket_stats[t+1] = self.get_socket_stats(t+1)           \n",
        "        \n",
        "        if(prints_bool):\n",
        "          #print(\"Reward distribution:\",[s.q for s in self.sockets])\n",
        "          #print(\"Intances of each cluster:\",self.possibles)\n",
        "          print(\"Presence of each in batch (%):\",[100*i/sum(class_count) for i in self.possibles])\n",
        "          #print(\"Times selected:\",self.get_number_of_trials()[t])\n",
        "          print(\"Relative approval rate (%):\",[round(100*self.get_number_of_trials()[t][i]/self.possibles[i],2) if self.possibles[i]>0.0 else 0.0 for i in range(len(self.possibles))])\n",
        "          print(\"Percentage over total selected (%):\",[round(100*p,2) for p in self.get_socket_percentages()])\n",
        "          #print(\"For a total reward:\",self.total_reward)\n",
        "\n",
        "\n",
        "        return self.total_steps, self.total_reward, self.return_increments(decisions_to_consider)"
      ],
      "metadata": {
        "id": "Z96JhtTu457M"
      },
      "execution_count": null,
      "outputs": []
    },
    {
      "cell_type": "code",
      "source": [
        "real_test = SocketTesterBatchReal(PowerSocketReal, [[0]]*8, 5)\n",
        "print(real_test.sockets)\n",
        "\n",
        "\n",
        "X_p, y_p = partitions(4,X,y)\n",
        "for b in range(4):\n",
        "  batch = create_df(X_p[b],features,y_p[b],\"action_taken\")\n",
        "  sg, ic = preproc(batch)\n",
        "  ts,tr,ti = real_test.run(sg, ic, 0.8, True)"
      ],
      "metadata": {
        "id": "iorlUCPu6bVC"
      },
      "execution_count": null,
      "outputs": []
    },
    {
      "cell_type": "code",
      "source": [
        "real_test = SocketTesterBatchRealBudget(PowerSocketReal, [[0]]*8, 5)\n",
        "print(real_test.sockets)\n",
        "\n",
        "\n",
        "X_p, y_p = partitions(10,X,y)\n",
        "for b in range(10):\n",
        "  batch = create_df(X_p[b],features,y_p[b],\"action_taken\")\n",
        "  budget = batch[\"loan_amount\"].sum()\n",
        "  sg, ic = preproc(batch)\n",
        "  ts,tr,ti = real_test.run(sg, ic, 0.8*budget, True)"
      ],
      "metadata": {
        "id": "SlZlmElzzZbA"
      },
      "execution_count": null,
      "outputs": []
    },
    {
      "cell_type": "code",
      "source": [
        "real_test = SocketTesterBatchRealBudget(PowerSocketReal, [[0]]*8, 5)\n",
        "print(real_test.sockets)\n",
        "\n",
        "\n",
        "X_p, y_p = partitions(1,X,y)\n",
        "for b in range(1):\n",
        "  batch = create_df(X_p[b],features,y_p[b],\"action_taken\")\n",
        "  #budget = batch[\"loan_amount\"].sum()\n",
        "  budget=0\n",
        "  sg, ic = preproc(batch)\n",
        "  min_amount = min(ic)\n",
        "  for s in range(len(sg)):\n",
        "    sg[s] = sg[s].sample(n=min_amount)\n",
        "    budget += sg[s][\"loan_amount\"].sum()\n",
        "  ts,tr,ti = real_test.run(sg, [min_amount]*8, 0.8*budget, True)"
      ],
      "metadata": {
        "id": "b-DTTM7J_0Eh"
      },
      "execution_count": null,
      "outputs": []
    }
  ]
}