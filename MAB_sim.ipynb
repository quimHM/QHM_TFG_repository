{
  "nbformat": 4,
  "nbformat_minor": 0,
  "metadata": {
    "colab": {
      "name": "MAB_sim.ipynb",
      "provenance": [],
      "collapsed_sections": [],
      "authorship_tag": "ABX9TyMyd4zMJJreUCtMfvFqeRmp",
      "include_colab_link": true
    },
    "kernelspec": {
      "name": "python3",
      "display_name": "Python 3"
    },
    "language_info": {
      "name": "python"
    }
  },
  "cells": [
    {
      "cell_type": "markdown",
      "metadata": {
        "id": "view-in-github",
        "colab_type": "text"
      },
      "source": [
        "<a href=\"https://colab.research.google.com/github/quimHM/QHM_TFG_repository/blob/main/MAB_sim.ipynb\" target=\"_parent\"><img src=\"https://colab.research.google.com/assets/colab-badge.svg\" alt=\"Open In Colab\"/></a>"
      ]
    },
    {
      "cell_type": "code",
      "source": [
        "#https://towardsdatascience.com/multi-armed-bandits-and-reinforcement-learning-dc9001dcb8da\n",
        "#https://towardsdatascience.com/the-upper-confidence-bound-ucb-bandit-algorithm-c05c2bf4c13f\n",
        "\n",
        "#https://github.com/WhatIThinkAbout/BabyRobot/tree/master/Multi_Armed_Bandits"
      ],
      "metadata": {
        "id": "lch3cBlMon8x"
      },
      "execution_count": 1,
      "outputs": []
    },
    {
      "cell_type": "code",
      "source": [
        ""
      ],
      "metadata": {
        "id": "7XlcGP0_on6J"
      },
      "execution_count": 1,
      "outputs": []
    },
    {
      "cell_type": "code",
      "source": [
        "# import modules \n",
        "import numpy as np \n",
        "import matplotlib.pyplot as plt \n",
        "import pandas as pd \n",
        "import math\n",
        "import random\n",
        "%matplotlib inline\n",
        "from scipy.stats import binom"
      ],
      "metadata": {
        "id": "0Oh75adZ2qAY"
      },
      "execution_count": 2,
      "outputs": []
    },
    {
      "cell_type": "code",
      "source": [
        "class PowerSocket:\n",
        "    \"\"\" the base power socket class \"\"\"\n",
        "    \n",
        "    def __init__(self, q, cl, var=0.1):                \n",
        "        self.q = q        # the true reward value \n",
        "        self.confidence_level = cl          \n",
        "        self.var = var   \n",
        "        self.initialize() # reset the socket\n",
        "        \n",
        "    def initialize(self):\n",
        "        self.Q = 0   # the estimate of this socket's reward value                \n",
        "        self.n = 0   # the number of times this socket has been tried        \n",
        "    \n",
        "    def charge(self):\n",
        "        \"\"\" return a random amount of charge \"\"\"\n",
        "        \n",
        "        # the reward is a guassian distribution with unit variance around the true\n",
        "        # value 'q'\n",
        "        value = self.var * np.random.randn() + self.q        \n",
        "        \n",
        "        # never allow a charge less than 0 to be returned        \n",
        "        return 0 if value < 0 else value\n",
        "               \n",
        "    def update(self,R):\n",
        "        \"\"\" update this socket after it has returned reward value 'R' \"\"\"     \n",
        "    \n",
        "        # increment the number of times this socket has been tried\n",
        "        self.n += 1\n",
        "\n",
        "        # the new estimate of the mean is calculated from the old estimate\n",
        "        self.Q = (1 - 1.0/self.n) * self.Q + (1.0/self.n) * R\n",
        "\n",
        "    def uncertainty(self, t): \n",
        "        \"\"\" calculate the uncertainty in the estimate of this socket's mean \"\"\"\n",
        "        if self.n == 0: return float('inf')                         \n",
        "        return self.confidence_level * (np.sqrt(np.log(t) / self.n))         \n",
        "        \n",
        "    def sample(self,t):\n",
        "        \"\"\" the UCB reward is the estimate of the mean reward plus its uncertainty \"\"\"\n",
        "        #print(self.uncertainty(t))\n",
        "        return self.Q + self.uncertainty(t) "
      ],
      "metadata": {
        "id": "p8tfQUa07n9G"
      },
      "execution_count": 3,
      "outputs": []
    },
    {
      "cell_type": "code",
      "source": [
        "class PowerSocketProb:\n",
        "    \"\"\" the base power socket class \"\"\"\n",
        "    \n",
        "    def __init__(self, q, cl):                \n",
        "        self.q = q        # the true reward value \n",
        "        self.confidence_level = cl  \n",
        "        self.initialize() # reset the socket\n",
        "        \n",
        "    def initialize(self):\n",
        "        self.Q = 0   # the estimate of this socket's reward value                \n",
        "        self.n = 0   # the number of times this socket has been tried        \n",
        "    \n",
        "    def charge(self):\n",
        "        \"\"\" return a random amount of charge \"\"\"\n",
        "        \n",
        "        # the reward is a guassian distribution with unit variance around the true\n",
        "        # value 'q'\n",
        "        value = 100 * np.random.binomial(1,self.q)     \n",
        "        \n",
        "        # never allow a charge less than 0 to be returned        \n",
        "        return 0 if value < 0 else value\n",
        "               \n",
        "    def update(self,R):\n",
        "        \"\"\" update this socket after it has returned reward value 'R' \"\"\"     \n",
        "    \n",
        "        # increment the number of times this socket has been tried\n",
        "        self.n += 1\n",
        "\n",
        "        # the new estimate of the mean is calculated from the old estimate\n",
        "        self.Q = (1 - 1.0/self.n) * self.Q + (1.0/self.n) * R\n",
        "\n",
        "    def uncertainty(self, t): \n",
        "        \"\"\" calculate the uncertainty in the estimate of this socket's mean \"\"\"\n",
        "        if self.n == 0: return float('inf')                         \n",
        "        return self.confidence_level * (np.sqrt(np.log(t) / self.n))         \n",
        "        \n",
        "    def sample(self,t):\n",
        "        \"\"\" the UCB reward is the estimate of the mean reward plus its uncertainty \"\"\"\n",
        "        #print(self.uncertainty(t))\n",
        "        return self.Q + self.uncertainty(t) "
      ],
      "metadata": {
        "id": "ikVFqkh2KKSf"
      },
      "execution_count": 4,
      "outputs": []
    },
    {
      "cell_type": "code",
      "source": [
        "class PowerSocketTrue:\n",
        "    \"\"\" the base power socket class \"\"\"\n",
        "    \n",
        "    def __init__(self, q, cl):                \n",
        "        self.q = q        # the true reward value \n",
        "        self.confidence_level = cl  \n",
        "        self.initialize() # reset the socket\n",
        "        \n",
        "    def initialize(self):\n",
        "        self.Q = 0   # the estimate of this socket's reward value                \n",
        "        self.n = 0   # the number of times this socket has been tried        \n",
        "    \n",
        "    def charge(self):\n",
        "        \"\"\" return a random amount of charge \"\"\"\n",
        "        \n",
        "        # the reward is a guassian distribution with unit variance around the true\n",
        "        # value 'q'\n",
        "        value = 100 * self.q[self.n]\n",
        "        \n",
        "        # never allow a charge less than 0 to be returned        \n",
        "        return 0 if value < 0 else value\n",
        "               \n",
        "    def update(self,R):\n",
        "        \"\"\" update this socket after it has returned reward value 'R' \"\"\"     \n",
        "    \n",
        "        # increment the number of times this socket has been tried\n",
        "        self.n += 1\n",
        "\n",
        "        # the new estimate of the mean is calculated from the old estimate\n",
        "        self.Q = (1 - 1.0/self.n) * self.Q + (1.0/self.n) * R\n",
        "\n",
        "    def uncertainty(self, t): \n",
        "        \"\"\" calculate the uncertainty in the estimate of this socket's mean \"\"\"\n",
        "        if self.n == 0: return float('inf')                         \n",
        "        return self.confidence_level * (np.sqrt(np.log(t) / self.n))         \n",
        "        \n",
        "    def sample(self,t):\n",
        "        \"\"\" the UCB reward is the estimate of the mean reward plus its uncertainty \"\"\"\n",
        "        #print(self.uncertainty(t))\n",
        "        return self.Q + self.uncertainty(t) "
      ],
      "metadata": {
        "id": "bAiiJh2t1TGq"
      },
      "execution_count": 5,
      "outputs": []
    },
    {
      "cell_type": "code",
      "source": [
        "# return the index of the largest value in the supplied list\n",
        "# - arbitrarily select between the largest values in the case of a tie\n",
        "# (the standard np.argmax just chooses the first value in the case of a tie)\n",
        "def random_argmax(value_list):\n",
        "  \"\"\" a random tie-breaking argmax\"\"\"\n",
        "  values = np.asarray(value_list)\n",
        "  return np.argmax(np.random.random(values.shape) * (values==values.max()))\n",
        "\n",
        "# return the index of the smallest value in the supplied list\n",
        "# - arbitrarily select between the smallest values in the case of a tie\n",
        "# (the standard np.argmin just chooses the first value in the case of a tie)\n",
        "def random_argmin(value_list):\n",
        "  \"\"\" a random tie-breaking argmin\"\"\"\n",
        "  values = np.asarray(value_list)\n",
        "  return np.argmin(np.random.random(values.shape) * (values==values.min()))\n"
      ],
      "metadata": {
        "id": "AnVMnmyuEth1"
      },
      "execution_count": 6,
      "outputs": []
    },
    {
      "cell_type": "code",
      "source": [
        "class SocketTester():\n",
        "    \"\"\" create and test a set of sockets over a single test run \"\"\"\n",
        "\n",
        "    def __init__(self, socket, socket_order, socket_vars, confidence_level):  \n",
        "        \n",
        "        # create supplied socket type with a mean value defined by socket order \n",
        "        # self.sockets = [socket(q, confidence_level) for q in socket_order]     \n",
        "        self.sockets = [socket(socket_order[s], confidence_level, socket_vars[s]) for s in range(len(socket_order))]\n",
        "\n",
        "        # set the number of sockets equal to the number created\n",
        "        self.number_of_sockets = len(self.sockets)\n",
        "\n",
        "        self.number_of_stats = 2                 \n",
        "            \n",
        "    def initialize_run(self, number_of_steps):\n",
        "        \"\"\" reset counters at the start of a run \"\"\"\n",
        "        \n",
        "        # save the number of steps over which the run will take place\n",
        "        self.number_of_steps = number_of_steps\n",
        "        \n",
        "        # reset the actual number of steps that the test ran for\n",
        "        self.total_steps = 0\n",
        "        \n",
        "        # monitor the total reward obtained over the run\n",
        "        self.total_reward = 0\n",
        "        \n",
        "        # the current total reward at each timestep of the run\n",
        "        self.total_reward_per_timestep = []\n",
        "        \n",
        "        # the actual reward obtained at each timestep\n",
        "        self.reward_per_timestep = []\n",
        "           \n",
        "        # stats for each time-step\n",
        "        # - by default records: estimate, number of trials\n",
        "        self.socket_stats = np.zeros(shape=(number_of_steps+1, \n",
        "                                            self.number_of_sockets, \n",
        "                                            self.number_of_stats))\n",
        "        \n",
        "        # ensure that all sockets are re-initialized\n",
        "        for socket in self.sockets: socket.initialize()\n",
        "            \n",
        "                                \n",
        "    def charge_and_update(self,socket_index):\n",
        "        \"\"\" charge from & update the specified socket and associated parameters \"\"\"\n",
        "        \n",
        "        # charge from the chosen socket and update its mean reward value\n",
        "        reward = self.sockets[socket_index].charge()\n",
        "        self.sockets[socket_index].update(reward)\n",
        "\n",
        "        # update the total reward\n",
        "        self.total_reward += reward   \n",
        "        \n",
        "        # store the current total reward at this timestep\n",
        "        self.total_reward_per_timestep.append(self.total_reward)\n",
        "        \n",
        "        # store the reward obtained at this timestep\n",
        "        self.reward_per_timestep.append(reward)        \n",
        "        \n",
        "        \n",
        "    def get_socket_stats( self, t ):\n",
        "        \"\"\" get the current information from each socket \"\"\"        \n",
        "        socket_stats = [[socket.Q, socket.n] for socket in self.sockets]\n",
        "        return socket_stats     \n",
        "    \n",
        "    def get_mean_reward( self ):\n",
        "        \"\"\" the total reward averaged over the number of time steps \"\"\"\n",
        "        return (self.total_reward/self.total_steps)\n",
        "    \n",
        "    def get_total_reward_per_timestep( self ):\n",
        "        \"\"\" the cumulative total reward at each timestep of the run \"\"\"\n",
        "        return self.total_reward_per_timestep\n",
        "    \n",
        "    def get_reward_per_timestep( self ):\n",
        "        \"\"\" the actual reward obtained at each timestep of the run \"\"\"\n",
        "        return self.reward_per_timestep\n",
        "    \n",
        "    def get_estimates(self):\n",
        "        \"\"\" get the estimate of each socket's reward at each timestep of the run \"\"\"\n",
        "        return self.socket_stats[:,:,0]  \n",
        "    \n",
        "    def get_number_of_trials(self):\n",
        "        \"\"\" get the number of trials of each socket at each timestep of the run \"\"\"\n",
        "        return self.socket_stats[:,:,1]          \n",
        "                \n",
        "    def get_socket_percentages( self ):\n",
        "        \"\"\" get the percentage of times each socket was tried over the run \"\"\"\n",
        "        return (self.socket_stats[:,:,1][self.total_steps]/self.total_steps)        \n",
        "    \n",
        "    def get_time_steps( self ):\n",
        "        \"\"\" get the number of time steps that the test ran for \"\"\"\n",
        "        return self.total_steps\n",
        "    \n",
        "    def select_socket( self, t ):\n",
        "        \"\"\" Greedy Socket Selection\"\"\"\n",
        "        \n",
        "        # choose the socket with the current highest mean reward or arbitrarily\n",
        "        # select a socket in the case of a tie            \n",
        "        socket_index = random_argmax([socket.sample(t+1) for socket in self.sockets]) \n",
        "        return socket_index     \n",
        "    \n",
        "    \n",
        "    def run( self, number_of_steps, maximum_total_reward = float('inf')):  \n",
        "        \"\"\" perform a single run, over the set of sockets, \n",
        "            for the defined number of steps \"\"\"\n",
        "        \n",
        "        # reset the run counters\n",
        "        self.initialize_run(number_of_steps)\n",
        "        \n",
        "        # loop for the specified number of time-steps\n",
        "        for t in range(number_of_steps):\n",
        "\n",
        "            # get information about all sockets at the start of the time step\n",
        "            self.socket_stats[t] = self.get_socket_stats(t)            \n",
        "            \n",
        "            # select a socket\n",
        "            socket_index = self.select_socket(t)\n",
        "            \n",
        "            # charge from the chosen socket and update its mean reward value\n",
        "            self.charge_and_update(socket_index)\n",
        "            \n",
        "            # test if the accumulated total reward is greater than the maximum\n",
        "            if self.total_reward > maximum_total_reward:\n",
        "                break\n",
        "       \n",
        "        # save the actual number of steps that have been run\n",
        "        self.total_steps = t    \n",
        "    \n",
        "        # get the stats for each socket at the end of the run        \n",
        "        self.socket_stats[t+1] = self.get_socket_stats(t+1)           \n",
        "        \n",
        "        return self.total_steps, self.total_reward\n",
        "  "
      ],
      "metadata": {
        "id": "zCz0kAoMAizG"
      },
      "execution_count": 7,
      "outputs": []
    },
    {
      "cell_type": "code",
      "source": [
        "def mus_and_devs_random():\n",
        "  devs = []\n",
        "  mus = []\n",
        "  for i in range(8):\n",
        "    d = round(random.uniform(5.0,15.0),2)\n",
        "    m = round(random.uniform(70.0,100.0),2)\n",
        "    devs.append(d)\n",
        "    mus.append(m)\n",
        "  return mus,devs"
      ],
      "metadata": {
        "id": "qbUQFmEgOBaj"
      },
      "execution_count": 8,
      "outputs": []
    },
    {
      "cell_type": "code",
      "source": [
        "def mus_and_devs():\n",
        "  devs = [10.0]*8\n",
        "  mus = []\n",
        "  for i in range(8):\n",
        "    m = 100.0-i*5.0\n",
        "    mus.append(m)\n",
        "  return mus,devs"
      ],
      "metadata": {
        "id": "OaInX7jwOD_L"
      },
      "execution_count": 9,
      "outputs": []
    },
    {
      "cell_type": "code",
      "source": [
        "#mus,devs = mus_and_devs_random()\n",
        "mus,devs = mus_and_devs()\n",
        "\n",
        "#devs = [9.3, 5.67, 11.93, 9.18, 13.66, 8.94, 6.83, 7.91]\n",
        "#mus = [92.1, 98.48, 88.49, 80.36, 89.97, 73.78, 97.18, 91.52]\n",
        "\n",
        "print(devs)\n",
        "print(mus)\n",
        "test = SocketTester(PowerSocket, mus, devs, 5)\n",
        "test.run(1000)\n",
        "test.get_number_of_trials()[-1]"
      ],
      "metadata": {
        "colab": {
          "base_uri": "https://localhost:8080/"
        },
        "id": "pnakDg5QCwfq",
        "outputId": "275d3a6e-7584-4862-e637-4c767287c26c"
      },
      "execution_count": 10,
      "outputs": [
        {
          "output_type": "stream",
          "name": "stdout",
          "text": [
            "[10.0, 10.0, 10.0, 10.0, 10.0, 10.0, 10.0, 10.0]\n",
            "[100.0, 95.0, 90.0, 85.0, 80.0, 75.0, 70.0, 65.0]\n"
          ]
        },
        {
          "output_type": "execute_result",
          "data": {
            "text/plain": [
              "array([986.,   1.,   4.,   5.,   1.,   1.,   1.,   1.])"
            ]
          },
          "metadata": {},
          "execution_count": 10
        }
      ]
    },
    {
      "cell_type": "code",
      "source": [
        "class SocketTesterBatch():\n",
        "    \"\"\" create and test a set of sockets over a single test run \"\"\"\n",
        "\n",
        "    def __init__(self, socket, socket_order, socket_vars, confidence_level):  \n",
        "        \n",
        "        # create supplied socket type with a mean value defined by socket order \n",
        "        self.sockets = [socket(socket_order[s], confidence_level, socket_vars[s]) for s in range(len(socket_order))]\n",
        "        \n",
        "        # set the number of sockets equal to the number created\n",
        "        self.number_of_sockets = len(self.sockets)\n",
        "\n",
        "        self.number_of_stats = 2                 \n",
        "            \n",
        "    def initialize_run(self, number_of_steps):\n",
        "        \"\"\" reset counters at the start of a run \"\"\"\n",
        "        \n",
        "        # save the number of steps over which the run will take place\n",
        "        self.number_of_steps = number_of_steps\n",
        "        \n",
        "        # reset the actual number of steps that the test ran for\n",
        "        self.total_steps = 0\n",
        "        \n",
        "        # monitor the total reward obtained over the run\n",
        "        self.total_reward = 0\n",
        "        \n",
        "        # the current total reward at each timestep of the run\n",
        "        self.total_reward_per_timestep = []\n",
        "        \n",
        "        # the actual reward obtained at each timestep\n",
        "        self.reward_per_timestep = []\n",
        "           \n",
        "        # stats for each time-step\n",
        "        # - by default records: estimate, number of trials\n",
        "        self.socket_stats = np.zeros(shape=(number_of_steps+1, \n",
        "                                            self.number_of_sockets, \n",
        "                                            self.number_of_stats))\n",
        "        \n",
        "        # ensure that all sockets are re-initialized\n",
        "        for socket in self.sockets: socket.initialize()\n",
        "            \n",
        "                                \n",
        "    def charge_and_update(self,socket_index):\n",
        "        \"\"\" charge from & update the specified socket and associated parameters \"\"\"\n",
        "        \n",
        "        # charge from the chosen socket and update its mean reward value\n",
        "        reward = self.sockets[socket_index].charge()\n",
        "        self.sockets[socket_index].update(reward)\n",
        "\n",
        "        # update the total reward\n",
        "        self.total_reward += reward   \n",
        "        \n",
        "        # store the current total reward at this timestep\n",
        "        self.total_reward_per_timestep.append(self.total_reward)\n",
        "        \n",
        "        # store the reward obtained at this timestep\n",
        "        self.reward_per_timestep.append(reward)        \n",
        "        \n",
        "        \n",
        "    def get_socket_stats( self, t ):\n",
        "        \"\"\" get the current information from each socket \"\"\"        \n",
        "        socket_stats = [[socket.Q, socket.n] for socket in self.sockets]\n",
        "        return socket_stats     \n",
        "    \n",
        "    def get_mean_reward( self ):\n",
        "        \"\"\" the total reward averaged over the number of time steps \"\"\"\n",
        "        return (self.total_reward/self.total_steps)\n",
        "    \n",
        "    def get_total_reward_per_timestep( self ):\n",
        "        \"\"\" the cumulative total reward at each timestep of the run \"\"\"\n",
        "        return self.total_reward_per_timestep\n",
        "    \n",
        "    def get_reward_per_timestep( self ):\n",
        "        \"\"\" the actual reward obtained at each timestep of the run \"\"\"\n",
        "        return self.reward_per_timestep\n",
        "    \n",
        "    def get_estimates(self):\n",
        "        \"\"\" get the estimate of each socket's reward at each timestep of the run \"\"\"\n",
        "        return self.socket_stats[:,:,0]  \n",
        "    \n",
        "    def get_number_of_trials(self):\n",
        "        \"\"\" get the number of trials of each socket at each timestep of the run \"\"\"\n",
        "        return self.socket_stats[:,:,1]          \n",
        "                \n",
        "    def get_socket_percentages( self ):\n",
        "        \"\"\" get the percentage of times each socket was tried over the run \"\"\"\n",
        "        return (self.socket_stats[:,:,1][self.total_steps]/self.total_steps)        \n",
        "    \n",
        "    def get_time_steps( self ):\n",
        "        \"\"\" get the number of time steps that the test ran for \"\"\"\n",
        "        return self.total_steps\n",
        "    \n",
        "    def select_socket( self, t ):\n",
        "        \"\"\" Greedy Socket Selection\"\"\"\n",
        "        \n",
        "        # choose the socket with the current highest mean reward or arbitrarily\n",
        "        # select a socket in the case of a tie            \n",
        "        mask = [self.get_number_of_trials()[t][i]<self.possibles[i] for i in range(len(self.sockets))]\n",
        "        #print(mask)\n",
        "        available = [self.sockets[i] for i in range(len(self.sockets)) if (mask[i])]\n",
        "        socket_max = random_argmax([socket.sample(t+1) for socket in available]) \n",
        "        #print(socket_max)\n",
        "        socket_index = self.sockets.index(available[socket_max])\n",
        "        return socket_index     \n",
        "    \n",
        "    def return_increments(self, decisions_to_consider):\n",
        "        presence = np.array([i/len(decisions_to_consider) for i in self.possibles])\n",
        "        selected_presence = np.array(self.get_socket_percentages())\n",
        "        diff = np.subtract(selected_presence, presence)\n",
        "        diff = np.divide(diff,presence, out=np.zeros_like(selected_presence), where=presence!=0)\n",
        "        #print(diff)\n",
        "        #print(diff.sum())\n",
        "        return diff\n",
        "    \n",
        "    def run( self, decisions_to_consider, max_percent_decisions=1, prints_bool = True):  \n",
        "        \"\"\" perform a single run, over the set of sockets, \n",
        "            for the defined number of steps \"\"\"\n",
        "        \n",
        "        # reset the run counters\n",
        "        self.initialize_run(len(decisions_to_consider))\n",
        "\n",
        "        self.possibles = [0]*8 #TODO: DEPENDS ON N OF CLUSTER (DECISIONS.UNIQUE() ISNT ENOUGH BECAUSE IT CAN LACK SOME INSTANCES)\n",
        "        for i in np.unique(np.array(decisions_to_consider)):\n",
        "          self.possibles[i] = decisions_to_consider.count(i) \n",
        "\n",
        "        usos = 0\n",
        "        usos_maxims = math.floor(max_percent_decisions*len(decisions_to_consider))\n",
        "        #print(usos_maxims)\n",
        "\n",
        "        # loop for the specified number of time-steps\n",
        "        for t in range(len(decisions_to_consider)):\n",
        "\n",
        "            # get information about all sockets at the start of the time step\n",
        "            self.socket_stats[t] = self.get_socket_stats(t)            \n",
        "            \n",
        "            # select a socket\n",
        "            socket_index = self.select_socket(t)\n",
        "            #if(decisions_to_consider[t]==socket_index):\n",
        "            if(self.get_number_of_trials()[t][socket_index]<self.possibles[socket_index]):\n",
        "              # charge from the chosen socket and update its mean reward value\n",
        "              self.charge_and_update(socket_index)\n",
        "              usos+=1\n",
        "              \n",
        "              if usos > usos_maxims:\n",
        "                  #print(usos,usos_maxims)\n",
        "                  break\n",
        "        # save the actual number of steps that have been run\n",
        "        self.total_steps = t    \n",
        "    \n",
        "        # get the stats for each socket at the end of the run        \n",
        "        self.socket_stats[t+1] = self.get_socket_stats(t+1)           \n",
        "        \n",
        "        if(prints_bool):\n",
        "          print(\"Reward distribution:\",[s.q for s in self.sockets])\n",
        "          #print(\"Intances of each cluster:\",self.possibles)\n",
        "          print(\"Presence of each in batch (%):\",[100*i/len(decisions_to_consider) for i in self.possibles])\n",
        "          #print(\"Times selected:\",self.get_number_of_trials()[t])\n",
        "          print(\"Relative approval rate (%):\",[round(100*self.get_number_of_trials()[t][i]/self.possibles[i],2) if self.possibles[i]>0.0 else 0.0 for i in range(len(self.possibles))])\n",
        "          print(\"Percentage over total selected (%):\",[round(100*p,2) for p in self.get_socket_percentages()])\n",
        "          #print(\"For a total reward:\",self.total_reward)\n",
        "\n",
        "\n",
        "        return self.total_steps, self.total_reward, self.return_increments(decisions_to_consider)\n",
        "  "
      ],
      "metadata": {
        "id": "6NcpcFYlGLjb"
      },
      "execution_count": 11,
      "outputs": []
    },
    {
      "cell_type": "code",
      "source": [
        "devs = [9.3, 5.67, 11.93, 9.18, 13.66, 8.94, 6.83, 7.91]\n",
        "mus = [92.1, 98.48, 88.49, 80.36, 89.97, 73.78, 97.18, 91.52]\n",
        "#mus,devs = mus_and_devs()\n",
        "test2 = SocketTesterBatch(PowerSocket, mus, devs, 10)\n",
        "\n",
        "decisions = random.choices(range(8), k=1000)\n",
        "decisions = []\n",
        "for i in range(8):\n",
        "  for j in range(125):\n",
        "    decisions.append(i)\n",
        "#decisions = [[125]]*8\n",
        "ts,tr,_ = test2.run(decisions)"
      ],
      "metadata": {
        "colab": {
          "base_uri": "https://localhost:8080/"
        },
        "id": "DbwS4aiVIOdu",
        "outputId": "4548b4bf-6112-4d8d-d048-601ad2026f14"
      },
      "execution_count": 12,
      "outputs": [
        {
          "output_type": "stream",
          "name": "stdout",
          "text": [
            "Reward distribution: [92.1, 98.48, 88.49, 80.36, 89.97, 73.78, 97.18, 91.52]\n",
            "Presence of each in batch (%): [12.5, 12.5, 12.5, 12.5, 12.5, 12.5, 12.5, 12.5]\n",
            "Relative approval rate (%): [100.0, 100.0, 100.0, 100.0, 100.0, 99.2, 100.0, 100.0]\n",
            "Percentage over total selected (%): [12.51, 12.51, 12.51, 12.51, 12.51, 12.41, 12.51, 12.51]\n"
          ]
        }
      ]
    },
    {
      "cell_type": "code",
      "source": [
        "ts,tr,_ = test2.run(decisions, 0.5)"
      ],
      "metadata": {
        "colab": {
          "base_uri": "https://localhost:8080/"
        },
        "id": "1d47Wgx9cXYL",
        "outputId": "d64b72fc-e334-4454-cd52-e96445b78458"
      },
      "execution_count": 13,
      "outputs": [
        {
          "output_type": "stream",
          "name": "stdout",
          "text": [
            "Reward distribution: [92.1, 98.48, 88.49, 80.36, 89.97, 73.78, 97.18, 91.52]\n",
            "Presence of each in batch (%): [12.5, 12.5, 12.5, 12.5, 12.5, 12.5, 12.5, 12.5]\n",
            "Relative approval rate (%): [100.0, 100.0, 4.0, 3.2, 72.0, 1.6, 100.0, 19.2]\n",
            "Percentage over total selected (%): [25.0, 25.0, 1.0, 0.8, 18.0, 0.4, 25.0, 4.8]\n"
          ]
        }
      ]
    },
    {
      "cell_type": "code",
      "source": [
        "#sample_bias = [0.555, 0.24, 0.023, 0.011, 0.087, 0.081, 0.001, 0.001]\n",
        "#devs = [9.3, 5.67, 11.93, 9.18, 13.66, 8.94, 6.83, 7.91]\n",
        "#mus = [92.1, 98.48, 88.49, 80.36, 89.97, 73.78, 97.18, 91.52]\n",
        "weights_m = []\n",
        "for m in mus:\n",
        "  weights_m.append((m*m*m*m*m*m*m*m*m)/1000*(m*m*m*m*m*m*m*m*m)/1000)\n",
        "sample_bias_decisions = random.choices(range(8),weights=weights_m,k=1000)\n",
        "print(sample_bias_decisions)\n",
        "ts,tr,_ = test2.run(sample_bias_decisions, 0.8)"
      ],
      "metadata": {
        "colab": {
          "base_uri": "https://localhost:8080/"
        },
        "id": "1nret0OpcuM9",
        "outputId": "7f1979dc-4109-4b5d-9de0-b383c32f8dcc"
      },
      "execution_count": 14,
      "outputs": [
        {
          "output_type": "stream",
          "name": "stdout",
          "text": [
            "[6, 1, 1, 1, 6, 1, 0, 1, 1, 7, 1, 1, 1, 6, 6, 6, 1, 1, 6, 7, 7, 1, 1, 6, 6, 0, 7, 1, 1, 1, 1, 1, 6, 6, 6, 1, 5, 1, 1, 7, 1, 5, 1, 0, 7, 6, 6, 6, 4, 1, 2, 6, 0, 7, 1, 1, 1, 1, 4, 1, 1, 1, 4, 4, 1, 2, 1, 7, 1, 1, 2, 1, 6, 6, 0, 1, 1, 6, 0, 4, 1, 1, 4, 1, 1, 1, 1, 1, 0, 1, 1, 0, 7, 6, 7, 1, 4, 1, 6, 4, 1, 1, 6, 6, 1, 6, 0, 1, 1, 7, 1, 7, 6, 6, 6, 7, 1, 1, 7, 7, 6, 6, 6, 6, 1, 4, 7, 0, 6, 6, 1, 4, 0, 1, 6, 1, 0, 1, 1, 1, 1, 1, 2, 6, 0, 6, 1, 7, 1, 0, 4, 6, 7, 7, 7, 1, 2, 1, 6, 1, 1, 6, 6, 7, 0, 1, 4, 3, 1, 1, 7, 7, 7, 6, 1, 1, 1, 2, 1, 4, 6, 0, 0, 4, 4, 1, 1, 4, 1, 1, 6, 1, 1, 4, 7, 0, 7, 6, 1, 1, 4, 2, 6, 1, 6, 6, 1, 2, 4, 1, 1, 6, 6, 1, 1, 2, 1, 0, 1, 0, 3, 1, 6, 1, 2, 1, 0, 1, 1, 1, 1, 4, 4, 2, 1, 1, 0, 1, 7, 1, 6, 1, 2, 6, 6, 1, 6, 1, 6, 1, 1, 4, 1, 6, 4, 6, 2, 6, 1, 6, 1, 1, 1, 0, 2, 6, 7, 1, 1, 1, 1, 4, 1, 2, 1, 1, 1, 6, 1, 6, 1, 1, 0, 1, 6, 0, 1, 1, 6, 7, 6, 4, 1, 2, 6, 2, 6, 7, 6, 6, 1, 6, 6, 1, 1, 7, 6, 7, 6, 6, 1, 0, 7, 0, 1, 6, 6, 6, 6, 6, 6, 2, 6, 3, 0, 6, 6, 6, 2, 4, 1, 1, 6, 2, 2, 4, 1, 6, 1, 6, 1, 4, 2, 1, 6, 1, 1, 6, 1, 6, 6, 6, 6, 2, 0, 6, 0, 0, 6, 6, 6, 1, 1, 6, 6, 1, 1, 2, 0, 1, 2, 1, 4, 1, 6, 0, 6, 0, 6, 1, 0, 6, 6, 1, 4, 4, 1, 1, 2, 1, 4, 6, 7, 7, 6, 6, 6, 1, 1, 6, 6, 0, 6, 1, 6, 6, 6, 0, 1, 2, 6, 6, 1, 7, 4, 6, 6, 4, 7, 6, 1, 6, 6, 1, 0, 6, 6, 2, 0, 5, 0, 4, 6, 1, 0, 0, 6, 1, 6, 6, 6, 6, 1, 6, 1, 1, 6, 2, 4, 1, 6, 6, 1, 1, 7, 6, 0, 1, 7, 1, 6, 6, 1, 1, 7, 4, 1, 6, 6, 6, 1, 7, 0, 1, 1, 4, 1, 6, 6, 1, 6, 1, 7, 6, 4, 6, 0, 0, 1, 6, 0, 1, 4, 6, 6, 0, 6, 4, 3, 6, 6, 0, 7, 6, 1, 1, 6, 1, 6, 7, 4, 6, 4, 1, 1, 1, 6, 2, 1, 4, 1, 1, 0, 1, 6, 6, 6, 3, 2, 6, 2, 1, 6, 0, 4, 4, 6, 6, 1, 1, 4, 1, 1, 1, 1, 1, 7, 1, 6, 1, 7, 1, 1, 2, 1, 1, 6, 1, 6, 6, 1, 1, 2, 1, 1, 1, 3, 6, 2, 4, 0, 1, 1, 7, 6, 1, 0, 6, 6, 6, 4, 4, 0, 1, 7, 7, 1, 1, 1, 4, 6, 6, 6, 0, 1, 7, 0, 0, 1, 7, 7, 2, 4, 6, 4, 6, 6, 7, 6, 6, 7, 1, 1, 6, 0, 7, 1, 6, 2, 6, 6, 1, 0, 0, 1, 1, 1, 1, 6, 1, 1, 1, 0, 6, 1, 6, 4, 7, 0, 1, 6, 2, 6, 6, 6, 0, 1, 6, 4, 6, 2, 6, 1, 6, 1, 2, 5, 6, 4, 6, 0, 1, 1, 1, 2, 1, 6, 1, 6, 6, 7, 1, 4, 1, 1, 6, 6, 1, 2, 6, 1, 6, 4, 7, 6, 1, 1, 1, 0, 6, 7, 1, 1, 6, 1, 1, 1, 6, 4, 1, 1, 0, 6, 1, 1, 6, 7, 1, 7, 6, 6, 1, 6, 6, 6, 1, 3, 7, 6, 7, 1, 2, 1, 1, 0, 2, 1, 0, 1, 0, 1, 6, 1, 2, 0, 1, 1, 7, 4, 0, 6, 6, 6, 0, 6, 1, 4, 4, 6, 1, 2, 7, 1, 6, 0, 4, 1, 1, 6, 4, 1, 1, 6, 1, 6, 1, 6, 6, 7, 6, 1, 2, 6, 1, 6, 4, 6, 0, 4, 6, 4, 1, 0, 6, 2, 0, 1, 4, 0, 7, 4, 0, 1, 1, 2, 4, 1, 1, 1, 6, 6, 1, 7, 6, 1, 1, 1, 1, 0, 6, 7, 1, 6, 1, 6, 7, 1, 6, 6, 6, 6, 7, 1, 6, 6, 1, 1, 0, 2, 7, 4, 7, 1, 6, 6, 6, 6, 6, 1, 1, 1, 4, 0, 1, 1, 1, 6, 1, 6, 0, 6, 4, 0, 6, 1, 1, 6, 1, 1, 1, 1, 6, 0, 1, 6, 2, 0, 7, 6, 0, 1, 1, 1, 1, 6, 6, 6, 1, 1, 6, 1, 6, 7, 6, 6, 0, 1, 6, 4, 0, 1, 1, 6, 4, 6, 7, 6, 7, 6, 1, 7, 0, 6, 6, 1, 1, 1, 3, 1, 6, 1, 7, 2, 1, 0, 4, 3, 1, 6, 1, 1, 7, 0, 7, 1, 6, 1, 4, 6, 7, 1, 6, 1, 1, 1, 6, 1, 1, 7, 6, 0, 1, 1, 6, 0, 4, 6, 1, 7, 7, 6, 6, 6, 1, 6, 1, 1, 1, 1, 7, 2, 6, 0, 6, 6, 6, 1, 1, 6, 7, 1, 1, 1, 6, 0, 6, 6, 4, 1, 1, 6, 6, 1, 0, 0, 0, 2, 2, 0, 1, 1, 6, 4, 7, 6, 7, 6, 0, 6, 2]\n",
            "Reward distribution: [92.1, 98.48, 88.49, 80.36, 89.97, 73.78, 97.18, 91.52]\n",
            "Presence of each in batch (%): [10.0, 36.4, 5.6, 0.9, 8.0, 0.4, 29.8, 8.9]\n",
            "Relative approval rate (%): [40.0, 100.0, 14.29, 55.56, 52.5, 50.0, 100.0, 46.07]\n",
            "Percentage over total selected (%): [5.0, 45.5, 1.0, 0.62, 5.25, 0.25, 37.25, 5.12]\n"
          ]
        }
      ]
    },
    {
      "cell_type": "code",
      "source": [
        "a=np.array([9.7, 36.7, 5.6, 0.9, 7.2, 0.1, 29.3, 10.5])\n",
        "#b=np.array([12.12, 45.88, 2.0, 1.12, 0.25, 0.12, 36.62, 1.88])\n",
        "b=np.array([12.12, 45.88, 0.75, 0.25, 1.38, 0.12, 36.62, 2.88])\n",
        "\n",
        "\n",
        "diff = np.subtract(b,a)\n",
        "print(diff)\n",
        "diff = np.divide(diff,a)\n",
        "print(diff)"
      ],
      "metadata": {
        "colab": {
          "base_uri": "https://localhost:8080/"
        },
        "id": "nodQ1TkjnOUB",
        "outputId": "689e60f6-18ba-47d4-fcb7-e5365be1af87"
      },
      "execution_count": 15,
      "outputs": [
        {
          "output_type": "stream",
          "name": "stdout",
          "text": [
            "[ 2.42  9.18 -4.85 -0.65 -5.82  0.02  7.32 -7.62]\n",
            "[ 0.24948454  0.25013624 -0.86607143 -0.72222222 -0.80833333  0.2\n",
            "  0.24982935 -0.72571429]\n"
          ]
        }
      ]
    },
    {
      "cell_type": "markdown",
      "source": [
        "###**NON-STATIC**"
      ],
      "metadata": {
        "id": "KFPxU49FzLqe"
      }
    },
    {
      "cell_type": "code",
      "source": [
        "#def f(probs, val, ind):\n",
        "#    probs[ind] += val\n",
        "#    mask = np.ones(len(probs), bool)\n",
        "#    mask[ind] = False\n",
        "#    probs[mask] -= val / (len(probs) - 1)\n",
        "#    return np.clip(probs, 0, np.infty) / np.sum(np.clip(probs, 0, np.infty))"
      ],
      "metadata": {
        "id": "K56OQeDy-HqE"
      },
      "execution_count": 16,
      "outputs": []
    },
    {
      "cell_type": "code",
      "source": [
        "def cummulative_sample(tester,iter,orig,coef):\n",
        "  instances_distribution = np.array(orig)\n",
        "  for i in range(iter):\n",
        "    pbool=False\n",
        "    if(i%math.ceil(iter/4)==0 or i==iter-1):\n",
        "      print(i)\n",
        "      #print(list(instances_distribution))\n",
        "      pbool=True\n",
        "\n",
        "    decisions = random.choices(range(8),weights=list(instances_distribution),k=5000)\n",
        "    ts,tr,ti = tester.run(decisions, 0.8, pbool)\n",
        "    \n",
        "    #for i in range(len(ti)):\n",
        "    #  instances_distribution = f(instances_distribution,ti[i],i)\n",
        "    instances_distribution = np.add(instances_distribution,ti*coef*100)\n",
        "    instances_distribution = np.clip(instances_distribution,0,None)\n",
        "    instances_distribution = instances_distribution / instances_distribution.sum()"
      ],
      "metadata": {
        "id": "GANuWD7KzSzh"
      },
      "execution_count": 17,
      "outputs": []
    },
    {
      "cell_type": "code",
      "source": [
        "#o_sample_bias = [0.555, 0.24, 0.023, 0.011, 0.087, 0.081, 0.001, 0.001]\n",
        "#o_sample_bias = weights_m\n",
        "#cummulative_sample(test2,35,o_sample_bias,0.001)"
      ],
      "metadata": {
        "id": "Gx3cD1zIC4KH"
      },
      "execution_count": 18,
      "outputs": []
    },
    {
      "cell_type": "code",
      "source": [
        "#no_sample_bias = [1/8]*8\n",
        "#cummulative_sample(test2,35,no_sample_bias,0.05)"
      ],
      "metadata": {
        "id": "cJ4_y3P4EDgD"
      },
      "execution_count": 19,
      "outputs": []
    },
    {
      "cell_type": "code",
      "source": [
        "#no_sample_bias = [1/8]*8\n",
        "#cummulative_sample(test2,150,no_sample_bias,0.05)"
      ],
      "metadata": {
        "id": "9LV85u5IC5fR"
      },
      "execution_count": 20,
      "outputs": []
    },
    {
      "cell_type": "code",
      "source": [
        "def nonstatic(iter, rewards_d_o_mu, rewards_d_o_dev, r_coef, instances_d_o, i_coef):\n",
        "  rewards_d = np.array(rewards_d_o_mu)\n",
        "  instances_d = np.array(instances_d_o)\n",
        "\n",
        "  #iter = 1000\n",
        "  for i in range(iter):\n",
        "    pbool=False\n",
        "    if(i%math.ceil(iter/4)==0 or i==iter-1):\n",
        "        print(i)\n",
        "        #print(list(instances_distribution))\n",
        "        pbool=True\n",
        "\n",
        "    updated_test = SocketTesterBatch(PowerSocket, list(rewards_d), rewards_d_o_dev, 10)\n",
        "    decisions = random.choices(range(8),weights=list(instances_d),k=5000)\n",
        "    ts,tr,ti = updated_test.run(decisions, 0.8, pbool)\n",
        "\n",
        "    increments = ti\n",
        "    #increments = np.subtract(np.array(updated_test.get_socket_percentages()),0.5)\n",
        "    #print(increments)\n",
        "\n",
        "    rewards_d = np.add(rewards_d,increments*r_coef*100)\n",
        "    rewards_d = np.clip(rewards_d,0,100)\n",
        "    #print(rewards_d)\n",
        "\n",
        "    instances_d = np.add(instances_d,increments*i_coef)\n",
        "    instances_d = np.clip(instances_d,0,None)\n",
        "    instances_d = instances_d / instances_d.sum()"
      ],
      "metadata": {
        "id": "92tyyqv-ENiD"
      },
      "execution_count": 21,
      "outputs": []
    },
    {
      "cell_type": "code",
      "source": [
        "#nonstatic(500, rewards_bias, devs_nonbias, 0.001, instances_bias, 0.001)"
      ],
      "metadata": {
        "id": "FejlbpgnQl7X"
      },
      "execution_count": 22,
      "outputs": []
    },
    {
      "cell_type": "code",
      "source": [
        "#nonstatic(2500, rewards_nonbias, 0, instances_bias, 0.01)"
      ],
      "metadata": {
        "id": "ESF0BONSY2zn"
      },
      "execution_count": 23,
      "outputs": []
    },
    {
      "cell_type": "code",
      "source": [
        "#nonstatic(100, rewards_bias, 0, instances_nonbias, 0)"
      ],
      "metadata": {
        "id": "oqORHeh6aGMa"
      },
      "execution_count": 24,
      "outputs": []
    },
    {
      "cell_type": "code",
      "source": [
        "#nonstatic(100, rewards_bias, 0.1, instances_nonbias, 0)"
      ],
      "metadata": {
        "id": "NCzrIuvtRI9q"
      },
      "execution_count": 25,
      "outputs": []
    },
    {
      "cell_type": "code",
      "source": [
        "#nonstatic(100, rewards_bias, 0, instances_bias, 0.01)"
      ],
      "metadata": {
        "id": "X0WG3QDAbQ8Y"
      },
      "execution_count": 26,
      "outputs": []
    },
    {
      "cell_type": "code",
      "source": [
        "#nonstatic(100, rewards_bias, 0.01, instances_bias, 0)"
      ],
      "metadata": {
        "id": "NOh88ta5bBUq"
      },
      "execution_count": 27,
      "outputs": []
    },
    {
      "cell_type": "code",
      "source": [
        "#nonstatic(100, rewards_bias, 0.01, instances_bias, 0.01)"
      ],
      "metadata": {
        "id": "JQWqf89ZYh32"
      },
      "execution_count": 28,
      "outputs": []
    },
    {
      "cell_type": "markdown",
      "source": [
        "###**SOLUTION?**"
      ],
      "metadata": {
        "id": "B2dnZoLKeN3T"
      }
    },
    {
      "cell_type": "code",
      "source": [
        "class SocketTesterBatchSOLUTION():\n",
        "    \"\"\" create and test a set of sockets over a single test run \"\"\"\n",
        "\n",
        "    def __init__(self, socket, socket_order, socket_vars, confidence_level, sub_opt):  \n",
        "        \n",
        "        self.subopt_coef = sub_opt\n",
        "\n",
        "        # create supplied socket type with a mean value defined by socket order \n",
        "        self.sockets = [socket(socket_order[s], confidence_level, socket_vars[s]) for s in range(len(socket_order))]\n",
        "        \n",
        "        # set the number of sockets equal to the number created\n",
        "        self.number_of_sockets = len(self.sockets)\n",
        "\n",
        "        self.number_of_stats = 2                 \n",
        "            \n",
        "    def initialize_run(self, number_of_steps):\n",
        "        \"\"\" reset counters at the start of a run \"\"\"\n",
        "        \n",
        "        # save the number of steps over which the run will take place\n",
        "        self.number_of_steps = number_of_steps\n",
        "        \n",
        "        # reset the actual number of steps that the test ran for\n",
        "        self.total_steps = 0\n",
        "        \n",
        "        # monitor the total reward obtained over the run\n",
        "        self.total_reward = 0\n",
        "        \n",
        "        # the current total reward at each timestep of the run\n",
        "        self.total_reward_per_timestep = []\n",
        "        \n",
        "        # the actual reward obtained at each timestep\n",
        "        self.reward_per_timestep = []\n",
        "           \n",
        "        # stats for each time-step\n",
        "        # - by default records: estimate, number of trials\n",
        "        self.socket_stats = np.zeros(shape=(number_of_steps+1, \n",
        "                                            self.number_of_sockets, \n",
        "                                            self.number_of_stats))\n",
        "        \n",
        "        # ensure that all sockets are re-initialized\n",
        "        for socket in self.sockets: socket.initialize()\n",
        "            \n",
        "                                \n",
        "    def charge_and_update(self,socket_index):\n",
        "        \"\"\" charge from & update the specified socket and associated parameters \"\"\"\n",
        "        \n",
        "        # charge from the chosen socket and update its mean reward value\n",
        "        reward = self.sockets[socket_index].charge()\n",
        "        self.sockets[socket_index].update(reward)\n",
        "\n",
        "        # update the total reward\n",
        "        self.total_reward += reward   \n",
        "        \n",
        "        # store the current total reward at this timestep\n",
        "        self.total_reward_per_timestep.append(self.total_reward)\n",
        "        \n",
        "        # store the reward obtained at this timestep\n",
        "        self.reward_per_timestep.append(reward)        \n",
        "        \n",
        "        \n",
        "    def get_socket_stats( self, t ):\n",
        "        \"\"\" get the current information from each socket \"\"\"        \n",
        "        socket_stats = [[socket.Q, socket.n] for socket in self.sockets]\n",
        "        return socket_stats     \n",
        "    \n",
        "    def get_mean_reward( self ):\n",
        "        \"\"\" the total reward averaged over the number of time steps \"\"\"\n",
        "        return (self.total_reward/self.total_steps)\n",
        "    \n",
        "    def get_total_reward_per_timestep( self ):\n",
        "        \"\"\" the cumulative total reward at each timestep of the run \"\"\"\n",
        "        return self.total_reward_per_timestep\n",
        "    \n",
        "    def get_reward_per_timestep( self ):\n",
        "        \"\"\" the actual reward obtained at each timestep of the run \"\"\"\n",
        "        return self.reward_per_timestep\n",
        "    \n",
        "    def get_estimates(self):\n",
        "        \"\"\" get the estimate of each socket's reward at each timestep of the run \"\"\"\n",
        "        return self.socket_stats[:,:,0]  \n",
        "    \n",
        "    def get_number_of_trials(self):\n",
        "        \"\"\" get the number of trials of each socket at each timestep of the run \"\"\"\n",
        "        return self.socket_stats[:,:,1]          \n",
        "                \n",
        "    def get_socket_percentages( self ):\n",
        "        \"\"\" get the percentage of times each socket was tried over the run \"\"\"\n",
        "        return (self.socket_stats[:,:,1][self.total_steps]/self.total_steps)        \n",
        "    \n",
        "    def get_time_steps( self ):\n",
        "        \"\"\" get the number of time steps that the test ran for \"\"\"\n",
        "        return self.total_steps\n",
        "    \n",
        "    def bias_presence_hipo(self, t):\n",
        "        presence = np.array([i/sum(self.possibles) for i in self.possibles])\n",
        "        bias_list = []\n",
        "        for c in range(len(self.sockets)):\n",
        "          pulled = self.socket_stats[:,:,1][t].copy()\n",
        "          pulled[c]+=1\n",
        "          selected_presence = np.array(pulled/(t+1))\n",
        "          diff = np.subtract(selected_presence, presence)\n",
        "          #diff = np.divide(diff,presence, out=np.zeros_like(selected_presence), where=presence!=0)\n",
        "          abs = np.abs(diff)\n",
        "          bias_list.append(np.sum(abs))\n",
        "        #return random_argmin(bias_list)\n",
        "        return bias_list\n",
        "\n",
        "    def bias_presence_step(self, t):\n",
        "        presence = np.array([i/sum(self.possibles) for i in self.possibles])\n",
        "        selected_presence = np.array(self.socket_stats[:,:,1][t]/t)\n",
        "        diff = np.subtract(selected_presence, presence)\n",
        "        #diff = np.divide(diff,presence, out=np.zeros_like(selected_presence), where=presence!=0)\n",
        "        abs = np.abs(diff)\n",
        "        return np.sum(abs) \n",
        "\n",
        "    def final_bias_presence(self):\n",
        "        presence = np.array([i/sum(self.possibles) for i in self.possibles])\n",
        "        selected_presence = np.array(self.get_socket_percentages())\n",
        "        diff = np.subtract(selected_presence, presence)\n",
        "        abs = np.abs(diff)\n",
        "        return np.sum(abs) \n",
        "\n",
        "    def bias_rate_hipo(self, t):\n",
        "        bias_list = []\n",
        "        for c in range(len(self.sockets)):\n",
        "          pulled = self.socket_stats[:,:,1][t].copy()\n",
        "          pulled[c]+=1\n",
        "          curr_percentages = np.array([pulled[i]/self.possibles[i] for i in range(len(self.sockets))])\n",
        "          overall_percentages = np.mean(curr_percentages)\n",
        "          diff = np.subtract(overall_percentages,curr_percentages)\n",
        "          abs = np.abs(diff)\n",
        "          bias_list.append(np.sum(abs))\n",
        "        #return random_argmin(bias_list)\n",
        "        return bias_list\n",
        "\n",
        "    def bias_rate_step(self, t):\n",
        "        curr_percentages = np.array([self.get_number_of_trials()[t][i]/self.possibles[i] for i in range(len(self.sockets))])\n",
        "        overall_percentages = np.mean(curr_percentages)\n",
        "        diff = np.subtract(overall_percentages,curr_percentages)\n",
        "        abs = np.abs(diff)\n",
        "        return np.sum(abs) \n",
        "\n",
        "    def final_bias_rate(self):\n",
        "        final_percentages = np.array([self.get_number_of_trials()[self.total_steps][i]/self.possibles[i] for i in range(len(self.sockets))])\n",
        "        overall_percentages = self.capping #np.mean(curr_percentages)\n",
        "        diff = np.subtract(overall_percentages,final_percentages)\n",
        "        abs = np.abs(diff)\n",
        "        return np.sum(abs) \n",
        "    \"\"\"\n",
        "    def select_socket( self, t ):\n",
        "        #CONSTRAINT A\n",
        "        curr_percentages = self.socket_stats[:,:,1][t]/t\n",
        "        mean_percentages = self.capping #np.mean(curr_percentages)\n",
        "        dif_percentages = np.subtract(mean_percentages,self.socket_stats[:,:,1][t]/t)\n",
        "\n",
        "        #CONSTRAINT B\n",
        "        mean_selections = np.mean(self.get_number_of_trials()[t])\n",
        "        dif_selections = np.subtract(mean_selections,self.get_number_of_trials()[t])\n",
        "\n",
        "        #DUES CONSTRAINTS, UNA PER PERCENTATGES, L'ALTRE n SELECTIONS\n",
        "        #dif = dif_percentages #rang 10-30-50\n",
        "        dif = dif_selections   #rang 0-0.01-0.1\n",
        "\n",
        "        #print(dif)\n",
        "\n",
        "        # choose the socket with the current highest mean reward or arbitrarily\n",
        "        # select a socket in the case of a tie            \n",
        "        mask = [self.get_number_of_trials()[t][i]<self.possibles[i] for i in range(len(self.sockets))]\n",
        "        #print(mask)\n",
        "        available_sockets = [self.sockets[s] for s in range(len(self.sockets)) if (mask[s])]\n",
        "        available = [i for i in range(len(self.sockets)) if (mask[i])]\n",
        "\n",
        "        socket_max = random_argmax([self.sockets[socket].sample(t+1)+self.subopt_coef*dif[socket] for socket in available]) \n",
        "        #socket_max = random_argmax([self.sockets[socket].sample(t+1) for socket in available]) \n",
        "\n",
        "        #print(socket_max)\n",
        "        socket_index = self.sockets.index(available_sockets[socket_max])\n",
        "        return socket_index\n",
        "    \"\"\"\n",
        "    def select_socket( self, t ):\n",
        "        \"\"\" Greedy Socket Selection\"\"\"\n",
        "        mask = [self.get_number_of_trials()[t][i]<self.possibles[i] for i in range(len(self.sockets))]\n",
        "        available_sockets = [self.sockets[s] for s in range(len(self.sockets)) if (mask[s])]\n",
        "        available = [i for i in range(len(self.sockets)) if (mask[i])]\n",
        "\n",
        "        socket_max = random_argmax([self.sockets[socket].sample(t+1) for socket in available]) \n",
        "        socket_max_index = self.sockets.index(available_sockets[socket_max])\n",
        "\n",
        "        #print(self.bias_presence_hipo(t))\n",
        "        socket_min = random_argmin([self.bias_presence_hipo(t)[socket] for socket in available]) \n",
        "        #print([self.bias_presence_hipo(t)[socket] for socket in available][socket_min])\n",
        "        socket_min_index = self.sockets.index(available_sockets[socket_min])\n",
        "        #print(self.bias_presence_hipo(t)[socket_min_index])\n",
        "\n",
        "        return_index = random.choices([socket_min_index,socket_max_index],cum_weights=[self.subopt_coef,1])\n",
        "        #print(socket_min_index,socket_max_index,\"->\",return_index[0])\n",
        "        return return_index[0]     \n",
        "    \n",
        "    def return_increments(self, decisions_to_consider):\n",
        "        presence = np.array([i/len(decisions_to_consider) for i in self.possibles])\n",
        "        selected_presence = np.array(self.get_socket_percentages())\n",
        "        diff = np.subtract(selected_presence, presence)\n",
        "        diff = np.divide(diff,presence, out=np.zeros_like(diff), where=presence!=0)\n",
        "        #print(diff)\n",
        "        #print(diff.sum())\n",
        "        return diff\n",
        "    \n",
        "    def run( self, decisions_to_consider, max_percent_decisions=1, prints_bool = True):  \n",
        "        \"\"\" perform a single run, over the set of sockets, \n",
        "            for the defined number of steps \"\"\"\n",
        "        \n",
        "        # reset the run counters\n",
        "        self.initialize_run(len(decisions_to_consider))\n",
        "\n",
        "        self.possibles = [0]*8 #TODO: DEPENDS ON N OF CLUSTER (DECISIONS.UNIQUE() ISNT ENOUGH BECAUSE IT CAN LACK SOME INSTANCES)\n",
        "        for i in np.unique(np.array(decisions_to_consider)):\n",
        "          self.possibles[i] = decisions_to_consider.count(i) \n",
        "        #print(\"possibles\",self.possibles)\n",
        "\n",
        "        usos = 0\n",
        "        self.capping = max_percent_decisions\n",
        "        usos_maxims = math.floor(max_percent_decisions*len(decisions_to_consider))\n",
        "        #print(usos_maxims)\n",
        "\n",
        "        # loop for the specified number of time-steps\n",
        "        for t in range(1,len(decisions_to_consider)):\n",
        "\n",
        "            # get information about all sockets at the start of the time step\n",
        "            self.socket_stats[t] = self.get_socket_stats(t)            \n",
        "            \n",
        "            # select a socket\n",
        "            socket_index = self.select_socket(t)\n",
        "            #if(decisions_to_consider[t]==socket_index):\n",
        "            if(self.get_number_of_trials()[t][socket_index]<self.possibles[socket_index]):\n",
        "              # charge from the chosen socket and update its mean reward value\n",
        "              self.charge_and_update(socket_index)\n",
        "              usos+=1\n",
        "              \n",
        "              if usos > usos_maxims:\n",
        "                  #print(usos,usos_maxims)\n",
        "                  break\n",
        "        # save the actual number of steps that have been run\n",
        "        self.total_steps = t    \n",
        "    \n",
        "        # get the stats for each socket at the end of the run        \n",
        "        self.socket_stats[t+1] = self.get_socket_stats(t+1)           \n",
        "        \n",
        "        self.approval_rates = [round(100*self.get_number_of_trials()[t][i]/self.possibles[i],2) if self.possibles[i]>0.0 else 0.0 for i in range(len(self.possibles))]\n",
        "        if(prints_bool):\n",
        "          #print(\"possibles\",self.possibles)\n",
        "          print(\"Reward distribution:\",[round(s.q,2) for s in self.sockets])\n",
        "          #print(\"Intances of each cluster:\",self.possibles)\n",
        "          print(\"Presence of each in batch (%):\",[100*i/len(decisions_to_consider) for i in self.possibles])\n",
        "          #print(\"Times selected:\",self.get_number_of_trials()[t])\n",
        "          print(\"Relative approval rate (%):\",self.approval_rates)\n",
        "          print(\"Percentage over total selected (%):\",[round(100*p,2) for p in self.get_socket_percentages()])\n",
        "          print(\"Total reward:\",self.total_reward,\"|| and presence bias:\",self.final_bias_presence())\n",
        "          #print(\"For a total reward:\",self.total_reward)\n",
        "          #print(self.return_increments(decisions_to_consider))\n",
        "        return_dic = {\n",
        "            \"total_steps\":self.total_steps,\n",
        "            \"total_reward\":self.total_reward,\n",
        "            \"increments\":self.return_increments(decisions_to_consider),\n",
        "            \"bias_presence\":self.final_bias_presence(),\n",
        "            \"percentages\":self.approval_rates\n",
        "        }\n",
        "        return return_dic\n",
        "  "
      ],
      "metadata": {
        "id": "3LvzuKndeOlS"
      },
      "execution_count": 29,
      "outputs": []
    },
    {
      "cell_type": "code",
      "source": [
        "rewards_bias = np.array([.8555, .8193, .8284, .7994, .7103, .6635, .7471, .6731])\n",
        "rewards_nonbias = [0.8]*8\n",
        "devs_nonbias = [0]*8\n",
        "\n",
        "instances_bias = np.array([0.535, 0.24, 0.023, 0.011, 0.087, 0.081, 0.011, 0.011])\n",
        "instances_nonbias = [1/8]*8\n",
        "\n",
        "#sol_test = SocketTesterBatchSOLUTION(PowerSocket, rewards_bias, devs_nonbias, 0.05, 0)\n",
        "#decisions = random.choices(range(8),weights=list(instances_bias),k=5000)\n",
        "#rd = sol_test.run(decisions, 0.8, True)"
      ],
      "metadata": {
        "id": "A128ar06rM8p"
      },
      "execution_count": 30,
      "outputs": []
    },
    {
      "cell_type": "code",
      "source": [
        "\"\"\"\n",
        "    def bias_rate_hipo(self, t):\n",
        "        bias_list = []\n",
        "        for c in range(len(self.sockets)):\n",
        "          pulled = self.socket_stats[:,:,1][t].copy()\n",
        "          pulled[c]+=1\n",
        "          curr_percentages = np.array([pulled[i]/self.possibles[i] for i in range(len(self.sockets))])\n",
        "          #overall_percentages = np.mean(curr_percentages)\n",
        "          #diff = np.subtract(overall_percentages,curr_percentages)\n",
        "          diff = np.subtract(self.capping,curr_percentages)\n",
        "          abs = np.abs(diff)\n",
        "          bias_list.append(np.sum(abs))\n",
        "        return bias_list\n",
        "\n",
        "    def bias_rate_step(self, t):\n",
        "        curr_percentages = np.array([self.get_number_of_trials()[t][i]/self.possibles[i] for i in range(len(self.sockets))])\n",
        "        #overall_percentages = np.mean(curr_percentages)\n",
        "        #diff = np.subtract(overall_percentages,curr_percentages)\n",
        "        diff = np.subtract(self.capping,curr_percentages)\n",
        "        abs = np.abs(diff)\n",
        "        return np.sum(abs) \n",
        "\n",
        "    def final_bias_rate(self):\n",
        "        final_percentages = np.array([self.get_number_of_trials()[self.total_steps][i]/self.possibles[i] for i in range(len(self.sockets))])\n",
        "        overall_percentages = np.mean(final_percentages)\n",
        "        diff = np.subtract(overall_percentages,final_percentages)\n",
        "        abs = np.abs(diff)\n",
        "        return np.sum(abs) \n",
        "\"\"\""
      ],
      "metadata": {
        "id": "tPolyOGXleCW",
        "colab": {
          "base_uri": "https://localhost:8080/",
          "height": 110
        },
        "outputId": "b53c4f36-5a7c-48f5-9986-3930e783e752"
      },
      "execution_count": 31,
      "outputs": [
        {
          "output_type": "execute_result",
          "data": {
            "text/plain": [
              "'\\n    def bias_rate_hipo(self, t):\\n        bias_list = []\\n        for c in range(len(self.sockets)):\\n          pulled = self.socket_stats[:,:,1][t].copy()\\n          pulled[c]+=1\\n          curr_percentages = np.array([pulled[i]/self.possibles[i] for i in range(len(self.sockets))])\\n          #overall_percentages = np.mean(curr_percentages)\\n          #diff = np.subtract(overall_percentages,curr_percentages)\\n          diff = np.subtract(self.capping,curr_percentages)\\n          abs = np.abs(diff)\\n          bias_list.append(np.sum(abs))\\n        return bias_list\\n\\n    def bias_rate_step(self, t):\\n        curr_percentages = np.array([self.get_number_of_trials()[t][i]/self.possibles[i] for i in range(len(self.sockets))])\\n        #overall_percentages = np.mean(curr_percentages)\\n        #diff = np.subtract(overall_percentages,curr_percentages)\\n        diff = np.subtract(self.capping,curr_percentages)\\n        abs = np.abs(diff)\\n        return np.sum(abs) \\n\\n    def final_bias_rate(self):\\n        final_percentages = np.array([self.get_number_of_trials()[self.total_steps][i]/self.possibles[i] for i in range(len(self.sockets))])\\n        overall_percentages = np.mean(final_percentages)\\n        diff = np.subtract(overall_percentages,final_percentages)\\n        abs = np.abs(diff)\\n        return np.sum(abs) \\n'"
            ],
            "application/vnd.google.colaboratory.intrinsic+json": {
              "type": "string"
            }
          },
          "metadata": {},
          "execution_count": 31
        }
      ]
    },
    {
      "cell_type": "code",
      "source": [
        "class SocketTesterBatchSOLUTIONProb():\n",
        "    \"\"\" create and test a set of sockets over a single test run \"\"\"\n",
        "\n",
        "    def __init__(self, socket, socket_order, confidence_level, sub_opt):  \n",
        "        \n",
        "        self.subopt_coef = sub_opt\n",
        "\n",
        "        # create supplied socket type with a mean value defined by socket order \n",
        "        self.sockets = [socket(socket_order[s], confidence_level) for s in range(len(socket_order))]\n",
        "        \n",
        "        # set the number of sockets equal to the number created\n",
        "        self.number_of_sockets = len(self.sockets)\n",
        "\n",
        "        self.number_of_stats = 2                 \n",
        "            \n",
        "    def initialize_run(self, number_of_steps):\n",
        "        \"\"\" reset counters at the start of a run \"\"\"\n",
        "        \n",
        "        # save the number of steps over which the run will take place\n",
        "        self.number_of_steps = number_of_steps\n",
        "        \n",
        "        # reset the actual number of steps that the test ran for\n",
        "        self.total_steps = 0\n",
        "        \n",
        "        # monitor the total reward obtained over the run\n",
        "        self.total_reward = 0\n",
        "        \n",
        "        # the current total reward at each timestep of the run\n",
        "        self.total_reward_per_timestep = []\n",
        "        \n",
        "        # the actual reward obtained at each timestep\n",
        "        self.reward_per_timestep = []\n",
        "           \n",
        "        # stats for each time-step\n",
        "        # - by default records: estimate, number of trials\n",
        "        self.socket_stats = np.zeros(shape=(number_of_steps+1, \n",
        "                                            self.number_of_sockets, \n",
        "                                            self.number_of_stats))\n",
        "        \n",
        "        # ensure that all sockets are re-initialized\n",
        "        for socket in self.sockets: socket.initialize()\n",
        "            \n",
        "                                \n",
        "    def charge_and_update(self,socket_index):\n",
        "        \"\"\" charge from & update the specified socket and associated parameters \"\"\"\n",
        "        \n",
        "        # charge from the chosen socket and update its mean reward value\n",
        "        reward = self.sockets[socket_index].charge()\n",
        "        self.sockets[socket_index].update(reward)\n",
        "\n",
        "        # update the total reward\n",
        "        self.total_reward += reward   \n",
        "        \n",
        "        # store the current total reward at this timestep\n",
        "        self.total_reward_per_timestep.append(self.total_reward)\n",
        "        \n",
        "        # store the reward obtained at this timestep\n",
        "        self.reward_per_timestep.append(reward)        \n",
        "        \n",
        "        \n",
        "    def get_socket_stats( self, t ):\n",
        "        \"\"\" get the current information from each socket \"\"\"        \n",
        "        socket_stats = [[socket.Q, socket.n] for socket in self.sockets]\n",
        "        return socket_stats     \n",
        "    \n",
        "    def get_mean_reward( self ):\n",
        "        \"\"\" the total reward averaged over the number of time steps \"\"\"\n",
        "        return (self.total_reward/self.total_steps)\n",
        "    \n",
        "    def get_total_reward_per_timestep( self ):\n",
        "        \"\"\" the cumulative total reward at each timestep of the run \"\"\"\n",
        "        return self.total_reward_per_timestep\n",
        "    \n",
        "    def get_reward_per_timestep( self ):\n",
        "        \"\"\" the actual reward obtained at each timestep of the run \"\"\"\n",
        "        return self.reward_per_timestep\n",
        "    \n",
        "    def get_estimates(self):\n",
        "        \"\"\" get the estimate of each socket's reward at each timestep of the run \"\"\"\n",
        "        return self.socket_stats[:,:,0]  \n",
        "    \n",
        "    def get_number_of_trials(self):\n",
        "        \"\"\" get the number of trials of each socket at each timestep of the run \"\"\"\n",
        "        return self.socket_stats[:,:,1]          \n",
        "                \n",
        "    def get_socket_percentages( self ):\n",
        "        \"\"\" get the percentage of times each socket was tried over the run \"\"\"\n",
        "        return (self.socket_stats[:,:,1][self.total_steps]/self.total_steps)        \n",
        "    \n",
        "    def get_time_steps( self ):\n",
        "        \"\"\" get the number of time steps that the test ran for \"\"\"\n",
        "        return self.total_steps\n",
        "    \n",
        "    def bias_presence_hipo(self, t):\n",
        "        presence = np.array([i/sum(self.possibles) for i in self.possibles])\n",
        "        bias_list = []\n",
        "        for c in range(len(self.sockets)):\n",
        "          pulled = self.get_number_of_trials()[t].copy()\n",
        "          pulled[c]+=1\n",
        "          selected_presence = np.array(pulled/(t+1))\n",
        "          diff = np.subtract(selected_presence, presence)\n",
        "          #diff = np.divide(diff,presence, out=np.zeros_like(diff), where=presence!=0)\n",
        "          abs = np.abs(diff)\n",
        "          bias_list.append(np.sum(abs))\n",
        "        return bias_list\n",
        "    \n",
        "    def bias_rate_hipo(self, t):\n",
        "        bias_list = []\n",
        "        for c in range(len(self.sockets)):\n",
        "          pulled = self.socket_stats[:,:,1][t].copy()\n",
        "          pulled[c]+=1\n",
        "          curr_percentages = np.array([pulled[i]/self.possibles[i] for i in range(len(self.sockets))])\n",
        "          overall_percentages = np.mean(curr_percentages)\n",
        "          diff = np.subtract(overall_percentages,curr_percentages)\n",
        "          #diff = np.subtract(self.capping,curr_percentages)\n",
        "          abs = np.abs(diff)\n",
        "          bias_list.append(np.sum(abs))\n",
        "        return bias_list\n",
        "\n",
        "    def bias_posteriors_hipo(self, t):\n",
        "        #P(c in C_i | c is approved ) = P( c is approved | c in C_i ) * P( c in C_i ) / P( c is approved )\n",
        "        A = np.array([i/sum(self.possibles) for i in self.possibles])\n",
        "        B = self.capping\n",
        "        bias_list = []\n",
        "        for c in range(len(self.sockets)):\n",
        "          pulled = self.get_number_of_trials()[t].copy()\n",
        "          pulled[c]+=1\n",
        "          B_A = np.array([pulled[i]/self.possibles[i] for i in range(len(self.sockets))])\n",
        "          A_B = np.divide(np.multiply(B_A,A),B, out=np.zeros_like(np.multiply(B_A,A)), where=B!=0)\n",
        "          #print(A_B)\n",
        "          diff = np.subtract(np.mean(A_B),A_B)\n",
        "          abs = np.abs(diff)\n",
        "          bias_list.append(np.sum(abs))\n",
        "        return bias_list\n",
        "    \n",
        "    def bias_rewards_hipo(self, t):\n",
        "        rewards_distributions = self.get_estimates()[t]\n",
        "        mean_d = np.mean(rewards_distributions)\n",
        "        bias_list = np.subtract(rewards_distributions,mean_d)\n",
        "        return bias_list\n",
        "\n",
        "    def bias_presence_step(self, t):\n",
        "        presence = np.array([i/sum(self.possibles) for i in self.possibles])\n",
        "        selected_presence = np.array(self.get_number_of_trials()[t]/t)\n",
        "        diff = np.subtract(selected_presence, presence)\n",
        "        #diff = np.divide(diff,presence, out=np.zeros_like(diff), where=presence!=0)\n",
        "        abs = np.abs(diff)\n",
        "        return np.sum(abs) \n",
        "\n",
        "    def final_bias_presence(self):\n",
        "        presence = np.array([i/sum(self.possibles) for i in self.possibles])\n",
        "        selected_presence = np.array(self.get_socket_percentages())\n",
        "        diff = np.subtract(selected_presence, presence)\n",
        "        abs = np.abs(diff)\n",
        "        return np.sum(abs) \n",
        "    \n",
        "    def final_bias_rate(self):\n",
        "        final_percentages = np.array([self.get_number_of_trials()[self.total_steps][i]/self.possibles[i] for i in range(len(self.sockets))])\n",
        "        overall_percentages = np.mean(final_percentages)\n",
        "        #print(overall_percentages)\n",
        "        diff = np.subtract(overall_percentages,final_percentages)\n",
        "        abs = np.abs(diff)\n",
        "        return np.sum(abs)\n",
        "\n",
        "    def final_bias_posteriors(self):\n",
        "        #P(c in C_i | c is approved ) = P( c is approved | c in C_i ) * P( c in C_i ) / P( c is approved )\n",
        "        B_A = np.array([self.get_number_of_trials()[self.total_steps][i]/self.possibles[i] for i in range(len(self.sockets))])\n",
        "        A = np.array([i/sum(self.possibles) for i in self.possibles])\n",
        "        B = self.total_steps/sum(self.possibles)\n",
        "        A_B = np.divide(np.multiply(B_A,A),B, out=np.zeros_like(np.multiply(B_A,A)), where=B!=0)\n",
        "        #print(A_B)\n",
        "        diff = np.subtract(np.mean(A_B),A_B)\n",
        "        abs = np.abs(diff)\n",
        "        return np.sum(abs)\n",
        "\n",
        "    def final_bias_rewards(self):\n",
        "        rewards_distributions = self.get_estimates()[self.total_steps]\n",
        "        mean_d = np.mean(rewards_distributions)\n",
        "        diff = np.subtract(rewards_distributions,mean_d)\n",
        "        abs = np.abs(diff)\n",
        "        return np.sum(abs)\n",
        "\n",
        "    def punishing_term(self,bias_func,t):\n",
        "        b_list = bias_func(t)\n",
        "        norm_num = np.subtract(b_list,max(b_list))\n",
        "        norm_denom = np.subtract(max(b_list),min(b_list))\n",
        "        aux_b_list = np.divide(norm_num,norm_denom, out=np.zeros_like(norm_num), where=norm_denom!=0)\n",
        "        return np.multiply(aux_b_list,100)\n",
        "\n",
        "    def select_socket_prob( self, t ):\n",
        "        mask = [self.get_number_of_trials()[t][i]<self.possibles[i] for i in range(len(self.sockets))]\n",
        "        available_sockets = [self.sockets[s] for s in range(len(self.sockets)) if (mask[s])]\n",
        "        available = [i for i in range(len(self.sockets)) if (mask[i])]\n",
        "\n",
        "        bias_term = self.punishing_term(self.bias_presence_hipo,t)\n",
        "\n",
        "        socket_max = random_argmax([self.sockets[socket].sample(t+1) for socket in available]) \n",
        "        socket_max_index = self.sockets.index(available_sockets[socket_max])\n",
        "        \n",
        "        socket_min = random_argmin([self.bias_presence_hipo(t)[socket] for socket in available]) \n",
        "        socket_min_index = self.sockets.index(available_sockets[socket_min])\n",
        "\n",
        "        return_index = random.choices([socket_min_index,socket_max_index],cum_weights=[self.subopt_coef,1])\n",
        "        #print(socket_min_index,socket_max_index,\"->\",return_index[0])\n",
        "        return return_index[0]   \n",
        "\n",
        "    def select_socket( self, t ):\n",
        "              \n",
        "        mask = [self.get_number_of_trials()[t][i]<self.possibles[i] for i in range(len(self.sockets))]\n",
        "        available_sockets = [self.sockets[s] for s in range(len(self.sockets)) if (mask[s])]\n",
        "        available = [i for i in range(len(self.sockets)) if (mask[i])]\n",
        "\n",
        "        bias_term = self.punishing_term(self.bias_presence_hipo,t)\n",
        "        #print([self.sockets[i].sample(t+1)for i in range(8)])\n",
        "        #print(bias_term)\n",
        "        #print()\n",
        "        socket_max = random_argmax([(1-self.subopt_coef)*self.sockets[socket].sample(t+1)-self.subopt_coef*bias_term[socket] for socket in available]) \n",
        "\n",
        "        socket_index = self.sockets.index(available_sockets[socket_max])\n",
        "        return socket_index\n",
        "    \n",
        "    def select_socket_candidates( self, t ):\n",
        "        \"\"\" Greedy Socket Selection\"\"\"\n",
        "        mask = [self.get_number_of_trials()[t][i]<self.possibles[i] for i in range(len(self.sockets))]\n",
        "        available_sockets = [self.sockets[s] for s in range(len(self.sockets)) if (mask[s])]\n",
        "        available = [i for i in range(len(self.sockets)) if (mask[i])]\n",
        "\n",
        "        socket_max = random_argmax([self.sockets[socket].sample(t+1) for socket in available]) \n",
        "        socket_max_index = self.sockets.index(available_sockets[socket_max])\n",
        "\n",
        "        socket_min = random_argmin([self.bias_presence_hipo(t)[socket] for socket in available]) \n",
        "        socket_min_index = self.sockets.index(available_sockets[socket_min])\n",
        "\n",
        "        return_index = random.choices([socket_min_index,socket_max_index],cum_weights=[self.subopt_coef,1])\n",
        "        #print(socket_min_index,socket_max_index,\"(\",self.subopt_coef,\")->\",return_index[0])\n",
        "        return return_index[0]     \n",
        "    \n",
        "    def return_increments(self, decisions_to_consider):\n",
        "        presence = np.array([i/len(decisions_to_consider) for i in self.possibles])\n",
        "        selected_presence = np.array(self.get_socket_percentages())\n",
        "        diff = np.subtract(selected_presence, presence)\n",
        "        diff1 = np.add(1,diff)\n",
        "        #diff2 = np.divide(diff,presence, out=np.zeros_like(diff), where=presence!=0)\n",
        "        #diff2 = np.add(1,diff2)\n",
        "        #print(diff1,diff2)\n",
        "        #print(diff.sum())\n",
        "        return diff1\n",
        "    \n",
        "    def run( self, decisions_to_consider, max_percent_decisions=1, prints_bool = True):  \n",
        "        \"\"\" perform a single run, over the set of sockets, \n",
        "            for the defined number of steps \"\"\"\n",
        "        \n",
        "        # reset the run counters\n",
        "        self.initialize_run(len(decisions_to_consider))\n",
        "\n",
        "        self.possibles = [0]*8 #TODO: DEPENDS ON N OF CLUSTER (DECISIONS.UNIQUE() ISNT ENOUGH BECAUSE IT CAN LACK SOME INSTANCES)\n",
        "        for i in np.unique(np.array(decisions_to_consider)):\n",
        "          self.possibles[i] = decisions_to_consider.count(i) \n",
        "        #print(\"possibles\",self.possibles)\n",
        "\n",
        "        usos = 0\n",
        "        self.capping = max_percent_decisions\n",
        "        usos_maxims = math.floor(max_percent_decisions*len(decisions_to_consider))\n",
        "        #print(usos_maxims)\n",
        "        self.bias_hist = []\n",
        "        # loop for the specified number of time-steps\n",
        "        for t in range(1,len(decisions_to_consider)):\n",
        "            self.socket_stats[t] = self.get_socket_stats(t)     \n",
        "            socket_index = self.select_socket_prob(t)\n",
        "            if(self.get_number_of_trials()[t][socket_index]<self.possibles[socket_index]):\n",
        "              # charge from the chosen socket and update its mean reward value\n",
        "              self.charge_and_update(socket_index)\n",
        "              usos+=1\n",
        "              if usos > usos_maxims:\n",
        "                  break\n",
        "            \n",
        "            if t%10==0:\n",
        "              self.bias_hist.append(self.bias_presence_step(t))\n",
        "\n",
        "        # save the actual number of steps that have been run\n",
        "        self.total_steps = t    \n",
        "    \n",
        "        # get the stats for each socket at the end of the run        \n",
        "        self.socket_stats[t+1] = self.get_socket_stats(t+1)           \n",
        "        \n",
        "        self.approval_rates = [round(100*self.get_number_of_trials()[t][i]/self.possibles[i],2) if self.possibles[i]>0.0 else 0.0 for i in range(len(self.possibles))]\n",
        "        self.regret = 100*max([s.q for s in self.sockets])-self.get_mean_reward()\n",
        "        #print(self.regret)\n",
        "        if(prints_bool):\n",
        "          #print(\"possibles\",self.possibles)\n",
        "          print(\"Reward distribution:\",[round(s.q,4) for s in self.sockets])\n",
        "          print(\"Final estimates:\",[round(e/100,4) for e in self.get_estimates()[self.total_steps]])\n",
        "          #print(\"Intances of each cluster:\",self.possibles)\n",
        "          print(\"Presence of each in batch (%):\",[100*i/len(decisions_to_consider) for i in self.possibles])\n",
        "          #print(\"Times selected:\",self.get_number_of_trials()[t])\n",
        "          print(\"Relative approval rate (%):\",self.approval_rates)\n",
        "          print(\"Percentage over total selected (%):\",[round(100*p,2) for p in self.get_socket_percentages()])\n",
        "          print(\"Total reward:\",self.total_reward,\"|| and presence bias:\",self.final_bias_presence())\n",
        "          print(\"Rate bias:\",self.final_bias_rate())\n",
        "          print(\"Posteriors bias:\",self.final_bias_posteriors())\n",
        "          print(\"Rewards bias:\",self.final_bias_rewards())\n",
        "          print(\"Final regret:\",self.regret)\n",
        "          #print(self.return_increments(decisions_to_consider))\n",
        "        return_dic = {\n",
        "            \"total_steps\":self.total_steps,\n",
        "            \"total_reward\":self.total_reward,\n",
        "            \"increments\":self.return_increments(decisions_to_consider),\n",
        "            \"estimates\":[e/100 for e in self.get_estimates()[self.total_steps]],\n",
        "            \"bias_presence\":self.final_bias_presence(),\n",
        "            \"bias_rate\":self.final_bias_rate(),\n",
        "            \"bias_posteriors\":self.final_bias_posteriors(),\n",
        "            \"bias_rewards\":self.final_bias_rewards(),\n",
        "            \"app_rate\":self.approval_rates,\n",
        "            \"percentages\":self.get_socket_percentages(),\n",
        "            \"bias_hist\":self.bias_hist,\n",
        "            \"regret\":self.regret\n",
        "        }\n",
        "        return return_dic"
      ],
      "metadata": {
        "id": "PjPBKsncLbY3"
      },
      "execution_count": 48,
      "outputs": []
    },
    {
      "cell_type": "code",
      "source": [
        "#rewards_bias = np.array([.8555, .8193, .8284, .7994, .7103, .6635, .7471, .6731])\n",
        "rewards_bias = np.array([.830, .8077, .8088, .7826, .7015, .6639, .6658, .6192])\n",
        "rewards_nonbias = [0.8]*8\n",
        "devs_nonbias = [0]*8\n",
        "\n",
        "#instances_bias = np.array([0.535, 0.24, 0.023, 0.011, 0.087, 0.081, 0.011, 0.011])\n",
        "instances_bias = np.array([0.447, 0.267, 0.028, 0.014, 0.103, 0.116, 0.012, 0.012])\n",
        "instances_nonbias = [1/8]*8"
      ],
      "metadata": {
        "id": "6qdqEOdfJbWX"
      },
      "execution_count": 33,
      "outputs": []
    },
    {
      "cell_type": "code",
      "source": [
        "decisions = random.choices(range(8),weights=list(instances_bias),k=1000)"
      ],
      "metadata": {
        "id": "12mwLWeYrc3J"
      },
      "execution_count": 34,
      "outputs": []
    },
    {
      "cell_type": "code",
      "source": [
        "sol_test = SocketTesterBatchSOLUTIONProb(PowerSocketProb, rewards_bias, 25, 0)\n",
        "rd = sol_test.run(decisions, 0.8, True)\n",
        "plt.plot(rd[\"bias_hist\"])"
      ],
      "metadata": {
        "colab": {
          "base_uri": "https://localhost:8080/",
          "height": 469
        },
        "id": "mmJT36EwSL18",
        "outputId": "23a9f97f-4ceb-4377-ed5e-e2e6d8368eda"
      },
      "execution_count": 71,
      "outputs": [
        {
          "output_type": "stream",
          "name": "stdout",
          "text": [
            "Reward distribution: [0.83, 0.8077, 0.8088, 0.7826, 0.7015, 0.6639, 0.6658, 0.6192]\n",
            "Final estimates: [0.8402, 0.8522, 0.0, 0.9, 0.7632, 0.0, 0.75, 0.8182]\n",
            "Presence of each in batch (%): [47.8, 23.0, 3.2, 1.0, 10.8, 12.3, 0.8, 1.1]\n",
            "Relative approval rate (%): [96.86, 100.0, 3.12, 100.0, 70.37, 0.81, 100.0, 100.0]\n",
            "Percentage over total selected (%): [57.8, 28.71, 0.12, 1.25, 9.49, 0.12, 1.0, 1.37]\n",
            "Total reward: 66800 || and presence bias: 0.32999500624219724\n",
            "Rate bias: 2.797609703890797\n",
            "Posteriors bias: 1.2309612983770286\n",
            "Rewards bias: 246.1843206069623\n",
            "Final regret: -0.3957553058676666\n"
          ]
        },
        {
          "output_type": "execute_result",
          "data": {
            "text/plain": [
              "[<matplotlib.lines.Line2D at 0x7f455ba034d0>]"
            ]
          },
          "metadata": {},
          "execution_count": 71
        },
        {
          "output_type": "display_data",
          "data": {
            "text/plain": [
              "<Figure size 432x288 with 1 Axes>"
            ],
            "image/png": "[encoded data removed]"
          },
          "metadata": {
            "needs_background": "light"
          }
        }
      ]
    },
    {
      "cell_type": "code",
      "source": [
        "sol_test = SocketTesterBatchSOLUTIONProb(PowerSocketProb, rewards_bias, 50, 0.25)\n",
        "rd = sol_test.run(decisions, 0.8, True)\n",
        "plt.plot(rd[\"bias_hist\"])"
      ],
      "metadata": {
        "id": "1z9nQnr5ra7v",
        "colab": {
          "base_uri": "https://localhost:8080/",
          "height": 468
        },
        "outputId": "ff70f465-0c0e-4138-9cb4-897f43596498"
      },
      "execution_count": 61,
      "outputs": [
        {
          "output_type": "stream",
          "name": "stdout",
          "text": [
            "Reward distribution: [0.83, 0.8077, 0.8088, 0.7826, 0.7015, 0.6639, 0.6658, 0.6192]\n",
            "Final estimates: [0.8285, 0.7884, 0.75, 1.0, 0.6585, 0.6486, 0.5, 0.2]\n",
            "Presence of each in batch (%): [47.8, 23.0, 3.2, 1.0, 10.8, 12.3, 0.8, 1.1]\n",
            "Relative approval rate (%): [100.0, 82.17, 100.0, 100.0, 37.96, 30.08, 100.0, 45.45]\n",
            "Percentage over total selected (%): [59.68, 23.6, 4.0, 1.25, 5.12, 4.62, 1.0, 0.62]\n",
            "Total reward: 63600 || and presence bias: 0.27551061173533087\n",
            "Rate bias: 2.19756923244463\n",
            "Posteriors bias: 1.1660424469413233\n",
            "Rewards bias: 135.96264371904758\n",
            "Final regret: 3.5992509363295824\n"
          ]
        },
        {
          "output_type": "execute_result",
          "data": {
            "text/plain": [
              "[<matplotlib.lines.Line2D at 0x7f455bdce4d0>]"
            ]
          },
          "metadata": {},
          "execution_count": 61
        },
        {
          "output_type": "display_data",
          "data": {
            "text/plain": [
              "<Figure size 432x288 with 1 Axes>"
            ],
            "image/png": "[encoded data removed]"
          },
          "metadata": {
            "needs_background": "light"
          }
        }
      ]
    },
    {
      "cell_type": "code",
      "source": [
        "sol_test = SocketTesterBatchSOLUTIONProb(PowerSocketProb, rewards_bias, 10, 0.5)\n",
        "rd = sol_test.run(decisions, 0.8, True)\n",
        "plt.plot(rd[\"bias_hist\"])"
      ],
      "metadata": {
        "id": "qLFP4Yjhe6tB",
        "colab": {
          "base_uri": "https://localhost:8080/",
          "height": 468
        },
        "outputId": "e4644923-6678-48cf-a4a3-8690cad8526a"
      },
      "execution_count": 50,
      "outputs": [
        {
          "output_type": "stream",
          "name": "stdout",
          "text": [
            "Reward distribution: [0.83, 0.8077, 0.8088, 0.7826, 0.7015, 0.6639, 0.6658, 0.6192]\n",
            "Final estimates: [0.8333, 0.8174, 0.8125, 1.0, 0.8333, 0.7447, 0.875, 0.7273]\n",
            "Presence of each in batch (%): [47.8, 23.0, 3.2, 1.0, 10.8, 12.3, 0.8, 1.1]\n",
            "Relative approval rate (%): [74.06, 100.0, 100.0, 100.0, 100.0, 38.21, 100.0, 100.0]\n",
            "Percentage over total selected (%): [44.19, 28.71, 4.0, 1.25, 13.48, 5.87, 1.0, 1.37]\n",
            "Total reward: 66000 || and presence bias: 0.1995031210986266\n",
            "Rate bias: 1.315950607204817\n",
            "Posteriors bias: 0.9787765293383269\n",
            "Rewards bias: 43.9821783982284\n",
            "Final regret: 0.6029962546816421\n"
          ]
        },
        {
          "output_type": "execute_result",
          "data": {
            "text/plain": [
              "[<matplotlib.lines.Line2D at 0x7f455c1ee590>]"
            ]
          },
          "metadata": {},
          "execution_count": 50
        },
        {
          "output_type": "display_data",
          "data": {
            "text/plain": [
              "<Figure size 432x288 with 1 Axes>"
            ],
            "image/png": "[encoded data removed]"
          },
          "metadata": {
            "needs_background": "light"
          }
        }
      ]
    },
    {
      "cell_type": "code",
      "source": [
        "sol_test = SocketTesterBatchSOLUTIONProb(PowerSocketProb, rewards_bias, 10, 0.75)\n",
        "rd = sol_test.run(decisions, 0.8, True)\n",
        "plt.plot(rd[\"bias_hist\"])"
      ],
      "metadata": {
        "id": "O1twdS7WwA5H",
        "colab": {
          "base_uri": "https://localhost:8080/",
          "height": 450
        },
        "outputId": "c0131268-6d51-4107-8a64-c460d0a90e63"
      },
      "execution_count": 38,
      "outputs": [
        {
          "output_type": "stream",
          "name": "stdout",
          "text": [
            "Reward distribution: [0.83, 0.8077, 0.8088, 0.7826, 0.7015, 0.6639, 0.6658, 0.6192]\n",
            "Final estimates: [0.8429, 0.679, 0.8261, 0.6842, 0.6702, 0.717, 0.7778, 0.75]\n",
            "Presence of each in batch (%): [45.2, 28.1, 2.3, 1.9, 9.4, 10.6, 0.9, 1.6]\n",
            "Relative approval rate (%): [100.0, 28.83, 100.0, 100.0, 100.0, 100.0, 100.0, 100.0]\n",
            "Percentage over total selected (%): [56.43, 10.11, 2.87, 2.37, 11.74, 13.23, 1.12, 2.0]\n",
            "Total reward: 62700 || and presence bias: 0.35850436953807746\n",
            "Rate bias: 1.2455516014234878\n",
            "Posteriors bias: 0.8938826466916354\n",
            "Final regret: 4.722846441947567\n"
          ]
        },
        {
          "output_type": "execute_result",
          "data": {
            "text/plain": [
              "[<matplotlib.lines.Line2D at 0x7f455e6a6510>]"
            ]
          },
          "metadata": {},
          "execution_count": 38
        },
        {
          "output_type": "display_data",
          "data": {
            "text/plain": [
              "<Figure size 432x288 with 1 Axes>"
            ],
            "image/png": "[encoded data removed]"
          },
          "metadata": {
            "needs_background": "light"
          }
        }
      ]
    },
    {
      "cell_type": "code",
      "source": [
        "sol_test = SocketTesterBatchSOLUTIONProb(PowerSocketProb, rewards_bias, 10, 1)\n",
        "rd = sol_test.run(decisions, 0.8, True)\n",
        "plt.plot(rd[\"bias_hist\"])"
      ],
      "metadata": {
        "id": "bV4yyv2zvL-U",
        "colab": {
          "base_uri": "https://localhost:8080/",
          "height": 450
        },
        "outputId": "829d12b6-0e8f-42ea-9df8-7deaf18c1988"
      },
      "execution_count": 39,
      "outputs": [
        {
          "output_type": "stream",
          "name": "stdout",
          "text": [
            "Reward distribution: [0.83, 0.8077, 0.8088, 0.7826, 0.7015, 0.6639, 0.6658, 0.6192]\n",
            "Final estimates: [0.8399, 0.8185, 0.7391, 0.8421, 0.7766, 0.7403, 1.0, 0.5]\n",
            "Presence of each in batch (%): [45.2, 28.1, 2.3, 1.9, 9.4, 10.6, 0.9, 1.6]\n",
            "Relative approval rate (%): [62.17, 100.0, 100.0, 100.0, 100.0, 72.64, 100.0, 100.0]\n",
            "Percentage over total selected (%): [35.08, 35.08, 2.87, 2.37, 11.74, 9.61, 1.12, 2.0]\n",
            "Total reward: 64700 || and presence bias: 0.22086891385767787\n",
            "Rate bias: 0.9778552345967607\n",
            "Posteriors bias: 0.9038701622971286\n",
            "Final regret: 2.2259675405742883\n"
          ]
        },
        {
          "output_type": "execute_result",
          "data": {
            "text/plain": [
              "[<matplotlib.lines.Line2D at 0x7f455e697b90>]"
            ]
          },
          "metadata": {},
          "execution_count": 39
        },
        {
          "output_type": "display_data",
          "data": {
            "text/plain": [
              "<Figure size 432x288 with 1 Axes>"
            ],
            "image/png": "[encoded data removed]"
          },
          "metadata": {
            "needs_background": "light"
          }
        }
      ]
    },
    {
      "cell_type": "code",
      "source": [
        "rate_results = []\n",
        "contribution_results = []\n",
        "decisions = random.choices(range(8),weights=list(instances_bias),k=1000)\n",
        "sol_test = SocketTesterBatchSOLUTIONProb(PowerSocketProb, rewards_bias, 50, 0)\n",
        "for sopt in range(250):\n",
        "  rd = sol_test.run(decisions, 0.8, False)\n",
        "  rate_results.append(rd[\"app_rate\"])\n",
        "  contribution_results.append(rd[\"percentages\"])"
      ],
      "metadata": {
        "id": "r7BXUBXZ0St3"
      },
      "execution_count": 100,
      "outputs": []
    },
    {
      "cell_type": "code",
      "source": [
        "#np.transpose(rate_results)"
      ],
      "metadata": {
        "id": "zjSktugp5c_B"
      },
      "execution_count": null,
      "outputs": []
    },
    {
      "cell_type": "code",
      "source": [
        "xar = np.arange(8)\n",
        "yar = [np.mean(np.transpose(rate_results)[i]) for i in range(8)]\n",
        "ear = [np.std(np.transpose(rate_results)[i]) for i in range(8)]\n",
        "\n",
        "plt.errorbar(xar, yar, ear, linestyle='None', marker='^')\n",
        "plt.show()"
      ],
      "metadata": {
        "colab": {
          "base_uri": "https://localhost:8080/",
          "height": 265
        },
        "id": "tyKjaz6y467U",
        "outputId": "33a95c67-d3cb-4f1e-d977-14aa14c441f8"
      },
      "execution_count": 101,
      "outputs": [
        {
          "output_type": "display_data",
          "data": {
            "text/plain": [
              "<Figure size 432x288 with 1 Axes>"
            ],
            "image/png": "[encoded data removed]"
          },
          "metadata": {
            "needs_background": "light"
          }
        }
      ]
    },
    {
      "cell_type": "code",
      "source": [
        "xac = np.arange(8)\n",
        "yac = [np.mean(np.transpose(contribution_results)[i]) for i in range(8)]\n",
        "eac = [np.std(np.transpose(contribution_results)[i]) for i in range(8)]\n",
        "\n",
        "plt.errorbar(xac, yac, eac, linestyle='None', marker='^')\n",
        "plt.plot(xac, list(instances_bias), linestyle='--')\n",
        "plt.show()"
      ],
      "metadata": {
        "colab": {
          "base_uri": "https://localhost:8080/",
          "height": 265
        },
        "id": "uLCuvWmQ7Oti",
        "outputId": "7bee4ec1-57f7-4965-a10f-99e7417ebd83"
      },
      "execution_count": 102,
      "outputs": [
        {
          "output_type": "display_data",
          "data": {
            "text/plain": [
              "<Figure size 432x288 with 1 Axes>"
            ],
            "image/png": "[encoded data removed]"
          },
          "metadata": {
            "needs_background": "light"
          }
        }
      ]
    },
    {
      "cell_type": "code",
      "source": [
        "\"\"\"\n",
        "import matplotlib.pyplot as plt\n",
        "import numpy as np\n",
        "\n",
        "results = [rwd_results,presence_results,rate_results,posteriors_results,rewards_results,regret_results]\n",
        "print(results)\n",
        "x = np.arange(5)\n",
        "y = [results[i][0][0] for i in range(1,len(results))]\n",
        "e = [results[i][0][1] for i in range(1,len(results))]\n",
        "\n",
        "plt.errorbar(x, y, e, linestyle='None', marker='^')\n",
        "plt.show() #total rewards (y) vs subopt value (x)\n",
        "\"\"\""
      ],
      "metadata": {
        "colab": {
          "base_uri": "https://localhost:8080/",
          "height": 303
        },
        "id": "tFfXAezW0tny",
        "outputId": "5c0157a9-2b30-497c-f28e-060293db9788"
      },
      "execution_count": 47,
      "outputs": [
        {
          "output_type": "stream",
          "name": "stdout",
          "text": [
            "[[[64161.0, 1514.8527981292439]], [[0.3300548314606741, 0.05224333619743054]], [[2.6040129587262815, 0.7491683708721633]], [[1.149213483146067, 0.14650430091910557]], [[182.5282672522925, 73.20221311534004]], [[2.898876404494382, 1.8912019951675958]]]\n"
          ]
        },
        {
          "output_type": "display_data",
          "data": {
            "text/plain": [
              "<Figure size 432x288 with 1 Axes>"
            ],
            "image/png": "[encoded data removed]"
          },
          "metadata": {
            "needs_background": "light"
          }
        }
      ]
    },
    {
      "cell_type": "code",
      "source": [
        "rwd_results = []\n",
        "presence_results = []\n",
        "rate_results = []\n",
        "posteriors_results = []\n",
        "rewards_results = []\n",
        "regret_results = []\n",
        "decisions = random.choices(range(8),weights=list(instances_bias),k=1000)\n",
        "for sopt in np.arange(0,1.1,0.1):\n",
        "  sopt_i_rwd_results = []\n",
        "  sopt_i_presence_results = []\n",
        "  sopt_i_rate_results = []\n",
        "  sopt_i_posteriors_results = []\n",
        "  sopt_i_rewards_results = []\n",
        "  sopt_i_regret_results = []\n",
        "  sol_test = SocketTesterBatchSOLUTIONProb(PowerSocketProb, rewards_bias, 10, sopt)\n",
        "  for iter in range(25):\n",
        "    rd = sol_test.run(decisions, 0.8, False)\n",
        "    sopt_i_rwd_results.append(rd[\"total_reward\"])\n",
        "    sopt_i_presence_results.append(rd[\"bias_presence\"])\n",
        "    sopt_i_rate_results.append(rd[\"bias_rate\"])\n",
        "    sopt_i_posteriors_results.append(rd[\"bias_posteriors\"])\n",
        "    sopt_i_rewards_results.append(rd[\"bias_rewards\"])\n",
        "    sopt_i_regret_results.append(rd[\"regret\"])\n",
        "  rwd_results.append([np.mean(sopt_i_rwd_results),np.std(sopt_i_rwd_results)])\n",
        "  presence_results.append([np.mean(sopt_i_presence_results),np.std(sopt_i_presence_results)])\n",
        "  rate_results.append([np.mean(sopt_i_rate_results),np.std(sopt_i_rate_results)])\n",
        "  posteriors_results.append([np.mean(sopt_i_posteriors_results),np.std(sopt_i_posteriors_results)])\n",
        "  rewards_results.append([np.mean(sopt_i_rewards_results),np.std(sopt_i_rewards_results)])\n",
        "  regret_results.append([np.mean(sopt_i_regret_results),np.std(sopt_i_regret_results)])\n",
        "print([rwd_results[i][0] for i in range(len(rwd_results))])\n",
        "print([presence_results[i][0] for i in range(len(presence_results))])"
      ],
      "metadata": {
        "colab": {
          "base_uri": "https://localhost:8080/",
          "height": 400
        },
        "id": "37FXdTsGg4CF",
        "outputId": "da850dd9-cb89-45ef-d8a2-73c36854eaac"
      },
      "execution_count": 40,
      "outputs": [
        {
          "output_type": "error",
          "ename": "KeyboardInterrupt",
          "evalue": "ignored",
          "traceback": [
            "\u001b[0;31m---------------------------------------------------------------------------\u001b[0m",
            "\u001b[0;31mKeyboardInterrupt\u001b[0m                         Traceback (most recent call last)",
            "\u001b[0;32m<ipython-input-40-94d3df677159>\u001b[0m in \u001b[0;36m<module>\u001b[0;34m()\u001b[0m\n\u001b[1;32m     15\u001b[0m   \u001b[0msol_test\u001b[0m \u001b[0;34m=\u001b[0m \u001b[0mSocketTesterBatchSOLUTIONProb\u001b[0m\u001b[0;34m(\u001b[0m\u001b[0mPowerSocketProb\u001b[0m\u001b[0;34m,\u001b[0m \u001b[0mrewards_bias\u001b[0m\u001b[0;34m,\u001b[0m \u001b[0;36m10\u001b[0m\u001b[0;34m,\u001b[0m \u001b[0msopt\u001b[0m\u001b[0;34m)\u001b[0m\u001b[0;34m\u001b[0m\u001b[0;34m\u001b[0m\u001b[0m\n\u001b[1;32m     16\u001b[0m   \u001b[0;32mfor\u001b[0m \u001b[0miter\u001b[0m \u001b[0;32min\u001b[0m \u001b[0mrange\u001b[0m\u001b[0;34m(\u001b[0m\u001b[0;36m25\u001b[0m\u001b[0;34m)\u001b[0m\u001b[0;34m:\u001b[0m\u001b[0;34m\u001b[0m\u001b[0;34m\u001b[0m\u001b[0m\n\u001b[0;32m---> 17\u001b[0;31m     \u001b[0mrd\u001b[0m \u001b[0;34m=\u001b[0m \u001b[0msol_test\u001b[0m\u001b[0;34m.\u001b[0m\u001b[0mrun\u001b[0m\u001b[0;34m(\u001b[0m\u001b[0mdecisions\u001b[0m\u001b[0;34m,\u001b[0m \u001b[0;36m0.8\u001b[0m\u001b[0;34m,\u001b[0m \u001b[0;32mFalse\u001b[0m\u001b[0;34m)\u001b[0m\u001b[0;34m\u001b[0m\u001b[0;34m\u001b[0m\u001b[0m\n\u001b[0m\u001b[1;32m     18\u001b[0m     \u001b[0msopt_i_rwd_results\u001b[0m\u001b[0;34m.\u001b[0m\u001b[0mappend\u001b[0m\u001b[0;34m(\u001b[0m\u001b[0mrd\u001b[0m\u001b[0;34m[\u001b[0m\u001b[0;34m\"total_reward\"\u001b[0m\u001b[0;34m]\u001b[0m\u001b[0;34m)\u001b[0m\u001b[0;34m\u001b[0m\u001b[0;34m\u001b[0m\u001b[0m\n\u001b[1;32m     19\u001b[0m     \u001b[0msopt_i_presence_results\u001b[0m\u001b[0;34m.\u001b[0m\u001b[0mappend\u001b[0m\u001b[0;34m(\u001b[0m\u001b[0mrd\u001b[0m\u001b[0;34m[\u001b[0m\u001b[0;34m\"bias_presence\"\u001b[0m\u001b[0;34m]\u001b[0m\u001b[0;34m)\u001b[0m\u001b[0;34m\u001b[0m\u001b[0;34m\u001b[0m\u001b[0m\n",
            "\u001b[0;32m<ipython-input-32-0aba2863cb65>\u001b[0m in \u001b[0;36mrun\u001b[0;34m(self, decisions_to_consider, max_percent_decisions, prints_bool)\u001b[0m\n\u001b[1;32m    267\u001b[0m         \u001b[0;32mfor\u001b[0m \u001b[0mt\u001b[0m \u001b[0;32min\u001b[0m \u001b[0mrange\u001b[0m\u001b[0;34m(\u001b[0m\u001b[0;36m1\u001b[0m\u001b[0;34m,\u001b[0m\u001b[0mlen\u001b[0m\u001b[0;34m(\u001b[0m\u001b[0mdecisions_to_consider\u001b[0m\u001b[0;34m)\u001b[0m\u001b[0;34m)\u001b[0m\u001b[0;34m:\u001b[0m\u001b[0;34m\u001b[0m\u001b[0;34m\u001b[0m\u001b[0m\n\u001b[1;32m    268\u001b[0m             \u001b[0mself\u001b[0m\u001b[0;34m.\u001b[0m\u001b[0msocket_stats\u001b[0m\u001b[0;34m[\u001b[0m\u001b[0mt\u001b[0m\u001b[0;34m]\u001b[0m \u001b[0;34m=\u001b[0m \u001b[0mself\u001b[0m\u001b[0;34m.\u001b[0m\u001b[0mget_socket_stats\u001b[0m\u001b[0;34m(\u001b[0m\u001b[0mt\u001b[0m\u001b[0;34m)\u001b[0m\u001b[0;34m\u001b[0m\u001b[0;34m\u001b[0m\u001b[0m\n\u001b[0;32m--> 269\u001b[0;31m             \u001b[0msocket_index\u001b[0m \u001b[0;34m=\u001b[0m \u001b[0mself\u001b[0m\u001b[0;34m.\u001b[0m\u001b[0mselect_socket_prob\u001b[0m\u001b[0;34m(\u001b[0m\u001b[0mt\u001b[0m\u001b[0;34m)\u001b[0m\u001b[0;34m\u001b[0m\u001b[0;34m\u001b[0m\u001b[0m\n\u001b[0m\u001b[1;32m    270\u001b[0m             \u001b[0;32mif\u001b[0m\u001b[0;34m(\u001b[0m\u001b[0mself\u001b[0m\u001b[0;34m.\u001b[0m\u001b[0mget_number_of_trials\u001b[0m\u001b[0;34m(\u001b[0m\u001b[0;34m)\u001b[0m\u001b[0;34m[\u001b[0m\u001b[0mt\u001b[0m\u001b[0;34m]\u001b[0m\u001b[0;34m[\u001b[0m\u001b[0msocket_index\u001b[0m\u001b[0;34m]\u001b[0m\u001b[0;34m<\u001b[0m\u001b[0mself\u001b[0m\u001b[0;34m.\u001b[0m\u001b[0mpossibles\u001b[0m\u001b[0;34m[\u001b[0m\u001b[0msocket_index\u001b[0m\u001b[0;34m]\u001b[0m\u001b[0;34m)\u001b[0m\u001b[0;34m:\u001b[0m\u001b[0;34m\u001b[0m\u001b[0;34m\u001b[0m\u001b[0m\n\u001b[1;32m    271\u001b[0m               \u001b[0;31m# charge from the chosen socket and update its mean reward value\u001b[0m\u001b[0;34m\u001b[0m\u001b[0;34m\u001b[0m\u001b[0;34m\u001b[0m\u001b[0m\n",
            "\u001b[0;32m<ipython-input-32-0aba2863cb65>\u001b[0m in \u001b[0;36mselect_socket_prob\u001b[0;34m(self, t)\u001b[0m\n\u001b[1;32m    193\u001b[0m         \u001b[0mavailable\u001b[0m \u001b[0;34m=\u001b[0m \u001b[0;34m[\u001b[0m\u001b[0mi\u001b[0m \u001b[0;32mfor\u001b[0m \u001b[0mi\u001b[0m \u001b[0;32min\u001b[0m \u001b[0mrange\u001b[0m\u001b[0;34m(\u001b[0m\u001b[0mlen\u001b[0m\u001b[0;34m(\u001b[0m\u001b[0mself\u001b[0m\u001b[0;34m.\u001b[0m\u001b[0msockets\u001b[0m\u001b[0;34m)\u001b[0m\u001b[0;34m)\u001b[0m \u001b[0;32mif\u001b[0m \u001b[0;34m(\u001b[0m\u001b[0mmask\u001b[0m\u001b[0;34m[\u001b[0m\u001b[0mi\u001b[0m\u001b[0;34m]\u001b[0m\u001b[0;34m)\u001b[0m\u001b[0;34m]\u001b[0m\u001b[0;34m\u001b[0m\u001b[0;34m\u001b[0m\u001b[0m\n\u001b[1;32m    194\u001b[0m \u001b[0;34m\u001b[0m\u001b[0m\n\u001b[0;32m--> 195\u001b[0;31m         \u001b[0mbias_term\u001b[0m \u001b[0;34m=\u001b[0m \u001b[0mself\u001b[0m\u001b[0;34m.\u001b[0m\u001b[0mpunishing_term\u001b[0m\u001b[0;34m(\u001b[0m\u001b[0mself\u001b[0m\u001b[0;34m.\u001b[0m\u001b[0mbias_presence_hipo\u001b[0m\u001b[0;34m,\u001b[0m\u001b[0mt\u001b[0m\u001b[0;34m)\u001b[0m\u001b[0;34m\u001b[0m\u001b[0;34m\u001b[0m\u001b[0m\n\u001b[0m\u001b[1;32m    196\u001b[0m \u001b[0;34m\u001b[0m\u001b[0m\n\u001b[1;32m    197\u001b[0m         \u001b[0msocket_max\u001b[0m \u001b[0;34m=\u001b[0m \u001b[0mrandom_argmax\u001b[0m\u001b[0;34m(\u001b[0m\u001b[0;34m[\u001b[0m\u001b[0mself\u001b[0m\u001b[0;34m.\u001b[0m\u001b[0msockets\u001b[0m\u001b[0;34m[\u001b[0m\u001b[0msocket\u001b[0m\u001b[0;34m]\u001b[0m\u001b[0;34m.\u001b[0m\u001b[0msample\u001b[0m\u001b[0;34m(\u001b[0m\u001b[0mt\u001b[0m\u001b[0;34m+\u001b[0m\u001b[0;36m1\u001b[0m\u001b[0;34m)\u001b[0m \u001b[0;32mfor\u001b[0m \u001b[0msocket\u001b[0m \u001b[0;32min\u001b[0m \u001b[0mavailable\u001b[0m\u001b[0;34m]\u001b[0m\u001b[0;34m)\u001b[0m\u001b[0;34m\u001b[0m\u001b[0;34m\u001b[0m\u001b[0m\n",
            "\u001b[0;32m<ipython-input-32-0aba2863cb65>\u001b[0m in \u001b[0;36mpunishing_term\u001b[0;34m(self, bias_func, t)\u001b[0m\n\u001b[1;32m    182\u001b[0m \u001b[0;34m\u001b[0m\u001b[0m\n\u001b[1;32m    183\u001b[0m     \u001b[0;32mdef\u001b[0m \u001b[0mpunishing_term\u001b[0m\u001b[0;34m(\u001b[0m\u001b[0mself\u001b[0m\u001b[0;34m,\u001b[0m\u001b[0mbias_func\u001b[0m\u001b[0;34m,\u001b[0m\u001b[0mt\u001b[0m\u001b[0;34m)\u001b[0m\u001b[0;34m:\u001b[0m\u001b[0;34m\u001b[0m\u001b[0;34m\u001b[0m\u001b[0m\n\u001b[0;32m--> 184\u001b[0;31m         \u001b[0mb_list\u001b[0m \u001b[0;34m=\u001b[0m \u001b[0mbias_func\u001b[0m\u001b[0;34m(\u001b[0m\u001b[0mt\u001b[0m\u001b[0;34m)\u001b[0m\u001b[0;34m\u001b[0m\u001b[0;34m\u001b[0m\u001b[0m\n\u001b[0m\u001b[1;32m    185\u001b[0m         \u001b[0mnorm_num\u001b[0m \u001b[0;34m=\u001b[0m \u001b[0mnp\u001b[0m\u001b[0;34m.\u001b[0m\u001b[0msubtract\u001b[0m\u001b[0;34m(\u001b[0m\u001b[0mb_list\u001b[0m\u001b[0;34m,\u001b[0m\u001b[0mmax\u001b[0m\u001b[0;34m(\u001b[0m\u001b[0mb_list\u001b[0m\u001b[0;34m)\u001b[0m\u001b[0;34m)\u001b[0m\u001b[0;34m\u001b[0m\u001b[0;34m\u001b[0m\u001b[0m\n\u001b[1;32m    186\u001b[0m         \u001b[0mnorm_denom\u001b[0m \u001b[0;34m=\u001b[0m \u001b[0mnp\u001b[0m\u001b[0;34m.\u001b[0m\u001b[0msubtract\u001b[0m\u001b[0;34m(\u001b[0m\u001b[0mmax\u001b[0m\u001b[0;34m(\u001b[0m\u001b[0mb_list\u001b[0m\u001b[0;34m)\u001b[0m\u001b[0;34m,\u001b[0m\u001b[0mmin\u001b[0m\u001b[0;34m(\u001b[0m\u001b[0mb_list\u001b[0m\u001b[0;34m)\u001b[0m\u001b[0;34m)\u001b[0m\u001b[0;34m\u001b[0m\u001b[0;34m\u001b[0m\u001b[0m\n",
            "\u001b[0;32m<ipython-input-32-0aba2863cb65>\u001b[0m in \u001b[0;36mbias_presence_hipo\u001b[0;34m(self, t)\u001b[0m\n\u001b[1;32m     96\u001b[0m         \u001b[0mbias_list\u001b[0m \u001b[0;34m=\u001b[0m \u001b[0;34m[\u001b[0m\u001b[0;34m]\u001b[0m\u001b[0;34m\u001b[0m\u001b[0;34m\u001b[0m\u001b[0m\n\u001b[1;32m     97\u001b[0m         \u001b[0;32mfor\u001b[0m \u001b[0mc\u001b[0m \u001b[0;32min\u001b[0m \u001b[0mrange\u001b[0m\u001b[0;34m(\u001b[0m\u001b[0mlen\u001b[0m\u001b[0;34m(\u001b[0m\u001b[0mself\u001b[0m\u001b[0;34m.\u001b[0m\u001b[0msockets\u001b[0m\u001b[0;34m)\u001b[0m\u001b[0;34m)\u001b[0m\u001b[0;34m:\u001b[0m\u001b[0;34m\u001b[0m\u001b[0;34m\u001b[0m\u001b[0m\n\u001b[0;32m---> 98\u001b[0;31m           \u001b[0mpulled\u001b[0m \u001b[0;34m=\u001b[0m \u001b[0mself\u001b[0m\u001b[0;34m.\u001b[0m\u001b[0mget_number_of_trials\u001b[0m\u001b[0;34m(\u001b[0m\u001b[0;34m)\u001b[0m\u001b[0;34m[\u001b[0m\u001b[0mt\u001b[0m\u001b[0;34m]\u001b[0m\u001b[0;34m.\u001b[0m\u001b[0mcopy\u001b[0m\u001b[0;34m(\u001b[0m\u001b[0;34m)\u001b[0m\u001b[0;34m\u001b[0m\u001b[0;34m\u001b[0m\u001b[0m\n\u001b[0m\u001b[1;32m     99\u001b[0m           \u001b[0mpulled\u001b[0m\u001b[0;34m[\u001b[0m\u001b[0mc\u001b[0m\u001b[0;34m]\u001b[0m\u001b[0;34m+=\u001b[0m\u001b[0;36m1\u001b[0m\u001b[0;34m\u001b[0m\u001b[0;34m\u001b[0m\u001b[0m\n\u001b[1;32m    100\u001b[0m           \u001b[0mselected_presence\u001b[0m \u001b[0;34m=\u001b[0m \u001b[0mnp\u001b[0m\u001b[0;34m.\u001b[0m\u001b[0marray\u001b[0m\u001b[0;34m(\u001b[0m\u001b[0mpulled\u001b[0m\u001b[0;34m/\u001b[0m\u001b[0;34m(\u001b[0m\u001b[0mt\u001b[0m\u001b[0;34m+\u001b[0m\u001b[0;36m1\u001b[0m\u001b[0;34m)\u001b[0m\u001b[0;34m)\u001b[0m\u001b[0;34m\u001b[0m\u001b[0;34m\u001b[0m\u001b[0m\n",
            "\u001b[0;32m<ipython-input-32-0aba2863cb65>\u001b[0m in \u001b[0;36mget_number_of_trials\u001b[0;34m(self)\u001b[0m\n\u001b[1;32m     82\u001b[0m     \u001b[0;32mdef\u001b[0m \u001b[0mget_number_of_trials\u001b[0m\u001b[0;34m(\u001b[0m\u001b[0mself\u001b[0m\u001b[0;34m)\u001b[0m\u001b[0;34m:\u001b[0m\u001b[0;34m\u001b[0m\u001b[0;34m\u001b[0m\u001b[0m\n\u001b[1;32m     83\u001b[0m         \u001b[0;34m\"\"\" get the number of trials of each socket at each timestep of the run \"\"\"\u001b[0m\u001b[0;34m\u001b[0m\u001b[0;34m\u001b[0m\u001b[0m\n\u001b[0;32m---> 84\u001b[0;31m         \u001b[0;32mreturn\u001b[0m \u001b[0mself\u001b[0m\u001b[0;34m.\u001b[0m\u001b[0msocket_stats\u001b[0m\u001b[0;34m[\u001b[0m\u001b[0;34m:\u001b[0m\u001b[0;34m,\u001b[0m\u001b[0;34m:\u001b[0m\u001b[0;34m,\u001b[0m\u001b[0;36m1\u001b[0m\u001b[0;34m]\u001b[0m\u001b[0;34m\u001b[0m\u001b[0;34m\u001b[0m\u001b[0m\n\u001b[0m\u001b[1;32m     85\u001b[0m \u001b[0;34m\u001b[0m\u001b[0m\n\u001b[1;32m     86\u001b[0m     \u001b[0;32mdef\u001b[0m \u001b[0mget_socket_percentages\u001b[0m\u001b[0;34m(\u001b[0m \u001b[0mself\u001b[0m \u001b[0;34m)\u001b[0m\u001b[0;34m:\u001b[0m\u001b[0;34m\u001b[0m\u001b[0;34m\u001b[0m\u001b[0m\n",
            "\u001b[0;31mKeyboardInterrupt\u001b[0m: "
          ]
        }
      ]
    },
    {
      "cell_type": "code",
      "source": [
        "print([regret_results[i][0] for i in range(len(regret_results))])\n",
        "#print([bias_results[i][0] for i in range(len(bias_results))])"
      ],
      "metadata": {
        "id": "X4gQWwS_odLp"
      },
      "execution_count": null,
      "outputs": []
    },
    {
      "cell_type": "code",
      "source": [
        "import matplotlib.pyplot as plt\n",
        "import numpy as np\n",
        "\n",
        "xr = np.arange(0,1.1,0.1)\n",
        "yr = [rwd_results[i][0] for i in range(len(rwd_results))]\n",
        "er = [rwd_results[i][1] for i in range(len(rwd_results))]\n",
        "\n",
        "xpres = np.arange(0,1.1,0.1)\n",
        "ypres = [presence_results[i][0] for i in range(len(presence_results))]\n",
        "epres = [presence_results[i][1] for i in range(len(presence_results))]\n",
        "\n",
        "xrate = np.arange(0,1.1,0.1)\n",
        "yrate = [rate_results[i][0] for i in range(len(rate_results))]\n",
        "erate = [rate_results[i][1] for i in range(len(rate_results))]\n",
        "\n",
        "xpost = np.arange(0,1.1,0.1)\n",
        "ypost = [posteriors_results[i][0] for i in range(len(posteriors_results))]\n",
        "epost = [posteriors_results[i][1] for i in range(len(posteriors_results))]\n",
        "\n",
        "xrb = np.arange(0,1.1,0.1)\n",
        "yrb = [rewards_results[i][0] for i in range(len(rewards_results))]\n",
        "erb = [rewards_results[i][1] for i in range(len(rewards_results))]\n",
        "\n",
        "xregr = np.arange(0,1.1,0.1)\n",
        "yregr = [regret_results[i][0] for i in range(len(regret_results))]\n",
        "eregr = [regret_results[i][1] for i in range(len(regret_results))]"
      ],
      "metadata": {
        "id": "nbqQlzefqqGN"
      },
      "execution_count": null,
      "outputs": []
    },
    {
      "cell_type": "code",
      "source": [
        "plt.errorbar(xr, yr, er, linestyle='None', marker='^')\n",
        "plt.show() #total rewards (y) vs subopt value (x)"
      ],
      "metadata": {
        "id": "4dcFsPxOrtu1"
      },
      "execution_count": null,
      "outputs": []
    },
    {
      "cell_type": "code",
      "source": [
        "plt.errorbar(xpres, ypres, epres, linestyle='None', marker='^')\n",
        "plt.show()  #final bias (y) vs subopt value (x)"
      ],
      "metadata": {
        "id": "Sz6k2Smsnvjk"
      },
      "execution_count": null,
      "outputs": []
    },
    {
      "cell_type": "code",
      "source": [
        "plt.errorbar(xrate, yrate, erate, linestyle='None', marker='^')\n",
        "plt.show()  #final bias (y) vs subopt value (x)"
      ],
      "metadata": {
        "id": "ezitRzOmw4Cc"
      },
      "execution_count": null,
      "outputs": []
    },
    {
      "cell_type": "code",
      "source": [
        "plt.errorbar(xpost, ypost, epost, linestyle='None', marker='^')\n",
        "plt.show()  #final bias (y) vs subopt value (x)"
      ],
      "metadata": {
        "id": "-BSViMCCw4d0"
      },
      "execution_count": null,
      "outputs": []
    },
    {
      "cell_type": "code",
      "source": [
        "plt.errorbar(xrb, yrb, erb, linestyle='None', marker='^')\n",
        "plt.show()  #final bias (y) vs subopt value (x)"
      ],
      "metadata": {
        "id": "VuY9TS3pzJlk"
      },
      "execution_count": null,
      "outputs": []
    },
    {
      "cell_type": "code",
      "source": [
        "plt.errorbar(xregr, yregr, eregr, linestyle='None', marker='^')\n",
        "plt.show()  #final bias (y) vs subopt value (x)"
      ],
      "metadata": {
        "id": "RfOVnOIIIl9u"
      },
      "execution_count": null,
      "outputs": []
    },
    {
      "cell_type": "code",
      "source": [
        "ma = np.mean([0,0,1,0])\n",
        "mb = np.mean([0,0,1,1])\n",
        "mc = np.mean([0,0,1,0,0,0,1,1])\n",
        "md = (ma+mb)/2\n",
        "print(ma,mb,mc,md)"
      ],
      "metadata": {
        "id": "QL414Ad-jEH6"
      },
      "execution_count": null,
      "outputs": []
    },
    {
      "cell_type": "code",
      "source": [
        "r_coef = 0.5\n",
        "old_r_term = np.multiply([0.25],1-r_coef)\n",
        "new_r_term = np.multiply([0.5],r_coef)\n",
        "rewards_d = np.add(old_r_term,new_r_term)\n",
        "rewards_d = np.clip(rewards_d,0,1)\n",
        "print(rewards_d)"
      ],
      "metadata": {
        "id": "Ad4V-DL820cS"
      },
      "execution_count": null,
      "outputs": []
    },
    {
      "cell_type": "markdown",
      "source": [
        "curr_percentages = self.socket_stats[:,:,1][t]/t\n",
        "mean_percentages = np.mean(curr_percentages)\n",
        "dif_percentages = np.subtract(mean_percentages,self.socket_stats[:,:,1][t]/t)\n",
        "\n",
        "mean_selections = np.mean(self.get_number_of_trials()[t])\n",
        "dif_selections = np.subtract(mean_selections,self.get_number_of_trials()[t])\n",
        "\n",
        "#DUES CONSTRAINTS, UNA PER PERCENTATGES, L'ALTRE n SELECTIONS\n",
        "//dif = dif_percentages #rang 10-30-50\n",
        "\n",
        "dif = dif_selections   #rang 0-0.01-0.1"
      ],
      "metadata": {
        "id": "zs58UXGgp_JC"
      }
    },
    {
      "cell_type": "code",
      "source": [
        "colors = plt.rcParams['axes.prop_cycle'].by_key()['color']\n",
        "print(colors)"
      ],
      "metadata": {
        "id": "T-SLXevc3ukv"
      },
      "execution_count": null,
      "outputs": []
    },
    {
      "cell_type": "code",
      "source": [
        "def plot_values(m, trend=False):\n",
        "  x = range(len(m))\n",
        "  for i in range(len(m[0])):\n",
        "    y = [m[j][i] for j in range(len(m))]\n",
        "    plt.plot(x, y)\n",
        "    if(trend):\n",
        "      z = np.polyfit(x, y, 1)\n",
        "      p = np.poly1d(z)\n",
        "      plt.plot(x, p(x), color = colors[i], linestyle=\"--\")\n",
        "  plt.show()"
      ],
      "metadata": {
        "id": "0xzBx4L9tuGb"
      },
      "execution_count": null,
      "outputs": []
    },
    {
      "cell_type": "code",
      "source": [
        "def plot_percen(m):\n",
        "  x = range(len(m))\n",
        "  y = np.array([m[j][0] for j in range(len(m))])\n",
        "  fig = plt.figure()\n",
        "  ax = fig.add_axes([0,0,1,1])\n",
        "  ax.bar(x,y)\n",
        "  Y = [y]\n",
        "  for i in range(1,len(m[0])):\n",
        "    ax.bar(x, [m[j][i] for j in range(len(m))], bottom=y)\n",
        "    y = np.add(y,np.array([m[j][i] for j in range(len(m))]))\n",
        "  plt.show()"
      ],
      "metadata": {
        "id": "H-AP1mHz7d9P"
      },
      "execution_count": null,
      "outputs": []
    },
    {
      "cell_type": "code",
      "source": [
        "def nonstatic_sol(iter, rewards_d_o_mu, r_coef, instances_d_o, i_coef, sub_opt):\n",
        "  rewards_d = np.array(rewards_d_o_mu)\n",
        "  instances_d = np.array(instances_d_o)\n",
        "\n",
        "  rewards_his = []\n",
        "  instances_hist = [] \n",
        "  percentages_hist = []\n",
        "  bias_hist = []\n",
        "\n",
        "  for i in range(iter):\n",
        "    pbool=False\n",
        "    #if(i%math.ceil(iter/4)==0 or i==iter-1):\n",
        "    if(i==0 or i==iter-1):\n",
        "        print(i)\n",
        "        pbool=True\n",
        "\n",
        "    if(i%math.ceil(iter/20)==0 or i==iter-1):\n",
        "      rewards_his.append(rewards_d)\n",
        "      instances_hist.append(instances_d)\n",
        "\n",
        "    updated_test = SocketTesterBatchSOLUTIONProb(PowerSocketProb, list(rewards_d), 10, sub_opt)\n",
        "    decisions = random.choices(range(8),weights=list(instances_d),k=1000)\n",
        "    rd = updated_test.run(decisions, 0.8, pbool)\n",
        "\n",
        "    #if(i%math.ceil(iter/25)==0 or i==iter-1):\n",
        "    percentages_hist.append(rd[\"percentages\"])\n",
        "\n",
        "    bias_hist.append([rd[\"bias_presence\"],rd[\"bias_rate\"],rd[\"bias_posteriors\"],rd[\"bias_rewards\"],rd[\"regret\"]])\n",
        "\n",
        "    r_update = rd[\"estimates\"]\n",
        "    i_update = rd[\"increments\"]\n",
        "\n",
        "    #aux_update = rd[\"app_rate\"]\n",
        "    #aux_term = np.add(np.divide(np.subtract(aux_update,r_update),rewards_d,out=np.zeros_like(r_update), where=r_update!=0),1)\n",
        "\n",
        "    old_r_term = np.multiply(rewards_d,1-r_coef)\n",
        "    new_r_term = np.multiply(np.multiply(r_update,i_update),r_coef) #ok\n",
        "    #new_r_term = np.multiply(np.multiply(rewards_d,i_update),r_coef) #mieh\n",
        "    #new_r_term = np.multiply(np.multiply(rewards_d,aux_term),r_coef) #convergeixen sempre perq approvals de 100 son frequents, es clar\n",
        "\n",
        "    rewards_d = np.add(old_r_term,new_r_term)\n",
        "    rewards_d = np.clip(rewards_d,0.001,0.999)\n",
        "\n",
        "    old_i_term = np.multiply(instances_d,1-i_coef)\n",
        "    new_i_term = np.multiply(np.multiply(instances_d,i_update),i_coef)\n",
        "    instances_d = np.add(old_i_term,new_i_term)\n",
        "    instances_d = np.clip(instances_d,0,None)\n",
        "    instances_d = instances_d / instances_d.sum()\n",
        "  \n",
        "  plot_values(instances_hist)\n",
        "  plot_values(rewards_his)\n",
        "  plot_percen(percentages_hist)\n",
        "  plot_values(bias_hist, True)\n",
        "  #return rewards_his, instances_hist"
      ],
      "metadata": {
        "id": "vE47_Xl7NixY"
      },
      "execution_count": null,
      "outputs": []
    },
    {
      "cell_type": "code",
      "source": [
        "test = [50,25,5,2,8,8,1,1]\n",
        "print(sum(test),len(test))"
      ],
      "metadata": {
        "id": "OpU3ic2zkqMu"
      },
      "execution_count": null,
      "outputs": []
    },
    {
      "cell_type": "code",
      "source": [
        "nonstatic_sol(100, rewards_nonbias, 0.0, instances_nonbias, 0.0, 0)"
      ],
      "metadata": {
        "id": "OBTmpyGHV5QV"
      },
      "execution_count": null,
      "outputs": []
    },
    {
      "cell_type": "code",
      "source": [
        "nonstatic_sol(100, rewards_nonbias, 0.0, instances_nonbias, 0.0, 0.99)"
      ],
      "metadata": {
        "id": "FCShYM7aV4id"
      },
      "execution_count": null,
      "outputs": []
    },
    {
      "cell_type": "code",
      "source": [
        "nonstatic_sol(100, rewards_bias, 0.0, instances_nonbias, 0.0, 0)"
      ],
      "metadata": {
        "id": "NEj4PRcM1Pg2"
      },
      "execution_count": null,
      "outputs": []
    },
    {
      "cell_type": "code",
      "source": [
        "nonstatic_sol(100, rewards_bias, 0.0, instances_nonbias, 0.0, 0.99)"
      ],
      "metadata": {
        "id": "db5bF14UyOqr"
      },
      "execution_count": null,
      "outputs": []
    },
    {
      "cell_type": "code",
      "source": [
        "nonstatic_sol(100, rewards_nonbias, 0.01, instances_nonbias, 0.1, 0)"
      ],
      "metadata": {
        "id": "scRNA37hRL-r"
      },
      "execution_count": null,
      "outputs": []
    },
    {
      "cell_type": "code",
      "source": [
        "nonstatic_sol(100, rewards_nonbias, 0.01, instances_nonbias, 0.1, 0.5)"
      ],
      "metadata": {
        "id": "l4d0cILDK99F"
      },
      "execution_count": null,
      "outputs": []
    },
    {
      "cell_type": "code",
      "source": [
        "nonstatic_sol(100, rewards_bias, 0.01, instances_bias, 0.1, 0)"
      ],
      "metadata": {
        "id": "D2dh5CWSFzex"
      },
      "execution_count": null,
      "outputs": []
    },
    {
      "cell_type": "code",
      "source": [
        "nonstatic_sol(100, rewards_bias, 0.01, instances_bias, 0.1, 0.25)"
      ],
      "metadata": {
        "id": "M5Lj3P8VTCxw"
      },
      "execution_count": null,
      "outputs": []
    },
    {
      "cell_type": "code",
      "source": [
        "nonstatic_sol(100, rewards_bias, 0.01, instances_bias, 0.1, 0.30)"
      ],
      "metadata": {
        "id": "-0cUjtSQJ0e_"
      },
      "execution_count": null,
      "outputs": []
    },
    {
      "cell_type": "code",
      "source": [
        "nonstatic_sol(100, rewards_bias, 0.01, instances_bias, 0.1, 0.35)"
      ],
      "metadata": {
        "id": "VRcpM6_wzFKx"
      },
      "execution_count": null,
      "outputs": []
    },
    {
      "cell_type": "code",
      "source": [
        "nonstatic_sol(100, rewards_bias, 0.01, instances_bias, 0.1, 0.40)"
      ],
      "metadata": {
        "id": "GRRDU6fPJrs5"
      },
      "execution_count": null,
      "outputs": []
    },
    {
      "cell_type": "code",
      "source": [
        "nonstatic_sol(100, rewards_bias, 0.01, instances_bias, 0.1, 0.5)"
      ],
      "metadata": {
        "id": "JylBL9uZvpyO"
      },
      "execution_count": null,
      "outputs": []
    },
    {
      "cell_type": "code",
      "source": [
        "nonstatic_sol(100, rewards_bias, 0.01, instances_bias, 0.1, 0.6)"
      ],
      "metadata": {
        "id": "uqqaDt9q-jqn"
      },
      "execution_count": null,
      "outputs": []
    },
    {
      "cell_type": "code",
      "source": [
        "nonstatic_sol(100, rewards_bias, 0.01, instances_bias, 0.1, 0.7)"
      ],
      "metadata": {
        "id": "otCXCLhG-kWs"
      },
      "execution_count": null,
      "outputs": []
    },
    {
      "cell_type": "code",
      "source": [
        "nonstatic_sol(100, rewards_bias, 0.01, instances_bias, 0.1, 0.8)"
      ],
      "metadata": {
        "id": "NP2LCMCQ-k2a"
      },
      "execution_count": null,
      "outputs": []
    },
    {
      "cell_type": "code",
      "source": [
        "nonstatic_sol(100, rewards_bias, 0.01, instances_bias, 0.1, 0.9)"
      ],
      "metadata": {
        "id": "P-jL-mRq-n3T"
      },
      "execution_count": null,
      "outputs": []
    },
    {
      "cell_type": "code",
      "source": [
        "def max_per_step(tr):\n",
        "  indexes = [0]*len(tr[0])\n",
        "  reward = 0\n",
        "  for i in range(len(tr[0])):\n",
        "    candidates = []\n",
        "    for j in range(len(tr)):\n",
        "      candidates.append(tr[j][indexes[j]])\n",
        "    max_i = random_argmax(candidates)\n",
        "    reward += tr[max_i][indexes[max_i]]\n",
        "    indexes[max_i]+=1\n",
        "    #print(max_i)\n",
        "  return reward*100"
      ],
      "metadata": {
        "id": "S38Qqn4u18Mi"
      },
      "execution_count": null,
      "outputs": []
    },
    {
      "cell_type": "code",
      "source": [
        "l = [[]]*2\n",
        "l[0].append(1)\n",
        "print(l)"
      ],
      "metadata": {
        "id": "wiwLLj8G9M89"
      },
      "execution_count": null,
      "outputs": []
    },
    {
      "cell_type": "code",
      "source": [
        "decisions = random.choices(range(8),weights=list(instances_bias),k=1000)\n",
        "#print(len(decisions))\n",
        "true_rewards = []\n",
        "for i in range(8):\n",
        "  true_rewards.append([])\n",
        "for d in decisions:\n",
        "  true_rewards[d].append(np.random.binomial(1,list(rewards_bias)[d]))\n",
        "  #print([len(true_rewards[j]) for j in range(len(true_rewards))])"
      ],
      "metadata": {
        "id": "rDTfet1e77qZ"
      },
      "execution_count": null,
      "outputs": []
    },
    {
      "cell_type": "code",
      "source": [
        "#max=0\n",
        "#for i in range(10):\n",
        "#  v = max_per_step(true_rewards)\n",
        "#  if v>max:\n",
        "#    max=v\n",
        "\n",
        "total=0\n",
        "for g in true_rewards:\n",
        "  #print(g)\n",
        "  total += sum(g)\n",
        "print(total*100)"
      ],
      "metadata": {
        "id": "Ixda40l35N5c"
      },
      "execution_count": null,
      "outputs": []
    },
    {
      "cell_type": "code",
      "source": [
        "def nonstatic_sol_true(iter, rewards_d_o_mu, r_coef, instances_d_o, i_coef, sub_opt):\n",
        "  rewards_d = np.array(rewards_d_o_mu)\n",
        "  instances_d = np.array(instances_d_o)\n",
        "\n",
        "  rewards_his = []\n",
        "  instances_hist = [] \n",
        "  percentages_hist = []\n",
        "  bias_hist = []\n",
        "\n",
        "  for i in range(iter):\n",
        "    pbool=False\n",
        "    #if(i%math.ceil(iter/4)==0 or i==iter-1):\n",
        "    if(i==0 or i==iter-1):\n",
        "        print(i)\n",
        "        pbool=True\n",
        "\n",
        "    if(i%math.ceil(iter/20)==0 or i==iter-1):\n",
        "      rewards_his.append(rewards_d)\n",
        "      instances_hist.append(instances_d)\n",
        "\n",
        "    decisions = random.choices(range(8),weights=list(instances_d),k=1000)\n",
        "    true_rewards = [[]]*8\n",
        "    for d in decisions:\n",
        "      true_rewards[d].append(np.random.binomial(1,list(rewards_d)[d]))\n",
        "\n",
        "    updated_test = SocketTesterBatchSOLUTIONProb(PowerSocketTrue, true_rewards, 10, sub_opt)\n",
        "    rd = updated_test.run(decisions, 0.8, pbool)\n",
        "\n",
        "    #if(i%math.ceil(iter/25)==0 or i==iter-1):\n",
        "    percentages_hist.append(rd[\"percentages\"])\n",
        "\n",
        "    bias_hist.append([rd[\"bias_presence\"],rd[\"bias_rate\"],rd[\"bias_posteriors\"]])\n",
        "\n",
        "    r_update = rd[\"estimates\"]\n",
        "    i_update = rd[\"increments\"]\n",
        "    \n",
        "    old_r_term = np.multiply(rewards_d,1-r_coef)\n",
        "    #new_r_term = np.multiply(r_update,r_coef)\n",
        "    new_r_term = np.multiply(np.multiply(r_update,i_update),r_coef)\n",
        "    rewards_d = np.add(old_r_term,new_r_term)\n",
        "    rewards_d = np.clip(rewards_d,0,0.99)\n",
        "\n",
        "    old_i_term = np.multiply(instances_d,1-i_coef)\n",
        "    new_i_term = np.multiply(np.multiply(instances_d,i_update),i_coef)\n",
        "    instances_d = np.add(old_i_term,new_i_term)\n",
        "    instances_d = np.clip(instances_d,0,None)\n",
        "    instances_d = instances_d / instances_d.sum()\n",
        "  \n",
        "  plot_values(instances_hist)\n",
        "  plot_values(rewards_his)\n",
        "  plot_percen(percentages_hist)\n",
        "  plot_values(bias_hist, True)\n",
        "  #return rewards_his, instances_hist"
      ],
      "metadata": {
        "id": "xN3PeD6F1oQ9"
      },
      "execution_count": null,
      "outputs": []
    },
    {
      "cell_type": "code",
      "source": [
        "variances = [10]*8\n",
        "##(5000 per iter)\n",
        "nonstatic_sol(1000, rewards_bias, 0.02, instances_bias, 0.02, 0.1, variances)"
      ],
      "metadata": {
        "id": "SAQmQ6vjii8u"
      },
      "execution_count": null,
      "outputs": []
    },
    {
      "cell_type": "code",
      "source": [
        "variances = [10]*8\n",
        "nonstatic_sol(1000, rewards_bias, 0.04, instances_bias, 0.04, 100, variances)"
      ],
      "metadata": {
        "id": "OqxfJ3T_QfW7"
      },
      "execution_count": null,
      "outputs": []
    },
    {
      "cell_type": "code",
      "source": [
        "from sklearn.preprocessing import MinMaxScaler\n",
        "from sklearn.linear_model import LogisticRegression\n",
        "from sklearn.model_selection import cross_validate\n",
        "import pandas as pd\n",
        "import numpy as np\n",
        "\n",
        "from google.colab import drive # import drive from google colab\n",
        "\n",
        "ROOT = \"/content/drive\"     # default location for the drive\n",
        "print(ROOT)                 # print content of ROOT (Optional)\n",
        "drive.mount(ROOT)\n",
        "\n",
        "unpickled_df = pd.read_csv(\"/content/drive/MyDrive/TFG/hmda/state_AL-GA_actions_taken_1-3.csv\")\n",
        "print(unpickled_df.derived_sex.unique(),'\\n',\n",
        "unpickled_df.derived_race.unique(),'\\n',\n",
        "unpickled_df.derived_ethnicity.unique(),'\\n',\n",
        "unpickled_df.action_taken.unique())\n",
        "\n",
        "subsample = unpickled_df                    \n",
        "\n",
        "print(len(subsample.loc[subsample[\"action_taken\"]==1]),len(subsample.loc[subsample[\"action_taken\"]==3]))\n",
        "subsample = subsample.loc[subsample[\"action_taken\"].isin([1,3])]\n",
        "subsample[\"action_taken\"] = subsample[\"action_taken\"].replace([3],[0])    \n",
        "print(\"action:\",subsample[\"action_taken\"].unique())\n",
        "print(len(subsample.loc[subsample[\"action_taken\"]==1]),len(subsample.loc[subsample[\"action_taken\"]==0]))\n",
        "\n",
        "print(\"race pre:\",subsample[\"derived_race\"].unique())\n",
        "subsample = subsample.loc[subsample[\"derived_race\"].isin([\"White\",\"Black or African American\"])]\n",
        "subsample[\"derived_race\"] = subsample[\"derived_race\"].replace([\"White\",\"Black or African American\"],[0,1])\n",
        "print(\"race:\",subsample[\"derived_race\"].unique())\n",
        "\n",
        "print(\"ethnicity pre:\",subsample[\"derived_ethnicity\"].unique())\n",
        "subsample = subsample.loc[subsample[\"derived_ethnicity\"].isin(['Not Hispanic or Latino','Hispanic or Latino'])]\n",
        "subsample[\"derived_ethnicity\"] = subsample[\"derived_ethnicity\"].replace(['Not Hispanic or Latino','Hispanic or Latino'],[0,1])\n",
        "print(\"ethnicity:\",subsample[\"derived_ethnicity\"].unique())\n",
        "\n",
        "print(\"sex pre\",subsample[\"derived_sex\"].unique())\n",
        "subsample = subsample.loc[subsample[\"derived_sex\"].isin(['Male','Female'])]\n",
        "subsample[\"derived_sex\"] = subsample[\"derived_sex\"].replace(['Male','Female'],[0,1])\n",
        "print(\"sex:\",subsample[\"derived_sex\"].unique())\n",
        "\n",
        "\n",
        "subsample = subsample.loc[subsample[\"interest_rate\"]!='Exempt']\n",
        "subsample[\"interest_rate\"] = pd.to_numeric(subsample[\"interest_rate\"] ) \n",
        "\n",
        "#print(len(subsample.loc[subsample[\"loan_to_value_ratio\"]=='Exempt']))\n",
        "subsample = subsample.loc[subsample[\"loan_to_value_ratio\"]!='Exempt']\n",
        "#print(len(subsample.loc[subsample[\"loan_to_value_ratio\"]=='Exempt']))\n",
        "#print(subsample[\"loan_to_value_ratio\"])\n",
        "subsample[\"loan_to_value_ratio\"] = pd.to_numeric(subsample[\"loan_to_value_ratio\"] )  \n",
        "#print(subsample[\"loan_to_value_ratio\"].mean())\n",
        "\n",
        "subsample = subsample.loc[subsample[\"property_value\"]!='Exempt']\n",
        "subsample[\"property_value\"] = pd.to_numeric(subsample[\"property_value\"] ) \n",
        "\n",
        "print(len(subsample.loc[subsample[\"action_taken\"]==1]),len(subsample.loc[subsample[\"action_taken\"]==0]))\n",
        "\n",
        "print(len(subsample))\n",
        "#subsample = subsample[[\"loan_type\", \"property_type\", \"loan_purpose\", \"loan_amount_000s\",\n",
        "#                            \"action_taken\",\"applicant_ethnicity\",\"applicant_race_1\",\"applicant_sex\",\n",
        "#                           \"applicant_income_000s\"]]\n",
        "print(len(subsample.loc[subsample[\"action_taken\"]==1]),len(subsample.loc[subsample[\"action_taken\"]==0]))\n",
        "print(len(subsample),len(subsample.columns),subsample.isnull().values.sum())\n",
        "\n",
        "#thr=0.25\n",
        "#for col in subsample.columns:\n",
        "#  if (subsample[col].isnull().sum()>thr*len(subsample)):\n",
        "    #subsample.drop(columns=[col])\n",
        "#    print(col)\n",
        "\n",
        "#subsample = subsample.dropna(axis=1,thresh=thr*len(subsample))\n",
        "#subsample = subsample.dropna(axis=0)\n",
        "\n",
        "# Iterate over each column of cc_apps\n",
        "for col in subsample.columns:\n",
        "    # Check if the column is of object type\n",
        "    if subsample[col].dtypes == 'object':\n",
        "        # Impute with the most frequent value\n",
        "        subsample = subsample.fillna(subsample[col].value_counts().index[0])\n",
        "\n",
        "\n",
        "print(len(subsample.loc[subsample[\"action_taken\"]==1]),len(subsample.loc[subsample[\"action_taken\"]==0]))\n",
        "\n",
        "# Count the number of NaNs in the dataset and print the counts to verify\n",
        "print(len(subsample),len(subsample.columns),subsample.isnull().values.sum())\n",
        "cols = [f_ for f_ in subsample.columns if subsample[f_].dtype != 'object']\n",
        "features = cols\n",
        "\n",
        "list_to_remove = ['action_taken','purchaser_type', 'activity_year',\n",
        "                  'denial_reason_1','denial_reason_2','denial_reason_3','sequence_number','application_date_indicator']\n",
        "\n",
        "features = list(set(cols).difference(set(list_to_remove)))\n",
        "\n",
        "X = subsample[features]\n",
        "y = subsample['action_taken']\n",
        "\n",
        "# Import train_test_split\n",
        "from sklearn.model_selection import train_test_split\n",
        "# Split into train and test sets\n",
        "X_train, X_test, y_train, y_test = train_test_split(X,\n",
        "                                y,\n",
        "                                test_size=0.3,\n",
        "                                random_state=2)\n",
        "\n",
        "X_test1, X_test2, y_test1, y_test2 = train_test_split(X_test,\n",
        "                                y_test,\n",
        "                                test_size=0.33,\n",
        "                                random_state=2)\n",
        "\n",
        "scaler = MinMaxScaler(feature_range=(0, 1))\n",
        "rescaledX = scaler.fit_transform(X)\n",
        "rescaledX_train = scaler.fit_transform(X_train)\n",
        "rescaledX_test = scaler.fit_transform(X_test)\n",
        "rescaledX_test1 = scaler.fit_transform(X_test1)\n",
        "rescaledX_test2 = scaler.fit_transform(X_test2)\n",
        "\n",
        "logreg = LogisticRegression(solver=\"liblinear\")\n",
        "\n",
        "scores_dict = cross_validate(logreg,rescaledX_train,y_train,cv=5, return_estimator=True)\n",
        "best = scores_dict[\"estimator\"][0] \n",
        "\n",
        "\n",
        "y_pred = best.predict(rescaledX_test1)\n",
        "from collections import Counter\n",
        "counterpred = Counter(y_pred)\n",
        "countertest = Counter(y_test1)\n",
        "counterall = Counter(y)\n",
        "print(counterpred, countertest, counterall)\n",
        "print(\"Accuracy of logistic regression classifier: \", best.score(rescaledX_test1, y_test1))\n",
        "\n",
        "\n",
        "y_pred = best.predict(rescaledX_test2)\n",
        "counterpred = Counter(y_pred)\n",
        "countertest = Counter(y_test2)\n",
        "counterall = Counter(y)\n",
        "print(counterpred, countertest, counterall)\n",
        "print(\"Accuracy of logistic regression classifier: \", best.score(rescaledX_test2, y_test2))"
      ],
      "metadata": {
        "id": "emXzrJo7lyEp"
      },
      "execution_count": null,
      "outputs": []
    },
    {
      "cell_type": "code",
      "source": [
        "import math\n",
        "def partitions(n_partitions, X, y):\n",
        "  X_partitions = []\n",
        "  y_partitions = []\n",
        "  size_partitions = math.floor(len(X)/n_partitions)\n",
        "  for p in range(n_partitions):\n",
        "    X_partitions.append(X[p*size_partitions:(p+1)*size_partitions])  \n",
        "    y_partitions.append(y[p*size_partitions:(p+1)*size_partitions])\n",
        "  print(len(X), [sum(len(item) for item in X_partitions)], len(X_partitions[0]))\n",
        "  return X_partitions, y_partitions"
      ],
      "metadata": {
        "id": "IegTn5iooJed"
      },
      "execution_count": null,
      "outputs": []
    },
    {
      "cell_type": "code",
      "source": [
        "def create_df(x,xcol,y,ycol):\n",
        "  auxnparray = x.copy()\n",
        "  newdf = pd.DataFrame(auxnparray, columns = xcol)\n",
        "  newdf[ycol] = y.tolist()\n",
        "  return newdf"
      ],
      "metadata": {
        "id": "GPo_JbYdq8Nj"
      },
      "execution_count": null,
      "outputs": []
    },
    {
      "cell_type": "code",
      "source": [
        "def preproc(df):\n",
        "  subgroups = []\n",
        "  instances = []\n",
        "  sensitive = [\"derived_race\",\"derived_ethnicity\",\"derived_sex\"]\n",
        "  R = [\"W\",\"B\"]\n",
        "  E = [\"NH\",\"H\"]\n",
        "  S = [\"M\",\"F\"]\n",
        "  for option in [0,1]:\n",
        "    for option2 in [0,1]:\n",
        "      for option3 in [0,1]:\n",
        "          subgroups.append(df.loc[((df[sensitive[0]]==option) & (df[sensitive[1]]==option2) & (df[sensitive[2]]==option3))])\n",
        "          instances.append(len(subgroups[-1]))\n",
        "  return subgroups, instances"
      ],
      "metadata": {
        "id": "j4BpXFOGokwJ"
      },
      "execution_count": null,
      "outputs": []
    },
    {
      "cell_type": "code",
      "source": [
        "from scipy.stats import norm\n",
        "\n",
        "df = create_df(X,features,y,\"action_taken\")\n",
        "\n",
        "mean1, std1 = norm.fit(df.loc[df[\"action_taken\"]==1.0][\"loan_amount\"])\n",
        "\n",
        "mean0, std0 = norm.fit(df.loc[df[\"action_taken\"]==0.0][\"loan_amount\"])\n",
        "\n",
        "print(mean1, std1)\n",
        "print(mean0, std0)\n",
        "print()\n",
        "sg, ic = preproc(df)\n",
        "for s in sg:\n",
        "  approval_rate = len(s.loc[s[\"action_taken\"]==1.0])/len(s)\n",
        "  print(approval_rate)\n",
        "  mu, std = norm.fit(s[\"loan_amount\"])\n",
        "  print(mu,std)"
      ],
      "metadata": {
        "id": "esjQP1U8r8QN"
      },
      "execution_count": null,
      "outputs": []
    },
    {
      "cell_type": "code",
      "source": [
        "class PowerSocketReal:\n",
        "    \"\"\" the base power socket class \"\"\"\n",
        "    \n",
        "    def __init__(self, q, cl, var=1):                \n",
        "        self.q = q        # the true reward value \n",
        "        self.confidence_level = cl          \n",
        "        self.var = var   \n",
        "        self.initialize() # reset the socket\n",
        "        \n",
        "    def initialize(self):\n",
        "        self.Q = 0   # the estimate of this socket's reward value                \n",
        "        self.n = 0   # the number of times this socket has been tried        \n",
        "    \n",
        "    def charge(self):\n",
        "        \"\"\" return a random amount of charge \"\"\"\n",
        "        \n",
        "        # the reward is a guassian distribution with unit variance around the true\n",
        "        # value 'q'\n",
        "        # value = self.var * np.random.randn() + self.q      \n",
        "\n",
        "        #value = self.q.iloc[self.n][\"action_taken\"]\n",
        "\n",
        "        #value = self.q[\"action_taken\"].sample(n=1).iloc[0]\n",
        "\n",
        "        sample = self.q.sample(n=1)\n",
        "        if (sample[\"action_taken\"].iloc[0]==1.0):\n",
        "          value = sample[\"loan_amount\"].iloc[0]\n",
        "        else:\n",
        "          value = 0.0\n",
        "\n",
        "        # never allow a charge less than 0 to be returned        \n",
        "        return 0 if value < 0 else value\n",
        "               \n",
        "    def update(self,R):\n",
        "        \"\"\" update this socket after it has returned reward value 'R' \"\"\"     \n",
        "    \n",
        "        # increment the number of times this socket has been tried\n",
        "        self.n += 1\n",
        "\n",
        "        # the new estimate of the mean is calculated from the old estimate\n",
        "        self.Q = (1 - 1.0/self.n) * self.Q + (1.0/self.n) * R\n",
        "\n",
        "    def uncertainty(self, t): \n",
        "        \"\"\" calculate the uncertainty in the estimate of this socket's mean \"\"\"\n",
        "        if self.n == 0: return float('inf')                         \n",
        "        return self.confidence_level * (np.sqrt(np.log(t) / self.n))         \n",
        "        \n",
        "    def sample(self,t):\n",
        "        \"\"\" the UCB reward is the estimate of the mean reward plus its uncertainty \"\"\"\n",
        "        return self.Q + self.uncertainty(t) "
      ],
      "metadata": {
        "id": "Ae_OU1CKwcAH"
      },
      "execution_count": null,
      "outputs": []
    },
    {
      "cell_type": "code",
      "source": [
        "class SocketTesterBatchReal():\n",
        "    \"\"\" create and test a set of sockets over a single test run \"\"\"\n",
        "\n",
        "    def __init__(self, socket, socket_order, confidence_level):  \n",
        "        \n",
        "        # create supplied socket type with a mean value defined by socket order \n",
        "        self.sockets = [socket(q, confidence_level) for q in socket_order]     \n",
        "        \n",
        "        # set the number of sockets equal to the number created\n",
        "        self.number_of_sockets = len(self.sockets)\n",
        "\n",
        "        self.number_of_stats = 2                 \n",
        "            \n",
        "    def initialize_run(self, number_of_steps):\n",
        "        \"\"\" reset counters at the start of a run \"\"\"\n",
        "        \n",
        "        # save the number of steps over which the run will take place\n",
        "        self.number_of_steps = number_of_steps\n",
        "        \n",
        "        # reset the actual number of steps that the test ran for\n",
        "        self.total_steps = 0\n",
        "        \n",
        "        # monitor the total reward obtained over the run\n",
        "        self.total_reward = 0\n",
        "        \n",
        "        # the current total reward at each timestep of the run\n",
        "        self.total_reward_per_timestep = []\n",
        "        \n",
        "        # the actual reward obtained at each timestep\n",
        "        self.reward_per_timestep = []\n",
        "           \n",
        "        # stats for each time-step\n",
        "        # - by default records: estimate, number of trials\n",
        "        self.socket_stats = np.zeros(shape=(number_of_steps+1, \n",
        "                                            self.number_of_sockets, \n",
        "                                            self.number_of_stats))\n",
        "        \n",
        "        # ensure that all sockets are re-initialized\n",
        "        for socket in self.sockets: socket.initialize()\n",
        "            \n",
        "                                \n",
        "    def charge_and_update(self,socket_index):\n",
        "        \"\"\" charge from & update the specified socket and associated parameters \"\"\"\n",
        "        \n",
        "        # charge from the chosen socket and update its mean reward value\n",
        "        reward = self.sockets[socket_index].charge()\n",
        "        self.sockets[socket_index].update(reward)\n",
        "\n",
        "        # update the total reward\n",
        "        self.total_reward += reward   \n",
        "        \n",
        "        # store the current total reward at this timestep\n",
        "        self.total_reward_per_timestep.append(self.total_reward)\n",
        "        \n",
        "        # store the reward obtained at this timestep\n",
        "        self.reward_per_timestep.append(reward)        \n",
        "        \n",
        "        \n",
        "    def get_socket_stats( self, t ):\n",
        "        \"\"\" get the current information from each socket \"\"\"        \n",
        "        socket_stats = [[socket.Q, socket.n] for socket in self.sockets]\n",
        "        return socket_stats     \n",
        "    \n",
        "    def get_mean_reward( self ):\n",
        "        \"\"\" the total reward averaged over the number of time steps \"\"\"\n",
        "        return (self.total_reward/self.total_steps)\n",
        "    \n",
        "    def get_total_reward_per_timestep( self ):\n",
        "        \"\"\" the cumulative total reward at each timestep of the run \"\"\"\n",
        "        return self.total_reward_per_timestep\n",
        "    \n",
        "    def get_reward_per_timestep( self ):\n",
        "        \"\"\" the actual reward obtained at each timestep of the run \"\"\"\n",
        "        return self.reward_per_timestep\n",
        "    \n",
        "    def get_estimates(self):\n",
        "        \"\"\" get the estimate of each socket's reward at each timestep of the run \"\"\"\n",
        "        return self.socket_stats[:,:,0]  \n",
        "    \n",
        "    def get_number_of_trials(self):\n",
        "        \"\"\" get the number of trials of each socket at each timestep of the run \"\"\"\n",
        "        return self.socket_stats[:,:,1]          \n",
        "                \n",
        "    def get_socket_percentages( self ):\n",
        "        \"\"\" get the percentage of times each socket was tried over the run \"\"\"\n",
        "        return (self.socket_stats[:,:,1][self.total_steps]/self.total_steps)        \n",
        "    \n",
        "    def get_time_steps( self ):\n",
        "        \"\"\" get the number of time steps that the test ran for \"\"\"\n",
        "        return self.total_steps\n",
        "    \n",
        "    def select_socket( self, t ):\n",
        "        \"\"\" Greedy Socket Selection\"\"\"\n",
        "        \n",
        "        # choose the socket with the current highest mean reward or arbitrarily\n",
        "        # select a socket in the case of a tie            \n",
        "        mask = [self.get_number_of_trials()[t][i]<self.possibles[i] for i in range(len(self.sockets))]\n",
        "        #print(mask)\n",
        "        available = [self.sockets[i] for i in range(len(self.sockets)) if (mask[i])]\n",
        "        #print([socket.sample(t+1) for socket in available])\n",
        "        socket_max = random_argmax([socket.sample(t+1) for socket in available]) \n",
        "        #print(socket_max)\n",
        "        socket_index = self.sockets.index(available[socket_max])\n",
        "        return socket_index     \n",
        "    \n",
        "    def return_increments(self, decisions_to_consider):\n",
        "        presence = np.array([i/len(decisions_to_consider) for i in self.possibles])\n",
        "        selected_presence = np.array(self.get_socket_percentages())\n",
        "        diff = np.subtract(selected_presence, presence)\n",
        "        #print(diff)\n",
        "        #print(diff.sum())\n",
        "        return diff\n",
        "    \n",
        "    def run( self, decisions_to_consider, class_count, max_percent_decisions=1, prints_bool = True):  \n",
        "        \"\"\" perform a single run, over the set of sockets, \n",
        "            for the defined number of steps \"\"\"\n",
        "        \n",
        "        for s in range(len(self.sockets)):\n",
        "          self.sockets[s].q = decisions_to_consider[s]     \n",
        "\n",
        "        # reset the run counters\n",
        "        self.initialize_run(sum(class_count))\n",
        "\n",
        "        self.possibles = class_count\n",
        "        print(self.possibles)\n",
        "\n",
        "        usos = 0\n",
        "        usos_maxims = math.floor(max_percent_decisions*sum(class_count))\n",
        "        #print(usos_maxims)\n",
        "\n",
        "        # loop for the specified number of time-steps\n",
        "        for t in range(sum(class_count)):\n",
        "\n",
        "            # get information about all sockets at the start of the time step\n",
        "            self.socket_stats[t] = self.get_socket_stats(t)            \n",
        "            \n",
        "            # select a socket\n",
        "            socket_index = self.select_socket(t)\n",
        "            #if(decisions_to_consider[t]==socket_index):\n",
        "            if(self.get_number_of_trials()[t][socket_index]<self.possibles[socket_index]):\n",
        "              # charge from the chosen socket and update its mean reward value\n",
        "              self.charge_and_update(socket_index)\n",
        "              usos+=1\n",
        "              \n",
        "              if usos > usos_maxims:\n",
        "                  #print(usos,usos_maxims)\n",
        "                  break\n",
        "        # save the actual number of steps that have been run\n",
        "        self.total_steps = t    \n",
        "    \n",
        "        # get the stats for each socket at the end of the run        \n",
        "        self.socket_stats[t+1] = self.get_socket_stats(t+1)           \n",
        "        \n",
        "        if(prints_bool):\n",
        "          #print(\"Reward distribution:\",[s.q for s in self.sockets])\n",
        "          #print(\"Intances of each cluster:\",self.possibles)\n",
        "          print(\"Presence of each in batch (%):\",[100*i/sum(class_count) for i in self.possibles])\n",
        "          #print(\"Times selected:\",self.get_number_of_trials()[t])\n",
        "          print(\"Relative approval rate (%):\",[round(100*self.get_number_of_trials()[t][i]/self.possibles[i],2) if self.possibles[i]>0.0 else 0.0 for i in range(len(self.possibles))])\n",
        "          print(\"Percentage over total selected (%):\",[round(100*p,2) for p in self.get_socket_percentages()])\n",
        "          #print(\"For a total reward:\",self.total_reward)\n",
        "\n",
        "\n",
        "        return self.total_steps, self.total_reward, self.return_increments(decisions_to_consider)"
      ],
      "metadata": {
        "id": "xXijNePRwjld"
      },
      "execution_count": null,
      "outputs": []
    },
    {
      "cell_type": "code",
      "source": [
        "class SocketTesterBatchRealBudget():\n",
        "    \"\"\" create and test a set of sockets over a single test run \"\"\"\n",
        "\n",
        "    def __init__(self, socket, socket_order, confidence_level):  \n",
        "        \n",
        "        # create supplied socket type with a mean value defined by socket order \n",
        "        self.sockets = [socket(q, confidence_level) for q in socket_order]     \n",
        "        \n",
        "        # set the number of sockets equal to the number created\n",
        "        self.number_of_sockets = len(self.sockets)\n",
        "\n",
        "        self.number_of_stats = 2                 \n",
        "            \n",
        "    def initialize_run(self, number_of_steps):\n",
        "        \"\"\" reset counters at the start of a run \"\"\"\n",
        "        \n",
        "        # save the number of steps over which the run will take place\n",
        "        self.number_of_steps = number_of_steps\n",
        "        \n",
        "        # reset the actual number of steps that the test ran for\n",
        "        self.total_steps = 0\n",
        "        \n",
        "        # monitor the total reward obtained over the run\n",
        "        self.total_reward = 0\n",
        "        \n",
        "        # the current total reward at each timestep of the run\n",
        "        self.total_reward_per_timestep = []\n",
        "        \n",
        "        # the actual reward obtained at each timestep\n",
        "        self.reward_per_timestep = []\n",
        "           \n",
        "        # stats for each time-step\n",
        "        # - by default records: estimate, number of trials\n",
        "        self.socket_stats = np.zeros(shape=(number_of_steps+1, \n",
        "                                            self.number_of_sockets, \n",
        "                                            self.number_of_stats))\n",
        "        \n",
        "        # ensure that all sockets are re-initialized\n",
        "        for socket in self.sockets: socket.initialize()\n",
        "            \n",
        "                                \n",
        "    def charge_and_update(self,socket_index):\n",
        "        \"\"\" charge from & update the specified socket and associated parameters \"\"\"\n",
        "        \n",
        "        # charge from the chosen socket and update its mean reward value\n",
        "        reward = self.sockets[socket_index].charge()\n",
        "        self.sockets[socket_index].update(reward)\n",
        "\n",
        "        # update the total reward\n",
        "        self.total_reward += reward  \n",
        "        self.budget -= reward \n",
        "        \n",
        "        # store the current total reward at this timestep\n",
        "        self.total_reward_per_timestep.append(self.total_reward)\n",
        "        \n",
        "        # store the reward obtained at this timestep\n",
        "        self.reward_per_timestep.append(reward)        \n",
        "        \n",
        "        \n",
        "    def get_socket_stats( self, t ):\n",
        "        \"\"\" get the current information from each socket \"\"\"        \n",
        "        socket_stats = [[socket.Q, socket.n] for socket in self.sockets]\n",
        "        return socket_stats     \n",
        "    \n",
        "    def get_mean_reward( self ):\n",
        "        \"\"\" the total reward averaged over the number of time steps \"\"\"\n",
        "        return (self.total_reward/self.total_steps)\n",
        "    \n",
        "    def get_total_reward_per_timestep( self ):\n",
        "        \"\"\" the cumulative total reward at each timestep of the run \"\"\"\n",
        "        return self.total_reward_per_timestep\n",
        "    \n",
        "    def get_reward_per_timestep( self ):\n",
        "        \"\"\" the actual reward obtained at each timestep of the run \"\"\"\n",
        "        return self.reward_per_timestep\n",
        "    \n",
        "    def get_estimates(self):\n",
        "        \"\"\" get the estimate of each socket's reward at each timestep of the run \"\"\"\n",
        "        return self.socket_stats[:,:,0]  \n",
        "    \n",
        "    def get_number_of_trials(self):\n",
        "        \"\"\" get the number of trials of each socket at each timestep of the run \"\"\"\n",
        "        return self.socket_stats[:,:,1]          \n",
        "                \n",
        "    def get_socket_percentages( self ):\n",
        "        \"\"\" get the percentage of times each socket was tried over the run \"\"\"\n",
        "        return (self.socket_stats[:,:,1][self.total_steps]/self.total_steps)        \n",
        "    \n",
        "    def get_time_steps( self ):\n",
        "        \"\"\" get the number of time steps that the test ran for \"\"\"\n",
        "        return self.total_steps\n",
        "    \n",
        "    def select_socket( self, t ):\n",
        "        \"\"\" Greedy Socket Selection\"\"\"\n",
        "        \n",
        "        # choose the socket with the current highest mean reward or arbitrarily\n",
        "        # select a socket in the case of a tie            \n",
        "        mask = [self.get_number_of_trials()[t][i]<self.possibles[i] for i in range(len(self.sockets))]\n",
        "        #print(mask)\n",
        "        available = [self.sockets[i] for i in range(len(self.sockets)) if (mask[i])]\n",
        "        #print([socket.sample(t+1) for socket in available])\n",
        "        socket_max = random_argmax([socket.sample(t+1) for socket in available]) \n",
        "        #print(socket_max)\n",
        "        socket_index = self.sockets.index(available[socket_max])\n",
        "        return socket_index     \n",
        "    \n",
        "    def return_increments(self, decisions_to_consider):\n",
        "        presence = np.array([i/len(decisions_to_consider) for i in self.possibles])\n",
        "        selected_presence = np.array(self.get_socket_percentages())\n",
        "        diff = np.subtract(selected_presence, presence)\n",
        "        #print(diff)\n",
        "        #print(diff.sum())\n",
        "        return diff\n",
        "    \n",
        "    def run( self, decisions_to_consider, class_count, budget, prints_bool = True):  \n",
        "        \"\"\" perform a single run, over the set of sockets, \n",
        "            for the defined number of steps \"\"\"\n",
        "        \n",
        "        for s in range(len(self.sockets)):\n",
        "          self.sockets[s].q = decisions_to_consider[s]     \n",
        "\n",
        "        # reset the run counters\n",
        "        self.initialize_run(sum(class_count))\n",
        "\n",
        "        self.possibles = class_count\n",
        "        print(self.possibles)\n",
        "\n",
        "        usos = 0\n",
        "        self.budget = budget\n",
        "        #print(usos_maxims)\n",
        "\n",
        "        # loop for the specified number of time-steps\n",
        "        for t in range(sum(class_count)):\n",
        "\n",
        "            # get information about all sockets at the start of the time step\n",
        "            self.socket_stats[t] = self.get_socket_stats(t)            \n",
        "            \n",
        "            # select a socket\n",
        "            socket_index = self.select_socket(t)\n",
        "            #if(decisions_to_consider[t]==socket_index):\n",
        "            if(self.get_number_of_trials()[t][socket_index]<self.possibles[socket_index]):\n",
        "              # charge from the chosen socket and update its mean reward value\n",
        "              self.charge_and_update(socket_index)\n",
        "              usos+=1\n",
        "            if self.budget-max(self.get_estimates()[t]) < 0:\n",
        "              break\n",
        "        # save the actual number of steps that have been run\n",
        "        self.total_steps = t    \n",
        "    \n",
        "        # get the stats for each socket at the end of the run        \n",
        "        self.socket_stats[t+1] = self.get_socket_stats(t+1)           \n",
        "        \n",
        "        if(prints_bool):\n",
        "          #print(\"Reward distribution:\",[s.q for s in self.sockets])\n",
        "          #print(\"Intances of each cluster:\",self.possibles)\n",
        "          print(\"Presence of each in batch (%):\",[100*i/sum(class_count) for i in self.possibles])\n",
        "          #print(\"Times selected:\",self.get_number_of_trials()[t])\n",
        "          print(\"Relative approval rate (%):\",[round(100*self.get_number_of_trials()[t][i]/self.possibles[i],2) if self.possibles[i]>0.0 else 0.0 for i in range(len(self.possibles))])\n",
        "          print(\"Percentage over total selected (%):\",[round(100*p,2) for p in self.get_socket_percentages()])\n",
        "          #print(\"For a total reward:\",self.total_reward)\n",
        "\n",
        "\n",
        "        return self.total_steps, self.total_reward, self.return_increments(decisions_to_consider)"
      ],
      "metadata": {
        "id": "Z96JhtTu457M"
      },
      "execution_count": null,
      "outputs": []
    },
    {
      "cell_type": "code",
      "source": [
        "real_test = SocketTesterBatchReal(PowerSocketReal, [[0]]*8, 5)\n",
        "print(real_test.sockets)\n",
        "\n",
        "\n",
        "X_p, y_p = partitions(4,X,y)\n",
        "for b in range(4):\n",
        "  batch = create_df(X_p[b],features,y_p[b],\"action_taken\")\n",
        "  sg, ic = preproc(batch)\n",
        "  ts,tr,ti = real_test.run(sg, ic, 0.8, True)"
      ],
      "metadata": {
        "id": "iorlUCPu6bVC"
      },
      "execution_count": null,
      "outputs": []
    },
    {
      "cell_type": "code",
      "source": [
        "real_test = SocketTesterBatchRealBudget(PowerSocketReal, [[0]]*8, 5)\n",
        "print(real_test.sockets)\n",
        "\n",
        "\n",
        "X_p, y_p = partitions(10,X,y)\n",
        "for b in range(10):\n",
        "  batch = create_df(X_p[b],features,y_p[b],\"action_taken\")\n",
        "  budget = batch[\"loan_amount\"].sum()\n",
        "  sg, ic = preproc(batch)\n",
        "  ts,tr,ti = real_test.run(sg, ic, 0.8*budget, True)"
      ],
      "metadata": {
        "id": "SlZlmElzzZbA"
      },
      "execution_count": null,
      "outputs": []
    },
    {
      "cell_type": "code",
      "source": [
        "real_test = SocketTesterBatchRealBudget(PowerSocketReal, [[0]]*8, 5)\n",
        "print(real_test.sockets)\n",
        "\n",
        "\n",
        "X_p, y_p = partitions(1,X,y)\n",
        "for b in range(1):\n",
        "  batch = create_df(X_p[b],features,y_p[b],\"action_taken\")\n",
        "  #budget = batch[\"loan_amount\"].sum()\n",
        "  budget=0\n",
        "  sg, ic = preproc(batch)\n",
        "  min_amount = min(ic)\n",
        "  for s in range(len(sg)):\n",
        "    sg[s] = sg[s].sample(n=min_amount)\n",
        "    budget += sg[s][\"loan_amount\"].sum()\n",
        "  ts,tr,ti = real_test.run(sg, [min_amount]*8, 0.8*budget, True)"
      ],
      "metadata": {
        "id": "b-DTTM7J_0Eh"
      },
      "execution_count": null,
      "outputs": []
    }
  ]
}