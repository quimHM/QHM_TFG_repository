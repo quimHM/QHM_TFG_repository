{
  "nbformat": 4,
  "nbformat_minor": 0,
  "metadata": {
    "kernelspec": {
      "display_name": "Python 3",
      "language": "python",
      "name": "python3"
    },
    "language_info": {
      "codemirror_mode": {
        "name": "ipython",
        "version": 3
      },
      "file_extension": ".py",
      "mimetype": "text/x-python",
      "name": "python",
      "nbconvert_exporter": "python",
      "pygments_lexer": "ipython3",
      "version": "3.7.6"
    },
    "colab": {
      "name": "TFG_devel.ipynb",
      "provenance": [],
      "collapsed_sections": [],
      "include_colab_link": true
    }
  },
  "cells": [
    {
      "cell_type": "markdown",
      "metadata": {
        "id": "view-in-github",
        "colab_type": "text"
      },
      "source": [
        "<a href=\"https://colab.research.google.com/github/quimHM/QHM_TFG_repository/blob/main/TFG_devel.ipynb\" target=\"_parent\"><img src=\"https://colab.research.google.com/assets/colab-badge.svg\" alt=\"Open In Colab\"/></a>"
      ]
    },
    {
      "cell_type": "markdown",
      "metadata": {
        "id": "E61h1BI4OLQ4"
      },
      "source": [
        "# Predicting Credit Card Approvals\n",
        "> A Summary of project \"Predicting Credit Card Approvals\", via datacamp\n",
        "\n",
        "- toc: true \n",
        "- badges: true\n",
        "- comments: true\n",
        "- author: Chanseok Kang\n",
        "- categories: [Python, Datacamp, Machine Learning]\n",
        "- image: images/credit_card.jpg"
      ]
    },
    {
      "cell_type": "code",
      "metadata": {
        "id": "Sg1oUiOVBacq",
        "colab": {
          "base_uri": "https://localhost:8080/"
        },
        "outputId": "155213e3-3f9c-4459-caec-182146c86ccb"
      },
      "source": [
        "from google.colab import drive\n",
        "drive.mount('/content/drive')"
      ],
      "execution_count": null,
      "outputs": [
        {
          "output_type": "stream",
          "name": "stdout",
          "text": [
            "Mounted at /content/drive\n"
          ]
        }
      ]
    },
    {
      "cell_type": "markdown",
      "metadata": {
        "dc": {
          "key": "3"
        },
        "deletable": false,
        "editable": false,
        "run_control": {
          "frozen": true
        },
        "tags": [
          "context"
        ],
        "id": "BC1OK4CfOLQ8"
      },
      "source": [
        "## 1. Credit card applications\n",
        "<p>Commercial banks receive <em>a lot</em> of applications for credit cards. Many of them get rejected for many reasons, like high loan balances, low income levels, or too many inquiries on an individual's credit report, for example. Manually analyzing these applications is mundane, error-prone, and time-consuming (and time is money!). Luckily, this task can be automated with the power of machine learning and pretty much every commercial bank does so nowadays. In this notebook, we will build an automatic credit card approval predictor using machine learning techniques, just like the real banks do.</p>\n",
        "<p><img src=\"https://assets.datacamp.com/production/project_558/img/credit_card.jpg\" alt=\"Credit card being held in hand\"></p>\n",
        "<p>We'll use the <a href=\"http://archive.ics.uci.edu/ml/datasets/credit+approval\">Credit Card Approval dataset</a> from the UCI Machine Learning Repository. The structure of this notebook is as follows:</p>\n",
        "<ul>\n",
        "<li>First, we will start off by loading and viewing the dataset.</li>\n",
        "<li>We will see that the dataset has a mixture of both numerical and non-numerical features, that it contains values from different ranges, plus that it contains a number of missing entries.</li>\n",
        "<li>We will have to preprocess the dataset to ensure the machine learning model we choose can make good predictions.</li>\n",
        "<li>After our data is in good shape, we will do some exploratory data analysis to build our intuitions.</li>\n",
        "<li>Finally, we will build a machine learning model that can predict if an individual's application for a credit card will be accepted.</li>\n",
        "</ul>\n",
        "<p>First, loading and viewing the dataset. We find that since this data is confidential, the contributor of the dataset has anonymized the feature names.</p>"
      ]
    },
    {
      "cell_type": "code",
      "metadata": {
        "dc": {
          "key": "3"
        },
        "tags": [
          "sample_code"
        ],
        "id": "OkwK04C3OLQ9",
        "colab": {
          "base_uri": "https://localhost:8080/",
          "height": 202
        },
        "outputId": "6f73e51d-0689-4612-fb40-5a9a1fbab3c0"
      },
      "source": [
        "# Import pandas\n",
        "import pandas as pd\n",
        "\n",
        "# Load dataset\n",
        "cc_apps = pd.read_csv('/content/drive/MyDrive/TFG/crx.data', header=None)\n",
        "\n",
        "# Inspect data\n",
        "cc_apps.head()"
      ],
      "execution_count": null,
      "outputs": [
        {
          "output_type": "execute_result",
          "data": {
            "text/html": [
              "<div>\n",
              "<style scoped>\n",
              "    .dataframe tbody tr th:only-of-type {\n",
              "        vertical-align: middle;\n",
              "    }\n",
              "\n",
              "    .dataframe tbody tr th {\n",
              "        vertical-align: top;\n",
              "    }\n",
              "\n",
              "    .dataframe thead th {\n",
              "        text-align: right;\n",
              "    }\n",
              "</style>\n",
              "<table border=\"1\" class=\"dataframe\">\n",
              "  <thead>\n",
              "    <tr style=\"text-align: right;\">\n",
              "      <th></th>\n",
              "      <th>0</th>\n",
              "      <th>1</th>\n",
              "      <th>2</th>\n",
              "      <th>3</th>\n",
              "      <th>4</th>\n",
              "      <th>5</th>\n",
              "      <th>6</th>\n",
              "      <th>7</th>\n",
              "      <th>8</th>\n",
              "      <th>9</th>\n",
              "      <th>10</th>\n",
              "      <th>11</th>\n",
              "      <th>12</th>\n",
              "      <th>13</th>\n",
              "      <th>14</th>\n",
              "      <th>15</th>\n",
              "    </tr>\n",
              "  </thead>\n",
              "  <tbody>\n",
              "    <tr>\n",
              "      <th>0</th>\n",
              "      <td>b</td>\n",
              "      <td>30.83</td>\n",
              "      <td>0.000</td>\n",
              "      <td>u</td>\n",
              "      <td>g</td>\n",
              "      <td>w</td>\n",
              "      <td>v</td>\n",
              "      <td>1.25</td>\n",
              "      <td>t</td>\n",
              "      <td>t</td>\n",
              "      <td>1</td>\n",
              "      <td>f</td>\n",
              "      <td>g</td>\n",
              "      <td>00202</td>\n",
              "      <td>0</td>\n",
              "      <td>+</td>\n",
              "    </tr>\n",
              "    <tr>\n",
              "      <th>1</th>\n",
              "      <td>a</td>\n",
              "      <td>58.67</td>\n",
              "      <td>4.460</td>\n",
              "      <td>u</td>\n",
              "      <td>g</td>\n",
              "      <td>q</td>\n",
              "      <td>h</td>\n",
              "      <td>3.04</td>\n",
              "      <td>t</td>\n",
              "      <td>t</td>\n",
              "      <td>6</td>\n",
              "      <td>f</td>\n",
              "      <td>g</td>\n",
              "      <td>00043</td>\n",
              "      <td>560</td>\n",
              "      <td>+</td>\n",
              "    </tr>\n",
              "    <tr>\n",
              "      <th>2</th>\n",
              "      <td>a</td>\n",
              "      <td>24.50</td>\n",
              "      <td>0.500</td>\n",
              "      <td>u</td>\n",
              "      <td>g</td>\n",
              "      <td>q</td>\n",
              "      <td>h</td>\n",
              "      <td>1.50</td>\n",
              "      <td>t</td>\n",
              "      <td>f</td>\n",
              "      <td>0</td>\n",
              "      <td>f</td>\n",
              "      <td>g</td>\n",
              "      <td>00280</td>\n",
              "      <td>824</td>\n",
              "      <td>+</td>\n",
              "    </tr>\n",
              "    <tr>\n",
              "      <th>3</th>\n",
              "      <td>b</td>\n",
              "      <td>27.83</td>\n",
              "      <td>1.540</td>\n",
              "      <td>u</td>\n",
              "      <td>g</td>\n",
              "      <td>w</td>\n",
              "      <td>v</td>\n",
              "      <td>3.75</td>\n",
              "      <td>t</td>\n",
              "      <td>t</td>\n",
              "      <td>5</td>\n",
              "      <td>t</td>\n",
              "      <td>g</td>\n",
              "      <td>00100</td>\n",
              "      <td>3</td>\n",
              "      <td>+</td>\n",
              "    </tr>\n",
              "    <tr>\n",
              "      <th>4</th>\n",
              "      <td>b</td>\n",
              "      <td>20.17</td>\n",
              "      <td>5.625</td>\n",
              "      <td>u</td>\n",
              "      <td>g</td>\n",
              "      <td>w</td>\n",
              "      <td>v</td>\n",
              "      <td>1.71</td>\n",
              "      <td>t</td>\n",
              "      <td>f</td>\n",
              "      <td>0</td>\n",
              "      <td>f</td>\n",
              "      <td>s</td>\n",
              "      <td>00120</td>\n",
              "      <td>0</td>\n",
              "      <td>+</td>\n",
              "    </tr>\n",
              "  </tbody>\n",
              "</table>\n",
              "</div>"
            ],
            "text/plain": [
              "  0      1      2  3  4  5  6     7  8  9   10 11 12     13   14 15\n",
              "0  b  30.83  0.000  u  g  w  v  1.25  t  t   1  f  g  00202    0  +\n",
              "1  a  58.67  4.460  u  g  q  h  3.04  t  t   6  f  g  00043  560  +\n",
              "2  a  24.50  0.500  u  g  q  h  1.50  t  f   0  f  g  00280  824  +\n",
              "3  b  27.83  1.540  u  g  w  v  3.75  t  t   5  t  g  00100    3  +\n",
              "4  b  20.17  5.625  u  g  w  v  1.71  t  f   0  f  s  00120    0  +"
            ]
          },
          "metadata": {},
          "execution_count": 2
        }
      ]
    },
    {
      "cell_type": "markdown",
      "metadata": {
        "dc": {
          "key": "10"
        },
        "deletable": false,
        "editable": false,
        "run_control": {
          "frozen": true
        },
        "tags": [
          "context"
        ],
        "id": "BhuOJttmOLQ_"
      },
      "source": [
        "## 2. Inspecting the applications\n",
        "<p>The output may appear a bit confusing at its first sight, but let's try to figure out the most important features of a credit card application. The features of this dataset have been anonymized to protect the privacy, but <a href=\"http://rstudio-pubs-static.s3.amazonaws.com/73039_9946de135c0a49daa7a0a9eda4a67a72.html\">this blog</a> gives us a pretty good overview of the probable features. The probable features in a typical credit card application are <code>Gender</code>, <code>Age</code>, <code>Debt</code>, <code>Married</code>, <code>BankCustomer</code>, <code>EducationLevel</code>, <code>Ethnicity</code>, <code>YearsEmployed</code>, <code>PriorDefault</code>, <code>Employed</code>, <code>CreditScore</code>, <code>DriversLicense</code>, <code>Citizen</code>, <code>ZipCode</code>, <code>Income</code> and finally the <code>ApprovalStatus</code>. This gives us a pretty good starting point, and we can map these features with respect to the columns in the output.   </p>\n",
        "<p>As we can see from our first glance at the data, the dataset has a mixture of numerical and non-numerical features. This can be fixed with some preprocessing, but before we do that, let's learn about the dataset a bit more to see if there are other dataset issues that need to be fixed.</p>"
      ]
    },
    {
      "cell_type": "code",
      "metadata": {
        "dc": {
          "key": "10"
        },
        "tags": [
          "sample_code"
        ],
        "id": "UNibKiRuOLQ_",
        "colab": {
          "base_uri": "https://localhost:8080/"
        },
        "outputId": "72913000-e2c7-43bc-bf6d-3487941f3e21"
      },
      "source": [
        "# Print summary statistics\n",
        "cc_apps_description = cc_apps.describe()\n",
        "print(cc_apps_description)\n",
        "\n",
        "print(\"\\n\")\n",
        "\n",
        "# Print DataFrame information\n",
        "cc_apps_info = cc_apps.info()\n",
        "print(cc_apps_info)\n",
        "\n",
        "print(\"\\n\")\n",
        "\n",
        "# Inspect missing values in the dataset\n",
        "print(cc_apps.tail(74))"
      ],
      "execution_count": null,
      "outputs": [
        {
          "output_type": "stream",
          "name": "stdout",
          "text": [
            "               2           7          10             14\n",
            "count  690.000000  690.000000  690.00000     690.000000\n",
            "mean     4.758725    2.223406    2.40000    1017.385507\n",
            "std      4.978163    3.346513    4.86294    5210.102598\n",
            "min      0.000000    0.000000    0.00000       0.000000\n",
            "25%      1.000000    0.165000    0.00000       0.000000\n",
            "50%      2.750000    1.000000    0.00000       5.000000\n",
            "75%      7.207500    2.625000    3.00000     395.500000\n",
            "max     28.000000   28.500000   67.00000  100000.000000\n",
            "\n",
            "\n",
            "<class 'pandas.core.frame.DataFrame'>\n",
            "RangeIndex: 690 entries, 0 to 689\n",
            "Data columns (total 16 columns):\n",
            " #   Column  Non-Null Count  Dtype  \n",
            "---  ------  --------------  -----  \n",
            " 0   0       690 non-null    object \n",
            " 1   1       690 non-null    object \n",
            " 2   2       690 non-null    float64\n",
            " 3   3       690 non-null    object \n",
            " 4   4       690 non-null    object \n",
            " 5   5       690 non-null    object \n",
            " 6   6       690 non-null    object \n",
            " 7   7       690 non-null    float64\n",
            " 8   8       690 non-null    object \n",
            " 9   9       690 non-null    object \n",
            " 10  10      690 non-null    int64  \n",
            " 11  11      690 non-null    object \n",
            " 12  12      690 non-null    object \n",
            " 13  13      690 non-null    object \n",
            " 14  14      690 non-null    int64  \n",
            " 15  15      690 non-null    object \n",
            "dtypes: float64(2), int64(2), object(12)\n",
            "memory usage: 86.4+ KB\n",
            "None\n",
            "\n",
            "\n",
            "    0      1       2  3  4   5   6      7  8  9   10 11 12     13   14 15\n",
            "616  b  22.67   0.750  u  g   i   v  1.585  f  t   1  t  g  00400    9  -\n",
            "617  b  32.25  14.000  y  p  ff  ff  0.000  f  t   2  f  g  00160    1  -\n",
            "618  b  29.58   4.750  u  g   m   v  2.000  f  t   1  t  g  00460   68  -\n",
            "619  b  18.42  10.415  y  p  aa   v  0.125  t  f   0  f  g  00120  375  -\n",
            "620  b  22.17   2.250  u  g   i   v  0.125  f  f   0  f  g  00160   10  -\n",
            "..  ..    ...     ... .. ..  ..  ..    ... .. ..  .. .. ..    ...  ... ..\n",
            "685  b  21.08  10.085  y  p   e   h  1.250  f  f   0  f  g  00260    0  -\n",
            "686  a  22.67   0.750  u  g   c   v  2.000  f  t   2  t  g  00200  394  -\n",
            "687  a  25.25  13.500  y  p  ff  ff  2.000  f  t   1  t  g  00200    1  -\n",
            "688  b  17.92   0.205  u  g  aa   v  0.040  f  f   0  f  g  00280  750  -\n",
            "689  b  35.00   3.375  u  g   c   h  8.290  f  f   0  t  g  00000    0  -\n",
            "\n",
            "[74 rows x 16 columns]\n"
          ]
        }
      ]
    },
    {
      "cell_type": "markdown",
      "metadata": {
        "dc": {
          "key": "17"
        },
        "deletable": false,
        "editable": false,
        "run_control": {
          "frozen": true
        },
        "tags": [
          "context"
        ],
        "id": "zAHWvGuTOLRA"
      },
      "source": [
        "## 3. Handling the missing values (part i)\n",
        "<p>We've uncovered some issues that will affect the performance of our machine learning model(s) if they go unchanged:</p>\n",
        "<ul>\n",
        "<li>Our dataset contains both numeric and non-numeric data (specifically data that are of <code>float64</code>, <code>int64</code> and <code>object</code> types). Specifically, the features 2, 7, 10 and 14 contain numeric values (of types float64, float64, int64 and int64 respectively) and all the other features contain non-numeric values.</li>\n",
        "<li>The dataset also contains values from several ranges. Some features have a value range of 0 - 28, some have a range of 2 - 67, and some have a range of 1017 - 100000. Apart from these, we can get useful statistical information (like <code>mean</code>, <code>max</code>, and <code>min</code>) about the features that have numerical values. </li>\n",
        "<li>Finally, the dataset has missing values, which we'll take care of in this task. The missing values in the dataset are labeled with '?', which can be seen in the last cell's output.</li>\n",
        "</ul>\n",
        "<p>Now, let's temporarily replace these missing value question marks with NaN.</p>"
      ]
    },
    {
      "cell_type": "code",
      "metadata": {
        "dc": {
          "key": "17"
        },
        "tags": [
          "sample_code"
        ],
        "id": "JcZeZWAtOLRB",
        "colab": {
          "base_uri": "https://localhost:8080/"
        },
        "outputId": "2574540c-cb2d-4be4-e584-e1eaae34159e"
      },
      "source": [
        "# Import numpy\n",
        "import numpy as np\n",
        "\n",
        "# Inspect missing values in the dataset\n",
        "print(cc_apps.tail(17))\n",
        "\n",
        "# Replace the '?'s with NaN\n",
        "cc_apps = cc_apps.replace('?', np.nan)\n",
        "\n",
        "# Inspect the missing values again\n",
        "print(cc_apps.tail(17))"
      ],
      "execution_count": null,
      "outputs": [
        {
          "output_type": "stream",
          "name": "stdout",
          "text": [
            "    0      1       2  3  4   5   6      7  8  9   10 11 12     13   14 15\n",
            "673  ?  29.50   2.000  y  p   e   h  2.000  f  f   0  f  g  00256   17  -\n",
            "674  a  37.33   2.500  u  g   i   h  0.210  f  f   0  f  g  00260  246  -\n",
            "675  a  41.58   1.040  u  g  aa   v  0.665  f  f   0  f  g  00240  237  -\n",
            "676  a  30.58  10.665  u  g   q   h  0.085  f  t  12  t  g  00129    3  -\n",
            "677  b  19.42   7.250  u  g   m   v  0.040  f  t   1  f  g  00100    1  -\n",
            "678  a  17.92  10.210  u  g  ff  ff  0.000  f  f   0  f  g  00000   50  -\n",
            "679  a  20.08   1.250  u  g   c   v  0.000  f  f   0  f  g  00000    0  -\n",
            "680  b  19.50   0.290  u  g   k   v  0.290  f  f   0  f  g  00280  364  -\n",
            "681  b  27.83   1.000  y  p   d   h  3.000  f  f   0  f  g  00176  537  -\n",
            "682  b  17.08   3.290  u  g   i   v  0.335  f  f   0  t  g  00140    2  -\n",
            "683  b  36.42   0.750  y  p   d   v  0.585  f  f   0  f  g  00240    3  -\n",
            "684  b  40.58   3.290  u  g   m   v  3.500  f  f   0  t  s  00400    0  -\n",
            "685  b  21.08  10.085  y  p   e   h  1.250  f  f   0  f  g  00260    0  -\n",
            "686  a  22.67   0.750  u  g   c   v  2.000  f  t   2  t  g  00200  394  -\n",
            "687  a  25.25  13.500  y  p  ff  ff  2.000  f  t   1  t  g  00200    1  -\n",
            "688  b  17.92   0.205  u  g  aa   v  0.040  f  f   0  f  g  00280  750  -\n",
            "689  b  35.00   3.375  u  g   c   h  8.290  f  f   0  t  g  00000    0  -\n",
            "      0      1       2  3  4   5   6      7  8  9   10 11 12     13   14 15\n",
            "673  NaN  29.50   2.000  y  p   e   h  2.000  f  f   0  f  g  00256   17  -\n",
            "674    a  37.33   2.500  u  g   i   h  0.210  f  f   0  f  g  00260  246  -\n",
            "675    a  41.58   1.040  u  g  aa   v  0.665  f  f   0  f  g  00240  237  -\n",
            "676    a  30.58  10.665  u  g   q   h  0.085  f  t  12  t  g  00129    3  -\n",
            "677    b  19.42   7.250  u  g   m   v  0.040  f  t   1  f  g  00100    1  -\n",
            "678    a  17.92  10.210  u  g  ff  ff  0.000  f  f   0  f  g  00000   50  -\n",
            "679    a  20.08   1.250  u  g   c   v  0.000  f  f   0  f  g  00000    0  -\n",
            "680    b  19.50   0.290  u  g   k   v  0.290  f  f   0  f  g  00280  364  -\n",
            "681    b  27.83   1.000  y  p   d   h  3.000  f  f   0  f  g  00176  537  -\n",
            "682    b  17.08   3.290  u  g   i   v  0.335  f  f   0  t  g  00140    2  -\n",
            "683    b  36.42   0.750  y  p   d   v  0.585  f  f   0  f  g  00240    3  -\n",
            "684    b  40.58   3.290  u  g   m   v  3.500  f  f   0  t  s  00400    0  -\n",
            "685    b  21.08  10.085  y  p   e   h  1.250  f  f   0  f  g  00260    0  -\n",
            "686    a  22.67   0.750  u  g   c   v  2.000  f  t   2  t  g  00200  394  -\n",
            "687    a  25.25  13.500  y  p  ff  ff  2.000  f  t   1  t  g  00200    1  -\n",
            "688    b  17.92   0.205  u  g  aa   v  0.040  f  f   0  f  g  00280  750  -\n",
            "689    b  35.00   3.375  u  g   c   h  8.290  f  f   0  t  g  00000    0  -\n"
          ]
        }
      ]
    },
    {
      "cell_type": "markdown",
      "metadata": {
        "dc": {
          "key": "24"
        },
        "deletable": false,
        "editable": false,
        "run_control": {
          "frozen": true
        },
        "tags": [
          "context"
        ],
        "id": "heGaWMeNOLRB"
      },
      "source": [
        "## 4. Handling the missing values (part ii)\n",
        "<p>We replaced all the question marks with NaNs. This is going to help us in the next missing value treatment that we are going to perform.</p>\n",
        "<p>An important question that gets raised here is <em>why are we giving so much importance to missing values</em>? Can't they be just ignored? Ignoring missing values can affect the performance of a machine learning model heavily. While ignoring the missing values our machine learning model may miss out on information about the dataset that may be useful for its training. Then, there are many models which cannot handle missing values implicitly such as LDA. </p>\n",
        "<p>So, to avoid this problem, we are going to impute the missing values with a strategy called mean imputation.</p>"
      ]
    },
    {
      "cell_type": "code",
      "metadata": {
        "dc": {
          "key": "24"
        },
        "tags": [
          "sample_code"
        ],
        "id": "7lXJBS1QOLRC",
        "colab": {
          "base_uri": "https://localhost:8080/"
        },
        "outputId": "31eb7d0d-c5e7-4128-8a84-db4db5cecae0"
      },
      "source": [
        "# Impute the missing values with mean imputation\n",
        "cc_apps.fillna(cc_apps.mean(), inplace=True)\n",
        "\n",
        "# Count the number of NaNs in the dataset to verify\n",
        "cc_apps.isnull().values.sum()"
      ],
      "execution_count": null,
      "outputs": [
        {
          "output_type": "execute_result",
          "data": {
            "text/plain": [
              "67"
            ]
          },
          "metadata": {},
          "execution_count": 5
        }
      ]
    },
    {
      "cell_type": "markdown",
      "metadata": {
        "dc": {
          "key": "31"
        },
        "deletable": false,
        "editable": false,
        "run_control": {
          "frozen": true
        },
        "tags": [
          "context"
        ],
        "id": "Y4-_4GP-OLRD"
      },
      "source": [
        "## 5. Handling the missing values (part iii)\n",
        "<p>We have successfully taken care of the missing values present in the numeric columns. There are still some missing values to be imputed for columns 0, 1, 3, 4, 5, 6 and 13. All of these columns contain non-numeric data and this why the mean imputation strategy would not work here. This needs a different treatment. </p>\n",
        "<p>We are going to impute these missing values with the most frequent values as present in the respective columns. This is <a href=\"https://www.datacamp.com/community/tutorials/categorical-data\">good practice</a> when it comes to imputing missing values for categorical data in general.</p>"
      ]
    },
    {
      "cell_type": "code",
      "metadata": {
        "dc": {
          "key": "31"
        },
        "tags": [
          "sample_code"
        ],
        "id": "Wp-ti6gCOLRD",
        "colab": {
          "base_uri": "https://localhost:8080/"
        },
        "outputId": "ba3633bb-f3cf-49fa-83cc-c4595643b13b"
      },
      "source": [
        "# Iterate over each column of cc_apps\n",
        "for col in cc_apps.columns:\n",
        "    # Check if the column is of object type\n",
        "    if cc_apps[col].dtypes == 'object':\n",
        "        # Impute with the most frequent value\n",
        "        cc_apps = cc_apps.fillna(cc_apps[col].value_counts().index[0])\n",
        "\n",
        "# Count the number of NaNs in the dataset and print the counts to verify\n",
        "cc_apps.isnull().values.sum()"
      ],
      "execution_count": null,
      "outputs": [
        {
          "output_type": "execute_result",
          "data": {
            "text/plain": [
              "0"
            ]
          },
          "metadata": {},
          "execution_count": 6
        }
      ]
    },
    {
      "cell_type": "markdown",
      "metadata": {
        "dc": {
          "key": "38"
        },
        "deletable": false,
        "editable": false,
        "run_control": {
          "frozen": true
        },
        "tags": [
          "context"
        ],
        "id": "TeOYCe9BOLRE"
      },
      "source": [
        "## 6. Preprocessing the data (part i)\n",
        "<p>The missing values are now successfully handled.</p>\n",
        "<p>There is still some minor but essential data preprocessing needed before we proceed towards building our machine learning model. We are going to divide these remaining preprocessing steps into three main tasks:</p>\n",
        "<ol>\n",
        "<li>Convert the non-numeric data into numeric.</li>\n",
        "<li>Split the data into train and test sets. </li>\n",
        "<li>Scale the feature values to a uniform range.</li>\n",
        "</ol>\n",
        "<p>First, we will be converting all the non-numeric values into numeric ones. We do this because not only it results in a faster computation but also many machine learning models (like XGBoost) (and especially the ones developed using scikit-learn) require the data to be in a strictly numeric format. We will do this by using a technique called <a href=\"http://scikit-learn.org/stable/modules/generated/sklearn.preprocessing.LabelEncoder.html\">label encoding</a>.</p>"
      ]
    },
    {
      "cell_type": "code",
      "metadata": {
        "dc": {
          "key": "38"
        },
        "tags": [
          "sample_code"
        ],
        "id": "d0ETuXBrOLRE"
      },
      "source": [
        "# Import LabelEncoder\n",
        "from sklearn.preprocessing import LabelEncoder\n",
        "\n",
        "# Instantiate LabelEncoder\n",
        "le = LabelEncoder()\n",
        "\n",
        "# Iterate over all the values of each column and extract their dtypes\n",
        "for col in cc_apps.columns:\n",
        "    # Compare if the dtype is object\n",
        "    if cc_apps[col].dtype=='object':\n",
        "    # Use LabelEncoder to do the numeric transformation\n",
        "        cc_apps[col]=le.fit_transform(cc_apps[col])"
      ],
      "execution_count": null,
      "outputs": []
    },
    {
      "cell_type": "markdown",
      "metadata": {
        "dc": {
          "key": "45"
        },
        "deletable": false,
        "editable": false,
        "run_control": {
          "frozen": true
        },
        "tags": [
          "context"
        ],
        "id": "tuEMcyKlOLRE"
      },
      "source": [
        "## 7. Splitting the dataset into train and test sets\n",
        "<p>We have successfully converted all the non-numeric values to numeric ones.</p>\n",
        "<p>Now, we will split our data into train set and test set to prepare our data for two different phases of machine learning modeling: training and testing. Ideally, no information from the test data should be used to scale the training data or should be used to direct the training process of a machine learning model. Hence, we first split the data and then apply the scaling.</p>\n",
        "<p>Also, features like <code>DriversLicense</code> and <code>ZipCode</code> are not as important as the other features in the dataset for predicting credit card approvals. We should drop them to design our machine learning model with the best set of features. In Data Science literature, this is often referred to as <em>feature selection</em>. </p>"
      ]
    },
    {
      "cell_type": "code",
      "metadata": {
        "dc": {
          "key": "45"
        },
        "tags": [
          "sample_code"
        ],
        "id": "qfPi3Bi2OLRF"
      },
      "source": [
        "# Import train_test_split\n",
        "from sklearn.model_selection import train_test_split\n",
        "\n",
        "# Drop the features 11 and 13 and convert the DataFrame to a NumPy array\n",
        "cc_apps = cc_apps.drop([11, 13], axis=1)\n",
        "cc_apps = cc_apps.values\n",
        "\n",
        "# Segregate features and labels into separate variables\n",
        "X,y = cc_apps[:,0:13] , cc_apps[:,13]\n",
        "\n",
        "# Split into train and test sets\n",
        "X_train, X_test, y_train, y_test = train_test_split(X,\n",
        "                                y,\n",
        "                                test_size=0.33,\n",
        "                                random_state=42)"
      ],
      "execution_count": null,
      "outputs": []
    },
    {
      "cell_type": "markdown",
      "metadata": {
        "dc": {
          "key": "52"
        },
        "deletable": false,
        "editable": false,
        "run_control": {
          "frozen": true
        },
        "tags": [
          "context"
        ],
        "id": "KYqyRrnbOLRF"
      },
      "source": [
        "## 8. Preprocessing the data (part ii)\n",
        "<p>The data is now split into two separate sets - train and test sets respectively. We are only left with one final preprocessing step of scaling before we can fit a machine learning model to the data. </p>\n",
        "<p>Now, let's try to understand what these scaled values mean in the real world. Let's use <code>CreditScore</code> as an example. The credit score of a person is their creditworthiness based on their credit history. The higher this number, the more financially trustworthy a person is considered to be. So, a <code>CreditScore</code> of 1 is the highest since we're rescaling all the values to the range of 0-1.</p>"
      ]
    },
    {
      "cell_type": "code",
      "metadata": {
        "dc": {
          "key": "52"
        },
        "tags": [
          "sample_code"
        ],
        "id": "rH91QzclOLRF"
      },
      "source": [
        "# Import MinMaxScaler\n",
        "from sklearn.preprocessing import MinMaxScaler\n",
        "\n",
        "# Instantiate MinMaxScaler and use it to rescale X_train and X_test\n",
        "scaler = MinMaxScaler(feature_range=(0, 1))\n",
        "rescaledX_train = scaler.fit_transform(X_train)\n",
        "rescaledX_test = scaler.fit_transform(X_test)"
      ],
      "execution_count": null,
      "outputs": []
    },
    {
      "cell_type": "markdown",
      "metadata": {
        "dc": {
          "key": "59"
        },
        "deletable": false,
        "editable": false,
        "run_control": {
          "frozen": true
        },
        "tags": [
          "context"
        ],
        "id": "Fs6S1yoxOLRG"
      },
      "source": [
        "## 9. Fitting a logistic regression model to the train set\n",
        "<p>Essentially, predicting if a credit card application will be approved or not is a <a href=\"https://en.wikipedia.org/wiki/Statistical_classification\">classification</a> task. <a href=\"http://archive.ics.uci.edu/ml/machine-learning-databases/credit-screening/crx.names\">According to UCI</a>, our dataset contains more instances that correspond to \"Denied\" status than instances corresponding to \"Approved\" status. Specifically, out of 690 instances, there are 383 (55.5%) applications that got denied and 307 (44.5%) applications that got approved. </p>\n",
        "<p>This gives us a benchmark. A good machine learning model should be able to accurately predict the status of the applications with respect to these statistics.</p>\n",
        "<p>Which model should we pick? A question to ask is: <em>are the features that affect the credit card approval decision process correlated with each other?</em> Although we can measure correlation, that is outside the scope of this notebook, so we'll rely on our intuition that they indeed are correlated for now. Because of this correlation, we'll take advantage of the fact that generalized linear models perform well in these cases. Let's start our machine learning modeling with a Logistic Regression model (a generalized linear model).</p>"
      ]
    },
    {
      "cell_type": "code",
      "metadata": {
        "dc": {
          "key": "59"
        },
        "tags": [
          "sample_code"
        ],
        "id": "noUVTzK-OLRG",
        "colab": {
          "base_uri": "https://localhost:8080/"
        },
        "outputId": "9d8c0c22-df3d-4169-ccc8-edbe05352da2"
      },
      "source": [
        "# Import LogisticRegression\n",
        "from sklearn.linear_model import LogisticRegression\n",
        "\n",
        "# Instantiate a LogisticRegression classifier with default parameter values\n",
        "logreg = LogisticRegression()\n",
        "\n",
        "# Fit logreg to the train set\n",
        "logreg.fit(rescaledX_train, y_train)"
      ],
      "execution_count": null,
      "outputs": [
        {
          "output_type": "execute_result",
          "data": {
            "text/plain": [
              "LogisticRegression(C=1.0, class_weight=None, dual=False, fit_intercept=True,\n",
              "                   intercept_scaling=1, l1_ratio=None, max_iter=100,\n",
              "                   multi_class='auto', n_jobs=None, penalty='l2',\n",
              "                   random_state=None, solver='lbfgs', tol=0.0001, verbose=0,\n",
              "                   warm_start=False)"
            ]
          },
          "metadata": {},
          "execution_count": 10
        }
      ]
    },
    {
      "cell_type": "markdown",
      "metadata": {
        "dc": {
          "key": "66"
        },
        "deletable": false,
        "editable": false,
        "run_control": {
          "frozen": true
        },
        "tags": [
          "context"
        ],
        "id": "PABW6iMSOLRG"
      },
      "source": [
        "## 10. Making predictions and evaluating performance\n",
        "<p>But how well does our model perform? </p>\n",
        "<p>We will now evaluate our model on the test set with respect to <a href=\"https://developers.google.com/machine-learning/crash-course/classification/accuracy\">classification accuracy</a>. But we will also take a look the model's <a href=\"http://www.dataschool.io/simple-guide-to-confusion-matrix-terminology/\">confusion matrix</a>. In the case of predicting credit card applications, it is equally important to see if our machine learning model is able to predict the approval status of the applications as denied that originally got denied. If our model is not performing well in this aspect, then it might end up approving the application that should have been approved. The confusion matrix helps us to view our model's performance from these aspects.  </p>"
      ]
    },
    {
      "cell_type": "code",
      "metadata": {
        "dc": {
          "key": "66"
        },
        "tags": [
          "sample_code"
        ],
        "id": "J9fqtRqsOLRH",
        "colab": {
          "base_uri": "https://localhost:8080/"
        },
        "outputId": "859d167d-618a-4b86-efad-b829ff05bd5a"
      },
      "source": [
        "# Import confusion_matrix\n",
        "from sklearn.metrics import confusion_matrix\n",
        "\n",
        "# Use logreg to predict instances from the test set and store it\n",
        "y_pred = logreg.predict(rescaledX_test)\n",
        "\n",
        "# Get the accuracy score of logreg model and print it\n",
        "print(\"Accuracy of logistic regression classifier: \", logreg.score(rescaledX_test, y_test))\n",
        "\n",
        "# Print the confusion matrix of the logreg model\n",
        "print(confusion_matrix(y_test, y_pred))"
      ],
      "execution_count": null,
      "outputs": [
        {
          "output_type": "stream",
          "name": "stdout",
          "text": [
            "Accuracy of logistic regression classifier:  0.8377192982456141\n",
            "[[92 11]\n",
            " [26 99]]\n"
          ]
        }
      ]
    },
    {
      "cell_type": "markdown",
      "metadata": {
        "dc": {
          "key": "73"
        },
        "deletable": false,
        "editable": false,
        "run_control": {
          "frozen": true
        },
        "tags": [
          "context"
        ],
        "id": "L3PWkdApOLRH"
      },
      "source": [
        "## 11. Grid searching and making the model perform better\n",
        "<p>Our model was pretty good! It was able to yield an accuracy score of almost 84%.</p>\n",
        "<p>For the confusion matrix, the first element of the of the first row of the confusion matrix denotes the true negatives meaning the number of negative instances (denied applications) predicted by the model correctly. And the last element of the second row of the confusion matrix denotes the true positives meaning the number of positive instances (approved applications) predicted by the model correctly.</p>\n",
        "<p>Let's see if we can do better. We can perform a <a href=\"https://machinelearningmastery.com/how-to-tune-algorithm-parameters-with-scikit-learn/\">grid search</a> of the model parameters to improve the model's ability to predict credit card approvals.</p>\n",
        "<p><a href=\"http://scikit-learn.org/stable/modules/generated/sklearn.linear_model.LogisticRegression.html\">scikit-learn's implementation of logistic regression</a> consists of different hyperparameters but we will grid search over the following two:</p>\n",
        "<ul>\n",
        "<li>tol</li>\n",
        "<li>max_iter</li>\n",
        "</ul>"
      ]
    },
    {
      "cell_type": "code",
      "metadata": {
        "dc": {
          "key": "73"
        },
        "tags": [
          "sample_code"
        ],
        "id": "t6CVs2VGOLRH"
      },
      "source": [
        "# Import GridSearchCV\n",
        "from sklearn.model_selection import GridSearchCV\n",
        "\n",
        "# Define the grid of values for tol and max_iter\n",
        "tol = [0.01, 0.001, 0.0001]\n",
        "max_iter = [100, 150, 200]\n",
        "\n",
        "# Create a dictionary where tol and max_iter are keys and the lists of their values are corresponding values\n",
        "param_grid = dict(tol=tol, max_iter=max_iter)"
      ],
      "execution_count": null,
      "outputs": []
    },
    {
      "cell_type": "markdown",
      "metadata": {
        "dc": {
          "key": "80"
        },
        "deletable": false,
        "editable": false,
        "run_control": {
          "frozen": true
        },
        "tags": [
          "context"
        ],
        "id": "Ju0187aXOLRI"
      },
      "source": [
        "## 12. Finding the best performing model\n",
        "<p>We have defined the grid of hyperparameter values and converted them into a single dictionary format which <code>GridSearchCV()</code> expects as one of its parameters. Now, we will begin the grid search to see which values perform best.</p>\n",
        "<p>We will instantiate <code>GridSearchCV()</code> with our earlier <code>logreg</code> model with all the data we have. Instead of passing train and test sets separately, we will supply <code>X</code> (scaled version) and <code>y</code>. We will also instruct <code>GridSearchCV()</code> to perform a <a href=\"https://www.dataschool.io/machine-learning-with-scikit-learn/\">cross-validation</a> of five folds.</p>\n",
        "<p>We'll end the notebook by storing the best-achieved score and the respective best parameters.</p>\n",
        "<p>While building this credit card predictor, we tackled some of the most widely-known preprocessing steps such as <strong>scaling</strong>, <strong>label encoding</strong>, and <strong>missing value imputation</strong>. We finished with some <strong>machine learning</strong> to predict if a person's application for a credit card would get approved or not given some information about that person.</p>"
      ]
    },
    {
      "cell_type": "code",
      "metadata": {
        "dc": {
          "key": "80"
        },
        "tags": [
          "sample_code"
        ],
        "id": "qjUDVxTsOLRI",
        "colab": {
          "base_uri": "https://localhost:8080/"
        },
        "outputId": "d461e8e3-b7f7-46d6-e545-1c5fd8c1e2d6"
      },
      "source": [
        "# Instantiate GridSearchCV with the required parameters\n",
        "grid_model = GridSearchCV(estimator=logreg, param_grid=param_grid, cv=5)\n",
        "\n",
        "# Use scaler to rescale X and assign it to rescaledX\n",
        "rescaledX = scaler.fit_transform(X)\n",
        "\n",
        "# Fit data to grid_model\n",
        "grid_model_result = grid_model.fit(rescaledX, y)\n",
        "\n",
        "# Summarize results\n",
        "best_score, best_params = grid_model_result.best_score_, grid_model_result.best_params_\n",
        "print(\"Best: %f using %s\" % (best_score, best_params))\n",
        "print(grid_model_result.classes_)"
      ],
      "execution_count": null,
      "outputs": [
        {
          "output_type": "stream",
          "name": "stdout",
          "text": [
            "Best: 0.850725 using {'max_iter': 100, 'tol': 0.01}\n",
            "[0. 1.]\n"
          ]
        }
      ]
    },
    {
      "cell_type": "code",
      "metadata": {
        "id": "mQcPUx_JQ4Wi"
      },
      "source": [
        "import warnings; warnings.simplefilter('ignore')  # Fix NumPy issues.\n",
        "from sklearn.cluster import KMeans, MiniBatchKMeans\n",
        "from matplotlib import pyplot as plt"
      ],
      "execution_count": null,
      "outputs": []
    },
    {
      "cell_type": "code",
      "metadata": {
        "id": "h6WVy6-FSMTR"
      },
      "source": [
        "inputX = rescaledX_test\n",
        "inputY = y_test\n",
        "\n",
        "#inputX = rescaledX_train\n",
        "#inputY = y_train\n",
        "\n",
        "#inputX = rescaledX\n",
        "#inputY = y"
      ],
      "execution_count": null,
      "outputs": []
    },
    {
      "cell_type": "code",
      "metadata": {
        "id": "RUcPSDGcLlVV",
        "colab": {
          "base_uri": "https://localhost:8080/",
          "height": 405
        },
        "outputId": "f833bd03-c50a-4e60-e773-209a6d841790"
      },
      "source": [
        "# fitting multiple k-means algorithms and storing the values in an empty list\n",
        "SSE = []\n",
        "for k in range(1,20):\n",
        "    kmeans = KMeans(n_jobs = -1, n_clusters = k, init='k-means++')\n",
        "    #kmeans = MiniBatchKMeans(k)\n",
        "    kmeans.fit(inputX)\n",
        "    SSE.append(kmeans.inertia_)\n",
        "\n",
        "# converting the results into a dataframe and plotting them\n",
        "frame = pd.DataFrame({'Cluster':range(1,20), 'SSE':SSE})\n",
        "plt.figure(figsize=(12,6))\n",
        "plt.plot(frame['Cluster'], frame['SSE'], marker='o')\n",
        "plt.xlabel('Number of clusters')\n",
        "plt.ylabel('Inertia')"
      ],
      "execution_count": null,
      "outputs": [
        {
          "output_type": "execute_result",
          "data": {
            "text/plain": [
              "Text(0, 0.5, 'Inertia')"
            ]
          },
          "metadata": {},
          "execution_count": 16
        },
        {
          "output_type": "display_data",
          "data": {
            "image/png": "[encoded data removed]",
            "text/plain": [
              "<Figure size 864x432 with 1 Axes>"
            ]
          },
          "metadata": {
            "needs_background": "light"
          }
        }
      ]
    },
    {
      "cell_type": "code",
      "metadata": {
        "id": "zsed0Y06Lp5y",
        "colab": {
          "base_uri": "https://localhost:8080/",
          "height": 282
        },
        "outputId": "72fa963a-c7ce-4963-d5cc-38ca5d255a5f"
      },
      "source": [
        "k=7 #is the selected number of clusters as is roughly where the decrease gets constant\n",
        "#kmeans = KMeans(n_jobs = -1, n_clusters = k, init='k-means++')\n",
        "kmeansAlg = MiniBatchKMeans(k)\n",
        "kmeansAlg.fit(inputX)\n",
        "\n",
        "def provideKlusteredX(kmeans,Xtok, Ytok):\n",
        "  labels = kmeans.predict(Xtok)\n",
        "  nk = kmeans.n_clusters\n",
        "  labelslist = labels.tolist()\n",
        "  print(len(labelslist))\n",
        "  sum=0\n",
        "  occurences=[0]*nk\n",
        "  clustered_X=[]\n",
        "  clustered_Y=[]\n",
        "\n",
        "  for i in range(nk):\n",
        "    clustered_X.append([])\n",
        "    clustered_Y.append([])\n",
        "\n",
        "  for i in range(len(labelslist)):\n",
        "    clustered_X[labelslist[i]].append(Xtok[i])\n",
        "    clustered_Y[labelslist[i]].append(Ytok[i])\n",
        "\n",
        "  for i in range(nk):\n",
        "    occurences[i]=labelslist.count(i)\n",
        "    #print(len(clustered_testX[i]))\n",
        "    #print(labelslist.count(i))\n",
        "    sum+=labelslist.count(i)\n",
        "  #print(sum)\n",
        "\n",
        "  #SHOW INSTANCES OF EACH TYPE IN TEST DATA\n",
        "  import matplotlib.pyplot as plt\n",
        "  plt.bar(range(nk),occurences)\n",
        "\n",
        "  return clustered_X,clustered_Y\n",
        "\n",
        "clustered_testX,clustered_testY = provideKlusteredX(kmeansAlg, inputX, inputY)"
      ],
      "execution_count": null,
      "outputs": [
        {
          "output_type": "stream",
          "name": "stdout",
          "text": [
            "228\n"
          ]
        },
        {
          "output_type": "display_data",
          "data": {
            "image/png": "[encoded data removed]",
            "text/plain": [
              "<Figure size 432x288 with 1 Axes>"
            ]
          },
          "metadata": {
            "needs_background": "light"
          }
        }
      ]
    },
    {
      "cell_type": "code",
      "metadata": {
        "id": "GrG8HTMdWuSQ",
        "colab": {
          "base_uri": "https://localhost:8080/",
          "height": 466
        },
        "outputId": "e29cda7c-7464-4962-e7a0-d4b40c41dc0c"
      },
      "source": [
        "logregAlg = LogisticRegression(max_iter=100, tol=0.01)\n",
        "# Fit logreg to the train set\n",
        "logregAlg.fit(rescaledX_train, y_train)\n",
        "\n",
        "#SHOW COEFFICIENTS\n",
        "plt.imshow(logregAlg.coef_, interpolation='nearest')\n",
        "plt.show()\n",
        "print(pd.DataFrame(logregAlg.coef_).round(2))\n",
        "\n",
        "#SHOW CLUSTER CENTERS (NOT NECESSARILY REAL DATA)\n",
        "plt.imshow(kmeansAlg.cluster_centers_, interpolation='nearest')\n",
        "plt.show()\n",
        "print(pd.DataFrame(kmeansAlg.cluster_centers_).round(2))"
      ],
      "execution_count": null,
      "outputs": [
        {
          "output_type": "display_data",
          "data": {
            "image/png": "[encoded data removed]",
            "text/plain": [
              "<Figure size 432x288 with 1 Axes>"
            ]
          },
          "metadata": {
            "needs_background": "light"
          }
        },
        {
          "output_type": "stream",
          "name": "stdout",
          "text": [
            "     0     1     2     3     4     5     6     7     8     9     10    11   12\n",
            "0  0.01 -0.43 -0.04  1.94  0.24 -0.34 -0.18 -1.04 -3.31 -1.04 -0.63 -0.01 -1.2\n"
          ]
        },
        {
          "output_type": "display_data",
          "data": {
            "image/png": "[encoded data removed]",
            "text/plain": [
              "<Figure size 432x288 with 1 Axes>"
            ]
          },
          "metadata": {
            "needs_background": "light"
          }
        },
        {
          "output_type": "stream",
          "name": "stdout",
          "text": [
            "     0     1     2     3     4     5     6     7     8     9     10    11    12\n",
            "0  1.00  0.51  0.28  0.51  0.02  0.53  0.69  0.15  1.00  1.00  0.14  0.00  0.05\n",
            "1  0.99  0.33  0.13  0.50  0.01  0.40  0.75  0.04  0.01  0.22  0.01  0.01  0.00\n",
            "2  0.86  0.51  0.22  1.00  0.99  0.37  0.75  0.14  1.00  0.59  0.12  0.05  0.01\n",
            "3  0.68  0.56  0.16  0.50  0.00  0.42  0.64  0.10  0.94  0.00  0.00  0.16  0.03\n",
            "4  0.79  0.29  0.15  1.00  1.00  0.43  0.56  0.03  0.00  0.08  0.00  0.12  0.00\n",
            "5  0.20  0.34  0.08  0.47  0.06  0.44  0.74  0.06  0.05  0.00  0.00  0.44  0.00\n",
            "6  0.00  0.41  0.15  0.50  0.00  0.52  0.62  0.09  0.78  1.00  0.15  0.03  0.05\n"
          ]
        }
      ]
    },
    {
      "cell_type": "code",
      "metadata": {
        "id": "TRl-hPVpyikE",
        "colab": {
          "base_uri": "https://localhost:8080/"
        },
        "outputId": "05fc6ea2-dbaa-41fc-b2ed-abd251bdf7f4"
      },
      "source": [
        "def StatsOnKlusteredTest(totalX, clusteredX, clusteredY):\n",
        "  TOTALyes = 0\n",
        "  for i in range(len(clusteredY)):\n",
        "    #print(clusteredY[i]) \n",
        "    TOTALyes += clusteredY[i].count(1)\n",
        "    #print(TOTALyes)\n",
        "  TOTALno = len(totalX)-TOTALyes\n",
        "  presencerate = [] #instances of this type/total instances\n",
        "  approvalrate = [] #approval rate for this type\n",
        "  approvalcontributionrate = [] #approval for this type over the total n of approvals in totalX\n",
        "  for i in range(len(clusteredY)):\n",
        "    yes = clusteredY[i].count(1)\n",
        "    no = clusteredY[i].count(0)\n",
        "    totalyesno = len(clusteredY[i])\n",
        "    #print(\"Approved:\",yes,\"// Denied: \",no)\n",
        "    presencerate.append(100*totalyesno/len(totalX))\n",
        "    approvalrate.append(100*yes/totalyesno)\n",
        "    approvalcontributionrate.append(100*yes/TOTALyes)\n",
        "    print(\"Instance proportion:\",presencerate[i],\"// Approval rate:\",approvalrate[i])\n",
        "    print()\n",
        "  return presencerate,approvalrate,approvalcontributionrate\n",
        "\n",
        "presencerateTEST,approvalrateTEST,approvalcontributionrateTEST = StatsOnKlusteredTest(inputX,clustered_testX,clustered_testY)"
      ],
      "execution_count": null,
      "outputs": [
        {
          "output_type": "stream",
          "name": "stdout",
          "text": [
            "Instance proportion: 17.982456140350877 // Approval rate: 4.878048780487805\n",
            "\n",
            "Instance proportion: 20.17543859649123 // Approval rate: 91.30434782608695\n",
            "\n",
            "Instance proportion: 8.771929824561404 // Approval rate: 40.0\n",
            "\n",
            "Instance proportion: 17.54385964912281 // Approval rate: 40.0\n",
            "\n",
            "Instance proportion: 12.719298245614034 // Approval rate: 93.10344827586206\n",
            "\n",
            "Instance proportion: 10.087719298245615 // Approval rate: 91.30434782608695\n",
            "\n",
            "Instance proportion: 12.719298245614034 // Approval rate: 31.03448275862069\n",
            "\n"
          ]
        }
      ]
    },
    {
      "cell_type": "code",
      "metadata": {
        "id": "SnlG7gQtWs_R",
        "colab": {
          "base_uri": "https://localhost:8080/"
        },
        "outputId": "e8a51176-0a81-43ef-c0c6-28cdb1489e59"
      },
      "source": [
        "def StatsOnKlusteredTestLogRegResults(logreg, totalX, clusteredX, clusteredY):\n",
        "  y_pred = logreg.predict(totalX)\n",
        "  TOTALyes = np.count_nonzero(y_pred == 1)\n",
        "  TOTALno = np.count_nonzero(y_pred == 0)\n",
        "  #COMPUTE ACCURACY OF THE MODEL FOR DIFFERENT CLUSTERS AND APPROVAL RATES\n",
        "  presencerate = [] #instances of this type/total test instances\n",
        "  approvalrate = [] #approval rate for this type\n",
        "  approvalcontributionrate = [] #approval for this type over the total n of approvals in totalX\n",
        "  accuracy = [] #logreg model accuracy per kluster\n",
        "  for i in range(len(clusteredX)):\n",
        "    y_pred = logreg.predict(clusteredX[i])\n",
        "    \n",
        "    print(\"Accuracy of logistic regression classifier: \", logreg.score(clusteredX[i], clusteredY[i]))\n",
        "    accuracy.append(100*logreg.score(clusteredX[i], clusteredY[i]))\n",
        "    yes = np.count_nonzero(y_pred == 1)\n",
        "    no = np.count_nonzero(y_pred == 0)\n",
        "    totalyesno = len(y_pred)\n",
        "    presencerate.append(100*totalyesno/len(totalX))\n",
        "    approvalrate.append(100*yes/totalyesno)\n",
        "    approvalcontributionrate.append(100*yes/TOTALyes)\n",
        "    print(\"Instance proportion:\",presencerate[i],\"// Approval rate:\",approvalrate[i])\n",
        "    print()\n",
        "  return presencerate,approvalrate,approvalcontributionrate, accuracy\n",
        "\n",
        "presencerateTESTpred,approvalrateTESTpred,approvalcontributionrateTESTpred, accuracyperK = StatsOnKlusteredTestLogRegResults(logregAlg,inputX,clustered_testX,clustered_testY)"
      ],
      "execution_count": null,
      "outputs": [
        {
          "output_type": "stream",
          "name": "stdout",
          "text": [
            "Accuracy of logistic regression classifier:  0.9512195121951219\n",
            "Instance proportion: 17.982456140350877 // Approval rate: 0.0\n",
            "\n",
            "Accuracy of logistic regression classifier:  0.9130434782608695\n",
            "Instance proportion: 20.17543859649123 // Approval rate: 100.0\n",
            "\n",
            "Accuracy of logistic regression classifier:  0.55\n",
            "Instance proportion: 8.771929824561404 // Approval rate: 25.0\n",
            "\n",
            "Accuracy of logistic regression classifier:  0.6\n",
            "Instance proportion: 17.54385964912281 // Approval rate: 0.0\n",
            "\n",
            "Accuracy of logistic regression classifier:  0.9310344827586207\n",
            "Instance proportion: 12.719298245614034 // Approval rate: 100.0\n",
            "\n",
            "Accuracy of logistic regression classifier:  0.8695652173913043\n",
            "Instance proportion: 10.087719298245615 // Approval rate: 95.65217391304348\n",
            "\n",
            "Accuracy of logistic regression classifier:  0.9655172413793104\n",
            "Instance proportion: 12.719298245614034 // Approval rate: 27.586206896551722\n",
            "\n"
          ]
        }
      ]
    },
    {
      "cell_type": "code",
      "metadata": {
        "id": "SiO9d38LVtPn",
        "colab": {
          "base_uri": "https://localhost:8080/",
          "height": 513
        },
        "outputId": "2ab7309b-2b8e-470c-f3f6-685cfcd32e51"
      },
      "source": [
        "df = pd.DataFrame({'presence': presencerateTEST,\n",
        "                   'approval rate': approvalrateTEST,\n",
        "                   'contribution': approvalcontributionrateTEST}, index=range(k))\n",
        "ax = df.plot.bar(rot=0)\n",
        "df = pd.DataFrame({'presence': presencerateTESTpred,\n",
        "                   'approval rate': approvalrateTESTpred,\n",
        "                   'contribution': approvalcontributionrateTESTpred,\n",
        "                   'accuracy': accuracyperK}, index=range(k))\n",
        "ax = df.plot.bar(rot=0)"
      ],
      "execution_count": null,
      "outputs": [
        {
          "output_type": "display_data",
          "data": {
            "image/png": "[encoded data removed]",
            "text/plain": [
              "<Figure size 432x288 with 1 Axes>"
            ]
          },
          "metadata": {
            "needs_background": "light"
          }
        },
        {
          "output_type": "display_data",
          "data": {
            "image/png": "[encoded data removed]",
            "text/plain": [
              "<Figure size 432x288 with 1 Axes>"
            ]
          },
          "metadata": {
            "needs_background": "light"
          }
        }
      ]
    },
    {
      "cell_type": "code",
      "metadata": {
        "id": "depQ4ka0bBFd"
      },
      "source": [
        "import random\n",
        "#characterize agent according to a cluster center (person archetype) and some given noise added to it\n",
        "def simulateperson_Kcenter(kmeans,k=0,nc=0.5):\n",
        "  archetype = kmeans.cluster_centers_[k]\n",
        "  noisecoefficient = nc\n",
        "  noise = np.random.random_sample(13,)-0.5*noisecoefficient\n",
        "  output = np.clip(np.add(archetype,noise),0,1)\n",
        "  return output"
      ],
      "execution_count": null,
      "outputs": []
    },
    {
      "cell_type": "code",
      "metadata": {
        "id": "3GcSkpHA2sG0"
      },
      "source": [
        "def simulateXpeople(kmeans,x,nc=0.5):\n",
        "  simulatedX = []\n",
        "  simulatedN = x\n",
        "  for i in range(kmeans.n_clusters):\n",
        "    for j in range(simulatedN):\n",
        "      simulatedX.append(simulateperson_Kcenter(kmeans,i,nc))\n",
        "  #print(np.array(simulatedX)[0])\n",
        "  return np.array(simulatedX)"
      ],
      "execution_count": null,
      "outputs": []
    },
    {
      "cell_type": "code",
      "metadata": {
        "id": "STMacxQRRrr-",
        "colab": {
          "base_uri": "https://localhost:8080/",
          "height": 380
        },
        "outputId": "48101837-aab4-4dd5-81a2-13f97ea31ac7"
      },
      "source": [
        "#SIMULATE 5 PEOPLE AND SHOWCASE SLIGHT VARIATION AMONG THEM\n",
        "simulatedList = []\n",
        "simulatedN = 5\n",
        "for i in range(simulatedN):\n",
        "  simulatedList.append(simulateperson_Kcenter(kmeansAlg))\n",
        "simulatedX = np.array(simulatedList)\n",
        "y_pred = logreg.predict(simulatedX)\n",
        "yes = np.count_nonzero(y_pred == 1)\n",
        "no = np.count_nonzero(y_pred == 0)\n",
        "print(\"YES:\",yes,\"// NO,\",no)\n",
        "plt.imshow(simulatedX, interpolation='nearest')\n",
        "plt.show()\n",
        "\n",
        "#SHOW IN TABLE + PREDICTED LABEL\n",
        "auxDF = pd.DataFrame(simulatedX).round(2)\n",
        "auxDF['LABEL'] = y_pred\n",
        "slice_ = ['LABEL']\n",
        "def highlight_label(s, props=''):\n",
        "    return np.where(s == 0, 'color:red; background-color: #ffffb3;', 'color:green; background-color: #94C973;')\n",
        "auxDF.style.format(\"{:.2}\").apply(highlight_label, props='', axis=0, subset=slice_)\n"
      ],
      "execution_count": null,
      "outputs": [
        {
          "output_type": "stream",
          "name": "stdout",
          "text": [
            "YES: 0 // NO, 5\n"
          ]
        },
        {
          "output_type": "display_data",
          "data": {
            "image/png": "[encoded data removed]",
            "text/plain": [
              "<Figure size 432x288 with 1 Axes>"
            ]
          },
          "metadata": {
            "needs_background": "light"
          }
        },
        {
          "output_type": "execute_result",
          "data": {
            "text/html": [
              "<style  type=\"text/css\" >\n",
              "#T_ba8afa9e_4322_11ec_8844_0242ac1c0002row0_col13,#T_ba8afa9e_4322_11ec_8844_0242ac1c0002row1_col13,#T_ba8afa9e_4322_11ec_8844_0242ac1c0002row2_col13,#T_ba8afa9e_4322_11ec_8844_0242ac1c0002row3_col13,#T_ba8afa9e_4322_11ec_8844_0242ac1c0002row4_col13{\n",
              "            color: red;\n",
              "             background-color:  #ffffb3;\n",
              "        }</style><table id=\"T_ba8afa9e_4322_11ec_8844_0242ac1c0002\" class=\"dataframe\"><thead>    <tr>        <th class=\"blank level0\" ></th>        <th class=\"col_heading level0 col0\" >0</th>        <th class=\"col_heading level0 col1\" >1</th>        <th class=\"col_heading level0 col2\" >2</th>        <th class=\"col_heading level0 col3\" >3</th>        <th class=\"col_heading level0 col4\" >4</th>        <th class=\"col_heading level0 col5\" >5</th>        <th class=\"col_heading level0 col6\" >6</th>        <th class=\"col_heading level0 col7\" >7</th>        <th class=\"col_heading level0 col8\" >8</th>        <th class=\"col_heading level0 col9\" >9</th>        <th class=\"col_heading level0 col10\" >10</th>        <th class=\"col_heading level0 col11\" >11</th>        <th class=\"col_heading level0 col12\" >12</th>        <th class=\"col_heading level0 col13\" >LABEL</th>    </tr></thead><tbody>\n",
              "                <tr>\n",
              "                        <th id=\"T_ba8afa9e_4322_11ec_8844_0242ac1c0002level0_row0\" class=\"row_heading level0 row0\" >0</th>\n",
              "                        <td id=\"T_ba8afa9e_4322_11ec_8844_0242ac1c0002row0_col0\" class=\"data row0 col0\" >0.78</td>\n",
              "                        <td id=\"T_ba8afa9e_4322_11ec_8844_0242ac1c0002row0_col1\" class=\"data row0 col1\" >1.0</td>\n",
              "                        <td id=\"T_ba8afa9e_4322_11ec_8844_0242ac1c0002row0_col2\" class=\"data row0 col2\" >0.13</td>\n",
              "                        <td id=\"T_ba8afa9e_4322_11ec_8844_0242ac1c0002row0_col3\" class=\"data row0 col3\" >0.31</td>\n",
              "                        <td id=\"T_ba8afa9e_4322_11ec_8844_0242ac1c0002row0_col4\" class=\"data row0 col4\" >0.57</td>\n",
              "                        <td id=\"T_ba8afa9e_4322_11ec_8844_0242ac1c0002row0_col5\" class=\"data row0 col5\" >0.52</td>\n",
              "                        <td id=\"T_ba8afa9e_4322_11ec_8844_0242ac1c0002row0_col6\" class=\"data row0 col6\" >0.5</td>\n",
              "                        <td id=\"T_ba8afa9e_4322_11ec_8844_0242ac1c0002row0_col7\" class=\"data row0 col7\" >0.1</td>\n",
              "                        <td id=\"T_ba8afa9e_4322_11ec_8844_0242ac1c0002row0_col8\" class=\"data row0 col8\" >0.93</td>\n",
              "                        <td id=\"T_ba8afa9e_4322_11ec_8844_0242ac1c0002row0_col9\" class=\"data row0 col9\" >1.0</td>\n",
              "                        <td id=\"T_ba8afa9e_4322_11ec_8844_0242ac1c0002row0_col10\" class=\"data row0 col10\" >0.1</td>\n",
              "                        <td id=\"T_ba8afa9e_4322_11ec_8844_0242ac1c0002row0_col11\" class=\"data row0 col11\" >0.0</td>\n",
              "                        <td id=\"T_ba8afa9e_4322_11ec_8844_0242ac1c0002row0_col12\" class=\"data row0 col12\" >0.25</td>\n",
              "                        <td id=\"T_ba8afa9e_4322_11ec_8844_0242ac1c0002row0_col13\" class=\"data row0 col13\" >0.0</td>\n",
              "            </tr>\n",
              "            <tr>\n",
              "                        <th id=\"T_ba8afa9e_4322_11ec_8844_0242ac1c0002level0_row1\" class=\"row_heading level0 row1\" >1</th>\n",
              "                        <td id=\"T_ba8afa9e_4322_11ec_8844_0242ac1c0002row1_col0\" class=\"data row1 col0\" >0.86</td>\n",
              "                        <td id=\"T_ba8afa9e_4322_11ec_8844_0242ac1c0002row1_col1\" class=\"data row1 col1\" >0.41</td>\n",
              "                        <td id=\"T_ba8afa9e_4322_11ec_8844_0242ac1c0002row1_col2\" class=\"data row1 col2\" >0.74</td>\n",
              "                        <td id=\"T_ba8afa9e_4322_11ec_8844_0242ac1c0002row1_col3\" class=\"data row1 col3\" >1.0</td>\n",
              "                        <td id=\"T_ba8afa9e_4322_11ec_8844_0242ac1c0002row1_col4\" class=\"data row1 col4\" >0.55</td>\n",
              "                        <td id=\"T_ba8afa9e_4322_11ec_8844_0242ac1c0002row1_col5\" class=\"data row1 col5\" >0.41</td>\n",
              "                        <td id=\"T_ba8afa9e_4322_11ec_8844_0242ac1c0002row1_col6\" class=\"data row1 col6\" >0.87</td>\n",
              "                        <td id=\"T_ba8afa9e_4322_11ec_8844_0242ac1c0002row1_col7\" class=\"data row1 col7\" >0.3</td>\n",
              "                        <td id=\"T_ba8afa9e_4322_11ec_8844_0242ac1c0002row1_col8\" class=\"data row1 col8\" >1.0</td>\n",
              "                        <td id=\"T_ba8afa9e_4322_11ec_8844_0242ac1c0002row1_col9\" class=\"data row1 col9\" >0.82</td>\n",
              "                        <td id=\"T_ba8afa9e_4322_11ec_8844_0242ac1c0002row1_col10\" class=\"data row1 col10\" >0.14</td>\n",
              "                        <td id=\"T_ba8afa9e_4322_11ec_8844_0242ac1c0002row1_col11\" class=\"data row1 col11\" >0.26</td>\n",
              "                        <td id=\"T_ba8afa9e_4322_11ec_8844_0242ac1c0002row1_col12\" class=\"data row1 col12\" >0.71</td>\n",
              "                        <td id=\"T_ba8afa9e_4322_11ec_8844_0242ac1c0002row1_col13\" class=\"data row1 col13\" >0.0</td>\n",
              "            </tr>\n",
              "            <tr>\n",
              "                        <th id=\"T_ba8afa9e_4322_11ec_8844_0242ac1c0002level0_row2\" class=\"row_heading level0 row2\" >2</th>\n",
              "                        <td id=\"T_ba8afa9e_4322_11ec_8844_0242ac1c0002row2_col0\" class=\"data row2 col0\" >1.0</td>\n",
              "                        <td id=\"T_ba8afa9e_4322_11ec_8844_0242ac1c0002row2_col1\" class=\"data row2 col1\" >0.64</td>\n",
              "                        <td id=\"T_ba8afa9e_4322_11ec_8844_0242ac1c0002row2_col2\" class=\"data row2 col2\" >0.49</td>\n",
              "                        <td id=\"T_ba8afa9e_4322_11ec_8844_0242ac1c0002row2_col3\" class=\"data row2 col3\" >0.88</td>\n",
              "                        <td id=\"T_ba8afa9e_4322_11ec_8844_0242ac1c0002row2_col4\" class=\"data row2 col4\" >0.16</td>\n",
              "                        <td id=\"T_ba8afa9e_4322_11ec_8844_0242ac1c0002row2_col5\" class=\"data row2 col5\" >0.56</td>\n",
              "                        <td id=\"T_ba8afa9e_4322_11ec_8844_0242ac1c0002row2_col6\" class=\"data row2 col6\" >0.99</td>\n",
              "                        <td id=\"T_ba8afa9e_4322_11ec_8844_0242ac1c0002row2_col7\" class=\"data row2 col7\" >0.47</td>\n",
              "                        <td id=\"T_ba8afa9e_4322_11ec_8844_0242ac1c0002row2_col8\" class=\"data row2 col8\" >1.0</td>\n",
              "                        <td id=\"T_ba8afa9e_4322_11ec_8844_0242ac1c0002row2_col9\" class=\"data row2 col9\" >0.8</td>\n",
              "                        <td id=\"T_ba8afa9e_4322_11ec_8844_0242ac1c0002row2_col10\" class=\"data row2 col10\" >0.35</td>\n",
              "                        <td id=\"T_ba8afa9e_4322_11ec_8844_0242ac1c0002row2_col11\" class=\"data row2 col11\" >0.41</td>\n",
              "                        <td id=\"T_ba8afa9e_4322_11ec_8844_0242ac1c0002row2_col12\" class=\"data row2 col12\" >0.36</td>\n",
              "                        <td id=\"T_ba8afa9e_4322_11ec_8844_0242ac1c0002row2_col13\" class=\"data row2 col13\" >0.0</td>\n",
              "            </tr>\n",
              "            <tr>\n",
              "                        <th id=\"T_ba8afa9e_4322_11ec_8844_0242ac1c0002level0_row3\" class=\"row_heading level0 row3\" >3</th>\n",
              "                        <td id=\"T_ba8afa9e_4322_11ec_8844_0242ac1c0002row3_col0\" class=\"data row3 col0\" >1.0</td>\n",
              "                        <td id=\"T_ba8afa9e_4322_11ec_8844_0242ac1c0002row3_col1\" class=\"data row3 col1\" >1.0</td>\n",
              "                        <td id=\"T_ba8afa9e_4322_11ec_8844_0242ac1c0002row3_col2\" class=\"data row3 col2\" >0.53</td>\n",
              "                        <td id=\"T_ba8afa9e_4322_11ec_8844_0242ac1c0002row3_col3\" class=\"data row3 col3\" >0.65</td>\n",
              "                        <td id=\"T_ba8afa9e_4322_11ec_8844_0242ac1c0002row3_col4\" class=\"data row3 col4\" >0.0</td>\n",
              "                        <td id=\"T_ba8afa9e_4322_11ec_8844_0242ac1c0002row3_col5\" class=\"data row3 col5\" >0.32</td>\n",
              "                        <td id=\"T_ba8afa9e_4322_11ec_8844_0242ac1c0002row3_col6\" class=\"data row3 col6\" >1.0</td>\n",
              "                        <td id=\"T_ba8afa9e_4322_11ec_8844_0242ac1c0002row3_col7\" class=\"data row3 col7\" >0.28</td>\n",
              "                        <td id=\"T_ba8afa9e_4322_11ec_8844_0242ac1c0002row3_col8\" class=\"data row3 col8\" >0.79</td>\n",
              "                        <td id=\"T_ba8afa9e_4322_11ec_8844_0242ac1c0002row3_col9\" class=\"data row3 col9\" >1.0</td>\n",
              "                        <td id=\"T_ba8afa9e_4322_11ec_8844_0242ac1c0002row3_col10\" class=\"data row3 col10\" >0.0</td>\n",
              "                        <td id=\"T_ba8afa9e_4322_11ec_8844_0242ac1c0002row3_col11\" class=\"data row3 col11\" >0.27</td>\n",
              "                        <td id=\"T_ba8afa9e_4322_11ec_8844_0242ac1c0002row3_col12\" class=\"data row3 col12\" >0.65</td>\n",
              "                        <td id=\"T_ba8afa9e_4322_11ec_8844_0242ac1c0002row3_col13\" class=\"data row3 col13\" >0.0</td>\n",
              "            </tr>\n",
              "            <tr>\n",
              "                        <th id=\"T_ba8afa9e_4322_11ec_8844_0242ac1c0002level0_row4\" class=\"row_heading level0 row4\" >4</th>\n",
              "                        <td id=\"T_ba8afa9e_4322_11ec_8844_0242ac1c0002row4_col0\" class=\"data row4 col0\" >1.0</td>\n",
              "                        <td id=\"T_ba8afa9e_4322_11ec_8844_0242ac1c0002row4_col1\" class=\"data row4 col1\" >1.0</td>\n",
              "                        <td id=\"T_ba8afa9e_4322_11ec_8844_0242ac1c0002row4_col2\" class=\"data row4 col2\" >0.82</td>\n",
              "                        <td id=\"T_ba8afa9e_4322_11ec_8844_0242ac1c0002row4_col3\" class=\"data row4 col3\" >1.0</td>\n",
              "                        <td id=\"T_ba8afa9e_4322_11ec_8844_0242ac1c0002row4_col4\" class=\"data row4 col4\" >0.25</td>\n",
              "                        <td id=\"T_ba8afa9e_4322_11ec_8844_0242ac1c0002row4_col5\" class=\"data row4 col5\" >0.62</td>\n",
              "                        <td id=\"T_ba8afa9e_4322_11ec_8844_0242ac1c0002row4_col6\" class=\"data row4 col6\" >1.0</td>\n",
              "                        <td id=\"T_ba8afa9e_4322_11ec_8844_0242ac1c0002row4_col7\" class=\"data row4 col7\" >0.26</td>\n",
              "                        <td id=\"T_ba8afa9e_4322_11ec_8844_0242ac1c0002row4_col8\" class=\"data row4 col8\" >1.0</td>\n",
              "                        <td id=\"T_ba8afa9e_4322_11ec_8844_0242ac1c0002row4_col9\" class=\"data row4 col9\" >1.0</td>\n",
              "                        <td id=\"T_ba8afa9e_4322_11ec_8844_0242ac1c0002row4_col10\" class=\"data row4 col10\" >0.0</td>\n",
              "                        <td id=\"T_ba8afa9e_4322_11ec_8844_0242ac1c0002row4_col11\" class=\"data row4 col11\" >0.0</td>\n",
              "                        <td id=\"T_ba8afa9e_4322_11ec_8844_0242ac1c0002row4_col12\" class=\"data row4 col12\" >0.12</td>\n",
              "                        <td id=\"T_ba8afa9e_4322_11ec_8844_0242ac1c0002row4_col13\" class=\"data row4 col13\" >0.0</td>\n",
              "            </tr>\n",
              "    </tbody></table>"
            ],
            "text/plain": [
              "<pandas.io.formats.style.Styler at 0x7fbeba2b2c90>"
            ]
          },
          "metadata": {},
          "execution_count": 24
        }
      ]
    },
    {
      "cell_type": "code",
      "metadata": {
        "id": "Wy1AvWHscg9m",
        "colab": {
          "base_uri": "https://localhost:8080/",
          "height": 285
        },
        "outputId": "b5429152-2dc4-4567-b21f-13a939008315"
      },
      "source": [
        "#SIMULATE 100 PEOPLE of one type\n",
        "simulatedList = []\n",
        "simulatedN = 100\n",
        "for i in range(simulatedN):\n",
        "  simulatedList.append(simulateperson_Kcenter(kmeansAlg,0,0.3))\n",
        "simulatedX = np.array(simulatedList)\n",
        "y_pred = logreg.predict(simulatedX)\n",
        "yes = np.count_nonzero(y_pred == 1)\n",
        "no = np.count_nonzero(y_pred == 0)\n",
        "print(\"YES:\",yes,\"// NO,\",no)\n",
        "plt.imshow(simulatedX, interpolation='nearest')\n",
        "plt.show()"
      ],
      "execution_count": null,
      "outputs": [
        {
          "output_type": "stream",
          "name": "stdout",
          "text": [
            "YES: 0 // NO, 100\n"
          ]
        },
        {
          "output_type": "display_data",
          "data": {
            "image/png": "[encoded data removed]",
            "text/plain": [
              "<Figure size 432x288 with 1 Axes>"
            ]
          },
          "metadata": {
            "needs_background": "light"
          }
        }
      ]
    },
    {
      "cell_type": "code",
      "metadata": {
        "id": "nHo5QO-i2sIe",
        "colab": {
          "base_uri": "https://localhost:8080/",
          "height": 531
        },
        "outputId": "ba5243ca-a26e-4225-d208-1a0aa425129b"
      },
      "source": [
        "#SIMULATE 100 PEOPLE of one type\n",
        "simulatedX = simulateXpeople(kmeansAlg,50, 0.5)\n",
        "y_pred = logregAlg.predict(simulatedX)\n",
        "clusteredX, clusteredY = provideKlusteredX(kmeansAlg, simulatedX, y_pred)\n",
        "presencerateSIM,approvalrateSIM,approvalcontributionrateSIM = StatsOnKlusteredTest(simulatedX, clusteredX, clusteredY)\n"
      ],
      "execution_count": null,
      "outputs": [
        {
          "output_type": "stream",
          "name": "stdout",
          "text": [
            "350\n",
            "Instance proportion: 22.857142857142858 // Approval rate: 1.25\n",
            "\n",
            "Instance proportion: 9.142857142857142 // Approval rate: 78.125\n",
            "\n",
            "Instance proportion: 25.714285714285715 // Approval rate: 11.11111111111111\n",
            "\n",
            "Instance proportion: 12.857142857142858 // Approval rate: 8.88888888888889\n",
            "\n",
            "Instance proportion: 12.0 // Approval rate: 100.0\n",
            "\n",
            "Instance proportion: 7.142857142857143 // Approval rate: 80.0\n",
            "\n",
            "Instance proportion: 10.285714285714286 // Approval rate: 0.0\n",
            "\n"
          ]
        },
        {
          "output_type": "display_data",
          "data": {
            "image/png": "[encoded data removed]",
            "text/plain": [
              "<Figure size 432x288 with 1 Axes>"
            ]
          },
          "metadata": {
            "needs_background": "light"
          }
        }
      ]
    },
    {
      "cell_type": "code",
      "metadata": {
        "id": "4ln2mko-6BB1",
        "colab": {
          "base_uri": "https://localhost:8080/",
          "height": 513
        },
        "outputId": "eae99f24-601d-4760-c072-ce5bb21b440f"
      },
      "source": [
        "df = pd.DataFrame({'presence': presencerateTESTpred,\n",
        "                   'approval rate': approvalrateTESTpred,\n",
        "                   'contribution': approvalcontributionrateTESTpred}, index=range(k))\n",
        "ax = df.plot.bar(rot=0)\n",
        "df = pd.DataFrame({'presence': presencerateSIM,\n",
        "                   'approval rate': approvalrateSIM,\n",
        "                   'contribution': approvalcontributionrateSIM}, index=range(k))\n",
        "ax = df.plot.bar(rot=0)"
      ],
      "execution_count": null,
      "outputs": [
        {
          "output_type": "display_data",
          "data": {
            "image/png": "[encoded data removed]",
            "text/plain": [
              "<Figure size 432x288 with 1 Axes>"
            ]
          },
          "metadata": {
            "needs_background": "light"
          }
        },
        {
          "output_type": "display_data",
          "data": {
            "image/png": "[encoded data removed]",
            "text/plain": [
              "<Figure size 432x288 with 1 Axes>"
            ]
          },
          "metadata": {
            "needs_background": "light"
          }
        }
      ]
    },
    {
      "cell_type": "code",
      "metadata": {
        "id": "eipQB0Fm-TmR",
        "colab": {
          "base_uri": "https://localhost:8080/",
          "height": 655
        },
        "outputId": "4e3e9348-d105-4fda-9131-08625c761da3"
      },
      "source": [
        "simulatedX_train = rescaledX_train\n",
        "simulatedY_train = y_train\n",
        "clustered_SIM_X,clustered_SIM_Y = provideKlusteredX(kmeansAlg, rescaledX_train, y_train)\n",
        "\n",
        "y_pred = logregAlg.predict(rescaledX_test)\n",
        "yes = np.count_nonzero(y_pred == 1)\n",
        "no = np.count_nonzero(y_pred == 0)\n",
        "print(\"TEST set - YES:\",yes,\"// NO,\",no,\" =\",100*yes/len(rescaledX_test))\n",
        "\n",
        "BatchLogreg = LogisticRegression()\n",
        "#BatchLogreg = LogisticRegression(max_iter=100, tol=0.01)\n",
        "for iter in range(20):\n",
        "  BatchLogreg.fit(simulatedX_train, simulatedY_train)\n",
        "  #print(BatchLogreg.coef_)\n",
        "  simulatedBatch = simulateXpeople(kmeansAlg,1000)\n",
        "  Sy_pred = BatchLogreg.predict(simulatedBatch)\n",
        "  simulatedX_train = np.concatenate((simulatedX_train,simulatedBatch))\n",
        "  simulatedY_train = np.concatenate((simulatedY_train,Sy_pred))\n",
        "  #simulatedY_train = np.concatenate((simulatedY_train,[1]*len(Sy_pred)))\n",
        "\n",
        "  Ty_pred = BatchLogreg.predict(rescaledX_test)\n",
        "  yes = np.count_nonzero(Ty_pred == 1)\n",
        "  no = np.count_nonzero(Ty_pred == 0)\n",
        "  print(\"iteration:\",iter,\"( trainsize =\",len(simulatedX_train),\") - YES:\",yes,\"// NO,\",no,\" =\",100*yes/len(rescaledX_test))"
      ],
      "execution_count": null,
      "outputs": [
        {
          "output_type": "stream",
          "name": "stdout",
          "text": [
            "462\n",
            "TEST set - YES: 110 // NO, 118  = 48.24561403508772\n",
            "iteration: 0 ( trainsize = 7462 ) - YES: 110 // NO, 118  = 48.24561403508772\n",
            "iteration: 1 ( trainsize = 14462 ) - YES: 110 // NO, 118  = 48.24561403508772\n",
            "iteration: 2 ( trainsize = 21462 ) - YES: 110 // NO, 118  = 48.24561403508772\n",
            "iteration: 3 ( trainsize = 28462 ) - YES: 110 // NO, 118  = 48.24561403508772\n",
            "iteration: 4 ( trainsize = 35462 ) - YES: 109 // NO, 119  = 47.80701754385965\n",
            "iteration: 5 ( trainsize = 42462 ) - YES: 109 // NO, 119  = 47.80701754385965\n",
            "iteration: 6 ( trainsize = 49462 ) - YES: 109 // NO, 119  = 47.80701754385965\n",
            "iteration: 7 ( trainsize = 56462 ) - YES: 109 // NO, 119  = 47.80701754385965\n",
            "iteration: 8 ( trainsize = 63462 ) - YES: 109 // NO, 119  = 47.80701754385965\n",
            "iteration: 9 ( trainsize = 70462 ) - YES: 109 // NO, 119  = 47.80701754385965\n",
            "iteration: 10 ( trainsize = 77462 ) - YES: 109 // NO, 119  = 47.80701754385965\n",
            "iteration: 11 ( trainsize = 84462 ) - YES: 109 // NO, 119  = 47.80701754385965\n",
            "iteration: 12 ( trainsize = 91462 ) - YES: 109 // NO, 119  = 47.80701754385965\n",
            "iteration: 13 ( trainsize = 98462 ) - YES: 109 // NO, 119  = 47.80701754385965\n",
            "iteration: 14 ( trainsize = 105462 ) - YES: 109 // NO, 119  = 47.80701754385965\n",
            "iteration: 15 ( trainsize = 112462 ) - YES: 109 // NO, 119  = 47.80701754385965\n",
            "iteration: 16 ( trainsize = 119462 ) - YES: 109 // NO, 119  = 47.80701754385965\n",
            "iteration: 17 ( trainsize = 126462 ) - YES: 109 // NO, 119  = 47.80701754385965\n",
            "iteration: 18 ( trainsize = 133462 ) - YES: 109 // NO, 119  = 47.80701754385965\n",
            "iteration: 19 ( trainsize = 140462 ) - YES: 109 // NO, 119  = 47.80701754385965\n"
          ]
        },
        {
          "output_type": "display_data",
          "data": {
            "image/png": "[encoded data removed]",
            "text/plain": [
              "<Figure size 432x288 with 1 Axes>"
            ]
          },
          "metadata": {
            "needs_background": "light"
          }
        }
      ]
    },
    {
      "cell_type": "code",
      "metadata": {
        "id": "_OAIPu3mlu7L",
        "colab": {
          "base_uri": "https://localhost:8080/",
          "height": 285
        },
        "outputId": "3ad043ce-5f99-4289-aff7-b3ae1bcbe664"
      },
      "source": [
        "clustered_SIM_Xafter,clustered_SIM_Yafter = provideKlusteredX(kmeansAlg, simulatedX_train, simulatedY_train)"
      ],
      "execution_count": null,
      "outputs": [
        {
          "output_type": "stream",
          "name": "stdout",
          "text": [
            "140462\n"
          ]
        },
        {
          "output_type": "display_data",
          "data": {
            "image/png": "[encoded data removed]",
            "text/plain": [
              "<Figure size 432x288 with 1 Axes>"
            ]
          },
          "metadata": {
            "needs_background": "light"
          }
        }
      ]
    },
    {
      "cell_type": "code",
      "metadata": {
        "id": "42sPU5ginEXj",
        "colab": {
          "base_uri": "https://localhost:8080/",
          "height": 1000
        },
        "outputId": "70f3bc23-aa7a-47f5-99e2-f63b9cede734"
      },
      "source": [
        "df = pd.DataFrame({'approval rate': approvalrateTESTpred,\n",
        "                   'contribution': approvalcontributionrateTESTpred}, index=range(k))\n",
        "ax = df.plot.bar(rot=0)\n",
        "\n",
        "presencerateTESTSIM,approvalrateTESTSIM,approvalcontributionrateTESTSIM, accuracyperKTESTSIM = StatsOnKlusteredTestLogRegResults(BatchLogreg,inputX,clustered_testX,clustered_testY)\n",
        "df = pd.DataFrame({'approval rate': approvalrateTESTSIM,\n",
        "                   'contribution': approvalcontributionrateTESTSIM,}, index=range(k))\n",
        "ax = df.plot.bar(rot=0)\n",
        "\n",
        "df = pd.DataFrame({'accuracyPRE': accuracyperK,\n",
        "                   'accuracyPOST': accuracyperKTESTSIM}, index=range(k))\n",
        "ax = df.plot.bar(rot=0)"
      ],
      "execution_count": null,
      "outputs": [
        {
          "output_type": "stream",
          "name": "stdout",
          "text": [
            "Accuracy of logistic regression classifier:  0.9512195121951219\n",
            "Instance proportion: 17.982456140350877 // Approval rate: 0.0\n",
            "\n",
            "Accuracy of logistic regression classifier:  0.9130434782608695\n",
            "Instance proportion: 20.17543859649123 // Approval rate: 100.0\n",
            "\n",
            "Accuracy of logistic regression classifier:  0.5\n",
            "Instance proportion: 8.771929824561404 // Approval rate: 20.0\n",
            "\n",
            "Accuracy of logistic regression classifier:  0.6\n",
            "Instance proportion: 17.54385964912281 // Approval rate: 0.0\n",
            "\n",
            "Accuracy of logistic regression classifier:  0.9310344827586207\n",
            "Instance proportion: 12.719298245614034 // Approval rate: 100.0\n",
            "\n",
            "Accuracy of logistic regression classifier:  0.8695652173913043\n",
            "Instance proportion: 10.087719298245615 // Approval rate: 95.65217391304348\n",
            "\n",
            "Accuracy of logistic regression classifier:  0.9655172413793104\n",
            "Instance proportion: 12.719298245614034 // Approval rate: 27.586206896551722\n",
            "\n"
          ]
        },
        {
          "output_type": "display_data",
          "data": {
            "image/png": "[encoded data removed]",
            "text/plain": [
              "<Figure size 432x288 with 1 Axes>"
            ]
          },
          "metadata": {
            "needs_background": "light"
          }
        },
        {
          "output_type": "display_data",
          "data": {
            "image/png": "[encoded data removed]",
            "text/plain": [
              "<Figure size 432x288 with 1 Axes>"
            ]
          },
          "metadata": {
            "needs_background": "light"
          }
        },
        {
          "output_type": "display_data",
          "data": {
            "image/png": "[encoded data removed]",
            "text/plain": [
              "<Figure size 432x288 with 1 Axes>"
            ]
          },
          "metadata": {
            "needs_background": "light"
          }
        }
      ]
    },
    {
      "cell_type": "code",
      "metadata": {
        "id": "KhOrySHTHanj"
      },
      "source": [
        "simulatedpeopleN = 10\n",
        "dicPeople = {}\n",
        "\"\"\"\n",
        "for i in range(simulatedpeopleN):\n",
        "  properties_i = {\"ID\":i,\"Happiness\":0,\"Money\":random.randint(0,1000),\"NeedofMoney\":random.randint(1,1000)}\n",
        "  properties_i['Happiness'] = 100 * properties_i['Money'] / properties_i['NeedofMoney']\n",
        "  dicPeople[i] = properties_i\n",
        "print([item[\"Happiness\"] for item in dicPeople.values() if item[\"Happiness\"]>50])\n",
        "\"\"\"\n",
        "class Person():\n",
        "  def __init__(self,i,b,p,n):\n",
        "        self.id = i\n",
        "        self.balance = b\n",
        "        self.petition = p\n",
        "        self.need = n\n",
        "        self.happiness = 100*self.balance/max(1,self.need)\n",
        "  def updateH(self):\n",
        "    self.happiness = 100*self.balance/self.need\n",
        "    return self.happiness\n",
        "\n",
        "for i in range(simulatedpeopleN):\n",
        "  p = Person(i,random.randint(0,1000),random.randint(1,1000),random.randint(1,1000))\n",
        "  dicPeople[i] = p"
      ],
      "execution_count": null,
      "outputs": []
    },
    {
      "cell_type": "code",
      "metadata": {
        "id": "N1fm9rc2J5pE",
        "colab": {
          "base_uri": "https://localhost:8080/"
        },
        "outputId": "774ac7ce-704f-45c6-abfb-4b84c5eac0bc"
      },
      "source": [
        "print([(item.id,item.happiness) for item in dicPeople.values() if item.happiness<50])"
      ],
      "execution_count": null,
      "outputs": [
        {
          "output_type": "stream",
          "name": "stdout",
          "text": [
            "[(0, 4.871794871794871), (2, 12.1765601217656), (3, 33.6179295624333), (6, 18.89400921658986), (8, 48.07256235827664), (9, 47.49034749034749)]\n"
          ]
        }
      ]
    },
    {
      "cell_type": "code",
      "metadata": {
        "colab": {
          "base_uri": "https://localhost:8080/"
        },
        "id": "SPizfZQ8L9N3",
        "outputId": "d8895239-c0dc-45aa-c592-e151f553bad7"
      },
      "source": [
        "print([(item.id,item.happiness) for item in dicPeople.values() if item.happiness>50])"
      ],
      "execution_count": null,
      "outputs": [
        {
          "output_type": "stream",
          "name": "stdout",
          "text": [
            "[(1, 605.4347826086956), (4, 406.4102564102564), (5, 1212.9032258064517), (7, 109.63855421686748)]\n"
          ]
        }
      ]
    },
    {
      "cell_type": "code",
      "metadata": {
        "colab": {
          "base_uri": "https://localhost:8080/"
        },
        "id": "VcFxAyrtMgAQ",
        "outputId": "cea8033b-3435-4c57-9399-3ab72ec03a24"
      },
      "source": [
        "print(sum([(item.happiness) for item in dicPeople.values()]))\n",
        "dicPeople[0].balance-=100\n",
        "dicPeople[0].updateH()\n",
        "print(sum([(item.happiness) for item in dicPeople.values()]))"
      ],
      "execution_count": null,
      "outputs": [
        {
          "output_type": "stream",
          "name": "stdout",
          "text": [
            "593.7018526159294\n",
            "583.1866055076224\n"
          ]
        }
      ]
    },
    {
      "cell_type": "code",
      "metadata": {
        "id": "qCrTMIi3NqRO"
      },
      "source": [
        "class Bank():\n",
        "  def __init__(self,m,c,d):\n",
        "    self.model = m\n",
        "    self.money = c\n",
        "    self.clientSatisfaction = 0\n",
        "    self.dic = d\n",
        "  def processClientBatch(clientBatch):\n",
        "    original_weights = self.model.weights\n",
        "    original_money = self.money\n",
        "    best_weights = 0\n",
        "    aux_satisfaction = 0\n",
        "    for i in range(5):\n",
        "    #  assessment = self.model.predict(clientBatch)\n",
        "    #  curr_satisfaction = checkBatchH(clientBatch,assessment) #clientBatch's happiness is checked, and sufficient remaining funds in the bank as well\n",
        "    #  if curr_satisfaction > aux_satisfaction:\n",
        "    #    aux_satisfaction=curr_satisfaction\n",
        "    #    best_weights = self.model.weights\n",
        "    #  self.model.weights = original_weights+np.random.sample([len(self.model.weights),])*0.25\n",
        "    #self.model.weights = best_weights\n",
        "    #clientBatch's balances and happiness are updates, and funds in the bank as well\n",
        "    #self.clientSatisfaction = new satisfaction from the batch(or whole bank user base)\n",
        "    \n",
        "  def checkBatchH(clientBatch, approvalList):\n",
        "    auxmoney = self.money\n",
        "    auxH = 0.0\n",
        "    for p in len(clientBatch.data):\n",
        "      gl_i = clientBatch.id+p\n",
        "      if approvalList[gl_i] = 1.0:\n",
        "        self.dic[gl_i].balance = self.dic[gl_i].petition\n",
        "        auxmoney -= dic[gl_i].petition\n",
        "      auxH += self.dic[gl_i].updateH()\n",
        "\n",
        "\n",
        "\n",
        "class peopleDataBatch:\n",
        "  def __init__(self,i,d):\n",
        "        self.id = i\n",
        "        self.data = d\n",
        "        self.size = len(d)\n",
        "\n",
        "bank = Bank(BatchLogreg,10**6,dicPeople)\n",
        "\n",
        "databatches=[]\n",
        "b_size = 100\n",
        "for p in range(0,len(X_test),b_size):\n",
        "  databatches.append(peopleDataBatch(p,X_test[p:p+b_size]))\n",
        "first = databatches[0]\n",
        "\n",
        "bank.processClientBatch(first)"
      ],
      "execution_count": null,
      "outputs": []
    }
  ]
}