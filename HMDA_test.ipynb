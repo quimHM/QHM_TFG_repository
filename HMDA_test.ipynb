{
  "cells": [
    {
      "cell_type": "markdown",
      "metadata": {
        "id": "view-in-github",
        "colab_type": "text"
      },
      "source": [
        "<a href=\"https://colab.research.google.com/github/quimHM/QHM_TFG_repository/blob/main/HMDA_test.ipynb\" target=\"_parent\"><img src=\"https://colab.research.google.com/assets/colab-badge.svg\" alt=\"Open In Colab\"/></a>"
      ]
    },
    {
      "cell_type": "code",
      "execution_count": null,
      "metadata": {
        "colab": {
          "base_uri": "https://localhost:8080/"
        },
        "id": "ntkGE0w0OuhR",
        "outputId": "6a315f4d-2c2a-4dbe-b837-d6f52d156eac"
      },
      "outputs": [
        {
          "output_type": "stream",
          "name": "stdout",
          "text": [
            "Requirement already satisfied: fitter in /usr/local/lib/python3.7/dist-packages (1.4.0)\n",
            "Requirement already satisfied: joblib in /usr/local/lib/python3.7/dist-packages (from fitter) (1.1.0)\n",
            "Requirement already satisfied: click in /usr/local/lib/python3.7/dist-packages (from fitter) (7.1.2)\n",
            "Requirement already satisfied: numpy in /usr/local/lib/python3.7/dist-packages (from fitter) (1.21.6)\n",
            "Requirement already satisfied: pandas in /usr/local/lib/python3.7/dist-packages (from fitter) (1.3.5)\n",
            "Requirement already satisfied: matplotlib in /usr/local/lib/python3.7/dist-packages (from fitter) (3.2.2)\n",
            "Requirement already satisfied: easydev in /usr/local/lib/python3.7/dist-packages (from fitter) (0.12.0)\n",
            "Requirement already satisfied: scipy>=0.18 in /usr/local/lib/python3.7/dist-packages (from fitter) (1.4.1)\n",
            "Requirement already satisfied: colorama in /usr/local/lib/python3.7/dist-packages (from easydev->fitter) (0.4.4)\n",
            "Requirement already satisfied: colorlog in /usr/local/lib/python3.7/dist-packages (from easydev->fitter) (6.6.0)\n",
            "Requirement already satisfied: pexpect in /usr/local/lib/python3.7/dist-packages (from easydev->fitter) (4.8.0)\n",
            "Requirement already satisfied: kiwisolver>=1.0.1 in /usr/local/lib/python3.7/dist-packages (from matplotlib->fitter) (1.4.2)\n",
            "Requirement already satisfied: pyparsing!=2.0.4,!=2.1.2,!=2.1.6,>=2.0.1 in /usr/local/lib/python3.7/dist-packages (from matplotlib->fitter) (3.0.8)\n",
            "Requirement already satisfied: python-dateutil>=2.1 in /usr/local/lib/python3.7/dist-packages (from matplotlib->fitter) (2.8.2)\n",
            "Requirement already satisfied: cycler>=0.10 in /usr/local/lib/python3.7/dist-packages (from matplotlib->fitter) (0.11.0)\n",
            "Requirement already satisfied: typing-extensions in /usr/local/lib/python3.7/dist-packages (from kiwisolver>=1.0.1->matplotlib->fitter) (4.2.0)\n",
            "Requirement already satisfied: six>=1.5 in /usr/local/lib/python3.7/dist-packages (from python-dateutil>=2.1->matplotlib->fitter) (1.15.0)\n",
            "Requirement already satisfied: pytz>=2017.3 in /usr/local/lib/python3.7/dist-packages (from pandas->fitter) (2022.1)\n",
            "Requirement already satisfied: ptyprocess>=0.5 in /usr/local/lib/python3.7/dist-packages (from pexpect->easydev->fitter) (0.7.0)\n"
          ]
        }
      ],
      "source": [
        "!pip install fitter\n"
      ]
    },
    {
      "cell_type": "code",
      "execution_count": null,
      "metadata": {
        "colab": {
          "base_uri": "https://localhost:8080/"
        },
        "id": "IfBnGFsYyrBo",
        "outputId": "b5549cc0-f50d-459d-8b69-5edd8803338e"
      },
      "outputs": [
        {
          "output_type": "stream",
          "name": "stderr",
          "text": [
            "/usr/local/lib/python3.7/dist-packages/IPython/core/interactiveshell.py:2882: DtypeWarning: Columns (22,23,24,26,27,28,29,30,31,32,33,38,43,44) have mixed types.Specify dtype option on import or set low_memory=False.\n",
            "  exec(code_obj, self.user_global_ns, self.user_ns)\n"
          ]
        },
        {
          "output_type": "stream",
          "name": "stdout",
          "text": [
            "samples: 788548\n",
            "features: 99\n",
            "activity_year:  2020\n",
            "lei:  7H6GLXDRUGQFU57RNE97\n",
            "derived_msa-md:  12060\n",
            "state_code:  GA\n",
            "county_code:  13135.0\n",
            "census_tract:  13135050607.0\n",
            "conforming_loan_limit:  C\n",
            "derived_loan_product_type:  Conventional:First Lien\n",
            "derived_dwelling_category:  Single Family (1-4 Units):Site-Built\n",
            "derived_ethnicity:  Not Hispanic or Latino\n",
            "derived_race:  Asian\n",
            "derived_sex:  Male\n",
            "action_taken:  1\n",
            "purchaser_type:  3\n",
            "preapproval:  2\n",
            "loan_type:  1\n",
            "loan_purpose:  31\n",
            "lien_status:  1\n",
            "reverse_mortgage:  2\n",
            "open-end_line_of_credit:  2\n",
            "business_or_commercial_purpose:  2\n",
            "loan_amount:  205000.0\n",
            "loan_to_value_ratio:  68.0\n",
            "interest_rate:  2.75\n",
            "rate_spread:  -0.56256\n",
            "hoepa_status:  2\n",
            "total_loan_costs:  3003.52\n",
            "total_points_and_fees:  nan\n",
            "origination_charges:  1960.58\n",
            "discount_points:  765.58\n",
            "lender_credits:  nan\n",
            "loan_term:  120\n",
            "prepayment_penalty_term:  nan\n",
            "intro_rate_period:  nan\n",
            "negative_amortization:  2\n",
            "interest_only_payment:  2\n",
            "balloon_payment:  2\n",
            "other_nonamortizing_features:  2\n",
            "property_value:  305000\n",
            "construction_method:  1\n",
            "occupancy_type:  1\n",
            "manufactured_home_secured_property_type:  3\n",
            "manufactured_home_land_property_interest:  5\n",
            "total_units:  1\n",
            "multifamily_affordable_units:  nan\n",
            "income:  103.0\n",
            "debt_to_income_ratio:  38\n",
            "applicant_credit_score_type:  3\n",
            "co-applicant_credit_score_type:  10\n",
            "applicant_ethnicity-1:  2.0\n",
            "applicant_ethnicity-2:  nan\n",
            "applicant_ethnicity-3:  nan\n",
            "applicant_ethnicity-4:  nan\n",
            "applicant_ethnicity-5:  nan\n",
            "co-applicant_ethnicity-1:  5.0\n",
            "co-applicant_ethnicity-2:  nan\n",
            "co-applicant_ethnicity-3:  nan\n",
            "co-applicant_ethnicity-4:  nan\n",
            "co-applicant_ethnicity-5:  nan\n",
            "applicant_ethnicity_observed:  2\n",
            "co-applicant_ethnicity_observed:  4\n",
            "applicant_race-1:  22.0\n",
            "applicant_race-2:  nan\n",
            "applicant_race-3:  nan\n",
            "applicant_race-4:  nan\n",
            "applicant_race-5:  nan\n",
            "co-applicant_race-1:  8.0\n",
            "co-applicant_race-2:  nan\n",
            "co-applicant_race-3:  nan\n",
            "co-applicant_race-4:  nan\n",
            "co-applicant_race-5:  nan\n",
            "applicant_race_observed:  2\n",
            "co-applicant_race_observed:  4\n",
            "applicant_sex:  1\n",
            "co-applicant_sex:  5\n",
            "applicant_sex_observed:  2\n",
            "co-applicant_sex_observed:  4\n",
            "applicant_age:  55-64\n",
            "co-applicant_age:  9999\n",
            "applicant_age_above_62:  No\n",
            "co-applicant_age_above_62:  nan\n",
            "submission_of_application:  1\n",
            "initially_payable_to_institution:  1\n",
            "aus-1:  1\n",
            "aus-2:  2.0\n",
            "aus-3:  5.0\n",
            "aus-4:  nan\n",
            "aus-5:  nan\n",
            "denial_reason-1:  10\n",
            "denial_reason-2:  nan\n",
            "denial_reason-3:  nan\n",
            "denial_reason-4:  nan\n",
            "tract_population:  17159\n",
            "tract_minority_population_percent:  39.54\n",
            "ffiec_msa_md_median_family_income:  82200\n",
            "tract_to_msa_income_percentage:  137\n",
            "tract_owner_occupied_units:  4190\n",
            "tract_one_to_four_family_homes:  5250\n",
            "tract_median_age_of_housing_units:  13\n"
          ]
        }
      ],
      "source": [
        "from sklearn.preprocessing import MinMaxScaler\n",
        "from sklearn.linear_model import LogisticRegression\n",
        "from sklearn.model_selection import cross_validate\n",
        "import pandas as pd\n",
        "import numpy as np\n",
        "import matplotlib.pyplot as plt\n",
        "import random\n",
        "from fitter import Fitter\n",
        "#unpickled_df = pd.read_pickle(\"/content/drive/MyDrive/s170BLfdSYPp\") #https://liveproject.manning.com/module/405_2_1/measuring-bias-in-a-dataset/1--load-the-hmda-dataset-into-a-pandas-dataframe/1-1-workflow%3a-load-the-hmda-dataset-into-a-pandas-dataframe?\n",
        "unpickled_df = pd.read_csv(\"/content/drive/MyDrive/TFG/state_AL-GA_actions_taken_1-3.csv\")\n",
        "print(\"samples:\",len(unpickled_df))\n",
        "print(\"features:\",len(unpickled_df.columns))\n",
        "for c in unpickled_df.columns: \n",
        "  print(c+\": \",unpickled_df.iloc[0][c])"
      ]
    },
    {
      "cell_type": "code",
      "execution_count": null,
      "metadata": {
        "colab": {
          "base_uri": "https://localhost:8080/",
          "height": 805
        },
        "id": "F-vAa-p8Qzsx",
        "outputId": "483fdccb-d876-4f04-ed20-43ce15e5f8f0"
      },
      "outputs": [
        {
          "output_type": "execute_result",
          "data": {
            "text/plain": [
              "(array([ 2896.,  7374., 12049., 11825., 11802., 18353., 14796., 16657.,\n",
              "        17444., 17226., 26873., 21397., 26133., 25845., 26927., 31490.,\n",
              "        29074., 28415., 28450., 25994., 28601., 24987., 25190., 22950.,\n",
              "        22502., 22286., 19195., 17793., 16639., 14356., 15104., 12232.,\n",
              "        11890., 10857.,  9816.,  9906.,  8783.,  7645.,  7630.,  6449.,\n",
              "         7326.,  4905.,  4691.,  3952.,  4144.,  4053.,  3283.,  3239.,\n",
              "         3418.,  2648.,  3805.,  9008.,   513.,   490.,   636.,   594.,\n",
              "          552.,   518.,   511.,   412.,   587.,   430.,   435.,   433.,\n",
              "          393.,   497.,   394.,   344.,   380.,   298.,   419.,   331.,\n",
              "          307.,   241.,   262.,   463.,   258.,   178.,   233.,   170.,\n",
              "          284.,   146.,   172.,   151.,   163.,   202.,   124.,   145.,\n",
              "          154.,   100.,   191.,   106.,   127.,   105.,   124.,   110.,\n",
              "          126.,    87.,   107.,   144.]),\n",
              " array([      0.,   10000.,   20000.,   30000.,   40000.,   50000.,\n",
              "          60000.,   70000.,   80000.,   90000.,  100000.,  110000.,\n",
              "         120000.,  130000.,  140000.,  150000.,  160000.,  170000.,\n",
              "         180000.,  190000.,  200000.,  210000.,  220000.,  230000.,\n",
              "         240000.,  250000.,  260000.,  270000.,  280000.,  290000.,\n",
              "         300000.,  310000.,  320000.,  330000.,  340000.,  350000.,\n",
              "         360000.,  370000.,  380000.,  390000.,  400000.,  410000.,\n",
              "         420000.,  430000.,  440000.,  450000.,  460000.,  470000.,\n",
              "         480000.,  490000.,  500000.,  510000.,  520000.,  530000.,\n",
              "         540000.,  550000.,  560000.,  570000.,  580000.,  590000.,\n",
              "         600000.,  610000.,  620000.,  630000.,  640000.,  650000.,\n",
              "         660000.,  670000.,  680000.,  690000.,  700000.,  710000.,\n",
              "         720000.,  730000.,  740000.,  750000.,  760000.,  770000.,\n",
              "         780000.,  790000.,  800000.,  810000.,  820000.,  830000.,\n",
              "         840000.,  850000.,  860000.,  870000.,  880000.,  890000.,\n",
              "         900000.,  910000.,  920000.,  930000.,  940000.,  950000.,\n",
              "         960000.,  970000.,  980000.,  990000., 1000000.]),\n",
              " <a list of 100 Patch objects>)"
            ]
          },
          "metadata": {},
          "execution_count": 5
        },
        {
          "output_type": "display_data",
          "data": {
            "text/plain": [
              "<Figure size 432x288 with 1 Axes>"
            ],
            "image/png": "[encoded data removed]"
          },
          "metadata": {
            "needs_background": "light"
          }
        }
      ],
      "source": [
        "#print(unpickled_df.loan_amount_000s)\n",
        "#plt.hist(unpickled_df.loan_amount_000s, bins=100, range=[0, 1250])\n",
        "plt.hist(unpickled_df.loan_amount, bins=100, range=[0, 1000000])"
      ]
    },
    {
      "cell_type": "code",
      "execution_count": null,
      "metadata": {
        "id": "0OVclIyKYkvG"
      },
      "outputs": [],
      "source": [
        "#f = Fitter(X_test[\"loan_amount\"], xmax=1000000,\n",
        "#           distributions=['gamma', \"beta\", \"norm\"])\n",
        "#f.fit()\n",
        "#f.summary()"
      ]
    },
    {
      "cell_type": "code",
      "execution_count": null,
      "metadata": {
        "id": "tPgL3jdoPsmq"
      },
      "outputs": [],
      "source": [
        "#b = f.get_best()\n",
        "#print(b)\n",
        "#r = (np.random.beta(b[\"beta\"][\"a\"],b[\"beta\"][\"b\"])-b[\"beta\"][\"loc\"])/b[\"beta\"][\"scale\"]*1000\n",
        "#print(r)"
      ]
    },
    {
      "cell_type": "code",
      "execution_count": null,
      "metadata": {
        "id": "JMKKilGVXkxO"
      },
      "outputs": [],
      "source": [
        "from scipy.stats import beta\n",
        "#r = beta.rvs(b[\"beta\"][\"a\"],b[\"beta\"][\"b\"],b[\"beta\"][\"loc\"],b[\"beta\"][\"scale\"],size=100000)\n",
        "#plt.hist(r, bins=100)"
      ]
    },
    {
      "cell_type": "code",
      "execution_count": null,
      "metadata": {
        "id": "T09B15tfXk51",
        "colab": {
          "base_uri": "https://localhost:8080/"
        },
        "outputId": "571df734-034f-41ac-cc83-f7537cbf2f31"
      },
      "outputs": [
        {
          "output_type": "stream",
          "name": "stdout",
          "text": [
            "637571 150977\n",
            "action: [1 0]\n",
            "637571 150977\n",
            "race pre: [22.  5.  3.  6. 25. 21.  1.  2. 23. 27. 26. 24. 44.  7.  4. nan 42. 43.\n",
            " 41.]\n",
            "race: [0. 1.]\n",
            "ethnicity pre: [ 2.  1. 14. 12. 11.  3. 13.  4. nan]\n"
          ]
        },
        {
          "output_type": "stream",
          "name": "stderr",
          "text": [
            "/usr/local/lib/python3.7/dist-packages/ipykernel_launcher.py:16: SettingWithCopyWarning: \n",
            "A value is trying to be set on a copy of a slice from a DataFrame.\n",
            "Try using .loc[row_indexer,col_indexer] = value instead\n",
            "\n",
            "See the caveats in the documentation: https://pandas.pydata.org/pandas-docs/stable/user_guide/indexing.html#returning-a-view-versus-a-copy\n",
            "  app.launch_new_instance()\n"
          ]
        },
        {
          "output_type": "stream",
          "name": "stdout",
          "text": [
            "ethnicity: [0. 1.]\n",
            "sex pre [2 1 3 6 4]\n",
            "sex: [1 0]\n",
            "485315 109127\n",
            "594442\n"
          ]
        }
      ],
      "source": [
        "subsample = unpickled_df                    \n",
        "\n",
        "print(len(subsample.loc[subsample[\"action_taken\"]==1]),len(subsample.loc[subsample[\"action_taken\"]==3]))\n",
        "subsample = subsample.loc[subsample[\"action_taken\"].isin([1,3])]\n",
        "subsample[\"action_taken\"] = subsample[\"action_taken\"].replace([3],[0])    \n",
        "print(\"action:\",subsample[\"action_taken\"].unique())\n",
        "print(len(subsample.loc[subsample[\"action_taken\"]==1]),len(subsample.loc[subsample[\"action_taken\"]==0]))\n",
        "\n",
        "print(\"race pre:\",subsample[\"applicant_race-1\"].unique())\n",
        "subsample = subsample.loc[subsample[\"applicant_race-1\"].isin([3,5])]\n",
        "subsample[\"applicant_race-1\"] = subsample[\"applicant_race-1\"].replace([5,3],[0,1])\n",
        "print(\"race:\",subsample[\"applicant_race-1\"].unique())\n",
        "\n",
        "print(\"ethnicity pre:\",subsample[\"applicant_ethnicity-1\"].unique())\n",
        "subsample = subsample.loc[subsample[\"applicant_ethnicity-1\"].isin([1,2])]\n",
        "subsample[\"applicant_ethnicity-1\"] = subsample[\"applicant_ethnicity-1\"].replace([2,1],[0,1])\n",
        "print(\"ethnicity:\",subsample[\"applicant_ethnicity-1\"].unique())\n",
        "\n",
        "print(\"sex pre\",subsample[\"applicant_sex\"].unique())\n",
        "subsample = subsample.loc[subsample[\"applicant_sex\"].isin([1,2])]\n",
        "subsample[\"applicant_sex\"] = subsample[\"applicant_sex\"].replace([1,2],[0,1])\n",
        "print(\"sex:\",subsample[\"applicant_sex\"].unique())\n",
        "\n",
        "\n",
        "print(len(subsample.loc[subsample[\"action_taken\"]==1]),len(subsample.loc[subsample[\"action_taken\"]==0]))\n",
        "\n",
        "print(len(subsample))\n",
        "#subsample = subsample[[\"loan_type\", \"property_type\", \"loan_purpose\", \"loan_amount_000s\",\n",
        "#                            \"action_taken\",\"applicant_ethnicity\",\"applicant_race_1\",\"applicant_sex\",\n",
        "#                           \"applicant_income_000s\"]]"
      ]
    },
    {
      "cell_type": "code",
      "execution_count": null,
      "metadata": {
        "colab": {
          "base_uri": "https://localhost:8080/",
          "height": 120
        },
        "id": "Iate0g19C28Y",
        "outputId": "9b324c78-d40c-4b3f-b423-01c90fe4690d"
      },
      "outputs": [
        {
          "output_type": "execute_result",
          "data": {
            "text/plain": [
              "'\\nsubsample = unpickled_df                           \\nsubsample[\"action_taken\"] = subsample[\"action_taken\"].replace([3],[0])\\nprint(subsample[\"action_taken_name\"].unique())\\nprint(subsample[\"action_taken\"].unique())\\nprint(len(subsample[\"action_taken\"]==1),len(subsample[\"action_taken\"]==0))\\n\\nsubsample = subsample.loc[((subsample[\"applicant_race_1\"]==3) | (subsample[\"applicant_race_1\"]==5))]\\nprint(subsample[\"applicant_race_name_1\"].unique())\\nsubsample[\"applicant_race_1\"] = subsample[\"applicant_race_1\"].replace([5,3],[1,2])\\nprint(subsample[\"applicant_race_1\"].unique())\\n\\nprint(subsample[\"applicant_ethnicity_name\"].unique())\\nsubsample[\"applicant_ethnicity\"] = subsample[\"applicant_ethnicity\"].replace([2,1],[1,2])\\nprint(subsample[\"applicant_ethnicity\"].unique())\\n\\nprint(subsample[\"applicant_sex_name\"].unique())\\nprint(subsample[\"applicant_sex\"].unique())\\n'"
            ],
            "application/vnd.google.colaboratory.intrinsic+json": {
              "type": "string"
            }
          },
          "metadata": {},
          "execution_count": 10
        }
      ],
      "source": [
        "#subsample = unpickled_df[[\"loan_type\", \"property_value\", \"loan_purpose\", \"loan_amount\",\n",
        "#                            \"action_taken\",\"applicant_ethnicity-1\",\"applicant_race-1\",\"applicant_sex\",\n",
        "#                           \"income\",'occupancy_type']]\n",
        "#subsample = unpickled_df[[\"loan_type\", \"property_type\", \"loan_purpose\", \"loan_amount_000s\",\n",
        "#                            \"action_taken\",\"action_taken_name\",\"applicant_ethnicity\",\"applicant_ethnicity_name\",\"applicant_race_1\",\"applicant_race_name_1\",\"applicant_sex\",\"applicant_sex_name\",\n",
        "#                           \"applicant_income_000s\",'owner_occupancy']]\n",
        "\n",
        "#PAPER A https://www.mdpi.com/2504-4990/4/1/11\n",
        "#DATA DE https://ffiec.cfpb.gov/data-browser/data/2019?category=counties&items=01001&actions_taken=1,3\n",
        "#CAL TRIAR LES FEATURES? SOBRETOT, PILLAR LES derived_ethnicity, derived_race etc (https://ffiec.cfpb.gov/documentation/2018/data-browser-filters/)\n",
        "\n",
        "\"\"\"\n",
        "subsample = unpickled_df                           \n",
        "subsample[\"action_taken\"] = subsample[\"action_taken\"].replace([3],[0])\n",
        "print(subsample[\"action_taken_name\"].unique())\n",
        "print(subsample[\"action_taken\"].unique())\n",
        "print(len(subsample[\"action_taken\"]==1),len(subsample[\"action_taken\"]==0))\n",
        "\n",
        "subsample = subsample.loc[((subsample[\"applicant_race_1\"]==3) | (subsample[\"applicant_race_1\"]==5))]\n",
        "print(subsample[\"applicant_race_name_1\"].unique())\n",
        "subsample[\"applicant_race_1\"] = subsample[\"applicant_race_1\"].replace([5,3],[1,2])\n",
        "print(subsample[\"applicant_race_1\"].unique())\n",
        "\n",
        "print(subsample[\"applicant_ethnicity_name\"].unique())\n",
        "subsample[\"applicant_ethnicity\"] = subsample[\"applicant_ethnicity\"].replace([2,1],[1,2])\n",
        "print(subsample[\"applicant_ethnicity\"].unique())\n",
        "\n",
        "print(subsample[\"applicant_sex_name\"].unique())\n",
        "print(subsample[\"applicant_sex\"].unique())\n",
        "\"\"\"\n",
        "\n",
        "#subsample = subsample[[\"loan_type\", \"property_type\", \"loan_purpose\", \"loan_amount_000s\",\n",
        "#                            \"action_taken\",\"applicant_ethnicity\",\"applicant_race_1\",\"applicant_sex\",\n",
        "#                           \"applicant_income_000s\"]]"
      ]
    },
    {
      "cell_type": "code",
      "execution_count": null,
      "metadata": {
        "colab": {
          "base_uri": "https://localhost:8080/"
        },
        "id": "SSxWPfaLOG-g",
        "outputId": "4b923f2b-87a4-41a3-cd5b-1c1131f5d53d"
      },
      "outputs": [
        {
          "output_type": "stream",
          "name": "stdout",
          "text": [
            "485315 109127\n"
          ]
        }
      ],
      "source": [
        "print(len(subsample.loc[((subsample[\"action_taken\"]==1))]),len(subsample.loc[((subsample[\"action_taken\"]==0))]))"
      ]
    },
    {
      "cell_type": "code",
      "source": [
        "def create_df(x,xcol,y,ycol):\n",
        "  auxnparray = x.copy()\n",
        "  newdf = pd.DataFrame(auxnparray, columns = xcol)\n",
        "  newdf[ycol] = y.tolist()\n",
        "  return newdf"
      ],
      "metadata": {
        "id": "TYrlBaAiAkC_"
      },
      "execution_count": null,
      "outputs": []
    },
    {
      "cell_type": "code",
      "execution_count": null,
      "metadata": {
        "id": "rQZ_WFRsk5m5"
      },
      "outputs": [],
      "source": [
        "from matplotlib import pyplot as plt\n",
        "def show_subgroups(df,bool_app_dec,bool_percent):\n",
        "  subgroups = []\n",
        "  subgroups_names = []\n",
        "  R = [\"W\",\"B\"]\n",
        "  E = [\"NH\",\"H\"]\n",
        "  S = [\"M\",\"F\"]\n",
        "  for option in [0,1]:\n",
        "    for option2 in [0,1]:\n",
        "      for option3 in [0,1]:\n",
        "          subgroups.append(df.loc[((df[\"applicant_race-1\"]==option) & (df[\"applicant_ethnicity-1\"]==option2) & (df[\"applicant_sex\"]==option3))])\n",
        "          subgroups_names.append(R[option-1]+\"_\"+E[option2-1]+\"_\"+S[option3-1])\n",
        "  subgroups_app = []\n",
        "  subgroups_dec = []\n",
        "  percent = []\n",
        "  for s in subgroups:\n",
        "    #print(s[\"action_taken\"])\n",
        "    subgroups_app.append(len(s[s[\"action_taken\"]==1]))\n",
        "    subgroups_dec.append(len(s[s[\"action_taken\"]==0]))\n",
        "    if(len(s)!=0):\n",
        "      percent.append(round(100*len(s[s[\"action_taken\"]==1])/len(s),2))\n",
        "    else:\n",
        "      percent.append(0)\n",
        "    #print(percent[-1],\"%\")\n",
        "\n",
        "  fig = plt.figure()\n",
        "  if(bool_app_dec):\n",
        "    ax = fig.add_axes([0,0,1,1])\n",
        "    ax.bar(subgroups_names,subgroups_app, color='r')\n",
        "    ax.bar(subgroups_names,subgroups_dec, bottom=subgroups_app, color='b')\n",
        "    ax.legend(labels=['Accepted', 'Denied'])\n",
        "  if(bool_percent):\n",
        "    ax2 = fig.add_axes([1,0,1,1])\n",
        "    ax2.bar(subgroups_names,percent)\n",
        "    ax2.legend(labels=['Approval rate'])\n",
        "  if(bool_app_dec or bool_percent):\n",
        "    plt.show()\n",
        "  return (subgroups,subgroups_names,subgroups_app,subgroups_dec,percent)"
      ]
    },
    {
      "cell_type": "code",
      "source": [
        "subgroups = show_subgroups(subsample,True,True)"
      ],
      "metadata": {
        "colab": {
          "base_uri": "https://localhost:8080/",
          "height": 473
        },
        "id": "OVX9z1E6xJO1",
        "outputId": "f905dbe4-6f9d-4767-ec4a-269bfac67808"
      },
      "execution_count": null,
      "outputs": [
        {
          "output_type": "stream",
          "name": "stdout",
          "text": [
            "85.59 %\n",
            "82.53 %\n",
            "83.38 %\n",
            "80.42 %\n",
            "72.14 %\n",
            "69.51 %\n",
            "76.55 %\n",
            "71.14 %\n"
          ]
        },
        {
          "output_type": "display_data",
          "data": {
            "text/plain": [
              "<Figure size 432x288 with 2 Axes>"
            ],
            "image/png": "[encoded data removed]"
          },
          "metadata": {
            "needs_background": "light"
          }
        }
      ]
    },
    {
      "cell_type": "code",
      "source": [
        "#print([round(subgroups[2][s] / len(subgroups[0][s]),3) for s in range(len(subgroups[0]))]) #print(subgroups[4]) #the same\n",
        "yes_contribution = [round(s / sum(subgroups[2]),3) for s in subgroups[2]]\n",
        "instance_contribution = [round(len(s) / len(subsample),3) for s in subgroups[0]]\n",
        "print(\"contribution to total approvals:\",yes_contribution)\n",
        "print(\"contribution to total amount   :\",instance_contribution)\n",
        "plot_contribution = pd.DataFrame({'Yes_contribution': yes_contribution,\n",
        "                   'Instance_contribution': instance_contribution}, index=range(len(subgroups[0])))\n",
        "ax = plot_contribution.plot.bar(rot=0)"
      ],
      "metadata": {
        "colab": {
          "base_uri": "https://localhost:8080/",
          "height": 299
        },
        "id": "gAledkqFJwN8",
        "outputId": "dad9d43a-ba2d-4724-b4ce-bee998b8a1fc"
      },
      "execution_count": null,
      "outputs": [
        {
          "output_type": "stream",
          "name": "stdout",
          "text": [
            "contribution to total approvals: [0.544, 0.23, 0.028, 0.013, 0.096, 0.086, 0.002, 0.001]\n",
            "contribution to total amount   : [0.519, 0.228, 0.027, 0.013, 0.108, 0.101, 0.002, 0.002]\n"
          ]
        },
        {
          "output_type": "display_data",
          "data": {
            "text/plain": [
              "<Figure size 432x288 with 1 Axes>"
            ],
            "image/png": "[encoded data removed]"
          },
          "metadata": {
            "needs_background": "light"
          }
        }
      ]
    },
    {
      "cell_type": "code",
      "execution_count": null,
      "metadata": {
        "id": "u7D2kpw75hbO"
      },
      "outputs": [],
      "source": [
        "\"\"\"\n",
        "subgroups = []\n",
        "subgroups_names = []\n",
        "R = [\"W\",\"B\"]\n",
        "E = [\"NH\",\"H\"]\n",
        "S = [\"M\",\"F\"]\n",
        "for option in [0,1]:\n",
        "  for option2 in [0,1]:\n",
        "    for option3 in [0,1]:\n",
        "        subgroups.append(subsample.loc[((subsample[\"applicant_race-1\"]==option) & (subsample[\"applicant_ethnicity-1\"]==option2) & (subsample[\"applicant_sex\"]==option3))])\n",
        "        subgroups_names.append(R[option-1]+\"_\"+E[option2-1]+\"_\"+S[option3-1])\n",
        "len(subgroups)\n",
        "\"\"\""
      ]
    },
    {
      "cell_type": "code",
      "execution_count": null,
      "metadata": {
        "id": "bfpn5i618YC3"
      },
      "outputs": [],
      "source": [
        "\"\"\"\n",
        "subgroups_app = []\n",
        "subgroups_dec = []\n",
        "percent = []\n",
        "for s in subgroups:\n",
        "  subgroups_app.append(len(s[s[\"action_taken\"]==1]))\n",
        "  subgroups_dec.append(len(s[s[\"action_taken\"]==0]))\n",
        "  percent.append(round(100*len(s[s[\"action_taken\"]==1])/len(s),2))\n",
        "  print(len(s[s[\"action_taken\"]==1]),len(s[s[\"action_taken\"]==0]),round(100*len(s[s[\"action_taken\"]==1])/len(s),2),\"%\")\n",
        "\n",
        "\n",
        "fig = plt.figure()\n",
        "ax = fig.add_axes([0,0,2,2])\n",
        "ax.bar(subgroups_names,subgroups_app, color='r')\n",
        "ax.bar(subgroups_names,subgroups_dec, bottom=subgroups_app, color='b')\n",
        "ax.legend(labels=['Accepted', 'Denied'])\n",
        "plt.show()\n",
        "\"\"\""
      ]
    },
    {
      "cell_type": "code",
      "source": [
        "\"\"\"\n",
        "fig = plt.figure()\n",
        "ax = fig.add_axes([0,0,1,1])\n",
        "ax.set_ylim(65, 90)\n",
        "ax.bar(subgroups_names,percent)\n",
        "ax.legend(labels=['Approval rate'])\n",
        "plt.show()\n",
        "\"\"\""
      ],
      "metadata": {
        "id": "EVjavavlIJfn"
      },
      "execution_count": null,
      "outputs": []
    },
    {
      "cell_type": "code",
      "execution_count": null,
      "metadata": {
        "id": "UcTfvuKoXqzu"
      },
      "outputs": [],
      "source": [
        "\"\"\"\n",
        "for i in range(simulatedpeopleN):\n",
        "  properties_i = {\"ID\":i,\"Happiness\":0,\"Money\":random.randint(0,1000),\"NeedofMoney\":random.randint(1,1000)}\n",
        "  properties_i['Happiness'] = 100 * properties_i['Money'] / properties_i['NeedofMoney']\n",
        "  dicPeople[i] = properties_i\n",
        "print([item[\"Happiness\"] for item in dicPeople.values() if item[\"Happiness\"]>50])\n",
        "\"\"\"\n",
        "import math\n",
        "\n",
        "#functions: 1-have/need, 2-need/70K limit, 3-suma de individus happy, dues persones 25% happy sumades son el mateix que una 50%?\n",
        "def dimReturns(had,need): #https://stackoverflow.com/questions/2813621/how-do-you-create-a-formula-that-has-diminishing-returns\n",
        "  #x = had/need\n",
        "  #return 1 / (1 + math.exp(-x))\n",
        "  #return (had*had) / (had*need) + 0\n",
        "  #print(had,need)\n",
        "  x = had/max(had,need) #SUPER REVISABLE TOT (aixo es per evitar divisio per 0 i/o overflow)\n",
        "  return 100*(1/(1+100000**-(x-0.5)))\n",
        "\n",
        "class Person():\n",
        "  def __init__(self,i,p):\n",
        "        self.id = i\n",
        "        self.balance = 0 #could be a different initial b for each\n",
        "        self.petition = p\n",
        "        #self.need = n\n",
        "        self.happiness = 0.0\n",
        "        self.status = -1\n",
        "  def updateH(self):\n",
        "    self.happiness = dimReturns(self.balance,self.petition)\n",
        "    return self.happiness"
      ]
    },
    {
      "cell_type": "code",
      "execution_count": null,
      "metadata": {
        "id": "THOTfNUKe_hV"
      },
      "outputs": [],
      "source": [
        "print(len(subsample.loc[subsample[\"action_taken\"]==1]),len(subsample.loc[subsample[\"action_taken\"]==0]))\n",
        "print(len(subsample),len(subsample.columns),subsample.isnull().values.sum())\n",
        "\n",
        "#thr=0.25\n",
        "#for col in subsample.columns:\n",
        "#  if (subsample[col].isnull().sum()>thr*len(subsample)):\n",
        "    #subsample.drop(columns=[col])\n",
        "#    print(col)\n",
        "\n",
        "#subsample = subsample.dropna(axis=1,thresh=thr*len(subsample))\n",
        "#subsample = subsample.dropna(axis=0)\n",
        "\n",
        "# Iterate over each column of cc_apps\n",
        "for col in subsample.columns:\n",
        "    # Check if the column is of object type\n",
        "    if subsample[col].dtypes == 'object':\n",
        "        # Impute with the most frequent value\n",
        "        subsample = subsample.fillna(subsample[col].value_counts().index[0])\n",
        "\n",
        "\n",
        "print(len(subsample.loc[subsample[\"action_taken\"]==1]),len(subsample.loc[subsample[\"action_taken\"]==0]))\n",
        "\n",
        "# Count the number of NaNs in the dataset and print the counts to verify\n",
        "print(len(subsample),len(subsample.columns),subsample.isnull().values.sum())\n"
      ]
    },
    {
      "cell_type": "code",
      "source": [
        "subsample[\"action_taken\"].unique()"
      ],
      "metadata": {
        "id": "dooBqxQsG69u"
      },
      "execution_count": null,
      "outputs": []
    },
    {
      "cell_type": "code",
      "execution_count": null,
      "metadata": {
        "id": "IulxPGyIemhD"
      },
      "outputs": [],
      "source": [
        "# Import LabelEncoder\n",
        "#from sklearn.preprocessing import OrdinalEncoder\n",
        "\n",
        "#oe = OrdinalEncoder() \n",
        "\n",
        "#for col in subsample.columns:\n",
        "#    if subsample[col].dtype=='object':\n",
        "#        subsample[col] = oe.fit_transform(subsample[[col]])"
      ]
    },
    {
      "cell_type": "code",
      "source": [
        "cols = [f_ for f_ in subsample.columns if subsample[f_].dtype != 'object']\n",
        "features = cols\n",
        "\n",
        "list_to_remove = ['action_taken','purchaser_type',\n",
        "                  'denial_reason_1','denial_reason_2','denial_reason_3','sequence_number','application_date_indicator']\n",
        "\n",
        "features = list(set(cols).difference(set(list_to_remove)))\n",
        "\n",
        "X = subsample[features]\n",
        "y = subsample['action_taken']"
      ],
      "metadata": {
        "id": "x8-fa-NFwbRW"
      },
      "execution_count": null,
      "outputs": []
    },
    {
      "cell_type": "code",
      "source": [
        "def partitions(n_partitions, X, y):\n",
        "  X_partitions = []\n",
        "  y_partitions = []\n",
        "  size_partitions = math.floor(len(X)/n_partitions)\n",
        "  for p in range(n_partitions):\n",
        "    X_partitions.append(X[p*size_partitions:(p+1)*size_partitions])  \n",
        "    y_partitions.append(y[p*size_partitions:(p+1)*size_partitions])\n",
        "  print(len(X), [sum(len(item) for item in X_partitions)], len(X_partitions[0]))\n",
        "  return X_partitions, y_partitions"
      ],
      "metadata": {
        "id": "ils_0oolw-NO"
      },
      "execution_count": null,
      "outputs": []
    },
    {
      "cell_type": "code",
      "source": [
        "X_fractions, y_fractions = partitions(100, X, y)\n",
        "\n",
        "scaler = MinMaxScaler(feature_range=(0, 1))\n",
        "for x in range(len(X_fractions)):\n",
        "  X_fractions[x] = scaler.fit_transform(X_fractions[x])\n",
        "\n",
        "model = LogisticRegression(solver=\"liblinear\")\n",
        "\n",
        "first_part_scores_dict = cross_validate(model,X_fractions[0],y_fractions[0],cv=5, return_estimator=True)\n",
        "model = first_part_scores_dict[\"estimator\"][0] \n",
        "model.score(X_fractions[1],y_fractions[1])\n"
      ],
      "metadata": {
        "id": "uhpQtQHcy5MA"
      },
      "execution_count": null,
      "outputs": []
    },
    {
      "cell_type": "code",
      "source": [
        "for x in range(len(X_fractions)):\n",
        "  print(x,show_subgroups(create_df(X_fractions[x],X.columns,y_fractions[x],\"action_taken\"),False,False)[4])"
      ],
      "metadata": {
        "id": "-tCNM97FE2o_"
      },
      "execution_count": null,
      "outputs": []
    },
    {
      "cell_type": "code",
      "source": [
        "percent_mat = []\n",
        "X_cummulative = X_fractions[0]\n",
        "y_cummulative = y_fractions[0]\n",
        "for x in range(len(X_fractions)-1):\n",
        "  i=x+1\n",
        "  X_cummulative = np.concatenate((X_cummulative, X_fractions[i]))\n",
        "  y_cummulative = np.concatenate((y_cummulative, model.predict(X_fractions[i])))\n",
        "  model.fit(X_cummulative,y_cummulative)\n",
        "\n",
        "  auxdf = create_df(X_cummulative,X.columns,y_cummulative,\"action_taken\")\n",
        "  if(i%10==0):\n",
        "    print(i,show_subgroups(auxdf,False,False)[4])\n",
        "\n"
      ],
      "metadata": {
        "id": "JYE4Gxnl0f_m"
      },
      "execution_count": null,
      "outputs": []
    },
    {
      "cell_type": "code",
      "source": [
        "\"\"\"\n",
        "10 [84.51, 81.81, 79.41, 73.13, 68.18, 65.54, 79.52, 54.41]\n",
        "20 [82.94, 80.03, 77.15, 70.95, 66.9, 64.76, 73.01, 60.28]\n",
        "30 [81.95, 78.98, 75.96, 71.21, 67.34, 64.76, 69.11, 60.74]\n",
        "40 [81.36, 79.04, 77.45, 73.04, 68.72, 67.08, 69.18, 63.5]\n",
        "50 [79.78, 75.68, 77.53, 71.57, 66.13, 62.07, 68.43, 61.71]\n",
        "60 [79.83, 76.3, 78.12, 72.9, 66.17, 62.5, 69.57, 63.9]\n",
        "70 [80.48, 77.38, 80.48, 76.82, 67.76, 64.74, 71.43, 66.1]\n",
        "80 [81.11, 78.19, 80.96, 77.42, 69.64, 66.74, 73.26, 69.35]\n",
        "90 [80.2, 77.41, 79.77, 76.32, 67.41, 65.23, 70.57, 66.71]\n",
        "\"\"\"\n",
        "print(model.score(scaler.fit_transform(X),y))\n",
        "#print(model.score(X_cummulative,y_cummulative))"
      ],
      "metadata": {
        "id": "Yimq6gIi7aGc"
      },
      "execution_count": null,
      "outputs": []
    },
    {
      "cell_type": "code",
      "execution_count": null,
      "metadata": {
        "id": "tOvA3aimag7j"
      },
      "outputs": [],
      "source": [
        "# Import train_test_split\n",
        "from sklearn.model_selection import train_test_split\n",
        "# Split into train and test sets\n",
        "X_train, X_test, y_train, y_test = train_test_split(X,\n",
        "                                y,\n",
        "                                test_size=0.3,\n",
        "                                random_state=2)\n",
        "\n",
        "X_test1, X_test2, y_test1, y_test2 = train_test_split(X_test,\n",
        "                                y_test,\n",
        "                                test_size=0.33,\n",
        "                                random_state=2)"
      ]
    },
    {
      "cell_type": "code",
      "execution_count": null,
      "metadata": {
        "id": "y7CWMPCzcjD1"
      },
      "outputs": [],
      "source": [
        "# Instantiate MinMaxScaler and use it to rescale X_train and X_test\n",
        "scaler = MinMaxScaler(feature_range=(0, 1))\n",
        "rescaledX = scaler.fit_transform(X)\n",
        "rescaledX_train = scaler.fit_transform(X_train)\n",
        "rescaledX_test = scaler.fit_transform(X_test)\n",
        "rescaledX_test1 = scaler.fit_transform(X_test1)\n",
        "rescaledX_test2 = scaler.fit_transform(X_test2)"
      ]
    },
    {
      "cell_type": "code",
      "source": [
        "\n",
        "# Instantiate a LogisticRegression classifier with default parameter values\n",
        "logreg = LogisticRegression(solver=\"liblinear\")\n",
        "\n",
        "scores_dict = cross_validate(logreg,rescaledX_train,y_train,cv=5, return_estimator=True)\n",
        "best = scores_dict[\"estimator\"][0] \n",
        "# Fit logreg to the train set\n",
        "#logreg.fit(X_train, y_train)\n",
        "\n",
        "#y_pred = logreg.predict(X_test)\n",
        "#from collections import Counter\n",
        "#counterpred = Counter(y_pred)\n",
        "#countertest = Counter(y_test)\n",
        "#print(counterpred, countertest)\n",
        "#print(\"Accuracy of logistic regression classifier: \", logreg.score(X_test, y_test))"
      ],
      "metadata": {
        "id": "MRJCEA-HLdc-"
      },
      "execution_count": null,
      "outputs": []
    },
    {
      "cell_type": "code",
      "execution_count": null,
      "metadata": {
        "id": "fuE_J5U_cjF9"
      },
      "outputs": [],
      "source": [
        "# Import LogisticRegression\n",
        "from sklearn.linear_model import LogisticRegression\n",
        "\n",
        "logregRescaled = LogisticRegression(solver=\"liblinear\")\n",
        "logregRescaled.fit(rescaledX_train, y_train)\n",
        "\n",
        "logreg = LogisticRegression(solver=\"liblinear\")\n",
        "logreg.fit(X_train, y_train)\n",
        "\n",
        "y_pred = logregRescaled.predict(rescaledX_test1)\n",
        "from collections import Counter\n",
        "counterpred = Counter(y_pred)\n",
        "countertest = Counter(y_test1)\n",
        "counterall = Counter(y)\n",
        "print(counterpred, countertest, counterall)\n",
        "print(\"Accuracy of logistic regression classifier: \", logregRescaled.score(rescaledX_test1, y_test1))\n",
        "\n",
        "\n",
        "y_pred = logregRescaled.predict(rescaledX_test2)\n",
        "from collections import Counter\n",
        "counterpred = Counter(y_pred)\n",
        "countertest = Counter(y_test2)\n",
        "counterall = Counter(y)\n",
        "print(counterpred, countertest, counterall)\n",
        "print(\"Accuracy of logistic regression classifier: \", logregRescaled.score(rescaledX_test2, y_test2))\n",
        "\n",
        "print(\"Accuracy of logistic regression classifier: \", logreg.score(X_test1, y_test1))\n",
        "print(\"Accuracy of logistic regression classifier: \", logreg.score(X_test2, y_test2))\n",
        "\n"
      ]
    },
    {
      "cell_type": "code",
      "source": [
        "\n",
        "y_pred = best.predict(rescaledX_test1)\n",
        "from collections import Counter\n",
        "counterpred = Counter(y_pred)\n",
        "countertest = Counter(y_test1)\n",
        "counterall = Counter(y)\n",
        "print(counterpred, countertest, counterall)\n",
        "print(\"Accuracy of logistic regression classifier: \", best.score(rescaledX_test1, y_test1))\n",
        "\n",
        "\n",
        "y_pred = best.predict(rescaledX_test2)\n",
        "from collections import Counter\n",
        "counterpred = Counter(y_pred)\n",
        "countertest = Counter(y_test2)\n",
        "counterall = Counter(y)\n",
        "print(counterpred, countertest, counterall)\n",
        "print(\"Accuracy of logistic regression classifier: \", best.score(rescaledX_test2, y_test2))"
      ],
      "metadata": {
        "id": "b5Cx-lyls6et"
      },
      "execution_count": null,
      "outputs": []
    },
    {
      "cell_type": "code",
      "source": [
        "y_pred_NO = best.predict(rescaledX_test[y_test==0])\n",
        "counterpred_NO = Counter(y_pred_NO)\n",
        "print(counterpred_NO)\n",
        "print(\"Accuracy: \", best.score(rescaledX_test[y_test==0], y_test[y_test==0]))"
      ],
      "metadata": {
        "id": "rRN5Xl00cRLv"
      },
      "execution_count": null,
      "outputs": []
    },
    {
      "cell_type": "code",
      "execution_count": null,
      "metadata": {
        "id": "q_gISvk7hqzK"
      },
      "outputs": [],
      "source": [
        "# Import LogisticRegression\n",
        "from sklearn.tree import DecisionTreeClassifier\n",
        "\n",
        "# Instantiate a LogisticRegression classifier with default parameter values\n",
        "dtcRescaled = DecisionTreeClassifier()\n",
        "dtc = DecisionTreeClassifier()\n",
        "\n",
        "# Fit logreg to the train set\n",
        "dtcRescaled.fit(rescaledX_train, y_train)\n",
        "dtc.fit(X_train, y_train)\n",
        "\n",
        "y_predRescaled = dtcRescaled.predict(rescaledX_test)\n",
        "y_pred = dtc.predict(X_test)\n",
        "\n",
        "counterpredRescaled = Counter(y_predRescaled)\n",
        "counterpred = Counter(y_pred)\n",
        "countertest = Counter(y_test)\n",
        "counterall = Counter(y)\n",
        "print(counterpredRescaled,counterpred, countertest, counterall)\n",
        "\n",
        "print(\"Accuracy of DecisionTreeClassifier: \", dtcRescaled.score(rescaledX_test, y_test))\n",
        "print(\"Accuracy of DecisionTreeClassifier: \", dtc.score(X_test, y_test))"
      ]
    },
    {
      "cell_type": "code",
      "source": [
        "y_pred_NO = dtc.predict(X_test.loc[y_test==0])\n",
        "counterpred_NO = Counter(y_pred_NO)\n",
        "print(counterpred_NO)"
      ],
      "metadata": {
        "id": "2KIsL4s6dYCm"
      },
      "execution_count": null,
      "outputs": []
    },
    {
      "cell_type": "code",
      "execution_count": null,
      "metadata": {
        "id": "O32dGoYAnAx3"
      },
      "outputs": [],
      "source": [
        "#from lightgbm import LGBMClassifier\n",
        "#from sklearn.metrics import roc_curve, auc  #Metrics\n",
        "#https://www.kaggle.com/code/ambarish/machine-learning-explainability-omnibus/notebook#Modelling\n",
        "#logreg = LGBMClassifier(random_state=1).fit(rescaledX_train, y_train)\n",
        "#y_pred = logreg.predict_proba(X_test)\n",
        "#print(y_pred)\n",
        "#fpr, tpr, thresholds = roc_curve(y_test, y_pred[:,1])\n",
        "#auc(fpr, tpr)\n"
      ]
    },
    {
      "cell_type": "code",
      "execution_count": null,
      "metadata": {
        "id": "Z1hh0UwCcmPV"
      },
      "outputs": [],
      "source": [
        "dicPeople = {}\n",
        "#beta a actualitzar\n",
        "beta_params = {'a': 3.107176300758434, 'b': 16.54733270043585, 'loc': -28571.959896180033, 'scale': 1537159.8560307096}\n",
        "#beta_params = {'a': 1.6482043459921234, 'b': 17.37597209939366, 'loc': -2.847383506741794, 'scale': 2025.6530553459547}\n",
        "\n",
        "for i in range(len(X_test)):\n",
        "  loan = round(1000 * beta.rvs(beta_params['a'],beta_params[\"b\"],beta_params[\"loc\"],beta_params[\"scale\"]))\n",
        "  #loan = subsample.iloc[i][\"loan_amount\"]*1000 #TODO:FATAL, els loans no concorden amb els individus a X_test en absolut\n",
        "  if (loan<=0.0):\n",
        "    loan=10000\n",
        "  p = Person(i,loan)\n",
        "  dicPeople[i] = p\n",
        "#print(len(dicPeople.keys()))\n",
        "#print([(item.id,item.petition) for item in dicPeople.values() if item.happiness<50])"
      ]
    },
    {
      "cell_type": "code",
      "execution_count": null,
      "metadata": {
        "id": "uxzuG2OBj1Vf"
      },
      "outputs": [],
      "source": [
        "print(np.unique(y_pred))"
      ]
    },
    {
      "cell_type": "code",
      "execution_count": null,
      "metadata": {
        "id": "4nO6JV03h8oY"
      },
      "outputs": [],
      "source": [
        "for i in range(len(y_pred)):\n",
        "  if(y_pred[i]==1):\n",
        "    dicPeople[i].balance = dicPeople[i].petition\n",
        "  dicPeople[i].updateH()\n",
        "  dicPeople[i].status = y_pred[i]\n",
        "\n",
        "#print([(item.id,item.petition,item.happiness,item.status) for item in dicPeople.values() if item.happiness<50])"
      ]
    },
    {
      "cell_type": "code",
      "execution_count": null,
      "metadata": {
        "id": "b96QIH2RlozH"
      },
      "outputs": [],
      "source": [
        "h_arr = [(item.happiness) for item in dicPeople.values()]\n",
        "plt.hist(h_arr)\n",
        "print([sum(item.happiness for item in dicPeople.values())])"
      ]
    },
    {
      "cell_type": "code",
      "execution_count": null,
      "metadata": {
        "id": "NJBhJRgOflkK"
      },
      "outputs": [],
      "source": [
        "#print(X.columns, X.iloc[0])\n",
        "#categorical_col=[\"hoepa_status\", \"loan_type\", \"as_of_year\", \"applicant_ethnicity\", \"county_code\", \"state_code\", \"lien_status\", \"loan_purpose\", \"co_applicant_race_1\", \"co_applicant_ethnicity\", \"property_type\", \"owner_occupancy\", \"applicant_sex\", \"preapproval\", \"agency_code\", \"applicant_race_1\", \"co_applicant_sex\"]\n",
        "noncategorical_col = [\"loan_amount\",\"tract_minority_population_percent\",\"tract_median_age_of_housing_units\",\n",
        "                      \"derived_msa-md\",\"income\",\"tract_population\",\"tract_one_to_four_family_homes\",\n",
        "                      \"tract_owner_occupied_units\",\"ffiec_msa_md_median_family_income\",\"tract_to_msa_income_percentage\"]\n",
        "categorical_col=list(set(X.columns).difference(set(noncategorical_col)))\n",
        "categorial_ind = []\n",
        "for c in categorical_col:\n",
        "  categorial_ind.append(list(X.columns).index(c))"
      ]
    },
    {
      "cell_type": "code",
      "execution_count": null,
      "metadata": {
        "id": "3PcqhLPWWLNw"
      },
      "outputs": [],
      "source": [
        "from imblearn.over_sampling._smote.base import SMOTENC\n",
        "from imblearn.over_sampling import SMOTE\n",
        "\n",
        "#oversample = SMOTE()\n",
        "oversample = SMOTENC(categorical_features=categorial_ind)\n",
        "Xsmote, ysmote = oversample.fit_resample(rescaledX_test2, y_test2)\n"
      ]
    },
    {
      "cell_type": "code",
      "execution_count": null,
      "metadata": {
        "id": "-4xSXFjCbZ5Z"
      },
      "outputs": [],
      "source": [
        "#for c in range(len(subsample.columns)):\n",
        "#  print(c, subsample.columns[c], subsample.iloc[0][subsample.columns[c]])"
      ]
    },
    {
      "cell_type": "code",
      "execution_count": null,
      "metadata": {
        "id": "MPL_yizkWySL"
      },
      "outputs": [],
      "source": [
        "from collections import Counter\n",
        "print(Counter(ysmote))"
      ]
    },
    {
      "cell_type": "code",
      "execution_count": null,
      "metadata": {
        "id": "N7Se_qOvYVVw"
      },
      "outputs": [],
      "source": [
        "newX = Xsmote[len(rescaledX_test2):len(Xsmote)]\n",
        "newy = ysmote[len(y_test2):len(ysmote)]\n",
        "counter = Counter(newy)\n",
        "print(counter)\n",
        "\n",
        "y_newpred = best.predict(newX)\n",
        "print(\"Accuracy of logistic regression classifier: \", best.score(newX, newy))\n",
        "counter = Counter(y_newpred)\n",
        "print(counter)"
      ]
    },
    {
      "cell_type": "code",
      "execution_count": null,
      "metadata": {
        "id": "9ZYB16tVjrZH"
      },
      "outputs": [],
      "source": [
        "X_smotetrain, X_smotetest, y_smotetrain, y_smotetest = train_test_split(Xsmote,\n",
        "                                ysmote,\n",
        "                                test_size=0.1,\n",
        "                                random_state=2)\n",
        "\n",
        "print(Counter(y_smotetrain))\n",
        "\n",
        "print(Counter(y_smotetest))"
      ]
    },
    {
      "cell_type": "code",
      "source": [
        "print(\"Accuracy of logistic regression classifier: \", best.score(Xsmote, ysmote)) \n",
        "print(\"Accuracy of logistic regression classifier: \", best.score(newX, newy)) \n",
        "#newy"
      ],
      "metadata": {
        "id": "yWDGF-IzvOYi"
      },
      "execution_count": null,
      "outputs": []
    },
    {
      "cell_type": "code",
      "execution_count": null,
      "metadata": {
        "id": "ioSYWHm9jTSv"
      },
      "outputs": [],
      "source": [
        "logregSmote = LogisticRegression(solver=\"liblinear\")\n",
        "\n",
        "# Fit logreg to the train set\n",
        "logregSmote.fit(X_smotetrain, y_smotetrain)\n",
        "\n",
        "#y_smotepred = logregSmote.predict(X_smotetest)\n",
        "print(\"Accuracy of logistic regression classifier: \", logregSmote.score(X_smotetest, y_smotetest)) "
      ]
    },
    {
      "cell_type": "code",
      "execution_count": null,
      "metadata": {
        "id": "3g3RcL7aleeR"
      },
      "outputs": [],
      "source": [
        "#auxnparray = X_test.copy()\n",
        "#print(auxnparray.shape)\n",
        "#auxdf = pd.DataFrame(auxnparray, columns = X.columns)\n",
        "#auxdf[\"action_taken\"] = best.predict(rescaledX_test)"
      ]
    },
    {
      "cell_type": "code",
      "source": [
        "smotepred = create_df(Xsmote,X.columns,best.predict(Xsmote),\"action_taken\")\n",
        "smotedf = create_df(Xsmote,X.columns,ysmote,\"action_taken\")"
      ],
      "metadata": {
        "id": "ioXQ3bqZoLFT"
      },
      "execution_count": null,
      "outputs": []
    },
    {
      "cell_type": "code",
      "source": [
        "subgroups2 = show_subgroups(smotedf,True,True)"
      ],
      "metadata": {
        "id": "QUxGG38Vvqgu"
      },
      "execution_count": null,
      "outputs": []
    },
    {
      "cell_type": "code",
      "source": [
        "print(Counter(newy), len(newy[newy==0]))\n",
        "smotenew = create_df(newX,X.columns,newy,\"action_taken\")\n",
        "_ = show_subgroups(smotenew,True,True)"
      ],
      "metadata": {
        "id": "V7FAaSz3EXQg"
      },
      "execution_count": null,
      "outputs": []
    },
    {
      "cell_type": "code",
      "source": [
        "fig = plt.figure()\n",
        "ax = fig.add_axes([0,0,1,1])\n",
        "ax2 = fig.add_axes([1,0,1,1])\n",
        "ax.bar(subgroups[1],[len(s) for s in subgroups[0]])\n",
        "ax2.bar(subgroups2[1],[len(s) for s in subgroups2[0]])\n",
        "plt.show()"
      ],
      "metadata": {
        "id": "_dy93Jynq3xd"
      },
      "execution_count": null,
      "outputs": []
    },
    {
      "cell_type": "code",
      "source": [
        "fig = plt.figure()\n",
        "ax = fig.add_axes([0,0,1,1])\n",
        "ax2 = fig.add_axes([1,0,1,1])\n",
        "ax.set_ylim(30, 90)\n",
        "ax2.set_ylim(30, 90)\n",
        "ax.bar(subgroups[1],subgroups[4])\n",
        "ax2.bar(subgroups2[1],subgroups2[4])\n",
        "plt.show()\n",
        "print(subgroups[4],\"\\n\",subgroups2[4])"
      ],
      "metadata": {
        "id": "r2amv3edI2uq"
      },
      "execution_count": null,
      "outputs": []
    },
    {
      "cell_type": "code",
      "source": [
        "#smotetestpred = create_df(X_smotetest, X.columns, logregSmote.predict(X_smotetest), \"action_taken\")\n",
        "#subgroups3 = show_subgroups(smotetestpred,True,True)"
      ],
      "metadata": {
        "id": "LwuqG0fVxl0C"
      },
      "execution_count": null,
      "outputs": []
    },
    {
      "cell_type": "code",
      "execution_count": null,
      "metadata": {
        "id": "o0JjAhuCoW_p"
      },
      "outputs": [],
      "source": [
        "df = create_df(X_smotetest, X.columns, y_smotetest, \"action_taken\")\n",
        "print(Counter(df[\"action_taken\"]))\n",
        "subgroups4 = show_subgroups(df,True,True)\n",
        "dicPeople = {}\n",
        "beta_params = {'a': 1.6482043459921234, 'b': 17.37597209939366, 'loc': -2.847383506741794, 'scale': 2025.6530553459547}\n",
        "for i in range(len(df)):\n",
        "  #loan = round(1000 * beta.rvs(beta_params['a'],beta_params[\"b\"],beta_params[\"loc\"],beta_params[\"scale\"]))\n",
        "  loan = df.iloc[i][\"loan_amount\"]*1000\n",
        "  if (loan<=0.0):\n",
        "    loan=10000\n",
        "  p = Person(i,loan)\n",
        "  dicPeople[i] = p\n",
        "for i in range(len(df)):\n",
        "  if(df.iloc[i][\"action_taken\"]==1):\n",
        "    dicPeople[i].balance = dicPeople[i].petition\n",
        "  dicPeople[i].updateH()\n",
        "  dicPeople[i].status = df.iloc[i][\"action_taken\"]"
      ]
    },
    {
      "cell_type": "code",
      "execution_count": null,
      "metadata": {
        "id": "ynoEotPtppcB"
      },
      "outputs": [],
      "source": [
        "h_arr = [(item.happiness) for item in dicPeople.values()]\n",
        "plt.hist(h_arr)\n",
        "print([sum(item.happiness for item in dicPeople.values())])\n",
        "print(100*len(df[df['action_taken']==1]))\n",
        "print(len(df),len(df[df['action_taken']==1]), len(df[df['action_taken']==0]))"
      ]
    },
    {
      "cell_type": "code",
      "execution_count": null,
      "metadata": {
        "id": "Jw1FriY6ye26"
      },
      "outputs": [],
      "source": [
        "dicPeopleQ = {}\n",
        "beta_params = {'a': 1.6482043459921234, 'b': 17.37597209939366, 'loc': -2.847383506741794, 'scale': 2025.6530553459547}\n",
        "for i in range(len(df)):\n",
        "  #loan = round(1000 * beta.rvs(beta_params['a'],beta_params[\"b\"],beta_params[\"loc\"],beta_params[\"scale\"]))\n",
        "  loan = df.iloc[i][\"loan_amount\"]*1000\n",
        "  if (loan<=0.0):\n",
        "    loan=10000\n",
        "  p = Person(i,loan)\n",
        "  dicPeopleQ[i] = p\n",
        "\n",
        "#print(2*10**9-[sum(item.petition for item in dicPeople.values())][0])"
      ]
    },
    {
      "cell_type": "code",
      "execution_count": null,
      "metadata": {
        "id": "tLSVeeAd1frz"
      },
      "outputs": [],
      "source": [
        "def processActionBinary(w, index, action):\n",
        "  h=0\n",
        "  if(action==1):\n",
        "    w[\"dic\"][index].balance = w[\"dic\"][index].petition\n",
        "    h=w[\"dic\"][index].updateH()\n",
        "    w[\"money\"] -= w[\"dic\"][index].petition\n",
        "  w[\"dic\"][index].status = action\n",
        "  return w, h"
      ]
    },
    {
      "cell_type": "code",
      "source": [
        "def processActionFluent(w, index, action):\n",
        "  h=0\n",
        "  percentage = action/100\n",
        "  w[\"dic\"][index].balance = percentage*w[\"dic\"][index].petition\n",
        "  h=w[\"dic\"][index].updateH()\n",
        "  w[\"money\"] -= percentage*w[\"dic\"][index].petition\n",
        "  w[\"dic\"][index].status = action\n",
        "  return w, h"
      ],
      "metadata": {
        "id": "ocDGT-lCPpir"
      },
      "execution_count": null,
      "outputs": []
    },
    {
      "cell_type": "code",
      "execution_count": null,
      "metadata": {
        "id": "SsFbR4x0FCT7"
      },
      "outputs": [],
      "source": [
        "import random\n",
        "from IPython.display import clear_output\n",
        "world={}\n",
        "#world[\"dic\"] = dicPeopleQ.copy()\n",
        "#world[\"money\"] = (3/3)*[sum(item.petition for item in world.values())][0]\n",
        "#world[\"model\"] = logreg\n",
        "observation_space = X_smotetest\n",
        "binary_space = [0,1]\n",
        "fluent_space = range(0,100)\n",
        "action_space = binary_space#fluent_space\n",
        "processAction = processActionBinary#processActionFluent\n",
        "q_table = np.zeros([len(observation_space), len(action_space)])\n",
        "precomputed_labels = best.predict(X_smotetest);\n",
        "for i in range(len(precomputed_labels)):\n",
        "  q_table[i,1] = 100*precomputed_labels[i]\n",
        "  #q_table[i,99] = 100*precomputed_labels[i]\n",
        "print(100*len(precomputed_labels[precomputed_labels==1]))\n",
        "print(len(precomputed_labels),len(precomputed_labels[precomputed_labels==1]), len(precomputed_labels[precomputed_labels==0]))\n",
        "print(q_table)\n",
        "# Hyperparameters\n",
        "alpha = 0.1\n",
        "gamma = 0.6\n",
        "epsilon = 0.1"
      ]
    },
    {
      "cell_type": "code",
      "source": [
        "#max_rate=0\n",
        "#max_qtable=q_table.copy()"
      ],
      "metadata": {
        "id": "iZz4QiehVU2U"
      },
      "execution_count": null,
      "outputs": []
    },
    {
      "cell_type": "code",
      "execution_count": null,
      "metadata": {
        "id": "J_upqj9yrtHb"
      },
      "outputs": [],
      "source": [
        "import copy\n",
        "# For plotting metrics\n",
        "all_epochs = []\n",
        "for i in range(1, 500):\n",
        "    state = 0\n",
        "    world[\"dic\"] = copy.deepcopy(dicPeopleQ)\n",
        "\n",
        "    fraction_available = 1 #1/2 #2/3 #1\n",
        "    #top_rate = 100*len(world['dic'].values()) * fraction_available*[sum(item.petition for item in world[\"dic\"].values())][0]\n",
        "    \n",
        "    world[\"money\"] = fraction_available*[sum(item.petition for item in world[\"dic\"].values())][0]\n",
        "    reward = 0\n",
        "    done = False\n",
        "\n",
        "    #q_table = max_qtable.copy()\n",
        "\n",
        "    while not done:\n",
        "        if random.uniform(0, 1) < epsilon:\n",
        "            action = random.choice(action_space) # Explore action space\n",
        "        else:\n",
        "            action = np.argmax(q_table[state]) # Exploit learned values\n",
        "        #print(action)\n",
        "        world,reward = processAction(world,state,action) \n",
        "        \n",
        "        old_value = q_table[state, action]\n",
        "        next_max = np.max(q_table[state+1])\n",
        "        \n",
        "        new_value = (1 - alpha) * old_value + alpha * (reward + gamma * next_max)\n",
        "        q_table[state, action] = new_value\n",
        "\n",
        "        if (state==len(observation_space)-2 or world[\"money\"]<=0):\n",
        "          done = True\n",
        "        else:\n",
        "          state += 1\n",
        "\n",
        "    #rate = [sum(item.happiness for item in world['dic'].values())][0]*world[\"money\"]\n",
        "    #if (rate/top_rate > max_rate):\n",
        "    #  max_rate = rate/top_rate\n",
        "    #  max_qtable = q_table.copy()\n",
        "\n",
        "    if i % 5 == 0:\n",
        "        print(f\"Episode: {i}: {[sum(item.happiness for item in world['dic'].values())][0]} happiness achieved, {world['money']} remaining\")#, rate = {rate/top_rate}\")\n",
        "\n",
        "print(\"Training finished.\\n\")"
      ]
    },
    {
      "cell_type": "code",
      "source": [
        "#max_rate"
      ],
      "metadata": {
        "id": "piTTfQKrWh5U"
      },
      "execution_count": null,
      "outputs": []
    },
    {
      "cell_type": "code",
      "execution_count": null,
      "metadata": {
        "id": "8JmIZBAACww0"
      },
      "outputs": [],
      "source": [
        "achieved=[sum(item.happiness for item in world['dic'].values())][0]\n",
        "print(achieved)\n",
        "print([max(item.happiness for item in world['dic'].values())])\n",
        "print([min(item.happiness for item in world['dic'].values())])\n",
        "print(\"maximum possible:\",100*len(world['dic'].values()))\n",
        "print(achieved/(100*len(world['dic'].values())))\n",
        "print(fraction_available)\n",
        "\n"
      ]
    },
    {
      "cell_type": "markdown",
      "source": [
        "780332.3723712312\n",
        "\n",
        "[99.68476908167399]\n",
        "\n",
        "[0.0]\n",
        "\n",
        "maximum possible: 959400\n",
        "\n",
        "7486508780.5295925\n",
        "\n",
        "0.6666666666666666"
      ],
      "metadata": {
        "id": "z1LTno8rN2yb"
      }
    },
    {
      "cell_type": "code",
      "execution_count": null,
      "metadata": {
        "id": "qr7SbYiEDDSS"
      },
      "outputs": [],
      "source": [
        "for s in [-1,0,1]:\n",
        "  print(len([item for item in world['dic'].values() if item.status==s]))"
      ]
    },
    {
      "cell_type": "code",
      "execution_count": null,
      "metadata": {
        "id": "88WF5UVtDZrj"
      },
      "outputs": [],
      "source": [
        "world[\"money\"]"
      ]
    },
    {
      "cell_type": "code",
      "execution_count": null,
      "metadata": {
        "id": "kkXsPmzCDjna"
      },
      "outputs": [],
      "source": [
        "Counter(precomputed_labels)"
      ]
    },
    {
      "cell_type": "code",
      "execution_count": null,
      "metadata": {
        "id": "Pxb9iQVsKKx0"
      },
      "outputs": [],
      "source": [
        "Counter(y_smotetest)"
      ]
    }
  ],
  "metadata": {
    "colab": {
      "collapsed_sections": [],
      "name": "HMDA_test.ipynb",
      "provenance": [],
      "mount_file_id": "1yzXR7S4JrPd05tN1RWm1mkHXLxopvB6m",
      "authorship_tag": "ABX9TyMwIAEQ0YXpTa/cc7HEFFJ7",
      "include_colab_link": true
    },
    "kernelspec": {
      "display_name": "Python 3",
      "name": "python3"
    },
    "language_info": {
      "name": "python"
    }
  },
  "nbformat": 4,
  "nbformat_minor": 0
}