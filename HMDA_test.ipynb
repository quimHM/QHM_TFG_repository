{
  "cells": [
    {
      "cell_type": "markdown",
      "metadata": {
        "id": "view-in-github",
        "colab_type": "text"
      },
      "source": [
        "<a href=\"https://colab.research.google.com/github/quimHM/QHM_TFG_repository/blob/main/HMDA_test.ipynb\" target=\"_parent\"><img src=\"https://colab.research.google.com/assets/colab-badge.svg\" alt=\"Open In Colab\"/></a>"
      ]
    },
    {
      "cell_type": "code",
      "execution_count": 1,
      "metadata": {
        "colab": {
          "base_uri": "https://localhost:8080/"
        },
        "id": "ntkGE0w0OuhR",
        "outputId": "3922d0a3-4206-4151-a6a9-55682fbcb68b"
      },
      "outputs": [
        {
          "output_type": "stream",
          "name": "stdout",
          "text": [
            "Requirement already satisfied: fitter in /usr/local/lib/python3.7/dist-packages (1.4.0)\n",
            "Requirement already satisfied: joblib in /usr/local/lib/python3.7/dist-packages (from fitter) (1.1.0)\n",
            "Requirement already satisfied: scipy>=0.18 in /usr/local/lib/python3.7/dist-packages (from fitter) (1.4.1)\n",
            "Requirement already satisfied: matplotlib in /usr/local/lib/python3.7/dist-packages (from fitter) (3.2.2)\n",
            "Requirement already satisfied: pandas in /usr/local/lib/python3.7/dist-packages (from fitter) (1.3.5)\n",
            "Requirement already satisfied: easydev in /usr/local/lib/python3.7/dist-packages (from fitter) (0.12.0)\n",
            "Requirement already satisfied: numpy in /usr/local/lib/python3.7/dist-packages (from fitter) (1.21.6)\n",
            "Requirement already satisfied: click in /usr/local/lib/python3.7/dist-packages (from fitter) (7.1.2)\n",
            "Requirement already satisfied: colorlog in /usr/local/lib/python3.7/dist-packages (from easydev->fitter) (6.6.0)\n",
            "Requirement already satisfied: pexpect in /usr/local/lib/python3.7/dist-packages (from easydev->fitter) (4.8.0)\n",
            "Requirement already satisfied: colorama in /usr/local/lib/python3.7/dist-packages (from easydev->fitter) (0.4.4)\n",
            "Requirement already satisfied: python-dateutil>=2.1 in /usr/local/lib/python3.7/dist-packages (from matplotlib->fitter) (2.8.2)\n",
            "Requirement already satisfied: pyparsing!=2.0.4,!=2.1.2,!=2.1.6,>=2.0.1 in /usr/local/lib/python3.7/dist-packages (from matplotlib->fitter) (3.0.8)\n",
            "Requirement already satisfied: kiwisolver>=1.0.1 in /usr/local/lib/python3.7/dist-packages (from matplotlib->fitter) (1.4.2)\n",
            "Requirement already satisfied: cycler>=0.10 in /usr/local/lib/python3.7/dist-packages (from matplotlib->fitter) (0.11.0)\n",
            "Requirement already satisfied: typing-extensions in /usr/local/lib/python3.7/dist-packages (from kiwisolver>=1.0.1->matplotlib->fitter) (4.2.0)\n",
            "Requirement already satisfied: six>=1.5 in /usr/local/lib/python3.7/dist-packages (from python-dateutil>=2.1->matplotlib->fitter) (1.15.0)\n",
            "Requirement already satisfied: pytz>=2017.3 in /usr/local/lib/python3.7/dist-packages (from pandas->fitter) (2022.1)\n",
            "Requirement already satisfied: ptyprocess>=0.5 in /usr/local/lib/python3.7/dist-packages (from pexpect->easydev->fitter) (0.7.0)\n"
          ]
        }
      ],
      "source": [
        "!pip install fitter\n"
      ]
    },
    {
      "cell_type": "code",
      "execution_count": 2,
      "metadata": {
        "colab": {
          "base_uri": "https://localhost:8080/"
        },
        "id": "IfBnGFsYyrBo",
        "outputId": "ec69acaf-8b3d-4def-ed30-b76b7a527631"
      },
      "outputs": [
        {
          "output_type": "stream",
          "name": "stdout",
          "text": [
            "/content/drive\n",
            "Drive already mounted at /content/drive; to attempt to forcibly remount, call drive.mount(\"/content/drive\", force_remount=True).\n"
          ]
        },
        {
          "output_type": "stream",
          "name": "stderr",
          "text": [
            "/usr/local/lib/python3.7/dist-packages/IPython/core/interactiveshell.py:2882: DtypeWarning: Columns (22,23,24,26,27,28,29,30,31,32,33,38,43,44) have mixed types.Specify dtype option on import or set low_memory=False.\n",
            "  exec(code_obj, self.user_global_ns, self.user_ns)\n"
          ]
        },
        {
          "output_type": "stream",
          "name": "stdout",
          "text": [
            "samples: 1557705\n",
            "features: 99\n",
            "activity_year:  2020\n",
            "lei:  7H6GLXDRUGQFU57RNE97\n",
            "derived_msa-md:  12060\n",
            "state_code:  GA\n",
            "county_code:  13135.0\n",
            "census_tract:  13135050607.0\n",
            "conforming_loan_limit:  C\n",
            "derived_loan_product_type:  Conventional:First Lien\n",
            "derived_dwelling_category:  Single Family (1-4 Units):Site-Built\n",
            "derived_ethnicity:  Not Hispanic or Latino\n",
            "derived_race:  Asian\n",
            "derived_sex:  Male\n",
            "action_taken:  1\n",
            "purchaser_type:  3\n",
            "preapproval:  2\n",
            "loan_type:  1\n",
            "loan_purpose:  31\n",
            "lien_status:  1\n",
            "reverse_mortgage:  2\n",
            "open-end_line_of_credit:  2\n",
            "business_or_commercial_purpose:  2\n",
            "loan_amount:  205000.0\n",
            "loan_to_value_ratio:  68.0\n",
            "interest_rate:  2.75\n",
            "rate_spread:  -0.56256\n",
            "hoepa_status:  2\n",
            "total_loan_costs:  3003.52\n",
            "total_points_and_fees:  nan\n",
            "origination_charges:  1960.58\n",
            "discount_points:  765.58\n",
            "lender_credits:  nan\n",
            "loan_term:  120\n",
            "prepayment_penalty_term:  nan\n",
            "intro_rate_period:  nan\n",
            "negative_amortization:  2\n",
            "interest_only_payment:  2\n",
            "balloon_payment:  2\n",
            "other_nonamortizing_features:  2\n",
            "property_value:  305000\n",
            "construction_method:  1\n",
            "occupancy_type:  1\n",
            "manufactured_home_secured_property_type:  3\n",
            "manufactured_home_land_property_interest:  5\n",
            "total_units:  1\n",
            "multifamily_affordable_units:  nan\n",
            "income:  103.0\n",
            "debt_to_income_ratio:  38\n",
            "applicant_credit_score_type:  3\n",
            "co-applicant_credit_score_type:  10\n",
            "applicant_ethnicity-1:  2.0\n",
            "applicant_ethnicity-2:  nan\n",
            "applicant_ethnicity-3:  nan\n",
            "applicant_ethnicity-4:  nan\n",
            "applicant_ethnicity-5:  nan\n",
            "co-applicant_ethnicity-1:  5.0\n",
            "co-applicant_ethnicity-2:  nan\n",
            "co-applicant_ethnicity-3:  nan\n",
            "co-applicant_ethnicity-4:  nan\n",
            "co-applicant_ethnicity-5:  nan\n",
            "applicant_ethnicity_observed:  2\n",
            "co-applicant_ethnicity_observed:  4\n",
            "applicant_race-1:  22.0\n",
            "applicant_race-2:  nan\n",
            "applicant_race-3:  nan\n",
            "applicant_race-4:  nan\n",
            "applicant_race-5:  nan\n",
            "co-applicant_race-1:  8.0\n",
            "co-applicant_race-2:  nan\n",
            "co-applicant_race-3:  nan\n",
            "co-applicant_race-4:  nan\n",
            "co-applicant_race-5:  nan\n",
            "applicant_race_observed:  2\n",
            "co-applicant_race_observed:  4\n",
            "applicant_sex:  1\n",
            "co-applicant_sex:  5\n",
            "applicant_sex_observed:  2\n",
            "co-applicant_sex_observed:  4\n",
            "applicant_age:  55-64\n",
            "co-applicant_age:  9999\n",
            "applicant_age_above_62:  No\n",
            "co-applicant_age_above_62:  nan\n",
            "submission_of_application:  1\n",
            "initially_payable_to_institution:  1\n",
            "aus-1:  1\n",
            "aus-2:  2.0\n",
            "aus-3:  5.0\n",
            "aus-4:  nan\n",
            "aus-5:  nan\n",
            "denial_reason-1:  10\n",
            "denial_reason-2:  nan\n",
            "denial_reason-3:  nan\n",
            "denial_reason-4:  nan\n",
            "tract_population:  17159\n",
            "tract_minority_population_percent:  39.54\n",
            "ffiec_msa_md_median_family_income:  82200\n",
            "tract_to_msa_income_percentage:  137\n",
            "tract_owner_occupied_units:  4190\n",
            "tract_one_to_four_family_homes:  5250\n",
            "tract_median_age_of_housing_units:  13\n"
          ]
        }
      ],
      "source": [
        "from sklearn.preprocessing import MinMaxScaler\n",
        "from sklearn.linear_model import LogisticRegression\n",
        "from sklearn.model_selection import cross_validate\n",
        "import pandas as pd\n",
        "import numpy as np\n",
        "import matplotlib.pyplot as plt\n",
        "import random\n",
        "from fitter import Fitter\n",
        "\n",
        "from google.colab import drive # import drive from google colab\n",
        "\n",
        "ROOT = \"/content/drive\"     # default location for the drive\n",
        "print(ROOT)                 # print content of ROOT (Optional)\n",
        "drive.mount(ROOT)\n",
        "\n",
        "#unpickled_df = pd.read_pickle(\"/content/drive/MyDrive/s170BLfdSYPp\") #https://liveproject.manning.com/module/405_2_1/measuring-bias-in-a-dataset/1--load-the-hmda-dataset-into-a-pandas-dataframe/1-1-workflow%3a-load-the-hmda-dataset-into-a-pandas-dataframe?\n",
        "unpickled_df = pd.read_csv(\"/content/drive/MyDrive/TFG/state_AL-GA_actions_taken_1-3.csv\")\n",
        "extra1 = pd.read_csv(\"/content/drive/MyDrive/TFG/state_AR-MS_actions_taken_1-3.csv\")\n",
        "extra2 = pd.read_csv(\"/content/drive/MyDrive/TFG/state_TN-LA_actions_taken_1-3.csv\")\n",
        "unpickled_df = pd.concat([unpickled_df,extra1,extra2])\n",
        "print(\"samples:\",len(unpickled_df))\n",
        "print(\"features:\",len(unpickled_df.columns))\n",
        "for c in unpickled_df.columns: \n",
        "  print(c+\": \",unpickled_df.iloc[0][c])"
      ]
    },
    {
      "cell_type": "code",
      "execution_count": 3,
      "metadata": {
        "colab": {
          "base_uri": "https://localhost:8080/",
          "height": 805
        },
        "id": "F-vAa-p8Qzsx",
        "outputId": "d3925736-5835-4fa5-c55f-fa327319df7b"
      },
      "outputs": [
        {
          "output_type": "execute_result",
          "data": {
            "text/plain": [
              "(array([ 6770., 16905., 26704., 26489., 27673., 41985., 36211., 38484.,\n",
              "        38953., 38037., 56287., 45591., 54617., 53856., 55175., 63063.,\n",
              "        57996., 56230., 55501., 50625., 55368., 47341., 47799., 43005.,\n",
              "        42312., 41989., 35524., 32625., 30575., 26248., 27677., 22131.,\n",
              "        21183., 19320., 17255., 17317., 15198., 13327., 13139., 11201.,\n",
              "        12565.,  8581.,  8156.,  6919.,  7311.,  7087.,  5776.,  5579.,\n",
              "         6143.,  4799.,  6656., 15437.,  1214.,  1126.,  1372.,  1233.,\n",
              "         1732.,   933.,   876.,   756.,  1113.,   726.,   778.,   758.,\n",
              "          734.,   855.,   680.,   621.,   693.,   550.,   806.,   551.,\n",
              "          561.,   440.,   503.,   815.,   456.,   332.,   409.,   326.,\n",
              "          501.,   275.,   303.,   270.,   308.,   353.,   225.,   252.,\n",
              "          280.,   188.,   371.,   196.,   231.,   187.,   206.,   230.,\n",
              "          227.,   151.,   191.,   262.]),\n",
              " array([      0.,   10000.,   20000.,   30000.,   40000.,   50000.,\n",
              "          60000.,   70000.,   80000.,   90000.,  100000.,  110000.,\n",
              "         120000.,  130000.,  140000.,  150000.,  160000.,  170000.,\n",
              "         180000.,  190000.,  200000.,  210000.,  220000.,  230000.,\n",
              "         240000.,  250000.,  260000.,  270000.,  280000.,  290000.,\n",
              "         300000.,  310000.,  320000.,  330000.,  340000.,  350000.,\n",
              "         360000.,  370000.,  380000.,  390000.,  400000.,  410000.,\n",
              "         420000.,  430000.,  440000.,  450000.,  460000.,  470000.,\n",
              "         480000.,  490000.,  500000.,  510000.,  520000.,  530000.,\n",
              "         540000.,  550000.,  560000.,  570000.,  580000.,  590000.,\n",
              "         600000.,  610000.,  620000.,  630000.,  640000.,  650000.,\n",
              "         660000.,  670000.,  680000.,  690000.,  700000.,  710000.,\n",
              "         720000.,  730000.,  740000.,  750000.,  760000.,  770000.,\n",
              "         780000.,  790000.,  800000.,  810000.,  820000.,  830000.,\n",
              "         840000.,  850000.,  860000.,  870000.,  880000.,  890000.,\n",
              "         900000.,  910000.,  920000.,  930000.,  940000.,  950000.,\n",
              "         960000.,  970000.,  980000.,  990000., 1000000.]),\n",
              " <a list of 100 Patch objects>)"
            ]
          },
          "metadata": {},
          "execution_count": 3
        },
        {
          "output_type": "display_data",
          "data": {
            "text/plain": [
              "<Figure size 432x288 with 1 Axes>"
            ],
            "image/png": "[encoded data removed]"
          },
          "metadata": {
            "needs_background": "light"
          }
        }
      ],
      "source": [
        "#print(unpickled_df.loan_amount_000s)\n",
        "#plt.hist(unpickled_df.loan_amount_000s, bins=100, range=[0, 1250])\n",
        "plt.hist(unpickled_df.loan_amount, bins=100, range=[0, 1000000])"
      ]
    },
    {
      "cell_type": "code",
      "execution_count": 4,
      "metadata": {
        "id": "0OVclIyKYkvG"
      },
      "outputs": [],
      "source": [
        "#f = Fitter(X_test[\"loan_amount\"], xmax=1000000,\n",
        "#           distributions=['gamma', \"beta\", \"norm\"])\n",
        "#f.fit()\n",
        "#f.summary()"
      ]
    },
    {
      "cell_type": "code",
      "execution_count": 5,
      "metadata": {
        "id": "tPgL3jdoPsmq"
      },
      "outputs": [],
      "source": [
        "#b = f.get_best()\n",
        "#print(b)\n",
        "#r = (np.random.beta(b[\"beta\"][\"a\"],b[\"beta\"][\"b\"])-b[\"beta\"][\"loc\"])/b[\"beta\"][\"scale\"]*1000\n",
        "#print(r)"
      ]
    },
    {
      "cell_type": "code",
      "execution_count": 6,
      "metadata": {
        "id": "JMKKilGVXkxO"
      },
      "outputs": [],
      "source": [
        "from scipy.stats import beta\n",
        "#r = beta.rvs(b[\"beta\"][\"a\"],b[\"beta\"][\"b\"],b[\"beta\"][\"loc\"],b[\"beta\"][\"scale\"],size=100000)\n",
        "#plt.hist(r, bins=100)"
      ]
    },
    {
      "cell_type": "code",
      "execution_count": 7,
      "metadata": {
        "id": "T09B15tfXk51",
        "colab": {
          "base_uri": "https://localhost:8080/"
        },
        "outputId": "4ce7628b-d87e-4bda-a413-c9dcc2db916c"
      },
      "outputs": [
        {
          "output_type": "stream",
          "name": "stdout",
          "text": [
            "1259305 298400\n",
            "action: [1 0]\n",
            "1259305 298400\n",
            "race pre: [22.  5.  3.  6. 25. 21.  1.  2. 23. 27. 26. 24. 44.  7.  4. nan 42. 43.\n",
            " 41.]\n"
          ]
        },
        {
          "output_type": "stream",
          "name": "stderr",
          "text": [
            "/usr/local/lib/python3.7/dist-packages/ipykernel_launcher.py:11: SettingWithCopyWarning: \n",
            "A value is trying to be set on a copy of a slice from a DataFrame.\n",
            "Try using .loc[row_indexer,col_indexer] = value instead\n",
            "\n",
            "See the caveats in the documentation: https://pandas.pydata.org/pandas-docs/stable/user_guide/indexing.html#returning-a-view-versus-a-copy\n",
            "  # This is added back by InteractiveShellApp.init_path()\n"
          ]
        },
        {
          "output_type": "stream",
          "name": "stdout",
          "text": [
            "race: [0. 1.]\n",
            "ethnicity pre: [ 2.  1. 14. 12. 11.  3. 13.  4. nan]\n"
          ]
        },
        {
          "output_type": "stream",
          "name": "stderr",
          "text": [
            "/usr/local/lib/python3.7/dist-packages/ipykernel_launcher.py:16: SettingWithCopyWarning: \n",
            "A value is trying to be set on a copy of a slice from a DataFrame.\n",
            "Try using .loc[row_indexer,col_indexer] = value instead\n",
            "\n",
            "See the caveats in the documentation: https://pandas.pydata.org/pandas-docs/stable/user_guide/indexing.html#returning-a-view-versus-a-copy\n",
            "  app.launch_new_instance()\n"
          ]
        },
        {
          "output_type": "stream",
          "name": "stdout",
          "text": [
            "ethnicity: [0. 1.]\n",
            "sex pre [2 1 3 6 4]\n"
          ]
        },
        {
          "output_type": "stream",
          "name": "stderr",
          "text": [
            "/usr/local/lib/python3.7/dist-packages/ipykernel_launcher.py:21: SettingWithCopyWarning: \n",
            "A value is trying to be set on a copy of a slice from a DataFrame.\n",
            "Try using .loc[row_indexer,col_indexer] = value instead\n",
            "\n",
            "See the caveats in the documentation: https://pandas.pydata.org/pandas-docs/stable/user_guide/indexing.html#returning-a-view-versus-a-copy\n"
          ]
        },
        {
          "output_type": "stream",
          "name": "stdout",
          "text": [
            "sex: [1 0]\n",
            "998322 223639\n",
            "1221961\n"
          ]
        }
      ],
      "source": [
        "subsample = unpickled_df                    \n",
        "\n",
        "print(len(subsample.loc[subsample[\"action_taken\"]==1]),len(subsample.loc[subsample[\"action_taken\"]==3]))\n",
        "subsample = subsample.loc[subsample[\"action_taken\"].isin([1,3])]\n",
        "subsample[\"action_taken\"] = subsample[\"action_taken\"].replace([3],[0])    \n",
        "print(\"action:\",subsample[\"action_taken\"].unique())\n",
        "print(len(subsample.loc[subsample[\"action_taken\"]==1]),len(subsample.loc[subsample[\"action_taken\"]==0]))\n",
        "\n",
        "print(\"race pre:\",subsample[\"applicant_race-1\"].unique())\n",
        "subsample = subsample.loc[subsample[\"applicant_race-1\"].isin([3,5])]\n",
        "subsample[\"applicant_race-1\"] = subsample[\"applicant_race-1\"].replace([5,3],[0,1])\n",
        "print(\"race:\",subsample[\"applicant_race-1\"].unique())\n",
        "\n",
        "print(\"ethnicity pre:\",subsample[\"applicant_ethnicity-1\"].unique())\n",
        "subsample = subsample.loc[subsample[\"applicant_ethnicity-1\"].isin([1,2])]\n",
        "subsample[\"applicant_ethnicity-1\"] = subsample[\"applicant_ethnicity-1\"].replace([2,1],[0,1])\n",
        "print(\"ethnicity:\",subsample[\"applicant_ethnicity-1\"].unique())\n",
        "\n",
        "print(\"sex pre\",subsample[\"applicant_sex\"].unique())\n",
        "subsample = subsample.loc[subsample[\"applicant_sex\"].isin([1,2])]\n",
        "subsample[\"applicant_sex\"] = subsample[\"applicant_sex\"].replace([1,2],[0,1])\n",
        "print(\"sex:\",subsample[\"applicant_sex\"].unique())\n",
        "\n",
        "\n",
        "print(len(subsample.loc[subsample[\"action_taken\"]==1]),len(subsample.loc[subsample[\"action_taken\"]==0]))\n",
        "\n",
        "print(len(subsample))\n",
        "#subsample = subsample[[\"loan_type\", \"property_type\", \"loan_purpose\", \"loan_amount_000s\",\n",
        "#                            \"action_taken\",\"applicant_ethnicity\",\"applicant_race_1\",\"applicant_sex\",\n",
        "#                           \"applicant_income_000s\"]]"
      ]
    },
    {
      "cell_type": "code",
      "execution_count": 8,
      "metadata": {
        "colab": {
          "base_uri": "https://localhost:8080/",
          "height": 120
        },
        "id": "Iate0g19C28Y",
        "outputId": "5f5e2383-1acf-43d3-ff64-ca399ee44c37"
      },
      "outputs": [
        {
          "output_type": "execute_result",
          "data": {
            "text/plain": [
              "'\\nsubsample = unpickled_df                           \\nsubsample[\"action_taken\"] = subsample[\"action_taken\"].replace([3],[0])\\nprint(subsample[\"action_taken_name\"].unique())\\nprint(subsample[\"action_taken\"].unique())\\nprint(len(subsample[\"action_taken\"]==1),len(subsample[\"action_taken\"]==0))\\n\\nsubsample = subsample.loc[((subsample[\"applicant_race_1\"]==3) | (subsample[\"applicant_race_1\"]==5))]\\nprint(subsample[\"applicant_race_name_1\"].unique())\\nsubsample[\"applicant_race_1\"] = subsample[\"applicant_race_1\"].replace([5,3],[1,2])\\nprint(subsample[\"applicant_race_1\"].unique())\\n\\nprint(subsample[\"applicant_ethnicity_name\"].unique())\\nsubsample[\"applicant_ethnicity\"] = subsample[\"applicant_ethnicity\"].replace([2,1],[1,2])\\nprint(subsample[\"applicant_ethnicity\"].unique())\\n\\nprint(subsample[\"applicant_sex_name\"].unique())\\nprint(subsample[\"applicant_sex\"].unique())\\n'"
            ],
            "application/vnd.google.colaboratory.intrinsic+json": {
              "type": "string"
            }
          },
          "metadata": {},
          "execution_count": 8
        }
      ],
      "source": [
        "#subsample = unpickled_df[[\"loan_type\", \"property_value\", \"loan_purpose\", \"loan_amount\",\n",
        "#                            \"action_taken\",\"applicant_ethnicity-1\",\"applicant_race-1\",\"applicant_sex\",\n",
        "#                           \"income\",'occupancy_type']]\n",
        "#subsample = unpickled_df[[\"loan_type\", \"property_type\", \"loan_purpose\", \"loan_amount_000s\",\n",
        "#                            \"action_taken\",\"action_taken_name\",\"applicant_ethnicity\",\"applicant_ethnicity_name\",\"applicant_race_1\",\"applicant_race_name_1\",\"applicant_sex\",\"applicant_sex_name\",\n",
        "#                           \"applicant_income_000s\",'owner_occupancy']]\n",
        "\n",
        "#PAPER A https://www.mdpi.com/2504-4990/4/1/11\n",
        "#DATA DE https://ffiec.cfpb.gov/data-browser/data/2019?category=counties&items=01001&actions_taken=1,3\n",
        "#CAL TRIAR LES FEATURES? SOBRETOT, PILLAR LES derived_ethnicity, derived_race etc (https://ffiec.cfpb.gov/documentation/2018/data-browser-filters/)\n",
        "\n",
        "\"\"\"\n",
        "subsample = unpickled_df                           \n",
        "subsample[\"action_taken\"] = subsample[\"action_taken\"].replace([3],[0])\n",
        "print(subsample[\"action_taken_name\"].unique())\n",
        "print(subsample[\"action_taken\"].unique())\n",
        "print(len(subsample[\"action_taken\"]==1),len(subsample[\"action_taken\"]==0))\n",
        "\n",
        "subsample = subsample.loc[((subsample[\"applicant_race_1\"]==3) | (subsample[\"applicant_race_1\"]==5))]\n",
        "print(subsample[\"applicant_race_name_1\"].unique())\n",
        "subsample[\"applicant_race_1\"] = subsample[\"applicant_race_1\"].replace([5,3],[1,2])\n",
        "print(subsample[\"applicant_race_1\"].unique())\n",
        "\n",
        "print(subsample[\"applicant_ethnicity_name\"].unique())\n",
        "subsample[\"applicant_ethnicity\"] = subsample[\"applicant_ethnicity\"].replace([2,1],[1,2])\n",
        "print(subsample[\"applicant_ethnicity\"].unique())\n",
        "\n",
        "print(subsample[\"applicant_sex_name\"].unique())\n",
        "print(subsample[\"applicant_sex\"].unique())\n",
        "\"\"\"\n",
        "\n",
        "#subsample = subsample[[\"loan_type\", \"property_type\", \"loan_purpose\", \"loan_amount_000s\",\n",
        "#                            \"action_taken\",\"applicant_ethnicity\",\"applicant_race_1\",\"applicant_sex\",\n",
        "#                           \"applicant_income_000s\"]]"
      ]
    },
    {
      "cell_type": "code",
      "execution_count": 9,
      "metadata": {
        "colab": {
          "base_uri": "https://localhost:8080/"
        },
        "id": "SSxWPfaLOG-g",
        "outputId": "f7d9dd04-fe4f-4bde-f128-3de159ee5225"
      },
      "outputs": [
        {
          "output_type": "stream",
          "name": "stdout",
          "text": [
            "998322 223639\n"
          ]
        }
      ],
      "source": [
        "print(len(subsample.loc[((subsample[\"action_taken\"]==1))]),len(subsample.loc[((subsample[\"action_taken\"]==0))]))"
      ]
    },
    {
      "cell_type": "code",
      "source": [
        "def create_df(x,xcol,y,ycol):\n",
        "  auxnparray = x.copy()\n",
        "  newdf = pd.DataFrame(auxnparray, columns = xcol)\n",
        "  newdf[ycol] = y.tolist()\n",
        "  return newdf"
      ],
      "metadata": {
        "id": "TYrlBaAiAkC_"
      },
      "execution_count": 10,
      "outputs": []
    },
    {
      "cell_type": "code",
      "execution_count": 11,
      "metadata": {
        "id": "rQZ_WFRsk5m5"
      },
      "outputs": [],
      "source": [
        "from matplotlib import pyplot as plt\n",
        "def show_subgroups(df,bool_app_dec,bool_percent):\n",
        "  subgroups = []\n",
        "  subgroups_names = []\n",
        "  R = [\"W\",\"B\"]\n",
        "  E = [\"NH\",\"H\"]\n",
        "  S = [\"M\",\"F\"]\n",
        "  for option in [0,1]:\n",
        "    for option2 in [0,1]:\n",
        "      for option3 in [0,1]:\n",
        "          subgroups.append(df.loc[((df[\"applicant_race-1\"]==option) & (df[\"applicant_ethnicity-1\"]==option2) & (df[\"applicant_sex\"]==option3))])\n",
        "          subgroups_names.append(R[option]+\"_\"+E[option2]+\"_\"+S[option3])\n",
        "  subgroups_app = []\n",
        "  subgroups_dec = []\n",
        "  percent = []\n",
        "  for s in subgroups:\n",
        "    #print(s[\"action_taken\"])\n",
        "    subgroups_app.append(len(s[s[\"action_taken\"]==1]))\n",
        "    subgroups_dec.append(len(s[s[\"action_taken\"]==0]))\n",
        "    if(len(s)!=0):\n",
        "      percent.append(round(100*len(s[s[\"action_taken\"]==1])/len(s),2))\n",
        "    else:\n",
        "      percent.append(0)\n",
        "    #print(percent[-1],\"%\")\n",
        "\n",
        "  fig = plt.figure()\n",
        "  if(bool_app_dec):\n",
        "    ax = fig.add_axes([0,0,1,1])\n",
        "    ax.bar(subgroups_names,subgroups_app, color='r')\n",
        "    ax.bar(subgroups_names,subgroups_dec, bottom=subgroups_app, color='b')\n",
        "    ax.legend(labels=['Accepted', 'Denied'])\n",
        "  if(bool_percent):\n",
        "    ax2 = fig.add_axes([1,0,1,1])\n",
        "    ax2.bar(subgroups_names,percent)\n",
        "    ax2.legend(labels=['Approval rate'])\n",
        "  if(bool_app_dec or bool_percent):\n",
        "    plt.show()\n",
        "  return (subgroups,subgroups_names,subgroups_app,subgroups_dec,percent)"
      ]
    },
    {
      "cell_type": "code",
      "source": [
        "subgroups = show_subgroups(subsample,True,True)\n",
        "subgroups[4]"
      ],
      "metadata": {
        "colab": {
          "base_uri": "https://localhost:8080/",
          "height": 354
        },
        "id": "OVX9z1E6xJO1",
        "outputId": "03026da2-00a9-4b89-e397-40dda50c7036"
      },
      "execution_count": 12,
      "outputs": [
        {
          "output_type": "display_data",
          "data": {
            "text/plain": [
              "<Figure size 432x288 with 2 Axes>"
            ],
            "image/png": "[encoded data removed]"
          },
          "metadata": {
            "needs_background": "light"
          }
        },
        {
          "output_type": "execute_result",
          "data": {
            "text/plain": [
              "[85.55, 81.93, 82.84, 79.94, 71.03, 66.35, 74.71, 67.31]"
            ]
          },
          "metadata": {},
          "execution_count": 12
        }
      ]
    },
    {
      "cell_type": "code",
      "source": [
        "#print([round(subgroups[2][s] / len(subgroups[0][s]),3) for s in range(len(subgroups[0]))]) #print(subgroups[4]) #the same\n",
        "yes_contribution = [round(s / sum(subgroups[2]),3) for s in subgroups[2]]\n",
        "instance_contribution = [round(len(s) / len(subsample),3) for s in subgroups[0]]\n",
        "print(\"contribution to total approvals:\",yes_contribution)\n",
        "print(\"contribution to total amount   :\",instance_contribution)\n",
        "plot_contribution = pd.DataFrame({'Yes_contribution': yes_contribution,\n",
        "                   'Instance_contribution': instance_contribution}, index=subgroups[1])\n",
        "ax = plot_contribution.plot.bar(rot=0)"
      ],
      "metadata": {
        "colab": {
          "base_uri": "https://localhost:8080/",
          "height": 301
        },
        "id": "gAledkqFJwN8",
        "outputId": "2bfb0eb5-73e8-4539-a57a-fca703f37570"
      },
      "execution_count": 13,
      "outputs": [
        {
          "output_type": "stream",
          "name": "stdout",
          "text": [
            "contribution to total approvals: [0.581, 0.241, 0.024, 0.011, 0.076, 0.066, 0.001, 0.001]\n",
            "contribution to total amount   : [0.555, 0.24, 0.023, 0.011, 0.087, 0.081, 0.001, 0.001]\n"
          ]
        },
        {
          "output_type": "display_data",
          "data": {
            "text/plain": [
              "<Figure size 432x288 with 1 Axes>"
            ],
            "image/png": "[encoded data removed]"
          },
          "metadata": {
            "needs_background": "light"
          }
        }
      ]
    },
    {
      "cell_type": "code",
      "execution_count": 14,
      "metadata": {
        "id": "u7D2kpw75hbO",
        "outputId": "d9b74fa3-cbc8-4adc-fb60-df99328da18e",
        "colab": {
          "base_uri": "https://localhost:8080/",
          "height": 69
        }
      },
      "outputs": [
        {
          "output_type": "execute_result",
          "data": {
            "text/plain": [
              "'\\nsubgroups = []\\nsubgroups_names = []\\nR = [\"W\",\"B\"]\\nE = [\"NH\",\"H\"]\\nS = [\"M\",\"F\"]\\nfor option in [0,1]:\\n  for option2 in [0,1]:\\n    for option3 in [0,1]:\\n        subgroups.append(subsample.loc[((subsample[\"applicant_race-1\"]==option) & (subsample[\"applicant_ethnicity-1\"]==option2) & (subsample[\"applicant_sex\"]==option3))])\\n        subgroups_names.append(R[option-1]+\"_\"+E[option2-1]+\"_\"+S[option3-1])\\nlen(subgroups)\\n'"
            ],
            "application/vnd.google.colaboratory.intrinsic+json": {
              "type": "string"
            }
          },
          "metadata": {},
          "execution_count": 14
        }
      ],
      "source": [
        "\"\"\"\n",
        "subgroups = []\n",
        "subgroups_names = []\n",
        "R = [\"W\",\"B\"]\n",
        "E = [\"NH\",\"H\"]\n",
        "S = [\"M\",\"F\"]\n",
        "for option in [0,1]:\n",
        "  for option2 in [0,1]:\n",
        "    for option3 in [0,1]:\n",
        "        subgroups.append(subsample.loc[((subsample[\"applicant_race-1\"]==option) & (subsample[\"applicant_ethnicity-1\"]==option2) & (subsample[\"applicant_sex\"]==option3))])\n",
        "        subgroups_names.append(R[option-1]+\"_\"+E[option2-1]+\"_\"+S[option3-1])\n",
        "len(subgroups)\n",
        "\"\"\""
      ]
    },
    {
      "cell_type": "code",
      "execution_count": 15,
      "metadata": {
        "id": "bfpn5i618YC3",
        "outputId": "b1059292-7922-466b-ed9b-8b973c6e06d2",
        "colab": {
          "base_uri": "https://localhost:8080/",
          "height": 86
        }
      },
      "outputs": [
        {
          "output_type": "execute_result",
          "data": {
            "text/plain": [
              "'\\nsubgroups_app = []\\nsubgroups_dec = []\\npercent = []\\nfor s in subgroups:\\n  subgroups_app.append(len(s[s[\"action_taken\"]==1]))\\n  subgroups_dec.append(len(s[s[\"action_taken\"]==0]))\\n  percent.append(round(100*len(s[s[\"action_taken\"]==1])/len(s),2))\\n  print(len(s[s[\"action_taken\"]==1]),len(s[s[\"action_taken\"]==0]),round(100*len(s[s[\"action_taken\"]==1])/len(s),2),\"%\")\\n\\n\\nfig = plt.figure()\\nax = fig.add_axes([0,0,2,2])\\nax.bar(subgroups_names,subgroups_app, color=\\'r\\')\\nax.bar(subgroups_names,subgroups_dec, bottom=subgroups_app, color=\\'b\\')\\nax.legend(labels=[\\'Accepted\\', \\'Denied\\'])\\nplt.show()\\n'"
            ],
            "application/vnd.google.colaboratory.intrinsic+json": {
              "type": "string"
            }
          },
          "metadata": {},
          "execution_count": 15
        }
      ],
      "source": [
        "\"\"\"\n",
        "subgroups_app = []\n",
        "subgroups_dec = []\n",
        "percent = []\n",
        "for s in subgroups:\n",
        "  subgroups_app.append(len(s[s[\"action_taken\"]==1]))\n",
        "  subgroups_dec.append(len(s[s[\"action_taken\"]==0]))\n",
        "  percent.append(round(100*len(s[s[\"action_taken\"]==1])/len(s),2))\n",
        "  print(len(s[s[\"action_taken\"]==1]),len(s[s[\"action_taken\"]==0]),round(100*len(s[s[\"action_taken\"]==1])/len(s),2),\"%\")\n",
        "\n",
        "\n",
        "fig = plt.figure()\n",
        "ax = fig.add_axes([0,0,2,2])\n",
        "ax.bar(subgroups_names,subgroups_app, color='r')\n",
        "ax.bar(subgroups_names,subgroups_dec, bottom=subgroups_app, color='b')\n",
        "ax.legend(labels=['Accepted', 'Denied'])\n",
        "plt.show()\n",
        "\"\"\""
      ]
    },
    {
      "cell_type": "code",
      "source": [
        "\"\"\"\n",
        "fig = plt.figure()\n",
        "ax = fig.add_axes([0,0,1,1])\n",
        "ax.set_ylim(65, 90)\n",
        "ax.bar(subgroups_names,percent)\n",
        "ax.legend(labels=['Approval rate'])\n",
        "plt.show()\n",
        "\"\"\""
      ],
      "metadata": {
        "id": "EVjavavlIJfn",
        "outputId": "18553d1c-616d-4ed8-9ca7-b41ab801fbcd",
        "colab": {
          "base_uri": "https://localhost:8080/",
          "height": 52
        }
      },
      "execution_count": 16,
      "outputs": [
        {
          "output_type": "execute_result",
          "data": {
            "text/plain": [
              "\"\\nfig = plt.figure()\\nax = fig.add_axes([0,0,1,1])\\nax.set_ylim(65, 90)\\nax.bar(subgroups_names,percent)\\nax.legend(labels=['Approval rate'])\\nplt.show()\\n\""
            ],
            "application/vnd.google.colaboratory.intrinsic+json": {
              "type": "string"
            }
          },
          "metadata": {},
          "execution_count": 16
        }
      ]
    },
    {
      "cell_type": "code",
      "execution_count": 17,
      "metadata": {
        "id": "UcTfvuKoXqzu"
      },
      "outputs": [],
      "source": [
        "\"\"\"\n",
        "for i in range(simulatedpeopleN):\n",
        "  properties_i = {\"ID\":i,\"Happiness\":0,\"Money\":random.randint(0,1000),\"NeedofMoney\":random.randint(1,1000)}\n",
        "  properties_i['Happiness'] = 100 * properties_i['Money'] / properties_i['NeedofMoney']\n",
        "  dicPeople[i] = properties_i\n",
        "print([item[\"Happiness\"] for item in dicPeople.values() if item[\"Happiness\"]>50])\n",
        "\"\"\"\n",
        "import math\n",
        "\n",
        "#functions: 1-have/need, 2-need/70K limit, 3-suma de individus happy, dues persones 25% happy sumades son el mateix que una 50%?\n",
        "def dimReturns(had,need): #https://stackoverflow.com/questions/2813621/how-do-you-create-a-formula-that-has-diminishing-returns\n",
        "  #x = had/need\n",
        "  #return 1 / (1 + math.exp(-x))\n",
        "  #return (had*had) / (had*need) + 0\n",
        "  #print(had,need)\n",
        "  x = had/max(had,need) #SUPER REVISABLE TOT (aixo es per evitar divisio per 0 i/o overflow)\n",
        "  return 100*(1/(1+100000**-(x-0.5)))\n",
        "\n",
        "class Person():\n",
        "  def __init__(self,i,p):\n",
        "        self.id = i\n",
        "        self.balance = 0 #could be a different initial b for each\n",
        "        self.petition = p\n",
        "        #self.need = n\n",
        "        self.happiness = 0.0\n",
        "        self.status = -1\n",
        "  def updateH(self):\n",
        "    self.happiness = dimReturns(self.balance,self.petition)\n",
        "    return self.happiness"
      ]
    },
    {
      "cell_type": "code",
      "execution_count": 18,
      "metadata": {
        "id": "THOTfNUKe_hV",
        "outputId": "e7191133-e7fc-4ff1-cb2f-93b1828bc8ce",
        "colab": {
          "base_uri": "https://localhost:8080/"
        }
      },
      "outputs": [
        {
          "output_type": "stream",
          "name": "stdout",
          "text": [
            "998322 223639\n",
            "1221961 99 36477113\n",
            "998322 223639\n",
            "1221961 99 0\n"
          ]
        }
      ],
      "source": [
        "print(len(subsample.loc[subsample[\"action_taken\"]==1]),len(subsample.loc[subsample[\"action_taken\"]==0]))\n",
        "print(len(subsample),len(subsample.columns),subsample.isnull().values.sum())\n",
        "\n",
        "#thr=0.25\n",
        "#for col in subsample.columns:\n",
        "#  if (subsample[col].isnull().sum()>thr*len(subsample)):\n",
        "    #subsample.drop(columns=[col])\n",
        "#    print(col)\n",
        "\n",
        "#subsample = subsample.dropna(axis=1,thresh=thr*len(subsample))\n",
        "#subsample = subsample.dropna(axis=0)\n",
        "\n",
        "# Iterate over each column of cc_apps\n",
        "for col in subsample.columns:\n",
        "    # Check if the column is of object type\n",
        "    if subsample[col].dtypes == 'object':\n",
        "        # Impute with the most frequent value\n",
        "        subsample = subsample.fillna(subsample[col].value_counts().index[0])\n",
        "\n",
        "\n",
        "print(len(subsample.loc[subsample[\"action_taken\"]==1]),len(subsample.loc[subsample[\"action_taken\"]==0]))\n",
        "\n",
        "# Count the number of NaNs in the dataset and print the counts to verify\n",
        "print(len(subsample),len(subsample.columns),subsample.isnull().values.sum())\n"
      ]
    },
    {
      "cell_type": "code",
      "source": [
        "subsample[\"action_taken\"].unique()"
      ],
      "metadata": {
        "id": "dooBqxQsG69u",
        "outputId": "582da671-efc3-4fd0-8851-11c29982faab",
        "colab": {
          "base_uri": "https://localhost:8080/"
        }
      },
      "execution_count": 19,
      "outputs": [
        {
          "output_type": "execute_result",
          "data": {
            "text/plain": [
              "array([1, 0])"
            ]
          },
          "metadata": {},
          "execution_count": 19
        }
      ]
    },
    {
      "cell_type": "code",
      "execution_count": 20,
      "metadata": {
        "id": "IulxPGyIemhD"
      },
      "outputs": [],
      "source": [
        "# Import LabelEncoder\n",
        "#from sklearn.preprocessing import OrdinalEncoder\n",
        "\n",
        "#oe = OrdinalEncoder() \n",
        "\n",
        "#for col in subsample.columns:\n",
        "#    if subsample[col].dtype=='object':\n",
        "#        subsample[col] = oe.fit_transform(subsample[[col]])"
      ]
    },
    {
      "cell_type": "code",
      "source": [
        "cols = [f_ for f_ in subsample.columns if subsample[f_].dtype != 'object']\n",
        "features = cols\n",
        "\n",
        "list_to_remove = ['action_taken','purchaser_type',\n",
        "                  'denial_reason_1','denial_reason_2','denial_reason_3','sequence_number','application_date_indicator']\n",
        "\n",
        "features = list(set(cols).difference(set(list_to_remove)))\n",
        "\n",
        "X = subsample[features]\n",
        "y = subsample['action_taken']"
      ],
      "metadata": {
        "id": "x8-fa-NFwbRW"
      },
      "execution_count": 21,
      "outputs": []
    },
    {
      "cell_type": "code",
      "source": [
        "bias_to_remove = ['co-applicant_sex_observed','applicant_ethnicity_observed','applicant_sex','applicant_sex_observed','applicant_race-1',\n",
        "                  'co-applicant_race_observed', 'co-applicant_sex', 'applicant_race_observed','co-applicant_ethnicity_observed',\n",
        "                  'applicant_ethnicity-1']\n",
        "\n",
        "unbiased_features = list(set(X.columns).difference(set(bias_to_remove)))\n",
        "\n",
        "Xun = X[unbiased_features]\n",
        "yun = y\n",
        "\n",
        "\n",
        "scaler = MinMaxScaler(feature_range=(0, 1))\n",
        "scaledXun = scaler.fit_transform(Xun)\n",
        "\n",
        "un_model = LogisticRegression(solver=\"liblinear\")\n",
        "\n",
        "scores_dict = cross_validate(model,scaledXun,yun,cv=5, return_estimator=True)\n",
        "#model = first_part_scores_dict[\"estimator\"][0]\n",
        "un_scores_dict"
      ],
      "metadata": {
        "colab": {
          "base_uri": "https://localhost:8080/"
        },
        "id": "QQK51ZK7HT8C",
        "outputId": "9377220b-1c4e-4425-dc4e-4d35b35e3e8b"
      },
      "execution_count": 60,
      "outputs": [
        {
          "output_type": "execute_result",
          "data": {
            "text/plain": [
              "{'estimator': [LogisticRegression(solver='liblinear'),\n",
              "  LogisticRegression(solver='liblinear'),\n",
              "  LogisticRegression(solver='liblinear'),\n",
              "  LogisticRegression(solver='liblinear'),\n",
              "  LogisticRegression(solver='liblinear')],\n",
              " 'fit_time': array([25.21125627, 23.96922207, 24.72865844, 19.48442936, 23.75283837]),\n",
              " 'score_time': array([0.05283666, 0.06069016, 0.05272746, 0.05268192, 0.06076002]),\n",
              " 'test_score': array([0.9829946 , 0.97584618, 0.97352614, 0.98278994, 0.96663148])}"
            ]
          },
          "metadata": {},
          "execution_count": 60
        }
      ]
    },
    {
      "cell_type": "code",
      "source": [
        "for i in range(len(Xun.columns)):\n",
        "  print(Xun.columns[i], un_scores_dict[\"estimator\"][0].coef_[0][i])"
      ],
      "metadata": {
        "colab": {
          "base_uri": "https://localhost:8080/"
        },
        "id": "oQkxopMpM2O4",
        "outputId": "7f367f94-edb2-41cc-ae0c-df8c60b50009"
      },
      "execution_count": 61,
      "outputs": [
        {
          "output_type": "stream",
          "name": "stdout",
          "text": [
            "tract_owner_occupied_units -2.2429365979795075\n",
            "open-end_line_of_credit 2.450211359804187\n",
            "loan_amount 0.5852849665518339\n",
            "reverse_mortgage 3.2410012762987277\n",
            "preapproval -3.50028979915615\n",
            "tract_minority_population_percent -1.040936205101247\n",
            "tract_one_to_four_family_homes 3.5798383570146286\n",
            "loan_type 0.014405187046478852\n",
            "interest_only_payment -0.24338270817847105\n",
            "loan_purpose -0.551619553508413\n",
            "occupancy_type 4.073871608045861\n",
            "manufactured_home_land_property_interest 2.0357344191458946\n",
            "tract_median_age_of_housing_units 0.22263728867737273\n",
            "business_or_commercial_purpose 1.0770925950999617\n",
            "hoepa_status -22.692710583208665\n",
            "construction_method -2.0412512230340285\n",
            "initially_payable_to_institution -1.259686733200324\n",
            "aus-1 -0.9136846648818797\n",
            "applicant_credit_score_type -0.6893070854711109\n",
            "ffiec_msa_md_median_family_income 1.316011156259778\n",
            "tract_to_msa_income_percentage 1.3387752275421008\n",
            "submission_of_application 2.554633345134244\n",
            "co-applicant_credit_score_type -8.419360794080873\n",
            "other_nonamortizing_features -0.23890660983788903\n",
            "manufactured_home_secured_property_type 1.6686580660899024\n",
            "denial_reason-1 1.1198579313515071\n",
            "activity_year 0.0\n",
            "derived_msa-md 0.16834072151282478\n",
            "balloon_payment -0.8158717667665585\n",
            "lien_status -1.1702207132894331\n",
            "negative_amortization -0.22138020414200113\n",
            "tract_population -1.9405661850762006\n"
          ]
        }
      ]
    },
    {
      "cell_type": "code",
      "source": [
        "scaler = MinMaxScaler(feature_range=(0, 1))\n",
        "scaledX = scaler.fit_transform(X)\n",
        "\n",
        "model = LogisticRegression(solver=\"liblinear\")\n",
        "\n",
        "all_scores_dict = cross_validate(model,scaledX,y,cv=5, return_estimator=True)\n",
        "#model = first_part_scores_dict[\"estimator\"][0]\n",
        "all_scores_dict"
      ],
      "metadata": {
        "colab": {
          "base_uri": "https://localhost:8080/"
        },
        "id": "1e0jLol8KE6w",
        "outputId": "0213d644-1d3f-4627-e8c3-957d169876a5"
      },
      "execution_count": 44,
      "outputs": [
        {
          "output_type": "execute_result",
          "data": {
            "text/plain": [
              "{'estimator': [LogisticRegression(solver='liblinear'),\n",
              "  LogisticRegression(solver='liblinear'),\n",
              "  LogisticRegression(solver='liblinear'),\n",
              "  LogisticRegression(solver='liblinear'),\n",
              "  LogisticRegression(solver='liblinear')],\n",
              " 'fit_time': array([36.21239567, 36.51741195, 26.67965293, 29.75389361, 26.56853318]),\n",
              " 'score_time': array([0.07117581, 0.0815289 , 0.06952119, 0.06972837, 0.0720849 ]),\n",
              " 'test_score': array([0.98357154, 0.97629628, 0.9743936 , 0.98331778, 0.96719205])}"
            ]
          },
          "metadata": {},
          "execution_count": 44
        }
      ]
    },
    {
      "cell_type": "code",
      "source": [
        "for i in range(len(X.columns)):\n",
        "  print(X.columns[i], all_scores_dict[\"estimator\"][0].coef_[0][i])"
      ],
      "metadata": {
        "colab": {
          "base_uri": "https://localhost:8080/"
        },
        "id": "1_8WCxAeK5Sf",
        "outputId": "b00ce84c-3185-4c22-e98d-d2f9a6ee9489"
      },
      "execution_count": 59,
      "outputs": [
        {
          "output_type": "stream",
          "name": "stdout",
          "text": [
            "co-applicant_sex_observed 3.6167132127574573\n",
            "tract_owner_occupied_units -1.6549386216252377\n",
            "open-end_line_of_credit 2.2558452856434066\n",
            "reverse_mortgage 2.4245752952530673\n",
            "preapproval -3.4534612981975705\n",
            "loan_amount 0.35387494036837974\n",
            "tract_minority_population_percent -0.14970147222047087\n",
            "tract_one_to_four_family_homes 3.337852999895463\n",
            "applicant_race-1 -0.9522496589569264\n",
            "loan_type 0.15326074039171317\n",
            "applicant_ethnicity_observed 2.0748055407111106\n",
            "interest_only_payment -0.18084313433267596\n",
            "loan_purpose -0.5930923613690036\n",
            "applicant_sex -0.08508974336931566\n",
            "occupancy_type 4.042845349876687\n",
            "manufactured_home_land_property_interest 2.3489701018331592\n",
            "tract_median_age_of_housing_units 0.08930039343047698\n",
            "applicant_sex_observed -0.7064799498141451\n",
            "business_or_commercial_purpose 1.0164178508827169\n",
            "hoepa_status -22.71973135368828\n",
            "construction_method -1.9623622281277544\n",
            "co-applicant_race_observed -0.11764086755918696\n",
            "initially_payable_to_institution -1.5685044190585224\n",
            "aus-1 -1.6613509499307346\n",
            "co-applicant_sex -0.4202473048696792\n",
            "applicant_race_observed -1.3191640475647861\n",
            "applicant_credit_score_type -2.6091123106105716\n",
            "co-applicant_ethnicity_observed -3.6019054638680443\n",
            "ffiec_msa_md_median_family_income 1.1931858976148002\n",
            "tract_to_msa_income_percentage 1.2373232131623595\n",
            "submission_of_application 2.186852111528112\n",
            "co-applicant_credit_score_type -4.660690427409828\n",
            "other_nonamortizing_features -0.20172579894054965\n",
            "applicant_ethnicity-1 -0.3337608331383413\n",
            "manufactured_home_secured_property_type 1.9769884013876815\n",
            "denial_reason-1 0.9170457119422744\n",
            "activity_year 0.0\n",
            "derived_msa-md 0.11388865903994834\n",
            "balloon_payment -0.759218834544473\n",
            "lien_status -1.1785662428298793\n",
            "negative_amortization -0.18497183317621896\n",
            "tract_population -2.262489968395011\n"
          ]
        }
      ]
    },
    {
      "cell_type": "code",
      "source": [
        "import math\n",
        "def partitions(n_partitions, X, y):\n",
        "  X_partitions = []\n",
        "  y_partitions = []\n",
        "  size_partitions = math.floor(len(X)/n_partitions)\n",
        "  for p in range(n_partitions):\n",
        "    X_partitions.append(X[p*size_partitions:(p+1)*size_partitions])  \n",
        "    y_partitions.append(y[p*size_partitions:(p+1)*size_partitions])\n",
        "  print(len(X), [sum(len(item) for item in X_partitions)], len(X_partitions[0]))\n",
        "  return X_partitions, y_partitions"
      ],
      "metadata": {
        "id": "ils_0oolw-NO"
      },
      "execution_count": 22,
      "outputs": []
    },
    {
      "cell_type": "code",
      "source": [
        "import math\n",
        "def partitions_homo(n_partitions, X, y):\n",
        "  X_partitions = []\n",
        "  y_partitions = []\n",
        "  X_app = X[y==1]\n",
        "  X_dec = X[y==0]\n",
        "  size_app = math.floor(len(X_app)/n_partitions)\n",
        "  size_dec = math.floor(len(X_dec)/n_partitions)\n",
        "\n",
        "  print(len(X),len(X_app)+len(X_dec),len(X_app),len(X_dec))\n",
        "  print(size_app+size_dec, size_app, size_dec)\n",
        "  size_partitions = size_app+size_dec\n",
        "  for p in range(n_partitions):\n",
        "    X_partitions.append(np.concatenate((X_app[p*size_app:(p+1)*size_app],X_dec[p*size_dec:(p+1)*size_dec])))\n",
        "    y_partitions.append(np.concatenate((y[y==1][p*size_app:(p+1)*size_app],y[y==0][p*size_dec:(p+1)*size_dec])))\n",
        "    #print(len(X_partitions[-1]),len(y_partitions[-1]))\n",
        "  print(len(X), [sum(len(item) for item in X_partitions)], len(X_partitions[0]))\n",
        "  return X_partitions, y_partitions\n",
        "#partitions_homo(100,X,y)"
      ],
      "metadata": {
        "id": "rAER4ScX8z4v"
      },
      "execution_count": 33,
      "outputs": []
    },
    {
      "cell_type": "code",
      "source": [
        "X_fractions, y_fractions = partitions_homo(100, X, y)\n",
        "\n",
        "scaler = MinMaxScaler(feature_range=(0, 1))\n",
        "for x in range(len(X_fractions)):\n",
        "  X_fractions[x] = scaler.fit_transform(X_fractions[x])\n",
        "\n",
        "model = LogisticRegression(solver=\"liblinear\")\n",
        "\n",
        "first_part_scores_dict = cross_validate(model,X_fractions[0],y_fractions[0],cv=5, return_estimator=True)\n",
        "model = first_part_scores_dict[\"estimator\"][0] \n",
        "model.score(X_fractions[1],y_fractions[1])\n"
      ],
      "metadata": {
        "id": "uhpQtQHcy5MA",
        "outputId": "e32a3520-23f0-4b3b-d073-ca6e36d75418",
        "colab": {
          "base_uri": "https://localhost:8080/"
        }
      },
      "execution_count": 34,
      "outputs": [
        {
          "output_type": "stream",
          "name": "stdout",
          "text": [
            "1221961 1221961 998322 223639\n",
            "12219 9983 2236\n",
            "12219 12219\n",
            "12219 12219\n",
            "12219 12219\n",
            "12219 12219\n",
            "12219 12219\n",
            "12219 12219\n",
            "12219 12219\n",
            "12219 12219\n",
            "12219 12219\n",
            "12219 12219\n",
            "12219 12219\n",
            "12219 12219\n",
            "12219 12219\n",
            "12219 12219\n",
            "12219 12219\n",
            "12219 12219\n",
            "12219 12219\n",
            "12219 12219\n",
            "12219 12219\n",
            "12219 12219\n",
            "12219 12219\n",
            "12219 12219\n",
            "12219 12219\n",
            "12219 12219\n",
            "12219 12219\n",
            "12219 12219\n",
            "12219 12219\n",
            "12219 12219\n",
            "12219 12219\n",
            "12219 12219\n",
            "12219 12219\n",
            "12219 12219\n",
            "12219 12219\n",
            "12219 12219\n",
            "12219 12219\n",
            "12219 12219\n",
            "12219 12219\n",
            "12219 12219\n",
            "12219 12219\n",
            "12219 12219\n",
            "12219 12219\n",
            "12219 12219\n",
            "12219 12219\n",
            "12219 12219\n",
            "12219 12219\n",
            "12219 12219\n",
            "12219 12219\n",
            "12219 12219\n",
            "12219 12219\n",
            "12219 12219\n",
            "12219 12219\n",
            "12219 12219\n",
            "12219 12219\n",
            "12219 12219\n",
            "12219 12219\n",
            "12219 12219\n",
            "12219 12219\n",
            "12219 12219\n",
            "12219 12219\n",
            "12219 12219\n",
            "12219 12219\n",
            "12219 12219\n",
            "12219 12219\n",
            "12219 12219\n",
            "12219 12219\n",
            "12219 12219\n",
            "12219 12219\n",
            "12219 12219\n",
            "12219 12219\n",
            "12219 12219\n",
            "12219 12219\n",
            "12219 12219\n",
            "12219 12219\n",
            "12219 12219\n",
            "12219 12219\n",
            "12219 12219\n",
            "12219 12219\n",
            "12219 12219\n",
            "12219 12219\n",
            "12219 12219\n",
            "12219 12219\n",
            "12219 12219\n",
            "12219 12219\n",
            "12219 12219\n",
            "12219 12219\n",
            "12219 12219\n",
            "12219 12219\n",
            "12219 12219\n",
            "12219 12219\n",
            "12219 12219\n",
            "12219 12219\n",
            "12219 12219\n",
            "12219 12219\n",
            "12219 12219\n",
            "12219 12219\n",
            "12219 12219\n",
            "12219 12219\n",
            "12219 12219\n",
            "12219 12219\n",
            "12219 12219\n",
            "1221961 [1221900] 12219\n"
          ]
        },
        {
          "output_type": "execute_result",
          "data": {
            "text/plain": [
              "0.9798674195924381"
            ]
          },
          "metadata": {},
          "execution_count": 34
        }
      ]
    },
    {
      "cell_type": "code",
      "source": [
        "for x in range(len(X_fractions)):\n",
        "  print(x,show_subgroups(create_df(X_fractions[x],X.columns,y_fractions[x],\"action_taken\"),False,False)[4])"
      ],
      "metadata": {
        "id": "-tCNM97FE2o_",
        "outputId": "9a46f1e5-bf34-4de3-f015-07ba9f7e5305",
        "colab": {
          "base_uri": "https://localhost:8080/",
          "height": 1000
        }
      },
      "execution_count": 35,
      "outputs": [
        {
          "output_type": "stream",
          "name": "stdout",
          "text": [
            "0 [86.45, 84.77, 76.55, 77.6, 56.61, 53.25, 72.73, 42.86]\n",
            "1 [87.31, 82.45, 79.0, 82.69, 67.08, 58.32, 75.0, 66.67]\n",
            "2 [87.84, 81.27, 75.57, 59.86, 64.3, 58.85, 91.67, 38.1]\n",
            "3 [85.21, 85.22, 83.47, 84.04, 65.97, 72.47, 72.73, 57.14]\n",
            "4 [84.94, 81.84, 79.22, 64.2, 75.77, 74.12, 77.27, 55.56]\n",
            "5 [85.14, 80.23, 80.49, 82.01, 73.66, 73.06, 90.0, 75.0]\n",
            "6 [85.32, 82.16, 77.01, 77.08, 69.67, 69.29, 78.57, 84.21]\n",
            "7 [84.97, 84.49, 84.7, 79.03, 69.97, 71.27, 63.64, 55.0]\n",
            "8 [85.61, 81.48, 68.64, 55.91, 65.46, 65.93, 62.5, 33.33]\n",
            "9 [87.02, 81.64, 75.82, 68.07, 69.43, 62.06, 61.9, 69.23]\n",
            "10 [85.26, 83.15, 80.83, 81.11, 69.73, 70.94, 62.5, 85.0]\n",
            "11 [86.36, 81.18, 79.65, 71.64, 74.15, 71.3, 88.89, 63.16]\n",
            "12 [85.76, 82.38, 71.6, 67.74, 77.23, 71.74, 70.59, 73.91]\n",
            "13 [84.88, 81.76, 75.12, 75.25, 76.16, 72.38, 73.33, 68.75]\n",
            "14 [86.4, 85.24, 74.55, 72.53, 70.42, 64.1, 56.25, 52.38]\n",
            "15 [83.26, 84.12, 77.73, 83.51, 73.11, 76.72, 54.55, 52.94]\n",
            "16 [83.73, 81.86, 89.04, 86.13, 74.82, 74.79, 61.9, 83.33]\n",
            "17 [84.5, 86.69, 84.62, 87.5, 64.35, 63.32, 66.67, 75.0]\n",
            "18 [85.47, 84.04, 73.28, 71.07, 64.27, 69.46, 50.0, 66.67]\n",
            "19 [84.5, 82.48, 83.7, 84.3, 76.27, 75.76, 68.97, 71.88]\n"
          ]
        },
        {
          "output_type": "stream",
          "name": "stderr",
          "text": [
            "/usr/local/lib/python3.7/dist-packages/ipykernel_launcher.py:26: RuntimeWarning: More than 20 figures have been opened. Figures created through the pyplot interface (`matplotlib.pyplot.figure`) are retained until explicitly closed and may consume too much memory. (To control this warning, see the rcParam `figure.max_open_warning`).\n"
          ]
        },
        {
          "output_type": "stream",
          "name": "stdout",
          "text": [
            "20 [87.89, 73.68, 93.83, 85.71, 81.48, 68.82, 93.33, 85.71]\n",
            "21 [89.37, 80.6, 93.22, 89.58, 69.88, 56.38, 90.0, 91.67]\n",
            "22 [89.19, 81.83, 89.74, 73.68, 58.43, 48.55, 90.91, 60.0]\n",
            "23 [86.54, 81.41, 81.78, 79.55, 69.54, 67.73, 84.62, 71.43]\n",
            "24 [83.21, 78.34, 79.79, 73.33, 80.8, 84.92, 75.0, 75.0]\n",
            "25 [85.12, 77.31, 84.54, 82.53, 79.91, 71.79, 83.33, 77.78]\n",
            "26 [85.25, 79.61, 86.15, 79.31, 75.04, 69.41, 84.21, 90.0]\n",
            "27 [83.56, 81.91, 92.05, 85.07, 79.19, 74.47, 92.86, 80.0]\n",
            "28 [89.2, 76.67, 93.18, 80.61, 77.48, 57.72, 87.5, 46.15]\n",
            "29 [88.4, 85.91, 73.52, 69.06, 64.11, 61.13, 81.82, 90.0]\n",
            "30 [84.54, 88.49, 76.78, 81.58, 62.49, 69.46, 44.44, 82.35]\n",
            "31 [85.51, 83.97, 90.71, 90.25, 68.86, 68.74, 80.0, 52.38]\n",
            "32 [81.36, 81.7, 96.46, 96.23, 72.29, 74.78, 80.77, 80.77]\n",
            "33 [84.53, 86.09, 90.84, 86.18, 64.97, 70.57, 68.42, 82.35]\n",
            "34 [83.99, 85.06, 82.33, 79.84, 70.26, 67.8, 94.12, 92.31]\n",
            "35 [87.18, 86.91, 78.54, 74.0, 64.9, 58.17, 80.95, 52.17]\n",
            "36 [85.1, 79.25, 75.99, 71.24, 78.38, 77.46, 84.21, 69.23]\n",
            "37 [81.27, 82.48, 78.75, 78.16, 80.31, 84.17, 78.57, 88.89]\n",
            "38 [85.43, 75.35, 90.52, 84.72, 79.41, 71.98, 77.42, 100.0]\n",
            "39 [85.86, 81.75, 84.19, 78.84, 72.46, 72.28, 64.29, 78.57]\n",
            "40 [86.89, 82.93, 67.38, 63.16, 69.58, 60.11, 57.89, 78.95]\n",
            "41 [81.59, 94.99, 83.73, 94.38, 61.46, 87.11, 80.77, 100.0]\n",
            "42 [83.59, 83.16, 86.57, 87.92, 69.51, 75.65, 76.19, 53.33]\n",
            "43 [91.45, 91.07, 84.4, 81.37, 49.44, 46.17, 63.64, 31.58]\n",
            "44 [87.61, 84.62, 81.69, 84.0, 62.07, 64.65, 68.42, 52.63]\n",
            "45 [84.63, 78.6, 80.26, 72.82, 79.88, 76.05, 45.45, 63.64]\n",
            "46 [83.66, 76.87, 85.05, 86.61, 82.2, 77.04, 95.65, 93.83]\n",
            "47 [84.27, 75.47, 76.07, 60.2, 85.9, 75.76, 68.75, 34.21]\n",
            "48 [88.08, 86.54, 80.7, 80.43, 70.47, 68.36, 72.0, 96.3]\n",
            "49 [85.99, 80.2, 82.94, 79.87, 63.69, 56.43, 100.0, 0.0]\n",
            "50 [84.64, 82.29, 80.12, 76.27, 71.6, 71.16, 75.0, 66.67]\n",
            "51 [86.98, 81.78, 81.38, 80.0, 71.47, 57.29, 74.0, 52.31]\n",
            "52 [86.34, 81.16, 92.26, 89.39, 72.92, 59.05, 50.0, 33.33]\n",
            "53 [86.47, 80.89, 86.1, 78.86, 63.6, 61.34, 50.0, 100.0]\n",
            "54 [85.36, 81.25, 78.5, 77.33, 69.64, 66.93, 50.0, 100.0]\n",
            "55 [83.77, 81.64, 86.43, 82.05, 73.95, 69.72, 75.0, 100.0]\n",
            "56 [86.44, 83.76, 83.05, 77.89, 64.47, 53.82, 50.0, 33.33]\n",
            "57 [91.44, 80.13, 97.02, 95.62, 69.9, 48.74, 57.89, 40.0]\n",
            "58 [90.58, 82.83, 87.02, 91.07, 66.61, 51.03, 90.91, 44.44]\n",
            "59 [86.9, 81.27, 75.57, 77.78, 66.84, 59.64, 75.0, 53.85]\n",
            "60 [87.6, 80.44, 91.5, 91.04, 59.66, 58.39, 60.0, 30.0]\n",
            "61 [89.46, 79.99, 98.86, 97.0, 36.02, 15.7, 33.33, 16.67]\n",
            "62 [85.32, 80.69, 82.64, 76.29, 68.1, 66.89, 80.0, 25.0]\n",
            "63 [85.43, 78.31, 54.84, 44.07, 79.45, 70.21, 66.67, 87.5]\n",
            "64 [84.62, 83.84, 57.19, 52.21, 57.48, 49.51, 87.5, 100.0]\n",
            "65 [83.48, 85.73, 78.22, 82.43, 59.26, 73.25, 80.0, 100.0]\n",
            "66 [84.81, 81.16, 77.78, 85.71, 65.39, 58.47, 75.0, 83.33]\n",
            "67 [85.46, 78.81, 84.95, 75.78, 79.79, 66.4, 68.57, 43.18]\n",
            "68 [83.73, 80.16, 81.12, 69.89, 79.88, 73.77, 58.82, 66.67]\n",
            "69 [84.35, 81.14, 87.82, 83.52, 75.17, 59.03, 75.0, 25.0]\n",
            "70 [87.59, 80.6, 83.53, 85.88, 52.8, 42.5, 50.0, 80.0]\n",
            "71 [82.65, 82.7, 80.51, 75.34, 72.81, 81.93, 100.0, 71.43]\n",
            "72 [84.39, 78.89, 88.86, 88.24, 74.88, 68.1, 75.0, 100.0]\n",
            "73 [84.17, 81.49, 73.16, 70.65, 65.99, 72.14, 75.0, 50.0]\n",
            "74 [86.45, 78.64, 76.1, 64.37, 68.66, 52.35, 50.0, 50.0]\n",
            "75 [85.52, 81.7, 79.2, 70.54, 63.39, 59.47, 71.43, 60.0]\n",
            "76 [83.03, 81.72, 83.07, 73.61, 76.21, 76.69, 88.89, 66.67]\n",
            "77 [84.12, 82.16, 76.54, 78.89, 71.57, 68.02, 62.5, 100.0]\n",
            "78 [82.38, 83.4, 80.0, 83.18, 73.77, 74.88, 64.29, 66.67]\n",
            "79 [83.54, 81.12, 73.79, 69.91, 75.32, 76.63, 55.56, 81.82]\n",
            "80 [90.34, 80.39, 78.09, 75.0, 61.93, 34.53, 83.33, 50.0]\n",
            "81 [89.91, 80.39, 87.5, 82.56, 61.85, 34.12, 100.0, 50.0]\n",
            "82 [86.22, 78.78, 90.48, 88.89, 72.49, 60.38, 90.0, 80.0]\n",
            "83 [85.14, 80.85, 72.97, 73.96, 68.53, 73.71, 70.0, 66.67]\n",
            "84 [85.31, 80.68, 75.28, 80.9, 67.04, 68.87, 50.0, 71.43]\n",
            "85 [85.11, 81.46, 85.0, 68.75, 73.34, 66.86, 57.14, 75.0]\n",
            "86 [85.95, 81.87, 85.29, 80.9, 72.3, 55.84, 71.43, 100.0]\n",
            "87 [89.02, 77.3, 89.74, 87.65, 72.93, 50.15, 88.89, 50.0]\n",
            "88 [86.86, 78.91, 80.39, 80.0, 69.35, 56.97, 75.0, 57.14]\n",
            "89 [83.87, 84.25, 84.91, 75.0, 61.31, 62.31, 40.0, 16.67]\n",
            "90 [86.04, 81.64, 81.96, 75.56, 66.7, 63.74, 50.0, 0.0]\n",
            "91 [84.2, 83.62, 78.03, 72.82, 63.29, 61.06, 42.86, 83.33]\n",
            "92 [82.76, 79.44, 78.35, 81.13, 82.02, 80.11, 100.0, 83.33]\n",
            "93 [82.98, 83.82, 91.95, 94.3, 68.5, 61.79, 66.67, 66.67]\n",
            "94 [83.53, 82.41, 72.89, 65.52, 76.55, 73.33, 76.92, 60.0]\n",
            "95 [83.61, 76.84, 86.59, 78.75, 80.04, 77.92, 91.67, 66.67]\n",
            "96 [85.28, 81.99, 71.0, 70.37, 52.98, 54.44, 80.0, 57.14]\n",
            "97 [82.66, 86.12, 83.41, 92.75, 59.23, 70.61, 71.43, 100.0]\n",
            "98 [85.18, 85.34, 79.65, 76.92, 61.82, 63.44, 87.5, 83.33]\n",
            "99 [84.1, 81.15, 76.8, 78.95, 75.4, 72.05, 87.5, 16.67]\n"
          ]
        },
        {
          "output_type": "display_data",
          "data": {
            "text/plain": [
              "<Figure size 432x288 with 0 Axes>"
            ]
          },
          "metadata": {}
        },
        {
          "output_type": "display_data",
          "data": {
            "text/plain": [
              "<Figure size 432x288 with 0 Axes>"
            ]
          },
          "metadata": {}
        },
        {
          "output_type": "display_data",
          "data": {
            "text/plain": [
              "<Figure size 432x288 with 0 Axes>"
            ]
          },
          "metadata": {}
        },
        {
          "output_type": "display_data",
          "data": {
            "text/plain": [
              "<Figure size 432x288 with 0 Axes>"
            ]
          },
          "metadata": {}
        },
        {
          "output_type": "display_data",
          "data": {
            "text/plain": [
              "<Figure size 432x288 with 0 Axes>"
            ]
          },
          "metadata": {}
        },
        {
          "output_type": "display_data",
          "data": {
            "text/plain": [
              "<Figure size 432x288 with 0 Axes>"
            ]
          },
          "metadata": {}
        },
        {
          "output_type": "display_data",
          "data": {
            "text/plain": [
              "<Figure size 432x288 with 0 Axes>"
            ]
          },
          "metadata": {}
        },
        {
          "output_type": "display_data",
          "data": {
            "text/plain": [
              "<Figure size 432x288 with 0 Axes>"
            ]
          },
          "metadata": {}
        },
        {
          "output_type": "display_data",
          "data": {
            "text/plain": [
              "<Figure size 432x288 with 0 Axes>"
            ]
          },
          "metadata": {}
        },
        {
          "output_type": "display_data",
          "data": {
            "text/plain": [
              "<Figure size 432x288 with 0 Axes>"
            ]
          },
          "metadata": {}
        },
        {
          "output_type": "display_data",
          "data": {
            "text/plain": [
              "<Figure size 432x288 with 0 Axes>"
            ]
          },
          "metadata": {}
        },
        {
          "output_type": "display_data",
          "data": {
            "text/plain": [
              "<Figure size 432x288 with 0 Axes>"
            ]
          },
          "metadata": {}
        },
        {
          "output_type": "display_data",
          "data": {
            "text/plain": [
              "<Figure size 432x288 with 0 Axes>"
            ]
          },
          "metadata": {}
        },
        {
          "output_type": "display_data",
          "data": {
            "text/plain": [
              "<Figure size 432x288 with 0 Axes>"
            ]
          },
          "metadata": {}
        },
        {
          "output_type": "display_data",
          "data": {
            "text/plain": [
              "<Figure size 432x288 with 0 Axes>"
            ]
          },
          "metadata": {}
        },
        {
          "output_type": "display_data",
          "data": {
            "text/plain": [
              "<Figure size 432x288 with 0 Axes>"
            ]
          },
          "metadata": {}
        },
        {
          "output_type": "display_data",
          "data": {
            "text/plain": [
              "<Figure size 432x288 with 0 Axes>"
            ]
          },
          "metadata": {}
        },
        {
          "output_type": "display_data",
          "data": {
            "text/plain": [
              "<Figure size 432x288 with 0 Axes>"
            ]
          },
          "metadata": {}
        },
        {
          "output_type": "display_data",
          "data": {
            "text/plain": [
              "<Figure size 432x288 with 0 Axes>"
            ]
          },
          "metadata": {}
        },
        {
          "output_type": "display_data",
          "data": {
            "text/plain": [
              "<Figure size 432x288 with 0 Axes>"
            ]
          },
          "metadata": {}
        },
        {
          "output_type": "display_data",
          "data": {
            "text/plain": [
              "<Figure size 432x288 with 0 Axes>"
            ]
          },
          "metadata": {}
        },
        {
          "output_type": "display_data",
          "data": {
            "text/plain": [
              "<Figure size 432x288 with 0 Axes>"
            ]
          },
          "metadata": {}
        },
        {
          "output_type": "display_data",
          "data": {
            "text/plain": [
              "<Figure size 432x288 with 0 Axes>"
            ]
          },
          "metadata": {}
        },
        {
          "output_type": "display_data",
          "data": {
            "text/plain": [
              "<Figure size 432x288 with 0 Axes>"
            ]
          },
          "metadata": {}
        },
        {
          "output_type": "display_data",
          "data": {
            "text/plain": [
              "<Figure size 432x288 with 0 Axes>"
            ]
          },
          "metadata": {}
        },
        {
          "output_type": "display_data",
          "data": {
            "text/plain": [
              "<Figure size 432x288 with 0 Axes>"
            ]
          },
          "metadata": {}
        },
        {
          "output_type": "display_data",
          "data": {
            "text/plain": [
              "<Figure size 432x288 with 0 Axes>"
            ]
          },
          "metadata": {}
        },
        {
          "output_type": "display_data",
          "data": {
            "text/plain": [
              "<Figure size 432x288 with 0 Axes>"
            ]
          },
          "metadata": {}
        },
        {
          "output_type": "display_data",
          "data": {
            "text/plain": [
              "<Figure size 432x288 with 0 Axes>"
            ]
          },
          "metadata": {}
        },
        {
          "output_type": "display_data",
          "data": {
            "text/plain": [
              "<Figure size 432x288 with 0 Axes>"
            ]
          },
          "metadata": {}
        },
        {
          "output_type": "display_data",
          "data": {
            "text/plain": [
              "<Figure size 432x288 with 0 Axes>"
            ]
          },
          "metadata": {}
        },
        {
          "output_type": "display_data",
          "data": {
            "text/plain": [
              "<Figure size 432x288 with 0 Axes>"
            ]
          },
          "metadata": {}
        },
        {
          "output_type": "display_data",
          "data": {
            "text/plain": [
              "<Figure size 432x288 with 0 Axes>"
            ]
          },
          "metadata": {}
        },
        {
          "output_type": "display_data",
          "data": {
            "text/plain": [
              "<Figure size 432x288 with 0 Axes>"
            ]
          },
          "metadata": {}
        },
        {
          "output_type": "display_data",
          "data": {
            "text/plain": [
              "<Figure size 432x288 with 0 Axes>"
            ]
          },
          "metadata": {}
        },
        {
          "output_type": "display_data",
          "data": {
            "text/plain": [
              "<Figure size 432x288 with 0 Axes>"
            ]
          },
          "metadata": {}
        },
        {
          "output_type": "display_data",
          "data": {
            "text/plain": [
              "<Figure size 432x288 with 0 Axes>"
            ]
          },
          "metadata": {}
        },
        {
          "output_type": "display_data",
          "data": {
            "text/plain": [
              "<Figure size 432x288 with 0 Axes>"
            ]
          },
          "metadata": {}
        },
        {
          "output_type": "display_data",
          "data": {
            "text/plain": [
              "<Figure size 432x288 with 0 Axes>"
            ]
          },
          "metadata": {}
        },
        {
          "output_type": "display_data",
          "data": {
            "text/plain": [
              "<Figure size 432x288 with 0 Axes>"
            ]
          },
          "metadata": {}
        },
        {
          "output_type": "display_data",
          "data": {
            "text/plain": [
              "<Figure size 432x288 with 0 Axes>"
            ]
          },
          "metadata": {}
        },
        {
          "output_type": "display_data",
          "data": {
            "text/plain": [
              "<Figure size 432x288 with 0 Axes>"
            ]
          },
          "metadata": {}
        },
        {
          "output_type": "display_data",
          "data": {
            "text/plain": [
              "<Figure size 432x288 with 0 Axes>"
            ]
          },
          "metadata": {}
        },
        {
          "output_type": "display_data",
          "data": {
            "text/plain": [
              "<Figure size 432x288 with 0 Axes>"
            ]
          },
          "metadata": {}
        },
        {
          "output_type": "display_data",
          "data": {
            "text/plain": [
              "<Figure size 432x288 with 0 Axes>"
            ]
          },
          "metadata": {}
        },
        {
          "output_type": "display_data",
          "data": {
            "text/plain": [
              "<Figure size 432x288 with 0 Axes>"
            ]
          },
          "metadata": {}
        },
        {
          "output_type": "display_data",
          "data": {
            "text/plain": [
              "<Figure size 432x288 with 0 Axes>"
            ]
          },
          "metadata": {}
        },
        {
          "output_type": "display_data",
          "data": {
            "text/plain": [
              "<Figure size 432x288 with 0 Axes>"
            ]
          },
          "metadata": {}
        },
        {
          "output_type": "display_data",
          "data": {
            "text/plain": [
              "<Figure size 432x288 with 0 Axes>"
            ]
          },
          "metadata": {}
        },
        {
          "output_type": "display_data",
          "data": {
            "text/plain": [
              "<Figure size 432x288 with 0 Axes>"
            ]
          },
          "metadata": {}
        },
        {
          "output_type": "display_data",
          "data": {
            "text/plain": [
              "<Figure size 432x288 with 0 Axes>"
            ]
          },
          "metadata": {}
        },
        {
          "output_type": "display_data",
          "data": {
            "text/plain": [
              "<Figure size 432x288 with 0 Axes>"
            ]
          },
          "metadata": {}
        },
        {
          "output_type": "display_data",
          "data": {
            "text/plain": [
              "<Figure size 432x288 with 0 Axes>"
            ]
          },
          "metadata": {}
        },
        {
          "output_type": "display_data",
          "data": {
            "text/plain": [
              "<Figure size 432x288 with 0 Axes>"
            ]
          },
          "metadata": {}
        },
        {
          "output_type": "display_data",
          "data": {
            "text/plain": [
              "<Figure size 432x288 with 0 Axes>"
            ]
          },
          "metadata": {}
        },
        {
          "output_type": "display_data",
          "data": {
            "text/plain": [
              "<Figure size 432x288 with 0 Axes>"
            ]
          },
          "metadata": {}
        },
        {
          "output_type": "display_data",
          "data": {
            "text/plain": [
              "<Figure size 432x288 with 0 Axes>"
            ]
          },
          "metadata": {}
        },
        {
          "output_type": "display_data",
          "data": {
            "text/plain": [
              "<Figure size 432x288 with 0 Axes>"
            ]
          },
          "metadata": {}
        },
        {
          "output_type": "display_data",
          "data": {
            "text/plain": [
              "<Figure size 432x288 with 0 Axes>"
            ]
          },
          "metadata": {}
        },
        {
          "output_type": "display_data",
          "data": {
            "text/plain": [
              "<Figure size 432x288 with 0 Axes>"
            ]
          },
          "metadata": {}
        },
        {
          "output_type": "display_data",
          "data": {
            "text/plain": [
              "<Figure size 432x288 with 0 Axes>"
            ]
          },
          "metadata": {}
        },
        {
          "output_type": "display_data",
          "data": {
            "text/plain": [
              "<Figure size 432x288 with 0 Axes>"
            ]
          },
          "metadata": {}
        },
        {
          "output_type": "display_data",
          "data": {
            "text/plain": [
              "<Figure size 432x288 with 0 Axes>"
            ]
          },
          "metadata": {}
        },
        {
          "output_type": "display_data",
          "data": {
            "text/plain": [
              "<Figure size 432x288 with 0 Axes>"
            ]
          },
          "metadata": {}
        },
        {
          "output_type": "display_data",
          "data": {
            "text/plain": [
              "<Figure size 432x288 with 0 Axes>"
            ]
          },
          "metadata": {}
        },
        {
          "output_type": "display_data",
          "data": {
            "text/plain": [
              "<Figure size 432x288 with 0 Axes>"
            ]
          },
          "metadata": {}
        },
        {
          "output_type": "display_data",
          "data": {
            "text/plain": [
              "<Figure size 432x288 with 0 Axes>"
            ]
          },
          "metadata": {}
        },
        {
          "output_type": "display_data",
          "data": {
            "text/plain": [
              "<Figure size 432x288 with 0 Axes>"
            ]
          },
          "metadata": {}
        },
        {
          "output_type": "display_data",
          "data": {
            "text/plain": [
              "<Figure size 432x288 with 0 Axes>"
            ]
          },
          "metadata": {}
        },
        {
          "output_type": "display_data",
          "data": {
            "text/plain": [
              "<Figure size 432x288 with 0 Axes>"
            ]
          },
          "metadata": {}
        },
        {
          "output_type": "display_data",
          "data": {
            "text/plain": [
              "<Figure size 432x288 with 0 Axes>"
            ]
          },
          "metadata": {}
        },
        {
          "output_type": "display_data",
          "data": {
            "text/plain": [
              "<Figure size 432x288 with 0 Axes>"
            ]
          },
          "metadata": {}
        },
        {
          "output_type": "display_data",
          "data": {
            "text/plain": [
              "<Figure size 432x288 with 0 Axes>"
            ]
          },
          "metadata": {}
        },
        {
          "output_type": "display_data",
          "data": {
            "text/plain": [
              "<Figure size 432x288 with 0 Axes>"
            ]
          },
          "metadata": {}
        },
        {
          "output_type": "display_data",
          "data": {
            "text/plain": [
              "<Figure size 432x288 with 0 Axes>"
            ]
          },
          "metadata": {}
        },
        {
          "output_type": "display_data",
          "data": {
            "text/plain": [
              "<Figure size 432x288 with 0 Axes>"
            ]
          },
          "metadata": {}
        },
        {
          "output_type": "display_data",
          "data": {
            "text/plain": [
              "<Figure size 432x288 with 0 Axes>"
            ]
          },
          "metadata": {}
        },
        {
          "output_type": "display_data",
          "data": {
            "text/plain": [
              "<Figure size 432x288 with 0 Axes>"
            ]
          },
          "metadata": {}
        },
        {
          "output_type": "display_data",
          "data": {
            "text/plain": [
              "<Figure size 432x288 with 0 Axes>"
            ]
          },
          "metadata": {}
        },
        {
          "output_type": "display_data",
          "data": {
            "text/plain": [
              "<Figure size 432x288 with 0 Axes>"
            ]
          },
          "metadata": {}
        },
        {
          "output_type": "display_data",
          "data": {
            "text/plain": [
              "<Figure size 432x288 with 0 Axes>"
            ]
          },
          "metadata": {}
        },
        {
          "output_type": "display_data",
          "data": {
            "text/plain": [
              "<Figure size 432x288 with 0 Axes>"
            ]
          },
          "metadata": {}
        },
        {
          "output_type": "display_data",
          "data": {
            "text/plain": [
              "<Figure size 432x288 with 0 Axes>"
            ]
          },
          "metadata": {}
        },
        {
          "output_type": "display_data",
          "data": {
            "text/plain": [
              "<Figure size 432x288 with 0 Axes>"
            ]
          },
          "metadata": {}
        },
        {
          "output_type": "display_data",
          "data": {
            "text/plain": [
              "<Figure size 432x288 with 0 Axes>"
            ]
          },
          "metadata": {}
        },
        {
          "output_type": "display_data",
          "data": {
            "text/plain": [
              "<Figure size 432x288 with 0 Axes>"
            ]
          },
          "metadata": {}
        },
        {
          "output_type": "display_data",
          "data": {
            "text/plain": [
              "<Figure size 432x288 with 0 Axes>"
            ]
          },
          "metadata": {}
        },
        {
          "output_type": "display_data",
          "data": {
            "text/plain": [
              "<Figure size 432x288 with 0 Axes>"
            ]
          },
          "metadata": {}
        },
        {
          "output_type": "display_data",
          "data": {
            "text/plain": [
              "<Figure size 432x288 with 0 Axes>"
            ]
          },
          "metadata": {}
        },
        {
          "output_type": "display_data",
          "data": {
            "text/plain": [
              "<Figure size 432x288 with 0 Axes>"
            ]
          },
          "metadata": {}
        },
        {
          "output_type": "display_data",
          "data": {
            "text/plain": [
              "<Figure size 432x288 with 0 Axes>"
            ]
          },
          "metadata": {}
        },
        {
          "output_type": "display_data",
          "data": {
            "text/plain": [
              "<Figure size 432x288 with 0 Axes>"
            ]
          },
          "metadata": {}
        },
        {
          "output_type": "display_data",
          "data": {
            "text/plain": [
              "<Figure size 432x288 with 0 Axes>"
            ]
          },
          "metadata": {}
        },
        {
          "output_type": "display_data",
          "data": {
            "text/plain": [
              "<Figure size 432x288 with 0 Axes>"
            ]
          },
          "metadata": {}
        },
        {
          "output_type": "display_data",
          "data": {
            "text/plain": [
              "<Figure size 432x288 with 0 Axes>"
            ]
          },
          "metadata": {}
        },
        {
          "output_type": "display_data",
          "data": {
            "text/plain": [
              "<Figure size 432x288 with 0 Axes>"
            ]
          },
          "metadata": {}
        },
        {
          "output_type": "display_data",
          "data": {
            "text/plain": [
              "<Figure size 432x288 with 0 Axes>"
            ]
          },
          "metadata": {}
        },
        {
          "output_type": "display_data",
          "data": {
            "text/plain": [
              "<Figure size 432x288 with 0 Axes>"
            ]
          },
          "metadata": {}
        },
        {
          "output_type": "display_data",
          "data": {
            "text/plain": [
              "<Figure size 432x288 with 0 Axes>"
            ]
          },
          "metadata": {}
        },
        {
          "output_type": "display_data",
          "data": {
            "text/plain": [
              "<Figure size 432x288 with 0 Axes>"
            ]
          },
          "metadata": {}
        }
      ]
    },
    {
      "cell_type": "code",
      "source": [
        "[len(y_fractions[f][y_fractions[f]==1])/len(y_fractions[f]) for f in range(len(y_fractions))]"
      ],
      "metadata": {
        "colab": {
          "base_uri": "https://localhost:8080/"
        },
        "id": "1DRE1swyDBt8",
        "outputId": "5921e3ca-5d5d-459f-ac5b-1c7f234a2b83"
      },
      "execution_count": 39,
      "outputs": [
        {
          "output_type": "execute_result",
          "data": {
            "text/plain": [
              "[0.8170063016613471,\n",
              " 0.8170063016613471,\n",
              " 0.8170063016613471,\n",
              " 0.8170063016613471,\n",
              " 0.8170063016613471,\n",
              " 0.8170063016613471,\n",
              " 0.8170063016613471,\n",
              " 0.8170063016613471,\n",
              " 0.8170063016613471,\n",
              " 0.8170063016613471,\n",
              " 0.8170063016613471,\n",
              " 0.8170063016613471,\n",
              " 0.8170063016613471,\n",
              " 0.8170063016613471,\n",
              " 0.8170063016613471,\n",
              " 0.8170063016613471,\n",
              " 0.8170063016613471,\n",
              " 0.8170063016613471,\n",
              " 0.8170063016613471,\n",
              " 0.8170063016613471,\n",
              " 0.8170063016613471,\n",
              " 0.8170063016613471,\n",
              " 0.8170063016613471,\n",
              " 0.8170063016613471,\n",
              " 0.8170063016613471,\n",
              " 0.8170063016613471,\n",
              " 0.8170063016613471,\n",
              " 0.8170063016613471,\n",
              " 0.8170063016613471,\n",
              " 0.8170063016613471,\n",
              " 0.8170063016613471,\n",
              " 0.8170063016613471,\n",
              " 0.8170063016613471,\n",
              " 0.8170063016613471,\n",
              " 0.8170063016613471,\n",
              " 0.8170063016613471,\n",
              " 0.8170063016613471,\n",
              " 0.8170063016613471,\n",
              " 0.8170063016613471,\n",
              " 0.8170063016613471,\n",
              " 0.8170063016613471,\n",
              " 0.8170063016613471,\n",
              " 0.8170063016613471,\n",
              " 0.8170063016613471,\n",
              " 0.8170063016613471,\n",
              " 0.8170063016613471,\n",
              " 0.8170063016613471,\n",
              " 0.8170063016613471,\n",
              " 0.8170063016613471,\n",
              " 0.8170063016613471,\n",
              " 0.8170063016613471,\n",
              " 0.8170063016613471,\n",
              " 0.8170063016613471,\n",
              " 0.8170063016613471,\n",
              " 0.8170063016613471,\n",
              " 0.8170063016613471,\n",
              " 0.8170063016613471,\n",
              " 0.8170063016613471,\n",
              " 0.8170063016613471,\n",
              " 0.8170063016613471,\n",
              " 0.8170063016613471,\n",
              " 0.8170063016613471,\n",
              " 0.8170063016613471,\n",
              " 0.8170063016613471,\n",
              " 0.8170063016613471,\n",
              " 0.8170063016613471,\n",
              " 0.8170063016613471,\n",
              " 0.8170063016613471,\n",
              " 0.8170063016613471,\n",
              " 0.8170063016613471,\n",
              " 0.8170063016613471,\n",
              " 0.8170063016613471,\n",
              " 0.8170063016613471,\n",
              " 0.8170063016613471,\n",
              " 0.8170063016613471,\n",
              " 0.8170063016613471,\n",
              " 0.8170063016613471,\n",
              " 0.8170063016613471,\n",
              " 0.8170063016613471,\n",
              " 0.8170063016613471,\n",
              " 0.8170063016613471,\n",
              " 0.8170063016613471,\n",
              " 0.8170063016613471,\n",
              " 0.8170063016613471,\n",
              " 0.8170063016613471,\n",
              " 0.8170063016613471,\n",
              " 0.8170063016613471,\n",
              " 0.8170063016613471,\n",
              " 0.8170063016613471,\n",
              " 0.8170063016613471,\n",
              " 0.8170063016613471,\n",
              " 0.8170063016613471,\n",
              " 0.8170063016613471,\n",
              " 0.8170063016613471,\n",
              " 0.8170063016613471,\n",
              " 0.8170063016613471,\n",
              " 0.8170063016613471,\n",
              " 0.8170063016613471,\n",
              " 0.8170063016613471,\n",
              " 0.8170063016613471]"
            ]
          },
          "metadata": {},
          "execution_count": 39
        }
      ]
    },
    {
      "cell_type": "code",
      "source": [
        "percent_mat = []\n",
        "X_cummulative = X_fractions[0]\n",
        "y_cummulative = y_fractions[0]\n",
        "for x in range(len(X_fractions)-1):\n",
        "  i=x+1\n",
        "  X_cummulative = np.concatenate((X_cummulative, X_fractions[i]))\n",
        "  y_cummulative = np.concatenate((y_cummulative, model.predict(X_fractions[i])))\n",
        "  model.fit(X_cummulative,y_cummulative)\n",
        "\n",
        "  auxdf = create_df(X_cummulative,X.columns,y_cummulative,\"action_taken\")\n",
        "  if(i%10==0):\n",
        "    print(i,show_subgroups(auxdf,False,False)[4])\n",
        "\n"
      ],
      "metadata": {
        "id": "JYE4Gxnl0f_m",
        "outputId": "39bbc1f9-f8c4-4740-c752-1d85b9fb4c08",
        "colab": {
          "base_uri": "https://localhost:8080/",
          "height": 323
        }
      },
      "execution_count": 40,
      "outputs": [
        {
          "output_type": "stream",
          "name": "stdout",
          "text": [
            "10 [83.42, 80.59, 78.28, 73.04, 68.4, 65.91, 72.25, 64.97]\n",
            "20 [83.36, 80.75, 80.19, 75.89, 71.72, 68.74, 72.05, 67.54]\n",
            "30 [82.73, 79.14, 81.09, 76.45, 70.95, 66.8, 75.34, 69.88]\n",
            "40 [82.31, 79.19, 82.13, 78.45, 71.48, 67.96, 75.64, 71.89]\n",
            "50 [82.16, 79.19, 81.63, 78.31, 71.17, 68.04, 75.72, 70.99]\n",
            "60 [82.22, 78.79, 81.9, 78.86, 70.06, 65.72, 74.34, 67.59]\n",
            "70 [82.42, 78.92, 81.66, 78.6, 69.94, 65.11, 73.96, 66.5]\n",
            "80 [82.41, 78.98, 81.26, 78.15, 69.98, 65.11, 73.87, 66.69]\n",
            "90 [82.31, 78.52, 81.12, 77.99, 69.62, 64.15, 73.3, 66.33]\n"
          ]
        },
        {
          "output_type": "display_data",
          "data": {
            "text/plain": [
              "<Figure size 432x288 with 0 Axes>"
            ]
          },
          "metadata": {}
        },
        {
          "output_type": "display_data",
          "data": {
            "text/plain": [
              "<Figure size 432x288 with 0 Axes>"
            ]
          },
          "metadata": {}
        },
        {
          "output_type": "display_data",
          "data": {
            "text/plain": [
              "<Figure size 432x288 with 0 Axes>"
            ]
          },
          "metadata": {}
        },
        {
          "output_type": "display_data",
          "data": {
            "text/plain": [
              "<Figure size 432x288 with 0 Axes>"
            ]
          },
          "metadata": {}
        },
        {
          "output_type": "display_data",
          "data": {
            "text/plain": [
              "<Figure size 432x288 with 0 Axes>"
            ]
          },
          "metadata": {}
        },
        {
          "output_type": "display_data",
          "data": {
            "text/plain": [
              "<Figure size 432x288 with 0 Axes>"
            ]
          },
          "metadata": {}
        },
        {
          "output_type": "display_data",
          "data": {
            "text/plain": [
              "<Figure size 432x288 with 0 Axes>"
            ]
          },
          "metadata": {}
        },
        {
          "output_type": "display_data",
          "data": {
            "text/plain": [
              "<Figure size 432x288 with 0 Axes>"
            ]
          },
          "metadata": {}
        },
        {
          "output_type": "display_data",
          "data": {
            "text/plain": [
              "<Figure size 432x288 with 0 Axes>"
            ]
          },
          "metadata": {}
        }
      ]
    },
    {
      "cell_type": "code",
      "source": [
        "#print([round(subgroups[2][s] / len(subgroups[0][s]),3) for s in range(len(subgroups[0]))]) #print(subgroups[4]) #the same\n",
        "cummulative_subgroups = show_subgroups(auxdf,False,False)\n",
        "yes_contribution = [round(s / sum(cummulative_subgroups[2]),3) for s in cummulative_subgroups[2]]\n",
        "instance_contribution = [round(len(s) / len(auxdf),3) for s in cummulative_subgroups[0]]\n",
        "print(\"contribution to total approvals:\",yes_contribution)\n",
        "print(\"contribution to total amount   :\",instance_contribution)\n",
        "plot_contribution = pd.DataFrame({'Yes_contribution': yes_contribution,\n",
        "                   'Instance_contribution': instance_contribution}, index=cummulative_subgroups[1])\n",
        "ax = plot_contribution.plot.bar(rot=0)"
      ],
      "metadata": {
        "colab": {
          "base_uri": "https://localhost:8080/",
          "height": 318
        },
        "id": "DErwPJnDxr7z",
        "outputId": "6d2120b4-6188-493f-db14-a60e0974dfea"
      },
      "execution_count": 44,
      "outputs": [
        {
          "output_type": "stream",
          "name": "stdout",
          "text": [
            "contribution to total approvals: [0.579, 0.24, 0.024, 0.011, 0.077, 0.067, 0.001, 0.001]\n",
            "contribution to total amount   : [0.555, 0.24, 0.023, 0.011, 0.087, 0.081, 0.001, 0.001]\n"
          ]
        },
        {
          "output_type": "display_data",
          "data": {
            "text/plain": [
              "<Figure size 432x288 with 0 Axes>"
            ]
          },
          "metadata": {}
        },
        {
          "output_type": "display_data",
          "data": {
            "text/plain": [
              "<Figure size 432x288 with 1 Axes>"
            ],
            "image/png": "[encoded data removed]"
          },
          "metadata": {
            "needs_background": "light"
          }
        }
      ]
    },
    {
      "cell_type": "code",
      "source": [
        "originaldf = create_df(X[0:len(auxdf)],X.columns,y[0:len(auxdf)],\"action_taken\");\n",
        "(len(y_cummulative),len(auxdf),len(originaldf))\n",
        "misslabeled = pd.DataFrame(columns=X.columns)\n",
        "counter=0\n",
        "for i in range(len(auxdf)):\n",
        "  if(auxdf.iloc[i][\"action_taken\"]!=originaldf.iloc[i][\"action_taken\"]):\n",
        "    counter+=1\n",
        "    misslabeled = misslabeled.append(auxdf.iloc[i])\n",
        "  if (i%10000==0):\n",
        "    print(i,counter,len(misslabeled),counter/len(auxdf))"
      ],
      "metadata": {
        "id": "Us0ucnbPtt4q"
      },
      "execution_count": null,
      "outputs": []
    },
    {
      "cell_type": "code",
      "source": [
        "miss_subgroups = show_subgroups(misslabeled,True,True)\n",
        "print(miss_subgroups[4])\n",
        "print([len(item) for item in miss_subgroups[0]])\n",
        "print([round(len(item)/len(item2),4) for item,item2 in zip(miss_subgroups[0],subgroups[0])])"
      ],
      "metadata": {
        "colab": {
          "base_uri": "https://localhost:8080/",
          "height": 388
        },
        "id": "yS6DLoE3zKX7",
        "outputId": "5df01212-88ca-4e1b-9f1e-e52719da22e2"
      },
      "execution_count": 54,
      "outputs": [
        {
          "output_type": "display_data",
          "data": {
            "text/plain": [
              "<Figure size 432x288 with 2 Axes>"
            ],
            "image/png": "[encoded data removed]"
          },
          "metadata": {
            "needs_background": "light"
          }
        },
        {
          "output_type": "stream",
          "name": "stdout",
          "text": [
            "[9.45, 9.53, 17.27, 19.18, 24.8, 21.19, 20.0, 41.03]\n",
            "[36707, 15822, 1436, 636, 4654, 3969, 35, 39]\n",
            "[0.0541, 0.0538, 0.0503, 0.0484, 0.0437, 0.04, 0.0242, 0.0288]\n"
          ]
        }
      ]
    },
    {
      "cell_type": "code",
      "source": [
        "model = LogisticRegression(solver=\"liblinear\")\n",
        "first_part_scores_dict = cross_validate(model,X_fractions[90],y_fractions[90],cv=5, return_estimator=True)\n",
        "model = first_part_scores_dict[\"estimator\"][0] \n",
        "original_pred = create_df(X,X.columns,model.predict(X),\"action_taken\")\n",
        "original_pred_subgroups = show_subgroups(original_pred,True,True)\n",
        "print(original_pred_subgroups[4])\n",
        "print([len(item) for item in original_pred_subgroups[0]])\n",
        "print([round(len(item)/len(item2),4) for item,item2 in zip(original_pred_subgroups[0],subgroups[0])])"
      ],
      "metadata": {
        "colab": {
          "base_uri": "https://localhost:8080/",
          "height": 422
        },
        "id": "LXT35zxG7bCC",
        "outputId": "b164a250-ee9d-4c35-ba45-173da4b13df0"
      },
      "execution_count": 58,
      "outputs": [
        {
          "output_type": "stream",
          "name": "stderr",
          "text": [
            "/usr/local/lib/python3.7/dist-packages/sklearn/base.py:444: UserWarning: X has feature names, but LogisticRegression was fitted without feature names\n",
            "  f\"X has feature names, but {self.__class__.__name__} was fitted without\"\n"
          ]
        },
        {
          "output_type": "display_data",
          "data": {
            "text/plain": [
              "<Figure size 432x288 with 2 Axes>"
            ],
            "image/png": "[encoded data removed]"
          },
          "metadata": {
            "needs_background": "light"
          }
        },
        {
          "output_type": "stream",
          "name": "stdout",
          "text": [
            "[16.2, 21.54, 13.19, 15.75, 19.33, 24.81, 13.27, 18.08]\n",
            "[678024, 293856, 28537, 13131, 106438, 99173, 1447, 1355]\n",
            "[1.0, 1.0, 1.0, 1.0, 1.0, 1.0, 1.0, 1.0]\n"
          ]
        }
      ]
    },
    {
      "cell_type": "code",
      "source": [
        "subgroups[4] #fatal, les etiquetes reals son mes esbiaixades que les predicted finals..."
      ],
      "metadata": {
        "id": "WKPvFgR9uBmz",
        "outputId": "3075d0ec-d9ec-4352-e07e-23a435a76823",
        "colab": {
          "base_uri": "https://localhost:8080/"
        }
      },
      "execution_count": null,
      "outputs": [
        {
          "output_type": "execute_result",
          "data": {
            "text/plain": [
              "[85.55, 81.93, 82.84, 79.94, 71.03, 66.35, 74.71, 67.31]"
            ]
          },
          "metadata": {},
          "execution_count": 43
        }
      ]
    },
    {
      "cell_type": "code",
      "source": [
        "\"\"\"\n",
        "10 [84.51, 81.81, 79.41, 73.13, 68.18, 65.54, 79.52, 54.41]\n",
        "20 [82.94, 80.03, 77.15, 70.95, 66.9, 64.76, 73.01, 60.28]\n",
        "30 [81.95, 78.98, 75.96, 71.21, 67.34, 64.76, 69.11, 60.74]\n",
        "40 [81.36, 79.04, 77.45, 73.04, 68.72, 67.08, 69.18, 63.5]\n",
        "50 [79.78, 75.68, 77.53, 71.57, 66.13, 62.07, 68.43, 61.71]\n",
        "60 [79.83, 76.3, 78.12, 72.9, 66.17, 62.5, 69.57, 63.9]\n",
        "70 [80.48, 77.38, 80.48, 76.82, 67.76, 64.74, 71.43, 66.1]\n",
        "80 [81.11, 78.19, 80.96, 77.42, 69.64, 66.74, 73.26, 69.35]\n",
        "90 [80.2, 77.41, 79.77, 76.32, 67.41, 65.23, 70.57, 66.71]\n",
        "\"\"\"\n",
        "print(model.score(scaler.fit_transform(X),y))\n",
        "#print(model.score(X_cummulative,y_cummulative))"
      ],
      "metadata": {
        "id": "Yimq6gIi7aGc",
        "outputId": "a74a70f8-0ddb-4738-843a-c7ef59fa4c6b",
        "colab": {
          "base_uri": "https://localhost:8080/"
        }
      },
      "execution_count": null,
      "outputs": [
        {
          "output_type": "stream",
          "name": "stdout",
          "text": [
            "0.9379030918335364\n"
          ]
        }
      ]
    },
    {
      "cell_type": "code",
      "execution_count": null,
      "metadata": {
        "id": "tOvA3aimag7j"
      },
      "outputs": [],
      "source": [
        "# Import train_test_split\n",
        "from sklearn.model_selection import train_test_split\n",
        "# Split into train and test sets\n",
        "X_train, X_test, y_train, y_test = train_test_split(X,\n",
        "                                y,\n",
        "                                test_size=0.3,\n",
        "                                random_state=2)\n",
        "\n",
        "X_test1, X_test2, y_test1, y_test2 = train_test_split(X_test,\n",
        "                                y_test,\n",
        "                                test_size=0.33,\n",
        "                                random_state=2)"
      ]
    },
    {
      "cell_type": "code",
      "execution_count": null,
      "metadata": {
        "id": "y7CWMPCzcjD1"
      },
      "outputs": [],
      "source": [
        "# Instantiate MinMaxScaler and use it to rescale X_train and X_test\n",
        "scaler = MinMaxScaler(feature_range=(0, 1))\n",
        "rescaledX = scaler.fit_transform(X)\n",
        "rescaledX_train = scaler.fit_transform(X_train)\n",
        "rescaledX_test = scaler.fit_transform(X_test)\n",
        "rescaledX_test1 = scaler.fit_transform(X_test1)\n",
        "rescaledX_test2 = scaler.fit_transform(X_test2)"
      ]
    },
    {
      "cell_type": "code",
      "source": [
        "\n",
        "# Instantiate a LogisticRegression classifier with default parameter values\n",
        "logreg = LogisticRegression(solver=\"liblinear\")\n",
        "\n",
        "scores_dict = cross_validate(logreg,rescaledX_train,y_train,cv=5, return_estimator=True)\n",
        "best = scores_dict[\"estimator\"][0] \n",
        "# Fit logreg to the train set\n",
        "#logreg.fit(X_train, y_train)\n",
        "\n",
        "#y_pred = logreg.predict(X_test)\n",
        "#from collections import Counter\n",
        "#counterpred = Counter(y_pred)\n",
        "#countertest = Counter(y_test)\n",
        "#print(counterpred, countertest)\n",
        "#print(\"Accuracy of logistic regression classifier: \", logreg.score(X_test, y_test))"
      ],
      "metadata": {
        "id": "MRJCEA-HLdc-"
      },
      "execution_count": null,
      "outputs": []
    },
    {
      "cell_type": "code",
      "execution_count": null,
      "metadata": {
        "id": "fuE_J5U_cjF9",
        "outputId": "b0945c41-74a9-4050-e54a-e72daa26b15b",
        "colab": {
          "base_uri": "https://localhost:8080/"
        }
      },
      "outputs": [
        {
          "output_type": "stream",
          "name": "stdout",
          "text": [
            "Counter({1: 198709, 0: 46905}) Counter({1: 200515, 0: 45099}) Counter({1: 998322, 0: 223639})\n",
            "Accuracy of logistic regression classifier:  0.9773954253422036\n",
            "Counter({1: 98016, 0: 22959}) Counter({1: 98849, 0: 22126}) Counter({1: 998322, 0: 223639})\n",
            "Accuracy of logistic regression classifier:  0.9772928290969208\n",
            "Accuracy of logistic regression classifier:  0.8218179745454249\n",
            "Accuracy of logistic regression classifier:  0.8222938623682579\n"
          ]
        }
      ],
      "source": [
        "# Import LogisticRegression\n",
        "from sklearn.linear_model import LogisticRegression\n",
        "\n",
        "logregRescaled = LogisticRegression(solver=\"liblinear\")\n",
        "logregRescaled.fit(rescaledX_train, y_train)\n",
        "\n",
        "logreg = LogisticRegression(solver=\"liblinear\")\n",
        "logreg.fit(X_train, y_train)\n",
        "\n",
        "y_pred = logregRescaled.predict(rescaledX_test1)\n",
        "from collections import Counter\n",
        "counterpred = Counter(y_pred)\n",
        "countertest = Counter(y_test1)\n",
        "counterall = Counter(y)\n",
        "print(counterpred, countertest, counterall)\n",
        "print(\"Accuracy of logistic regression classifier: \", logregRescaled.score(rescaledX_test1, y_test1))\n",
        "\n",
        "\n",
        "y_pred = logregRescaled.predict(rescaledX_test2)\n",
        "from collections import Counter\n",
        "counterpred = Counter(y_pred)\n",
        "countertest = Counter(y_test2)\n",
        "counterall = Counter(y)\n",
        "print(counterpred, countertest, counterall)\n",
        "print(\"Accuracy of logistic regression classifier: \", logregRescaled.score(rescaledX_test2, y_test2))\n",
        "\n",
        "print(\"Accuracy of logistic regression classifier: \", logreg.score(X_test1, y_test1))\n",
        "print(\"Accuracy of logistic regression classifier: \", logreg.score(X_test2, y_test2))\n",
        "\n"
      ]
    },
    {
      "cell_type": "code",
      "source": [
        "\n",
        "y_pred = best.predict(rescaledX_test1)\n",
        "from collections import Counter\n",
        "counterpred = Counter(y_pred)\n",
        "countertest = Counter(y_test1)\n",
        "counterall = Counter(y)\n",
        "print(counterpred, countertest, counterall)\n",
        "print(\"Accuracy of logistic regression classifier: \", best.score(rescaledX_test1, y_test1))\n",
        "\n",
        "\n",
        "y_pred = best.predict(rescaledX_test2)\n",
        "from collections import Counter\n",
        "counterpred = Counter(y_pred)\n",
        "countertest = Counter(y_test2)\n",
        "counterall = Counter(y)\n",
        "print(counterpred, countertest, counterall)\n",
        "print(\"Accuracy of logistic regression classifier: \", best.score(rescaledX_test2, y_test2))"
      ],
      "metadata": {
        "id": "b5Cx-lyls6et",
        "outputId": "09cf7dd2-6955-44a8-811a-46ac5850124a",
        "colab": {
          "base_uri": "https://localhost:8080/"
        }
      },
      "execution_count": null,
      "outputs": [
        {
          "output_type": "stream",
          "name": "stdout",
          "text": [
            "Counter({1: 198726, 0: 46888}) Counter({1: 200515, 0: 45099}) Counter({1: 998322, 0: 223639})\n",
            "Accuracy of logistic regression classifier:  0.9774483539211934\n",
            "Counter({1: 98022, 0: 22953}) Counter({1: 98849, 0: 22126}) Counter({1: 998322, 0: 223639})\n",
            "Accuracy of logistic regression classifier:  0.9773093614383137\n"
          ]
        }
      ]
    },
    {
      "cell_type": "code",
      "source": [
        "y_pred_NO = best.predict(rescaledX_test[y_test==0])\n",
        "counterpred_NO = Counter(y_pred_NO)\n",
        "print(counterpred_NO)\n",
        "print(\"Accuracy: \", best.score(rescaledX_test[y_test==0], y_test[y_test==0]))"
      ],
      "metadata": {
        "id": "rRN5Xl00cRLv",
        "outputId": "1f8bd93e-c1b2-4a36-9188-e36ca8d476ba",
        "colab": {
          "base_uri": "https://localhost:8080/"
        }
      },
      "execution_count": null,
      "outputs": [
        {
          "output_type": "stream",
          "name": "stdout",
          "text": [
            "Counter({0: 64391, 1: 2834})\n",
            "Accuracy:  0.9578430643361845\n"
          ]
        }
      ]
    },
    {
      "cell_type": "code",
      "execution_count": null,
      "metadata": {
        "id": "q_gISvk7hqzK",
        "outputId": "cf192108-3a79-40ae-b265-0186001791f6",
        "colab": {
          "base_uri": "https://localhost:8080/"
        }
      },
      "outputs": [
        {
          "output_type": "stream",
          "name": "stdout",
          "text": [
            "Counter({1: 299033, 0: 67556}) Counter({1: 299394, 0: 67195}) Counter({1: 299364, 0: 67225}) Counter({1: 998322, 0: 223639})\n",
            "Accuracy of DecisionTreeClassifier:  0.9966856615992297\n",
            "Accuracy of DecisionTreeClassifier:  0.9985542392161249\n"
          ]
        }
      ],
      "source": [
        "# Import LogisticRegression\n",
        "from sklearn.tree import DecisionTreeClassifier\n",
        "\n",
        "# Instantiate a LogisticRegression classifier with default parameter values\n",
        "dtcRescaled = DecisionTreeClassifier()\n",
        "dtc = DecisionTreeClassifier()\n",
        "\n",
        "# Fit logreg to the train set\n",
        "dtcRescaled.fit(rescaledX_train, y_train)\n",
        "dtc.fit(X_train, y_train)\n",
        "\n",
        "y_predRescaled = dtcRescaled.predict(rescaledX_test)\n",
        "y_pred = dtc.predict(X_test)\n",
        "\n",
        "counterpredRescaled = Counter(y_predRescaled)\n",
        "counterpred = Counter(y_pred)\n",
        "countertest = Counter(y_test)\n",
        "counterall = Counter(y)\n",
        "print(counterpredRescaled,counterpred, countertest, counterall)\n",
        "\n",
        "print(\"Accuracy of DecisionTreeClassifier: \", dtcRescaled.score(rescaledX_test, y_test))\n",
        "print(\"Accuracy of DecisionTreeClassifier: \", dtc.score(X_test, y_test))"
      ]
    },
    {
      "cell_type": "code",
      "source": [
        "y_pred_NO = dtc.predict(X_test.loc[y_test==0])\n",
        "counterpred_NO = Counter(y_pred_NO)\n",
        "print(counterpred_NO)"
      ],
      "metadata": {
        "id": "2KIsL4s6dYCm",
        "outputId": "7c95ff6c-7ee4-4257-9343-ea2495899a7f",
        "colab": {
          "base_uri": "https://localhost:8080/"
        }
      },
      "execution_count": null,
      "outputs": [
        {
          "output_type": "stream",
          "name": "stdout",
          "text": [
            "Counter({0: 66945, 1: 280})\n"
          ]
        }
      ]
    },
    {
      "cell_type": "code",
      "execution_count": null,
      "metadata": {
        "id": "O32dGoYAnAx3"
      },
      "outputs": [],
      "source": [
        "#from lightgbm import LGBMClassifier\n",
        "#from sklearn.metrics import roc_curve, auc  #Metrics\n",
        "#https://www.kaggle.com/code/ambarish/machine-learning-explainability-omnibus/notebook#Modelling\n",
        "#logreg = LGBMClassifier(random_state=1).fit(rescaledX_train, y_train)\n",
        "#y_pred = logreg.predict_proba(X_test)\n",
        "#print(y_pred)\n",
        "#fpr, tpr, thresholds = roc_curve(y_test, y_pred[:,1])\n",
        "#auc(fpr, tpr)\n"
      ]
    },
    {
      "cell_type": "code",
      "execution_count": null,
      "metadata": {
        "id": "Z1hh0UwCcmPV"
      },
      "outputs": [],
      "source": [
        "dicPeople = {}\n",
        "#beta a actualitzar\n",
        "beta_params = {'a': 3.107176300758434, 'b': 16.54733270043585, 'loc': -28571.959896180033, 'scale': 1537159.8560307096}\n",
        "#beta_params = {'a': 1.6482043459921234, 'b': 17.37597209939366, 'loc': -2.847383506741794, 'scale': 2025.6530553459547}\n",
        "\n",
        "for i in range(len(X_test)):\n",
        "  loan = round(1000 * beta.rvs(beta_params['a'],beta_params[\"b\"],beta_params[\"loc\"],beta_params[\"scale\"]))\n",
        "  #loan = subsample.iloc[i][\"loan_amount\"]*1000 #TODO:FATAL, els loans no concorden amb els individus a X_test en absolut\n",
        "  if (loan<=0.0):\n",
        "    loan=10000\n",
        "  p = Person(i,loan)\n",
        "  dicPeople[i] = p\n",
        "#print(len(dicPeople.keys()))\n",
        "#print([(item.id,item.petition) for item in dicPeople.values() if item.happiness<50])"
      ]
    },
    {
      "cell_type": "code",
      "execution_count": null,
      "metadata": {
        "id": "uxzuG2OBj1Vf",
        "outputId": "a80286da-4f52-4558-84e6-cea3b789732d",
        "colab": {
          "base_uri": "https://localhost:8080/"
        }
      },
      "outputs": [
        {
          "output_type": "stream",
          "name": "stdout",
          "text": [
            "[0 1]\n"
          ]
        }
      ],
      "source": [
        "print(np.unique(y_pred))"
      ]
    },
    {
      "cell_type": "code",
      "execution_count": null,
      "metadata": {
        "id": "4nO6JV03h8oY"
      },
      "outputs": [],
      "source": [
        "for i in range(len(y_pred)):\n",
        "  if(y_pred[i]==1):\n",
        "    dicPeople[i].balance = dicPeople[i].petition\n",
        "  dicPeople[i].updateH()\n",
        "  dicPeople[i].status = y_pred[i]\n",
        "\n",
        "#print([(item.id,item.petition,item.happiness,item.status) for item in dicPeople.values() if item.happiness<50])"
      ]
    },
    {
      "cell_type": "code",
      "execution_count": null,
      "metadata": {
        "id": "b96QIH2RlozH",
        "outputId": "58d3f2a5-a5e0-4647-d59a-aab11746f470",
        "colab": {
          "base_uri": "https://localhost:8080/",
          "height": 282
        }
      },
      "outputs": [
        {
          "output_type": "stream",
          "name": "stdout",
          "text": [
            "[29866203.696074534]\n"
          ]
        },
        {
          "output_type": "display_data",
          "data": {
            "text/plain": [
              "<Figure size 432x288 with 1 Axes>"
            ],
            "image/png": "[encoded data removed]"
          },
          "metadata": {
            "needs_background": "light"
          }
        }
      ],
      "source": [
        "h_arr = [(item.happiness) for item in dicPeople.values()]\n",
        "plt.hist(h_arr)\n",
        "print([sum(item.happiness for item in dicPeople.values())])"
      ]
    },
    {
      "cell_type": "code",
      "execution_count": null,
      "metadata": {
        "id": "NJBhJRgOflkK"
      },
      "outputs": [],
      "source": [
        "#print(X.columns, X.iloc[0])\n",
        "#categorical_col=[\"hoepa_status\", \"loan_type\", \"as_of_year\", \"applicant_ethnicity\", \"county_code\", \"state_code\", \"lien_status\", \"loan_purpose\", \"co_applicant_race_1\", \"co_applicant_ethnicity\", \"property_type\", \"owner_occupancy\", \"applicant_sex\", \"preapproval\", \"agency_code\", \"applicant_race_1\", \"co_applicant_sex\"]\n",
        "noncategorical_col = [\"loan_amount\",\"tract_minority_population_percent\",\"tract_median_age_of_housing_units\",\n",
        "                      \"derived_msa-md\",\"income\",\"tract_population\",\"tract_one_to_four_family_homes\",\n",
        "                      \"tract_owner_occupied_units\",\"ffiec_msa_md_median_family_income\",\"tract_to_msa_income_percentage\"]\n",
        "categorical_col=list(set(X.columns).difference(set(noncategorical_col)))\n",
        "categorial_ind = []\n",
        "for c in categorical_col:\n",
        "  categorial_ind.append(list(X.columns).index(c))"
      ]
    },
    {
      "cell_type": "code",
      "execution_count": null,
      "metadata": {
        "id": "3PcqhLPWWLNw",
        "outputId": "64d87602-fbd4-443e-f942-da29853dd5b4",
        "colab": {
          "base_uri": "https://localhost:8080/",
          "height": 340
        }
      },
      "outputs": [
        {
          "output_type": "error",
          "ename": "KeyboardInterrupt",
          "evalue": "ignored",
          "traceback": [
            "\u001b[0;31m---------------------------------------------------------------------------\u001b[0m",
            "\u001b[0;31mKeyboardInterrupt\u001b[0m                         Traceback (most recent call last)",
            "\u001b[0;32m<ipython-input-42-82c7a00076f0>\u001b[0m in \u001b[0;36m<module>\u001b[0;34m()\u001b[0m\n\u001b[1;32m      4\u001b[0m \u001b[0;31m#oversample = SMOTE()\u001b[0m\u001b[0;34m\u001b[0m\u001b[0;34m\u001b[0m\u001b[0;34m\u001b[0m\u001b[0m\n\u001b[1;32m      5\u001b[0m \u001b[0moversample\u001b[0m \u001b[0;34m=\u001b[0m \u001b[0mSMOTENC\u001b[0m\u001b[0;34m(\u001b[0m\u001b[0mcategorical_features\u001b[0m\u001b[0;34m=\u001b[0m\u001b[0mcategorial_ind\u001b[0m\u001b[0;34m)\u001b[0m\u001b[0;34m\u001b[0m\u001b[0;34m\u001b[0m\u001b[0m\n\u001b[0;32m----> 6\u001b[0;31m \u001b[0mXsmote\u001b[0m\u001b[0;34m,\u001b[0m \u001b[0mysmote\u001b[0m \u001b[0;34m=\u001b[0m \u001b[0moversample\u001b[0m\u001b[0;34m.\u001b[0m\u001b[0mfit_resample\u001b[0m\u001b[0;34m(\u001b[0m\u001b[0mrescaledX_test2\u001b[0m\u001b[0;34m,\u001b[0m \u001b[0my_test2\u001b[0m\u001b[0;34m)\u001b[0m\u001b[0;34m\u001b[0m\u001b[0;34m\u001b[0m\u001b[0m\n\u001b[0m",
            "\u001b[0;32m/usr/local/lib/python3.7/dist-packages/imblearn/base.py\u001b[0m in \u001b[0;36mfit_resample\u001b[0;34m(self, X, y)\u001b[0m\n\u001b[1;32m     81\u001b[0m         )\n\u001b[1;32m     82\u001b[0m \u001b[0;34m\u001b[0m\u001b[0m\n\u001b[0;32m---> 83\u001b[0;31m         \u001b[0moutput\u001b[0m \u001b[0;34m=\u001b[0m \u001b[0mself\u001b[0m\u001b[0;34m.\u001b[0m\u001b[0m_fit_resample\u001b[0m\u001b[0;34m(\u001b[0m\u001b[0mX\u001b[0m\u001b[0;34m,\u001b[0m \u001b[0my\u001b[0m\u001b[0;34m)\u001b[0m\u001b[0;34m\u001b[0m\u001b[0;34m\u001b[0m\u001b[0m\n\u001b[0m\u001b[1;32m     84\u001b[0m \u001b[0;34m\u001b[0m\u001b[0m\n\u001b[1;32m     85\u001b[0m         y_ = (\n",
            "\u001b[0;32m/usr/local/lib/python3.7/dist-packages/imblearn/over_sampling/_smote/base.py\u001b[0m in \u001b[0;36m_fit_resample\u001b[0;34m(self, X, y)\u001b[0m\n\u001b[1;32m    521\u001b[0m         \u001b[0mX_res_cat\u001b[0m \u001b[0;34m=\u001b[0m \u001b[0mX_resampled\u001b[0m\u001b[0;34m[\u001b[0m\u001b[0;34m:\u001b[0m\u001b[0;34m,\u001b[0m \u001b[0mself\u001b[0m\u001b[0;34m.\u001b[0m\u001b[0mcontinuous_features_\u001b[0m\u001b[0;34m.\u001b[0m\u001b[0msize\u001b[0m \u001b[0;34m:\u001b[0m\u001b[0;34m]\u001b[0m\u001b[0;34m\u001b[0m\u001b[0;34m\u001b[0m\u001b[0m\n\u001b[1;32m    522\u001b[0m         \u001b[0mX_res_cat\u001b[0m\u001b[0;34m.\u001b[0m\u001b[0mdata\u001b[0m \u001b[0;34m=\u001b[0m \u001b[0mnp\u001b[0m\u001b[0;34m.\u001b[0m\u001b[0mones_like\u001b[0m\u001b[0;34m(\u001b[0m\u001b[0mX_res_cat\u001b[0m\u001b[0;34m.\u001b[0m\u001b[0mdata\u001b[0m\u001b[0;34m)\u001b[0m\u001b[0;34m\u001b[0m\u001b[0;34m\u001b[0m\u001b[0m\n\u001b[0;32m--> 523\u001b[0;31m         \u001b[0mX_res_cat_dec\u001b[0m \u001b[0;34m=\u001b[0m \u001b[0mself\u001b[0m\u001b[0;34m.\u001b[0m\u001b[0mohe_\u001b[0m\u001b[0;34m.\u001b[0m\u001b[0minverse_transform\u001b[0m\u001b[0;34m(\u001b[0m\u001b[0mX_res_cat\u001b[0m\u001b[0;34m)\u001b[0m\u001b[0;34m\u001b[0m\u001b[0;34m\u001b[0m\u001b[0m\n\u001b[0m\u001b[1;32m    524\u001b[0m \u001b[0;34m\u001b[0m\u001b[0m\n\u001b[1;32m    525\u001b[0m         \u001b[0;32mif\u001b[0m \u001b[0msparse\u001b[0m\u001b[0;34m.\u001b[0m\u001b[0missparse\u001b[0m\u001b[0;34m(\u001b[0m\u001b[0mX\u001b[0m\u001b[0;34m)\u001b[0m\u001b[0;34m:\u001b[0m\u001b[0;34m\u001b[0m\u001b[0;34m\u001b[0m\u001b[0m\n",
            "\u001b[0;32m/usr/local/lib/python3.7/dist-packages/sklearn/preprocessing/_encoders.py\u001b[0m in \u001b[0;36minverse_transform\u001b[0;34m(self, X)\u001b[0m\n\u001b[1;32m    622\u001b[0m             \u001b[0msub\u001b[0m \u001b[0;34m=\u001b[0m \u001b[0mX\u001b[0m\u001b[0;34m[\u001b[0m\u001b[0;34m:\u001b[0m\u001b[0;34m,\u001b[0m \u001b[0mj\u001b[0m \u001b[0;34m:\u001b[0m \u001b[0mj\u001b[0m \u001b[0;34m+\u001b[0m \u001b[0mn_categories\u001b[0m\u001b[0;34m]\u001b[0m\u001b[0;34m\u001b[0m\u001b[0;34m\u001b[0m\u001b[0m\n\u001b[1;32m    623\u001b[0m             \u001b[0;31m# for sparse X argmax returns 2D matrix, ensure 1D array\u001b[0m\u001b[0;34m\u001b[0m\u001b[0;34m\u001b[0m\u001b[0;34m\u001b[0m\u001b[0m\n\u001b[0;32m--> 624\u001b[0;31m             \u001b[0mlabels\u001b[0m \u001b[0;34m=\u001b[0m \u001b[0mnp\u001b[0m\u001b[0;34m.\u001b[0m\u001b[0masarray\u001b[0m\u001b[0;34m(\u001b[0m\u001b[0msub\u001b[0m\u001b[0;34m.\u001b[0m\u001b[0margmax\u001b[0m\u001b[0;34m(\u001b[0m\u001b[0maxis\u001b[0m\u001b[0;34m=\u001b[0m\u001b[0;36m1\u001b[0m\u001b[0;34m)\u001b[0m\u001b[0;34m)\u001b[0m\u001b[0;34m.\u001b[0m\u001b[0mflatten\u001b[0m\u001b[0;34m(\u001b[0m\u001b[0;34m)\u001b[0m\u001b[0;34m\u001b[0m\u001b[0;34m\u001b[0m\u001b[0m\n\u001b[0m\u001b[1;32m    625\u001b[0m             \u001b[0mX_tr\u001b[0m\u001b[0;34m[\u001b[0m\u001b[0;34m:\u001b[0m\u001b[0;34m,\u001b[0m \u001b[0mi\u001b[0m\u001b[0;34m]\u001b[0m \u001b[0;34m=\u001b[0m \u001b[0mcats\u001b[0m\u001b[0;34m[\u001b[0m\u001b[0mlabels\u001b[0m\u001b[0;34m]\u001b[0m\u001b[0;34m\u001b[0m\u001b[0;34m\u001b[0m\u001b[0m\n\u001b[1;32m    626\u001b[0m             \u001b[0;32mif\u001b[0m \u001b[0mself\u001b[0m\u001b[0;34m.\u001b[0m\u001b[0mhandle_unknown\u001b[0m \u001b[0;34m==\u001b[0m \u001b[0;34m\"ignore\"\u001b[0m\u001b[0;34m:\u001b[0m\u001b[0;34m\u001b[0m\u001b[0;34m\u001b[0m\u001b[0m\n",
            "\u001b[0;32m/usr/local/lib/python3.7/dist-packages/scipy/sparse/data.py\u001b[0m in \u001b[0;36margmax\u001b[0;34m(self, axis, out)\u001b[0m\n\u001b[1;32m    374\u001b[0m             \u001b[0mIndices\u001b[0m \u001b[0mof\u001b[0m \u001b[0mmaximum\u001b[0m \u001b[0melements\u001b[0m\u001b[0;34m.\u001b[0m \u001b[0mIf\u001b[0m \u001b[0mmatrix\u001b[0m\u001b[0;34m,\u001b[0m \u001b[0mits\u001b[0m \u001b[0msize\u001b[0m \u001b[0malong\u001b[0m\u001b[0;31m \u001b[0m\u001b[0;31m`\u001b[0m\u001b[0maxis\u001b[0m\u001b[0;31m`\u001b[0m \u001b[0;32mis\u001b[0m \u001b[0;36m1.\u001b[0m\u001b[0;34m\u001b[0m\u001b[0;34m\u001b[0m\u001b[0m\n\u001b[1;32m    375\u001b[0m         \"\"\"\n\u001b[0;32m--> 376\u001b[0;31m         \u001b[0;32mreturn\u001b[0m \u001b[0mself\u001b[0m\u001b[0;34m.\u001b[0m\u001b[0m_arg_min_or_max\u001b[0m\u001b[0;34m(\u001b[0m\u001b[0maxis\u001b[0m\u001b[0;34m,\u001b[0m \u001b[0mout\u001b[0m\u001b[0;34m,\u001b[0m \u001b[0mnp\u001b[0m\u001b[0;34m.\u001b[0m\u001b[0margmax\u001b[0m\u001b[0;34m,\u001b[0m \u001b[0mnp\u001b[0m\u001b[0;34m.\u001b[0m\u001b[0mgreater\u001b[0m\u001b[0;34m)\u001b[0m\u001b[0;34m\u001b[0m\u001b[0;34m\u001b[0m\u001b[0m\n\u001b[0m\u001b[1;32m    377\u001b[0m \u001b[0;34m\u001b[0m\u001b[0m\n\u001b[1;32m    378\u001b[0m     \u001b[0;32mdef\u001b[0m \u001b[0margmin\u001b[0m\u001b[0;34m(\u001b[0m\u001b[0mself\u001b[0m\u001b[0;34m,\u001b[0m \u001b[0maxis\u001b[0m\u001b[0;34m=\u001b[0m\u001b[0;32mNone\u001b[0m\u001b[0;34m,\u001b[0m \u001b[0mout\u001b[0m\u001b[0;34m=\u001b[0m\u001b[0;32mNone\u001b[0m\u001b[0;34m)\u001b[0m\u001b[0;34m:\u001b[0m\u001b[0;34m\u001b[0m\u001b[0;34m\u001b[0m\u001b[0m\n",
            "\u001b[0;32m/usr/local/lib/python3.7/dist-packages/scipy/sparse/data.py\u001b[0m in \u001b[0;36m_arg_min_or_max\u001b[0;34m(self, axis, out, op, compare)\u001b[0m\n\u001b[1;32m    287\u001b[0m                             \u001b[0;32mreturn\u001b[0m \u001b[0mzero_ind\u001b[0m\u001b[0;34m\u001b[0m\u001b[0;34m\u001b[0m\u001b[0m\n\u001b[1;32m    288\u001b[0m \u001b[0;34m\u001b[0m\u001b[0m\n\u001b[0;32m--> 289\u001b[0;31m         \u001b[0;32mreturn\u001b[0m \u001b[0mself\u001b[0m\u001b[0;34m.\u001b[0m\u001b[0m_arg_min_or_max_axis\u001b[0m\u001b[0;34m(\u001b[0m\u001b[0maxis\u001b[0m\u001b[0;34m,\u001b[0m \u001b[0mop\u001b[0m\u001b[0;34m,\u001b[0m \u001b[0mcompare\u001b[0m\u001b[0;34m)\u001b[0m\u001b[0;34m\u001b[0m\u001b[0;34m\u001b[0m\u001b[0m\n\u001b[0m\u001b[1;32m    290\u001b[0m \u001b[0;34m\u001b[0m\u001b[0m\n\u001b[1;32m    291\u001b[0m     \u001b[0;32mdef\u001b[0m \u001b[0mmax\u001b[0m\u001b[0;34m(\u001b[0m\u001b[0mself\u001b[0m\u001b[0;34m,\u001b[0m \u001b[0maxis\u001b[0m\u001b[0;34m=\u001b[0m\u001b[0;32mNone\u001b[0m\u001b[0;34m,\u001b[0m \u001b[0mout\u001b[0m\u001b[0;34m=\u001b[0m\u001b[0;32mNone\u001b[0m\u001b[0;34m)\u001b[0m\u001b[0;34m:\u001b[0m\u001b[0;34m\u001b[0m\u001b[0;34m\u001b[0m\u001b[0m\n",
            "\u001b[0;32m/usr/local/lib/python3.7/dist-packages/scipy/sparse/data.py\u001b[0m in \u001b[0;36m_arg_min_or_max_axis\u001b[0;34m(self, axis, op, compare)\u001b[0m\n\u001b[1;32m    238\u001b[0m             \u001b[0mam\u001b[0m \u001b[0;34m=\u001b[0m \u001b[0mop\u001b[0m\u001b[0;34m(\u001b[0m\u001b[0mdata\u001b[0m\u001b[0;34m)\u001b[0m\u001b[0;34m\u001b[0m\u001b[0;34m\u001b[0m\u001b[0m\n\u001b[1;32m    239\u001b[0m             \u001b[0mm\u001b[0m \u001b[0;34m=\u001b[0m \u001b[0mdata\u001b[0m\u001b[0;34m[\u001b[0m\u001b[0mam\u001b[0m\u001b[0;34m]\u001b[0m\u001b[0;34m\u001b[0m\u001b[0;34m\u001b[0m\u001b[0m\n\u001b[0;32m--> 240\u001b[0;31m             \u001b[0;32mif\u001b[0m \u001b[0mcompare\u001b[0m\u001b[0;34m(\u001b[0m\u001b[0mm\u001b[0m\u001b[0;34m,\u001b[0m \u001b[0mzero\u001b[0m\u001b[0;34m)\u001b[0m \u001b[0;32mor\u001b[0m \u001b[0mq\u001b[0m \u001b[0;34m-\u001b[0m \u001b[0mp\u001b[0m \u001b[0;34m==\u001b[0m \u001b[0mline_size\u001b[0m\u001b[0;34m:\u001b[0m\u001b[0;34m\u001b[0m\u001b[0;34m\u001b[0m\u001b[0m\n\u001b[0m\u001b[1;32m    241\u001b[0m                 \u001b[0mret\u001b[0m\u001b[0;34m[\u001b[0m\u001b[0mi\u001b[0m\u001b[0;34m]\u001b[0m \u001b[0;34m=\u001b[0m \u001b[0mindices\u001b[0m\u001b[0;34m[\u001b[0m\u001b[0mam\u001b[0m\u001b[0;34m]\u001b[0m\u001b[0;34m\u001b[0m\u001b[0;34m\u001b[0m\u001b[0m\n\u001b[1;32m    242\u001b[0m             \u001b[0;32melse\u001b[0m\u001b[0;34m:\u001b[0m\u001b[0;34m\u001b[0m\u001b[0;34m\u001b[0m\u001b[0m\n",
            "\u001b[0;31mKeyboardInterrupt\u001b[0m: "
          ]
        }
      ],
      "source": [
        "from imblearn.over_sampling._smote.base import SMOTENC\n",
        "from imblearn.over_sampling import SMOTE\n",
        "\n",
        "#oversample = SMOTE()\n",
        "oversample = SMOTENC(categorical_features=categorial_ind)\n",
        "Xsmote, ysmote = oversample.fit_resample(rescaledX_test2, y_test2)\n"
      ]
    },
    {
      "cell_type": "code",
      "execution_count": null,
      "metadata": {
        "id": "-4xSXFjCbZ5Z"
      },
      "outputs": [],
      "source": [
        "#for c in range(len(subsample.columns)):\n",
        "#  print(c, subsample.columns[c], subsample.iloc[0][subsample.columns[c]])"
      ]
    },
    {
      "cell_type": "code",
      "execution_count": null,
      "metadata": {
        "id": "MPL_yizkWySL"
      },
      "outputs": [],
      "source": [
        "from collections import Counter\n",
        "print(Counter(ysmote))"
      ]
    },
    {
      "cell_type": "code",
      "execution_count": null,
      "metadata": {
        "id": "N7Se_qOvYVVw"
      },
      "outputs": [],
      "source": [
        "newX = Xsmote[len(rescaledX_test2):len(Xsmote)]\n",
        "newy = ysmote[len(y_test2):len(ysmote)]\n",
        "counter = Counter(newy)\n",
        "print(counter)\n",
        "\n",
        "y_newpred = best.predict(newX)\n",
        "print(\"Accuracy of logistic regression classifier: \", best.score(newX, newy))\n",
        "counter = Counter(y_newpred)\n",
        "print(counter)"
      ]
    },
    {
      "cell_type": "code",
      "execution_count": null,
      "metadata": {
        "id": "9ZYB16tVjrZH"
      },
      "outputs": [],
      "source": [
        "X_smotetrain, X_smotetest, y_smotetrain, y_smotetest = train_test_split(Xsmote,\n",
        "                                ysmote,\n",
        "                                test_size=0.1,\n",
        "                                random_state=2)\n",
        "\n",
        "print(Counter(y_smotetrain))\n",
        "\n",
        "print(Counter(y_smotetest))"
      ]
    },
    {
      "cell_type": "code",
      "source": [
        "print(\"Accuracy of logistic regression classifier: \", best.score(Xsmote, ysmote)) \n",
        "print(\"Accuracy of logistic regression classifier: \", best.score(newX, newy)) \n",
        "#newy"
      ],
      "metadata": {
        "id": "yWDGF-IzvOYi"
      },
      "execution_count": null,
      "outputs": []
    },
    {
      "cell_type": "code",
      "execution_count": null,
      "metadata": {
        "id": "ioSYWHm9jTSv"
      },
      "outputs": [],
      "source": [
        "logregSmote = LogisticRegression(solver=\"liblinear\")\n",
        "\n",
        "# Fit logreg to the train set\n",
        "logregSmote.fit(X_smotetrain, y_smotetrain)\n",
        "\n",
        "#y_smotepred = logregSmote.predict(X_smotetest)\n",
        "print(\"Accuracy of logistic regression classifier: \", logregSmote.score(X_smotetest, y_smotetest)) "
      ]
    },
    {
      "cell_type": "code",
      "execution_count": null,
      "metadata": {
        "id": "3g3RcL7aleeR"
      },
      "outputs": [],
      "source": [
        "#auxnparray = X_test.copy()\n",
        "#print(auxnparray.shape)\n",
        "#auxdf = pd.DataFrame(auxnparray, columns = X.columns)\n",
        "#auxdf[\"action_taken\"] = best.predict(rescaledX_test)"
      ]
    },
    {
      "cell_type": "code",
      "source": [
        "smotepred = create_df(Xsmote,X.columns,best.predict(Xsmote),\"action_taken\")\n",
        "smotedf = create_df(Xsmote,X.columns,ysmote,\"action_taken\")"
      ],
      "metadata": {
        "id": "ioXQ3bqZoLFT"
      },
      "execution_count": null,
      "outputs": []
    },
    {
      "cell_type": "code",
      "source": [
        "subgroups2 = show_subgroups(smotedf,True,True)"
      ],
      "metadata": {
        "id": "QUxGG38Vvqgu"
      },
      "execution_count": null,
      "outputs": []
    },
    {
      "cell_type": "code",
      "source": [
        "print(Counter(newy), len(newy[newy==0]))\n",
        "smotenew = create_df(newX,X.columns,newy,\"action_taken\")\n",
        "_ = show_subgroups(smotenew,True,True)"
      ],
      "metadata": {
        "id": "V7FAaSz3EXQg"
      },
      "execution_count": null,
      "outputs": []
    },
    {
      "cell_type": "code",
      "source": [
        "fig = plt.figure()\n",
        "ax = fig.add_axes([0,0,1,1])\n",
        "ax2 = fig.add_axes([1,0,1,1])\n",
        "ax.bar(subgroups[1],[len(s) for s in subgroups[0]])\n",
        "ax2.bar(subgroups2[1],[len(s) for s in subgroups2[0]])\n",
        "plt.show()"
      ],
      "metadata": {
        "id": "_dy93Jynq3xd"
      },
      "execution_count": null,
      "outputs": []
    },
    {
      "cell_type": "code",
      "source": [
        "fig = plt.figure()\n",
        "ax = fig.add_axes([0,0,1,1])\n",
        "ax2 = fig.add_axes([1,0,1,1])\n",
        "ax.set_ylim(30, 90)\n",
        "ax2.set_ylim(30, 90)\n",
        "ax.bar(subgroups[1],subgroups[4])\n",
        "ax2.bar(subgroups2[1],subgroups2[4])\n",
        "plt.show()\n",
        "print(subgroups[4],\"\\n\",subgroups2[4])"
      ],
      "metadata": {
        "id": "r2amv3edI2uq"
      },
      "execution_count": null,
      "outputs": []
    },
    {
      "cell_type": "code",
      "source": [
        "#smotetestpred = create_df(X_smotetest, X.columns, logregSmote.predict(X_smotetest), \"action_taken\")\n",
        "#subgroups3 = show_subgroups(smotetestpred,True,True)"
      ],
      "metadata": {
        "id": "LwuqG0fVxl0C"
      },
      "execution_count": null,
      "outputs": []
    },
    {
      "cell_type": "code",
      "execution_count": null,
      "metadata": {
        "id": "o0JjAhuCoW_p"
      },
      "outputs": [],
      "source": [
        "df = create_df(X_smotetest, X.columns, y_smotetest, \"action_taken\")\n",
        "print(Counter(df[\"action_taken\"]))\n",
        "subgroups4 = show_subgroups(df,True,True)\n",
        "dicPeople = {}\n",
        "beta_params = {'a': 1.6482043459921234, 'b': 17.37597209939366, 'loc': -2.847383506741794, 'scale': 2025.6530553459547}\n",
        "for i in range(len(df)):\n",
        "  #loan = round(1000 * beta.rvs(beta_params['a'],beta_params[\"b\"],beta_params[\"loc\"],beta_params[\"scale\"]))\n",
        "  loan = df.iloc[i][\"loan_amount\"]*1000\n",
        "  if (loan<=0.0):\n",
        "    loan=10000\n",
        "  p = Person(i,loan)\n",
        "  dicPeople[i] = p\n",
        "for i in range(len(df)):\n",
        "  if(df.iloc[i][\"action_taken\"]==1):\n",
        "    dicPeople[i].balance = dicPeople[i].petition\n",
        "  dicPeople[i].updateH()\n",
        "  dicPeople[i].status = df.iloc[i][\"action_taken\"]"
      ]
    },
    {
      "cell_type": "code",
      "execution_count": null,
      "metadata": {
        "id": "ynoEotPtppcB"
      },
      "outputs": [],
      "source": [
        "h_arr = [(item.happiness) for item in dicPeople.values()]\n",
        "plt.hist(h_arr)\n",
        "print([sum(item.happiness for item in dicPeople.values())])\n",
        "print(100*len(df[df['action_taken']==1]))\n",
        "print(len(df),len(df[df['action_taken']==1]), len(df[df['action_taken']==0]))"
      ]
    },
    {
      "cell_type": "code",
      "execution_count": null,
      "metadata": {
        "id": "Jw1FriY6ye26"
      },
      "outputs": [],
      "source": [
        "dicPeopleQ = {}\n",
        "beta_params = {'a': 1.6482043459921234, 'b': 17.37597209939366, 'loc': -2.847383506741794, 'scale': 2025.6530553459547}\n",
        "for i in range(len(df)):\n",
        "  #loan = round(1000 * beta.rvs(beta_params['a'],beta_params[\"b\"],beta_params[\"loc\"],beta_params[\"scale\"]))\n",
        "  loan = df.iloc[i][\"loan_amount\"]*1000\n",
        "  if (loan<=0.0):\n",
        "    loan=10000\n",
        "  p = Person(i,loan)\n",
        "  dicPeopleQ[i] = p\n",
        "\n",
        "#print(2*10**9-[sum(item.petition for item in dicPeople.values())][0])"
      ]
    },
    {
      "cell_type": "code",
      "execution_count": null,
      "metadata": {
        "id": "tLSVeeAd1frz"
      },
      "outputs": [],
      "source": [
        "def processActionBinary(w, index, action):\n",
        "  h=0\n",
        "  if(action==1):\n",
        "    w[\"dic\"][index].balance = w[\"dic\"][index].petition\n",
        "    h=w[\"dic\"][index].updateH()\n",
        "    w[\"money\"] -= w[\"dic\"][index].petition\n",
        "  w[\"dic\"][index].status = action\n",
        "  return w, h"
      ]
    },
    {
      "cell_type": "code",
      "source": [
        "def processActionFluent(w, index, action):\n",
        "  h=0\n",
        "  percentage = action/100\n",
        "  w[\"dic\"][index].balance = percentage*w[\"dic\"][index].petition\n",
        "  h=w[\"dic\"][index].updateH()\n",
        "  w[\"money\"] -= percentage*w[\"dic\"][index].petition\n",
        "  w[\"dic\"][index].status = action\n",
        "  return w, h"
      ],
      "metadata": {
        "id": "ocDGT-lCPpir"
      },
      "execution_count": null,
      "outputs": []
    },
    {
      "cell_type": "code",
      "execution_count": null,
      "metadata": {
        "id": "SsFbR4x0FCT7"
      },
      "outputs": [],
      "source": [
        "import random\n",
        "from IPython.display import clear_output\n",
        "world={}\n",
        "#world[\"dic\"] = dicPeopleQ.copy()\n",
        "#world[\"money\"] = (3/3)*[sum(item.petition for item in world.values())][0]\n",
        "#world[\"model\"] = logreg\n",
        "observation_space = X_smotetest\n",
        "binary_space = [0,1]\n",
        "fluent_space = range(0,100)\n",
        "action_space = binary_space#fluent_space\n",
        "processAction = processActionBinary#processActionFluent\n",
        "q_table = np.zeros([len(observation_space), len(action_space)])\n",
        "precomputed_labels = best.predict(X_smotetest);\n",
        "for i in range(len(precomputed_labels)):\n",
        "  q_table[i,1] = 100*precomputed_labels[i]\n",
        "  #q_table[i,99] = 100*precomputed_labels[i]\n",
        "print(100*len(precomputed_labels[precomputed_labels==1]))\n",
        "print(len(precomputed_labels),len(precomputed_labels[precomputed_labels==1]), len(precomputed_labels[precomputed_labels==0]))\n",
        "print(q_table)\n",
        "# Hyperparameters\n",
        "alpha = 0.1\n",
        "gamma = 0.6\n",
        "epsilon = 0.1"
      ]
    },
    {
      "cell_type": "code",
      "source": [
        "#max_rate=0\n",
        "#max_qtable=q_table.copy()"
      ],
      "metadata": {
        "id": "iZz4QiehVU2U"
      },
      "execution_count": null,
      "outputs": []
    },
    {
      "cell_type": "code",
      "execution_count": null,
      "metadata": {
        "id": "J_upqj9yrtHb"
      },
      "outputs": [],
      "source": [
        "import copy\n",
        "# For plotting metrics\n",
        "all_epochs = []\n",
        "for i in range(1, 500):\n",
        "    state = 0\n",
        "    world[\"dic\"] = copy.deepcopy(dicPeopleQ)\n",
        "\n",
        "    fraction_available = 1 #1/2 #2/3 #1\n",
        "    #top_rate = 100*len(world['dic'].values()) * fraction_available*[sum(item.petition for item in world[\"dic\"].values())][0]\n",
        "    \n",
        "    world[\"money\"] = fraction_available*[sum(item.petition for item in world[\"dic\"].values())][0]\n",
        "    reward = 0\n",
        "    done = False\n",
        "\n",
        "    #q_table = max_qtable.copy()\n",
        "\n",
        "    while not done:\n",
        "        if random.uniform(0, 1) < epsilon:\n",
        "            action = random.choice(action_space) # Explore action space\n",
        "        else:\n",
        "            action = np.argmax(q_table[state]) # Exploit learned values\n",
        "        #print(action)\n",
        "        world,reward = processAction(world,state,action) \n",
        "        \n",
        "        old_value = q_table[state, action]\n",
        "        next_max = np.max(q_table[state+1])\n",
        "        \n",
        "        new_value = (1 - alpha) * old_value + alpha * (reward + gamma * next_max)\n",
        "        q_table[state, action] = new_value\n",
        "\n",
        "        if (state==len(observation_space)-2 or world[\"money\"]<=0):\n",
        "          done = True\n",
        "        else:\n",
        "          state += 1\n",
        "\n",
        "    #rate = [sum(item.happiness for item in world['dic'].values())][0]*world[\"money\"]\n",
        "    #if (rate/top_rate > max_rate):\n",
        "    #  max_rate = rate/top_rate\n",
        "    #  max_qtable = q_table.copy()\n",
        "\n",
        "    if i % 5 == 0:\n",
        "        print(f\"Episode: {i}: {[sum(item.happiness for item in world['dic'].values())][0]} happiness achieved, {world['money']} remaining\")#, rate = {rate/top_rate}\")\n",
        "\n",
        "print(\"Training finished.\\n\")"
      ]
    },
    {
      "cell_type": "code",
      "source": [
        "#max_rate"
      ],
      "metadata": {
        "id": "piTTfQKrWh5U"
      },
      "execution_count": null,
      "outputs": []
    },
    {
      "cell_type": "code",
      "execution_count": null,
      "metadata": {
        "id": "8JmIZBAACww0"
      },
      "outputs": [],
      "source": [
        "achieved=[sum(item.happiness for item in world['dic'].values())][0]\n",
        "print(achieved)\n",
        "print([max(item.happiness for item in world['dic'].values())])\n",
        "print([min(item.happiness for item in world['dic'].values())])\n",
        "print(\"maximum possible:\",100*len(world['dic'].values()))\n",
        "print(achieved/(100*len(world['dic'].values())))\n",
        "print(fraction_available)\n",
        "\n"
      ]
    },
    {
      "cell_type": "markdown",
      "source": [
        "780332.3723712312\n",
        "\n",
        "[99.68476908167399]\n",
        "\n",
        "[0.0]\n",
        "\n",
        "maximum possible: 959400\n",
        "\n",
        "7486508780.5295925\n",
        "\n",
        "0.6666666666666666"
      ],
      "metadata": {
        "id": "z1LTno8rN2yb"
      }
    },
    {
      "cell_type": "code",
      "execution_count": null,
      "metadata": {
        "id": "qr7SbYiEDDSS"
      },
      "outputs": [],
      "source": [
        "for s in [-1,0,1]:\n",
        "  print(len([item for item in world['dic'].values() if item.status==s]))"
      ]
    },
    {
      "cell_type": "code",
      "execution_count": null,
      "metadata": {
        "id": "88WF5UVtDZrj"
      },
      "outputs": [],
      "source": [
        "world[\"money\"]"
      ]
    },
    {
      "cell_type": "code",
      "execution_count": null,
      "metadata": {
        "id": "kkXsPmzCDjna"
      },
      "outputs": [],
      "source": [
        "Counter(precomputed_labels)"
      ]
    },
    {
      "cell_type": "code",
      "execution_count": null,
      "metadata": {
        "id": "Pxb9iQVsKKx0"
      },
      "outputs": [],
      "source": [
        "Counter(y_smotetest)"
      ]
    }
  ],
  "metadata": {
    "colab": {
      "collapsed_sections": [],
      "name": "Copy of HMDA_test.ipynb",
      "provenance": [],
      "mount_file_id": "1yzXR7S4JrPd05tN1RWm1mkHXLxopvB6m",
      "authorship_tag": "ABX9TyO1CcOenoILM0j7QQ72emnB",
      "include_colab_link": true
    },
    "kernelspec": {
      "display_name": "Python 3",
      "name": "python3"
    },
    "language_info": {
      "name": "python"
    }
  },
  "nbformat": 4,
  "nbformat_minor": 0
}