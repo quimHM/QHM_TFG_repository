{
  "cells": [
    {
      "cell_type": "markdown",
      "metadata": {
        "id": "view-in-github",
        "colab_type": "text"
      },
      "source": [
        "<a href=\"https://colab.research.google.com/github/quimHM/QHM_TFG_repository/blob/main/HMDA_test.ipynb\" target=\"_parent\"><img src=\"https://colab.research.google.com/assets/colab-badge.svg\" alt=\"Open In Colab\"/></a>"
      ]
    },
    {
      "cell_type": "code",
      "execution_count": null,
      "metadata": {
        "colab": {
          "base_uri": "https://localhost:8080/"
        },
        "id": "ntkGE0w0OuhR",
        "outputId": "dd700cf9-06d6-46ba-f753-16d0d4f327fd"
      },
      "outputs": [
        {
          "output_type": "stream",
          "name": "stdout",
          "text": [
            "Collecting fitter\n",
            "  Downloading fitter-1.4.0.tar.gz (27 kB)\n",
            "Collecting easydev\n",
            "  Downloading easydev-0.12.0.tar.gz (47 kB)\n",
            "\u001b[K     |████████████████████████████████| 47 kB 4.2 MB/s \n",
            "\u001b[?25hRequirement already satisfied: numpy in /usr/local/lib/python3.7/dist-packages (from fitter) (1.21.6)\n",
            "Requirement already satisfied: matplotlib in /usr/local/lib/python3.7/dist-packages (from fitter) (3.2.2)\n",
            "Requirement already satisfied: scipy>=0.18 in /usr/local/lib/python3.7/dist-packages (from fitter) (1.4.1)\n",
            "Requirement already satisfied: pandas in /usr/local/lib/python3.7/dist-packages (from fitter) (1.3.5)\n",
            "Requirement already satisfied: click in /usr/local/lib/python3.7/dist-packages (from fitter) (7.1.2)\n",
            "Requirement already satisfied: joblib in /usr/local/lib/python3.7/dist-packages (from fitter) (1.1.0)\n",
            "Collecting colorama\n",
            "  Downloading colorama-0.4.4-py2.py3-none-any.whl (16 kB)\n",
            "Requirement already satisfied: pexpect in /usr/local/lib/python3.7/dist-packages (from easydev->fitter) (4.8.0)\n",
            "Collecting colorlog\n",
            "  Downloading colorlog-6.6.0-py2.py3-none-any.whl (11 kB)\n",
            "Requirement already satisfied: kiwisolver>=1.0.1 in /usr/local/lib/python3.7/dist-packages (from matplotlib->fitter) (1.4.2)\n",
            "Requirement already satisfied: python-dateutil>=2.1 in /usr/local/lib/python3.7/dist-packages (from matplotlib->fitter) (2.8.2)\n",
            "Requirement already satisfied: cycler>=0.10 in /usr/local/lib/python3.7/dist-packages (from matplotlib->fitter) (0.11.0)\n",
            "Requirement already satisfied: pyparsing!=2.0.4,!=2.1.2,!=2.1.6,>=2.0.1 in /usr/local/lib/python3.7/dist-packages (from matplotlib->fitter) (3.0.8)\n",
            "Requirement already satisfied: typing-extensions in /usr/local/lib/python3.7/dist-packages (from kiwisolver>=1.0.1->matplotlib->fitter) (4.2.0)\n",
            "Requirement already satisfied: six>=1.5 in /usr/local/lib/python3.7/dist-packages (from python-dateutil>=2.1->matplotlib->fitter) (1.15.0)\n",
            "Requirement already satisfied: pytz>=2017.3 in /usr/local/lib/python3.7/dist-packages (from pandas->fitter) (2022.1)\n",
            "Requirement already satisfied: ptyprocess>=0.5 in /usr/local/lib/python3.7/dist-packages (from pexpect->easydev->fitter) (0.7.0)\n",
            "Building wheels for collected packages: fitter, easydev\n",
            "  Building wheel for fitter (setup.py) ... \u001b[?25l\u001b[?25hdone\n",
            "  Created wheel for fitter: filename=fitter-1.4.0-py3-none-any.whl size=25026 sha256=37b30cc1f5adc3bc7e687012477d8668ac7cd77a1bc22b58c89cbbee9e5cc741\n",
            "  Stored in directory: /root/.cache/pip/wheels/e1/98/16/e5263962f94fbfaad79902aa94652516caccc1f1d51509e853\n",
            "  Building wheel for easydev (setup.py) ... \u001b[?25l\u001b[?25hdone\n",
            "  Created wheel for easydev: filename=easydev-0.12.0-py3-none-any.whl size=64232 sha256=8210f0072fb7c160e9481ca766d93c48b96bca7ef671aa55e92c17e619818311\n",
            "  Stored in directory: /root/.cache/pip/wheels/82/ab/83/fdfc4017ea44a585b6754752cc5f63f2d0d63fcc1317e7174b\n",
            "Successfully built fitter easydev\n",
            "Installing collected packages: colorlog, colorama, easydev, fitter\n",
            "Successfully installed colorama-0.4.4 colorlog-6.6.0 easydev-0.12.0 fitter-1.4.0\n"
          ]
        }
      ],
      "source": [
        "!pip install fitter\n"
      ]
    },
    {
      "cell_type": "code",
      "execution_count": null,
      "metadata": {
        "colab": {
          "base_uri": "https://localhost:8080/"
        },
        "id": "IfBnGFsYyrBo",
        "outputId": "bc2e7ef0-add7-4820-ab78-5ed200338366"
      },
      "outputs": [
        {
          "output_type": "stream",
          "name": "stdout",
          "text": [
            "/content/drive\n",
            "Mounted at /content/drive\n"
          ]
        },
        {
          "output_type": "stream",
          "name": "stderr",
          "text": [
            "/usr/local/lib/python3.7/dist-packages/IPython/core/interactiveshell.py:2882: DtypeWarning: Columns (22,23,24,26,27,28,29,30,31,32,33,38,43,44) have mixed types.Specify dtype option on import or set low_memory=False.\n",
            "  exec(code_obj, self.user_global_ns, self.user_ns)\n"
          ]
        },
        {
          "output_type": "stream",
          "name": "stdout",
          "text": [
            "samples: 1557705\n",
            "features: 99\n",
            "activity_year:  2020\n",
            "lei:  7H6GLXDRUGQFU57RNE97\n",
            "derived_msa-md:  12060\n",
            "state_code:  GA\n",
            "county_code:  13135.0\n",
            "census_tract:  13135050607.0\n",
            "conforming_loan_limit:  C\n",
            "derived_loan_product_type:  Conventional:First Lien\n",
            "derived_dwelling_category:  Single Family (1-4 Units):Site-Built\n",
            "derived_ethnicity:  Not Hispanic or Latino\n",
            "derived_race:  Asian\n",
            "derived_sex:  Male\n",
            "action_taken:  1\n",
            "purchaser_type:  3\n",
            "preapproval:  2\n",
            "loan_type:  1\n",
            "loan_purpose:  31\n",
            "lien_status:  1\n",
            "reverse_mortgage:  2\n",
            "open-end_line_of_credit:  2\n",
            "business_or_commercial_purpose:  2\n",
            "loan_amount:  205000.0\n",
            "loan_to_value_ratio:  68.0\n",
            "interest_rate:  2.75\n",
            "rate_spread:  -0.56256\n",
            "hoepa_status:  2\n",
            "total_loan_costs:  3003.52\n",
            "total_points_and_fees:  nan\n",
            "origination_charges:  1960.58\n",
            "discount_points:  765.58\n",
            "lender_credits:  nan\n",
            "loan_term:  120\n",
            "prepayment_penalty_term:  nan\n",
            "intro_rate_period:  nan\n",
            "negative_amortization:  2\n",
            "interest_only_payment:  2\n",
            "balloon_payment:  2\n",
            "other_nonamortizing_features:  2\n",
            "property_value:  305000\n",
            "construction_method:  1\n",
            "occupancy_type:  1\n",
            "manufactured_home_secured_property_type:  3\n",
            "manufactured_home_land_property_interest:  5\n",
            "total_units:  1\n",
            "multifamily_affordable_units:  nan\n",
            "income:  103.0\n",
            "debt_to_income_ratio:  38\n",
            "applicant_credit_score_type:  3\n",
            "co-applicant_credit_score_type:  10\n",
            "applicant_ethnicity-1:  2.0\n",
            "applicant_ethnicity-2:  nan\n",
            "applicant_ethnicity-3:  nan\n",
            "applicant_ethnicity-4:  nan\n",
            "applicant_ethnicity-5:  nan\n",
            "co-applicant_ethnicity-1:  5.0\n",
            "co-applicant_ethnicity-2:  nan\n",
            "co-applicant_ethnicity-3:  nan\n",
            "co-applicant_ethnicity-4:  nan\n",
            "co-applicant_ethnicity-5:  nan\n",
            "applicant_ethnicity_observed:  2\n",
            "co-applicant_ethnicity_observed:  4\n",
            "applicant_race-1:  22.0\n",
            "applicant_race-2:  nan\n",
            "applicant_race-3:  nan\n",
            "applicant_race-4:  nan\n",
            "applicant_race-5:  nan\n",
            "co-applicant_race-1:  8.0\n",
            "co-applicant_race-2:  nan\n",
            "co-applicant_race-3:  nan\n",
            "co-applicant_race-4:  nan\n",
            "co-applicant_race-5:  nan\n",
            "applicant_race_observed:  2\n",
            "co-applicant_race_observed:  4\n",
            "applicant_sex:  1\n",
            "co-applicant_sex:  5\n",
            "applicant_sex_observed:  2\n",
            "co-applicant_sex_observed:  4\n",
            "applicant_age:  55-64\n",
            "co-applicant_age:  9999\n",
            "applicant_age_above_62:  No\n",
            "co-applicant_age_above_62:  nan\n",
            "submission_of_application:  1\n",
            "initially_payable_to_institution:  1\n",
            "aus-1:  1\n",
            "aus-2:  2.0\n",
            "aus-3:  5.0\n",
            "aus-4:  nan\n",
            "aus-5:  nan\n",
            "denial_reason-1:  10\n",
            "denial_reason-2:  nan\n",
            "denial_reason-3:  nan\n",
            "denial_reason-4:  nan\n",
            "tract_population:  17159\n",
            "tract_minority_population_percent:  39.54\n",
            "ffiec_msa_md_median_family_income:  82200\n",
            "tract_to_msa_income_percentage:  137\n",
            "tract_owner_occupied_units:  4190\n",
            "tract_one_to_four_family_homes:  5250\n",
            "tract_median_age_of_housing_units:  13\n"
          ]
        }
      ],
      "source": [
        "from sklearn.preprocessing import MinMaxScaler\n",
        "from sklearn.linear_model import LogisticRegression\n",
        "from sklearn.model_selection import cross_validate\n",
        "import pandas as pd\n",
        "import numpy as np\n",
        "import matplotlib.pyplot as plt\n",
        "import random\n",
        "from fitter import Fitter\n",
        "\n",
        "from google.colab import drive # import drive from google colab\n",
        "\n",
        "ROOT = \"/content/drive\"     # default location for the drive\n",
        "print(ROOT)                 # print content of ROOT (Optional)\n",
        "drive.mount(ROOT)\n",
        "\n",
        "#unpickled_df = pd.read_pickle(\"/content/drive/MyDrive/s170BLfdSYPp\") #https://liveproject.manning.com/module/405_2_1/measuring-bias-in-a-dataset/1--load-the-hmda-dataset-into-a-pandas-dataframe/1-1-workflow%3a-load-the-hmda-dataset-into-a-pandas-dataframe?\n",
        "unpickled_df = pd.read_csv(\"/content/drive/MyDrive/TFG/state_AL-GA_actions_taken_1-3.csv\")\n",
        "extra1 = pd.read_csv(\"/content/drive/MyDrive/TFG/state_AR-MS_actions_taken_1-3.csv\")\n",
        "extra2 = pd.read_csv(\"/content/drive/MyDrive/TFG/state_TN-LA_actions_taken_1-3.csv\")\n",
        "unpickled_df = pd.concat([unpickled_df,extra1,extra2])\n",
        "print(\"samples:\",len(unpickled_df))\n",
        "print(\"features:\",len(unpickled_df.columns))\n",
        "for c in unpickled_df.columns: \n",
        "  print(c+\": \",unpickled_df.iloc[0][c])"
      ]
    },
    {
      "cell_type": "code",
      "execution_count": null,
      "metadata": {
        "colab": {
          "base_uri": "https://localhost:8080/",
          "height": 805
        },
        "id": "F-vAa-p8Qzsx",
        "outputId": "fc5ecdda-e822-411b-aa8b-a17c1a609609"
      },
      "outputs": [
        {
          "output_type": "execute_result",
          "data": {
            "text/plain": [
              "(array([ 6770., 16905., 26704., 26489., 27673., 41985., 36211., 38484.,\n",
              "        38953., 38037., 56287., 45591., 54617., 53856., 55175., 63063.,\n",
              "        57996., 56230., 55501., 50625., 55368., 47341., 47799., 43005.,\n",
              "        42312., 41989., 35524., 32625., 30575., 26248., 27677., 22131.,\n",
              "        21183., 19320., 17255., 17317., 15198., 13327., 13139., 11201.,\n",
              "        12565.,  8581.,  8156.,  6919.,  7311.,  7087.,  5776.,  5579.,\n",
              "         6143.,  4799.,  6656., 15437.,  1214.,  1126.,  1372.,  1233.,\n",
              "         1732.,   933.,   876.,   756.,  1113.,   726.,   778.,   758.,\n",
              "          734.,   855.,   680.,   621.,   693.,   550.,   806.,   551.,\n",
              "          561.,   440.,   503.,   815.,   456.,   332.,   409.,   326.,\n",
              "          501.,   275.,   303.,   270.,   308.,   353.,   225.,   252.,\n",
              "          280.,   188.,   371.,   196.,   231.,   187.,   206.,   230.,\n",
              "          227.,   151.,   191.,   262.]),\n",
              " array([      0.,   10000.,   20000.,   30000.,   40000.,   50000.,\n",
              "          60000.,   70000.,   80000.,   90000.,  100000.,  110000.,\n",
              "         120000.,  130000.,  140000.,  150000.,  160000.,  170000.,\n",
              "         180000.,  190000.,  200000.,  210000.,  220000.,  230000.,\n",
              "         240000.,  250000.,  260000.,  270000.,  280000.,  290000.,\n",
              "         300000.,  310000.,  320000.,  330000.,  340000.,  350000.,\n",
              "         360000.,  370000.,  380000.,  390000.,  400000.,  410000.,\n",
              "         420000.,  430000.,  440000.,  450000.,  460000.,  470000.,\n",
              "         480000.,  490000.,  500000.,  510000.,  520000.,  530000.,\n",
              "         540000.,  550000.,  560000.,  570000.,  580000.,  590000.,\n",
              "         600000.,  610000.,  620000.,  630000.,  640000.,  650000.,\n",
              "         660000.,  670000.,  680000.,  690000.,  700000.,  710000.,\n",
              "         720000.,  730000.,  740000.,  750000.,  760000.,  770000.,\n",
              "         780000.,  790000.,  800000.,  810000.,  820000.,  830000.,\n",
              "         840000.,  850000.,  860000.,  870000.,  880000.,  890000.,\n",
              "         900000.,  910000.,  920000.,  930000.,  940000.,  950000.,\n",
              "         960000.,  970000.,  980000.,  990000., 1000000.]),\n",
              " <a list of 100 Patch objects>)"
            ]
          },
          "metadata": {},
          "execution_count": 4
        },
        {
          "output_type": "display_data",
          "data": {
            "text/plain": [
              "<Figure size 432x288 with 1 Axes>"
            ],
            "image/png": "[encoded data removed]"
          },
          "metadata": {
            "needs_background": "light"
          }
        }
      ],
      "source": [
        "#print(unpickled_df.loan_amount_000s)\n",
        "#plt.hist(unpickled_df.loan_amount_000s, bins=100, range=[0, 1250])\n",
        "plt.hist(unpickled_df.loan_amount, bins=100, range=[0, 1000000])"
      ]
    },
    {
      "cell_type": "code",
      "execution_count": null,
      "metadata": {
        "id": "0OVclIyKYkvG"
      },
      "outputs": [],
      "source": [
        "#f = Fitter(X_test[\"loan_amount\"], xmax=1000000,\n",
        "#           distributions=['gamma', \"beta\", \"norm\"])\n",
        "#f.fit()\n",
        "#f.summary()"
      ]
    },
    {
      "cell_type": "code",
      "execution_count": null,
      "metadata": {
        "id": "tPgL3jdoPsmq"
      },
      "outputs": [],
      "source": [
        "#b = f.get_best()\n",
        "#print(b)\n",
        "#r = (np.random.beta(b[\"beta\"][\"a\"],b[\"beta\"][\"b\"])-b[\"beta\"][\"loc\"])/b[\"beta\"][\"scale\"]*1000\n",
        "#print(r)"
      ]
    },
    {
      "cell_type": "code",
      "execution_count": null,
      "metadata": {
        "id": "JMKKilGVXkxO"
      },
      "outputs": [],
      "source": [
        "from scipy.stats import beta\n",
        "#r = beta.rvs(b[\"beta\"][\"a\"],b[\"beta\"][\"b\"],b[\"beta\"][\"loc\"],b[\"beta\"][\"scale\"],size=100000)\n",
        "#plt.hist(r, bins=100)"
      ]
    },
    {
      "cell_type": "code",
      "execution_count": null,
      "metadata": {
        "id": "T09B15tfXk51",
        "colab": {
          "base_uri": "https://localhost:8080/"
        },
        "outputId": "3ff3adab-e683-48ac-e0be-646265c8dabf"
      },
      "outputs": [
        {
          "output_type": "stream",
          "name": "stdout",
          "text": [
            "1259305 298400\n",
            "action: [1 0]\n",
            "1259305 298400\n",
            "race pre: [22.  5.  3.  6. 25. 21.  1.  2. 23. 27. 26. 24. 44.  7.  4. nan 42. 43.\n",
            " 41.]\n"
          ]
        },
        {
          "output_type": "stream",
          "name": "stderr",
          "text": [
            "/usr/local/lib/python3.7/dist-packages/ipykernel_launcher.py:11: SettingWithCopyWarning: \n",
            "A value is trying to be set on a copy of a slice from a DataFrame.\n",
            "Try using .loc[row_indexer,col_indexer] = value instead\n",
            "\n",
            "See the caveats in the documentation: https://pandas.pydata.org/pandas-docs/stable/user_guide/indexing.html#returning-a-view-versus-a-copy\n",
            "  # This is added back by InteractiveShellApp.init_path()\n"
          ]
        },
        {
          "output_type": "stream",
          "name": "stdout",
          "text": [
            "race: [0. 1.]\n",
            "ethnicity pre: [ 2.  1. 14. 12. 11.  3. 13.  4. nan]\n"
          ]
        },
        {
          "output_type": "stream",
          "name": "stderr",
          "text": [
            "/usr/local/lib/python3.7/dist-packages/ipykernel_launcher.py:16: SettingWithCopyWarning: \n",
            "A value is trying to be set on a copy of a slice from a DataFrame.\n",
            "Try using .loc[row_indexer,col_indexer] = value instead\n",
            "\n",
            "See the caveats in the documentation: https://pandas.pydata.org/pandas-docs/stable/user_guide/indexing.html#returning-a-view-versus-a-copy\n",
            "  app.launch_new_instance()\n"
          ]
        },
        {
          "output_type": "stream",
          "name": "stdout",
          "text": [
            "ethnicity: [0. 1.]\n",
            "sex pre [2 1 3 6 4]\n"
          ]
        },
        {
          "output_type": "stream",
          "name": "stderr",
          "text": [
            "/usr/local/lib/python3.7/dist-packages/ipykernel_launcher.py:21: SettingWithCopyWarning: \n",
            "A value is trying to be set on a copy of a slice from a DataFrame.\n",
            "Try using .loc[row_indexer,col_indexer] = value instead\n",
            "\n",
            "See the caveats in the documentation: https://pandas.pydata.org/pandas-docs/stable/user_guide/indexing.html#returning-a-view-versus-a-copy\n"
          ]
        },
        {
          "output_type": "stream",
          "name": "stdout",
          "text": [
            "sex: [1 0]\n",
            "998322 223639\n",
            "1221961\n"
          ]
        }
      ],
      "source": [
        "subsample = unpickled_df                    \n",
        "\n",
        "print(len(subsample.loc[subsample[\"action_taken\"]==1]),len(subsample.loc[subsample[\"action_taken\"]==3]))\n",
        "subsample = subsample.loc[subsample[\"action_taken\"].isin([1,3])]\n",
        "subsample[\"action_taken\"] = subsample[\"action_taken\"].replace([3],[0])    \n",
        "print(\"action:\",subsample[\"action_taken\"].unique())\n",
        "print(len(subsample.loc[subsample[\"action_taken\"]==1]),len(subsample.loc[subsample[\"action_taken\"]==0]))\n",
        "\n",
        "print(\"race pre:\",subsample[\"applicant_race-1\"].unique())\n",
        "subsample = subsample.loc[subsample[\"applicant_race-1\"].isin([3,5])]\n",
        "subsample[\"applicant_race-1\"] = subsample[\"applicant_race-1\"].replace([5,3],[0,1])\n",
        "print(\"race:\",subsample[\"applicant_race-1\"].unique())\n",
        "\n",
        "print(\"ethnicity pre:\",subsample[\"applicant_ethnicity-1\"].unique())\n",
        "subsample = subsample.loc[subsample[\"applicant_ethnicity-1\"].isin([1,2])]\n",
        "subsample[\"applicant_ethnicity-1\"] = subsample[\"applicant_ethnicity-1\"].replace([2,1],[0,1])\n",
        "print(\"ethnicity:\",subsample[\"applicant_ethnicity-1\"].unique())\n",
        "\n",
        "print(\"sex pre\",subsample[\"applicant_sex\"].unique())\n",
        "subsample = subsample.loc[subsample[\"applicant_sex\"].isin([1,2])]\n",
        "subsample[\"applicant_sex\"] = subsample[\"applicant_sex\"].replace([1,2],[0,1])\n",
        "print(\"sex:\",subsample[\"applicant_sex\"].unique())\n",
        "\n",
        "\n",
        "print(len(subsample.loc[subsample[\"action_taken\"]==1]),len(subsample.loc[subsample[\"action_taken\"]==0]))\n",
        "\n",
        "print(len(subsample))\n",
        "#subsample = subsample[[\"loan_type\", \"property_type\", \"loan_purpose\", \"loan_amount_000s\",\n",
        "#                            \"action_taken\",\"applicant_ethnicity\",\"applicant_race_1\",\"applicant_sex\",\n",
        "#                           \"applicant_income_000s\"]]"
      ]
    },
    {
      "cell_type": "code",
      "execution_count": null,
      "metadata": {
        "colab": {
          "base_uri": "https://localhost:8080/",
          "height": 120
        },
        "id": "Iate0g19C28Y",
        "outputId": "eafbc4c4-a970-4860-a950-4dcdfd8efa79"
      },
      "outputs": [
        {
          "output_type": "execute_result",
          "data": {
            "text/plain": [
              "'\\nsubsample = unpickled_df                           \\nsubsample[\"action_taken\"] = subsample[\"action_taken\"].replace([3],[0])\\nprint(subsample[\"action_taken_name\"].unique())\\nprint(subsample[\"action_taken\"].unique())\\nprint(len(subsample[\"action_taken\"]==1),len(subsample[\"action_taken\"]==0))\\n\\nsubsample = subsample.loc[((subsample[\"applicant_race_1\"]==3) | (subsample[\"applicant_race_1\"]==5))]\\nprint(subsample[\"applicant_race_name_1\"].unique())\\nsubsample[\"applicant_race_1\"] = subsample[\"applicant_race_1\"].replace([5,3],[1,2])\\nprint(subsample[\"applicant_race_1\"].unique())\\n\\nprint(subsample[\"applicant_ethnicity_name\"].unique())\\nsubsample[\"applicant_ethnicity\"] = subsample[\"applicant_ethnicity\"].replace([2,1],[1,2])\\nprint(subsample[\"applicant_ethnicity\"].unique())\\n\\nprint(subsample[\"applicant_sex_name\"].unique())\\nprint(subsample[\"applicant_sex\"].unique())\\n'"
            ],
            "application/vnd.google.colaboratory.intrinsic+json": {
              "type": "string"
            }
          },
          "metadata": {},
          "execution_count": 9
        }
      ],
      "source": [
        "#subsample = unpickled_df[[\"loan_type\", \"property_value\", \"loan_purpose\", \"loan_amount\",\n",
        "#                            \"action_taken\",\"applicant_ethnicity-1\",\"applicant_race-1\",\"applicant_sex\",\n",
        "#                           \"income\",'occupancy_type']]\n",
        "#subsample = unpickled_df[[\"loan_type\", \"property_type\", \"loan_purpose\", \"loan_amount_000s\",\n",
        "#                            \"action_taken\",\"action_taken_name\",\"applicant_ethnicity\",\"applicant_ethnicity_name\",\"applicant_race_1\",\"applicant_race_name_1\",\"applicant_sex\",\"applicant_sex_name\",\n",
        "#                           \"applicant_income_000s\",'owner_occupancy']]\n",
        "\n",
        "#PAPER A https://www.mdpi.com/2504-4990/4/1/11\n",
        "#DATA DE https://ffiec.cfpb.gov/data-browser/data/2019?category=counties&items=01001&actions_taken=1,3\n",
        "#CAL TRIAR LES FEATURES? SOBRETOT, PILLAR LES derived_ethnicity, derived_race etc (https://ffiec.cfpb.gov/documentation/2018/data-browser-filters/)\n",
        "\n",
        "\"\"\"\n",
        "subsample = unpickled_df                           \n",
        "subsample[\"action_taken\"] = subsample[\"action_taken\"].replace([3],[0])\n",
        "print(subsample[\"action_taken_name\"].unique())\n",
        "print(subsample[\"action_taken\"].unique())\n",
        "print(len(subsample[\"action_taken\"]==1),len(subsample[\"action_taken\"]==0))\n",
        "\n",
        "subsample = subsample.loc[((subsample[\"applicant_race_1\"]==3) | (subsample[\"applicant_race_1\"]==5))]\n",
        "print(subsample[\"applicant_race_name_1\"].unique())\n",
        "subsample[\"applicant_race_1\"] = subsample[\"applicant_race_1\"].replace([5,3],[1,2])\n",
        "print(subsample[\"applicant_race_1\"].unique())\n",
        "\n",
        "print(subsample[\"applicant_ethnicity_name\"].unique())\n",
        "subsample[\"applicant_ethnicity\"] = subsample[\"applicant_ethnicity\"].replace([2,1],[1,2])\n",
        "print(subsample[\"applicant_ethnicity\"].unique())\n",
        "\n",
        "print(subsample[\"applicant_sex_name\"].unique())\n",
        "print(subsample[\"applicant_sex\"].unique())\n",
        "\"\"\"\n",
        "\n",
        "#subsample = subsample[[\"loan_type\", \"property_type\", \"loan_purpose\", \"loan_amount_000s\",\n",
        "#                            \"action_taken\",\"applicant_ethnicity\",\"applicant_race_1\",\"applicant_sex\",\n",
        "#                           \"applicant_income_000s\"]]"
      ]
    },
    {
      "cell_type": "code",
      "execution_count": null,
      "metadata": {
        "colab": {
          "base_uri": "https://localhost:8080/"
        },
        "id": "SSxWPfaLOG-g",
        "outputId": "997ef7b6-5667-4ab3-90e7-29dfdbf5ae1e"
      },
      "outputs": [
        {
          "output_type": "stream",
          "name": "stdout",
          "text": [
            "998322 223639\n"
          ]
        }
      ],
      "source": [
        "print(len(subsample.loc[((subsample[\"action_taken\"]==1))]),len(subsample.loc[((subsample[\"action_taken\"]==0))]))"
      ]
    },
    {
      "cell_type": "code",
      "source": [
        "def create_df(x,xcol,y,ycol):\n",
        "  auxnparray = x.copy()\n",
        "  newdf = pd.DataFrame(auxnparray, columns = xcol)\n",
        "  newdf[ycol] = y.tolist()\n",
        "  return newdf"
      ],
      "metadata": {
        "id": "TYrlBaAiAkC_"
      },
      "execution_count": null,
      "outputs": []
    },
    {
      "cell_type": "code",
      "execution_count": null,
      "metadata": {
        "id": "rQZ_WFRsk5m5"
      },
      "outputs": [],
      "source": [
        "from matplotlib import pyplot as plt\n",
        "def show_subgroups(df,bool_app_dec,bool_percent):\n",
        "  subgroups = []\n",
        "  subgroups_names = []\n",
        "  R = [\"W\",\"B\"]\n",
        "  E = [\"NH\",\"H\"]\n",
        "  S = [\"M\",\"F\"]\n",
        "  for option in [0,1]:\n",
        "    for option2 in [0,1]:\n",
        "      for option3 in [0,1]:\n",
        "          subgroups.append(df.loc[((df[\"applicant_race-1\"]==option) & (df[\"applicant_ethnicity-1\"]==option2) & (df[\"applicant_sex\"]==option3))])\n",
        "          subgroups_names.append(R[option-1]+\"_\"+E[option2-1]+\"_\"+S[option3-1])\n",
        "  subgroups_app = []\n",
        "  subgroups_dec = []\n",
        "  percent = []\n",
        "  for s in subgroups:\n",
        "    #print(s[\"action_taken\"])\n",
        "    subgroups_app.append(len(s[s[\"action_taken\"]==1]))\n",
        "    subgroups_dec.append(len(s[s[\"action_taken\"]==0]))\n",
        "    if(len(s)!=0):\n",
        "      percent.append(round(100*len(s[s[\"action_taken\"]==1])/len(s),2))\n",
        "    else:\n",
        "      percent.append(0)\n",
        "    #print(percent[-1],\"%\")\n",
        "\n",
        "  fig = plt.figure()\n",
        "  if(bool_app_dec):\n",
        "    ax = fig.add_axes([0,0,1,1])\n",
        "    ax.bar(subgroups_names,subgroups_app, color='r')\n",
        "    ax.bar(subgroups_names,subgroups_dec, bottom=subgroups_app, color='b')\n",
        "    ax.legend(labels=['Accepted', 'Denied'])\n",
        "  if(bool_percent):\n",
        "    ax2 = fig.add_axes([1,0,1,1])\n",
        "    ax2.bar(subgroups_names,percent)\n",
        "    ax2.legend(labels=['Approval rate'])\n",
        "  if(bool_app_dec or bool_percent):\n",
        "    plt.show()\n",
        "  return (subgroups,subgroups_names,subgroups_app,subgroups_dec,percent)"
      ]
    },
    {
      "cell_type": "code",
      "source": [
        "subgroups = show_subgroups(subsample,True,True)"
      ],
      "metadata": {
        "colab": {
          "base_uri": "https://localhost:8080/",
          "height": 337
        },
        "id": "OVX9z1E6xJO1",
        "outputId": "5afa9cd2-2f68-4a3b-e143-e1d9b7c4a3c3"
      },
      "execution_count": null,
      "outputs": [
        {
          "output_type": "display_data",
          "data": {
            "text/plain": [
              "<Figure size 432x288 with 2 Axes>"
            ],
            "image/png": "[encoded data removed]"
          },
          "metadata": {
            "needs_background": "light"
          }
        }
      ]
    },
    {
      "cell_type": "code",
      "source": [
        "#print([round(subgroups[2][s] / len(subgroups[0][s]),3) for s in range(len(subgroups[0]))]) #print(subgroups[4]) #the same\n",
        "yes_contribution = [round(s / sum(subgroups[2]),3) for s in subgroups[2]]\n",
        "instance_contribution = [round(len(s) / len(subsample),3) for s in subgroups[0]]\n",
        "print(\"contribution to total approvals:\",yes_contribution)\n",
        "print(\"contribution to total amount   :\",instance_contribution)\n",
        "plot_contribution = pd.DataFrame({'Yes_contribution': yes_contribution,\n",
        "                   'Instance_contribution': instance_contribution}, index=range(len(subgroups[0])))\n",
        "ax = plot_contribution.plot.bar(rot=0)"
      ],
      "metadata": {
        "colab": {
          "base_uri": "https://localhost:8080/",
          "height": 300
        },
        "id": "gAledkqFJwN8",
        "outputId": "6310f4b6-261d-469c-93da-1a1a70089d30"
      },
      "execution_count": null,
      "outputs": [
        {
          "output_type": "stream",
          "name": "stdout",
          "text": [
            "contribution to total approvals: [0.581, 0.241, 0.024, 0.011, 0.076, 0.066, 0.001, 0.001]\n",
            "contribution to total amount   : [0.555, 0.24, 0.023, 0.011, 0.087, 0.081, 0.001, 0.001]\n"
          ]
        },
        {
          "output_type": "display_data",
          "data": {
            "text/plain": [
              "<Figure size 432x288 with 1 Axes>"
            ],
            "image/png": "[encoded data removed]"
          },
          "metadata": {
            "needs_background": "light"
          }
        }
      ]
    },
    {
      "cell_type": "code",
      "execution_count": null,
      "metadata": {
        "id": "u7D2kpw75hbO",
        "outputId": "18af2124-8a83-4b4a-cebb-a9ac0eeeabdf",
        "colab": {
          "base_uri": "https://localhost:8080/",
          "height": 69
        }
      },
      "outputs": [
        {
          "output_type": "execute_result",
          "data": {
            "text/plain": [
              "'\\nsubgroups = []\\nsubgroups_names = []\\nR = [\"W\",\"B\"]\\nE = [\"NH\",\"H\"]\\nS = [\"M\",\"F\"]\\nfor option in [0,1]:\\n  for option2 in [0,1]:\\n    for option3 in [0,1]:\\n        subgroups.append(subsample.loc[((subsample[\"applicant_race-1\"]==option) & (subsample[\"applicant_ethnicity-1\"]==option2) & (subsample[\"applicant_sex\"]==option3))])\\n        subgroups_names.append(R[option-1]+\"_\"+E[option2-1]+\"_\"+S[option3-1])\\nlen(subgroups)\\n'"
            ],
            "application/vnd.google.colaboratory.intrinsic+json": {
              "type": "string"
            }
          },
          "metadata": {},
          "execution_count": 15
        }
      ],
      "source": [
        "\"\"\"\n",
        "subgroups = []\n",
        "subgroups_names = []\n",
        "R = [\"W\",\"B\"]\n",
        "E = [\"NH\",\"H\"]\n",
        "S = [\"M\",\"F\"]\n",
        "for option in [0,1]:\n",
        "  for option2 in [0,1]:\n",
        "    for option3 in [0,1]:\n",
        "        subgroups.append(subsample.loc[((subsample[\"applicant_race-1\"]==option) & (subsample[\"applicant_ethnicity-1\"]==option2) & (subsample[\"applicant_sex\"]==option3))])\n",
        "        subgroups_names.append(R[option-1]+\"_\"+E[option2-1]+\"_\"+S[option3-1])\n",
        "len(subgroups)\n",
        "\"\"\""
      ]
    },
    {
      "cell_type": "code",
      "execution_count": null,
      "metadata": {
        "id": "bfpn5i618YC3",
        "outputId": "fbf1a128-251d-4523-e91b-fc197679e6f1",
        "colab": {
          "base_uri": "https://localhost:8080/",
          "height": 86
        }
      },
      "outputs": [
        {
          "output_type": "execute_result",
          "data": {
            "text/plain": [
              "'\\nsubgroups_app = []\\nsubgroups_dec = []\\npercent = []\\nfor s in subgroups:\\n  subgroups_app.append(len(s[s[\"action_taken\"]==1]))\\n  subgroups_dec.append(len(s[s[\"action_taken\"]==0]))\\n  percent.append(round(100*len(s[s[\"action_taken\"]==1])/len(s),2))\\n  print(len(s[s[\"action_taken\"]==1]),len(s[s[\"action_taken\"]==0]),round(100*len(s[s[\"action_taken\"]==1])/len(s),2),\"%\")\\n\\n\\nfig = plt.figure()\\nax = fig.add_axes([0,0,2,2])\\nax.bar(subgroups_names,subgroups_app, color=\\'r\\')\\nax.bar(subgroups_names,subgroups_dec, bottom=subgroups_app, color=\\'b\\')\\nax.legend(labels=[\\'Accepted\\', \\'Denied\\'])\\nplt.show()\\n'"
            ],
            "application/vnd.google.colaboratory.intrinsic+json": {
              "type": "string"
            }
          },
          "metadata": {},
          "execution_count": 16
        }
      ],
      "source": [
        "\"\"\"\n",
        "subgroups_app = []\n",
        "subgroups_dec = []\n",
        "percent = []\n",
        "for s in subgroups:\n",
        "  subgroups_app.append(len(s[s[\"action_taken\"]==1]))\n",
        "  subgroups_dec.append(len(s[s[\"action_taken\"]==0]))\n",
        "  percent.append(round(100*len(s[s[\"action_taken\"]==1])/len(s),2))\n",
        "  print(len(s[s[\"action_taken\"]==1]),len(s[s[\"action_taken\"]==0]),round(100*len(s[s[\"action_taken\"]==1])/len(s),2),\"%\")\n",
        "\n",
        "\n",
        "fig = plt.figure()\n",
        "ax = fig.add_axes([0,0,2,2])\n",
        "ax.bar(subgroups_names,subgroups_app, color='r')\n",
        "ax.bar(subgroups_names,subgroups_dec, bottom=subgroups_app, color='b')\n",
        "ax.legend(labels=['Accepted', 'Denied'])\n",
        "plt.show()\n",
        "\"\"\""
      ]
    },
    {
      "cell_type": "code",
      "source": [
        "\"\"\"\n",
        "fig = plt.figure()\n",
        "ax = fig.add_axes([0,0,1,1])\n",
        "ax.set_ylim(65, 90)\n",
        "ax.bar(subgroups_names,percent)\n",
        "ax.legend(labels=['Approval rate'])\n",
        "plt.show()\n",
        "\"\"\""
      ],
      "metadata": {
        "id": "EVjavavlIJfn",
        "outputId": "c4455866-d293-4ff0-ceb7-2738202996b9",
        "colab": {
          "base_uri": "https://localhost:8080/",
          "height": 52
        }
      },
      "execution_count": null,
      "outputs": [
        {
          "output_type": "execute_result",
          "data": {
            "text/plain": [
              "\"\\nfig = plt.figure()\\nax = fig.add_axes([0,0,1,1])\\nax.set_ylim(65, 90)\\nax.bar(subgroups_names,percent)\\nax.legend(labels=['Approval rate'])\\nplt.show()\\n\""
            ],
            "application/vnd.google.colaboratory.intrinsic+json": {
              "type": "string"
            }
          },
          "metadata": {},
          "execution_count": 17
        }
      ]
    },
    {
      "cell_type": "code",
      "execution_count": null,
      "metadata": {
        "id": "UcTfvuKoXqzu"
      },
      "outputs": [],
      "source": [
        "\"\"\"\n",
        "for i in range(simulatedpeopleN):\n",
        "  properties_i = {\"ID\":i,\"Happiness\":0,\"Money\":random.randint(0,1000),\"NeedofMoney\":random.randint(1,1000)}\n",
        "  properties_i['Happiness'] = 100 * properties_i['Money'] / properties_i['NeedofMoney']\n",
        "  dicPeople[i] = properties_i\n",
        "print([item[\"Happiness\"] for item in dicPeople.values() if item[\"Happiness\"]>50])\n",
        "\"\"\"\n",
        "import math\n",
        "\n",
        "#functions: 1-have/need, 2-need/70K limit, 3-suma de individus happy, dues persones 25% happy sumades son el mateix que una 50%?\n",
        "def dimReturns(had,need): #https://stackoverflow.com/questions/2813621/how-do-you-create-a-formula-that-has-diminishing-returns\n",
        "  #x = had/need\n",
        "  #return 1 / (1 + math.exp(-x))\n",
        "  #return (had*had) / (had*need) + 0\n",
        "  #print(had,need)\n",
        "  x = had/max(had,need) #SUPER REVISABLE TOT (aixo es per evitar divisio per 0 i/o overflow)\n",
        "  return 100*(1/(1+100000**-(x-0.5)))\n",
        "\n",
        "class Person():\n",
        "  def __init__(self,i,p):\n",
        "        self.id = i\n",
        "        self.balance = 0 #could be a different initial b for each\n",
        "        self.petition = p\n",
        "        #self.need = n\n",
        "        self.happiness = 0.0\n",
        "        self.status = -1\n",
        "  def updateH(self):\n",
        "    self.happiness = dimReturns(self.balance,self.petition)\n",
        "    return self.happiness"
      ]
    },
    {
      "cell_type": "code",
      "execution_count": null,
      "metadata": {
        "id": "THOTfNUKe_hV",
        "outputId": "0e559128-88be-4b3f-f2cb-e53671fdb452",
        "colab": {
          "base_uri": "https://localhost:8080/"
        }
      },
      "outputs": [
        {
          "output_type": "stream",
          "name": "stdout",
          "text": [
            "998322 223639\n",
            "1221961 99 36477113\n",
            "998322 223639\n",
            "1221961 99 0\n"
          ]
        }
      ],
      "source": [
        "print(len(subsample.loc[subsample[\"action_taken\"]==1]),len(subsample.loc[subsample[\"action_taken\"]==0]))\n",
        "print(len(subsample),len(subsample.columns),subsample.isnull().values.sum())\n",
        "\n",
        "#thr=0.25\n",
        "#for col in subsample.columns:\n",
        "#  if (subsample[col].isnull().sum()>thr*len(subsample)):\n",
        "    #subsample.drop(columns=[col])\n",
        "#    print(col)\n",
        "\n",
        "#subsample = subsample.dropna(axis=1,thresh=thr*len(subsample))\n",
        "#subsample = subsample.dropna(axis=0)\n",
        "\n",
        "# Iterate over each column of cc_apps\n",
        "for col in subsample.columns:\n",
        "    # Check if the column is of object type\n",
        "    if subsample[col].dtypes == 'object':\n",
        "        # Impute with the most frequent value\n",
        "        subsample = subsample.fillna(subsample[col].value_counts().index[0])\n",
        "\n",
        "\n",
        "print(len(subsample.loc[subsample[\"action_taken\"]==1]),len(subsample.loc[subsample[\"action_taken\"]==0]))\n",
        "\n",
        "# Count the number of NaNs in the dataset and print the counts to verify\n",
        "print(len(subsample),len(subsample.columns),subsample.isnull().values.sum())\n"
      ]
    },
    {
      "cell_type": "code",
      "source": [
        "subsample[\"action_taken\"].unique()"
      ],
      "metadata": {
        "id": "dooBqxQsG69u",
        "outputId": "9713117c-9630-4d91-a5d0-40acef0fabc2",
        "colab": {
          "base_uri": "https://localhost:8080/"
        }
      },
      "execution_count": null,
      "outputs": [
        {
          "output_type": "execute_result",
          "data": {
            "text/plain": [
              "array([1, 0])"
            ]
          },
          "metadata": {},
          "execution_count": 20
        }
      ]
    },
    {
      "cell_type": "code",
      "execution_count": null,
      "metadata": {
        "id": "IulxPGyIemhD"
      },
      "outputs": [],
      "source": [
        "# Import LabelEncoder\n",
        "#from sklearn.preprocessing import OrdinalEncoder\n",
        "\n",
        "#oe = OrdinalEncoder() \n",
        "\n",
        "#for col in subsample.columns:\n",
        "#    if subsample[col].dtype=='object':\n",
        "#        subsample[col] = oe.fit_transform(subsample[[col]])"
      ]
    },
    {
      "cell_type": "code",
      "source": [
        "cols = [f_ for f_ in subsample.columns if subsample[f_].dtype != 'object']\n",
        "features = cols\n",
        "\n",
        "list_to_remove = ['action_taken','purchaser_type',\n",
        "                  'denial_reason_1','denial_reason_2','denial_reason_3','sequence_number','application_date_indicator']\n",
        "\n",
        "features = list(set(cols).difference(set(list_to_remove)))\n",
        "\n",
        "X = subsample[features]\n",
        "y = subsample['action_taken']"
      ],
      "metadata": {
        "id": "x8-fa-NFwbRW"
      },
      "execution_count": null,
      "outputs": []
    },
    {
      "cell_type": "code",
      "source": [
        "def partitions(n_partitions, X, y):\n",
        "  X_partitions = []\n",
        "  y_partitions = []\n",
        "  size_partitions = math.floor(len(X)/n_partitions)\n",
        "  for p in range(n_partitions):\n",
        "    X_partitions.append(X[p*size_partitions:(p+1)*size_partitions])  \n",
        "    y_partitions.append(y[p*size_partitions:(p+1)*size_partitions])\n",
        "  print(len(X), [sum(len(item) for item in X_partitions)], len(X_partitions[0]))\n",
        "  return X_partitions, y_partitions"
      ],
      "metadata": {
        "id": "ils_0oolw-NO"
      },
      "execution_count": null,
      "outputs": []
    },
    {
      "cell_type": "code",
      "source": [
        "X_fractions, y_fractions = partitions(100, X, y)\n",
        "\n",
        "scaler = MinMaxScaler(feature_range=(0, 1))\n",
        "for x in range(len(X_fractions)):\n",
        "  X_fractions[x] = scaler.fit_transform(X_fractions[x])\n",
        "\n",
        "model = LogisticRegression(solver=\"liblinear\")\n",
        "\n",
        "first_part_scores_dict = cross_validate(model,X_fractions[0],y_fractions[0],cv=5, return_estimator=True)\n",
        "model = first_part_scores_dict[\"estimator\"][0] \n",
        "model.score(X_fractions[1],y_fractions[1])\n"
      ],
      "metadata": {
        "id": "uhpQtQHcy5MA",
        "outputId": "c56729c0-8f7a-4e65-cc96-47978ae25d75",
        "colab": {
          "base_uri": "https://localhost:8080/"
        }
      },
      "execution_count": null,
      "outputs": [
        {
          "output_type": "stream",
          "name": "stdout",
          "text": [
            "1221961 [1221900] 12219\n"
          ]
        },
        {
          "output_type": "execute_result",
          "data": {
            "text/plain": [
              "0.9707832064817088"
            ]
          },
          "metadata": {},
          "execution_count": 24
        }
      ]
    },
    {
      "cell_type": "code",
      "source": [
        "for x in range(len(X_fractions)):\n",
        "  print(x,show_subgroups(create_df(X_fractions[x],X.columns,y_fractions[x],\"action_taken\"),False,False)[4])"
      ],
      "metadata": {
        "id": "-tCNM97FE2o_",
        "outputId": "c2b0060c-ebec-4cc4-e45a-3d0d83d295e7",
        "colab": {
          "base_uri": "https://localhost:8080/",
          "height": 1000
        }
      },
      "execution_count": null,
      "outputs": [
        {
          "output_type": "stream",
          "name": "stdout",
          "text": [
            "0 [90.19, 89.33, 79.74, 80.95, 67.8, 66.67, 80.0, 42.86]\n",
            "1 [94.63, 91.62, 90.23, 95.37, 78.62, 74.45, 87.5, 100.0]\n",
            "2 [78.91, 70.44, 73.06, 60.17, 48.91, 43.69, 76.92, 41.18]\n",
            "3 [91.13, 89.12, 82.24, 70.43, 77.82, 78.19, 75.0, 47.06]\n",
            "4 [80.04, 75.39, 74.62, 55.29, 66.54, 65.06, 80.0, 40.0]\n",
            "5 [84.95, 80.63, 79.58, 82.35, 71.27, 70.6, 80.95, 66.67]\n",
            "6 [87.85, 86.22, 86.52, 85.52, 77.3, 76.27, 92.31, 84.21]\n",
            "7 [85.42, 83.74, 81.28, 76.0, 70.94, 70.81, 64.0, 61.11]\n",
            "8 [93.24, 92.78, 83.66, 82.61, 83.35, 82.08, 88.89, 60.0]\n",
            "9 [68.49, 61.88, 50.0, 41.96, 37.78, 36.52, 26.32, 44.44]\n",
            "10 [74.03, 69.18, 65.85, 62.5, 50.08, 50.91, 62.5, 60.0]\n",
            "11 [68.28, 62.22, 57.0, 59.76, 42.06, 39.92, 41.18, 45.83]\n",
            "12 [84.92, 83.63, 80.52, 78.18, 78.45, 74.57, 79.41, 59.26]\n",
            "13 [85.65, 85.73, 80.3, 84.27, 79.12, 78.94, 71.43, 70.59]\n",
            "14 [86.25, 85.72, 86.02, 83.33, 78.28, 79.23, 64.71, 86.67]\n",
            "15 [88.28, 87.84, 85.28, 88.54, 81.44, 77.94, 66.67, 75.0]\n",
            "16 [88.59, 88.66, 86.21, 82.0, 76.21, 76.25, 71.43, 91.67]\n",
            "17 [95.16, 94.87, 90.85, 88.59, 85.79, 85.53, 88.89, 85.71]\n",
            "18 [91.4, 89.99, 88.13, 89.74, 75.09, 73.63, 55.56, 53.85]\n",
            "19 [90.75, 90.17, 89.92, 89.92, 87.8, 88.4, 81.48, 83.87]\n",
            "20 [87.78, 74.33, 90.54, 82.61, 80.73, 69.48, 87.5, 85.71]\n",
            "21 [61.79, 45.85, 58.82, 38.14, 39.76, 27.39, 70.0, 57.14]\n"
          ]
        },
        {
          "output_type": "stream",
          "name": "stderr",
          "text": [
            "/usr/local/lib/python3.7/dist-packages/ipykernel_launcher.py:26: RuntimeWarning: More than 20 figures have been opened. Figures created through the pyplot interface (`matplotlib.pyplot.figure`) are retained until explicitly closed and may consume too much memory. (To control this warning, see the rcParam `figure.max_open_warning`).\n"
          ]
        },
        {
          "output_type": "stream",
          "name": "stdout",
          "text": [
            "22 [66.78, 58.97, 66.5, 60.68, 37.65, 39.98, 50.0, 33.33]\n",
            "23 [85.34, 80.51, 74.44, 70.0, 61.29, 65.18, 50.0, 50.0]\n",
            "24 [69.45, 59.61, 83.33, 73.15, 51.64, 40.2, 78.57, 52.38]\n",
            "25 [95.33, 94.73, 87.1, 87.69, 81.32, 78.89, 92.59, 96.88]\n",
            "26 [93.25, 91.97, 91.24, 86.96, 84.71, 81.05, 89.47, 100.0]\n",
            "27 [77.12, 79.04, 70.77, 72.73, 60.29, 64.85, 71.43, 64.71]\n",
            "28 [91.13, 89.34, 89.59, 89.29, 80.66, 76.75, 83.33, 41.67]\n",
            "29 [80.92, 78.39, 79.38, 70.07, 62.0, 59.93, 72.73, 60.0]\n",
            "30 [91.84, 90.7, 87.76, 81.48, 81.37, 81.7, 73.33, 100.0]\n",
            "31 [82.55, 81.46, 76.71, 79.07, 68.46, 66.42, 83.33, 84.62]\n",
            "32 [90.6, 90.44, 89.44, 86.89, 81.81, 79.63, 85.0, 69.57]\n",
            "33 [94.88, 95.46, 94.8, 95.13, 89.09, 90.12, 92.31, 81.82]\n",
            "34 [92.54, 90.76, 87.63, 84.97, 83.7, 82.03, 89.47, 76.47]\n",
            "35 [91.56, 90.1, 93.37, 85.96, 81.9, 82.27, 92.86, 60.0]\n",
            "36 [86.82, 85.43, 82.0, 82.88, 83.04, 84.23, 90.91, 95.83]\n",
            "37 [91.2, 90.0, 91.19, 83.8, 87.37, 87.59, 68.75, 100.0]\n",
            "38 [92.27, 90.65, 93.41, 91.94, 83.77, 84.25, 92.86, 100.0]\n",
            "39 [73.45, 66.55, 69.3, 64.6, 58.44, 57.12, 47.62, 58.82]\n",
            "40 [71.26, 75.25, 65.3, 73.81, 37.45, 46.92, 30.0, 75.0]\n",
            "41 [82.63, 80.76, 75.63, 70.97, 51.38, 48.02, 58.82, 45.24]\n",
            "42 [73.29, 66.78, 69.55, 63.43, 58.18, 57.83, 57.69, 40.0]\n",
            "43 [95.1, 93.75, 88.09, 91.16, 85.86, 86.03, 86.67, 77.78]\n",
            "44 [93.54, 92.73, 89.84, 88.11, 80.08, 79.45, 91.3, 84.62]\n",
            "45 [91.88, 91.41, 84.31, 85.06, 82.35, 81.32, 80.0, 75.0]\n",
            "46 [92.1, 90.96, 89.32, 89.71, 88.72, 85.59, 86.41, 77.0]\n",
            "47 [96.57, 93.7, 96.46, 88.89, 93.21, 90.31, 100.0, 100.0]\n",
            "48 [88.78, 86.3, 82.01, 83.82, 76.07, 72.25, 75.0, 96.88]\n",
            "49 [82.05, 76.24, 80.07, 78.23, 63.8, 58.02, 66.67, 0.0]\n",
            "50 [91.92, 91.05, 91.3, 86.21, 78.27, 75.96, 100.0, 75.0]\n",
            "51 [94.32, 91.5, 85.24, 83.89, 89.72, 85.82, 75.51, 53.97]\n",
            "52 [74.86, 67.59, 79.58, 73.02, 50.23, 39.79, 33.33, 23.08]\n",
            "53 [92.21, 89.45, 90.49, 84.68, 79.95, 81.41, 75.0, 100.0]\n",
            "54 [90.64, 87.68, 88.6, 86.57, 74.4, 65.61, 60.0, 100.0]\n",
            "55 [80.66, 77.27, 79.8, 78.21, 68.29, 66.29, 42.86, 100.0]\n",
            "56 [84.7, 82.88, 80.54, 72.82, 70.69, 66.01, 61.54, 50.0]\n",
            "57 [66.43, 44.72, 65.6, 61.9, 39.91, 24.46, 38.89, 23.08]\n",
            "58 [79.98, 73.29, 78.79, 82.53, 50.1, 47.39, 75.0, 23.08]\n",
            "59 [76.54, 65.24, 77.33, 75.0, 54.45, 40.31, 62.5, 38.46]\n",
            "60 [89.92, 88.12, 86.7, 74.56, 81.1, 80.24, 83.33, 100.0]\n",
            "61 [85.37, 79.49, 72.99, 71.48, 76.9, 76.82, 50.0, 66.67]\n",
            "62 [90.34, 88.66, 87.57, 86.81, 83.71, 77.64, 100.0, 100.0]\n",
            "63 [80.83, 77.89, 75.25, 79.22, 64.11, 63.11, 83.33, 100.0]\n",
            "64 [94.21, 92.64, 92.7, 91.8, 83.25, 83.39, 85.71, 100.0]\n",
            "65 [93.75, 92.77, 87.16, 93.9, 86.78, 81.82, 100.0, 75.0]\n",
            "66 [91.04, 90.25, 87.02, 85.19, 76.05, 69.62, 100.0, 100.0]\n",
            "67 [93.37, 89.12, 92.51, 84.92, 85.26, 73.88, 68.57, 43.18]\n",
            "68 [92.51, 91.59, 88.02, 89.13, 87.48, 84.87, 68.75, 80.0]\n",
            "69 [85.35, 83.67, 89.32, 73.4, 75.93, 69.22, 71.43, 50.0]\n",
            "70 [83.44, 74.24, 81.29, 82.28, 49.81, 35.53, 50.0, 57.14]\n",
            "71 [90.66, 89.08, 86.82, 84.54, 81.89, 84.04, 75.0, 71.43]\n",
            "72 [81.58, 79.5, 80.51, 80.43, 69.74, 69.52, 83.33, 88.89]\n",
            "73 [91.87, 87.92, 88.7, 86.84, 80.36, 78.84, 85.71, 100.0]\n",
            "74 [84.72, 81.38, 76.14, 73.26, 66.09, 63.27, 66.67, 60.0]\n",
            "75 [70.52, 64.76, 63.6, 50.38, 48.28, 41.06, 44.44, 40.0]\n",
            "76 [85.46, 83.84, 80.42, 77.27, 75.89, 75.07, 88.89, 57.14]\n",
            "77 [85.55, 84.32, 84.97, 81.4, 78.04, 77.23, 100.0, 100.0]\n",
            "78 [91.15, 91.03, 87.89, 90.91, 79.86, 78.62, 75.0, 100.0]\n",
            "79 [92.7, 93.37, 91.07, 89.58, 84.64, 85.26, 66.67, 87.5]\n",
            "80 [94.8, 93.51, 91.57, 95.0, 91.48, 91.33, 100.0, 100.0]\n",
            "81 [81.4, 75.19, 73.48, 61.95, 70.44, 60.37, 50.0, 62.5]\n",
            "82 [65.31, 47.76, 66.32, 52.7, 37.83, 21.85, 85.71, 50.0]\n",
            "83 [66.97, 60.88, 51.92, 57.14, 44.08, 51.64, 63.64, 50.0]\n",
            "84 [83.35, 79.48, 72.54, 64.89, 58.59, 57.23, 20.0, 75.0]\n",
            "85 [62.34, 52.11, 66.87, 61.29, 41.4, 29.3, 57.14, 57.14]\n",
            "86 [81.64, 82.57, 80.15, 76.74, 71.56, 69.63, 60.0, 33.33]\n",
            "87 [92.33, 92.48, 94.44, 90.0, 80.79, 82.01, 72.73, 87.5]\n",
            "88 [84.41, 78.93, 78.53, 65.52, 62.32, 52.52, 63.64, 66.67]\n",
            "89 [91.65, 91.52, 85.78, 86.02, 80.26, 74.85, 80.0, 80.0]\n",
            "90 [74.26, 72.9, 67.35, 66.67, 66.26, 65.37, 50.0, 0.0]\n",
            "91 [94.13, 94.02, 95.81, 98.36, 90.5, 84.68, 100.0, 50.0]\n",
            "92 [91.27, 90.07, 92.65, 91.57, 83.51, 81.7, 100.0, 80.0]\n",
            "93 [94.08, 93.05, 89.41, 88.75, 89.61, 86.85, 100.0, 100.0]\n",
            "94 [90.88, 91.64, 91.24, 88.89, 87.03, 86.32, 78.57, 66.67]\n",
            "95 [91.51, 90.72, 90.91, 88.16, 84.95, 83.66, 91.67, 80.0]\n",
            "96 [80.99, 75.6, 69.46, 66.28, 54.13, 57.24, 80.0, 80.0]\n",
            "97 [78.84, 81.1, 76.21, 88.24, 49.51, 52.63, 71.43, 75.0]\n",
            "98 [75.92, 70.73, 68.89, 59.84, 58.06, 57.01, 83.33, 62.5]\n",
            "99 [94.7, 94.96, 89.24, 95.38, 87.27, 84.14, 91.67, 50.0]\n"
          ]
        },
        {
          "output_type": "display_data",
          "data": {
            "text/plain": [
              "<Figure size 432x288 with 0 Axes>"
            ]
          },
          "metadata": {}
        },
        {
          "output_type": "display_data",
          "data": {
            "text/plain": [
              "<Figure size 432x288 with 0 Axes>"
            ]
          },
          "metadata": {}
        },
        {
          "output_type": "display_data",
          "data": {
            "text/plain": [
              "<Figure size 432x288 with 0 Axes>"
            ]
          },
          "metadata": {}
        },
        {
          "output_type": "display_data",
          "data": {
            "text/plain": [
              "<Figure size 432x288 with 0 Axes>"
            ]
          },
          "metadata": {}
        },
        {
          "output_type": "display_data",
          "data": {
            "text/plain": [
              "<Figure size 432x288 with 0 Axes>"
            ]
          },
          "metadata": {}
        },
        {
          "output_type": "display_data",
          "data": {
            "text/plain": [
              "<Figure size 432x288 with 0 Axes>"
            ]
          },
          "metadata": {}
        },
        {
          "output_type": "display_data",
          "data": {
            "text/plain": [
              "<Figure size 432x288 with 0 Axes>"
            ]
          },
          "metadata": {}
        },
        {
          "output_type": "display_data",
          "data": {
            "text/plain": [
              "<Figure size 432x288 with 0 Axes>"
            ]
          },
          "metadata": {}
        },
        {
          "output_type": "display_data",
          "data": {
            "text/plain": [
              "<Figure size 432x288 with 0 Axes>"
            ]
          },
          "metadata": {}
        },
        {
          "output_type": "display_data",
          "data": {
            "text/plain": [
              "<Figure size 432x288 with 0 Axes>"
            ]
          },
          "metadata": {}
        },
        {
          "output_type": "display_data",
          "data": {
            "text/plain": [
              "<Figure size 432x288 with 0 Axes>"
            ]
          },
          "metadata": {}
        },
        {
          "output_type": "display_data",
          "data": {
            "text/plain": [
              "<Figure size 432x288 with 0 Axes>"
            ]
          },
          "metadata": {}
        },
        {
          "output_type": "display_data",
          "data": {
            "text/plain": [
              "<Figure size 432x288 with 0 Axes>"
            ]
          },
          "metadata": {}
        },
        {
          "output_type": "display_data",
          "data": {
            "text/plain": [
              "<Figure size 432x288 with 0 Axes>"
            ]
          },
          "metadata": {}
        },
        {
          "output_type": "display_data",
          "data": {
            "text/plain": [
              "<Figure size 432x288 with 0 Axes>"
            ]
          },
          "metadata": {}
        },
        {
          "output_type": "display_data",
          "data": {
            "text/plain": [
              "<Figure size 432x288 with 0 Axes>"
            ]
          },
          "metadata": {}
        },
        {
          "output_type": "display_data",
          "data": {
            "text/plain": [
              "<Figure size 432x288 with 0 Axes>"
            ]
          },
          "metadata": {}
        },
        {
          "output_type": "display_data",
          "data": {
            "text/plain": [
              "<Figure size 432x288 with 0 Axes>"
            ]
          },
          "metadata": {}
        },
        {
          "output_type": "display_data",
          "data": {
            "text/plain": [
              "<Figure size 432x288 with 0 Axes>"
            ]
          },
          "metadata": {}
        },
        {
          "output_type": "display_data",
          "data": {
            "text/plain": [
              "<Figure size 432x288 with 0 Axes>"
            ]
          },
          "metadata": {}
        },
        {
          "output_type": "display_data",
          "data": {
            "text/plain": [
              "<Figure size 432x288 with 0 Axes>"
            ]
          },
          "metadata": {}
        },
        {
          "output_type": "display_data",
          "data": {
            "text/plain": [
              "<Figure size 432x288 with 0 Axes>"
            ]
          },
          "metadata": {}
        },
        {
          "output_type": "display_data",
          "data": {
            "text/plain": [
              "<Figure size 432x288 with 0 Axes>"
            ]
          },
          "metadata": {}
        },
        {
          "output_type": "display_data",
          "data": {
            "text/plain": [
              "<Figure size 432x288 with 0 Axes>"
            ]
          },
          "metadata": {}
        },
        {
          "output_type": "display_data",
          "data": {
            "text/plain": [
              "<Figure size 432x288 with 0 Axes>"
            ]
          },
          "metadata": {}
        },
        {
          "output_type": "display_data",
          "data": {
            "text/plain": [
              "<Figure size 432x288 with 0 Axes>"
            ]
          },
          "metadata": {}
        },
        {
          "output_type": "display_data",
          "data": {
            "text/plain": [
              "<Figure size 432x288 with 0 Axes>"
            ]
          },
          "metadata": {}
        },
        {
          "output_type": "display_data",
          "data": {
            "text/plain": [
              "<Figure size 432x288 with 0 Axes>"
            ]
          },
          "metadata": {}
        },
        {
          "output_type": "display_data",
          "data": {
            "text/plain": [
              "<Figure size 432x288 with 0 Axes>"
            ]
          },
          "metadata": {}
        },
        {
          "output_type": "display_data",
          "data": {
            "text/plain": [
              "<Figure size 432x288 with 0 Axes>"
            ]
          },
          "metadata": {}
        },
        {
          "output_type": "display_data",
          "data": {
            "text/plain": [
              "<Figure size 432x288 with 0 Axes>"
            ]
          },
          "metadata": {}
        },
        {
          "output_type": "display_data",
          "data": {
            "text/plain": [
              "<Figure size 432x288 with 0 Axes>"
            ]
          },
          "metadata": {}
        },
        {
          "output_type": "display_data",
          "data": {
            "text/plain": [
              "<Figure size 432x288 with 0 Axes>"
            ]
          },
          "metadata": {}
        },
        {
          "output_type": "display_data",
          "data": {
            "text/plain": [
              "<Figure size 432x288 with 0 Axes>"
            ]
          },
          "metadata": {}
        },
        {
          "output_type": "display_data",
          "data": {
            "text/plain": [
              "<Figure size 432x288 with 0 Axes>"
            ]
          },
          "metadata": {}
        },
        {
          "output_type": "display_data",
          "data": {
            "text/plain": [
              "<Figure size 432x288 with 0 Axes>"
            ]
          },
          "metadata": {}
        },
        {
          "output_type": "display_data",
          "data": {
            "text/plain": [
              "<Figure size 432x288 with 0 Axes>"
            ]
          },
          "metadata": {}
        },
        {
          "output_type": "display_data",
          "data": {
            "text/plain": [
              "<Figure size 432x288 with 0 Axes>"
            ]
          },
          "metadata": {}
        },
        {
          "output_type": "display_data",
          "data": {
            "text/plain": [
              "<Figure size 432x288 with 0 Axes>"
            ]
          },
          "metadata": {}
        },
        {
          "output_type": "display_data",
          "data": {
            "text/plain": [
              "<Figure size 432x288 with 0 Axes>"
            ]
          },
          "metadata": {}
        },
        {
          "output_type": "display_data",
          "data": {
            "text/plain": [
              "<Figure size 432x288 with 0 Axes>"
            ]
          },
          "metadata": {}
        },
        {
          "output_type": "display_data",
          "data": {
            "text/plain": [
              "<Figure size 432x288 with 0 Axes>"
            ]
          },
          "metadata": {}
        },
        {
          "output_type": "display_data",
          "data": {
            "text/plain": [
              "<Figure size 432x288 with 0 Axes>"
            ]
          },
          "metadata": {}
        },
        {
          "output_type": "display_data",
          "data": {
            "text/plain": [
              "<Figure size 432x288 with 0 Axes>"
            ]
          },
          "metadata": {}
        },
        {
          "output_type": "display_data",
          "data": {
            "text/plain": [
              "<Figure size 432x288 with 0 Axes>"
            ]
          },
          "metadata": {}
        },
        {
          "output_type": "display_data",
          "data": {
            "text/plain": [
              "<Figure size 432x288 with 0 Axes>"
            ]
          },
          "metadata": {}
        },
        {
          "output_type": "display_data",
          "data": {
            "text/plain": [
              "<Figure size 432x288 with 0 Axes>"
            ]
          },
          "metadata": {}
        },
        {
          "output_type": "display_data",
          "data": {
            "text/plain": [
              "<Figure size 432x288 with 0 Axes>"
            ]
          },
          "metadata": {}
        },
        {
          "output_type": "display_data",
          "data": {
            "text/plain": [
              "<Figure size 432x288 with 0 Axes>"
            ]
          },
          "metadata": {}
        },
        {
          "output_type": "display_data",
          "data": {
            "text/plain": [
              "<Figure size 432x288 with 0 Axes>"
            ]
          },
          "metadata": {}
        },
        {
          "output_type": "display_data",
          "data": {
            "text/plain": [
              "<Figure size 432x288 with 0 Axes>"
            ]
          },
          "metadata": {}
        },
        {
          "output_type": "display_data",
          "data": {
            "text/plain": [
              "<Figure size 432x288 with 0 Axes>"
            ]
          },
          "metadata": {}
        },
        {
          "output_type": "display_data",
          "data": {
            "text/plain": [
              "<Figure size 432x288 with 0 Axes>"
            ]
          },
          "metadata": {}
        },
        {
          "output_type": "display_data",
          "data": {
            "text/plain": [
              "<Figure size 432x288 with 0 Axes>"
            ]
          },
          "metadata": {}
        },
        {
          "output_type": "display_data",
          "data": {
            "text/plain": [
              "<Figure size 432x288 with 0 Axes>"
            ]
          },
          "metadata": {}
        },
        {
          "output_type": "display_data",
          "data": {
            "text/plain": [
              "<Figure size 432x288 with 0 Axes>"
            ]
          },
          "metadata": {}
        },
        {
          "output_type": "display_data",
          "data": {
            "text/plain": [
              "<Figure size 432x288 with 0 Axes>"
            ]
          },
          "metadata": {}
        },
        {
          "output_type": "display_data",
          "data": {
            "text/plain": [
              "<Figure size 432x288 with 0 Axes>"
            ]
          },
          "metadata": {}
        },
        {
          "output_type": "display_data",
          "data": {
            "text/plain": [
              "<Figure size 432x288 with 0 Axes>"
            ]
          },
          "metadata": {}
        },
        {
          "output_type": "display_data",
          "data": {
            "text/plain": [
              "<Figure size 432x288 with 0 Axes>"
            ]
          },
          "metadata": {}
        },
        {
          "output_type": "display_data",
          "data": {
            "text/plain": [
              "<Figure size 432x288 with 0 Axes>"
            ]
          },
          "metadata": {}
        },
        {
          "output_type": "display_data",
          "data": {
            "text/plain": [
              "<Figure size 432x288 with 0 Axes>"
            ]
          },
          "metadata": {}
        },
        {
          "output_type": "display_data",
          "data": {
            "text/plain": [
              "<Figure size 432x288 with 0 Axes>"
            ]
          },
          "metadata": {}
        },
        {
          "output_type": "display_data",
          "data": {
            "text/plain": [
              "<Figure size 432x288 with 0 Axes>"
            ]
          },
          "metadata": {}
        },
        {
          "output_type": "display_data",
          "data": {
            "text/plain": [
              "<Figure size 432x288 with 0 Axes>"
            ]
          },
          "metadata": {}
        },
        {
          "output_type": "display_data",
          "data": {
            "text/plain": [
              "<Figure size 432x288 with 0 Axes>"
            ]
          },
          "metadata": {}
        },
        {
          "output_type": "display_data",
          "data": {
            "text/plain": [
              "<Figure size 432x288 with 0 Axes>"
            ]
          },
          "metadata": {}
        },
        {
          "output_type": "display_data",
          "data": {
            "text/plain": [
              "<Figure size 432x288 with 0 Axes>"
            ]
          },
          "metadata": {}
        },
        {
          "output_type": "display_data",
          "data": {
            "text/plain": [
              "<Figure size 432x288 with 0 Axes>"
            ]
          },
          "metadata": {}
        },
        {
          "output_type": "display_data",
          "data": {
            "text/plain": [
              "<Figure size 432x288 with 0 Axes>"
            ]
          },
          "metadata": {}
        },
        {
          "output_type": "display_data",
          "data": {
            "text/plain": [
              "<Figure size 432x288 with 0 Axes>"
            ]
          },
          "metadata": {}
        },
        {
          "output_type": "display_data",
          "data": {
            "text/plain": [
              "<Figure size 432x288 with 0 Axes>"
            ]
          },
          "metadata": {}
        },
        {
          "output_type": "display_data",
          "data": {
            "text/plain": [
              "<Figure size 432x288 with 0 Axes>"
            ]
          },
          "metadata": {}
        },
        {
          "output_type": "display_data",
          "data": {
            "text/plain": [
              "<Figure size 432x288 with 0 Axes>"
            ]
          },
          "metadata": {}
        },
        {
          "output_type": "display_data",
          "data": {
            "text/plain": [
              "<Figure size 432x288 with 0 Axes>"
            ]
          },
          "metadata": {}
        },
        {
          "output_type": "display_data",
          "data": {
            "text/plain": [
              "<Figure size 432x288 with 0 Axes>"
            ]
          },
          "metadata": {}
        },
        {
          "output_type": "display_data",
          "data": {
            "text/plain": [
              "<Figure size 432x288 with 0 Axes>"
            ]
          },
          "metadata": {}
        },
        {
          "output_type": "display_data",
          "data": {
            "text/plain": [
              "<Figure size 432x288 with 0 Axes>"
            ]
          },
          "metadata": {}
        },
        {
          "output_type": "display_data",
          "data": {
            "text/plain": [
              "<Figure size 432x288 with 0 Axes>"
            ]
          },
          "metadata": {}
        },
        {
          "output_type": "display_data",
          "data": {
            "text/plain": [
              "<Figure size 432x288 with 0 Axes>"
            ]
          },
          "metadata": {}
        },
        {
          "output_type": "display_data",
          "data": {
            "text/plain": [
              "<Figure size 432x288 with 0 Axes>"
            ]
          },
          "metadata": {}
        },
        {
          "output_type": "display_data",
          "data": {
            "text/plain": [
              "<Figure size 432x288 with 0 Axes>"
            ]
          },
          "metadata": {}
        },
        {
          "output_type": "display_data",
          "data": {
            "text/plain": [
              "<Figure size 432x288 with 0 Axes>"
            ]
          },
          "metadata": {}
        },
        {
          "output_type": "display_data",
          "data": {
            "text/plain": [
              "<Figure size 432x288 with 0 Axes>"
            ]
          },
          "metadata": {}
        },
        {
          "output_type": "display_data",
          "data": {
            "text/plain": [
              "<Figure size 432x288 with 0 Axes>"
            ]
          },
          "metadata": {}
        },
        {
          "output_type": "display_data",
          "data": {
            "text/plain": [
              "<Figure size 432x288 with 0 Axes>"
            ]
          },
          "metadata": {}
        },
        {
          "output_type": "display_data",
          "data": {
            "text/plain": [
              "<Figure size 432x288 with 0 Axes>"
            ]
          },
          "metadata": {}
        },
        {
          "output_type": "display_data",
          "data": {
            "text/plain": [
              "<Figure size 432x288 with 0 Axes>"
            ]
          },
          "metadata": {}
        },
        {
          "output_type": "display_data",
          "data": {
            "text/plain": [
              "<Figure size 432x288 with 0 Axes>"
            ]
          },
          "metadata": {}
        },
        {
          "output_type": "display_data",
          "data": {
            "text/plain": [
              "<Figure size 432x288 with 0 Axes>"
            ]
          },
          "metadata": {}
        },
        {
          "output_type": "display_data",
          "data": {
            "text/plain": [
              "<Figure size 432x288 with 0 Axes>"
            ]
          },
          "metadata": {}
        },
        {
          "output_type": "display_data",
          "data": {
            "text/plain": [
              "<Figure size 432x288 with 0 Axes>"
            ]
          },
          "metadata": {}
        },
        {
          "output_type": "display_data",
          "data": {
            "text/plain": [
              "<Figure size 432x288 with 0 Axes>"
            ]
          },
          "metadata": {}
        },
        {
          "output_type": "display_data",
          "data": {
            "text/plain": [
              "<Figure size 432x288 with 0 Axes>"
            ]
          },
          "metadata": {}
        },
        {
          "output_type": "display_data",
          "data": {
            "text/plain": [
              "<Figure size 432x288 with 0 Axes>"
            ]
          },
          "metadata": {}
        },
        {
          "output_type": "display_data",
          "data": {
            "text/plain": [
              "<Figure size 432x288 with 0 Axes>"
            ]
          },
          "metadata": {}
        },
        {
          "output_type": "display_data",
          "data": {
            "text/plain": [
              "<Figure size 432x288 with 0 Axes>"
            ]
          },
          "metadata": {}
        },
        {
          "output_type": "display_data",
          "data": {
            "text/plain": [
              "<Figure size 432x288 with 0 Axes>"
            ]
          },
          "metadata": {}
        },
        {
          "output_type": "display_data",
          "data": {
            "text/plain": [
              "<Figure size 432x288 with 0 Axes>"
            ]
          },
          "metadata": {}
        },
        {
          "output_type": "display_data",
          "data": {
            "text/plain": [
              "<Figure size 432x288 with 0 Axes>"
            ]
          },
          "metadata": {}
        }
      ]
    },
    {
      "cell_type": "code",
      "source": [
        "percent_mat = []\n",
        "X_cummulative = X_fractions[0]\n",
        "y_cummulative = y_fractions[0]\n",
        "for x in range(len(X_fractions)-1):\n",
        "  i=x+1\n",
        "  X_cummulative = np.concatenate((X_cummulative, X_fractions[i]))\n",
        "  y_cummulative = np.concatenate((y_cummulative, model.predict(X_fractions[i])))\n",
        "  model.fit(X_cummulative,y_cummulative)\n",
        "\n",
        "  auxdf = create_df(X_cummulative,X.columns,y_cummulative,\"action_taken\")\n",
        "  if(i%10==0):\n",
        "    print(i,show_subgroups(auxdf,False,False)[4])\n",
        "\n"
      ],
      "metadata": {
        "id": "JYE4Gxnl0f_m",
        "outputId": "afe6b0f8-53e9-4369-9e82-9eefe09640e0",
        "colab": {
          "base_uri": "https://localhost:8080/",
          "height": 323
        }
      },
      "execution_count": null,
      "outputs": [
        {
          "output_type": "stream",
          "name": "stdout",
          "text": [
            "10 [81.23, 77.69, 75.53, 70.21, 64.64, 62.41, 71.84, 61.64]\n",
            "20 [82.89, 80.29, 79.64, 75.93, 71.11, 68.42, 72.33, 67.25]\n",
            "30 [81.61, 78.07, 79.25, 74.66, 68.37, 64.51, 73.32, 67.19]\n",
            "40 [81.21, 78.38, 80.76, 77.63, 69.47, 67.1, 74.25, 71.43]\n",
            "50 [81.48, 78.6, 80.51, 77.62, 70.48, 67.65, 75.23, 71.23]\n",
            "60 [81.29, 77.85, 80.37, 77.56, 69.12, 65.05, 73.94, 67.89]\n",
            "70 [81.72, 78.26, 80.37, 77.74, 69.55, 65.21, 74.0, 67.32]\n",
            "80 [82.08, 78.8, 80.4, 77.79, 69.8, 65.57, 74.08, 67.59]\n",
            "90 [81.33, 77.7, 79.63, 76.89, 68.78, 63.87, 72.96, 67.16]\n"
          ]
        },
        {
          "output_type": "display_data",
          "data": {
            "text/plain": [
              "<Figure size 432x288 with 0 Axes>"
            ]
          },
          "metadata": {}
        },
        {
          "output_type": "display_data",
          "data": {
            "text/plain": [
              "<Figure size 432x288 with 0 Axes>"
            ]
          },
          "metadata": {}
        },
        {
          "output_type": "display_data",
          "data": {
            "text/plain": [
              "<Figure size 432x288 with 0 Axes>"
            ]
          },
          "metadata": {}
        },
        {
          "output_type": "display_data",
          "data": {
            "text/plain": [
              "<Figure size 432x288 with 0 Axes>"
            ]
          },
          "metadata": {}
        },
        {
          "output_type": "display_data",
          "data": {
            "text/plain": [
              "<Figure size 432x288 with 0 Axes>"
            ]
          },
          "metadata": {}
        },
        {
          "output_type": "display_data",
          "data": {
            "text/plain": [
              "<Figure size 432x288 with 0 Axes>"
            ]
          },
          "metadata": {}
        },
        {
          "output_type": "display_data",
          "data": {
            "text/plain": [
              "<Figure size 432x288 with 0 Axes>"
            ]
          },
          "metadata": {}
        },
        {
          "output_type": "display_data",
          "data": {
            "text/plain": [
              "<Figure size 432x288 with 0 Axes>"
            ]
          },
          "metadata": {}
        },
        {
          "output_type": "display_data",
          "data": {
            "text/plain": [
              "<Figure size 432x288 with 0 Axes>"
            ]
          },
          "metadata": {}
        }
      ]
    },
    {
      "cell_type": "code",
      "source": [
        "subgroups[4] #fatal, les etiquetes reals son mes esbiaixades que les predicted finals..."
      ],
      "metadata": {
        "id": "WKPvFgR9uBmz",
        "outputId": "3075d0ec-d9ec-4352-e07e-23a435a76823",
        "colab": {
          "base_uri": "https://localhost:8080/"
        }
      },
      "execution_count": null,
      "outputs": [
        {
          "output_type": "execute_result",
          "data": {
            "text/plain": [
              "[85.55, 81.93, 82.84, 79.94, 71.03, 66.35, 74.71, 67.31]"
            ]
          },
          "metadata": {},
          "execution_count": 43
        }
      ]
    },
    {
      "cell_type": "code",
      "source": [
        "\"\"\"\n",
        "10 [84.51, 81.81, 79.41, 73.13, 68.18, 65.54, 79.52, 54.41]\n",
        "20 [82.94, 80.03, 77.15, 70.95, 66.9, 64.76, 73.01, 60.28]\n",
        "30 [81.95, 78.98, 75.96, 71.21, 67.34, 64.76, 69.11, 60.74]\n",
        "40 [81.36, 79.04, 77.45, 73.04, 68.72, 67.08, 69.18, 63.5]\n",
        "50 [79.78, 75.68, 77.53, 71.57, 66.13, 62.07, 68.43, 61.71]\n",
        "60 [79.83, 76.3, 78.12, 72.9, 66.17, 62.5, 69.57, 63.9]\n",
        "70 [80.48, 77.38, 80.48, 76.82, 67.76, 64.74, 71.43, 66.1]\n",
        "80 [81.11, 78.19, 80.96, 77.42, 69.64, 66.74, 73.26, 69.35]\n",
        "90 [80.2, 77.41, 79.77, 76.32, 67.41, 65.23, 70.57, 66.71]\n",
        "\"\"\"\n",
        "print(model.score(scaler.fit_transform(X),y))\n",
        "#print(model.score(X_cummulative,y_cummulative))"
      ],
      "metadata": {
        "id": "Yimq6gIi7aGc",
        "outputId": "a74a70f8-0ddb-4738-843a-c7ef59fa4c6b",
        "colab": {
          "base_uri": "https://localhost:8080/"
        }
      },
      "execution_count": null,
      "outputs": [
        {
          "output_type": "stream",
          "name": "stdout",
          "text": [
            "0.9379030918335364\n"
          ]
        }
      ]
    },
    {
      "cell_type": "code",
      "execution_count": null,
      "metadata": {
        "id": "tOvA3aimag7j"
      },
      "outputs": [],
      "source": [
        "# Import train_test_split\n",
        "from sklearn.model_selection import train_test_split\n",
        "# Split into train and test sets\n",
        "X_train, X_test, y_train, y_test = train_test_split(X,\n",
        "                                y,\n",
        "                                test_size=0.3,\n",
        "                                random_state=2)\n",
        "\n",
        "X_test1, X_test2, y_test1, y_test2 = train_test_split(X_test,\n",
        "                                y_test,\n",
        "                                test_size=0.33,\n",
        "                                random_state=2)"
      ]
    },
    {
      "cell_type": "code",
      "execution_count": null,
      "metadata": {
        "id": "y7CWMPCzcjD1"
      },
      "outputs": [],
      "source": [
        "# Instantiate MinMaxScaler and use it to rescale X_train and X_test\n",
        "scaler = MinMaxScaler(feature_range=(0, 1))\n",
        "rescaledX = scaler.fit_transform(X)\n",
        "rescaledX_train = scaler.fit_transform(X_train)\n",
        "rescaledX_test = scaler.fit_transform(X_test)\n",
        "rescaledX_test1 = scaler.fit_transform(X_test1)\n",
        "rescaledX_test2 = scaler.fit_transform(X_test2)"
      ]
    },
    {
      "cell_type": "code",
      "source": [
        "\n",
        "# Instantiate a LogisticRegression classifier with default parameter values\n",
        "logreg = LogisticRegression(solver=\"liblinear\")\n",
        "\n",
        "scores_dict = cross_validate(logreg,rescaledX_train,y_train,cv=5, return_estimator=True)\n",
        "best = scores_dict[\"estimator\"][0] \n",
        "# Fit logreg to the train set\n",
        "#logreg.fit(X_train, y_train)\n",
        "\n",
        "#y_pred = logreg.predict(X_test)\n",
        "#from collections import Counter\n",
        "#counterpred = Counter(y_pred)\n",
        "#countertest = Counter(y_test)\n",
        "#print(counterpred, countertest)\n",
        "#print(\"Accuracy of logistic regression classifier: \", logreg.score(X_test, y_test))"
      ],
      "metadata": {
        "id": "MRJCEA-HLdc-"
      },
      "execution_count": null,
      "outputs": []
    },
    {
      "cell_type": "code",
      "execution_count": null,
      "metadata": {
        "id": "fuE_J5U_cjF9",
        "outputId": "b0945c41-74a9-4050-e54a-e72daa26b15b",
        "colab": {
          "base_uri": "https://localhost:8080/"
        }
      },
      "outputs": [
        {
          "output_type": "stream",
          "name": "stdout",
          "text": [
            "Counter({1: 198709, 0: 46905}) Counter({1: 200515, 0: 45099}) Counter({1: 998322, 0: 223639})\n",
            "Accuracy of logistic regression classifier:  0.9773954253422036\n",
            "Counter({1: 98016, 0: 22959}) Counter({1: 98849, 0: 22126}) Counter({1: 998322, 0: 223639})\n",
            "Accuracy of logistic regression classifier:  0.9772928290969208\n",
            "Accuracy of logistic regression classifier:  0.8218179745454249\n",
            "Accuracy of logistic regression classifier:  0.8222938623682579\n"
          ]
        }
      ],
      "source": [
        "# Import LogisticRegression\n",
        "from sklearn.linear_model import LogisticRegression\n",
        "\n",
        "logregRescaled = LogisticRegression(solver=\"liblinear\")\n",
        "logregRescaled.fit(rescaledX_train, y_train)\n",
        "\n",
        "logreg = LogisticRegression(solver=\"liblinear\")\n",
        "logreg.fit(X_train, y_train)\n",
        "\n",
        "y_pred = logregRescaled.predict(rescaledX_test1)\n",
        "from collections import Counter\n",
        "counterpred = Counter(y_pred)\n",
        "countertest = Counter(y_test1)\n",
        "counterall = Counter(y)\n",
        "print(counterpred, countertest, counterall)\n",
        "print(\"Accuracy of logistic regression classifier: \", logregRescaled.score(rescaledX_test1, y_test1))\n",
        "\n",
        "\n",
        "y_pred = logregRescaled.predict(rescaledX_test2)\n",
        "from collections import Counter\n",
        "counterpred = Counter(y_pred)\n",
        "countertest = Counter(y_test2)\n",
        "counterall = Counter(y)\n",
        "print(counterpred, countertest, counterall)\n",
        "print(\"Accuracy of logistic regression classifier: \", logregRescaled.score(rescaledX_test2, y_test2))\n",
        "\n",
        "print(\"Accuracy of logistic regression classifier: \", logreg.score(X_test1, y_test1))\n",
        "print(\"Accuracy of logistic regression classifier: \", logreg.score(X_test2, y_test2))\n",
        "\n"
      ]
    },
    {
      "cell_type": "code",
      "source": [
        "\n",
        "y_pred = best.predict(rescaledX_test1)\n",
        "from collections import Counter\n",
        "counterpred = Counter(y_pred)\n",
        "countertest = Counter(y_test1)\n",
        "counterall = Counter(y)\n",
        "print(counterpred, countertest, counterall)\n",
        "print(\"Accuracy of logistic regression classifier: \", best.score(rescaledX_test1, y_test1))\n",
        "\n",
        "\n",
        "y_pred = best.predict(rescaledX_test2)\n",
        "from collections import Counter\n",
        "counterpred = Counter(y_pred)\n",
        "countertest = Counter(y_test2)\n",
        "counterall = Counter(y)\n",
        "print(counterpred, countertest, counterall)\n",
        "print(\"Accuracy of logistic regression classifier: \", best.score(rescaledX_test2, y_test2))"
      ],
      "metadata": {
        "id": "b5Cx-lyls6et",
        "outputId": "09cf7dd2-6955-44a8-811a-46ac5850124a",
        "colab": {
          "base_uri": "https://localhost:8080/"
        }
      },
      "execution_count": null,
      "outputs": [
        {
          "output_type": "stream",
          "name": "stdout",
          "text": [
            "Counter({1: 198726, 0: 46888}) Counter({1: 200515, 0: 45099}) Counter({1: 998322, 0: 223639})\n",
            "Accuracy of logistic regression classifier:  0.9774483539211934\n",
            "Counter({1: 98022, 0: 22953}) Counter({1: 98849, 0: 22126}) Counter({1: 998322, 0: 223639})\n",
            "Accuracy of logistic regression classifier:  0.9773093614383137\n"
          ]
        }
      ]
    },
    {
      "cell_type": "code",
      "source": [
        "y_pred_NO = best.predict(rescaledX_test[y_test==0])\n",
        "counterpred_NO = Counter(y_pred_NO)\n",
        "print(counterpred_NO)\n",
        "print(\"Accuracy: \", best.score(rescaledX_test[y_test==0], y_test[y_test==0]))"
      ],
      "metadata": {
        "id": "rRN5Xl00cRLv",
        "outputId": "1f8bd93e-c1b2-4a36-9188-e36ca8d476ba",
        "colab": {
          "base_uri": "https://localhost:8080/"
        }
      },
      "execution_count": null,
      "outputs": [
        {
          "output_type": "stream",
          "name": "stdout",
          "text": [
            "Counter({0: 64391, 1: 2834})\n",
            "Accuracy:  0.9578430643361845\n"
          ]
        }
      ]
    },
    {
      "cell_type": "code",
      "execution_count": null,
      "metadata": {
        "id": "q_gISvk7hqzK",
        "outputId": "cf192108-3a79-40ae-b265-0186001791f6",
        "colab": {
          "base_uri": "https://localhost:8080/"
        }
      },
      "outputs": [
        {
          "output_type": "stream",
          "name": "stdout",
          "text": [
            "Counter({1: 299033, 0: 67556}) Counter({1: 299394, 0: 67195}) Counter({1: 299364, 0: 67225}) Counter({1: 998322, 0: 223639})\n",
            "Accuracy of DecisionTreeClassifier:  0.9966856615992297\n",
            "Accuracy of DecisionTreeClassifier:  0.9985542392161249\n"
          ]
        }
      ],
      "source": [
        "# Import LogisticRegression\n",
        "from sklearn.tree import DecisionTreeClassifier\n",
        "\n",
        "# Instantiate a LogisticRegression classifier with default parameter values\n",
        "dtcRescaled = DecisionTreeClassifier()\n",
        "dtc = DecisionTreeClassifier()\n",
        "\n",
        "# Fit logreg to the train set\n",
        "dtcRescaled.fit(rescaledX_train, y_train)\n",
        "dtc.fit(X_train, y_train)\n",
        "\n",
        "y_predRescaled = dtcRescaled.predict(rescaledX_test)\n",
        "y_pred = dtc.predict(X_test)\n",
        "\n",
        "counterpredRescaled = Counter(y_predRescaled)\n",
        "counterpred = Counter(y_pred)\n",
        "countertest = Counter(y_test)\n",
        "counterall = Counter(y)\n",
        "print(counterpredRescaled,counterpred, countertest, counterall)\n",
        "\n",
        "print(\"Accuracy of DecisionTreeClassifier: \", dtcRescaled.score(rescaledX_test, y_test))\n",
        "print(\"Accuracy of DecisionTreeClassifier: \", dtc.score(X_test, y_test))"
      ]
    },
    {
      "cell_type": "code",
      "source": [
        "y_pred_NO = dtc.predict(X_test.loc[y_test==0])\n",
        "counterpred_NO = Counter(y_pred_NO)\n",
        "print(counterpred_NO)"
      ],
      "metadata": {
        "id": "2KIsL4s6dYCm",
        "outputId": "7c95ff6c-7ee4-4257-9343-ea2495899a7f",
        "colab": {
          "base_uri": "https://localhost:8080/"
        }
      },
      "execution_count": null,
      "outputs": [
        {
          "output_type": "stream",
          "name": "stdout",
          "text": [
            "Counter({0: 66945, 1: 280})\n"
          ]
        }
      ]
    },
    {
      "cell_type": "code",
      "execution_count": null,
      "metadata": {
        "id": "O32dGoYAnAx3"
      },
      "outputs": [],
      "source": [
        "#from lightgbm import LGBMClassifier\n",
        "#from sklearn.metrics import roc_curve, auc  #Metrics\n",
        "#https://www.kaggle.com/code/ambarish/machine-learning-explainability-omnibus/notebook#Modelling\n",
        "#logreg = LGBMClassifier(random_state=1).fit(rescaledX_train, y_train)\n",
        "#y_pred = logreg.predict_proba(X_test)\n",
        "#print(y_pred)\n",
        "#fpr, tpr, thresholds = roc_curve(y_test, y_pred[:,1])\n",
        "#auc(fpr, tpr)\n"
      ]
    },
    {
      "cell_type": "code",
      "execution_count": null,
      "metadata": {
        "id": "Z1hh0UwCcmPV"
      },
      "outputs": [],
      "source": [
        "dicPeople = {}\n",
        "#beta a actualitzar\n",
        "beta_params = {'a': 3.107176300758434, 'b': 16.54733270043585, 'loc': -28571.959896180033, 'scale': 1537159.8560307096}\n",
        "#beta_params = {'a': 1.6482043459921234, 'b': 17.37597209939366, 'loc': -2.847383506741794, 'scale': 2025.6530553459547}\n",
        "\n",
        "for i in range(len(X_test)):\n",
        "  loan = round(1000 * beta.rvs(beta_params['a'],beta_params[\"b\"],beta_params[\"loc\"],beta_params[\"scale\"]))\n",
        "  #loan = subsample.iloc[i][\"loan_amount\"]*1000 #TODO:FATAL, els loans no concorden amb els individus a X_test en absolut\n",
        "  if (loan<=0.0):\n",
        "    loan=10000\n",
        "  p = Person(i,loan)\n",
        "  dicPeople[i] = p\n",
        "#print(len(dicPeople.keys()))\n",
        "#print([(item.id,item.petition) for item in dicPeople.values() if item.happiness<50])"
      ]
    },
    {
      "cell_type": "code",
      "execution_count": null,
      "metadata": {
        "id": "uxzuG2OBj1Vf",
        "outputId": "a80286da-4f52-4558-84e6-cea3b789732d",
        "colab": {
          "base_uri": "https://localhost:8080/"
        }
      },
      "outputs": [
        {
          "output_type": "stream",
          "name": "stdout",
          "text": [
            "[0 1]\n"
          ]
        }
      ],
      "source": [
        "print(np.unique(y_pred))"
      ]
    },
    {
      "cell_type": "code",
      "execution_count": null,
      "metadata": {
        "id": "4nO6JV03h8oY"
      },
      "outputs": [],
      "source": [
        "for i in range(len(y_pred)):\n",
        "  if(y_pred[i]==1):\n",
        "    dicPeople[i].balance = dicPeople[i].petition\n",
        "  dicPeople[i].updateH()\n",
        "  dicPeople[i].status = y_pred[i]\n",
        "\n",
        "#print([(item.id,item.petition,item.happiness,item.status) for item in dicPeople.values() if item.happiness<50])"
      ]
    },
    {
      "cell_type": "code",
      "execution_count": null,
      "metadata": {
        "id": "b96QIH2RlozH",
        "outputId": "58d3f2a5-a5e0-4647-d59a-aab11746f470",
        "colab": {
          "base_uri": "https://localhost:8080/",
          "height": 282
        }
      },
      "outputs": [
        {
          "output_type": "stream",
          "name": "stdout",
          "text": [
            "[29866203.696074534]\n"
          ]
        },
        {
          "output_type": "display_data",
          "data": {
            "text/plain": [
              "<Figure size 432x288 with 1 Axes>"
            ],
            "image/png": "[encoded data removed]"
          },
          "metadata": {
            "needs_background": "light"
          }
        }
      ],
      "source": [
        "h_arr = [(item.happiness) for item in dicPeople.values()]\n",
        "plt.hist(h_arr)\n",
        "print([sum(item.happiness for item in dicPeople.values())])"
      ]
    },
    {
      "cell_type": "code",
      "execution_count": null,
      "metadata": {
        "id": "NJBhJRgOflkK"
      },
      "outputs": [],
      "source": [
        "#print(X.columns, X.iloc[0])\n",
        "#categorical_col=[\"hoepa_status\", \"loan_type\", \"as_of_year\", \"applicant_ethnicity\", \"county_code\", \"state_code\", \"lien_status\", \"loan_purpose\", \"co_applicant_race_1\", \"co_applicant_ethnicity\", \"property_type\", \"owner_occupancy\", \"applicant_sex\", \"preapproval\", \"agency_code\", \"applicant_race_1\", \"co_applicant_sex\"]\n",
        "noncategorical_col = [\"loan_amount\",\"tract_minority_population_percent\",\"tract_median_age_of_housing_units\",\n",
        "                      \"derived_msa-md\",\"income\",\"tract_population\",\"tract_one_to_four_family_homes\",\n",
        "                      \"tract_owner_occupied_units\",\"ffiec_msa_md_median_family_income\",\"tract_to_msa_income_percentage\"]\n",
        "categorical_col=list(set(X.columns).difference(set(noncategorical_col)))\n",
        "categorial_ind = []\n",
        "for c in categorical_col:\n",
        "  categorial_ind.append(list(X.columns).index(c))"
      ]
    },
    {
      "cell_type": "code",
      "execution_count": null,
      "metadata": {
        "id": "3PcqhLPWWLNw",
        "outputId": "64d87602-fbd4-443e-f942-da29853dd5b4",
        "colab": {
          "base_uri": "https://localhost:8080/",
          "height": 340
        }
      },
      "outputs": [
        {
          "output_type": "error",
          "ename": "KeyboardInterrupt",
          "evalue": "ignored",
          "traceback": [
            "\u001b[0;31m---------------------------------------------------------------------------\u001b[0m",
            "\u001b[0;31mKeyboardInterrupt\u001b[0m                         Traceback (most recent call last)",
            "\u001b[0;32m<ipython-input-42-82c7a00076f0>\u001b[0m in \u001b[0;36m<module>\u001b[0;34m()\u001b[0m\n\u001b[1;32m      4\u001b[0m \u001b[0;31m#oversample = SMOTE()\u001b[0m\u001b[0;34m\u001b[0m\u001b[0;34m\u001b[0m\u001b[0;34m\u001b[0m\u001b[0m\n\u001b[1;32m      5\u001b[0m \u001b[0moversample\u001b[0m \u001b[0;34m=\u001b[0m \u001b[0mSMOTENC\u001b[0m\u001b[0;34m(\u001b[0m\u001b[0mcategorical_features\u001b[0m\u001b[0;34m=\u001b[0m\u001b[0mcategorial_ind\u001b[0m\u001b[0;34m)\u001b[0m\u001b[0;34m\u001b[0m\u001b[0;34m\u001b[0m\u001b[0m\n\u001b[0;32m----> 6\u001b[0;31m \u001b[0mXsmote\u001b[0m\u001b[0;34m,\u001b[0m \u001b[0mysmote\u001b[0m \u001b[0;34m=\u001b[0m \u001b[0moversample\u001b[0m\u001b[0;34m.\u001b[0m\u001b[0mfit_resample\u001b[0m\u001b[0;34m(\u001b[0m\u001b[0mrescaledX_test2\u001b[0m\u001b[0;34m,\u001b[0m \u001b[0my_test2\u001b[0m\u001b[0;34m)\u001b[0m\u001b[0;34m\u001b[0m\u001b[0;34m\u001b[0m\u001b[0m\n\u001b[0m",
            "\u001b[0;32m/usr/local/lib/python3.7/dist-packages/imblearn/base.py\u001b[0m in \u001b[0;36mfit_resample\u001b[0;34m(self, X, y)\u001b[0m\n\u001b[1;32m     81\u001b[0m         )\n\u001b[1;32m     82\u001b[0m \u001b[0;34m\u001b[0m\u001b[0m\n\u001b[0;32m---> 83\u001b[0;31m         \u001b[0moutput\u001b[0m \u001b[0;34m=\u001b[0m \u001b[0mself\u001b[0m\u001b[0;34m.\u001b[0m\u001b[0m_fit_resample\u001b[0m\u001b[0;34m(\u001b[0m\u001b[0mX\u001b[0m\u001b[0;34m,\u001b[0m \u001b[0my\u001b[0m\u001b[0;34m)\u001b[0m\u001b[0;34m\u001b[0m\u001b[0;34m\u001b[0m\u001b[0m\n\u001b[0m\u001b[1;32m     84\u001b[0m \u001b[0;34m\u001b[0m\u001b[0m\n\u001b[1;32m     85\u001b[0m         y_ = (\n",
            "\u001b[0;32m/usr/local/lib/python3.7/dist-packages/imblearn/over_sampling/_smote/base.py\u001b[0m in \u001b[0;36m_fit_resample\u001b[0;34m(self, X, y)\u001b[0m\n\u001b[1;32m    521\u001b[0m         \u001b[0mX_res_cat\u001b[0m \u001b[0;34m=\u001b[0m \u001b[0mX_resampled\u001b[0m\u001b[0;34m[\u001b[0m\u001b[0;34m:\u001b[0m\u001b[0;34m,\u001b[0m \u001b[0mself\u001b[0m\u001b[0;34m.\u001b[0m\u001b[0mcontinuous_features_\u001b[0m\u001b[0;34m.\u001b[0m\u001b[0msize\u001b[0m \u001b[0;34m:\u001b[0m\u001b[0;34m]\u001b[0m\u001b[0;34m\u001b[0m\u001b[0;34m\u001b[0m\u001b[0m\n\u001b[1;32m    522\u001b[0m         \u001b[0mX_res_cat\u001b[0m\u001b[0;34m.\u001b[0m\u001b[0mdata\u001b[0m \u001b[0;34m=\u001b[0m \u001b[0mnp\u001b[0m\u001b[0;34m.\u001b[0m\u001b[0mones_like\u001b[0m\u001b[0;34m(\u001b[0m\u001b[0mX_res_cat\u001b[0m\u001b[0;34m.\u001b[0m\u001b[0mdata\u001b[0m\u001b[0;34m)\u001b[0m\u001b[0;34m\u001b[0m\u001b[0;34m\u001b[0m\u001b[0m\n\u001b[0;32m--> 523\u001b[0;31m         \u001b[0mX_res_cat_dec\u001b[0m \u001b[0;34m=\u001b[0m \u001b[0mself\u001b[0m\u001b[0;34m.\u001b[0m\u001b[0mohe_\u001b[0m\u001b[0;34m.\u001b[0m\u001b[0minverse_transform\u001b[0m\u001b[0;34m(\u001b[0m\u001b[0mX_res_cat\u001b[0m\u001b[0;34m)\u001b[0m\u001b[0;34m\u001b[0m\u001b[0;34m\u001b[0m\u001b[0m\n\u001b[0m\u001b[1;32m    524\u001b[0m \u001b[0;34m\u001b[0m\u001b[0m\n\u001b[1;32m    525\u001b[0m         \u001b[0;32mif\u001b[0m \u001b[0msparse\u001b[0m\u001b[0;34m.\u001b[0m\u001b[0missparse\u001b[0m\u001b[0;34m(\u001b[0m\u001b[0mX\u001b[0m\u001b[0;34m)\u001b[0m\u001b[0;34m:\u001b[0m\u001b[0;34m\u001b[0m\u001b[0;34m\u001b[0m\u001b[0m\n",
            "\u001b[0;32m/usr/local/lib/python3.7/dist-packages/sklearn/preprocessing/_encoders.py\u001b[0m in \u001b[0;36minverse_transform\u001b[0;34m(self, X)\u001b[0m\n\u001b[1;32m    622\u001b[0m             \u001b[0msub\u001b[0m \u001b[0;34m=\u001b[0m \u001b[0mX\u001b[0m\u001b[0;34m[\u001b[0m\u001b[0;34m:\u001b[0m\u001b[0;34m,\u001b[0m \u001b[0mj\u001b[0m \u001b[0;34m:\u001b[0m \u001b[0mj\u001b[0m \u001b[0;34m+\u001b[0m \u001b[0mn_categories\u001b[0m\u001b[0;34m]\u001b[0m\u001b[0;34m\u001b[0m\u001b[0;34m\u001b[0m\u001b[0m\n\u001b[1;32m    623\u001b[0m             \u001b[0;31m# for sparse X argmax returns 2D matrix, ensure 1D array\u001b[0m\u001b[0;34m\u001b[0m\u001b[0;34m\u001b[0m\u001b[0;34m\u001b[0m\u001b[0m\n\u001b[0;32m--> 624\u001b[0;31m             \u001b[0mlabels\u001b[0m \u001b[0;34m=\u001b[0m \u001b[0mnp\u001b[0m\u001b[0;34m.\u001b[0m\u001b[0masarray\u001b[0m\u001b[0;34m(\u001b[0m\u001b[0msub\u001b[0m\u001b[0;34m.\u001b[0m\u001b[0margmax\u001b[0m\u001b[0;34m(\u001b[0m\u001b[0maxis\u001b[0m\u001b[0;34m=\u001b[0m\u001b[0;36m1\u001b[0m\u001b[0;34m)\u001b[0m\u001b[0;34m)\u001b[0m\u001b[0;34m.\u001b[0m\u001b[0mflatten\u001b[0m\u001b[0;34m(\u001b[0m\u001b[0;34m)\u001b[0m\u001b[0;34m\u001b[0m\u001b[0;34m\u001b[0m\u001b[0m\n\u001b[0m\u001b[1;32m    625\u001b[0m             \u001b[0mX_tr\u001b[0m\u001b[0;34m[\u001b[0m\u001b[0;34m:\u001b[0m\u001b[0;34m,\u001b[0m \u001b[0mi\u001b[0m\u001b[0;34m]\u001b[0m \u001b[0;34m=\u001b[0m \u001b[0mcats\u001b[0m\u001b[0;34m[\u001b[0m\u001b[0mlabels\u001b[0m\u001b[0;34m]\u001b[0m\u001b[0;34m\u001b[0m\u001b[0;34m\u001b[0m\u001b[0m\n\u001b[1;32m    626\u001b[0m             \u001b[0;32mif\u001b[0m \u001b[0mself\u001b[0m\u001b[0;34m.\u001b[0m\u001b[0mhandle_unknown\u001b[0m \u001b[0;34m==\u001b[0m \u001b[0;34m\"ignore\"\u001b[0m\u001b[0;34m:\u001b[0m\u001b[0;34m\u001b[0m\u001b[0;34m\u001b[0m\u001b[0m\n",
            "\u001b[0;32m/usr/local/lib/python3.7/dist-packages/scipy/sparse/data.py\u001b[0m in \u001b[0;36margmax\u001b[0;34m(self, axis, out)\u001b[0m\n\u001b[1;32m    374\u001b[0m             \u001b[0mIndices\u001b[0m \u001b[0mof\u001b[0m \u001b[0mmaximum\u001b[0m \u001b[0melements\u001b[0m\u001b[0;34m.\u001b[0m \u001b[0mIf\u001b[0m \u001b[0mmatrix\u001b[0m\u001b[0;34m,\u001b[0m \u001b[0mits\u001b[0m \u001b[0msize\u001b[0m \u001b[0malong\u001b[0m\u001b[0;31m \u001b[0m\u001b[0;31m`\u001b[0m\u001b[0maxis\u001b[0m\u001b[0;31m`\u001b[0m \u001b[0;32mis\u001b[0m \u001b[0;36m1.\u001b[0m\u001b[0;34m\u001b[0m\u001b[0;34m\u001b[0m\u001b[0m\n\u001b[1;32m    375\u001b[0m         \"\"\"\n\u001b[0;32m--> 376\u001b[0;31m         \u001b[0;32mreturn\u001b[0m \u001b[0mself\u001b[0m\u001b[0;34m.\u001b[0m\u001b[0m_arg_min_or_max\u001b[0m\u001b[0;34m(\u001b[0m\u001b[0maxis\u001b[0m\u001b[0;34m,\u001b[0m \u001b[0mout\u001b[0m\u001b[0;34m,\u001b[0m \u001b[0mnp\u001b[0m\u001b[0;34m.\u001b[0m\u001b[0margmax\u001b[0m\u001b[0;34m,\u001b[0m \u001b[0mnp\u001b[0m\u001b[0;34m.\u001b[0m\u001b[0mgreater\u001b[0m\u001b[0;34m)\u001b[0m\u001b[0;34m\u001b[0m\u001b[0;34m\u001b[0m\u001b[0m\n\u001b[0m\u001b[1;32m    377\u001b[0m \u001b[0;34m\u001b[0m\u001b[0m\n\u001b[1;32m    378\u001b[0m     \u001b[0;32mdef\u001b[0m \u001b[0margmin\u001b[0m\u001b[0;34m(\u001b[0m\u001b[0mself\u001b[0m\u001b[0;34m,\u001b[0m \u001b[0maxis\u001b[0m\u001b[0;34m=\u001b[0m\u001b[0;32mNone\u001b[0m\u001b[0;34m,\u001b[0m \u001b[0mout\u001b[0m\u001b[0;34m=\u001b[0m\u001b[0;32mNone\u001b[0m\u001b[0;34m)\u001b[0m\u001b[0;34m:\u001b[0m\u001b[0;34m\u001b[0m\u001b[0;34m\u001b[0m\u001b[0m\n",
            "\u001b[0;32m/usr/local/lib/python3.7/dist-packages/scipy/sparse/data.py\u001b[0m in \u001b[0;36m_arg_min_or_max\u001b[0;34m(self, axis, out, op, compare)\u001b[0m\n\u001b[1;32m    287\u001b[0m                             \u001b[0;32mreturn\u001b[0m \u001b[0mzero_ind\u001b[0m\u001b[0;34m\u001b[0m\u001b[0;34m\u001b[0m\u001b[0m\n\u001b[1;32m    288\u001b[0m \u001b[0;34m\u001b[0m\u001b[0m\n\u001b[0;32m--> 289\u001b[0;31m         \u001b[0;32mreturn\u001b[0m \u001b[0mself\u001b[0m\u001b[0;34m.\u001b[0m\u001b[0m_arg_min_or_max_axis\u001b[0m\u001b[0;34m(\u001b[0m\u001b[0maxis\u001b[0m\u001b[0;34m,\u001b[0m \u001b[0mop\u001b[0m\u001b[0;34m,\u001b[0m \u001b[0mcompare\u001b[0m\u001b[0;34m)\u001b[0m\u001b[0;34m\u001b[0m\u001b[0;34m\u001b[0m\u001b[0m\n\u001b[0m\u001b[1;32m    290\u001b[0m \u001b[0;34m\u001b[0m\u001b[0m\n\u001b[1;32m    291\u001b[0m     \u001b[0;32mdef\u001b[0m \u001b[0mmax\u001b[0m\u001b[0;34m(\u001b[0m\u001b[0mself\u001b[0m\u001b[0;34m,\u001b[0m \u001b[0maxis\u001b[0m\u001b[0;34m=\u001b[0m\u001b[0;32mNone\u001b[0m\u001b[0;34m,\u001b[0m \u001b[0mout\u001b[0m\u001b[0;34m=\u001b[0m\u001b[0;32mNone\u001b[0m\u001b[0;34m)\u001b[0m\u001b[0;34m:\u001b[0m\u001b[0;34m\u001b[0m\u001b[0;34m\u001b[0m\u001b[0m\n",
            "\u001b[0;32m/usr/local/lib/python3.7/dist-packages/scipy/sparse/data.py\u001b[0m in \u001b[0;36m_arg_min_or_max_axis\u001b[0;34m(self, axis, op, compare)\u001b[0m\n\u001b[1;32m    238\u001b[0m             \u001b[0mam\u001b[0m \u001b[0;34m=\u001b[0m \u001b[0mop\u001b[0m\u001b[0;34m(\u001b[0m\u001b[0mdata\u001b[0m\u001b[0;34m)\u001b[0m\u001b[0;34m\u001b[0m\u001b[0;34m\u001b[0m\u001b[0m\n\u001b[1;32m    239\u001b[0m             \u001b[0mm\u001b[0m \u001b[0;34m=\u001b[0m \u001b[0mdata\u001b[0m\u001b[0;34m[\u001b[0m\u001b[0mam\u001b[0m\u001b[0;34m]\u001b[0m\u001b[0;34m\u001b[0m\u001b[0;34m\u001b[0m\u001b[0m\n\u001b[0;32m--> 240\u001b[0;31m             \u001b[0;32mif\u001b[0m \u001b[0mcompare\u001b[0m\u001b[0;34m(\u001b[0m\u001b[0mm\u001b[0m\u001b[0;34m,\u001b[0m \u001b[0mzero\u001b[0m\u001b[0;34m)\u001b[0m \u001b[0;32mor\u001b[0m \u001b[0mq\u001b[0m \u001b[0;34m-\u001b[0m \u001b[0mp\u001b[0m \u001b[0;34m==\u001b[0m \u001b[0mline_size\u001b[0m\u001b[0;34m:\u001b[0m\u001b[0;34m\u001b[0m\u001b[0;34m\u001b[0m\u001b[0m\n\u001b[0m\u001b[1;32m    241\u001b[0m                 \u001b[0mret\u001b[0m\u001b[0;34m[\u001b[0m\u001b[0mi\u001b[0m\u001b[0;34m]\u001b[0m \u001b[0;34m=\u001b[0m \u001b[0mindices\u001b[0m\u001b[0;34m[\u001b[0m\u001b[0mam\u001b[0m\u001b[0;34m]\u001b[0m\u001b[0;34m\u001b[0m\u001b[0;34m\u001b[0m\u001b[0m\n\u001b[1;32m    242\u001b[0m             \u001b[0;32melse\u001b[0m\u001b[0;34m:\u001b[0m\u001b[0;34m\u001b[0m\u001b[0;34m\u001b[0m\u001b[0m\n",
            "\u001b[0;31mKeyboardInterrupt\u001b[0m: "
          ]
        }
      ],
      "source": [
        "from imblearn.over_sampling._smote.base import SMOTENC\n",
        "from imblearn.over_sampling import SMOTE\n",
        "\n",
        "#oversample = SMOTE()\n",
        "oversample = SMOTENC(categorical_features=categorial_ind)\n",
        "Xsmote, ysmote = oversample.fit_resample(rescaledX_test2, y_test2)\n"
      ]
    },
    {
      "cell_type": "code",
      "execution_count": null,
      "metadata": {
        "id": "-4xSXFjCbZ5Z"
      },
      "outputs": [],
      "source": [
        "#for c in range(len(subsample.columns)):\n",
        "#  print(c, subsample.columns[c], subsample.iloc[0][subsample.columns[c]])"
      ]
    },
    {
      "cell_type": "code",
      "execution_count": null,
      "metadata": {
        "id": "MPL_yizkWySL"
      },
      "outputs": [],
      "source": [
        "from collections import Counter\n",
        "print(Counter(ysmote))"
      ]
    },
    {
      "cell_type": "code",
      "execution_count": null,
      "metadata": {
        "id": "N7Se_qOvYVVw"
      },
      "outputs": [],
      "source": [
        "newX = Xsmote[len(rescaledX_test2):len(Xsmote)]\n",
        "newy = ysmote[len(y_test2):len(ysmote)]\n",
        "counter = Counter(newy)\n",
        "print(counter)\n",
        "\n",
        "y_newpred = best.predict(newX)\n",
        "print(\"Accuracy of logistic regression classifier: \", best.score(newX, newy))\n",
        "counter = Counter(y_newpred)\n",
        "print(counter)"
      ]
    },
    {
      "cell_type": "code",
      "execution_count": null,
      "metadata": {
        "id": "9ZYB16tVjrZH"
      },
      "outputs": [],
      "source": [
        "X_smotetrain, X_smotetest, y_smotetrain, y_smotetest = train_test_split(Xsmote,\n",
        "                                ysmote,\n",
        "                                test_size=0.1,\n",
        "                                random_state=2)\n",
        "\n",
        "print(Counter(y_smotetrain))\n",
        "\n",
        "print(Counter(y_smotetest))"
      ]
    },
    {
      "cell_type": "code",
      "source": [
        "print(\"Accuracy of logistic regression classifier: \", best.score(Xsmote, ysmote)) \n",
        "print(\"Accuracy of logistic regression classifier: \", best.score(newX, newy)) \n",
        "#newy"
      ],
      "metadata": {
        "id": "yWDGF-IzvOYi"
      },
      "execution_count": null,
      "outputs": []
    },
    {
      "cell_type": "code",
      "execution_count": null,
      "metadata": {
        "id": "ioSYWHm9jTSv"
      },
      "outputs": [],
      "source": [
        "logregSmote = LogisticRegression(solver=\"liblinear\")\n",
        "\n",
        "# Fit logreg to the train set\n",
        "logregSmote.fit(X_smotetrain, y_smotetrain)\n",
        "\n",
        "#y_smotepred = logregSmote.predict(X_smotetest)\n",
        "print(\"Accuracy of logistic regression classifier: \", logregSmote.score(X_smotetest, y_smotetest)) "
      ]
    },
    {
      "cell_type": "code",
      "execution_count": null,
      "metadata": {
        "id": "3g3RcL7aleeR"
      },
      "outputs": [],
      "source": [
        "#auxnparray = X_test.copy()\n",
        "#print(auxnparray.shape)\n",
        "#auxdf = pd.DataFrame(auxnparray, columns = X.columns)\n",
        "#auxdf[\"action_taken\"] = best.predict(rescaledX_test)"
      ]
    },
    {
      "cell_type": "code",
      "source": [
        "smotepred = create_df(Xsmote,X.columns,best.predict(Xsmote),\"action_taken\")\n",
        "smotedf = create_df(Xsmote,X.columns,ysmote,\"action_taken\")"
      ],
      "metadata": {
        "id": "ioXQ3bqZoLFT"
      },
      "execution_count": null,
      "outputs": []
    },
    {
      "cell_type": "code",
      "source": [
        "subgroups2 = show_subgroups(smotedf,True,True)"
      ],
      "metadata": {
        "id": "QUxGG38Vvqgu"
      },
      "execution_count": null,
      "outputs": []
    },
    {
      "cell_type": "code",
      "source": [
        "print(Counter(newy), len(newy[newy==0]))\n",
        "smotenew = create_df(newX,X.columns,newy,\"action_taken\")\n",
        "_ = show_subgroups(smotenew,True,True)"
      ],
      "metadata": {
        "id": "V7FAaSz3EXQg"
      },
      "execution_count": null,
      "outputs": []
    },
    {
      "cell_type": "code",
      "source": [
        "fig = plt.figure()\n",
        "ax = fig.add_axes([0,0,1,1])\n",
        "ax2 = fig.add_axes([1,0,1,1])\n",
        "ax.bar(subgroups[1],[len(s) for s in subgroups[0]])\n",
        "ax2.bar(subgroups2[1],[len(s) for s in subgroups2[0]])\n",
        "plt.show()"
      ],
      "metadata": {
        "id": "_dy93Jynq3xd"
      },
      "execution_count": null,
      "outputs": []
    },
    {
      "cell_type": "code",
      "source": [
        "fig = plt.figure()\n",
        "ax = fig.add_axes([0,0,1,1])\n",
        "ax2 = fig.add_axes([1,0,1,1])\n",
        "ax.set_ylim(30, 90)\n",
        "ax2.set_ylim(30, 90)\n",
        "ax.bar(subgroups[1],subgroups[4])\n",
        "ax2.bar(subgroups2[1],subgroups2[4])\n",
        "plt.show()\n",
        "print(subgroups[4],\"\\n\",subgroups2[4])"
      ],
      "metadata": {
        "id": "r2amv3edI2uq"
      },
      "execution_count": null,
      "outputs": []
    },
    {
      "cell_type": "code",
      "source": [
        "#smotetestpred = create_df(X_smotetest, X.columns, logregSmote.predict(X_smotetest), \"action_taken\")\n",
        "#subgroups3 = show_subgroups(smotetestpred,True,True)"
      ],
      "metadata": {
        "id": "LwuqG0fVxl0C"
      },
      "execution_count": null,
      "outputs": []
    },
    {
      "cell_type": "code",
      "execution_count": null,
      "metadata": {
        "id": "o0JjAhuCoW_p"
      },
      "outputs": [],
      "source": [
        "df = create_df(X_smotetest, X.columns, y_smotetest, \"action_taken\")\n",
        "print(Counter(df[\"action_taken\"]))\n",
        "subgroups4 = show_subgroups(df,True,True)\n",
        "dicPeople = {}\n",
        "beta_params = {'a': 1.6482043459921234, 'b': 17.37597209939366, 'loc': -2.847383506741794, 'scale': 2025.6530553459547}\n",
        "for i in range(len(df)):\n",
        "  #loan = round(1000 * beta.rvs(beta_params['a'],beta_params[\"b\"],beta_params[\"loc\"],beta_params[\"scale\"]))\n",
        "  loan = df.iloc[i][\"loan_amount\"]*1000\n",
        "  if (loan<=0.0):\n",
        "    loan=10000\n",
        "  p = Person(i,loan)\n",
        "  dicPeople[i] = p\n",
        "for i in range(len(df)):\n",
        "  if(df.iloc[i][\"action_taken\"]==1):\n",
        "    dicPeople[i].balance = dicPeople[i].petition\n",
        "  dicPeople[i].updateH()\n",
        "  dicPeople[i].status = df.iloc[i][\"action_taken\"]"
      ]
    },
    {
      "cell_type": "code",
      "execution_count": null,
      "metadata": {
        "id": "ynoEotPtppcB"
      },
      "outputs": [],
      "source": [
        "h_arr = [(item.happiness) for item in dicPeople.values()]\n",
        "plt.hist(h_arr)\n",
        "print([sum(item.happiness for item in dicPeople.values())])\n",
        "print(100*len(df[df['action_taken']==1]))\n",
        "print(len(df),len(df[df['action_taken']==1]), len(df[df['action_taken']==0]))"
      ]
    },
    {
      "cell_type": "code",
      "execution_count": null,
      "metadata": {
        "id": "Jw1FriY6ye26"
      },
      "outputs": [],
      "source": [
        "dicPeopleQ = {}\n",
        "beta_params = {'a': 1.6482043459921234, 'b': 17.37597209939366, 'loc': -2.847383506741794, 'scale': 2025.6530553459547}\n",
        "for i in range(len(df)):\n",
        "  #loan = round(1000 * beta.rvs(beta_params['a'],beta_params[\"b\"],beta_params[\"loc\"],beta_params[\"scale\"]))\n",
        "  loan = df.iloc[i][\"loan_amount\"]*1000\n",
        "  if (loan<=0.0):\n",
        "    loan=10000\n",
        "  p = Person(i,loan)\n",
        "  dicPeopleQ[i] = p\n",
        "\n",
        "#print(2*10**9-[sum(item.petition for item in dicPeople.values())][0])"
      ]
    },
    {
      "cell_type": "code",
      "execution_count": null,
      "metadata": {
        "id": "tLSVeeAd1frz"
      },
      "outputs": [],
      "source": [
        "def processActionBinary(w, index, action):\n",
        "  h=0\n",
        "  if(action==1):\n",
        "    w[\"dic\"][index].balance = w[\"dic\"][index].petition\n",
        "    h=w[\"dic\"][index].updateH()\n",
        "    w[\"money\"] -= w[\"dic\"][index].petition\n",
        "  w[\"dic\"][index].status = action\n",
        "  return w, h"
      ]
    },
    {
      "cell_type": "code",
      "source": [
        "def processActionFluent(w, index, action):\n",
        "  h=0\n",
        "  percentage = action/100\n",
        "  w[\"dic\"][index].balance = percentage*w[\"dic\"][index].petition\n",
        "  h=w[\"dic\"][index].updateH()\n",
        "  w[\"money\"] -= percentage*w[\"dic\"][index].petition\n",
        "  w[\"dic\"][index].status = action\n",
        "  return w, h"
      ],
      "metadata": {
        "id": "ocDGT-lCPpir"
      },
      "execution_count": null,
      "outputs": []
    },
    {
      "cell_type": "code",
      "execution_count": null,
      "metadata": {
        "id": "SsFbR4x0FCT7"
      },
      "outputs": [],
      "source": [
        "import random\n",
        "from IPython.display import clear_output\n",
        "world={}\n",
        "#world[\"dic\"] = dicPeopleQ.copy()\n",
        "#world[\"money\"] = (3/3)*[sum(item.petition for item in world.values())][0]\n",
        "#world[\"model\"] = logreg\n",
        "observation_space = X_smotetest\n",
        "binary_space = [0,1]\n",
        "fluent_space = range(0,100)\n",
        "action_space = binary_space#fluent_space\n",
        "processAction = processActionBinary#processActionFluent\n",
        "q_table = np.zeros([len(observation_space), len(action_space)])\n",
        "precomputed_labels = best.predict(X_smotetest);\n",
        "for i in range(len(precomputed_labels)):\n",
        "  q_table[i,1] = 100*precomputed_labels[i]\n",
        "  #q_table[i,99] = 100*precomputed_labels[i]\n",
        "print(100*len(precomputed_labels[precomputed_labels==1]))\n",
        "print(len(precomputed_labels),len(precomputed_labels[precomputed_labels==1]), len(precomputed_labels[precomputed_labels==0]))\n",
        "print(q_table)\n",
        "# Hyperparameters\n",
        "alpha = 0.1\n",
        "gamma = 0.6\n",
        "epsilon = 0.1"
      ]
    },
    {
      "cell_type": "code",
      "source": [
        "#max_rate=0\n",
        "#max_qtable=q_table.copy()"
      ],
      "metadata": {
        "id": "iZz4QiehVU2U"
      },
      "execution_count": null,
      "outputs": []
    },
    {
      "cell_type": "code",
      "execution_count": null,
      "metadata": {
        "id": "J_upqj9yrtHb"
      },
      "outputs": [],
      "source": [
        "import copy\n",
        "# For plotting metrics\n",
        "all_epochs = []\n",
        "for i in range(1, 500):\n",
        "    state = 0\n",
        "    world[\"dic\"] = copy.deepcopy(dicPeopleQ)\n",
        "\n",
        "    fraction_available = 1 #1/2 #2/3 #1\n",
        "    #top_rate = 100*len(world['dic'].values()) * fraction_available*[sum(item.petition for item in world[\"dic\"].values())][0]\n",
        "    \n",
        "    world[\"money\"] = fraction_available*[sum(item.petition for item in world[\"dic\"].values())][0]\n",
        "    reward = 0\n",
        "    done = False\n",
        "\n",
        "    #q_table = max_qtable.copy()\n",
        "\n",
        "    while not done:\n",
        "        if random.uniform(0, 1) < epsilon:\n",
        "            action = random.choice(action_space) # Explore action space\n",
        "        else:\n",
        "            action = np.argmax(q_table[state]) # Exploit learned values\n",
        "        #print(action)\n",
        "        world,reward = processAction(world,state,action) \n",
        "        \n",
        "        old_value = q_table[state, action]\n",
        "        next_max = np.max(q_table[state+1])\n",
        "        \n",
        "        new_value = (1 - alpha) * old_value + alpha * (reward + gamma * next_max)\n",
        "        q_table[state, action] = new_value\n",
        "\n",
        "        if (state==len(observation_space)-2 or world[\"money\"]<=0):\n",
        "          done = True\n",
        "        else:\n",
        "          state += 1\n",
        "\n",
        "    #rate = [sum(item.happiness for item in world['dic'].values())][0]*world[\"money\"]\n",
        "    #if (rate/top_rate > max_rate):\n",
        "    #  max_rate = rate/top_rate\n",
        "    #  max_qtable = q_table.copy()\n",
        "\n",
        "    if i % 5 == 0:\n",
        "        print(f\"Episode: {i}: {[sum(item.happiness for item in world['dic'].values())][0]} happiness achieved, {world['money']} remaining\")#, rate = {rate/top_rate}\")\n",
        "\n",
        "print(\"Training finished.\\n\")"
      ]
    },
    {
      "cell_type": "code",
      "source": [
        "#max_rate"
      ],
      "metadata": {
        "id": "piTTfQKrWh5U"
      },
      "execution_count": null,
      "outputs": []
    },
    {
      "cell_type": "code",
      "execution_count": null,
      "metadata": {
        "id": "8JmIZBAACww0"
      },
      "outputs": [],
      "source": [
        "achieved=[sum(item.happiness for item in world['dic'].values())][0]\n",
        "print(achieved)\n",
        "print([max(item.happiness for item in world['dic'].values())])\n",
        "print([min(item.happiness for item in world['dic'].values())])\n",
        "print(\"maximum possible:\",100*len(world['dic'].values()))\n",
        "print(achieved/(100*len(world['dic'].values())))\n",
        "print(fraction_available)\n",
        "\n"
      ]
    },
    {
      "cell_type": "markdown",
      "source": [
        "780332.3723712312\n",
        "\n",
        "[99.68476908167399]\n",
        "\n",
        "[0.0]\n",
        "\n",
        "maximum possible: 959400\n",
        "\n",
        "7486508780.5295925\n",
        "\n",
        "0.6666666666666666"
      ],
      "metadata": {
        "id": "z1LTno8rN2yb"
      }
    },
    {
      "cell_type": "code",
      "execution_count": null,
      "metadata": {
        "id": "qr7SbYiEDDSS"
      },
      "outputs": [],
      "source": [
        "for s in [-1,0,1]:\n",
        "  print(len([item for item in world['dic'].values() if item.status==s]))"
      ]
    },
    {
      "cell_type": "code",
      "execution_count": null,
      "metadata": {
        "id": "88WF5UVtDZrj"
      },
      "outputs": [],
      "source": [
        "world[\"money\"]"
      ]
    },
    {
      "cell_type": "code",
      "execution_count": null,
      "metadata": {
        "id": "kkXsPmzCDjna"
      },
      "outputs": [],
      "source": [
        "Counter(precomputed_labels)"
      ]
    },
    {
      "cell_type": "code",
      "execution_count": null,
      "metadata": {
        "id": "Pxb9iQVsKKx0"
      },
      "outputs": [],
      "source": [
        "Counter(y_smotetest)"
      ]
    }
  ],
  "metadata": {
    "colab": {
      "collapsed_sections": [],
      "name": "Copy of HMDA_test.ipynb",
      "provenance": [],
      "mount_file_id": "1yzXR7S4JrPd05tN1RWm1mkHXLxopvB6m",
      "authorship_tag": "ABX9TyOgBNo4t+7Xw/wNYJaYPADC",
      "include_colab_link": true
    },
    "kernelspec": {
      "display_name": "Python 3",
      "name": "python3"
    },
    "language_info": {
      "name": "python"
    }
  },
  "nbformat": 4,
  "nbformat_minor": 0
}